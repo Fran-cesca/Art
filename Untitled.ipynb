{
 "cells": [
  {
   "cell_type": "code",
   "execution_count": 1,
   "id": "e56599bf",
   "metadata": {},
   "outputs": [],
   "source": [
    "import pandas as pd\n",
    "import csv\n",
    "import re"
   ]
  },
  {
   "cell_type": "markdown",
   "id": "e62849f7",
   "metadata": {},
   "source": [
    "# MoMa"
   ]
  },
  {
   "cell_type": "code",
   "execution_count": 2,
   "id": "8ffccf4e",
   "metadata": {},
   "outputs": [],
   "source": [
    "spreadsheet = pd.read_csv('https://media.githubusercontent.com/media/MuseumofModernArt/collection/master/Artworks.csv')\n",
    "pd.set_option('display.max_columns', None)\n",
    "MoMaArtworks = spreadsheet[['Title', 'Artist', 'ConstituentID', 'Nationality', 'BeginDate', 'EndDate', 'Gender', 'Date', 'Medium', 'CreditLine', 'Classification', 'Department', 'DateAcquired', 'URL']]\n",
    "MoMaArtists = pd.read_csv('https://media.githubusercontent.com/media/MuseumofModernArt/collection/master/Artists.csv')\n",
    "MoMaArtists[\"ConstituentID\"] = MoMaArtists[\"ConstituentID\"].astype(str)\n",
    "MoMa = pd.merge(MoMaArtworks,MoMaArtists[['ConstituentID', 'Wiki QID']],on='ConstituentID', how='left')\n",
    "MoMa.rename(columns = {'ConstituentID':'Id', 'BeginDate':'BirthDate', 'EndDate':'DeathDate'}, inplace = True)"
   ]
  },
  {
   "cell_type": "markdown",
   "id": "ad3eb34e",
   "metadata": {},
   "source": [
    "# Tate"
   ]
  },
  {
   "cell_type": "code",
   "execution_count": 3,
   "id": "230e2005",
   "metadata": {},
   "outputs": [
    {
     "name": "stderr",
     "output_type": "stream",
     "text": [
      "C:\\Users\\Francesca\\AppData\\Roaming\\Python\\Python39\\site-packages\\IPython\\core\\interactiveshell.py:3172: DtypeWarning: Columns (9,13) have mixed types.Specify dtype option on import or set low_memory=False.\n",
      "  has_raised = await self.run_ast_nodes(code_ast.body, cell_name,\n",
      "C:\\Users\\Francesca\\AppData\\Roaming\\Python\\Python39\\site-packages\\pandas\\core\\frame.py:4438: SettingWithCopyWarning: \n",
      "A value is trying to be set on a copy of a slice from a DataFrame\n",
      "\n",
      "See the caveats in the documentation: https://pandas.pydata.org/pandas-docs/stable/user_guide/indexing.html#returning-a-view-versus-a-copy\n",
      "  return super().rename(\n",
      "C:\\Users\\Francesca\\AppData\\Roaming\\Python\\Python39\\site-packages\\pandas\\core\\generic.py:5489: SettingWithCopyWarning: \n",
      "A value is trying to be set on a copy of a slice from a DataFrame.\n",
      "Try using .loc[row_indexer,col_indexer] = value instead\n",
      "\n",
      "See the caveats in the documentation: https://pandas.pydata.org/pandas-docs/stable/user_guide/indexing.html#returning-a-view-versus-a-copy\n",
      "  self[name] = value\n"
     ]
    }
   ],
   "source": [
    "spreadsheet = pd.read_csv('https://raw.githubusercontent.com/tategallery/collection/master/artwork_data.csv')\n",
    "pd.set_option('display.max_columns', None)\n",
    "TateArtworks = spreadsheet[['artist', 'artistId', 'title', 'medium', 'creditLine', 'year', 'acquisitionYear', 'url']]\n",
    "TateArtworks.rename(columns = {'artistId':'id'}, inplace = True)\n",
    "TateArtworks.id = TateArtworks.id.astype(str)\n",
    "TateArtists = pd.read_csv('https://raw.githubusercontent.com/tategallery/collection/master/artist_data.csv')\n",
    "TateArtists[\"id\"] = TateArtists[\"id\"].astype(str)\n",
    "Tate = pd.merge(TateArtworks,TateArtists[['id', 'gender', 'yearOfBirth', 'yearOfDeath']], on='id', how='left')\n",
    "Tate.rename(columns = {'artist':'Artist', 'id':'Id', 'title':'Title', 'yearOfBirth':'BirthDate', 'yearOfDeath':'DeathDate', 'medium':'Medium', 'creditLine':'CreditLine', 'year':'Date', 'acquisitionYear':'DateAcquired', 'url':'URL', 'gender':'Gender'}, inplace = True)"
   ]
  },
  {
   "cell_type": "markdown",
   "id": "4cbe6cdc",
   "metadata": {},
   "source": [
    "# Cleaning up"
   ]
  },
  {
   "cell_type": "markdown",
   "id": "685674f7",
   "metadata": {},
   "source": [
    "## MoMa"
   ]
  },
  {
   "cell_type": "markdown",
   "id": "312320f0",
   "metadata": {},
   "source": [
    "Let's get rid of nan values:"
   ]
  },
  {
   "cell_type": "code",
   "execution_count": 4,
   "id": "77df53c2",
   "metadata": {},
   "outputs": [],
   "source": [
    "MoMa.fillna(value='0', inplace=True)"
   ]
  },
  {
   "cell_type": "markdown",
   "id": "0ee439d9",
   "metadata": {},
   "source": [
    "Clean MoMa Acquisition Dates: they are on the form YYYY-MM-DD. We just want the YYYY as an int."
   ]
  },
  {
   "cell_type": "code",
   "execution_count": 5,
   "id": "ff21ea5e",
   "metadata": {},
   "outputs": [],
   "source": [
    "def cleanAcquisitionDatesMoMa(date):\n",
    "    if '-' in date:\n",
    "        date = date.split('-')[0]\n",
    "    return date"
   ]
  },
  {
   "cell_type": "code",
   "execution_count": 6,
   "id": "8bd34e79",
   "metadata": {},
   "outputs": [],
   "source": [
    "MoMa[\"DateAcquired\"] = MoMa[\"DateAcquired\"].apply(cleanAcquisitionDatesMoMa)"
   ]
  },
  {
   "cell_type": "markdown",
   "id": "6ddc69ef",
   "metadata": {},
   "source": [
    "Clean MoMa Artworks' Dates. <br>\n",
    "Indeed, they are in some unclear forms, such as:<br>\n",
    "(1950).  (Prints executed 1948<br>\n",
    "(1883, published 1897)<br>\n",
    "(1911, dated 1912, published c. 1917)<br>\n",
    "(April 9 and August 31, 1971)<br>\n",
    "(April 23) 1968<br>\n",
    "(journals published October 2003 through June 2004)<br>\n",
    "\n",
    "We just need the year."
   ]
  },
  {
   "cell_type": "code",
   "execution_count": 7,
   "id": "1f37e6b6",
   "metadata": {},
   "outputs": [],
   "source": [
    "def cleanDatesMoMa(date):\n",
    "    if '-' in date:\n",
    "        splitted = date.split('-')\n",
    "        date = ' '.join(splitted) \n",
    "    if '/' in date:\n",
    "        splitted = date.split('/')\n",
    "        date = ' '.join(splitted) \n",
    "    if ',' in date:\n",
    "        splitted = date.split(',')\n",
    "        date = ' '.join(splitted) \n",
    "    if '.' in date:\n",
    "        splitted = date.split('.')\n",
    "        date = ' '.join(splitted) \n",
    "        \n",
    "    x = re.search(\"\\d{4}\", date)\n",
    "    if x:\n",
    "        date = x.group()\n",
    "    else:\n",
    "        date = '0'\n",
    "    return date"
   ]
  },
  {
   "cell_type": "code",
   "execution_count": 8,
   "id": "55f3fb59",
   "metadata": {},
   "outputs": [],
   "source": [
    "MoMa[\"Date\"] = MoMa[\"Date\"].astype(str)\n",
    "MoMa[\"Date\"] = MoMa[\"Date\"].apply(cleanDatesMoMa)"
   ]
  },
  {
   "cell_type": "markdown",
   "id": "8d1529e9",
   "metadata": {},
   "source": [
    "## Tate"
   ]
  },
  {
   "cell_type": "markdown",
   "id": "f95b0188",
   "metadata": {},
   "source": [
    "Let's get rid of nan values and strings:"
   ]
  },
  {
   "cell_type": "code",
   "execution_count": 9,
   "id": "9be04376",
   "metadata": {},
   "outputs": [],
   "source": [
    "Tate.fillna(value='0', inplace=True)\n",
    "Tate['Date'].replace(to_replace='no date', value='0', inplace= True)\n",
    "Tate['Date'].replace(to_replace='c', value='0', inplace= True)"
   ]
  },
  {
   "cell_type": "markdown",
   "id": "3689e848",
   "metadata": {},
   "source": [
    "Clean Tate Acquisition and Artworks' Dates: they are on the form YYYY.0. We want an integer."
   ]
  },
  {
   "cell_type": "code",
   "execution_count": 10,
   "id": "2fd94497",
   "metadata": {},
   "outputs": [],
   "source": [
    "def cleanDatesTate(date):\n",
    "    if '.' in date:\n",
    "        date = date.split('.')[0] \n",
    "    return date"
   ]
  },
  {
   "cell_type": "code",
   "execution_count": 11,
   "id": "c851a9b4",
   "metadata": {},
   "outputs": [],
   "source": [
    "Tate[\"Date\"] = Tate[\"Date\"].astype(str)\n",
    "Tate[\"Date\"] = Tate[\"Date\"].apply(cleanDatesTate)\n",
    "\n",
    "Tate[\"DateAcquired\"] = Tate[\"DateAcquired\"].astype(str)\n",
    "Tate[\"DateAcquired\"] = Tate[\"DateAcquired\"].apply(cleanDatesTate)\n"
   ]
  },
  {
   "cell_type": "markdown",
   "id": "8443940f",
   "metadata": {},
   "source": [
    "# Exploration"
   ]
  },
  {
   "cell_type": "markdown",
   "id": "7aba335c",
   "metadata": {},
   "source": [
    "## How many artworks?"
   ]
  },
  {
   "cell_type": "code",
   "execution_count": 12,
   "id": "6c40b58b",
   "metadata": {},
   "outputs": [
    {
     "name": "stdout",
     "output_type": "stream",
     "text": [
      "Total artworks at Moma : 140848\n",
      "Total artworks at Tate : 69201\n"
     ]
    }
   ],
   "source": [
    "museums=[MoMa, Tate]\n",
    "names = ['Moma','Tate']\n",
    "for museum in museums:\n",
    "    selected_rows = museum[~museum['Title'].isnull()]\n",
    "    name = names.pop(0)\n",
    "    print(\"Total artworks at\", name, \":\", len(selected_rows.index))"
   ]
  },
  {
   "cell_type": "markdown",
   "id": "1573723f",
   "metadata": {},
   "source": [
    "## When do artworks date back?"
   ]
  },
  {
   "cell_type": "code",
   "execution_count": 13,
   "id": "5a78244a",
   "metadata": {},
   "outputs": [
    {
     "name": "stdout",
     "output_type": "stream",
     "text": [
      "Most ancient artwork at Moma dates back to 1768\n",
      "Most receny artwork at Moma dates back to 2022\n"
     ]
    },
    {
     "ename": "ValueError",
     "evalue": "invalid literal for int() with base 10: 'c'",
     "output_type": "error",
     "traceback": [
      "\u001b[1;31m---------------------------------------------------------------------------\u001b[0m",
      "\u001b[1;31mValueError\u001b[0m                                Traceback (most recent call last)",
      "\u001b[1;32mC:\\Users\\FRANCE~1\\AppData\\Local\\Temp/ipykernel_2316/699211519.py\u001b[0m in \u001b[0;36m<module>\u001b[1;34m\u001b[0m\n\u001b[0;32m      2\u001b[0m \u001b[0mnames\u001b[0m \u001b[1;33m=\u001b[0m \u001b[1;33m[\u001b[0m\u001b[1;34m'Moma'\u001b[0m\u001b[1;33m,\u001b[0m\u001b[1;34m'Tate'\u001b[0m\u001b[1;33m]\u001b[0m\u001b[1;33m\u001b[0m\u001b[1;33m\u001b[0m\u001b[0m\n\u001b[0;32m      3\u001b[0m \u001b[1;32mfor\u001b[0m \u001b[0mmuseum\u001b[0m \u001b[1;32min\u001b[0m \u001b[0mmuseums\u001b[0m\u001b[1;33m:\u001b[0m\u001b[1;33m\u001b[0m\u001b[1;33m\u001b[0m\u001b[0m\n\u001b[1;32m----> 4\u001b[1;33m     \u001b[0mmuseum\u001b[0m\u001b[1;33m[\u001b[0m\u001b[1;34m\"Date\"\u001b[0m\u001b[1;33m]\u001b[0m \u001b[1;33m=\u001b[0m \u001b[0mmuseum\u001b[0m\u001b[1;33m[\u001b[0m\u001b[1;34m\"Date\"\u001b[0m\u001b[1;33m]\u001b[0m\u001b[1;33m.\u001b[0m\u001b[0mastype\u001b[0m\u001b[1;33m(\u001b[0m\u001b[0mint\u001b[0m\u001b[1;33m)\u001b[0m\u001b[1;33m\u001b[0m\u001b[1;33m\u001b[0m\u001b[0m\n\u001b[0m\u001b[0;32m      5\u001b[0m     \u001b[0mmuseum\u001b[0m\u001b[1;33m.\u001b[0m\u001b[0msort_values\u001b[0m\u001b[1;33m(\u001b[0m\u001b[0mby\u001b[0m\u001b[1;33m=\u001b[0m\u001b[1;33m[\u001b[0m\u001b[1;34m'Date'\u001b[0m\u001b[1;33m]\u001b[0m\u001b[1;33m,\u001b[0m \u001b[0minplace\u001b[0m\u001b[1;33m=\u001b[0m\u001b[1;32mTrue\u001b[0m\u001b[1;33m)\u001b[0m\u001b[1;33m\u001b[0m\u001b[1;33m\u001b[0m\u001b[0m\n\u001b[0;32m      6\u001b[0m     \u001b[0mmuseumWithoutZeros\u001b[0m \u001b[1;33m=\u001b[0m \u001b[0mmuseum\u001b[0m\u001b[1;33m[\u001b[0m\u001b[0mmuseum\u001b[0m\u001b[1;33m[\u001b[0m\u001b[1;34m'Date'\u001b[0m\u001b[1;33m]\u001b[0m \u001b[1;33m!=\u001b[0m \u001b[1;36m0\u001b[0m\u001b[1;33m]\u001b[0m\u001b[1;33m\u001b[0m\u001b[1;33m\u001b[0m\u001b[0m\n",
      "\u001b[1;32m~\\AppData\\Roaming\\Python\\Python39\\site-packages\\pandas\\core\\generic.py\u001b[0m in \u001b[0;36mastype\u001b[1;34m(self, dtype, copy, errors)\u001b[0m\n\u001b[0;32m   5870\u001b[0m         \u001b[1;32melse\u001b[0m\u001b[1;33m:\u001b[0m\u001b[1;33m\u001b[0m\u001b[1;33m\u001b[0m\u001b[0m\n\u001b[0;32m   5871\u001b[0m             \u001b[1;31m# else, only a single dtype is given\u001b[0m\u001b[1;33m\u001b[0m\u001b[1;33m\u001b[0m\u001b[1;33m\u001b[0m\u001b[0m\n\u001b[1;32m-> 5872\u001b[1;33m             \u001b[0mnew_data\u001b[0m \u001b[1;33m=\u001b[0m \u001b[0mself\u001b[0m\u001b[1;33m.\u001b[0m\u001b[0m_mgr\u001b[0m\u001b[1;33m.\u001b[0m\u001b[0mastype\u001b[0m\u001b[1;33m(\u001b[0m\u001b[0mdtype\u001b[0m\u001b[1;33m=\u001b[0m\u001b[0mdtype\u001b[0m\u001b[1;33m,\u001b[0m \u001b[0mcopy\u001b[0m\u001b[1;33m=\u001b[0m\u001b[0mcopy\u001b[0m\u001b[1;33m,\u001b[0m \u001b[0merrors\u001b[0m\u001b[1;33m=\u001b[0m\u001b[0merrors\u001b[0m\u001b[1;33m)\u001b[0m\u001b[1;33m\u001b[0m\u001b[1;33m\u001b[0m\u001b[0m\n\u001b[0m\u001b[0;32m   5873\u001b[0m             \u001b[1;32mreturn\u001b[0m \u001b[0mself\u001b[0m\u001b[1;33m.\u001b[0m\u001b[0m_constructor\u001b[0m\u001b[1;33m(\u001b[0m\u001b[0mnew_data\u001b[0m\u001b[1;33m)\u001b[0m\u001b[1;33m.\u001b[0m\u001b[0m__finalize__\u001b[0m\u001b[1;33m(\u001b[0m\u001b[0mself\u001b[0m\u001b[1;33m,\u001b[0m \u001b[0mmethod\u001b[0m\u001b[1;33m=\u001b[0m\u001b[1;34m\"astype\"\u001b[0m\u001b[1;33m)\u001b[0m\u001b[1;33m\u001b[0m\u001b[1;33m\u001b[0m\u001b[0m\n\u001b[0;32m   5874\u001b[0m \u001b[1;33m\u001b[0m\u001b[0m\n",
      "\u001b[1;32m~\\AppData\\Roaming\\Python\\Python39\\site-packages\\pandas\\core\\internals\\managers.py\u001b[0m in \u001b[0;36mastype\u001b[1;34m(self, dtype, copy, errors)\u001b[0m\n\u001b[0;32m    629\u001b[0m         \u001b[0mself\u001b[0m\u001b[1;33m,\u001b[0m \u001b[0mdtype\u001b[0m\u001b[1;33m,\u001b[0m \u001b[0mcopy\u001b[0m\u001b[1;33m:\u001b[0m \u001b[0mbool\u001b[0m \u001b[1;33m=\u001b[0m \u001b[1;32mFalse\u001b[0m\u001b[1;33m,\u001b[0m \u001b[0merrors\u001b[0m\u001b[1;33m:\u001b[0m \u001b[0mstr\u001b[0m \u001b[1;33m=\u001b[0m \u001b[1;34m\"raise\"\u001b[0m\u001b[1;33m\u001b[0m\u001b[1;33m\u001b[0m\u001b[0m\n\u001b[0;32m    630\u001b[0m     ) -> \"BlockManager\":\n\u001b[1;32m--> 631\u001b[1;33m         \u001b[1;32mreturn\u001b[0m \u001b[0mself\u001b[0m\u001b[1;33m.\u001b[0m\u001b[0mapply\u001b[0m\u001b[1;33m(\u001b[0m\u001b[1;34m\"astype\"\u001b[0m\u001b[1;33m,\u001b[0m \u001b[0mdtype\u001b[0m\u001b[1;33m=\u001b[0m\u001b[0mdtype\u001b[0m\u001b[1;33m,\u001b[0m \u001b[0mcopy\u001b[0m\u001b[1;33m=\u001b[0m\u001b[0mcopy\u001b[0m\u001b[1;33m,\u001b[0m \u001b[0merrors\u001b[0m\u001b[1;33m=\u001b[0m\u001b[0merrors\u001b[0m\u001b[1;33m)\u001b[0m\u001b[1;33m\u001b[0m\u001b[1;33m\u001b[0m\u001b[0m\n\u001b[0m\u001b[0;32m    632\u001b[0m \u001b[1;33m\u001b[0m\u001b[0m\n\u001b[0;32m    633\u001b[0m     def convert(\n",
      "\u001b[1;32m~\\AppData\\Roaming\\Python\\Python39\\site-packages\\pandas\\core\\internals\\managers.py\u001b[0m in \u001b[0;36mapply\u001b[1;34m(self, f, align_keys, ignore_failures, **kwargs)\u001b[0m\n\u001b[0;32m    425\u001b[0m                     \u001b[0mapplied\u001b[0m \u001b[1;33m=\u001b[0m \u001b[0mb\u001b[0m\u001b[1;33m.\u001b[0m\u001b[0mapply\u001b[0m\u001b[1;33m(\u001b[0m\u001b[0mf\u001b[0m\u001b[1;33m,\u001b[0m \u001b[1;33m**\u001b[0m\u001b[0mkwargs\u001b[0m\u001b[1;33m)\u001b[0m\u001b[1;33m\u001b[0m\u001b[1;33m\u001b[0m\u001b[0m\n\u001b[0;32m    426\u001b[0m                 \u001b[1;32melse\u001b[0m\u001b[1;33m:\u001b[0m\u001b[1;33m\u001b[0m\u001b[1;33m\u001b[0m\u001b[0m\n\u001b[1;32m--> 427\u001b[1;33m                     \u001b[0mapplied\u001b[0m \u001b[1;33m=\u001b[0m \u001b[0mgetattr\u001b[0m\u001b[1;33m(\u001b[0m\u001b[0mb\u001b[0m\u001b[1;33m,\u001b[0m \u001b[0mf\u001b[0m\u001b[1;33m)\u001b[0m\u001b[1;33m(\u001b[0m\u001b[1;33m**\u001b[0m\u001b[0mkwargs\u001b[0m\u001b[1;33m)\u001b[0m\u001b[1;33m\u001b[0m\u001b[1;33m\u001b[0m\u001b[0m\n\u001b[0m\u001b[0;32m    428\u001b[0m             \u001b[1;32mexcept\u001b[0m \u001b[1;33m(\u001b[0m\u001b[0mTypeError\u001b[0m\u001b[1;33m,\u001b[0m \u001b[0mNotImplementedError\u001b[0m\u001b[1;33m)\u001b[0m\u001b[1;33m:\u001b[0m\u001b[1;33m\u001b[0m\u001b[1;33m\u001b[0m\u001b[0m\n\u001b[0;32m    429\u001b[0m                 \u001b[1;32mif\u001b[0m \u001b[1;32mnot\u001b[0m \u001b[0mignore_failures\u001b[0m\u001b[1;33m:\u001b[0m\u001b[1;33m\u001b[0m\u001b[1;33m\u001b[0m\u001b[0m\n",
      "\u001b[1;32m~\\AppData\\Roaming\\Python\\Python39\\site-packages\\pandas\\core\\internals\\blocks.py\u001b[0m in \u001b[0;36mastype\u001b[1;34m(self, dtype, copy, errors)\u001b[0m\n\u001b[0;32m    671\u001b[0m             \u001b[0mvals1d\u001b[0m \u001b[1;33m=\u001b[0m \u001b[0mvalues\u001b[0m\u001b[1;33m.\u001b[0m\u001b[0mravel\u001b[0m\u001b[1;33m(\u001b[0m\u001b[1;33m)\u001b[0m\u001b[1;33m\u001b[0m\u001b[1;33m\u001b[0m\u001b[0m\n\u001b[0;32m    672\u001b[0m             \u001b[1;32mtry\u001b[0m\u001b[1;33m:\u001b[0m\u001b[1;33m\u001b[0m\u001b[1;33m\u001b[0m\u001b[0m\n\u001b[1;32m--> 673\u001b[1;33m                 \u001b[0mvalues\u001b[0m \u001b[1;33m=\u001b[0m \u001b[0mastype_nansafe\u001b[0m\u001b[1;33m(\u001b[0m\u001b[0mvals1d\u001b[0m\u001b[1;33m,\u001b[0m \u001b[0mdtype\u001b[0m\u001b[1;33m,\u001b[0m \u001b[0mcopy\u001b[0m\u001b[1;33m=\u001b[0m\u001b[1;32mTrue\u001b[0m\u001b[1;33m)\u001b[0m\u001b[1;33m\u001b[0m\u001b[1;33m\u001b[0m\u001b[0m\n\u001b[0m\u001b[0;32m    674\u001b[0m             \u001b[1;32mexcept\u001b[0m \u001b[1;33m(\u001b[0m\u001b[0mValueError\u001b[0m\u001b[1;33m,\u001b[0m \u001b[0mTypeError\u001b[0m\u001b[1;33m)\u001b[0m\u001b[1;33m:\u001b[0m\u001b[1;33m\u001b[0m\u001b[1;33m\u001b[0m\u001b[0m\n\u001b[0;32m    675\u001b[0m                 \u001b[1;31m# e.g. astype_nansafe can fail on object-dtype of strings\u001b[0m\u001b[1;33m\u001b[0m\u001b[1;33m\u001b[0m\u001b[1;33m\u001b[0m\u001b[0m\n",
      "\u001b[1;32m~\\AppData\\Roaming\\Python\\Python39\\site-packages\\pandas\\core\\dtypes\\cast.py\u001b[0m in \u001b[0;36mastype_nansafe\u001b[1;34m(arr, dtype, copy, skipna)\u001b[0m\n\u001b[0;32m   1072\u001b[0m         \u001b[1;31m# work around NumPy brokenness, #1987\u001b[0m\u001b[1;33m\u001b[0m\u001b[1;33m\u001b[0m\u001b[1;33m\u001b[0m\u001b[0m\n\u001b[0;32m   1073\u001b[0m         \u001b[1;32mif\u001b[0m \u001b[0mnp\u001b[0m\u001b[1;33m.\u001b[0m\u001b[0missubdtype\u001b[0m\u001b[1;33m(\u001b[0m\u001b[0mdtype\u001b[0m\u001b[1;33m.\u001b[0m\u001b[0mtype\u001b[0m\u001b[1;33m,\u001b[0m \u001b[0mnp\u001b[0m\u001b[1;33m.\u001b[0m\u001b[0minteger\u001b[0m\u001b[1;33m)\u001b[0m\u001b[1;33m:\u001b[0m\u001b[1;33m\u001b[0m\u001b[1;33m\u001b[0m\u001b[0m\n\u001b[1;32m-> 1074\u001b[1;33m             \u001b[1;32mreturn\u001b[0m \u001b[0mlib\u001b[0m\u001b[1;33m.\u001b[0m\u001b[0mastype_intsafe\u001b[0m\u001b[1;33m(\u001b[0m\u001b[0marr\u001b[0m\u001b[1;33m.\u001b[0m\u001b[0mravel\u001b[0m\u001b[1;33m(\u001b[0m\u001b[1;33m)\u001b[0m\u001b[1;33m,\u001b[0m \u001b[0mdtype\u001b[0m\u001b[1;33m)\u001b[0m\u001b[1;33m.\u001b[0m\u001b[0mreshape\u001b[0m\u001b[1;33m(\u001b[0m\u001b[0marr\u001b[0m\u001b[1;33m.\u001b[0m\u001b[0mshape\u001b[0m\u001b[1;33m)\u001b[0m\u001b[1;33m\u001b[0m\u001b[1;33m\u001b[0m\u001b[0m\n\u001b[0m\u001b[0;32m   1075\u001b[0m \u001b[1;33m\u001b[0m\u001b[0m\n\u001b[0;32m   1076\u001b[0m         \u001b[1;31m# if we have a datetime/timedelta array of objects\u001b[0m\u001b[1;33m\u001b[0m\u001b[1;33m\u001b[0m\u001b[1;33m\u001b[0m\u001b[0m\n",
      "\u001b[1;32mpandas\\_libs\\lib.pyx\u001b[0m in \u001b[0;36mpandas._libs.lib.astype_intsafe\u001b[1;34m()\u001b[0m\n",
      "\u001b[1;31mValueError\u001b[0m: invalid literal for int() with base 10: 'c'"
     ]
    }
   ],
   "source": [
    "museums=[MoMa, Tate]\n",
    "names = ['Moma','Tate']\n",
    "for museum in museums:\n",
    "    museum[\"Date\"] = museum[\"Date\"].astype(int)\n",
    "    museum.sort_values(by=['Date'], inplace=True)\n",
    "    museumWithoutZeros = museum[museum['Date'] != 0]\n",
    "    firstDate = museumWithoutZeros['Date'].iat[0]\n",
    "    lastDate = museumWithoutZeros['Date'].iat[-1]\n",
    "    name = names.pop(0)\n",
    "    print(\"Most ancient artwork at\", name, \"dates back to\",firstDate )\n",
    "    print(\"Most receny artwork at\", name, \"dates back to\",lastDate )    "
   ]
  },
  {
   "cell_type": "markdown",
   "id": "a0cc424a",
   "metadata": {},
   "source": [
    "## When were artworks acquired?"
   ]
  },
  {
   "cell_type": "code",
   "execution_count": null,
   "id": "e0bd93f1",
   "metadata": {},
   "outputs": [],
   "source": [
    "museums=[MoMa, Tate]\n",
    "names = ['Moma','Tate']\n",
    "for museum in museums:\n",
    "    museum[\"DateAcquired\"] = museum[\"DateAcquired\"].astype(int)\n",
    "    museum.sort_values(by=['DateAcquired'], inplace=True)\n",
    "    museumWithoutZeros = museum[museum['DateAcquired'] != 0]\n",
    "    firstDate = museumWithoutZeros['DateAcquired'].iat[0]\n",
    "    lastDate = museumWithoutZeros['Date'].iat[-1]\n",
    "    name = names.pop(0)\n",
    "    print(\"Most ancient artwork at\", name, \"dates back to\",firstDate )\n",
    "    print(\"Most receny artwork at\", name, \"dates back to\",lastDate )    "
   ]
  },
  {
   "cell_type": "markdown",
   "id": "b13405e8",
   "metadata": {},
   "source": [
    "## Artists"
   ]
  },
  {
   "cell_type": "markdown",
   "id": "b65736d4",
   "metadata": {},
   "source": [
    "For examining artist-related issues, we will rely on the specific csvs from the museums, whoch we already transformed into dataframes."
   ]
  },
  {
   "cell_type": "markdown",
   "id": "b137c7b0",
   "metadata": {},
   "source": [
    "### How many artists?"
   ]
  },
  {
   "cell_type": "markdown",
   "id": "f54a29d9",
   "metadata": {},
   "source": [
    "print('Total number of artists at MoMa', len(MoMaArtists))"
   ]
  },
  {
   "cell_type": "code",
   "execution_count": null,
   "id": "f9331981",
   "metadata": {},
   "outputs": [],
   "source": [
    "print('Total number of artists at Tate', len(TateArtists))"
   ]
  },
  {
   "cell_type": "markdown",
   "id": "13cba1c1",
   "metadata": {},
   "source": [
    "### What is the most represented gender?"
   ]
  },
  {
   "cell_type": "code",
   "execution_count": null,
   "id": "75a127ae",
   "metadata": {},
   "outputs": [],
   "source": [
    "TateArtists['gender'].value_counts()"
   ]
  },
  {
   "cell_type": "code",
   "execution_count": null,
   "id": "a6baffe0",
   "metadata": {},
   "outputs": [],
   "source": [
    "MoMaArtists['Gender'].value_counts()"
   ]
  },
  {
   "cell_type": "markdown",
   "id": "fa1248eb",
   "metadata": {},
   "source": [
    "### What are the most represented nationalities?"
   ]
  },
  {
   "cell_type": "markdown",
   "id": "2b08956e",
   "metadata": {},
   "source": [
    "### Tate"
   ]
  },
  {
   "cell_type": "markdown",
   "id": "6c14ec01",
   "metadata": {},
   "source": [
    "Since artists' names are in the form 'Surname, Name', we use a function to normalise that as 'Name Surname'."
   ]
  },
  {
   "cell_type": "code",
   "execution_count": 14,
   "id": "7096addc",
   "metadata": {},
   "outputs": [],
   "source": [
    "import pandas as pd\n",
    "import numpy as np\n",
    "import re\n",
    "from datetime import datetime\n",
    "from collections import defaultdict\n",
    "from json import JSONDecodeError\n",
    "from qwikidata.sparql import return_sparql_query_results # python library for working with sparql and linked data from WikiData\n",
    "import time\n",
    "from requests.exceptions import ChunkedEncodingError\n",
    "import math\n",
    "#from SPARQLWrapper import SPARQLWrapper, JSON # sparql query library\n",
    "import ssl"
   ]
  },
  {
   "cell_type": "code",
   "execution_count": 19,
   "id": "2e2466d1",
   "metadata": {},
   "outputs": [],
   "source": [
    "TateIntegration = TateArtists[TateArtists['gender'].isna()]\n",
    "TateIntegration = TateIntegration[TateIntegration['name'] != 'Anonymous']\n",
    "TateIntegration = TateIntegration[TateIntegration['name'] != 'Art & Language (Michael Baldwin, born 1945; Mel Ramsden, born 1944)']\n",
    "TateIntegration = TateIntegration[TateIntegration['name'] != 'Art & Language (Terry Atkinson, born 1939; David Bainbridge, born 1941; Michael Baldwin, born 1945; Harold Hurrell, born']\n",
    "TateIntegration = TateIntegration[TateIntegration['name'] != 'Art & Language (Terry Atkinson, born 1939; Michael Baldwin, born 1945)']\n",
    "TateIntegration = TateIntegration[TateIntegration['name'] != 'Atlas Group']\n",
    "TateIntegration = TateIntegration[TateIntegration['name'] != 'Becher, Prof. Bernd']\n",
    "TateIntegration = TateIntegration[TateIntegration['name'] != 'Black Audio Film Collective (John Akomfrah; Reece Auguis; Edward George; Lina Gopaul; Avril Johnson; David Lawson; Trevo']\n",
    "TateIntegration = TateIntegration[TateIntegration['name'] != 'Booth, L']\n",
    "TateIntegration = TateIntegration[TateIntegration['name'] != 'Boyd and Evans, Fionnuala and Leslie']\n",
    "TateIntegration = TateIntegration[TateIntegration['name'] != 'British (?) School']\n",
    "TateIntegration = TateIntegration[TateIntegration['name'] != 'British (?) School 19th century']\n",
    "TateIntegration = TateIntegration[TateIntegration['name'] != 'British School 17th century']\n",
    "TateIntegration = TateIntegration[TateIntegration['name'] != 'British School 16th century']\n",
    "TateIntegration = TateIntegration[TateIntegration['name'] != 'British School 17th or 18th century']\n",
    "TateIntegration = TateIntegration[TateIntegration['name'] != 'British School 18th century']\n",
    "TateIntegration = TateIntegration[TateIntegration['name'] != 'British School 19th century']\n",
    "TateIntegration = TateIntegration[TateIntegration['name'] != 'British School 20th century']\n",
    "TateIntegration = TateIntegration[TateIntegration['name'] != 'Chinese School 18th century']\n",
    "TateIntegration = TateIntegration[TateIntegration['name'] != 'French School 18th century']\n",
    "TateIntegration = TateIntegration[TateIntegration['name'] != 'French School 19th century']\n",
    "TateIntegration = TateIntegration[TateIntegration['name'] != 'Gent, G.W.']\n",
    "TateIntegration = TateIntegration[TateIntegration['name'] != 'Glik, M.']\n",
    "TateIntegration = TateIntegration[TateIntegration['name'] != 'International Local (Sarah Charlesworth; Joseph Kosuth; Anthony McCall)']\n",
    "TateIntegration = TateIntegration[TateIntegration['name'] != 'Italian or German (?) School 17th century']\n",
    "TateIntegration = TateIntegration[TateIntegration['name'] != 'Langlands and Bell, Ben and Nikki']\n",
    "TateIntegration = TateIntegration[TateIntegration['name'] != 'Italian or German (?) School 17th century']\n",
    "TateIntegration = TateIntegration[TateIntegration['name'] != 'Langlands and Bell, Ben and Nikki']\n",
    "TateIntegration = TateIntegration[TateIntegration['name'] != 'Lucy and Eegyudluk']\n",
    "TateIntegration = TateIntegration[TateIntegration['name'] != 'M/M (Paris, France)']\n",
    "TateIntegration = TateIntegration[TateIntegration['name'] != 'Moore, T.']\n",
    "TateIntegration = TateIntegration[TateIntegration['name'] != 'Skeaf, D.']\n",
    "TateIntegration = TateIntegration[TateIntegration['name'] != 'T R Uthco (Doug Hall born 1944, Diane Andrews Hall born 1945, Jody Procter 1944-1998)']\n",
    "TateIntegration = TateIntegration[TateIntegration['name'] != 'Art & Language (Ian Burn, 1939-1993; Mel Ramsden, born 1944)']\n",
    "TateIntegration = TateIntegration[TateIntegration['name'] != 'Thomson, W.']\n",
    "TateIntegration = TateIntegration[TateIntegration['name'] != 'Turton, M.']\n",
    "TateIntegration = TateIntegration[TateIntegration['name'] != 'Unknown']\n",
    "TateIntegration = TateIntegration[TateIntegration['name'] != 'Young-Hae Chang Heavy Industries (Young-Hae Chang, Marc Voge)']"
   ]
  },
  {
   "cell_type": "code",
   "execution_count": 20,
   "id": "b08470a1",
   "metadata": {},
   "outputs": [],
   "source": [
    "def cleanArtistsNames(name):\n",
    "    if ',' in name:\n",
    "        name= name.split(',')\n",
    "        name[0], name[1] = name[1], name[0]\n",
    "        name = ' '.join(name)\n",
    "    return name"
   ]
  },
  {
   "cell_type": "code",
   "execution_count": 21,
   "id": "405530cf",
   "metadata": {},
   "outputs": [],
   "source": [
    "TateIntegration[\"name\"] = TateIntegration[\"name\"].apply(cleanArtistsNames)"
   ]
  },
  {
   "cell_type": "code",
   "execution_count": 45,
   "id": "39cf1579",
   "metadata": {},
   "outputs": [],
   "source": [
    "artists_genders_from_ids = \"\"\"\n",
    "PREFIX rdfs: <http://www.w3.org/2000/01/rdf-schema#>\n",
    "SELECT DISTINCT ?artist\n",
    "WHERE {{\n",
    "    ?artist wdt:P31 wd:Q5 .\n",
    "    ?artist wdt:P106 ?occupation\n",
    "                  FILTER (?occupation IN (wd:Q1281618) )   \n",
    "    ?artist rdfs:label ?o\n",
    "                  FILTER ( str(?o) = \"{}\")  .\n",
    "}}\n",
    "\n",
    "\"\"\""
   ]
  },
  {
   "cell_type": "code",
   "execution_count": 46,
   "id": "b2eac00f",
   "metadata": {},
   "outputs": [],
   "source": [
    "def find_artists_genders_from_ids(name):\n",
    "    query = artists_genders_from_ids.format(name.strip())\n",
    "    print(query)\n",
    "    res = return_sparql_query_results(query_string=query)\n",
    "    try:\n",
    "        wdt_uri = res['results']['bindings'][0]['artist']['value']\n",
    "    except (IndexError, KeyError):\n",
    "        return \"\"\n",
    "    return wdt_uri.split(\"/\")[-1]"
   ]
  },
  {
   "cell_type": "code",
   "execution_count": 47,
   "id": "e9feeee9",
   "metadata": {
    "scrolled": true
   },
   "outputs": [
    {
     "name": "stdout",
     "output_type": "stream",
     "text": [
      "\n",
      "PREFIX rdfs: <http://www.w3.org/2000/01/rdf-schema#>\n",
      "SELECT DISTINCT ?artist\n",
      "WHERE {\n",
      "    ?artist wdt:P31 wd:Q5 .\n",
      "    ?artist wdt:P106 ?occupation\n",
      "                  FILTER (?occupation IN (wd:Q33231) )   \n",
      "    ?artist rdfs:label ?label\n",
      "                  FILTER regex(?label, \"^Shusaku Arakawa$|^John Bacon$|^Ruth Baehnisch$|^A. Belloguet$|^Nikolaj Bendix Skyum Larsen$|^Caroline Bergvall$|^Christina Broom$|^Samuel Cooper$|^Viktor Deni$|^Juan Downey$|^Gaspard Dughet$|^Eugenio Espinoza$|^Josif Gerasimovich$|^Jack Goldstein$|^Lawrence Abu Hamdan$|^Stephen Herwijck$|^Highmore$|^Enrique Huerta$|^Inventory$|^Sergei Ivanov$|^K.O.S.$|^Amar Kanwar$|^Georgii Kibardin$|^Nikolai Kochergin$|^Nikolai Kogout$|^Kiyohiko Komura$|^Vladimir Kozlinsky$|^KwieKulik$|^Suzanne Lacy$|^Lairesse$|^Robin Laurie$|^David Le Marchand$|^Hubert Le Sueur$|^Alexander Lebedev$|^London Gallery$|^Len Lye$|^Alex Mackay$|^A Marsingall$|^J. Martin  of Canterbury$|^E. Masters$|^Vladimir Mayakovsky$|^Dmitrii Melnikov$|^Francis Merivale$|^Dmitrii Moor$|^Morin$|^Melik Ohanian$|^James Orrock$|^Sylvia Pankhurst$|^Pallavi Paul$|^Osmar Peçanha$|^Sergei Ivanovich Pichugin$|^Paulo Pires$|^Olivia Plender$|^Anne and Patrick Poirier$|^R. H. Quaytman$|^Hester Reeve$|^Ingmar Reuter$|^Emilio Rivera$|^Russian School$|^Eduardo Salvatore$|^Gunther Sander$|^Mithu Sen$|^Stephanie Smith$|^Monika Sosnowska$|^Soviet School$|^William Staite-Murray$|^Haim Steinbach$|^Adolf Strakhov-Braslavsky$|^Dalmo Teixeira Filho$|^Tollemache$|^Léonard Cosme Totchemetcheho$|^V.Ch.K.$|^Adolphe Valette$|^Vara$|^Dee Villers$|^Francis Vivares$|^Imke Wagener$|^Shelagh Wakely$|^Richard Westmacott$|^José Yalenti$|^Jakub Julian Ziolkowski$\" )\n",
      "            FILTER (langMatches(lang(?label), \"EN\"))  .\n",
      "}\n",
      "\n",
      "\n",
      "\n",
      "PREFIX rdfs: <http://www.w3.org/2000/01/rdf-schema#>\n",
      "SELECT DISTINCT ?artist\n",
      "WHERE {\n",
      "    ?artist wdt:P31 wd:Q5 .\n",
      "    ?artist wdt:P106 ?occupation\n",
      "                  FILTER (?occupation IN (wd:Q33231) )   \n",
      "    ?artist rdfs:label ?label\n",
      "                  FILTER regex(?label, \"^Shusaku Arakawa$|^John Bacon$|^Ruth Baehnisch$|^A. Belloguet$|^Nikolaj Bendix Skyum Larsen$|^Caroline Bergvall$|^Christina Broom$|^Samuel Cooper$|^Viktor Deni$|^Juan Downey$|^Gaspard Dughet$|^Eugenio Espinoza$|^Josif Gerasimovich$|^Jack Goldstein$|^Lawrence Abu Hamdan$|^Stephen Herwijck$|^Highmore$|^Enrique Huerta$|^Inventory$|^Sergei Ivanov$|^K.O.S.$|^Amar Kanwar$|^Georgii Kibardin$|^Nikolai Kochergin$|^Nikolai Kogout$|^Kiyohiko Komura$|^Vladimir Kozlinsky$|^KwieKulik$|^Suzanne Lacy$|^Lairesse$|^Robin Laurie$|^David Le Marchand$|^Hubert Le Sueur$|^Alexander Lebedev$|^London Gallery$|^Len Lye$|^Alex Mackay$|^A Marsingall$|^J. Martin  of Canterbury$|^E. Masters$|^Vladimir Mayakovsky$|^Dmitrii Melnikov$|^Francis Merivale$|^Dmitrii Moor$|^Morin$|^Melik Ohanian$|^James Orrock$|^Sylvia Pankhurst$|^Pallavi Paul$|^Osmar Peçanha$|^Sergei Ivanovich Pichugin$|^Paulo Pires$|^Olivia Plender$|^Anne and Patrick Poirier$|^R. H. Quaytman$|^Hester Reeve$|^Ingmar Reuter$|^Emilio Rivera$|^Russian School$|^Eduardo Salvatore$|^Gunther Sander$|^Mithu Sen$|^Stephanie Smith$|^Monika Sosnowska$|^Soviet School$|^William Staite-Murray$|^Haim Steinbach$|^Adolf Strakhov-Braslavsky$|^Dalmo Teixeira Filho$|^Tollemache$|^Léonard Cosme Totchemetcheho$|^V.Ch.K.$|^Adolphe Valette$|^Vara$|^Dee Villers$|^Francis Vivares$|^Imke Wagener$|^Shelagh Wakely$|^Richard Westmacott$|^José Yalenti$|^Jakub Julian Ziolkowski$\" )\n",
      "            FILTER (langMatches(lang(?label), \"EN\"))  .\n",
      "}\n",
      "\n",
      "\n",
      "\n",
      "PREFIX rdfs: <http://www.w3.org/2000/01/rdf-schema#>\n",
      "SELECT DISTINCT ?artist\n",
      "WHERE {\n",
      "    ?artist wdt:P31 wd:Q5 .\n",
      "    ?artist wdt:P106 ?occupation\n",
      "                  FILTER (?occupation IN (wd:Q33231) )   \n",
      "    ?artist rdfs:label ?label\n",
      "                  FILTER regex(?label, \"^Shusaku Arakawa$|^John Bacon$|^Ruth Baehnisch$|^A. Belloguet$|^Nikolaj Bendix Skyum Larsen$|^Caroline Bergvall$|^Christina Broom$|^Samuel Cooper$|^Viktor Deni$|^Juan Downey$|^Gaspard Dughet$|^Eugenio Espinoza$|^Josif Gerasimovich$|^Jack Goldstein$|^Lawrence Abu Hamdan$|^Stephen Herwijck$|^Highmore$|^Enrique Huerta$|^Inventory$|^Sergei Ivanov$|^K.O.S.$|^Amar Kanwar$|^Georgii Kibardin$|^Nikolai Kochergin$|^Nikolai Kogout$|^Kiyohiko Komura$|^Vladimir Kozlinsky$|^KwieKulik$|^Suzanne Lacy$|^Lairesse$|^Robin Laurie$|^David Le Marchand$|^Hubert Le Sueur$|^Alexander Lebedev$|^London Gallery$|^Len Lye$|^Alex Mackay$|^A Marsingall$|^J. Martin  of Canterbury$|^E. Masters$|^Vladimir Mayakovsky$|^Dmitrii Melnikov$|^Francis Merivale$|^Dmitrii Moor$|^Morin$|^Melik Ohanian$|^James Orrock$|^Sylvia Pankhurst$|^Pallavi Paul$|^Osmar Peçanha$|^Sergei Ivanovich Pichugin$|^Paulo Pires$|^Olivia Plender$|^Anne and Patrick Poirier$|^R. H. Quaytman$|^Hester Reeve$|^Ingmar Reuter$|^Emilio Rivera$|^Russian School$|^Eduardo Salvatore$|^Gunther Sander$|^Mithu Sen$|^Stephanie Smith$|^Monika Sosnowska$|^Soviet School$|^William Staite-Murray$|^Haim Steinbach$|^Adolf Strakhov-Braslavsky$|^Dalmo Teixeira Filho$|^Tollemache$|^Léonard Cosme Totchemetcheho$|^V.Ch.K.$|^Adolphe Valette$|^Vara$|^Dee Villers$|^Francis Vivares$|^Imke Wagener$|^Shelagh Wakely$|^Richard Westmacott$|^José Yalenti$|^Jakub Julian Ziolkowski$\" )\n",
      "            FILTER (langMatches(lang(?label), \"EN\"))  .\n",
      "}\n",
      "\n",
      "\n",
      "\n",
      "PREFIX rdfs: <http://www.w3.org/2000/01/rdf-schema#>\n",
      "SELECT DISTINCT ?artist\n",
      "WHERE {\n",
      "    ?artist wdt:P31 wd:Q5 .\n",
      "    ?artist wdt:P106 ?occupation\n",
      "                  FILTER (?occupation IN (wd:Q33231) )   \n",
      "    ?artist rdfs:label ?label\n",
      "                  FILTER regex(?label, \"^Shusaku Arakawa$|^John Bacon$|^Ruth Baehnisch$|^A. Belloguet$|^Nikolaj Bendix Skyum Larsen$|^Caroline Bergvall$|^Christina Broom$|^Samuel Cooper$|^Viktor Deni$|^Juan Downey$|^Gaspard Dughet$|^Eugenio Espinoza$|^Josif Gerasimovich$|^Jack Goldstein$|^Lawrence Abu Hamdan$|^Stephen Herwijck$|^Highmore$|^Enrique Huerta$|^Inventory$|^Sergei Ivanov$|^K.O.S.$|^Amar Kanwar$|^Georgii Kibardin$|^Nikolai Kochergin$|^Nikolai Kogout$|^Kiyohiko Komura$|^Vladimir Kozlinsky$|^KwieKulik$|^Suzanne Lacy$|^Lairesse$|^Robin Laurie$|^David Le Marchand$|^Hubert Le Sueur$|^Alexander Lebedev$|^London Gallery$|^Len Lye$|^Alex Mackay$|^A Marsingall$|^J. Martin  of Canterbury$|^E. Masters$|^Vladimir Mayakovsky$|^Dmitrii Melnikov$|^Francis Merivale$|^Dmitrii Moor$|^Morin$|^Melik Ohanian$|^James Orrock$|^Sylvia Pankhurst$|^Pallavi Paul$|^Osmar Peçanha$|^Sergei Ivanovich Pichugin$|^Paulo Pires$|^Olivia Plender$|^Anne and Patrick Poirier$|^R. H. Quaytman$|^Hester Reeve$|^Ingmar Reuter$|^Emilio Rivera$|^Russian School$|^Eduardo Salvatore$|^Gunther Sander$|^Mithu Sen$|^Stephanie Smith$|^Monika Sosnowska$|^Soviet School$|^William Staite-Murray$|^Haim Steinbach$|^Adolf Strakhov-Braslavsky$|^Dalmo Teixeira Filho$|^Tollemache$|^Léonard Cosme Totchemetcheho$|^V.Ch.K.$|^Adolphe Valette$|^Vara$|^Dee Villers$|^Francis Vivares$|^Imke Wagener$|^Shelagh Wakely$|^Richard Westmacott$|^José Yalenti$|^Jakub Julian Ziolkowski$\" )\n",
      "            FILTER (langMatches(lang(?label), \"EN\"))  .\n",
      "}\n",
      "\n",
      "\n",
      "\n",
      "PREFIX rdfs: <http://www.w3.org/2000/01/rdf-schema#>\n",
      "SELECT DISTINCT ?artist\n",
      "WHERE {\n",
      "    ?artist wdt:P31 wd:Q5 .\n",
      "    ?artist wdt:P106 ?occupation\n",
      "                  FILTER (?occupation IN (wd:Q33231) )   \n",
      "    ?artist rdfs:label ?label\n",
      "                  FILTER regex(?label, \"^Shusaku Arakawa$|^John Bacon$|^Ruth Baehnisch$|^A. Belloguet$|^Nikolaj Bendix Skyum Larsen$|^Caroline Bergvall$|^Christina Broom$|^Samuel Cooper$|^Viktor Deni$|^Juan Downey$|^Gaspard Dughet$|^Eugenio Espinoza$|^Josif Gerasimovich$|^Jack Goldstein$|^Lawrence Abu Hamdan$|^Stephen Herwijck$|^Highmore$|^Enrique Huerta$|^Inventory$|^Sergei Ivanov$|^K.O.S.$|^Amar Kanwar$|^Georgii Kibardin$|^Nikolai Kochergin$|^Nikolai Kogout$|^Kiyohiko Komura$|^Vladimir Kozlinsky$|^KwieKulik$|^Suzanne Lacy$|^Lairesse$|^Robin Laurie$|^David Le Marchand$|^Hubert Le Sueur$|^Alexander Lebedev$|^London Gallery$|^Len Lye$|^Alex Mackay$|^A Marsingall$|^J. Martin  of Canterbury$|^E. Masters$|^Vladimir Mayakovsky$|^Dmitrii Melnikov$|^Francis Merivale$|^Dmitrii Moor$|^Morin$|^Melik Ohanian$|^James Orrock$|^Sylvia Pankhurst$|^Pallavi Paul$|^Osmar Peçanha$|^Sergei Ivanovich Pichugin$|^Paulo Pires$|^Olivia Plender$|^Anne and Patrick Poirier$|^R. H. Quaytman$|^Hester Reeve$|^Ingmar Reuter$|^Emilio Rivera$|^Russian School$|^Eduardo Salvatore$|^Gunther Sander$|^Mithu Sen$|^Stephanie Smith$|^Monika Sosnowska$|^Soviet School$|^William Staite-Murray$|^Haim Steinbach$|^Adolf Strakhov-Braslavsky$|^Dalmo Teixeira Filho$|^Tollemache$|^Léonard Cosme Totchemetcheho$|^V.Ch.K.$|^Adolphe Valette$|^Vara$|^Dee Villers$|^Francis Vivares$|^Imke Wagener$|^Shelagh Wakely$|^Richard Westmacott$|^José Yalenti$|^Jakub Julian Ziolkowski$\" )\n",
      "            FILTER (langMatches(lang(?label), \"EN\"))  .\n",
      "}\n",
      "\n",
      "\n",
      "\n",
      "PREFIX rdfs: <http://www.w3.org/2000/01/rdf-schema#>\n",
      "SELECT DISTINCT ?artist\n",
      "WHERE {\n",
      "    ?artist wdt:P31 wd:Q5 .\n",
      "    ?artist wdt:P106 ?occupation\n",
      "                  FILTER (?occupation IN (wd:Q33231) )   \n",
      "    ?artist rdfs:label ?label\n",
      "                  FILTER regex(?label, \"^Shusaku Arakawa$|^John Bacon$|^Ruth Baehnisch$|^A. Belloguet$|^Nikolaj Bendix Skyum Larsen$|^Caroline Bergvall$|^Christina Broom$|^Samuel Cooper$|^Viktor Deni$|^Juan Downey$|^Gaspard Dughet$|^Eugenio Espinoza$|^Josif Gerasimovich$|^Jack Goldstein$|^Lawrence Abu Hamdan$|^Stephen Herwijck$|^Highmore$|^Enrique Huerta$|^Inventory$|^Sergei Ivanov$|^K.O.S.$|^Amar Kanwar$|^Georgii Kibardin$|^Nikolai Kochergin$|^Nikolai Kogout$|^Kiyohiko Komura$|^Vladimir Kozlinsky$|^KwieKulik$|^Suzanne Lacy$|^Lairesse$|^Robin Laurie$|^David Le Marchand$|^Hubert Le Sueur$|^Alexander Lebedev$|^London Gallery$|^Len Lye$|^Alex Mackay$|^A Marsingall$|^J. Martin  of Canterbury$|^E. Masters$|^Vladimir Mayakovsky$|^Dmitrii Melnikov$|^Francis Merivale$|^Dmitrii Moor$|^Morin$|^Melik Ohanian$|^James Orrock$|^Sylvia Pankhurst$|^Pallavi Paul$|^Osmar Peçanha$|^Sergei Ivanovich Pichugin$|^Paulo Pires$|^Olivia Plender$|^Anne and Patrick Poirier$|^R. H. Quaytman$|^Hester Reeve$|^Ingmar Reuter$|^Emilio Rivera$|^Russian School$|^Eduardo Salvatore$|^Gunther Sander$|^Mithu Sen$|^Stephanie Smith$|^Monika Sosnowska$|^Soviet School$|^William Staite-Murray$|^Haim Steinbach$|^Adolf Strakhov-Braslavsky$|^Dalmo Teixeira Filho$|^Tollemache$|^Léonard Cosme Totchemetcheho$|^V.Ch.K.$|^Adolphe Valette$|^Vara$|^Dee Villers$|^Francis Vivares$|^Imke Wagener$|^Shelagh Wakely$|^Richard Westmacott$|^José Yalenti$|^Jakub Julian Ziolkowski$\" )\n",
      "            FILTER (langMatches(lang(?label), \"EN\"))  .\n",
      "}\n",
      "\n",
      "\n"
     ]
    },
    {
     "name": "stdout",
     "output_type": "stream",
     "text": [
      "\n",
      "PREFIX rdfs: <http://www.w3.org/2000/01/rdf-schema#>\n",
      "SELECT DISTINCT ?artist\n",
      "WHERE {\n",
      "    ?artist wdt:P31 wd:Q5 .\n",
      "    ?artist wdt:P106 ?occupation\n",
      "                  FILTER (?occupation IN (wd:Q33231) )   \n",
      "    ?artist rdfs:label ?label\n",
      "                  FILTER regex(?label, \"^Shusaku Arakawa$|^John Bacon$|^Ruth Baehnisch$|^A. Belloguet$|^Nikolaj Bendix Skyum Larsen$|^Caroline Bergvall$|^Christina Broom$|^Samuel Cooper$|^Viktor Deni$|^Juan Downey$|^Gaspard Dughet$|^Eugenio Espinoza$|^Josif Gerasimovich$|^Jack Goldstein$|^Lawrence Abu Hamdan$|^Stephen Herwijck$|^Highmore$|^Enrique Huerta$|^Inventory$|^Sergei Ivanov$|^K.O.S.$|^Amar Kanwar$|^Georgii Kibardin$|^Nikolai Kochergin$|^Nikolai Kogout$|^Kiyohiko Komura$|^Vladimir Kozlinsky$|^KwieKulik$|^Suzanne Lacy$|^Lairesse$|^Robin Laurie$|^David Le Marchand$|^Hubert Le Sueur$|^Alexander Lebedev$|^London Gallery$|^Len Lye$|^Alex Mackay$|^A Marsingall$|^J. Martin  of Canterbury$|^E. Masters$|^Vladimir Mayakovsky$|^Dmitrii Melnikov$|^Francis Merivale$|^Dmitrii Moor$|^Morin$|^Melik Ohanian$|^James Orrock$|^Sylvia Pankhurst$|^Pallavi Paul$|^Osmar Peçanha$|^Sergei Ivanovich Pichugin$|^Paulo Pires$|^Olivia Plender$|^Anne and Patrick Poirier$|^R. H. Quaytman$|^Hester Reeve$|^Ingmar Reuter$|^Emilio Rivera$|^Russian School$|^Eduardo Salvatore$|^Gunther Sander$|^Mithu Sen$|^Stephanie Smith$|^Monika Sosnowska$|^Soviet School$|^William Staite-Murray$|^Haim Steinbach$|^Adolf Strakhov-Braslavsky$|^Dalmo Teixeira Filho$|^Tollemache$|^Léonard Cosme Totchemetcheho$|^V.Ch.K.$|^Adolphe Valette$|^Vara$|^Dee Villers$|^Francis Vivares$|^Imke Wagener$|^Shelagh Wakely$|^Richard Westmacott$|^José Yalenti$|^Jakub Julian Ziolkowski$\" )\n",
      "            FILTER (langMatches(lang(?label), \"EN\"))  .\n",
      "}\n",
      "\n",
      "\n",
      "\n",
      "PREFIX rdfs: <http://www.w3.org/2000/01/rdf-schema#>\n",
      "SELECT DISTINCT ?artist\n",
      "WHERE {\n",
      "    ?artist wdt:P31 wd:Q5 .\n",
      "    ?artist wdt:P106 ?occupation\n",
      "                  FILTER (?occupation IN (wd:Q33231) )   \n",
      "    ?artist rdfs:label ?label\n",
      "                  FILTER regex(?label, \"^Shusaku Arakawa$|^John Bacon$|^Ruth Baehnisch$|^A. Belloguet$|^Nikolaj Bendix Skyum Larsen$|^Caroline Bergvall$|^Christina Broom$|^Samuel Cooper$|^Viktor Deni$|^Juan Downey$|^Gaspard Dughet$|^Eugenio Espinoza$|^Josif Gerasimovich$|^Jack Goldstein$|^Lawrence Abu Hamdan$|^Stephen Herwijck$|^Highmore$|^Enrique Huerta$|^Inventory$|^Sergei Ivanov$|^K.O.S.$|^Amar Kanwar$|^Georgii Kibardin$|^Nikolai Kochergin$|^Nikolai Kogout$|^Kiyohiko Komura$|^Vladimir Kozlinsky$|^KwieKulik$|^Suzanne Lacy$|^Lairesse$|^Robin Laurie$|^David Le Marchand$|^Hubert Le Sueur$|^Alexander Lebedev$|^London Gallery$|^Len Lye$|^Alex Mackay$|^A Marsingall$|^J. Martin  of Canterbury$|^E. Masters$|^Vladimir Mayakovsky$|^Dmitrii Melnikov$|^Francis Merivale$|^Dmitrii Moor$|^Morin$|^Melik Ohanian$|^James Orrock$|^Sylvia Pankhurst$|^Pallavi Paul$|^Osmar Peçanha$|^Sergei Ivanovich Pichugin$|^Paulo Pires$|^Olivia Plender$|^Anne and Patrick Poirier$|^R. H. Quaytman$|^Hester Reeve$|^Ingmar Reuter$|^Emilio Rivera$|^Russian School$|^Eduardo Salvatore$|^Gunther Sander$|^Mithu Sen$|^Stephanie Smith$|^Monika Sosnowska$|^Soviet School$|^William Staite-Murray$|^Haim Steinbach$|^Adolf Strakhov-Braslavsky$|^Dalmo Teixeira Filho$|^Tollemache$|^Léonard Cosme Totchemetcheho$|^V.Ch.K.$|^Adolphe Valette$|^Vara$|^Dee Villers$|^Francis Vivares$|^Imke Wagener$|^Shelagh Wakely$|^Richard Westmacott$|^José Yalenti$|^Jakub Julian Ziolkowski$\" )\n",
      "            FILTER (langMatches(lang(?label), \"EN\"))  .\n",
      "}\n",
      "\n",
      "\n",
      "\n",
      "PREFIX rdfs: <http://www.w3.org/2000/01/rdf-schema#>\n",
      "SELECT DISTINCT ?artist\n",
      "WHERE {\n",
      "    ?artist wdt:P31 wd:Q5 .\n",
      "    ?artist wdt:P106 ?occupation\n",
      "                  FILTER (?occupation IN (wd:Q33231) )   \n",
      "    ?artist rdfs:label ?label\n",
      "                  FILTER regex(?label, \"^Shusaku Arakawa$|^John Bacon$|^Ruth Baehnisch$|^A. Belloguet$|^Nikolaj Bendix Skyum Larsen$|^Caroline Bergvall$|^Christina Broom$|^Samuel Cooper$|^Viktor Deni$|^Juan Downey$|^Gaspard Dughet$|^Eugenio Espinoza$|^Josif Gerasimovich$|^Jack Goldstein$|^Lawrence Abu Hamdan$|^Stephen Herwijck$|^Highmore$|^Enrique Huerta$|^Inventory$|^Sergei Ivanov$|^K.O.S.$|^Amar Kanwar$|^Georgii Kibardin$|^Nikolai Kochergin$|^Nikolai Kogout$|^Kiyohiko Komura$|^Vladimir Kozlinsky$|^KwieKulik$|^Suzanne Lacy$|^Lairesse$|^Robin Laurie$|^David Le Marchand$|^Hubert Le Sueur$|^Alexander Lebedev$|^London Gallery$|^Len Lye$|^Alex Mackay$|^A Marsingall$|^J. Martin  of Canterbury$|^E. Masters$|^Vladimir Mayakovsky$|^Dmitrii Melnikov$|^Francis Merivale$|^Dmitrii Moor$|^Morin$|^Melik Ohanian$|^James Orrock$|^Sylvia Pankhurst$|^Pallavi Paul$|^Osmar Peçanha$|^Sergei Ivanovich Pichugin$|^Paulo Pires$|^Olivia Plender$|^Anne and Patrick Poirier$|^R. H. Quaytman$|^Hester Reeve$|^Ingmar Reuter$|^Emilio Rivera$|^Russian School$|^Eduardo Salvatore$|^Gunther Sander$|^Mithu Sen$|^Stephanie Smith$|^Monika Sosnowska$|^Soviet School$|^William Staite-Murray$|^Haim Steinbach$|^Adolf Strakhov-Braslavsky$|^Dalmo Teixeira Filho$|^Tollemache$|^Léonard Cosme Totchemetcheho$|^V.Ch.K.$|^Adolphe Valette$|^Vara$|^Dee Villers$|^Francis Vivares$|^Imke Wagener$|^Shelagh Wakely$|^Richard Westmacott$|^José Yalenti$|^Jakub Julian Ziolkowski$\" )\n",
      "            FILTER (langMatches(lang(?label), \"EN\"))  .\n",
      "}\n",
      "\n",
      "\n",
      "\n",
      "PREFIX rdfs: <http://www.w3.org/2000/01/rdf-schema#>\n",
      "SELECT DISTINCT ?artist\n",
      "WHERE {\n",
      "    ?artist wdt:P31 wd:Q5 .\n",
      "    ?artist wdt:P106 ?occupation\n",
      "                  FILTER (?occupation IN (wd:Q33231) )   \n",
      "    ?artist rdfs:label ?label\n",
      "                  FILTER regex(?label, \"^Shusaku Arakawa$|^John Bacon$|^Ruth Baehnisch$|^A. Belloguet$|^Nikolaj Bendix Skyum Larsen$|^Caroline Bergvall$|^Christina Broom$|^Samuel Cooper$|^Viktor Deni$|^Juan Downey$|^Gaspard Dughet$|^Eugenio Espinoza$|^Josif Gerasimovich$|^Jack Goldstein$|^Lawrence Abu Hamdan$|^Stephen Herwijck$|^Highmore$|^Enrique Huerta$|^Inventory$|^Sergei Ivanov$|^K.O.S.$|^Amar Kanwar$|^Georgii Kibardin$|^Nikolai Kochergin$|^Nikolai Kogout$|^Kiyohiko Komura$|^Vladimir Kozlinsky$|^KwieKulik$|^Suzanne Lacy$|^Lairesse$|^Robin Laurie$|^David Le Marchand$|^Hubert Le Sueur$|^Alexander Lebedev$|^London Gallery$|^Len Lye$|^Alex Mackay$|^A Marsingall$|^J. Martin  of Canterbury$|^E. Masters$|^Vladimir Mayakovsky$|^Dmitrii Melnikov$|^Francis Merivale$|^Dmitrii Moor$|^Morin$|^Melik Ohanian$|^James Orrock$|^Sylvia Pankhurst$|^Pallavi Paul$|^Osmar Peçanha$|^Sergei Ivanovich Pichugin$|^Paulo Pires$|^Olivia Plender$|^Anne and Patrick Poirier$|^R. H. Quaytman$|^Hester Reeve$|^Ingmar Reuter$|^Emilio Rivera$|^Russian School$|^Eduardo Salvatore$|^Gunther Sander$|^Mithu Sen$|^Stephanie Smith$|^Monika Sosnowska$|^Soviet School$|^William Staite-Murray$|^Haim Steinbach$|^Adolf Strakhov-Braslavsky$|^Dalmo Teixeira Filho$|^Tollemache$|^Léonard Cosme Totchemetcheho$|^V.Ch.K.$|^Adolphe Valette$|^Vara$|^Dee Villers$|^Francis Vivares$|^Imke Wagener$|^Shelagh Wakely$|^Richard Westmacott$|^José Yalenti$|^Jakub Julian Ziolkowski$\" )\n",
      "            FILTER (langMatches(lang(?label), \"EN\"))  .\n",
      "}\n",
      "\n",
      "\n",
      "\n",
      "PREFIX rdfs: <http://www.w3.org/2000/01/rdf-schema#>\n",
      "SELECT DISTINCT ?artist\n",
      "WHERE {\n",
      "    ?artist wdt:P31 wd:Q5 .\n",
      "    ?artist wdt:P106 ?occupation\n",
      "                  FILTER (?occupation IN (wd:Q33231) )   \n",
      "    ?artist rdfs:label ?label\n",
      "                  FILTER regex(?label, \"^Shusaku Arakawa$|^John Bacon$|^Ruth Baehnisch$|^A. Belloguet$|^Nikolaj Bendix Skyum Larsen$|^Caroline Bergvall$|^Christina Broom$|^Samuel Cooper$|^Viktor Deni$|^Juan Downey$|^Gaspard Dughet$|^Eugenio Espinoza$|^Josif Gerasimovich$|^Jack Goldstein$|^Lawrence Abu Hamdan$|^Stephen Herwijck$|^Highmore$|^Enrique Huerta$|^Inventory$|^Sergei Ivanov$|^K.O.S.$|^Amar Kanwar$|^Georgii Kibardin$|^Nikolai Kochergin$|^Nikolai Kogout$|^Kiyohiko Komura$|^Vladimir Kozlinsky$|^KwieKulik$|^Suzanne Lacy$|^Lairesse$|^Robin Laurie$|^David Le Marchand$|^Hubert Le Sueur$|^Alexander Lebedev$|^London Gallery$|^Len Lye$|^Alex Mackay$|^A Marsingall$|^J. Martin  of Canterbury$|^E. Masters$|^Vladimir Mayakovsky$|^Dmitrii Melnikov$|^Francis Merivale$|^Dmitrii Moor$|^Morin$|^Melik Ohanian$|^James Orrock$|^Sylvia Pankhurst$|^Pallavi Paul$|^Osmar Peçanha$|^Sergei Ivanovich Pichugin$|^Paulo Pires$|^Olivia Plender$|^Anne and Patrick Poirier$|^R. H. Quaytman$|^Hester Reeve$|^Ingmar Reuter$|^Emilio Rivera$|^Russian School$|^Eduardo Salvatore$|^Gunther Sander$|^Mithu Sen$|^Stephanie Smith$|^Monika Sosnowska$|^Soviet School$|^William Staite-Murray$|^Haim Steinbach$|^Adolf Strakhov-Braslavsky$|^Dalmo Teixeira Filho$|^Tollemache$|^Léonard Cosme Totchemetcheho$|^V.Ch.K.$|^Adolphe Valette$|^Vara$|^Dee Villers$|^Francis Vivares$|^Imke Wagener$|^Shelagh Wakely$|^Richard Westmacott$|^José Yalenti$|^Jakub Julian Ziolkowski$\" )\n",
      "            FILTER (langMatches(lang(?label), \"EN\"))  .\n",
      "}\n",
      "\n",
      "\n"
     ]
    },
    {
     "name": "stdout",
     "output_type": "stream",
     "text": [
      "\n",
      "PREFIX rdfs: <http://www.w3.org/2000/01/rdf-schema#>\n",
      "SELECT DISTINCT ?artist\n",
      "WHERE {\n",
      "    ?artist wdt:P31 wd:Q5 .\n",
      "    ?artist wdt:P106 ?occupation\n",
      "                  FILTER (?occupation IN (wd:Q33231) )   \n",
      "    ?artist rdfs:label ?label\n",
      "                  FILTER regex(?label, \"^Shusaku Arakawa$|^John Bacon$|^Ruth Baehnisch$|^A. Belloguet$|^Nikolaj Bendix Skyum Larsen$|^Caroline Bergvall$|^Christina Broom$|^Samuel Cooper$|^Viktor Deni$|^Juan Downey$|^Gaspard Dughet$|^Eugenio Espinoza$|^Josif Gerasimovich$|^Jack Goldstein$|^Lawrence Abu Hamdan$|^Stephen Herwijck$|^Highmore$|^Enrique Huerta$|^Inventory$|^Sergei Ivanov$|^K.O.S.$|^Amar Kanwar$|^Georgii Kibardin$|^Nikolai Kochergin$|^Nikolai Kogout$|^Kiyohiko Komura$|^Vladimir Kozlinsky$|^KwieKulik$|^Suzanne Lacy$|^Lairesse$|^Robin Laurie$|^David Le Marchand$|^Hubert Le Sueur$|^Alexander Lebedev$|^London Gallery$|^Len Lye$|^Alex Mackay$|^A Marsingall$|^J. Martin  of Canterbury$|^E. Masters$|^Vladimir Mayakovsky$|^Dmitrii Melnikov$|^Francis Merivale$|^Dmitrii Moor$|^Morin$|^Melik Ohanian$|^James Orrock$|^Sylvia Pankhurst$|^Pallavi Paul$|^Osmar Peçanha$|^Sergei Ivanovich Pichugin$|^Paulo Pires$|^Olivia Plender$|^Anne and Patrick Poirier$|^R. H. Quaytman$|^Hester Reeve$|^Ingmar Reuter$|^Emilio Rivera$|^Russian School$|^Eduardo Salvatore$|^Gunther Sander$|^Mithu Sen$|^Stephanie Smith$|^Monika Sosnowska$|^Soviet School$|^William Staite-Murray$|^Haim Steinbach$|^Adolf Strakhov-Braslavsky$|^Dalmo Teixeira Filho$|^Tollemache$|^Léonard Cosme Totchemetcheho$|^V.Ch.K.$|^Adolphe Valette$|^Vara$|^Dee Villers$|^Francis Vivares$|^Imke Wagener$|^Shelagh Wakely$|^Richard Westmacott$|^José Yalenti$|^Jakub Julian Ziolkowski$\" )\n",
      "            FILTER (langMatches(lang(?label), \"EN\"))  .\n",
      "}\n",
      "\n",
      "\n",
      "\n",
      "PREFIX rdfs: <http://www.w3.org/2000/01/rdf-schema#>\n",
      "SELECT DISTINCT ?artist\n",
      "WHERE {\n",
      "    ?artist wdt:P31 wd:Q5 .\n",
      "    ?artist wdt:P106 ?occupation\n",
      "                  FILTER (?occupation IN (wd:Q33231) )   \n",
      "    ?artist rdfs:label ?label\n",
      "                  FILTER regex(?label, \"^Shusaku Arakawa$|^John Bacon$|^Ruth Baehnisch$|^A. Belloguet$|^Nikolaj Bendix Skyum Larsen$|^Caroline Bergvall$|^Christina Broom$|^Samuel Cooper$|^Viktor Deni$|^Juan Downey$|^Gaspard Dughet$|^Eugenio Espinoza$|^Josif Gerasimovich$|^Jack Goldstein$|^Lawrence Abu Hamdan$|^Stephen Herwijck$|^Highmore$|^Enrique Huerta$|^Inventory$|^Sergei Ivanov$|^K.O.S.$|^Amar Kanwar$|^Georgii Kibardin$|^Nikolai Kochergin$|^Nikolai Kogout$|^Kiyohiko Komura$|^Vladimir Kozlinsky$|^KwieKulik$|^Suzanne Lacy$|^Lairesse$|^Robin Laurie$|^David Le Marchand$|^Hubert Le Sueur$|^Alexander Lebedev$|^London Gallery$|^Len Lye$|^Alex Mackay$|^A Marsingall$|^J. Martin  of Canterbury$|^E. Masters$|^Vladimir Mayakovsky$|^Dmitrii Melnikov$|^Francis Merivale$|^Dmitrii Moor$|^Morin$|^Melik Ohanian$|^James Orrock$|^Sylvia Pankhurst$|^Pallavi Paul$|^Osmar Peçanha$|^Sergei Ivanovich Pichugin$|^Paulo Pires$|^Olivia Plender$|^Anne and Patrick Poirier$|^R. H. Quaytman$|^Hester Reeve$|^Ingmar Reuter$|^Emilio Rivera$|^Russian School$|^Eduardo Salvatore$|^Gunther Sander$|^Mithu Sen$|^Stephanie Smith$|^Monika Sosnowska$|^Soviet School$|^William Staite-Murray$|^Haim Steinbach$|^Adolf Strakhov-Braslavsky$|^Dalmo Teixeira Filho$|^Tollemache$|^Léonard Cosme Totchemetcheho$|^V.Ch.K.$|^Adolphe Valette$|^Vara$|^Dee Villers$|^Francis Vivares$|^Imke Wagener$|^Shelagh Wakely$|^Richard Westmacott$|^José Yalenti$|^Jakub Julian Ziolkowski$\" )\n",
      "            FILTER (langMatches(lang(?label), \"EN\"))  .\n",
      "}\n",
      "\n",
      "\n",
      "\n",
      "PREFIX rdfs: <http://www.w3.org/2000/01/rdf-schema#>\n",
      "SELECT DISTINCT ?artist\n",
      "WHERE {\n",
      "    ?artist wdt:P31 wd:Q5 .\n",
      "    ?artist wdt:P106 ?occupation\n",
      "                  FILTER (?occupation IN (wd:Q33231) )   \n",
      "    ?artist rdfs:label ?label\n",
      "                  FILTER regex(?label, \"^Shusaku Arakawa$|^John Bacon$|^Ruth Baehnisch$|^A. Belloguet$|^Nikolaj Bendix Skyum Larsen$|^Caroline Bergvall$|^Christina Broom$|^Samuel Cooper$|^Viktor Deni$|^Juan Downey$|^Gaspard Dughet$|^Eugenio Espinoza$|^Josif Gerasimovich$|^Jack Goldstein$|^Lawrence Abu Hamdan$|^Stephen Herwijck$|^Highmore$|^Enrique Huerta$|^Inventory$|^Sergei Ivanov$|^K.O.S.$|^Amar Kanwar$|^Georgii Kibardin$|^Nikolai Kochergin$|^Nikolai Kogout$|^Kiyohiko Komura$|^Vladimir Kozlinsky$|^KwieKulik$|^Suzanne Lacy$|^Lairesse$|^Robin Laurie$|^David Le Marchand$|^Hubert Le Sueur$|^Alexander Lebedev$|^London Gallery$|^Len Lye$|^Alex Mackay$|^A Marsingall$|^J. Martin  of Canterbury$|^E. Masters$|^Vladimir Mayakovsky$|^Dmitrii Melnikov$|^Francis Merivale$|^Dmitrii Moor$|^Morin$|^Melik Ohanian$|^James Orrock$|^Sylvia Pankhurst$|^Pallavi Paul$|^Osmar Peçanha$|^Sergei Ivanovich Pichugin$|^Paulo Pires$|^Olivia Plender$|^Anne and Patrick Poirier$|^R. H. Quaytman$|^Hester Reeve$|^Ingmar Reuter$|^Emilio Rivera$|^Russian School$|^Eduardo Salvatore$|^Gunther Sander$|^Mithu Sen$|^Stephanie Smith$|^Monika Sosnowska$|^Soviet School$|^William Staite-Murray$|^Haim Steinbach$|^Adolf Strakhov-Braslavsky$|^Dalmo Teixeira Filho$|^Tollemache$|^Léonard Cosme Totchemetcheho$|^V.Ch.K.$|^Adolphe Valette$|^Vara$|^Dee Villers$|^Francis Vivares$|^Imke Wagener$|^Shelagh Wakely$|^Richard Westmacott$|^José Yalenti$|^Jakub Julian Ziolkowski$\" )\n",
      "            FILTER (langMatches(lang(?label), \"EN\"))  .\n",
      "}\n",
      "\n",
      "\n",
      "\n",
      "PREFIX rdfs: <http://www.w3.org/2000/01/rdf-schema#>\n",
      "SELECT DISTINCT ?artist\n",
      "WHERE {\n",
      "    ?artist wdt:P31 wd:Q5 .\n",
      "    ?artist wdt:P106 ?occupation\n",
      "                  FILTER (?occupation IN (wd:Q33231) )   \n",
      "    ?artist rdfs:label ?label\n",
      "                  FILTER regex(?label, \"^Shusaku Arakawa$|^John Bacon$|^Ruth Baehnisch$|^A. Belloguet$|^Nikolaj Bendix Skyum Larsen$|^Caroline Bergvall$|^Christina Broom$|^Samuel Cooper$|^Viktor Deni$|^Juan Downey$|^Gaspard Dughet$|^Eugenio Espinoza$|^Josif Gerasimovich$|^Jack Goldstein$|^Lawrence Abu Hamdan$|^Stephen Herwijck$|^Highmore$|^Enrique Huerta$|^Inventory$|^Sergei Ivanov$|^K.O.S.$|^Amar Kanwar$|^Georgii Kibardin$|^Nikolai Kochergin$|^Nikolai Kogout$|^Kiyohiko Komura$|^Vladimir Kozlinsky$|^KwieKulik$|^Suzanne Lacy$|^Lairesse$|^Robin Laurie$|^David Le Marchand$|^Hubert Le Sueur$|^Alexander Lebedev$|^London Gallery$|^Len Lye$|^Alex Mackay$|^A Marsingall$|^J. Martin  of Canterbury$|^E. Masters$|^Vladimir Mayakovsky$|^Dmitrii Melnikov$|^Francis Merivale$|^Dmitrii Moor$|^Morin$|^Melik Ohanian$|^James Orrock$|^Sylvia Pankhurst$|^Pallavi Paul$|^Osmar Peçanha$|^Sergei Ivanovich Pichugin$|^Paulo Pires$|^Olivia Plender$|^Anne and Patrick Poirier$|^R. H. Quaytman$|^Hester Reeve$|^Ingmar Reuter$|^Emilio Rivera$|^Russian School$|^Eduardo Salvatore$|^Gunther Sander$|^Mithu Sen$|^Stephanie Smith$|^Monika Sosnowska$|^Soviet School$|^William Staite-Murray$|^Haim Steinbach$|^Adolf Strakhov-Braslavsky$|^Dalmo Teixeira Filho$|^Tollemache$|^Léonard Cosme Totchemetcheho$|^V.Ch.K.$|^Adolphe Valette$|^Vara$|^Dee Villers$|^Francis Vivares$|^Imke Wagener$|^Shelagh Wakely$|^Richard Westmacott$|^José Yalenti$|^Jakub Julian Ziolkowski$\" )\n",
      "            FILTER (langMatches(lang(?label), \"EN\"))  .\n",
      "}\n",
      "\n",
      "\n",
      "\n",
      "PREFIX rdfs: <http://www.w3.org/2000/01/rdf-schema#>\n",
      "SELECT DISTINCT ?artist\n",
      "WHERE {\n",
      "    ?artist wdt:P31 wd:Q5 .\n",
      "    ?artist wdt:P106 ?occupation\n",
      "                  FILTER (?occupation IN (wd:Q33231) )   \n",
      "    ?artist rdfs:label ?label\n",
      "                  FILTER regex(?label, \"^Shusaku Arakawa$|^John Bacon$|^Ruth Baehnisch$|^A. Belloguet$|^Nikolaj Bendix Skyum Larsen$|^Caroline Bergvall$|^Christina Broom$|^Samuel Cooper$|^Viktor Deni$|^Juan Downey$|^Gaspard Dughet$|^Eugenio Espinoza$|^Josif Gerasimovich$|^Jack Goldstein$|^Lawrence Abu Hamdan$|^Stephen Herwijck$|^Highmore$|^Enrique Huerta$|^Inventory$|^Sergei Ivanov$|^K.O.S.$|^Amar Kanwar$|^Georgii Kibardin$|^Nikolai Kochergin$|^Nikolai Kogout$|^Kiyohiko Komura$|^Vladimir Kozlinsky$|^KwieKulik$|^Suzanne Lacy$|^Lairesse$|^Robin Laurie$|^David Le Marchand$|^Hubert Le Sueur$|^Alexander Lebedev$|^London Gallery$|^Len Lye$|^Alex Mackay$|^A Marsingall$|^J. Martin  of Canterbury$|^E. Masters$|^Vladimir Mayakovsky$|^Dmitrii Melnikov$|^Francis Merivale$|^Dmitrii Moor$|^Morin$|^Melik Ohanian$|^James Orrock$|^Sylvia Pankhurst$|^Pallavi Paul$|^Osmar Peçanha$|^Sergei Ivanovich Pichugin$|^Paulo Pires$|^Olivia Plender$|^Anne and Patrick Poirier$|^R. H. Quaytman$|^Hester Reeve$|^Ingmar Reuter$|^Emilio Rivera$|^Russian School$|^Eduardo Salvatore$|^Gunther Sander$|^Mithu Sen$|^Stephanie Smith$|^Monika Sosnowska$|^Soviet School$|^William Staite-Murray$|^Haim Steinbach$|^Adolf Strakhov-Braslavsky$|^Dalmo Teixeira Filho$|^Tollemache$|^Léonard Cosme Totchemetcheho$|^V.Ch.K.$|^Adolphe Valette$|^Vara$|^Dee Villers$|^Francis Vivares$|^Imke Wagener$|^Shelagh Wakely$|^Richard Westmacott$|^José Yalenti$|^Jakub Julian Ziolkowski$\" )\n",
      "            FILTER (langMatches(lang(?label), \"EN\"))  .\n",
      "}\n",
      "\n",
      "\n"
     ]
    },
    {
     "name": "stdout",
     "output_type": "stream",
     "text": [
      "\n",
      "PREFIX rdfs: <http://www.w3.org/2000/01/rdf-schema#>\n",
      "SELECT DISTINCT ?artist\n",
      "WHERE {\n",
      "    ?artist wdt:P31 wd:Q5 .\n",
      "    ?artist wdt:P106 ?occupation\n",
      "                  FILTER (?occupation IN (wd:Q33231) )   \n",
      "    ?artist rdfs:label ?label\n",
      "                  FILTER regex(?label, \"^Shusaku Arakawa$|^John Bacon$|^Ruth Baehnisch$|^A. Belloguet$|^Nikolaj Bendix Skyum Larsen$|^Caroline Bergvall$|^Christina Broom$|^Samuel Cooper$|^Viktor Deni$|^Juan Downey$|^Gaspard Dughet$|^Eugenio Espinoza$|^Josif Gerasimovich$|^Jack Goldstein$|^Lawrence Abu Hamdan$|^Stephen Herwijck$|^Highmore$|^Enrique Huerta$|^Inventory$|^Sergei Ivanov$|^K.O.S.$|^Amar Kanwar$|^Georgii Kibardin$|^Nikolai Kochergin$|^Nikolai Kogout$|^Kiyohiko Komura$|^Vladimir Kozlinsky$|^KwieKulik$|^Suzanne Lacy$|^Lairesse$|^Robin Laurie$|^David Le Marchand$|^Hubert Le Sueur$|^Alexander Lebedev$|^London Gallery$|^Len Lye$|^Alex Mackay$|^A Marsingall$|^J. Martin  of Canterbury$|^E. Masters$|^Vladimir Mayakovsky$|^Dmitrii Melnikov$|^Francis Merivale$|^Dmitrii Moor$|^Morin$|^Melik Ohanian$|^James Orrock$|^Sylvia Pankhurst$|^Pallavi Paul$|^Osmar Peçanha$|^Sergei Ivanovich Pichugin$|^Paulo Pires$|^Olivia Plender$|^Anne and Patrick Poirier$|^R. H. Quaytman$|^Hester Reeve$|^Ingmar Reuter$|^Emilio Rivera$|^Russian School$|^Eduardo Salvatore$|^Gunther Sander$|^Mithu Sen$|^Stephanie Smith$|^Monika Sosnowska$|^Soviet School$|^William Staite-Murray$|^Haim Steinbach$|^Adolf Strakhov-Braslavsky$|^Dalmo Teixeira Filho$|^Tollemache$|^Léonard Cosme Totchemetcheho$|^V.Ch.K.$|^Adolphe Valette$|^Vara$|^Dee Villers$|^Francis Vivares$|^Imke Wagener$|^Shelagh Wakely$|^Richard Westmacott$|^José Yalenti$|^Jakub Julian Ziolkowski$\" )\n",
      "            FILTER (langMatches(lang(?label), \"EN\"))  .\n",
      "}\n",
      "\n",
      "\n",
      "\n",
      "PREFIX rdfs: <http://www.w3.org/2000/01/rdf-schema#>\n",
      "SELECT DISTINCT ?artist\n",
      "WHERE {\n",
      "    ?artist wdt:P31 wd:Q5 .\n",
      "    ?artist wdt:P106 ?occupation\n",
      "                  FILTER (?occupation IN (wd:Q33231) )   \n",
      "    ?artist rdfs:label ?label\n",
      "                  FILTER regex(?label, \"^Shusaku Arakawa$|^John Bacon$|^Ruth Baehnisch$|^A. Belloguet$|^Nikolaj Bendix Skyum Larsen$|^Caroline Bergvall$|^Christina Broom$|^Samuel Cooper$|^Viktor Deni$|^Juan Downey$|^Gaspard Dughet$|^Eugenio Espinoza$|^Josif Gerasimovich$|^Jack Goldstein$|^Lawrence Abu Hamdan$|^Stephen Herwijck$|^Highmore$|^Enrique Huerta$|^Inventory$|^Sergei Ivanov$|^K.O.S.$|^Amar Kanwar$|^Georgii Kibardin$|^Nikolai Kochergin$|^Nikolai Kogout$|^Kiyohiko Komura$|^Vladimir Kozlinsky$|^KwieKulik$|^Suzanne Lacy$|^Lairesse$|^Robin Laurie$|^David Le Marchand$|^Hubert Le Sueur$|^Alexander Lebedev$|^London Gallery$|^Len Lye$|^Alex Mackay$|^A Marsingall$|^J. Martin  of Canterbury$|^E. Masters$|^Vladimir Mayakovsky$|^Dmitrii Melnikov$|^Francis Merivale$|^Dmitrii Moor$|^Morin$|^Melik Ohanian$|^James Orrock$|^Sylvia Pankhurst$|^Pallavi Paul$|^Osmar Peçanha$|^Sergei Ivanovich Pichugin$|^Paulo Pires$|^Olivia Plender$|^Anne and Patrick Poirier$|^R. H. Quaytman$|^Hester Reeve$|^Ingmar Reuter$|^Emilio Rivera$|^Russian School$|^Eduardo Salvatore$|^Gunther Sander$|^Mithu Sen$|^Stephanie Smith$|^Monika Sosnowska$|^Soviet School$|^William Staite-Murray$|^Haim Steinbach$|^Adolf Strakhov-Braslavsky$|^Dalmo Teixeira Filho$|^Tollemache$|^Léonard Cosme Totchemetcheho$|^V.Ch.K.$|^Adolphe Valette$|^Vara$|^Dee Villers$|^Francis Vivares$|^Imke Wagener$|^Shelagh Wakely$|^Richard Westmacott$|^José Yalenti$|^Jakub Julian Ziolkowski$\" )\n",
      "            FILTER (langMatches(lang(?label), \"EN\"))  .\n",
      "}\n",
      "\n",
      "\n",
      "\n",
      "PREFIX rdfs: <http://www.w3.org/2000/01/rdf-schema#>\n",
      "SELECT DISTINCT ?artist\n",
      "WHERE {\n",
      "    ?artist wdt:P31 wd:Q5 .\n",
      "    ?artist wdt:P106 ?occupation\n",
      "                  FILTER (?occupation IN (wd:Q33231) )   \n",
      "    ?artist rdfs:label ?label\n",
      "                  FILTER regex(?label, \"^Shusaku Arakawa$|^John Bacon$|^Ruth Baehnisch$|^A. Belloguet$|^Nikolaj Bendix Skyum Larsen$|^Caroline Bergvall$|^Christina Broom$|^Samuel Cooper$|^Viktor Deni$|^Juan Downey$|^Gaspard Dughet$|^Eugenio Espinoza$|^Josif Gerasimovich$|^Jack Goldstein$|^Lawrence Abu Hamdan$|^Stephen Herwijck$|^Highmore$|^Enrique Huerta$|^Inventory$|^Sergei Ivanov$|^K.O.S.$|^Amar Kanwar$|^Georgii Kibardin$|^Nikolai Kochergin$|^Nikolai Kogout$|^Kiyohiko Komura$|^Vladimir Kozlinsky$|^KwieKulik$|^Suzanne Lacy$|^Lairesse$|^Robin Laurie$|^David Le Marchand$|^Hubert Le Sueur$|^Alexander Lebedev$|^London Gallery$|^Len Lye$|^Alex Mackay$|^A Marsingall$|^J. Martin  of Canterbury$|^E. Masters$|^Vladimir Mayakovsky$|^Dmitrii Melnikov$|^Francis Merivale$|^Dmitrii Moor$|^Morin$|^Melik Ohanian$|^James Orrock$|^Sylvia Pankhurst$|^Pallavi Paul$|^Osmar Peçanha$|^Sergei Ivanovich Pichugin$|^Paulo Pires$|^Olivia Plender$|^Anne and Patrick Poirier$|^R. H. Quaytman$|^Hester Reeve$|^Ingmar Reuter$|^Emilio Rivera$|^Russian School$|^Eduardo Salvatore$|^Gunther Sander$|^Mithu Sen$|^Stephanie Smith$|^Monika Sosnowska$|^Soviet School$|^William Staite-Murray$|^Haim Steinbach$|^Adolf Strakhov-Braslavsky$|^Dalmo Teixeira Filho$|^Tollemache$|^Léonard Cosme Totchemetcheho$|^V.Ch.K.$|^Adolphe Valette$|^Vara$|^Dee Villers$|^Francis Vivares$|^Imke Wagener$|^Shelagh Wakely$|^Richard Westmacott$|^José Yalenti$|^Jakub Julian Ziolkowski$\" )\n",
      "            FILTER (langMatches(lang(?label), \"EN\"))  .\n",
      "}\n",
      "\n",
      "\n",
      "\n",
      "PREFIX rdfs: <http://www.w3.org/2000/01/rdf-schema#>\n",
      "SELECT DISTINCT ?artist\n",
      "WHERE {\n",
      "    ?artist wdt:P31 wd:Q5 .\n",
      "    ?artist wdt:P106 ?occupation\n",
      "                  FILTER (?occupation IN (wd:Q33231) )   \n",
      "    ?artist rdfs:label ?label\n",
      "                  FILTER regex(?label, \"^Shusaku Arakawa$|^John Bacon$|^Ruth Baehnisch$|^A. Belloguet$|^Nikolaj Bendix Skyum Larsen$|^Caroline Bergvall$|^Christina Broom$|^Samuel Cooper$|^Viktor Deni$|^Juan Downey$|^Gaspard Dughet$|^Eugenio Espinoza$|^Josif Gerasimovich$|^Jack Goldstein$|^Lawrence Abu Hamdan$|^Stephen Herwijck$|^Highmore$|^Enrique Huerta$|^Inventory$|^Sergei Ivanov$|^K.O.S.$|^Amar Kanwar$|^Georgii Kibardin$|^Nikolai Kochergin$|^Nikolai Kogout$|^Kiyohiko Komura$|^Vladimir Kozlinsky$|^KwieKulik$|^Suzanne Lacy$|^Lairesse$|^Robin Laurie$|^David Le Marchand$|^Hubert Le Sueur$|^Alexander Lebedev$|^London Gallery$|^Len Lye$|^Alex Mackay$|^A Marsingall$|^J. Martin  of Canterbury$|^E. Masters$|^Vladimir Mayakovsky$|^Dmitrii Melnikov$|^Francis Merivale$|^Dmitrii Moor$|^Morin$|^Melik Ohanian$|^James Orrock$|^Sylvia Pankhurst$|^Pallavi Paul$|^Osmar Peçanha$|^Sergei Ivanovich Pichugin$|^Paulo Pires$|^Olivia Plender$|^Anne and Patrick Poirier$|^R. H. Quaytman$|^Hester Reeve$|^Ingmar Reuter$|^Emilio Rivera$|^Russian School$|^Eduardo Salvatore$|^Gunther Sander$|^Mithu Sen$|^Stephanie Smith$|^Monika Sosnowska$|^Soviet School$|^William Staite-Murray$|^Haim Steinbach$|^Adolf Strakhov-Braslavsky$|^Dalmo Teixeira Filho$|^Tollemache$|^Léonard Cosme Totchemetcheho$|^V.Ch.K.$|^Adolphe Valette$|^Vara$|^Dee Villers$|^Francis Vivares$|^Imke Wagener$|^Shelagh Wakely$|^Richard Westmacott$|^José Yalenti$|^Jakub Julian Ziolkowski$\" )\n",
      "            FILTER (langMatches(lang(?label), \"EN\"))  .\n",
      "}\n",
      "\n",
      "\n",
      "\n",
      "PREFIX rdfs: <http://www.w3.org/2000/01/rdf-schema#>\n",
      "SELECT DISTINCT ?artist\n",
      "WHERE {\n",
      "    ?artist wdt:P31 wd:Q5 .\n",
      "    ?artist wdt:P106 ?occupation\n",
      "                  FILTER (?occupation IN (wd:Q33231) )   \n",
      "    ?artist rdfs:label ?label\n",
      "                  FILTER regex(?label, \"^Shusaku Arakawa$|^John Bacon$|^Ruth Baehnisch$|^A. Belloguet$|^Nikolaj Bendix Skyum Larsen$|^Caroline Bergvall$|^Christina Broom$|^Samuel Cooper$|^Viktor Deni$|^Juan Downey$|^Gaspard Dughet$|^Eugenio Espinoza$|^Josif Gerasimovich$|^Jack Goldstein$|^Lawrence Abu Hamdan$|^Stephen Herwijck$|^Highmore$|^Enrique Huerta$|^Inventory$|^Sergei Ivanov$|^K.O.S.$|^Amar Kanwar$|^Georgii Kibardin$|^Nikolai Kochergin$|^Nikolai Kogout$|^Kiyohiko Komura$|^Vladimir Kozlinsky$|^KwieKulik$|^Suzanne Lacy$|^Lairesse$|^Robin Laurie$|^David Le Marchand$|^Hubert Le Sueur$|^Alexander Lebedev$|^London Gallery$|^Len Lye$|^Alex Mackay$|^A Marsingall$|^J. Martin  of Canterbury$|^E. Masters$|^Vladimir Mayakovsky$|^Dmitrii Melnikov$|^Francis Merivale$|^Dmitrii Moor$|^Morin$|^Melik Ohanian$|^James Orrock$|^Sylvia Pankhurst$|^Pallavi Paul$|^Osmar Peçanha$|^Sergei Ivanovich Pichugin$|^Paulo Pires$|^Olivia Plender$|^Anne and Patrick Poirier$|^R. H. Quaytman$|^Hester Reeve$|^Ingmar Reuter$|^Emilio Rivera$|^Russian School$|^Eduardo Salvatore$|^Gunther Sander$|^Mithu Sen$|^Stephanie Smith$|^Monika Sosnowska$|^Soviet School$|^William Staite-Murray$|^Haim Steinbach$|^Adolf Strakhov-Braslavsky$|^Dalmo Teixeira Filho$|^Tollemache$|^Léonard Cosme Totchemetcheho$|^V.Ch.K.$|^Adolphe Valette$|^Vara$|^Dee Villers$|^Francis Vivares$|^Imke Wagener$|^Shelagh Wakely$|^Richard Westmacott$|^José Yalenti$|^Jakub Julian Ziolkowski$\" )\n",
      "            FILTER (langMatches(lang(?label), \"EN\"))  .\n",
      "}\n",
      "\n",
      "\n",
      "\n",
      "PREFIX rdfs: <http://www.w3.org/2000/01/rdf-schema#>\n",
      "SELECT DISTINCT ?artist\n",
      "WHERE {\n",
      "    ?artist wdt:P31 wd:Q5 .\n",
      "    ?artist wdt:P106 ?occupation\n",
      "                  FILTER (?occupation IN (wd:Q33231) )   \n",
      "    ?artist rdfs:label ?label\n",
      "                  FILTER regex(?label, \"^Shusaku Arakawa$|^John Bacon$|^Ruth Baehnisch$|^A. Belloguet$|^Nikolaj Bendix Skyum Larsen$|^Caroline Bergvall$|^Christina Broom$|^Samuel Cooper$|^Viktor Deni$|^Juan Downey$|^Gaspard Dughet$|^Eugenio Espinoza$|^Josif Gerasimovich$|^Jack Goldstein$|^Lawrence Abu Hamdan$|^Stephen Herwijck$|^Highmore$|^Enrique Huerta$|^Inventory$|^Sergei Ivanov$|^K.O.S.$|^Amar Kanwar$|^Georgii Kibardin$|^Nikolai Kochergin$|^Nikolai Kogout$|^Kiyohiko Komura$|^Vladimir Kozlinsky$|^KwieKulik$|^Suzanne Lacy$|^Lairesse$|^Robin Laurie$|^David Le Marchand$|^Hubert Le Sueur$|^Alexander Lebedev$|^London Gallery$|^Len Lye$|^Alex Mackay$|^A Marsingall$|^J. Martin  of Canterbury$|^E. Masters$|^Vladimir Mayakovsky$|^Dmitrii Melnikov$|^Francis Merivale$|^Dmitrii Moor$|^Morin$|^Melik Ohanian$|^James Orrock$|^Sylvia Pankhurst$|^Pallavi Paul$|^Osmar Peçanha$|^Sergei Ivanovich Pichugin$|^Paulo Pires$|^Olivia Plender$|^Anne and Patrick Poirier$|^R. H. Quaytman$|^Hester Reeve$|^Ingmar Reuter$|^Emilio Rivera$|^Russian School$|^Eduardo Salvatore$|^Gunther Sander$|^Mithu Sen$|^Stephanie Smith$|^Monika Sosnowska$|^Soviet School$|^William Staite-Murray$|^Haim Steinbach$|^Adolf Strakhov-Braslavsky$|^Dalmo Teixeira Filho$|^Tollemache$|^Léonard Cosme Totchemetcheho$|^V.Ch.K.$|^Adolphe Valette$|^Vara$|^Dee Villers$|^Francis Vivares$|^Imke Wagener$|^Shelagh Wakely$|^Richard Westmacott$|^José Yalenti$|^Jakub Julian Ziolkowski$\" )\n",
      "            FILTER (langMatches(lang(?label), \"EN\"))  .\n",
      "}\n",
      "\n",
      "\n"
     ]
    },
    {
     "name": "stdout",
     "output_type": "stream",
     "text": [
      "\n",
      "PREFIX rdfs: <http://www.w3.org/2000/01/rdf-schema#>\n",
      "SELECT DISTINCT ?artist\n",
      "WHERE {\n",
      "    ?artist wdt:P31 wd:Q5 .\n",
      "    ?artist wdt:P106 ?occupation\n",
      "                  FILTER (?occupation IN (wd:Q33231) )   \n",
      "    ?artist rdfs:label ?label\n",
      "                  FILTER regex(?label, \"^Shusaku Arakawa$|^John Bacon$|^Ruth Baehnisch$|^A. Belloguet$|^Nikolaj Bendix Skyum Larsen$|^Caroline Bergvall$|^Christina Broom$|^Samuel Cooper$|^Viktor Deni$|^Juan Downey$|^Gaspard Dughet$|^Eugenio Espinoza$|^Josif Gerasimovich$|^Jack Goldstein$|^Lawrence Abu Hamdan$|^Stephen Herwijck$|^Highmore$|^Enrique Huerta$|^Inventory$|^Sergei Ivanov$|^K.O.S.$|^Amar Kanwar$|^Georgii Kibardin$|^Nikolai Kochergin$|^Nikolai Kogout$|^Kiyohiko Komura$|^Vladimir Kozlinsky$|^KwieKulik$|^Suzanne Lacy$|^Lairesse$|^Robin Laurie$|^David Le Marchand$|^Hubert Le Sueur$|^Alexander Lebedev$|^London Gallery$|^Len Lye$|^Alex Mackay$|^A Marsingall$|^J. Martin  of Canterbury$|^E. Masters$|^Vladimir Mayakovsky$|^Dmitrii Melnikov$|^Francis Merivale$|^Dmitrii Moor$|^Morin$|^Melik Ohanian$|^James Orrock$|^Sylvia Pankhurst$|^Pallavi Paul$|^Osmar Peçanha$|^Sergei Ivanovich Pichugin$|^Paulo Pires$|^Olivia Plender$|^Anne and Patrick Poirier$|^R. H. Quaytman$|^Hester Reeve$|^Ingmar Reuter$|^Emilio Rivera$|^Russian School$|^Eduardo Salvatore$|^Gunther Sander$|^Mithu Sen$|^Stephanie Smith$|^Monika Sosnowska$|^Soviet School$|^William Staite-Murray$|^Haim Steinbach$|^Adolf Strakhov-Braslavsky$|^Dalmo Teixeira Filho$|^Tollemache$|^Léonard Cosme Totchemetcheho$|^V.Ch.K.$|^Adolphe Valette$|^Vara$|^Dee Villers$|^Francis Vivares$|^Imke Wagener$|^Shelagh Wakely$|^Richard Westmacott$|^José Yalenti$|^Jakub Julian Ziolkowski$\" )\n",
      "            FILTER (langMatches(lang(?label), \"EN\"))  .\n",
      "}\n",
      "\n",
      "\n",
      "\n",
      "PREFIX rdfs: <http://www.w3.org/2000/01/rdf-schema#>\n",
      "SELECT DISTINCT ?artist\n",
      "WHERE {\n",
      "    ?artist wdt:P31 wd:Q5 .\n",
      "    ?artist wdt:P106 ?occupation\n",
      "                  FILTER (?occupation IN (wd:Q33231) )   \n",
      "    ?artist rdfs:label ?label\n",
      "                  FILTER regex(?label, \"^Shusaku Arakawa$|^John Bacon$|^Ruth Baehnisch$|^A. Belloguet$|^Nikolaj Bendix Skyum Larsen$|^Caroline Bergvall$|^Christina Broom$|^Samuel Cooper$|^Viktor Deni$|^Juan Downey$|^Gaspard Dughet$|^Eugenio Espinoza$|^Josif Gerasimovich$|^Jack Goldstein$|^Lawrence Abu Hamdan$|^Stephen Herwijck$|^Highmore$|^Enrique Huerta$|^Inventory$|^Sergei Ivanov$|^K.O.S.$|^Amar Kanwar$|^Georgii Kibardin$|^Nikolai Kochergin$|^Nikolai Kogout$|^Kiyohiko Komura$|^Vladimir Kozlinsky$|^KwieKulik$|^Suzanne Lacy$|^Lairesse$|^Robin Laurie$|^David Le Marchand$|^Hubert Le Sueur$|^Alexander Lebedev$|^London Gallery$|^Len Lye$|^Alex Mackay$|^A Marsingall$|^J. Martin  of Canterbury$|^E. Masters$|^Vladimir Mayakovsky$|^Dmitrii Melnikov$|^Francis Merivale$|^Dmitrii Moor$|^Morin$|^Melik Ohanian$|^James Orrock$|^Sylvia Pankhurst$|^Pallavi Paul$|^Osmar Peçanha$|^Sergei Ivanovich Pichugin$|^Paulo Pires$|^Olivia Plender$|^Anne and Patrick Poirier$|^R. H. Quaytman$|^Hester Reeve$|^Ingmar Reuter$|^Emilio Rivera$|^Russian School$|^Eduardo Salvatore$|^Gunther Sander$|^Mithu Sen$|^Stephanie Smith$|^Monika Sosnowska$|^Soviet School$|^William Staite-Murray$|^Haim Steinbach$|^Adolf Strakhov-Braslavsky$|^Dalmo Teixeira Filho$|^Tollemache$|^Léonard Cosme Totchemetcheho$|^V.Ch.K.$|^Adolphe Valette$|^Vara$|^Dee Villers$|^Francis Vivares$|^Imke Wagener$|^Shelagh Wakely$|^Richard Westmacott$|^José Yalenti$|^Jakub Julian Ziolkowski$\" )\n",
      "            FILTER (langMatches(lang(?label), \"EN\"))  .\n",
      "}\n",
      "\n",
      "\n",
      "\n",
      "PREFIX rdfs: <http://www.w3.org/2000/01/rdf-schema#>\n",
      "SELECT DISTINCT ?artist\n",
      "WHERE {\n",
      "    ?artist wdt:P31 wd:Q5 .\n",
      "    ?artist wdt:P106 ?occupation\n",
      "                  FILTER (?occupation IN (wd:Q33231) )   \n",
      "    ?artist rdfs:label ?label\n",
      "                  FILTER regex(?label, \"^Shusaku Arakawa$|^John Bacon$|^Ruth Baehnisch$|^A. Belloguet$|^Nikolaj Bendix Skyum Larsen$|^Caroline Bergvall$|^Christina Broom$|^Samuel Cooper$|^Viktor Deni$|^Juan Downey$|^Gaspard Dughet$|^Eugenio Espinoza$|^Josif Gerasimovich$|^Jack Goldstein$|^Lawrence Abu Hamdan$|^Stephen Herwijck$|^Highmore$|^Enrique Huerta$|^Inventory$|^Sergei Ivanov$|^K.O.S.$|^Amar Kanwar$|^Georgii Kibardin$|^Nikolai Kochergin$|^Nikolai Kogout$|^Kiyohiko Komura$|^Vladimir Kozlinsky$|^KwieKulik$|^Suzanne Lacy$|^Lairesse$|^Robin Laurie$|^David Le Marchand$|^Hubert Le Sueur$|^Alexander Lebedev$|^London Gallery$|^Len Lye$|^Alex Mackay$|^A Marsingall$|^J. Martin  of Canterbury$|^E. Masters$|^Vladimir Mayakovsky$|^Dmitrii Melnikov$|^Francis Merivale$|^Dmitrii Moor$|^Morin$|^Melik Ohanian$|^James Orrock$|^Sylvia Pankhurst$|^Pallavi Paul$|^Osmar Peçanha$|^Sergei Ivanovich Pichugin$|^Paulo Pires$|^Olivia Plender$|^Anne and Patrick Poirier$|^R. H. Quaytman$|^Hester Reeve$|^Ingmar Reuter$|^Emilio Rivera$|^Russian School$|^Eduardo Salvatore$|^Gunther Sander$|^Mithu Sen$|^Stephanie Smith$|^Monika Sosnowska$|^Soviet School$|^William Staite-Murray$|^Haim Steinbach$|^Adolf Strakhov-Braslavsky$|^Dalmo Teixeira Filho$|^Tollemache$|^Léonard Cosme Totchemetcheho$|^V.Ch.K.$|^Adolphe Valette$|^Vara$|^Dee Villers$|^Francis Vivares$|^Imke Wagener$|^Shelagh Wakely$|^Richard Westmacott$|^José Yalenti$|^Jakub Julian Ziolkowski$\" )\n",
      "            FILTER (langMatches(lang(?label), \"EN\"))  .\n",
      "}\n",
      "\n",
      "\n"
     ]
    },
    {
     "ename": "JSONDecodeError",
     "evalue": "Expecting value: line 1 column 1 (char 0)",
     "output_type": "error",
     "traceback": [
      "\u001b[1;31m---------------------------------------------------------------------------\u001b[0m",
      "\u001b[1;31mJSONDecodeError\u001b[0m                           Traceback (most recent call last)",
      "\u001b[1;32mC:\\Users\\FRANCE~1\\AppData\\Local\\Temp/ipykernel_2316/3679540870.py\u001b[0m in \u001b[0;36m<module>\u001b[1;34m\u001b[0m\n\u001b[1;32m----> 1\u001b[1;33m \u001b[0mTateIntegration\u001b[0m\u001b[1;33m[\u001b[0m\u001b[1;34m\"Artist Entity\"\u001b[0m\u001b[1;33m]\u001b[0m \u001b[1;33m=\u001b[0m \u001b[0mTateIntegration\u001b[0m\u001b[1;33m[\u001b[0m\u001b[1;34m\"name\"\u001b[0m\u001b[1;33m]\u001b[0m\u001b[1;33m.\u001b[0m\u001b[0mapply\u001b[0m\u001b[1;33m(\u001b[0m\u001b[0mfind_artists_genders_from_ids\u001b[0m\u001b[1;33m)\u001b[0m\u001b[1;33m\u001b[0m\u001b[1;33m\u001b[0m\u001b[0m\n\u001b[0m",
      "\u001b[1;32m~\\AppData\\Roaming\\Python\\Python39\\site-packages\\pandas\\core\\series.py\u001b[0m in \u001b[0;36mapply\u001b[1;34m(self, func, convert_dtype, args, **kwds)\u001b[0m\n\u001b[0;32m   4106\u001b[0m             \u001b[1;32melse\u001b[0m\u001b[1;33m:\u001b[0m\u001b[1;33m\u001b[0m\u001b[1;33m\u001b[0m\u001b[0m\n\u001b[0;32m   4107\u001b[0m                 \u001b[0mvalues\u001b[0m \u001b[1;33m=\u001b[0m \u001b[0mself\u001b[0m\u001b[1;33m.\u001b[0m\u001b[0mastype\u001b[0m\u001b[1;33m(\u001b[0m\u001b[0mobject\u001b[0m\u001b[1;33m)\u001b[0m\u001b[1;33m.\u001b[0m\u001b[0m_values\u001b[0m\u001b[1;33m\u001b[0m\u001b[1;33m\u001b[0m\u001b[0m\n\u001b[1;32m-> 4108\u001b[1;33m                 \u001b[0mmapped\u001b[0m \u001b[1;33m=\u001b[0m \u001b[0mlib\u001b[0m\u001b[1;33m.\u001b[0m\u001b[0mmap_infer\u001b[0m\u001b[1;33m(\u001b[0m\u001b[0mvalues\u001b[0m\u001b[1;33m,\u001b[0m \u001b[0mf\u001b[0m\u001b[1;33m,\u001b[0m \u001b[0mconvert\u001b[0m\u001b[1;33m=\u001b[0m\u001b[0mconvert_dtype\u001b[0m\u001b[1;33m)\u001b[0m\u001b[1;33m\u001b[0m\u001b[1;33m\u001b[0m\u001b[0m\n\u001b[0m\u001b[0;32m   4109\u001b[0m \u001b[1;33m\u001b[0m\u001b[0m\n\u001b[0;32m   4110\u001b[0m         \u001b[1;32mif\u001b[0m \u001b[0mlen\u001b[0m\u001b[1;33m(\u001b[0m\u001b[0mmapped\u001b[0m\u001b[1;33m)\u001b[0m \u001b[1;32mand\u001b[0m \u001b[0misinstance\u001b[0m\u001b[1;33m(\u001b[0m\u001b[0mmapped\u001b[0m\u001b[1;33m[\u001b[0m\u001b[1;36m0\u001b[0m\u001b[1;33m]\u001b[0m\u001b[1;33m,\u001b[0m \u001b[0mSeries\u001b[0m\u001b[1;33m)\u001b[0m\u001b[1;33m:\u001b[0m\u001b[1;33m\u001b[0m\u001b[1;33m\u001b[0m\u001b[0m\n",
      "\u001b[1;32mpandas\\_libs\\lib.pyx\u001b[0m in \u001b[0;36mpandas._libs.lib.map_infer\u001b[1;34m()\u001b[0m\n",
      "\u001b[1;32mC:\\Users\\FRANCE~1\\AppData\\Local\\Temp/ipykernel_2316/1536278878.py\u001b[0m in \u001b[0;36mfind_artists_genders_from_ids\u001b[1;34m(name)\u001b[0m\n\u001b[0;32m      2\u001b[0m     \u001b[0mquery\u001b[0m \u001b[1;33m=\u001b[0m \u001b[0martists_genders_from_ids\u001b[0m\u001b[1;33m.\u001b[0m\u001b[0mformat\u001b[0m\u001b[1;33m(\u001b[0m\u001b[0mname\u001b[0m\u001b[1;33m.\u001b[0m\u001b[0mstrip\u001b[0m\u001b[1;33m(\u001b[0m\u001b[1;33m)\u001b[0m\u001b[1;33m)\u001b[0m\u001b[1;33m\u001b[0m\u001b[1;33m\u001b[0m\u001b[0m\n\u001b[0;32m      3\u001b[0m     \u001b[0mprint\u001b[0m\u001b[1;33m(\u001b[0m\u001b[0mquery\u001b[0m\u001b[1;33m)\u001b[0m\u001b[1;33m\u001b[0m\u001b[1;33m\u001b[0m\u001b[0m\n\u001b[1;32m----> 4\u001b[1;33m     \u001b[0mres\u001b[0m \u001b[1;33m=\u001b[0m \u001b[0mreturn_sparql_query_results\u001b[0m\u001b[1;33m(\u001b[0m\u001b[0mquery_string\u001b[0m\u001b[1;33m=\u001b[0m\u001b[0mquery\u001b[0m\u001b[1;33m)\u001b[0m\u001b[1;33m\u001b[0m\u001b[1;33m\u001b[0m\u001b[0m\n\u001b[0m\u001b[0;32m      5\u001b[0m     \u001b[1;32mtry\u001b[0m\u001b[1;33m:\u001b[0m\u001b[1;33m\u001b[0m\u001b[1;33m\u001b[0m\u001b[0m\n\u001b[0;32m      6\u001b[0m         \u001b[0mwdt_uri\u001b[0m \u001b[1;33m=\u001b[0m \u001b[0mres\u001b[0m\u001b[1;33m[\u001b[0m\u001b[1;34m'results'\u001b[0m\u001b[1;33m]\u001b[0m\u001b[1;33m[\u001b[0m\u001b[1;34m'bindings'\u001b[0m\u001b[1;33m]\u001b[0m\u001b[1;33m[\u001b[0m\u001b[1;36m0\u001b[0m\u001b[1;33m]\u001b[0m\u001b[1;33m[\u001b[0m\u001b[1;34m'artist'\u001b[0m\u001b[1;33m]\u001b[0m\u001b[1;33m[\u001b[0m\u001b[1;34m'value'\u001b[0m\u001b[1;33m]\u001b[0m\u001b[1;33m\u001b[0m\u001b[1;33m\u001b[0m\u001b[0m\n",
      "\u001b[1;32m~\\AppData\\Roaming\\Python\\Python39\\site-packages\\qwikidata\\sparql.py\u001b[0m in \u001b[0;36mreturn_sparql_query_results\u001b[1;34m(query_string, wikidata_sparql_url)\u001b[0m\n\u001b[0;32m     20\u001b[0m       \u001b[0mwikidata\u001b[0m \u001b[0mSPARQL\u001b[0m \u001b[0mendpoint\u001b[0m \u001b[0mto\u001b[0m \u001b[0muse\u001b[0m\u001b[1;33m\u001b[0m\u001b[1;33m\u001b[0m\u001b[0m\n\u001b[0;32m     21\u001b[0m     \"\"\"\n\u001b[1;32m---> 22\u001b[1;33m     return requests.get(\n\u001b[0m\u001b[0;32m     23\u001b[0m         \u001b[0mwikidata_sparql_url\u001b[0m\u001b[1;33m,\u001b[0m \u001b[0mparams\u001b[0m\u001b[1;33m=\u001b[0m\u001b[1;33m{\u001b[0m\u001b[1;34m\"query\"\u001b[0m\u001b[1;33m:\u001b[0m \u001b[0mquery_string\u001b[0m\u001b[1;33m,\u001b[0m \u001b[1;34m\"format\"\u001b[0m\u001b[1;33m:\u001b[0m \u001b[1;34m\"json\"\u001b[0m\u001b[1;33m}\u001b[0m\u001b[1;33m\u001b[0m\u001b[1;33m\u001b[0m\u001b[0m\n\u001b[0;32m     24\u001b[0m     ).json()\n",
      "\u001b[1;32m~\\AppData\\Roaming\\Python\\Python39\\site-packages\\requests\\models.py\u001b[0m in \u001b[0;36mjson\u001b[1;34m(self, **kwargs)\u001b[0m\n\u001b[0;32m    908\u001b[0m                     \u001b[1;31m# used.\u001b[0m\u001b[1;33m\u001b[0m\u001b[1;33m\u001b[0m\u001b[1;33m\u001b[0m\u001b[0m\n\u001b[0;32m    909\u001b[0m                     \u001b[1;32mpass\u001b[0m\u001b[1;33m\u001b[0m\u001b[1;33m\u001b[0m\u001b[0m\n\u001b[1;32m--> 910\u001b[1;33m         \u001b[1;32mreturn\u001b[0m \u001b[0mcomplexjson\u001b[0m\u001b[1;33m.\u001b[0m\u001b[0mloads\u001b[0m\u001b[1;33m(\u001b[0m\u001b[0mself\u001b[0m\u001b[1;33m.\u001b[0m\u001b[0mtext\u001b[0m\u001b[1;33m,\u001b[0m \u001b[1;33m**\u001b[0m\u001b[0mkwargs\u001b[0m\u001b[1;33m)\u001b[0m\u001b[1;33m\u001b[0m\u001b[1;33m\u001b[0m\u001b[0m\n\u001b[0m\u001b[0;32m    911\u001b[0m \u001b[1;33m\u001b[0m\u001b[0m\n\u001b[0;32m    912\u001b[0m     \u001b[1;33m@\u001b[0m\u001b[0mproperty\u001b[0m\u001b[1;33m\u001b[0m\u001b[1;33m\u001b[0m\u001b[0m\n",
      "\u001b[1;32m~\\AppData\\Roaming\\Python\\Python39\\site-packages\\simplejson\\__init__.py\u001b[0m in \u001b[0;36mloads\u001b[1;34m(s, encoding, cls, object_hook, parse_float, parse_int, parse_constant, object_pairs_hook, use_decimal, **kw)\u001b[0m\n\u001b[0;32m    523\u001b[0m             \u001b[0mparse_constant\u001b[0m \u001b[1;32mis\u001b[0m \u001b[1;32mNone\u001b[0m \u001b[1;32mand\u001b[0m \u001b[0mobject_pairs_hook\u001b[0m \u001b[1;32mis\u001b[0m \u001b[1;32mNone\u001b[0m\u001b[1;33m\u001b[0m\u001b[1;33m\u001b[0m\u001b[0m\n\u001b[0;32m    524\u001b[0m             and not use_decimal and not kw):\n\u001b[1;32m--> 525\u001b[1;33m         \u001b[1;32mreturn\u001b[0m \u001b[0m_default_decoder\u001b[0m\u001b[1;33m.\u001b[0m\u001b[0mdecode\u001b[0m\u001b[1;33m(\u001b[0m\u001b[0ms\u001b[0m\u001b[1;33m)\u001b[0m\u001b[1;33m\u001b[0m\u001b[1;33m\u001b[0m\u001b[0m\n\u001b[0m\u001b[0;32m    526\u001b[0m     \u001b[1;32mif\u001b[0m \u001b[0mcls\u001b[0m \u001b[1;32mis\u001b[0m \u001b[1;32mNone\u001b[0m\u001b[1;33m:\u001b[0m\u001b[1;33m\u001b[0m\u001b[1;33m\u001b[0m\u001b[0m\n\u001b[0;32m    527\u001b[0m         \u001b[0mcls\u001b[0m \u001b[1;33m=\u001b[0m \u001b[0mJSONDecoder\u001b[0m\u001b[1;33m\u001b[0m\u001b[1;33m\u001b[0m\u001b[0m\n",
      "\u001b[1;32m~\\AppData\\Roaming\\Python\\Python39\\site-packages\\simplejson\\decoder.py\u001b[0m in \u001b[0;36mdecode\u001b[1;34m(self, s, _w, _PY3)\u001b[0m\n\u001b[0;32m    368\u001b[0m         \u001b[1;32mif\u001b[0m \u001b[0m_PY3\u001b[0m \u001b[1;32mand\u001b[0m \u001b[0misinstance\u001b[0m\u001b[1;33m(\u001b[0m\u001b[0ms\u001b[0m\u001b[1;33m,\u001b[0m \u001b[0mbytes\u001b[0m\u001b[1;33m)\u001b[0m\u001b[1;33m:\u001b[0m\u001b[1;33m\u001b[0m\u001b[1;33m\u001b[0m\u001b[0m\n\u001b[0;32m    369\u001b[0m             \u001b[0ms\u001b[0m \u001b[1;33m=\u001b[0m \u001b[0mstr\u001b[0m\u001b[1;33m(\u001b[0m\u001b[0ms\u001b[0m\u001b[1;33m,\u001b[0m \u001b[0mself\u001b[0m\u001b[1;33m.\u001b[0m\u001b[0mencoding\u001b[0m\u001b[1;33m)\u001b[0m\u001b[1;33m\u001b[0m\u001b[1;33m\u001b[0m\u001b[0m\n\u001b[1;32m--> 370\u001b[1;33m         \u001b[0mobj\u001b[0m\u001b[1;33m,\u001b[0m \u001b[0mend\u001b[0m \u001b[1;33m=\u001b[0m \u001b[0mself\u001b[0m\u001b[1;33m.\u001b[0m\u001b[0mraw_decode\u001b[0m\u001b[1;33m(\u001b[0m\u001b[0ms\u001b[0m\u001b[1;33m)\u001b[0m\u001b[1;33m\u001b[0m\u001b[1;33m\u001b[0m\u001b[0m\n\u001b[0m\u001b[0;32m    371\u001b[0m         \u001b[0mend\u001b[0m \u001b[1;33m=\u001b[0m \u001b[0m_w\u001b[0m\u001b[1;33m(\u001b[0m\u001b[0ms\u001b[0m\u001b[1;33m,\u001b[0m \u001b[0mend\u001b[0m\u001b[1;33m)\u001b[0m\u001b[1;33m.\u001b[0m\u001b[0mend\u001b[0m\u001b[1;33m(\u001b[0m\u001b[1;33m)\u001b[0m\u001b[1;33m\u001b[0m\u001b[1;33m\u001b[0m\u001b[0m\n\u001b[0;32m    372\u001b[0m         \u001b[1;32mif\u001b[0m \u001b[0mend\u001b[0m \u001b[1;33m!=\u001b[0m \u001b[0mlen\u001b[0m\u001b[1;33m(\u001b[0m\u001b[0ms\u001b[0m\u001b[1;33m)\u001b[0m\u001b[1;33m:\u001b[0m\u001b[1;33m\u001b[0m\u001b[1;33m\u001b[0m\u001b[0m\n",
      "\u001b[1;32m~\\AppData\\Roaming\\Python\\Python39\\site-packages\\simplejson\\decoder.py\u001b[0m in \u001b[0;36mraw_decode\u001b[1;34m(self, s, idx, _w, _PY3)\u001b[0m\n\u001b[0;32m    398\u001b[0m             \u001b[1;32melif\u001b[0m \u001b[0mord0\u001b[0m \u001b[1;33m==\u001b[0m \u001b[1;36m0xef\u001b[0m \u001b[1;32mand\u001b[0m \u001b[0ms\u001b[0m\u001b[1;33m[\u001b[0m\u001b[0midx\u001b[0m\u001b[1;33m:\u001b[0m\u001b[0midx\u001b[0m \u001b[1;33m+\u001b[0m \u001b[1;36m3\u001b[0m\u001b[1;33m]\u001b[0m \u001b[1;33m==\u001b[0m \u001b[1;34m'\\xef\\xbb\\xbf'\u001b[0m\u001b[1;33m:\u001b[0m\u001b[1;33m\u001b[0m\u001b[1;33m\u001b[0m\u001b[0m\n\u001b[0;32m    399\u001b[0m                 \u001b[0midx\u001b[0m \u001b[1;33m+=\u001b[0m \u001b[1;36m3\u001b[0m\u001b[1;33m\u001b[0m\u001b[1;33m\u001b[0m\u001b[0m\n\u001b[1;32m--> 400\u001b[1;33m         \u001b[1;32mreturn\u001b[0m \u001b[0mself\u001b[0m\u001b[1;33m.\u001b[0m\u001b[0mscan_once\u001b[0m\u001b[1;33m(\u001b[0m\u001b[0ms\u001b[0m\u001b[1;33m,\u001b[0m \u001b[0midx\u001b[0m\u001b[1;33m=\u001b[0m\u001b[0m_w\u001b[0m\u001b[1;33m(\u001b[0m\u001b[0ms\u001b[0m\u001b[1;33m,\u001b[0m \u001b[0midx\u001b[0m\u001b[1;33m)\u001b[0m\u001b[1;33m.\u001b[0m\u001b[0mend\u001b[0m\u001b[1;33m(\u001b[0m\u001b[1;33m)\u001b[0m\u001b[1;33m)\u001b[0m\u001b[1;33m\u001b[0m\u001b[1;33m\u001b[0m\u001b[0m\n\u001b[0m",
      "\u001b[1;31mJSONDecodeError\u001b[0m: Expecting value: line 1 column 1 (char 0)"
     ]
    }
   ],
   "source": [
    "TateIntegration[\"Artist Entity\"] = TateIntegration[\"name\"].apply(find_artists_genders_from_ids)"
   ]
  },
  {
   "cell_type": "code",
   "execution_count": null,
   "id": "c535cac9",
   "metadata": {},
   "outputs": [],
   "source": [
    "pd.set_option('display.max_rows', None)\n",
    "display(TateIntegration)"
   ]
  },
  {
   "cell_type": "code",
   "execution_count": null,
   "id": "8358a07e",
   "metadata": {},
   "outputs": [],
   "source": [
    "foundValues = TateIntegration[TateIntegration['Artist Entity'].notna()]\n",
    "display(foundValues)\n",
    "TateIntegration =  TateIntegration[TateIntegration['Artist Entity'].isna()]\n",
    "display(TateIntegration)"
   ]
  },
  {
   "cell_type": "code",
   "execution_count": 37,
   "id": "82fe7e0e",
   "metadata": {},
   "outputs": [],
   "source": [
    "def stripNames(name):\n",
    "    return name.strip()"
   ]
  },
  {
   "cell_type": "code",
   "execution_count": 38,
   "id": "1783b905",
   "metadata": {},
   "outputs": [],
   "source": [
    "TateIntegration[\"name\"] = TateIntegration[\"name\"].apply(stripNames)"
   ]
  },
  {
   "cell_type": "code",
   "execution_count": 48,
   "id": "e8ed3ac9",
   "metadata": {},
   "outputs": [
    {
     "name": "stdout",
     "output_type": "stream",
     "text": [
      "http://www.wikidata.org/entity/Q104382715\n",
      "{'head': {'vars': ['artist']}, 'results': {'bindings': [{'artist': {'type': 'uri', 'value': 'http://www.wikidata.org/entity/Q1677042'}}, {'artist': {'type': 'uri', 'value': 'http://www.wikidata.org/entity/Q3817219'}}, {'artist': {'type': 'uri', 'value': 'http://www.wikidata.org/entity/Q5639315'}}, {'artist': {'type': 'uri', 'value': 'http://www.wikidata.org/entity/Q5110756'}}, {'artist': {'type': 'uri', 'value': 'http://www.wikidata.org/entity/Q7650894'}}, {'artist': {'type': 'uri', 'value': 'http://www.wikidata.org/entity/Q10270768'}}, {'artist': {'type': 'uri', 'value': 'http://www.wikidata.org/entity/Q20018089'}}, {'artist': {'type': 'uri', 'value': 'http://www.wikidata.org/entity/Q61817490'}}, {'artist': {'type': 'uri', 'value': 'http://www.wikidata.org/entity/Q100391910'}}, {'artist': {'type': 'uri', 'value': 'http://www.wikidata.org/entity/Q104382715'}}, {'artist': {'type': 'uri', 'value': 'http://www.wikidata.org/entity/Q132964'}}, {'artist': {'type': 'uri', 'value': 'http://www.wikidata.org/entity/Q43906005'}}, {'artist': {'type': 'uri', 'value': 'http://www.wikidata.org/entity/Q3305059'}}, {'artist': {'type': 'uri', 'value': 'http://www.wikidata.org/entity/Q7088087'}}, {'artist': {'type': 'uri', 'value': 'http://www.wikidata.org/entity/Q28124166'}}, {'artist': {'type': 'uri', 'value': 'http://www.wikidata.org/entity/Q77349603'}}, {'artist': {'type': 'uri', 'value': 'http://www.wikidata.org/entity/Q107437450'}}, {'artist': {'type': 'uri', 'value': 'http://www.wikidata.org/entity/Q454717'}}]}}\n",
      "http://www.wikidata.org/entity/Q1677042\n",
      "http://www.wikidata.org/entity/Q3817219\n",
      "http://www.wikidata.org/entity/Q5639315\n",
      "http://www.wikidata.org/entity/Q5110756\n",
      "http://www.wikidata.org/entity/Q7650894\n",
      "http://www.wikidata.org/entity/Q10270768\n",
      "http://www.wikidata.org/entity/Q20018089\n",
      "http://www.wikidata.org/entity/Q61817490\n",
      "http://www.wikidata.org/entity/Q100391910\n",
      "http://www.wikidata.org/entity/Q104382715\n",
      "http://www.wikidata.org/entity/Q132964\n",
      "http://www.wikidata.org/entity/Q43906005\n",
      "http://www.wikidata.org/entity/Q3305059\n",
      "http://www.wikidata.org/entity/Q7088087\n",
      "http://www.wikidata.org/entity/Q28124166\n",
      "http://www.wikidata.org/entity/Q77349603\n",
      "http://www.wikidata.org/entity/Q107437450\n",
      "http://www.wikidata.org/entity/Q454717\n"
     ]
    }
   ],
   "source": [
    "from rdflib import Namespace , Literal , URIRef\n",
    "from rdflib.namespace import RDF , RDFS\n",
    "from SPARQLWrapper import SPARQLWrapper, JSON\n",
    "import ssl\n",
    "import rdflib\n",
    "\n",
    "ssl._create_default_https_context = ssl._create_unverified_context\n",
    "\n",
    "# get the endpoint API\n",
    "wikidata_endpoint = \"https://query.wikidata.org/bigdata/namespace/wdq/sparql\"\n",
    "\n",
    "artistsNames = TateIntegration[\"name\"].values\n",
    "to_str = \"$|^\".join(artistsNames)\n",
    "print(artists)\n",
    "\n",
    "artists_genders_from_ids = \"\"\"\n",
    "PREFIX rdfs: <http://www.w3.org/2000/01/rdf-schema#>\n",
    "SELECT DISTINCT ?artist\n",
    "WHERE {{\n",
    "    ?artist wdt:P31 wd:Q5 .\n",
    "    ?artist wdt:P106 ?occupation\n",
    "                  FILTER (?occupation IN (wd:Q33231, wd:Q18216771, wd:Q3391743, wd:Q10774753) )   \n",
    "    ?artist rdfs:label ?label\n",
    "                  FILTER regex(?label, \\\"^\"\"\"+to_str+\"\"\"$\\\" )\n",
    "            FILTER (langMatches(lang(?label), \"EN\"))  .\n",
    "}}\n",
    "\n",
    "\"\"\"\n",
    "\n",
    "\n",
    "# set the endpoint \n",
    "sparql_wd = SPARQLWrapper(wikidata_endpoint)\n",
    "# set the query\n",
    "sparql_wd.setQuery(artists_genders_from_ids)\n",
    "# set the returned format\n",
    "sparql_wd.setReturnFormat(JSON)\n",
    "# get the results\n",
    "results = sparql_wd.query().convert()\n",
    "print(results)\n",
    "\n",
    "# manipulate the result\n",
    "for result in results[\"results\"][\"bindings\"]:\n",
    "    artists =  result[\"artist\"][\"value\"]\n",
    "    print(artists)"
   ]
  },
  {
   "cell_type": "code",
   "execution_count": 57,
   "id": "11af29d3",
   "metadata": {},
   "outputs": [
    {
     "name": "stdout",
     "output_type": "stream",
     "text": [
      "Shusaku Arakawa John Bacon Ruth Baehnisch A. Belloguet Nikolaj Bendix Skyum Larsen Caroline Bergvall Christina Broom Samuel Cooper Viktor Deni Juan Downey Gaspard Dughet Eugenio Espinoza Josif Gerasimovich Jack Goldstein Lawrence Abu Hamdan Stephen Herwijck Highmore Enrique Huerta Inventory Sergei Ivanov K.O.S. Amar Kanwar Georgii Kibardin Nikolai Kochergin Nikolai Kogout Kiyohiko Komura Vladimir Kozlinsky KwieKulik Suzanne Lacy Lairesse Robin Laurie David Le Marchand Hubert Le Sueur Alexander Lebedev London Gallery Len Lye Alex Mackay A Marsingall J. Martin  of Canterbury E. Masters Vladimir Mayakovsky Dmitrii Melnikov Francis Merivale Dmitrii Moor Morin Melik Ohanian James Orrock Sylvia Pankhurst Pallavi Paul Osmar Peçanha Sergei Ivanovich Pichugin Paulo Pires Olivia Plender Anne and Patrick Poirier R. H. Quaytman Hester Reeve Ingmar Reuter Emilio Rivera Russian School Eduardo Salvatore Gunther Sander Mithu Sen Stephanie Smith Monika Sosnowska Soviet School William Staite-Murray Haim Steinbach Adolf Strakhov-Braslavsky Dalmo Teixeira Filho Tollemache Léonard Cosme Totchemetcheho V.Ch.K. Adolphe Valette Vara Dee Villers Francis Vivares Imke Wagener Shelagh Wakely Richard Westmacott José Yalenti Jakub Julian Ziolkowski\n"
     ]
    },
    {
     "data": {
      "text/plain": [
       "'# set the endpoint \\nsparql_wd = SPARQLWrapper(wikidata_endpoint)\\n# set the query\\nsparql_wd.setQuery(artists_genders_from_ids)\\n# set the returned format\\nsparql_wd.setReturnFormat(JSON)\\n# get the results\\nresults = sparql_wd.query().convert()\\nprint(results)\\n\\n# manipulate the result\\nfor result in results[\"results\"][\"bindings\"]:\\n    artists =  result[\"artist\"][\"value\"]\\n    print(artists)'"
      ]
     },
     "execution_count": 57,
     "metadata": {},
     "output_type": "execute_result"
    }
   ],
   "source": [
    "from rdflib import Namespace , Literal , URIRef\n",
    "from rdflib.namespace import RDF , RDFS\n",
    "from SPARQLWrapper import SPARQLWrapper, JSON\n",
    "import ssl\n",
    "import rdflib\n",
    "\n",
    "ssl._create_default_https_context = ssl._create_unverified_context\n",
    "\n",
    "# get the endpoint API\n",
    "wikidata_endpoint = \"https://query.wikidata.org/bigdata/namespace/wdq/sparql\"\n",
    "\n",
    "artistsNames = TateIntegration[\"name\"].values\n",
    "artists = \" \".join(artistsNames)\n",
    "print(artists)\n",
    "\n",
    "artists_genders_from_ids = \"\"\"\n",
    "PREFIX rdfs: <http://www.w3.org/2000/01/rdf-schema#>\n",
    "SELECT DISTINCT ?artist\n",
    "WHERE {{\n",
    "    ?artist wdt:P31 wd:Q5 .\n",
    "    ?artist wdt:P106 ?occupation\n",
    "                  FILTER (?occupation IN (wd:Q1281618) )   \n",
    "    ?artist rdfs:label ?o\n",
    "                  FILTER ( str(?o) = \"Leonardo Da Vinci\")  .\n",
    "}}\n",
    "\n",
    "\"\"\"\n",
    "\n",
    "\n",
    "'''# set the endpoint \n",
    "sparql_wd = SPARQLWrapper(wikidata_endpoint)\n",
    "# set the query\n",
    "sparql_wd.setQuery(artists_genders_from_ids)\n",
    "# set the returned format\n",
    "sparql_wd.setReturnFormat(JSON)\n",
    "# get the results\n",
    "results = sparql_wd.query().convert()\n",
    "print(results)\n",
    "\n",
    "# manipulate the result\n",
    "for result in results[\"results\"][\"bindings\"]:\n",
    "    artists =  result[\"artist\"][\"value\"]\n",
    "    print(artists)'''"
   ]
  },
  {
   "cell_type": "code",
   "execution_count": 58,
   "id": "7324aa31",
   "metadata": {},
   "outputs": [
    {
     "name": "stdout",
     "output_type": "stream",
     "text": [
      "['Shusaku Arakawa' 'John Bacon' 'Ruth Baehnisch' 'A. Belloguet'\n",
      " 'Nikolaj Bendix Skyum Larsen' 'Caroline Bergvall' 'Christina Broom'\n",
      " 'Samuel Cooper' 'Viktor Deni' 'Juan Downey' 'Gaspard Dughet'\n",
      " 'Eugenio Espinoza' 'Josif Gerasimovich' 'Jack Goldstein'\n",
      " 'Lawrence Abu Hamdan' 'Stephen Herwijck' 'Highmore' 'Enrique Huerta'\n",
      " 'Inventory' 'Sergei Ivanov' 'K.O.S.' 'Amar Kanwar' 'Georgii Kibardin'\n",
      " 'Nikolai Kochergin' 'Nikolai Kogout' 'Kiyohiko Komura'\n",
      " 'Vladimir Kozlinsky' 'KwieKulik' 'Suzanne Lacy' 'Lairesse' 'Robin Laurie'\n",
      " 'David Le Marchand' 'Hubert Le Sueur' 'Alexander Lebedev'\n",
      " 'London Gallery' 'Len Lye' 'Alex Mackay' 'A Marsingall'\n",
      " 'J. Martin  of Canterbury' 'E. Masters' 'Vladimir Mayakovsky'\n",
      " 'Dmitrii Melnikov' 'Francis Merivale' 'Dmitrii Moor' 'Morin'\n",
      " 'Melik Ohanian' 'James Orrock' 'Sylvia Pankhurst' 'Pallavi Paul'\n",
      " 'Osmar Peçanha' 'Sergei Ivanovich Pichugin' 'Paulo Pires'\n",
      " 'Olivia Plender' 'Anne and Patrick Poirier' 'R. H. Quaytman'\n",
      " 'Hester Reeve' 'Ingmar Reuter' 'Emilio Rivera' 'Russian School'\n",
      " 'Eduardo Salvatore' 'Gunther Sander' 'Mithu Sen' 'Stephanie Smith'\n",
      " 'Monika Sosnowska' 'Soviet School' 'William Staite-Murray'\n",
      " 'Haim Steinbach' 'Adolf Strakhov-Braslavsky' 'Dalmo Teixeira Filho'\n",
      " 'Tollemache' 'Léonard Cosme Totchemetcheho' 'V.Ch.K.' 'Adolphe Valette'\n",
      " 'Vara' 'Dee Villers' 'Francis Vivares' 'Imke Wagener' 'Shelagh Wakely'\n",
      " 'Richard Westmacott' 'José Yalenti' 'Jakub Julian Ziolkowski']\n"
     ]
    },
    {
     "ename": "QueryBadFormed",
     "evalue": "QueryBadFormed: a bad request has been sent to the endpoint, probably the sparql query is bad formed. \n\nResponse:\nb'SPARQL-QUERY: queryStr=\\n    PREFIX rdfs: <http://www.w3.org/2000/01/rdf-schema#>\\n    SELECT DISTINCT ?artist\\n    WHERE {{\\n        ?artist wdt:P31 wd:Q5 .\\n        ?artist wdt:P106 ?occupation\\n                      FILTER (?occupation IN (wd:Q1281618) )   \\n        ?artist rdfs:label ?o\\n                      FILTER ( str(?o) = Shusaku Arakawa)  .\\n    }}\\n\\n \\njava.util.concurrent.ExecutionException: org.openrdf.query.MalformedQueryException: Lexical error at line 9, column 49.  Encountered: \" \" (32), after : \"Shusaku\"\\n\\tat java.util.concurrent.FutureTask.report(FutureTask.java:122)\\n\\tat java.util.concurrent.FutureTask.get(FutureTask.java:206)\\n\\tat com.bigdata.rdf.sail.webapp.BigdataServlet.submitApiTask(BigdataServlet.java:292)\\n\\tat com.bigdata.rdf.sail.webapp.QueryServlet.doSparqlQuery(QueryServlet.java:678)\\n\\tat com.bigdata.rdf.sail.webapp.QueryServlet.doGet(QueryServlet.java:290)\\n\\tat com.bigdata.rdf.sail.webapp.RESTServlet.doGet(RESTServlet.java:240)\\n\\tat com.bigdata.rdf.sail.webapp.MultiTenancyServlet.doGet(MultiTenancyServlet.java:273)\\n\\tat javax.servlet.http.HttpServlet.service(HttpServlet.java:687)\\n\\tat javax.servlet.http.HttpServlet.service(HttpServlet.java:790)\\n\\tat org.eclipse.jetty.servlet.ServletHolder.handle(ServletHolder.java:865)\\n\\tat org.eclipse.jetty.servlet.ServletHandler$CachedChain.doFilter(ServletHandler.java:1655)\\n\\tat org.wikidata.query.rdf.blazegraph.throttling.ThrottlingFilter.doFilter(ThrottlingFilter.java:320)\\n\\tat org.eclipse.jetty.servlet.ServletHandler$CachedChain.doFilter(ServletHandler.java:1642)\\n\\tat org.wikidata.query.rdf.blazegraph.throttling.SystemOverloadFilter.doFilter(SystemOverloadFilter.java:82)\\n\\tat org.eclipse.jetty.servlet.ServletHandler$CachedChain.doFilter(ServletHandler.java:1642)\\n\\tat ch.qos.logback.classic.helpers.MDCInsertingServletFilter.doFilter(MDCInsertingServletFilter.java:49)\\n\\tat org.eclipse.jetty.servlet.ServletHandler$CachedChain.doFilter(ServletHandler.java:1642)\\n\\tat org.wikidata.query.rdf.blazegraph.filters.QueryEventSenderFilter.doFilter(QueryEventSenderFilter.java:116)\\n\\tat org.eclipse.jetty.servlet.ServletHandler$CachedChain.doFilter(ServletHandler.java:1642)\\n\\tat org.wikidata.query.rdf.blazegraph.filters.ClientIPFilter.doFilter(ClientIPFilter.java:43)\\n\\tat org.eclipse.jetty.servlet.ServletHandler$CachedChain.doFilter(ServletHandler.java:1642)\\n\\tat org.wikidata.query.rdf.blazegraph.filters.JWTIdentityFilter.doFilter(JWTIdentityFilter.java:66)\\n\\tat org.eclipse.jetty.servlet.ServletHandler$CachedChain.doFilter(ServletHandler.java:1642)\\n\\tat org.wikidata.query.rdf.blazegraph.filters.RealAgentFilter.doFilter(RealAgentFilter.java:33)\\n\\tat org.eclipse.jetty.servlet.ServletHandler$CachedChain.doFilter(ServletHandler.java:1642)\\n\\tat org.wikidata.query.rdf.blazegraph.filters.RequestConcurrencyFilter.doFilter(RequestConcurrencyFilter.java:50)\\n\\tat org.eclipse.jetty.servlet.ServletHandler$CachedChain.doFilter(ServletHandler.java:1634)\\n\\tat org.eclipse.jetty.servlet.ServletHandler.doHandle(ServletHandler.java:533)\\n\\tat org.eclipse.jetty.server.handler.ScopedHandler.handle(ScopedHandler.java:146)\\n\\tat org.eclipse.jetty.security.SecurityHandler.handle(SecurityHandler.java:548)\\n\\tat org.eclipse.jetty.server.handler.HandlerWrapper.handle(HandlerWrapper.java:132)\\n\\tat org.eclipse.jetty.server.handler.ScopedHandler.nextHandle(ScopedHandler.java:257)\\n\\tat org.eclipse.jetty.server.session.SessionHandler.doHandle(SessionHandler.java:1595)\\n\\tat org.eclipse.jetty.server.handler.ScopedHandler.nextHandle(ScopedHandler.java:255)\\n\\tat org.eclipse.jetty.server.handler.ContextHandler.doHandle(ContextHandler.java:1340)\\n\\tat org.eclipse.jetty.server.handler.ScopedHandler.nextScope(ScopedHandler.java:203)\\n\\tat org.eclipse.jetty.servlet.ServletHandler.doScope(ServletHandler.java:473)\\n\\tat org.eclipse.jetty.server.session.SessionHandler.doScope(SessionHandler.java:1564)\\n\\tat org.eclipse.jetty.server.handler.ScopedHandler.nextScope(ScopedHandler.java:201)\\n\\tat org.eclipse.jetty.server.handler.ContextHandler.doScope(ContextHandler.java:1242)\\n\\tat org.eclipse.jetty.server.handler.ScopedHandler.handle(ScopedHandler.java:144)\\n\\tat org.eclipse.jetty.server.handler.ContextHandlerCollection.handle(ContextHandlerCollection.java:220)\\n\\tat org.eclipse.jetty.server.handler.HandlerCollection.handle(HandlerCollection.java:126)\\n\\tat org.eclipse.jetty.server.handler.HandlerWrapper.handle(HandlerWrapper.java:132)\\n\\tat org.eclipse.jetty.server.Server.handle(Server.java:503)\\n\\tat org.eclipse.jetty.server.HttpChannel.handle(HttpChannel.java:364)\\n\\tat org.eclipse.jetty.server.HttpConnection.onFillable(HttpConnection.java:260)\\n\\tat org.eclipse.jetty.io.AbstractConnection$ReadCallback.succeeded(AbstractConnection.java:305)\\n\\tat org.eclipse.jetty.io.FillInterest.fillable(FillInterest.java:103)\\n\\tat org.eclipse.jetty.io.ChannelEndPoint$2.run(ChannelEndPoint.java:118)\\n\\tat org.eclipse.jetty.util.thread.strategy.EatWhatYouKill.runTask(EatWhatYouKill.java:333)\\n\\tat org.eclipse.jetty.util.thread.strategy.EatWhatYouKill.doProduce(EatWhatYouKill.java:310)\\n\\tat org.eclipse.jetty.util.thread.strategy.EatWhatYouKill.tryProduce(EatWhatYouKill.java:168)\\n\\tat org.eclipse.jetty.util.thread.strategy.EatWhatYouKill.run(EatWhatYouKill.java:126)\\n\\tat org.eclipse.jetty.util.thread.ReservedThreadExecutor$ReservedThread.run(ReservedThreadExecutor.java:366)\\n\\tat org.eclipse.jetty.util.thread.QueuedThreadPool.runJob(QueuedThreadPool.java:765)\\n\\tat org.eclipse.jetty.util.thread.QueuedThreadPool$2.run(QueuedThreadPool.java:683)\\n\\tat java.lang.Thread.run(Thread.java:750)\\nCaused by: org.openrdf.query.MalformedQueryException: Lexical error at line 9, column 49.  Encountered: \" \" (32), after : \"Shusaku\"\\n\\tat com.bigdata.rdf.sail.sparql.Bigdata2ASTSPARQLParser.parseQuery2(Bigdata2ASTSPARQLParser.java:404)\\n\\tat com.bigdata.rdf.sail.webapp.QueryServlet$SparqlQueryTask.call(QueryServlet.java:741)\\n\\tat com.bigdata.rdf.sail.webapp.QueryServlet$SparqlQueryTask.call(QueryServlet.java:695)\\n\\tat com.bigdata.rdf.task.ApiTaskForIndexManager.call(ApiTaskForIndexManager.java:68)\\n\\tat java.util.concurrent.FutureTask.run(FutureTask.java:266)\\n\\tat java.util.concurrent.ThreadPoolExecutor.runWorker(ThreadPoolExecutor.java:1149)\\n\\tat java.util.concurrent.ThreadPoolExecutor$Worker.run(ThreadPoolExecutor.java:624)\\n\\t... 1 more\\nCaused by: com.bigdata.rdf.sail.sparql.ast.TokenMgrError: Lexical error at line 9, column 49.  Encountered: \" \" (32), after : \"Shusaku\"\\n\\tat com.bigdata.rdf.sail.sparql.ast.SyntaxTreeBuilderTokenManager.getNextToken(SyntaxTreeBuilderTokenManager.java:3994)\\n\\tat com.bigdata.rdf.sail.sparql.ast.SyntaxTreeBuilder.jj_ntk(SyntaxTreeBuilder.java:9637)\\n\\tat com.bigdata.rdf.sail.sparql.ast.SyntaxTreeBuilder.UnaryExpression(SyntaxTreeBuilder.java:4341)\\n\\tat com.bigdata.rdf.sail.sparql.ast.SyntaxTreeBuilder.MultiplicativeExpression(SyntaxTreeBuilder.java:4287)\\n\\tat com.bigdata.rdf.sail.sparql.ast.SyntaxTreeBuilder.AdditiveExpression(SyntaxTreeBuilder.java:4193)\\n\\tat com.bigdata.rdf.sail.sparql.ast.SyntaxTreeBuilder.NumericExpression(SyntaxTreeBuilder.java:4189)\\n\\tat com.bigdata.rdf.sail.sparql.ast.SyntaxTreeBuilder.RelationalExpression(SyntaxTreeBuilder.java:4030)\\n\\tat com.bigdata.rdf.sail.sparql.ast.SyntaxTreeBuilder.ValueLogical(SyntaxTreeBuilder.java:4013)\\n\\tat com.bigdata.rdf.sail.sparql.ast.SyntaxTreeBuilder.ConditionalAndExpression(SyntaxTreeBuilder.java:3977)\\n\\tat com.bigdata.rdf.sail.sparql.ast.SyntaxTreeBuilder.ConditionalOrExpression(SyntaxTreeBuilder.java:3941)\\n\\tat com.bigdata.rdf.sail.sparql.ast.SyntaxTreeBuilder.Expression(SyntaxTreeBuilder.java:3937)\\n\\tat com.bigdata.rdf.sail.sparql.ast.SyntaxTreeBuilder.BrackettedExpression(SyntaxTreeBuilder.java:5034)\\n\\tat com.bigdata.rdf.sail.sparql.ast.SyntaxTreeBuilder.Constraint(SyntaxTreeBuilder.java:2573)\\n\\tat com.bigdata.rdf.sail.sparql.ast.SyntaxTreeBuilder.Filter(SyntaxTreeBuilder.java:2562)\\n\\tat com.bigdata.rdf.sail.sparql.ast.SyntaxTreeBuilder.FilterOrBind(SyntaxTreeBuilder.java:2245)\\n\\tat com.bigdata.rdf.sail.sparql.ast.SyntaxTreeBuilder.BasicGraphPattern(SyntaxTreeBuilder.java:2111)\\n\\tat com.bigdata.rdf.sail.sparql.ast.SyntaxTreeBuilder.GraphPattern(SyntaxTreeBuilder.java:2034)\\n\\tat com.bigdata.rdf.sail.sparql.ast.SyntaxTreeBuilder.GroupGraphPattern(SyntaxTreeBuilder.java:1969)\\n\\tat com.bigdata.rdf.sail.sparql.ast.SyntaxTreeBuilder.GroupOrUnionGraphPattern(SyntaxTreeBuilder.java:2451)\\n\\tat com.bigdata.rdf.sail.sparql.ast.SyntaxTreeBuilder.GraphPatternNotTriples(SyntaxTreeBuilder.java:2361)\\n\\tat com.bigdata.rdf.sail.sparql.ast.SyntaxTreeBuilder.GraphPattern(SyntaxTreeBuilder.java:2047)\\n\\tat com.bigdata.rdf.sail.sparql.ast.SyntaxTreeBuilder.GroupGraphPattern(SyntaxTreeBuilder.java:1969)\\n\\tat com.bigdata.rdf.sail.sparql.ast.SyntaxTreeBuilder.WhereClause(SyntaxTreeBuilder.java:1013)\\n\\tat com.bigdata.rdf.sail.sparql.ast.SyntaxTreeBuilder.SelectQuery(SyntaxTreeBuilder.java:377)\\n\\tat com.bigdata.rdf.sail.sparql.ast.SyntaxTreeBuilder.Query(SyntaxTreeBuilder.java:328)\\n\\tat com.bigdata.rdf.sail.sparql.ast.SyntaxTreeBuilder.QueryContainer(SyntaxTreeBuilder.java:216)\\n\\tat com.bigdata.rdf.sail.sparql.ast.SyntaxTreeBuilder.parseQuery(SyntaxTreeBuilder.java:32)\\n\\tat com.bigdata.rdf.sail.sparql.Bigdata2ASTSPARQLParser.parseQuery2(Bigdata2ASTSPARQLParser.java:336)\\n\\t... 7 more\\n'",
     "output_type": "error",
     "traceback": [
      "\u001b[1;31m---------------------------------------------------------------------------\u001b[0m",
      "\u001b[1;31mHTTPError\u001b[0m                                 Traceback (most recent call last)",
      "\u001b[1;32m~\\AppData\\Roaming\\Python\\Python39\\site-packages\\SPARQLWrapper\\Wrapper.py\u001b[0m in \u001b[0;36m_query\u001b[1;34m(self)\u001b[0m\n\u001b[0;32m   1072\u001b[0m             \u001b[1;32melse\u001b[0m\u001b[1;33m:\u001b[0m\u001b[1;33m\u001b[0m\u001b[1;33m\u001b[0m\u001b[0m\n\u001b[1;32m-> 1073\u001b[1;33m                 \u001b[0mresponse\u001b[0m \u001b[1;33m=\u001b[0m \u001b[0murlopener\u001b[0m\u001b[1;33m(\u001b[0m\u001b[0mrequest\u001b[0m\u001b[1;33m)\u001b[0m\u001b[1;33m\u001b[0m\u001b[1;33m\u001b[0m\u001b[0m\n\u001b[0m\u001b[0;32m   1074\u001b[0m             \u001b[1;32mreturn\u001b[0m \u001b[0mresponse\u001b[0m\u001b[1;33m,\u001b[0m \u001b[0mself\u001b[0m\u001b[1;33m.\u001b[0m\u001b[0mreturnFormat\u001b[0m\u001b[1;33m\u001b[0m\u001b[1;33m\u001b[0m\u001b[0m\n",
      "\u001b[1;32mC:\\Program Files\\Python39\\lib\\urllib\\request.py\u001b[0m in \u001b[0;36murlopen\u001b[1;34m(url, data, timeout, cafile, capath, cadefault, context)\u001b[0m\n\u001b[0;32m    213\u001b[0m         \u001b[0mopener\u001b[0m \u001b[1;33m=\u001b[0m \u001b[0m_opener\u001b[0m\u001b[1;33m\u001b[0m\u001b[1;33m\u001b[0m\u001b[0m\n\u001b[1;32m--> 214\u001b[1;33m     \u001b[1;32mreturn\u001b[0m \u001b[0mopener\u001b[0m\u001b[1;33m.\u001b[0m\u001b[0mopen\u001b[0m\u001b[1;33m(\u001b[0m\u001b[0murl\u001b[0m\u001b[1;33m,\u001b[0m \u001b[0mdata\u001b[0m\u001b[1;33m,\u001b[0m \u001b[0mtimeout\u001b[0m\u001b[1;33m)\u001b[0m\u001b[1;33m\u001b[0m\u001b[1;33m\u001b[0m\u001b[0m\n\u001b[0m\u001b[0;32m    215\u001b[0m \u001b[1;33m\u001b[0m\u001b[0m\n",
      "\u001b[1;32mC:\\Program Files\\Python39\\lib\\urllib\\request.py\u001b[0m in \u001b[0;36mopen\u001b[1;34m(self, fullurl, data, timeout)\u001b[0m\n\u001b[0;32m    522\u001b[0m             \u001b[0mmeth\u001b[0m \u001b[1;33m=\u001b[0m \u001b[0mgetattr\u001b[0m\u001b[1;33m(\u001b[0m\u001b[0mprocessor\u001b[0m\u001b[1;33m,\u001b[0m \u001b[0mmeth_name\u001b[0m\u001b[1;33m)\u001b[0m\u001b[1;33m\u001b[0m\u001b[1;33m\u001b[0m\u001b[0m\n\u001b[1;32m--> 523\u001b[1;33m             \u001b[0mresponse\u001b[0m \u001b[1;33m=\u001b[0m \u001b[0mmeth\u001b[0m\u001b[1;33m(\u001b[0m\u001b[0mreq\u001b[0m\u001b[1;33m,\u001b[0m \u001b[0mresponse\u001b[0m\u001b[1;33m)\u001b[0m\u001b[1;33m\u001b[0m\u001b[1;33m\u001b[0m\u001b[0m\n\u001b[0m\u001b[0;32m    524\u001b[0m \u001b[1;33m\u001b[0m\u001b[0m\n",
      "\u001b[1;32mC:\\Program Files\\Python39\\lib\\urllib\\request.py\u001b[0m in \u001b[0;36mhttp_response\u001b[1;34m(self, request, response)\u001b[0m\n\u001b[0;32m    631\u001b[0m         \u001b[1;32mif\u001b[0m \u001b[1;32mnot\u001b[0m \u001b[1;33m(\u001b[0m\u001b[1;36m200\u001b[0m \u001b[1;33m<=\u001b[0m \u001b[0mcode\u001b[0m \u001b[1;33m<\u001b[0m \u001b[1;36m300\u001b[0m\u001b[1;33m)\u001b[0m\u001b[1;33m:\u001b[0m\u001b[1;33m\u001b[0m\u001b[1;33m\u001b[0m\u001b[0m\n\u001b[1;32m--> 632\u001b[1;33m             response = self.parent.error(\n\u001b[0m\u001b[0;32m    633\u001b[0m                 'http', request, response, code, msg, hdrs)\n",
      "\u001b[1;32mC:\\Program Files\\Python39\\lib\\urllib\\request.py\u001b[0m in \u001b[0;36merror\u001b[1;34m(self, proto, *args)\u001b[0m\n\u001b[0;32m    560\u001b[0m             \u001b[0margs\u001b[0m \u001b[1;33m=\u001b[0m \u001b[1;33m(\u001b[0m\u001b[0mdict\u001b[0m\u001b[1;33m,\u001b[0m \u001b[1;34m'default'\u001b[0m\u001b[1;33m,\u001b[0m \u001b[1;34m'http_error_default'\u001b[0m\u001b[1;33m)\u001b[0m \u001b[1;33m+\u001b[0m \u001b[0morig_args\u001b[0m\u001b[1;33m\u001b[0m\u001b[1;33m\u001b[0m\u001b[0m\n\u001b[1;32m--> 561\u001b[1;33m             \u001b[1;32mreturn\u001b[0m \u001b[0mself\u001b[0m\u001b[1;33m.\u001b[0m\u001b[0m_call_chain\u001b[0m\u001b[1;33m(\u001b[0m\u001b[1;33m*\u001b[0m\u001b[0margs\u001b[0m\u001b[1;33m)\u001b[0m\u001b[1;33m\u001b[0m\u001b[1;33m\u001b[0m\u001b[0m\n\u001b[0m\u001b[0;32m    562\u001b[0m \u001b[1;33m\u001b[0m\u001b[0m\n",
      "\u001b[1;32mC:\\Program Files\\Python39\\lib\\urllib\\request.py\u001b[0m in \u001b[0;36m_call_chain\u001b[1;34m(self, chain, kind, meth_name, *args)\u001b[0m\n\u001b[0;32m    493\u001b[0m             \u001b[0mfunc\u001b[0m \u001b[1;33m=\u001b[0m \u001b[0mgetattr\u001b[0m\u001b[1;33m(\u001b[0m\u001b[0mhandler\u001b[0m\u001b[1;33m,\u001b[0m \u001b[0mmeth_name\u001b[0m\u001b[1;33m)\u001b[0m\u001b[1;33m\u001b[0m\u001b[1;33m\u001b[0m\u001b[0m\n\u001b[1;32m--> 494\u001b[1;33m             \u001b[0mresult\u001b[0m \u001b[1;33m=\u001b[0m \u001b[0mfunc\u001b[0m\u001b[1;33m(\u001b[0m\u001b[1;33m*\u001b[0m\u001b[0margs\u001b[0m\u001b[1;33m)\u001b[0m\u001b[1;33m\u001b[0m\u001b[1;33m\u001b[0m\u001b[0m\n\u001b[0m\u001b[0;32m    495\u001b[0m             \u001b[1;32mif\u001b[0m \u001b[0mresult\u001b[0m \u001b[1;32mis\u001b[0m \u001b[1;32mnot\u001b[0m \u001b[1;32mNone\u001b[0m\u001b[1;33m:\u001b[0m\u001b[1;33m\u001b[0m\u001b[1;33m\u001b[0m\u001b[0m\n",
      "\u001b[1;32mC:\\Program Files\\Python39\\lib\\urllib\\request.py\u001b[0m in \u001b[0;36mhttp_error_default\u001b[1;34m(self, req, fp, code, msg, hdrs)\u001b[0m\n\u001b[0;32m    640\u001b[0m     \u001b[1;32mdef\u001b[0m \u001b[0mhttp_error_default\u001b[0m\u001b[1;33m(\u001b[0m\u001b[0mself\u001b[0m\u001b[1;33m,\u001b[0m \u001b[0mreq\u001b[0m\u001b[1;33m,\u001b[0m \u001b[0mfp\u001b[0m\u001b[1;33m,\u001b[0m \u001b[0mcode\u001b[0m\u001b[1;33m,\u001b[0m \u001b[0mmsg\u001b[0m\u001b[1;33m,\u001b[0m \u001b[0mhdrs\u001b[0m\u001b[1;33m)\u001b[0m\u001b[1;33m:\u001b[0m\u001b[1;33m\u001b[0m\u001b[1;33m\u001b[0m\u001b[0m\n\u001b[1;32m--> 641\u001b[1;33m         \u001b[1;32mraise\u001b[0m \u001b[0mHTTPError\u001b[0m\u001b[1;33m(\u001b[0m\u001b[0mreq\u001b[0m\u001b[1;33m.\u001b[0m\u001b[0mfull_url\u001b[0m\u001b[1;33m,\u001b[0m \u001b[0mcode\u001b[0m\u001b[1;33m,\u001b[0m \u001b[0mmsg\u001b[0m\u001b[1;33m,\u001b[0m \u001b[0mhdrs\u001b[0m\u001b[1;33m,\u001b[0m \u001b[0mfp\u001b[0m\u001b[1;33m)\u001b[0m\u001b[1;33m\u001b[0m\u001b[1;33m\u001b[0m\u001b[0m\n\u001b[0m\u001b[0;32m    642\u001b[0m \u001b[1;33m\u001b[0m\u001b[0m\n",
      "\u001b[1;31mHTTPError\u001b[0m: HTTP Error 400: Bad Request",
      "\nDuring handling of the above exception, another exception occurred:\n",
      "\u001b[1;31mQueryBadFormed\u001b[0m                            Traceback (most recent call last)",
      "\u001b[1;32mC:\\Users\\FRANCE~1\\AppData\\Local\\Temp/ipykernel_2316/354698421.py\u001b[0m in \u001b[0;36m<module>\u001b[1;34m\u001b[0m\n\u001b[0;32m     36\u001b[0m     \u001b[0msparql_wd\u001b[0m\u001b[1;33m.\u001b[0m\u001b[0msetReturnFormat\u001b[0m\u001b[1;33m(\u001b[0m\u001b[0mJSON\u001b[0m\u001b[1;33m)\u001b[0m\u001b[1;33m\u001b[0m\u001b[1;33m\u001b[0m\u001b[0m\n\u001b[0;32m     37\u001b[0m     \u001b[1;31m# get the results\u001b[0m\u001b[1;33m\u001b[0m\u001b[1;33m\u001b[0m\u001b[1;33m\u001b[0m\u001b[0m\n\u001b[1;32m---> 38\u001b[1;33m     \u001b[0mresults\u001b[0m \u001b[1;33m=\u001b[0m \u001b[0msparql_wd\u001b[0m\u001b[1;33m.\u001b[0m\u001b[0mquery\u001b[0m\u001b[1;33m(\u001b[0m\u001b[1;33m)\u001b[0m\u001b[1;33m.\u001b[0m\u001b[0mconvert\u001b[0m\u001b[1;33m(\u001b[0m\u001b[1;33m)\u001b[0m\u001b[1;33m\u001b[0m\u001b[1;33m\u001b[0m\u001b[0m\n\u001b[0m\u001b[0;32m     39\u001b[0m     \u001b[0mprint\u001b[0m\u001b[1;33m(\u001b[0m\u001b[0mresults\u001b[0m\u001b[1;33m)\u001b[0m\u001b[1;33m\u001b[0m\u001b[1;33m\u001b[0m\u001b[0m\n\u001b[0;32m     40\u001b[0m \u001b[1;33m\u001b[0m\u001b[0m\n",
      "\u001b[1;32m~\\AppData\\Roaming\\Python\\Python39\\site-packages\\SPARQLWrapper\\Wrapper.py\u001b[0m in \u001b[0;36mquery\u001b[1;34m(self)\u001b[0m\n\u001b[0;32m   1105\u001b[0m             \u001b[1;33m:\u001b[0m\u001b[0mrtype\u001b[0m\u001b[1;33m:\u001b[0m \u001b[1;33m:\u001b[0m\u001b[1;32mclass\u001b[0m\u001b[1;33m:\u001b[0m\u001b[0;31m`\u001b[0m\u001b[0mQueryResult\u001b[0m\u001b[0;31m`\u001b[0m \u001b[0minstance\u001b[0m\u001b[1;33m\u001b[0m\u001b[1;33m\u001b[0m\u001b[0m\n\u001b[0;32m   1106\u001b[0m         \"\"\"\n\u001b[1;32m-> 1107\u001b[1;33m         \u001b[1;32mreturn\u001b[0m \u001b[0mQueryResult\u001b[0m\u001b[1;33m(\u001b[0m\u001b[0mself\u001b[0m\u001b[1;33m.\u001b[0m\u001b[0m_query\u001b[0m\u001b[1;33m(\u001b[0m\u001b[1;33m)\u001b[0m\u001b[1;33m)\u001b[0m\u001b[1;33m\u001b[0m\u001b[1;33m\u001b[0m\u001b[0m\n\u001b[0m\u001b[0;32m   1108\u001b[0m \u001b[1;33m\u001b[0m\u001b[0m\n\u001b[0;32m   1109\u001b[0m     \u001b[1;32mdef\u001b[0m \u001b[0mqueryAndConvert\u001b[0m\u001b[1;33m(\u001b[0m\u001b[0mself\u001b[0m\u001b[1;33m)\u001b[0m\u001b[1;33m:\u001b[0m\u001b[1;33m\u001b[0m\u001b[1;33m\u001b[0m\u001b[0m\n",
      "\u001b[1;32m~\\AppData\\Roaming\\Python\\Python39\\site-packages\\SPARQLWrapper\\Wrapper.py\u001b[0m in \u001b[0;36m_query\u001b[1;34m(self)\u001b[0m\n\u001b[0;32m   1075\u001b[0m         \u001b[1;32mexcept\u001b[0m \u001b[0murllib\u001b[0m\u001b[1;33m.\u001b[0m\u001b[0merror\u001b[0m\u001b[1;33m.\u001b[0m\u001b[0mHTTPError\u001b[0m \u001b[1;32mas\u001b[0m \u001b[0me\u001b[0m\u001b[1;33m:\u001b[0m\u001b[1;33m\u001b[0m\u001b[1;33m\u001b[0m\u001b[0m\n\u001b[0;32m   1076\u001b[0m             \u001b[1;32mif\u001b[0m \u001b[0me\u001b[0m\u001b[1;33m.\u001b[0m\u001b[0mcode\u001b[0m \u001b[1;33m==\u001b[0m \u001b[1;36m400\u001b[0m\u001b[1;33m:\u001b[0m\u001b[1;33m\u001b[0m\u001b[1;33m\u001b[0m\u001b[0m\n\u001b[1;32m-> 1077\u001b[1;33m                 \u001b[1;32mraise\u001b[0m \u001b[0mQueryBadFormed\u001b[0m\u001b[1;33m(\u001b[0m\u001b[0me\u001b[0m\u001b[1;33m.\u001b[0m\u001b[0mread\u001b[0m\u001b[1;33m(\u001b[0m\u001b[1;33m)\u001b[0m\u001b[1;33m)\u001b[0m\u001b[1;33m\u001b[0m\u001b[1;33m\u001b[0m\u001b[0m\n\u001b[0m\u001b[0;32m   1078\u001b[0m             \u001b[1;32melif\u001b[0m \u001b[0me\u001b[0m\u001b[1;33m.\u001b[0m\u001b[0mcode\u001b[0m \u001b[1;33m==\u001b[0m \u001b[1;36m404\u001b[0m\u001b[1;33m:\u001b[0m\u001b[1;33m\u001b[0m\u001b[1;33m\u001b[0m\u001b[0m\n\u001b[0;32m   1079\u001b[0m                 \u001b[1;32mraise\u001b[0m \u001b[0mEndPointNotFound\u001b[0m\u001b[1;33m(\u001b[0m\u001b[0me\u001b[0m\u001b[1;33m.\u001b[0m\u001b[0mread\u001b[0m\u001b[1;33m(\u001b[0m\u001b[1;33m)\u001b[0m\u001b[1;33m)\u001b[0m\u001b[1;33m\u001b[0m\u001b[1;33m\u001b[0m\u001b[0m\n",
      "\u001b[1;31mQueryBadFormed\u001b[0m: QueryBadFormed: a bad request has been sent to the endpoint, probably the sparql query is bad formed. \n\nResponse:\nb'SPARQL-QUERY: queryStr=\\n    PREFIX rdfs: <http://www.w3.org/2000/01/rdf-schema#>\\n    SELECT DISTINCT ?artist\\n    WHERE {{\\n        ?artist wdt:P31 wd:Q5 .\\n        ?artist wdt:P106 ?occupation\\n                      FILTER (?occupation IN (wd:Q1281618) )   \\n        ?artist rdfs:label ?o\\n                      FILTER ( str(?o) = Shusaku Arakawa)  .\\n    }}\\n\\n \\njava.util.concurrent.ExecutionException: org.openrdf.query.MalformedQueryException: Lexical error at line 9, column 49.  Encountered: \" \" (32), after : \"Shusaku\"\\n\\tat java.util.concurrent.FutureTask.report(FutureTask.java:122)\\n\\tat java.util.concurrent.FutureTask.get(FutureTask.java:206)\\n\\tat com.bigdata.rdf.sail.webapp.BigdataServlet.submitApiTask(BigdataServlet.java:292)\\n\\tat com.bigdata.rdf.sail.webapp.QueryServlet.doSparqlQuery(QueryServlet.java:678)\\n\\tat com.bigdata.rdf.sail.webapp.QueryServlet.doGet(QueryServlet.java:290)\\n\\tat com.bigdata.rdf.sail.webapp.RESTServlet.doGet(RESTServlet.java:240)\\n\\tat com.bigdata.rdf.sail.webapp.MultiTenancyServlet.doGet(MultiTenancyServlet.java:273)\\n\\tat javax.servlet.http.HttpServlet.service(HttpServlet.java:687)\\n\\tat javax.servlet.http.HttpServlet.service(HttpServlet.java:790)\\n\\tat org.eclipse.jetty.servlet.ServletHolder.handle(ServletHolder.java:865)\\n\\tat org.eclipse.jetty.servlet.ServletHandler$CachedChain.doFilter(ServletHandler.java:1655)\\n\\tat org.wikidata.query.rdf.blazegraph.throttling.ThrottlingFilter.doFilter(ThrottlingFilter.java:320)\\n\\tat org.eclipse.jetty.servlet.ServletHandler$CachedChain.doFilter(ServletHandler.java:1642)\\n\\tat org.wikidata.query.rdf.blazegraph.throttling.SystemOverloadFilter.doFilter(SystemOverloadFilter.java:82)\\n\\tat org.eclipse.jetty.servlet.ServletHandler$CachedChain.doFilter(ServletHandler.java:1642)\\n\\tat ch.qos.logback.classic.helpers.MDCInsertingServletFilter.doFilter(MDCInsertingServletFilter.java:49)\\n\\tat org.eclipse.jetty.servlet.ServletHandler$CachedChain.doFilter(ServletHandler.java:1642)\\n\\tat org.wikidata.query.rdf.blazegraph.filters.QueryEventSenderFilter.doFilter(QueryEventSenderFilter.java:116)\\n\\tat org.eclipse.jetty.servlet.ServletHandler$CachedChain.doFilter(ServletHandler.java:1642)\\n\\tat org.wikidata.query.rdf.blazegraph.filters.ClientIPFilter.doFilter(ClientIPFilter.java:43)\\n\\tat org.eclipse.jetty.servlet.ServletHandler$CachedChain.doFilter(ServletHandler.java:1642)\\n\\tat org.wikidata.query.rdf.blazegraph.filters.JWTIdentityFilter.doFilter(JWTIdentityFilter.java:66)\\n\\tat org.eclipse.jetty.servlet.ServletHandler$CachedChain.doFilter(ServletHandler.java:1642)\\n\\tat org.wikidata.query.rdf.blazegraph.filters.RealAgentFilter.doFilter(RealAgentFilter.java:33)\\n\\tat org.eclipse.jetty.servlet.ServletHandler$CachedChain.doFilter(ServletHandler.java:1642)\\n\\tat org.wikidata.query.rdf.blazegraph.filters.RequestConcurrencyFilter.doFilter(RequestConcurrencyFilter.java:50)\\n\\tat org.eclipse.jetty.servlet.ServletHandler$CachedChain.doFilter(ServletHandler.java:1634)\\n\\tat org.eclipse.jetty.servlet.ServletHandler.doHandle(ServletHandler.java:533)\\n\\tat org.eclipse.jetty.server.handler.ScopedHandler.handle(ScopedHandler.java:146)\\n\\tat org.eclipse.jetty.security.SecurityHandler.handle(SecurityHandler.java:548)\\n\\tat org.eclipse.jetty.server.handler.HandlerWrapper.handle(HandlerWrapper.java:132)\\n\\tat org.eclipse.jetty.server.handler.ScopedHandler.nextHandle(ScopedHandler.java:257)\\n\\tat org.eclipse.jetty.server.session.SessionHandler.doHandle(SessionHandler.java:1595)\\n\\tat org.eclipse.jetty.server.handler.ScopedHandler.nextHandle(ScopedHandler.java:255)\\n\\tat org.eclipse.jetty.server.handler.ContextHandler.doHandle(ContextHandler.java:1340)\\n\\tat org.eclipse.jetty.server.handler.ScopedHandler.nextScope(ScopedHandler.java:203)\\n\\tat org.eclipse.jetty.servlet.ServletHandler.doScope(ServletHandler.java:473)\\n\\tat org.eclipse.jetty.server.session.SessionHandler.doScope(SessionHandler.java:1564)\\n\\tat org.eclipse.jetty.server.handler.ScopedHandler.nextScope(ScopedHandler.java:201)\\n\\tat org.eclipse.jetty.server.handler.ContextHandler.doScope(ContextHandler.java:1242)\\n\\tat org.eclipse.jetty.server.handler.ScopedHandler.handle(ScopedHandler.java:144)\\n\\tat org.eclipse.jetty.server.handler.ContextHandlerCollection.handle(ContextHandlerCollection.java:220)\\n\\tat org.eclipse.jetty.server.handler.HandlerCollection.handle(HandlerCollection.java:126)\\n\\tat org.eclipse.jetty.server.handler.HandlerWrapper.handle(HandlerWrapper.java:132)\\n\\tat org.eclipse.jetty.server.Server.handle(Server.java:503)\\n\\tat org.eclipse.jetty.server.HttpChannel.handle(HttpChannel.java:364)\\n\\tat org.eclipse.jetty.server.HttpConnection.onFillable(HttpConnection.java:260)\\n\\tat org.eclipse.jetty.io.AbstractConnection$ReadCallback.succeeded(AbstractConnection.java:305)\\n\\tat org.eclipse.jetty.io.FillInterest.fillable(FillInterest.java:103)\\n\\tat org.eclipse.jetty.io.ChannelEndPoint$2.run(ChannelEndPoint.java:118)\\n\\tat org.eclipse.jetty.util.thread.strategy.EatWhatYouKill.runTask(EatWhatYouKill.java:333)\\n\\tat org.eclipse.jetty.util.thread.strategy.EatWhatYouKill.doProduce(EatWhatYouKill.java:310)\\n\\tat org.eclipse.jetty.util.thread.strategy.EatWhatYouKill.tryProduce(EatWhatYouKill.java:168)\\n\\tat org.eclipse.jetty.util.thread.strategy.EatWhatYouKill.run(EatWhatYouKill.java:126)\\n\\tat org.eclipse.jetty.util.thread.ReservedThreadExecutor$ReservedThread.run(ReservedThreadExecutor.java:366)\\n\\tat org.eclipse.jetty.util.thread.QueuedThreadPool.runJob(QueuedThreadPool.java:765)\\n\\tat org.eclipse.jetty.util.thread.QueuedThreadPool$2.run(QueuedThreadPool.java:683)\\n\\tat java.lang.Thread.run(Thread.java:750)\\nCaused by: org.openrdf.query.MalformedQueryException: Lexical error at line 9, column 49.  Encountered: \" \" (32), after : \"Shusaku\"\\n\\tat com.bigdata.rdf.sail.sparql.Bigdata2ASTSPARQLParser.parseQuery2(Bigdata2ASTSPARQLParser.java:404)\\n\\tat com.bigdata.rdf.sail.webapp.QueryServlet$SparqlQueryTask.call(QueryServlet.java:741)\\n\\tat com.bigdata.rdf.sail.webapp.QueryServlet$SparqlQueryTask.call(QueryServlet.java:695)\\n\\tat com.bigdata.rdf.task.ApiTaskForIndexManager.call(ApiTaskForIndexManager.java:68)\\n\\tat java.util.concurrent.FutureTask.run(FutureTask.java:266)\\n\\tat java.util.concurrent.ThreadPoolExecutor.runWorker(ThreadPoolExecutor.java:1149)\\n\\tat java.util.concurrent.ThreadPoolExecutor$Worker.run(ThreadPoolExecutor.java:624)\\n\\t... 1 more\\nCaused by: com.bigdata.rdf.sail.sparql.ast.TokenMgrError: Lexical error at line 9, column 49.  Encountered: \" \" (32), after : \"Shusaku\"\\n\\tat com.bigdata.rdf.sail.sparql.ast.SyntaxTreeBuilderTokenManager.getNextToken(SyntaxTreeBuilderTokenManager.java:3994)\\n\\tat com.bigdata.rdf.sail.sparql.ast.SyntaxTreeBuilder.jj_ntk(SyntaxTreeBuilder.java:9637)\\n\\tat com.bigdata.rdf.sail.sparql.ast.SyntaxTreeBuilder.UnaryExpression(SyntaxTreeBuilder.java:4341)\\n\\tat com.bigdata.rdf.sail.sparql.ast.SyntaxTreeBuilder.MultiplicativeExpression(SyntaxTreeBuilder.java:4287)\\n\\tat com.bigdata.rdf.sail.sparql.ast.SyntaxTreeBuilder.AdditiveExpression(SyntaxTreeBuilder.java:4193)\\n\\tat com.bigdata.rdf.sail.sparql.ast.SyntaxTreeBuilder.NumericExpression(SyntaxTreeBuilder.java:4189)\\n\\tat com.bigdata.rdf.sail.sparql.ast.SyntaxTreeBuilder.RelationalExpression(SyntaxTreeBuilder.java:4030)\\n\\tat com.bigdata.rdf.sail.sparql.ast.SyntaxTreeBuilder.ValueLogical(SyntaxTreeBuilder.java:4013)\\n\\tat com.bigdata.rdf.sail.sparql.ast.SyntaxTreeBuilder.ConditionalAndExpression(SyntaxTreeBuilder.java:3977)\\n\\tat com.bigdata.rdf.sail.sparql.ast.SyntaxTreeBuilder.ConditionalOrExpression(SyntaxTreeBuilder.java:3941)\\n\\tat com.bigdata.rdf.sail.sparql.ast.SyntaxTreeBuilder.Expression(SyntaxTreeBuilder.java:3937)\\n\\tat com.bigdata.rdf.sail.sparql.ast.SyntaxTreeBuilder.BrackettedExpression(SyntaxTreeBuilder.java:5034)\\n\\tat com.bigdata.rdf.sail.sparql.ast.SyntaxTreeBuilder.Constraint(SyntaxTreeBuilder.java:2573)\\n\\tat com.bigdata.rdf.sail.sparql.ast.SyntaxTreeBuilder.Filter(SyntaxTreeBuilder.java:2562)\\n\\tat com.bigdata.rdf.sail.sparql.ast.SyntaxTreeBuilder.FilterOrBind(SyntaxTreeBuilder.java:2245)\\n\\tat com.bigdata.rdf.sail.sparql.ast.SyntaxTreeBuilder.BasicGraphPattern(SyntaxTreeBuilder.java:2111)\\n\\tat com.bigdata.rdf.sail.sparql.ast.SyntaxTreeBuilder.GraphPattern(SyntaxTreeBuilder.java:2034)\\n\\tat com.bigdata.rdf.sail.sparql.ast.SyntaxTreeBuilder.GroupGraphPattern(SyntaxTreeBuilder.java:1969)\\n\\tat com.bigdata.rdf.sail.sparql.ast.SyntaxTreeBuilder.GroupOrUnionGraphPattern(SyntaxTreeBuilder.java:2451)\\n\\tat com.bigdata.rdf.sail.sparql.ast.SyntaxTreeBuilder.GraphPatternNotTriples(SyntaxTreeBuilder.java:2361)\\n\\tat com.bigdata.rdf.sail.sparql.ast.SyntaxTreeBuilder.GraphPattern(SyntaxTreeBuilder.java:2047)\\n\\tat com.bigdata.rdf.sail.sparql.ast.SyntaxTreeBuilder.GroupGraphPattern(SyntaxTreeBuilder.java:1969)\\n\\tat com.bigdata.rdf.sail.sparql.ast.SyntaxTreeBuilder.WhereClause(SyntaxTreeBuilder.java:1013)\\n\\tat com.bigdata.rdf.sail.sparql.ast.SyntaxTreeBuilder.SelectQuery(SyntaxTreeBuilder.java:377)\\n\\tat com.bigdata.rdf.sail.sparql.ast.SyntaxTreeBuilder.Query(SyntaxTreeBuilder.java:328)\\n\\tat com.bigdata.rdf.sail.sparql.ast.SyntaxTreeBuilder.QueryContainer(SyntaxTreeBuilder.java:216)\\n\\tat com.bigdata.rdf.sail.sparql.ast.SyntaxTreeBuilder.parseQuery(SyntaxTreeBuilder.java:32)\\n\\tat com.bigdata.rdf.sail.sparql.Bigdata2ASTSPARQLParser.parseQuery2(Bigdata2ASTSPARQLParser.java:336)\\n\\t... 7 more\\n'"
     ]
    }
   ],
   "source": [
    "from rdflib import Namespace , Literal , URIRef\n",
    "from rdflib.namespace import RDF , RDFS\n",
    "from SPARQLWrapper import SPARQLWrapper, JSON\n",
    "import ssl\n",
    "import rdflib\n",
    "\n",
    "ssl._create_default_https_context = ssl._create_unverified_context\n",
    "\n",
    "# get the endpoint API\n",
    "wikidata_endpoint = \"https://query.wikidata.org/bigdata/namespace/wdq/sparql\"\n",
    "\n",
    "artistsNames = TateIntegration[\"name\"].values\n",
    "print(artistsNames)\n",
    "\n",
    "for element in artistsNames:\n",
    "    \n",
    "    artists_genders_from_ids = \"\"\"\n",
    "    PREFIX rdfs: <http://www.w3.org/2000/01/rdf-schema#>\n",
    "    SELECT DISTINCT ?artist\n",
    "    WHERE {{\n",
    "        ?artist wdt:P31 wd:Q5 .\n",
    "        ?artist wdt:P106 ?occupation\n",
    "                      FILTER (?occupation IN (wd:Q1281618) )   \n",
    "        ?artist rdfs:label ?o\n",
    "                      FILTER ( str(?o) = \"\"\"+element+\"\"\")  .\n",
    "    }}\n",
    "\n",
    " \"\"\"\n",
    "\n",
    "\n",
    "    # set the endpoint \n",
    "    sparql_wd = SPARQLWrapper(wikidata_endpoint)\n",
    "    # set the query\n",
    "    sparql_wd.setQuery(artists_genders_from_ids)\n",
    "    # set the returned format\n",
    "    sparql_wd.setReturnFormat(JSON)\n",
    "    # get the results\n",
    "    results = sparql_wd.query().convert()\n",
    "    print(results)\n",
    "\n",
    "    # manipulate the result\n",
    "    for result in results[\"results\"][\"bindings\"]:\n",
    "        artists =  result[\"artist\"][\"value\"]\n",
    "        print(artists)"
   ]
  },
  {
   "cell_type": "code",
   "execution_count": null,
   "id": "4431fb24",
   "metadata": {},
   "outputs": [],
   "source": [
    "searchWiki(0, TateArtists)"
   ]
  },
  {
   "cell_type": "markdown",
   "id": "f4a6e53d",
   "metadata": {},
   "source": [
    "### MoMa"
   ]
  },
  {
   "cell_type": "code",
   "execution_count": 28,
   "id": "5519a5a0",
   "metadata": {},
   "outputs": [
    {
     "data": {
      "text/plain": [
       "American     5181\n",
       "German        965\n",
       "British       860\n",
       "French        847\n",
       "Italian       536\n",
       "             ... \n",
       "Catalan         1\n",
       "Sahrawi         1\n",
       "Cambodian       1\n",
       "Coptic          1\n",
       "Afghan          1\n",
       "Name: Nationality, Length: 119, dtype: int64"
      ]
     },
     "execution_count": 28,
     "metadata": {},
     "output_type": "execute_result"
    }
   ],
   "source": [
    "MoMaArtists['Nationality'].value_counts()"
   ]
  },
  {
   "cell_type": "markdown",
   "id": "e012c703",
   "metadata": {},
   "source": [
    "# Acquisition criteria."
   ]
  },
  {
   "cell_type": "markdown",
   "id": "61c01eac",
   "metadata": {},
   "source": [
    "1.  In which years are artists' works mostly acquired?"
   ]
  },
  {
   "cell_type": "markdown",
   "id": "0e91226b",
   "metadata": {},
   "source": [
    "## Year by year"
   ]
  },
  {
   "cell_type": "code",
   "execution_count": 29,
   "id": "644ee866",
   "metadata": {},
   "outputs": [
    {
     "data": {
      "text/plain": [
       "1964    12828\n",
       "2008     7204\n",
       "1968     6894\n",
       "0        6682\n",
       "2001     4170\n",
       "        ...  \n",
       "1933       93\n",
       "1932       18\n",
       "1929        9\n",
       "1930        7\n",
       "1931        3\n",
       "Name: DateAcquired, Length: 95, dtype: int64"
      ]
     },
     "execution_count": 29,
     "metadata": {},
     "output_type": "execute_result"
    }
   ],
   "source": [
    "MoMa['DateAcquired'].value_counts()"
   ]
  },
  {
   "cell_type": "code",
   "execution_count": 30,
   "id": "cdf8f026",
   "metadata": {},
   "outputs": [
    {
     "data": {
      "text/plain": [
       "1856    37893\n",
       "1997     3706\n",
       "1975     3046\n",
       "2009     1364\n",
       "1979     1166\n",
       "        ...  \n",
       "1873        1\n",
       "1843        1\n",
       "1863        1\n",
       "1842        1\n",
       "1855        1\n",
       "Name: DateAcquired, Length: 179, dtype: int64"
      ]
     },
     "execution_count": 30,
     "metadata": {},
     "output_type": "execute_result"
    }
   ],
   "source": [
    "Tate['DateAcquired'].value_counts()"
   ]
  },
  {
   "cell_type": "markdown",
   "id": "1fa7f2ee",
   "metadata": {},
   "source": [
    "Let us analyse acquisitions from a larger perspective: not year by year, but for every ten years."
   ]
  },
  {
   "cell_type": "code",
   "execution_count": 31,
   "id": "4301aaf4",
   "metadata": {},
   "outputs": [
    {
     "name": "stdout",
     "output_type": "stream",
     "text": [
      "Moma: {'1930s': 3318, '1940s': 8274, '1950s': 6846, '1960s': 31950, '1970s': 13868, '1980s': 11497, '1990s': 13332}\n"
     ]
    }
   ],
   "source": [
    "MoMa.to_csv('MoMa.csv')\n",
    "with open('MoMa.csv', mode='r', encoding='utf-8') as csvfile:\n",
    "    reader = csv.DictReader(csvfile)\n",
    "    years={}\n",
    "    for item in reader:\n",
    "        if item['DateAcquired']not in years:\n",
    "            years[item['DateAcquired']]= 1\n",
    "        else:\n",
    "            years[item['DateAcquired']]+= 1\n",
    "new_dict={}\n",
    "for key in years:\n",
    "    key_int=int(key)\n",
    "    if key_int in range(1928,1941):\n",
    "        if '1930s' not in new_dict.keys():\n",
    "               new_dict['1930s']= years[key]\n",
    "        else:\n",
    "            new_dict['1930s'] += years[key]\n",
    "    if key_int in range(1940,1951):\n",
    "        if '1940s' not in new_dict.keys():\n",
    "               new_dict['1940s']= years[key]\n",
    "        else:\n",
    "            new_dict['1940s'] += years[key]\n",
    "    \n",
    "    if key_int in range(1950,1961):\n",
    "        if '1950s' not in new_dict.keys():\n",
    "               new_dict['1950s']= years[key]\n",
    "        else:\n",
    "            new_dict['1950s'] += years[key]\n",
    "    \n",
    "    if key_int in range(1960,1971):\n",
    "        if '1960s' not in new_dict.keys():\n",
    "               new_dict['1960s']= years[key]\n",
    "        else:\n",
    "            new_dict['1960s'] += years[key]\n",
    "    \n",
    "    if key_int in range(1970,1981):\n",
    "        if '1970s' not in new_dict.keys():\n",
    "               new_dict['1970s']= years[key]\n",
    "        else:\n",
    "            new_dict['1970s'] += years[key]\n",
    "    if key_int in range(1980,1991):\n",
    "        if '1980s' not in new_dict.keys():\n",
    "               new_dict['1980s']= years[key]\n",
    "        else:\n",
    "            new_dict['1980s'] += years[key]\n",
    "    \n",
    "    if key_int in range(1990,2001):\n",
    "        if '1990s' not in new_dict.keys():\n",
    "               new_dict['1990s']= years[key]\n",
    "        else:\n",
    "            new_dict['1990s'] += years[key]\n",
    "        \n",
    "    \n",
    "print('Moma:', new_dict)\n",
    "    "
   ]
  },
  {
   "cell_type": "code",
   "execution_count": 32,
   "id": "ef43299d",
   "metadata": {},
   "outputs": [
    {
     "name": "stdout",
     "output_type": "stream",
     "text": [
      "Tate: {'1930s': 788, '1940s': 776, '1950s': 633, '1960s': 1048, '1970s': 6853, '1980s': 5538, '1990s': 6693}\n"
     ]
    }
   ],
   "source": [
    "Tate.to_csv('Tate.csv')\n",
    "with open('Tate.csv', mode='r', encoding='utf-8') as csvfile:\n",
    "    reader = csv.DictReader(csvfile)\n",
    "    years={}\n",
    "    for item in reader:\n",
    "        if item['DateAcquired']not in years:\n",
    "            years[item['DateAcquired']]= 1\n",
    "        else:\n",
    "            years[item['DateAcquired']]+= 1\n",
    "new_dict={}\n",
    "for key in years:\n",
    "    key_int=int(key)\n",
    "    if key_int in range(1928,1941):\n",
    "        if '1930s' not in new_dict.keys():\n",
    "               new_dict['1930s']= years[key]\n",
    "        else:\n",
    "            new_dict['1930s'] += years[key]\n",
    "    if key_int in range(1940,1951):\n",
    "        if '1940s' not in new_dict.keys():\n",
    "               new_dict['1940s']= years[key]\n",
    "        else:\n",
    "            new_dict['1940s'] += years[key]\n",
    "    \n",
    "    if key_int in range(1950,1961):\n",
    "        if '1950s' not in new_dict.keys():\n",
    "               new_dict['1950s']= years[key]\n",
    "        else:\n",
    "            new_dict['1950s'] += years[key]\n",
    "    \n",
    "    if key_int in range(1960,1971):\n",
    "        if '1960s' not in new_dict.keys():\n",
    "               new_dict['1960s']= years[key]\n",
    "        else:\n",
    "            new_dict['1960s'] += years[key]\n",
    "    \n",
    "    if key_int in range(1970,1981):\n",
    "        if '1970s' not in new_dict.keys():\n",
    "               new_dict['1970s']= years[key]\n",
    "        else:\n",
    "            new_dict['1970s'] += years[key]\n",
    "    if key_int in range(1980,1991):\n",
    "        if '1980s' not in new_dict.keys():\n",
    "               new_dict['1980s']= years[key]\n",
    "        else:\n",
    "            new_dict['1980s'] += years[key]\n",
    "    \n",
    "    if key_int in range(1990,2001):\n",
    "        if '1990s' not in new_dict.keys():\n",
    "               new_dict['1990s']= years[key]\n",
    "        else:\n",
    "            new_dict['1990s'] += years[key]\n",
    "        \n",
    "    \n",
    "print('Tate:', new_dict)\n",
    "    "
   ]
  },
  {
   "cell_type": "markdown",
   "id": "8790dea7",
   "metadata": {},
   "source": [
    "## Gender Gap <br>\n",
    "Does it decrease?\n",
    "When?"
   ]
  },
  {
   "cell_type": "code",
   "execution_count": 33,
   "id": "ce0ee799",
   "metadata": {},
   "outputs": [
    {
     "name": "stdout",
     "output_type": "stream",
     "text": [
      "{'1930s': {'Male': 3082, 'Female': 236}, '1940s': {'Male': 7707, 'Female': 567}, '1950s': {'Male': 6476, 'Female': 370}, '1960s': {'Male': 30701, 'Female': 1249}, '1970s': {'Male': 12245, 'Female': 1623}, '1980s': {'Male': 10230, 'Female': 1267}, '1990s': {'Male': 10522, 'Female': 2810}}\n"
     ]
    }
   ],
   "source": [
    "with open('MoMa.csv', mode='r', encoding='utf-8') as csvfile:\n",
    "    reader = csv.DictReader(csvfile)\n",
    "    gender={'1930s': {'Male': 0, 'Female': 0}, '1940s': {'Male': 0, 'Female': 0}, '1950s': {'Male': 0, 'Female': 0}, '1960s': {'Male': 0, 'Female': 0}, '1970s': {'Male': 0, 'Female': 0}, '1980s': {'Male': 0, 'Female': 0}, '1990s': {'Male': 0, 'Female': 0}}\n",
    "    for item in reader:\n",
    "        if int(item['DateAcquired']) in range (1928,1941):\n",
    "            if (item['Gender'] == '(Female)'): \n",
    "                gender['1930s']['Female'] += 1\n",
    "            else:\n",
    "                gender['1930s']['Male'] += 1\n",
    "        if int(item['DateAcquired']) in range (1940,1951):\n",
    "            if (item['Gender'] == '(Female)'): \n",
    "                gender['1940s']['Female'] += 1\n",
    "            else:\n",
    "                gender['1940s']['Male'] += 1\n",
    "        if int(item['DateAcquired']) in range (1950,1961):\n",
    "            if (item['Gender'] == '(Female)'): \n",
    "                gender['1950s']['Female'] += 1\n",
    "            else:\n",
    "                gender['1950s']['Male'] += 1\n",
    "        if int(item['DateAcquired']) in range (1960,1971):\n",
    "            if (item['Gender'] == '(Female)'): \n",
    "                gender['1960s']['Female'] += 1\n",
    "            else:\n",
    "                gender['1960s']['Male'] += 1\n",
    "        if int(item['DateAcquired']) in range (1970,1981):\n",
    "            if (item['Gender'] == '(Female)'): \n",
    "                gender['1970s']['Female'] += 1\n",
    "            else:\n",
    "                gender['1970s']['Male'] += 1\n",
    "        if int(item['DateAcquired']) in range (1980,1991):\n",
    "            if (item['Gender'] == '(Female)'): \n",
    "                gender['1980s']['Female'] += 1\n",
    "            else:\n",
    "                gender['1980s']['Male'] += 1\n",
    "        if int(item['DateAcquired']) in range (1990,2001):\n",
    "            if (item['Gender'] == '(Female)'): \n",
    "                gender['1990s']['Female'] += 1\n",
    "            else:\n",
    "                gender['1990s']['Male'] += 1\n",
    "    print(gender)"
   ]
  },
  {
   "cell_type": "markdown",
   "id": "811024b8",
   "metadata": {},
   "source": [
    "Percentage: Male / Male + Female *2"
   ]
  },
  {
   "cell_type": "code",
   "execution_count": 34,
   "id": "572b4bd4",
   "metadata": {},
   "outputs": [
    {
     "name": "stdout",
     "output_type": "stream",
     "text": [
      "1930s Male 93 % Female 7 %\n",
      "1940s Male 93 % Female 7 %\n",
      "1950s Male 95 % Female 5 %\n",
      "1960s Male 96 % Female 4 %\n",
      "1970s Male 88 % Female 12 %\n",
      "1980s Male 89 % Female 11 %\n",
      "1990s Male 79 % Female 21 %\n"
     ]
    }
   ],
   "source": [
    "for el in gender:\n",
    "    tot = gender[el]['Male'] + gender[el]['Female']\n",
    "    percentage = (gender[el]['Male']/tot)*100\n",
    "    print (el, 'Male', round(percentage),'%', 'Female', round(100-percentage),'%')"
   ]
  },
  {
   "cell_type": "code",
   "execution_count": 39,
   "id": "e68d955a",
   "metadata": {},
   "outputs": [
    {
     "name": "stdout",
     "output_type": "stream",
     "text": [
      "{'1930s': {'Male': 722, 'Female': 66}, '1940s': {'Male': 700, 'Female': 76}, '1950s': {'Male': 598, 'Female': 35}, '1960s': {'Male': 967, 'Female': 81}, '1970s': {'Male': 6398, 'Female': 455}, '1980s': {'Male': 5202, 'Female': 336}, '1990s': {'Male': 6025, 'Female': 668}}\n"
     ]
    }
   ],
   "source": [
    "with open('Tate.csv', mode='r', encoding='utf-8') as csvfile:\n",
    "    reader = csv.DictReader(csvfile)\n",
    "    gender={'1930s': {'Male': 0, 'Female': 0}, '1940s': {'Male': 0, 'Female': 0}, '1950s': {'Male': 0, 'Female': 0}, '1960s': {'Male': 0, 'Female': 0}, '1970s': {'Male': 0, 'Female': 0}, '1980s': {'Male': 0, 'Female': 0}, '1990s': {'Male': 0, 'Female': 0}}\n",
    "    for item in reader:\n",
    "        if int(item['DateAcquired']) in range (1928,1941):\n",
    "            if (item['Gender'] == 'Female'): \n",
    "                gender['1930s']['Female'] += 1\n",
    "            else:\n",
    "                gender['1930s']['Male'] += 1\n",
    "        if int(item['DateAcquired']) in range (1940,1951):\n",
    "            if (item['Gender'] == 'Female'): \n",
    "                gender['1940s']['Female'] += 1\n",
    "            else:\n",
    "                gender['1940s']['Male'] += 1\n",
    "        if int(item['DateAcquired']) in range (1950,1961):\n",
    "            if (item['Gender'] == 'Female'): \n",
    "                gender['1950s']['Female'] += 1\n",
    "            else:\n",
    "                gender['1950s']['Male'] += 1\n",
    "        if int(item['DateAcquired']) in range (1960,1971):\n",
    "            if (item['Gender'] == 'Female'): \n",
    "                gender['1960s']['Female'] += 1\n",
    "            else:\n",
    "                gender['1960s']['Male'] += 1\n",
    "        if int(item['DateAcquired']) in range (1970,1981):\n",
    "            if (item['Gender'] == 'Female'): \n",
    "                gender['1970s']['Female'] += 1\n",
    "            else:\n",
    "                gender['1970s']['Male'] += 1\n",
    "        if int(item['DateAcquired']) in range (1980,1991):\n",
    "            if (item['Gender'] == 'Female'): \n",
    "                gender['1980s']['Female'] += 1\n",
    "            else:\n",
    "                gender['1980s']['Male'] += 1\n",
    "        if int(item['DateAcquired']) in range (1990,2001):\n",
    "            if (item['Gender'] == 'Female'): \n",
    "                gender['1990s']['Female'] += 1\n",
    "            else:\n",
    "                gender['1990s']['Male'] += 1\n",
    "    print(gender)"
   ]
  },
  {
   "cell_type": "code",
   "execution_count": 40,
   "id": "00870535",
   "metadata": {},
   "outputs": [
    {
     "name": "stdout",
     "output_type": "stream",
     "text": [
      "1930s Male 92 % Female 8 %\n",
      "1940s Male 90 % Female 10 %\n",
      "1950s Male 94 % Female 6 %\n",
      "1960s Male 92 % Female 8 %\n",
      "1970s Male 93 % Female 7 %\n",
      "1980s Male 94 % Female 6 %\n",
      "1990s Male 90 % Female 10 %\n"
     ]
    }
   ],
   "source": [
    "for el in gender:\n",
    "    tot = gender[el]['Male'] + gender[el]['Female']\n",
    "    percentage = (gender[el]['Male']/tot)*100\n",
    "    print (el, 'Male', round(percentage),'%', 'Female', round(100-percentage),'%')"
   ]
  },
  {
   "cell_type": "markdown",
   "id": "cb2a8867",
   "metadata": {},
   "source": [
    "## Nationalities\n",
    "\n",
    "In which years artists' nationalities more influent on the selection? Per ogni 10 anni, percentuale di nazionalità acquisite e differenza."
   ]
  },
  {
   "cell_type": "markdown",
   "id": "05722605",
   "metadata": {},
   "source": [
    "### MoMa"
   ]
  },
  {
   "cell_type": "code",
   "execution_count": 41,
   "id": "1c03dc71",
   "metadata": {},
   "outputs": [],
   "source": [
    "MoMaArtists.rename(columns = {'ConstituentID':'Id'}, inplace = True)"
   ]
  },
  {
   "cell_type": "code",
   "execution_count": 10,
   "id": "efe55cf5",
   "metadata": {},
   "outputs": [],
   "source": [
    "def cleanDates(date):\n",
    "    if '.' in date:\n",
    "        date = date.split('.')[0]\n",
    "    return date"
   ]
  },
  {
   "cell_type": "code",
   "execution_count": 61,
   "id": "acb6e246",
   "metadata": {},
   "outputs": [],
   "source": [
    "MoMaNationalities = pd.merge(MoMaArtists,MoMa[['Id', 'DateAcquired']],on='Id', how='left')\n",
    "MoMaNationalities.fillna(value='0', inplace=True)\n",
    "MoMaNationalities[\"DateAcquired\"] = MoMaNationalities[\"DateAcquired\"].astype(str)\n",
    "MoMaNationalities[\"DateAcquired\"] = MoMaNationalities[\"DateAcquired\"].apply(cleanDates)\n",
    "MoMaNationalities = MoMaNationalities.drop_duplicates(subset='DisplayName', keep=\"first\")\n",
    "MoMaNationalities.to_csv('MoMaNationalities.csv')"
   ]
  },
  {
   "cell_type": "code",
   "execution_count": 62,
   "id": "c13fd275",
   "metadata": {},
   "outputs": [
    {
     "name": "stdout",
     "output_type": "stream",
     "text": [
      "defaultdict(<class 'dict'>, {'1980s': {'American': 615, 'Estonian': 2, 'Swedish': 12, 'Finnish': 7, 'Romanian': 2, 'French': 91, 'Dutch': 31, 'Norwegian': 4, 'Danish': 11, 'British': 91, 'Austrian': 23, 'Italian': 32, 'Japanese': 61, 'German': 100, 'Russian': 18, 'Spanish': 12, 'Congolese': 1, 'Brazilian': 2, 'Hungarian': 9, 'Polish': 19, 'Canadian': 34, 'Swiss': 47, 'Icelandic': 2, 'Australian': 6, 'Croatian': 3, 'Slovak': 1, 'Cuban': 4, 'Mexican': 9, 'Greek': 1, 'Chinese': 1, 'Belgian': 7, 'Native American': 2, 'Chilean': 2, 'Czech': 11, 'Nationality unknown': 5, 'Israeli': 7, 'Luxembourger': 1, 'Portuguese': 1, 'Peruvian': 3, 'Indian': 1, 'Haitian': 1, 'Moroccan': 1, '0': 14, 'Latvian': 2, 'Georgian': 1, 'Ukrainian': 2, 'Irish': 1, 'Colombian': 1, 'Puerto Rican': 1}, '1960s': {'Spanish': 20, '0': 14, 'Italian': 97, 'American': 641, 'French': 126, 'Japanese': 64, 'British': 76, 'Israeli': 11, 'Finnish': 4, 'Argentine': 40, 'Kuwaiti': 1, 'German': 142, 'Nationality unknown': 36, 'Chilean': 19, 'Swiss': 24, 'Czech': 7, 'Danish': 13, 'Brazilian': 21, 'Canadian': 47, 'Swedish': 22, 'Russian': 29, 'Austrian': 20, 'Slovenian': 5, 'Portuguese': 1, 'Indian': 7, 'Romanian': 3, 'Colombian': 7, 'Dutch': 17, 'Uruguayan': 4, 'Polish': 31, 'Ukrainian': 1, 'Australian': 5, 'Belgian': 13, 'Peruvian': 11, 'Cuban': 3, 'Mexican': 13, 'Venezuelan': 8, 'Bolivian': 1, 'Greek': 4, 'Panamanian': 2, 'Croatian': 4, 'Turkish': 2, 'Icelandic': 3, 'Ecuadorian': 2, 'Iranian': 4, 'Hungarian': 4, 'Serbian': 3, 'Canadian Inuit': 3, 'Costa Rican': 1, 'Paraguayan': 1, 'Haitian': 1, 'Zimbabwean': 3, 'South African': 1, 'Moroccan': 2, 'Guatemalan': 1, 'Tanzanian': 1, 'Sudanese': 1, 'Taiwanese': 1, 'Ethiopian': 1, 'Irish': 1, 'Korean': 1, 'Chinese': 2}, '1970s': {'American': 586, 'Danish': 8, 'British': 75, 'French': 38, 'Polish': 6, 'Italian': 34, 'Romanian': 2, 'Russian': 28, 'Japanese': 63, 'Dutch': 23, 'Finnish': 2, 'Czech': 9, 'Australian': 10, 'Ukrainian': 2, 'German': 52, 'Israeli': 11, 'Canadian': 8, 'Brazilian': 3, 'Nationality unknown': 20, 'Irish': 2, 'Belgian': 9, 'Chilean': 2, 'Spanish': 9, 'Mexican': 9, 'Colombian': 13, 'Cuban': 3, 'Peruvian': 1, 'Turkish': 2, 'Greek': 3, 'Austrian': 11, 'Swedish': 2, 'Swiss': 15, 'Argentine': 1, 'South African': 1, 'Hungarian': 2, 'Norwegian': 1, 'Korean': 3, 'Slovenian': 4, 'Venezuelan': 10, '0': 3, 'Tunisian': 1, 'Paraguayan': 1, 'Uruguayan': 1, 'Icelandic': 1}, '1950s': {'American': 396, 'Swedish': 20, 'Israeli': 4, 'Japanese': 112, 'Guatemalan': 3, 'Italian': 54, 'Finnish': 11, 'German': 88, 'Belgian': 14, 'French': 155, '0': 16, 'Dutch': 28, 'British': 54, 'Austrian': 11, 'Swiss': 42, 'Hungarian': 3, 'Canadian': 12, 'Cuban': 4, 'Nationality unknown': 54, 'Spanish': 7, 'Brazilian': 14, 'Chilean': 4, 'Polish': 6, 'Mexican': 5, 'Uruguayan': 1, 'Slovenian': 2, 'Haitian': 1, 'Algerian': 1, 'Venezuelan': 3, 'Danish': 19, 'Canadian Inuit': 2, 'Russian': 4, 'Serbian': 2, 'Czech': 6, 'Korean': 2, 'Nicaraguan': 1, 'Turkish': 1, 'Australian': 3, 'Colombian': 2, 'Norwegian': 5, 'Tanzanian': 1, 'Irish': 2, 'Argentine': 3, 'Peruvian': 1, 'Icelandic': 1}, '1930s': {'French': 60, 'Spanish': 26, 'American': 247, 'Palestinian': 1, 'British': 73, 'Chilean': 1, 'German': 34, 'Swiss': 11, 'Dutch': 8, 'Nationality unknown': 6, 'Belgian': 4, 'Russian': 8, '0': 5, 'Japanese': 2, 'Israeli': 2, 'Norwegian': 2, 'Polish': 1, 'Italian': 5, 'Mexican': 3, 'Hungarian': 1, 'Swedish': 1, 'Bolivian': 1, 'Czechoslovakian': 1}, '1940s': {'Mexican': 35, 'American': 517, 'Finnish': 4, 'Palestinian': 1, 'Colombian': 3, 'French': 101, 'Polish': 7, '0': 22, 'Costa Rican': 1, 'British': 63, 'Chilean': 5, 'Argentine': 18, 'Italian': 36, 'German': 55, 'Swiss': 24, 'Haitian': 10, 'Brazilian': 9, 'Bolivian': 1, 'Swedish': 10, 'Cuban': 10, 'Peruvian': 2, 'Nationality unknown': 18, 'Spanish': 3, 'Romanian': 2, 'Greek': 2, 'Chinese': 3, 'Australian': 3, 'Dutch': 11, 'Belgian': 7, 'Czech': 4, 'Uruguayan': 3, 'Japanese': 4, 'Ecuadorian': 2, 'Austrian': 9, 'Russian': 17, 'Danish': 5, 'Nicaraguan': 1, 'Guatemalan': 1, 'Norwegian': 2, 'Hungarian': 3, 'Israeli': 2, 'Canadian': 1, 'Native American': 1, 'Yugoslav': 1, 'Scottish': 1}, '1990s': {'American': 458, 'French': 50, 'German': 62, 'Italian': 42, 'British': 67, 'Dutch': 30, 'Danish': 12, 'Japanese': 55, 'Swiss': 34, 'Mexican': 9, 'Austrian': 12, 'Spanish': 20, 'Portuguese': 2, 'Cuban': 6, 'Swedish': 4, 'Israeli': 4, 'Czech': 8, 'Belgian': 3, 'Polish': 14, 'Norwegian': 4, 'Brazilian': 15, 'Russian': 23, 'Argentine': 6, 'Azerbaijani': 1, '0': 14, 'Chilean': 8, 'Canadian': 11, 'Finnish': 4, 'Senegalese': 1, 'Indian': 2, 'Nationality unknown': 8, 'Thai': 1, 'Colombian': 2, 'Australian': 4, 'South African': 3, 'Iranian': 2, 'Peruvian': 1, 'Scottish': 1, 'Romanian': 2, 'Chinese': 6, 'Ukrainian': 2, 'Pakistani': 1, 'Korean': 1, 'Bahamian': 1, 'Malian': 1, 'Taiwanese': 1, 'Hungarian': 1, 'Uruguayan': 1, 'Czechoslovakian': 1}})\n"
     ]
    }
   ],
   "source": [
    "from collections import defaultdict \n",
    "\n",
    "with open('MoMaNationalities.csv', mode='r', encoding='utf-8') as csvfile:\n",
    "    reader = csv.DictReader(csvfile)\n",
    "    nationalities = defaultdict(dict)\n",
    "    for item in reader:\n",
    "        if int(item['DateAcquired']) in range (1928,1941):\n",
    "            if item['Nationality'] not in nationalities['1930s']:\n",
    "                nationalities['1930s'][item['Nationality']] = 1\n",
    "            else:\n",
    "                nationalities['1930s'][item['Nationality']] += 1\n",
    "        if int(item['DateAcquired']) in range (1940,1951):\n",
    "            if item['Nationality'] not in nationalities['1940s']:\n",
    "                nationalities['1940s'][item['Nationality']] = 1\n",
    "            else:\n",
    "                nationalities['1940s'][item['Nationality']] += 1\n",
    "        if int(item['DateAcquired']) in range (1950,1961):\n",
    "            if item['Nationality'] not in nationalities['1950s']:\n",
    "                nationalities['1950s'][item['Nationality']] = 1\n",
    "            else:\n",
    "                nationalities['1950s'][item['Nationality']] += 1\n",
    "        if int(item['DateAcquired']) in range (1960,1971):\n",
    "            if item['Nationality'] not in nationalities['1960s']:\n",
    "                nationalities['1960s'][item['Nationality']] = 1\n",
    "            else:\n",
    "                nationalities['1960s'][item['Nationality']] += 1\n",
    "        if int(item['DateAcquired']) in range (1970,1981):\n",
    "            if item['Nationality'] not in nationalities['1970s']:\n",
    "                nationalities['1970s'][item['Nationality']] = 1\n",
    "            else:\n",
    "                nationalities['1970s'][item['Nationality']] += 1\n",
    "        if int(item['DateAcquired']) in range (1980,1991):\n",
    "            if item['Nationality'] not in nationalities['1980s']:\n",
    "                nationalities['1980s'][item['Nationality']] = 1\n",
    "            else:\n",
    "                nationalities['1980s'][item['Nationality']] += 1\n",
    "        if int(item['DateAcquired']) in range (1990,2001):\n",
    "            if item['Nationality'] not in nationalities['1990s']:\n",
    "                nationalities['1990s'][item['Nationality']] = 1\n",
    "            else:\n",
    "                nationalities['1990s'][item['Nationality']] += 1\n",
    "        \n",
    "                \n",
    "\n",
    "print(nationalities)\n",
    "        \n",
    "    "
   ]
  },
  {
   "cell_type": "markdown",
   "id": "d844ce40",
   "metadata": {},
   "source": [
    "### Tate"
   ]
  },
  {
   "cell_type": "code",
   "execution_count": 30,
   "id": "1cc5a200",
   "metadata": {},
   "outputs": [],
   "source": [
    "def cleanNationalitiesTate(naz):\n",
    "    if ',' in naz:\n",
    "        naz = naz.split(',')[1]\n",
    "    if naz == 'Blackheath':\n",
    "        naz= naz.replace('Blackheath', 'United Kingdom')\n",
    "    if naz == 'London':\n",
    "        naz= naz.replace('London', 'United Kingdom')\n",
    "    if naz == 'Kensington':\n",
    "        naz= naz.replace('Kensington', 'United Kingdom')\n",
    "    if naz == 'Chung-hua Min-kuo':\n",
    "        naz= naz.replace('Chung-hua Min-kuo', 'Taiwan')\n",
    "    if naz == 'Solothurn':\n",
    "        naz= naz.replace('Solothurn', 'Schweiz')\n",
    "    if naz == 'Melmerby':\n",
    "        naz= naz.replace('Melmerby', 'United Kingdom')\n",
    "    if naz == 'Montserrat':\n",
    "        naz= naz.replace('Montserrat', 'España')\n",
    "    if naz == 'Canterbury':\n",
    "        naz= naz.replace('Canterbury', 'United Kingdom')\n",
    "    if naz == 'Staten Island':\n",
    "        naz= naz.replace('Staten Island', 'United States')\n",
    "    if naz == 'Epsom':\n",
    "        naz= naz.replace('Epsom', 'United Kingdom')\n",
    "    if naz == 'Plymouth':\n",
    "        naz= naz.replace('Plymouth', 'United Kingdom')\n",
    "    if naz == 'Wimbledon':\n",
    "        naz= naz.replace('Wimbledon', 'United Kingdom')\n",
    "    if naz == 'Edinburgh':\n",
    "        naz= naz.replace('Edinburgh', 'United Kingdom')\n",
    "    if naz == 'Beckington':\n",
    "        naz= naz.replace('Beckington', 'United Kingdom')\n",
    "    if naz == 'Hertfordshire':\n",
    "        naz= naz.replace('Hertfordshire', 'United Kingdom')\n",
    "    if naz == 'Isle of Man':\n",
    "        naz= naz.replace('Isle of Man', 'United Kingdom')\n",
    "    if naz == 'Bristol':\n",
    "        naz= naz.replace('Bristol', 'United Kingdom')\n",
    "    if naz == 'Liverpool':\n",
    "        naz= naz.replace('Liverpool', 'United Kingdom')\n",
    "    if naz == 'Braintree':\n",
    "        naz= naz.replace('Braintree', 'United Kingdom')\n",
    "    if naz == 'Stoke on Trent':\n",
    "        naz= naz.replace('Stoke on Trent', 'United Kingdom')\n",
    "    if naz == 'Rochdale':\n",
    "        naz= naz.replace('Rochdale', 'United Kingdom')\n",
    "    if 'D.C.' in naz:\n",
    "        naz= naz.replace('D.C.', 'Colombia')\n",
    "    if 'Otok' in naz:\n",
    "        naz= naz.replace('Otok', 'Hrvatska')\n",
    "    if 'Département de la' in naz:\n",
    "        naz= naz.replace('Département de la', 'France')\n",
    "    if naz == 'Niederschlesien':\n",
    "        naz= naz.replace('Niederschlesien', 'Polska')\n",
    "    if naz == 'Perth':\n",
    "        naz= naz.replace('Perth', 'Australia')\n",
    "    if naz == 'Bermondsey':\n",
    "        naz= naz.replace('Bermondsey', 'United Kingdom')\n",
    "    if naz == 'Egremont':\n",
    "        naz= naz.replace('Egremont', 'United Kingdom')\n",
    "    if naz == 'Charlotte Amalie':\n",
    "        naz= naz.replace('Charlotte Amalie', 'United States')\n",
    "    if naz == 'Charlieu':\n",
    "        naz= naz.replace('Charlieu', 'France')\n",
    "    if naz == 'Stockholm':\n",
    "        naz= naz.replace('Stockholm', 'Sverige')\n",
    "    if naz == 'Auteuil':\n",
    "        naz= naz.replace('Auteuil', 'France')\n",
    "\n",
    "    if 'Polska' in naz:\n",
    "        naz = naz.replace('Polska', 'Poland')\n",
    "    if \"Yisra'el\" in naz:\n",
    "        naz = naz.replace(\"Yisra'el\", 'Israel')\n",
    "    if 'Deutschland' in naz:\n",
    "        naz = naz.replace('Deutschland', 'Germany')\n",
    "    if 'Schweiz' in naz:\n",
    "        naz = naz.replace('Schweiz', 'Switzerland')\n",
    "    if 'Suomi' in naz:\n",
    "        naz = naz.replace('Suomi', 'Finland')\n",
    "    if 'Zhonghua' in naz:\n",
    "        naz = naz.replace('Zhonghua', 'China')\n",
    "    if 'Türkiye' in naz:\n",
    "        naz = naz.replace('Türkiye', 'Turkey')\n",
    "    if 'Al-‘Iraq' in naz:\n",
    "        naz = naz.replace('Al-‘Iraq', 'Iraq')\n",
    "    if 'België' in naz:\n",
    "        naz = naz.replace('België', 'Belgium')\n",
    "    if 'Rossiya' in naz:\n",
    "        naz = naz.replace('Rossiya', 'Russia')\n",
    "    if 'Nihon' in naz:\n",
    "        naz = naz.replace('Nihon', 'Japan')\n",
    "    if 'Éire' in naz:\n",
    "        naz = naz.replace('Éire', 'Ireland')\n",
    "    if 'Österreich' in naz:\n",
    "        naz = naz.replace('Österreich', 'Austria')\n",
    "    if 'Saint Hélier' in naz:\n",
    "        naz = naz.replace('Saint Hélier', 'United Kingdom')\n",
    "    if 'Ceská Republik' in naz:\n",
    "        naz = naz.replace('Ceská Republik', 'Czech Republic')\n",
    "    if 'Ukrayina' in naz:\n",
    "        naz = naz.replace('Ukrayina', 'Ukraine')\n",
    "    if 'Ellás' in naz:\n",
    "        naz = naz.replace('Ellás', 'Greece')\n",
    "    if 'Latvija ' in naz:\n",
    "        naz = naz.replace('Latvija ', 'Latvia')\n",
    "    if 'Douglas' in naz:\n",
    "        naz = naz.replace('Douglas', 'United Kingdom')\n",
    "    if 'România' in naz:\n",
    "        naz = naz.replace('România', 'Romania')\n",
    "    if 'Sverige' in naz:\n",
    "        naz = naz.replace('Sverige', 'Sweden')\n",
    "    if 'Bharat' in naz:\n",
    "        naz = naz.replace('Bharat', 'India')    \n",
    "    if 'España' in naz:\n",
    "        naz = naz.replace('España', 'Spain')  \n",
    "    if 'Magyarország' in naz:\n",
    "        naz = naz.replace('Magyarország', 'Hungery') \n",
    "    if 'Slovenská Republika' in naz:\n",
    "        naz = naz.replace('Slovenská Republika', 'Slovenia') \n",
    "       \n",
    "    return naz.strip()   "
   ]
  },
  {
   "cell_type": "code",
   "execution_count": 31,
   "id": "da81f013",
   "metadata": {},
   "outputs": [],
   "source": [
    "TateArtists.rename(columns = {'id':'Id'}, inplace = True)\n",
    "TateNationalities = pd.merge(TateArtists,Tate[['Id', 'DateAcquired']],on='Id', how='left')\n",
    "TateNationalities = TateNationalities[TateNationalities['placeOfBirth'].notna()]\n",
    "TateNationalities = TateNationalities.drop_duplicates(subset='name', keep=\"first\")\n",
    "TateNationalities[\"placeOfBirth\"] = TateNationalities[\"placeOfBirth\"].apply(cleanNationalitiesTate)\n",
    "TateNationalities.fillna(value='0', inplace=True)\n",
    "TateNationalities[\"DateAcquired\"] = TateNationalities[\"DateAcquired\"].astype(str)\n",
    "TateNationalities[\"DateAcquired\"] = TateNationalities[\"DateAcquired\"].apply(cleanDates)\n",
    "TateNationalities.rename(columns = {'placeOfBirth':'Nationality'}, inplace = True)\n",
    "TateNationalities.to_csv(\"TateNationalities.csv\")"
   ]
  },
  {
   "cell_type": "code",
   "execution_count": 32,
   "id": "9eab92eb",
   "metadata": {},
   "outputs": [
    {
     "name": "stdout",
     "output_type": "stream",
     "text": [
      "defaultdict(<class 'dict'>, {'1970s': {'United Kingdom': 243, 'Switzerland': 4, 'Germany': 22, 'United States': 70, 'Belgium': 11, 'Italia': 11, 'Spain': 5, 'Nederland': 7, 'Canada': 16, 'France': 11, 'Austria': 6, 'South Africa': 4, 'New Zealand': 3, 'Australia': 9, 'Ireland': 5, 'India': 3, 'Venezuela': 1, 'Ukraine': 3, 'Hungery': 5, 'Greece': 1, 'Eesti': 1, 'Russia': 4, 'Romania': 3, 'Slovenia': 1, 'Belarus': 2, 'Armenia': 1, 'Poland': 6, 'Colombia': 2, 'Norge': 1, 'Czech Republica': 3, 'Myanmar': 1, 'Israel': 1, 'Brasil': 1, 'China': 4, 'Singapore': 1, 'Taiwan': 1, 'Chile': 1, 'Japan': 2, 'Sweden': 3, 'Sri Lanka': 1, 'México': 1, 'Misr': 2, 'Viet Nam': 1, 'Samoa': 1}, '1990s': {'Israel': 6, 'United Kingdom': 185, 'France': 16, 'Pakistan': 2, 'Poland': 5, 'United States': 22, 'Germany': 26, 'Italia': 8, 'Barbados': 1, 'Ireland': 7, 'Hungery': 1, 'Sweden': 2, 'Nederland': 3, 'Belgium': 4, 'South Africa': 1, 'Mehoz': 1, 'Al-Lubnan': 1, 'Tanzania': 1, 'Îran': 1, 'Austria': 2, 'Danmark': 1, 'Switzerland': 1, 'India': 1, \"Taehan Min'guk\": 1, 'Ísland': 1, 'Canada': 3, 'Japan': 4, 'Australia': 2, 'Jamaica': 1, 'Spain': 2, 'Brasil': 1, 'China': 1, 'Greece': 1, 'Guyana': 1}, '1980s': {'United States': 46, 'United Kingdom': 126, 'Japan': 1, 'Romania': 3, 'France': 20, 'Italia': 14, 'Germany': 23, 'Bosna i Hercegovina': 2, 'Slovenija': 6, 'Pakistan': 1, 'India': 3, 'Guyana': 1, 'Ireland': 7, 'Austria': 5, 'Switzerland': 8, 'Bulgaria': 1, 'Ukraine': 3, 'Nederland': 4, 'Jamaica': 1, 'Poland': 7, 'Canada': 2, 'Indonesia': 1, 'Belgium': 1, 'Danmark': 1, 'Czech Republica': 2, 'Russia': 2, 'Argentina': 1, 'Sweden': 2, 'Hungery': 2, 'Hrvatska': 2, 'Spain': 2, 'Jugoslavija': 1, 'China': 1, 'Misr': 1}, '1960s': {'United Kingdom': 84, 'Argentina': 1, 'Italia': 12, 'Malaysia': 1, 'Switzerland': 1, 'France': 17, 'Russia': 6, 'Ukraine': 4, 'Poland': 5, 'Germany': 14, 'Sweden': 2, 'Ireland': 3, 'United States': 33, 'South Africa': 4, 'Czech Republica': 3, 'Belgium': 7, 'Brasil': 1, 'Spain': 10, 'India': 3, 'Canada': 2, 'Pakistan': 2, 'Makedonija': 1, 'Romania': 3, 'Nederland': 3, 'Austria': 2, 'Tunis': 1, 'Australia': 1, 'New Zealand': 1, 'Hungery': 1, 'Hrvatska': 1, 'Venezuela': 1, 'Greece': 2, 'Japan': 1}, '1930s': {'United Kingdom': 152, 'Viet Nam': 1, 'Nederland': 4, 'France': 24, 'Russia': 7, 'United States': 4, 'Italia': 4, 'Australia': 2, 'Poland': 3, 'Ireland': 1, 'Spain': 2, 'Belgium': 2, 'Austria': 2, 'India': 4, 'Hrvatska': 2, 'New Zealand': 1, 'Romania': 1, 'Canada': 1, 'Germany': 2, 'Norge': 1, 'Misr': 1, 'Schlesien': 1, 'South Africa': 1}, '1950s': {'Poland': 5, 'Italia': 15, 'Switzerland': 4, 'United Kingdom': 60, 'Ukraine': 4, 'Germany': 9, \"Al-Jaza'ir\": 1, 'Ireland': 5, 'France': 15, 'Russia': 7, 'Schlesien': 1, 'Romania': 2, 'United States': 8, 'Greece': 3, 'Spain': 2, 'Australia': 2, 'Belgium': 3, 'Pakistan': 1, 'Argentina': 1, 'Austria': 3, 'Czech Republica': 1, 'Cuba': 1, 'Moldova': 1, 'Lietuva': 2, 'Sweden': 1, 'Canada': 1, 'México': 1, 'Latvija': 1, 'Belarus': 1, 'Portugal': 1, 'China': 1}, '1940s': {'United Kingdom': 76, 'Viet Nam': 1, 'Ireland': 3, 'France': 8, 'South Africa': 1, 'Nederland': 2, 'Portugal': 1, 'Belarus': 1, 'Austria': 3, 'India': 2, 'Germany': 3, 'Italia': 6, 'Spain': 2, 'China': 1, 'New Zealand': 1, 'United States': 3, 'Switzerland': 1, 'Latvija': 1, 'Poland': 1}})\n"
     ]
    }
   ],
   "source": [
    "from collections import defaultdict \n",
    "\n",
    "with open('TateNationalities.csv', mode='r', encoding='utf-8') as csvfile:\n",
    "    reader = csv.DictReader(csvfile)\n",
    "    nationalities = defaultdict(dict)\n",
    "    for item in reader:\n",
    "        if int(item['DateAcquired']) in range (1928,1941):\n",
    "            if item['Nationality'] not in nationalities['1930s']:\n",
    "                nationalities['1930s'][item['Nationality']] = 1\n",
    "            else:\n",
    "                nationalities['1930s'][item['Nationality']] += 1\n",
    "        if int(item['DateAcquired']) in range (1940,1951):\n",
    "            if item['Nationality'] not in nationalities['1940s']:\n",
    "                nationalities['1940s'][item['Nationality']] = 1\n",
    "            else:\n",
    "                nationalities['1940s'][item['Nationality']] += 1\n",
    "        if int(item['DateAcquired']) in range (1950,1961):\n",
    "            if item['Nationality'] not in nationalities['1950s']:\n",
    "                nationalities['1950s'][item['Nationality']] = 1\n",
    "            else:\n",
    "                nationalities['1950s'][item['Nationality']] += 1\n",
    "        if int(item['DateAcquired']) in range (1960,1971):\n",
    "            if item['Nationality'] not in nationalities['1960s']:\n",
    "                nationalities['1960s'][item['Nationality']] = 1\n",
    "            else:\n",
    "                nationalities['1960s'][item['Nationality']] += 1\n",
    "        if int(item['DateAcquired']) in range (1970,1981):\n",
    "            if item['Nationality'] not in nationalities['1970s']:\n",
    "                nationalities['1970s'][item['Nationality']] = 1\n",
    "            else:\n",
    "                nationalities['1970s'][item['Nationality']] += 1\n",
    "        if int(item['DateAcquired']) in range (1980,1991):\n",
    "            if item['Nationality'] not in nationalities['1980s']:\n",
    "                nationalities['1980s'][item['Nationality']] = 1\n",
    "            else:\n",
    "                nationalities['1980s'][item['Nationality']] += 1\n",
    "        if int(item['DateAcquired']) in range (1990,2001):\n",
    "            if item['Nationality'] not in nationalities['1990s']:\n",
    "                nationalities['1990s'][item['Nationality']] = 1\n",
    "            else:\n",
    "                nationalities['1990s'][item['Nationality']] += 1\n",
    "        \n",
    "                \n",
    "\n",
    "print(nationalities)"
   ]
  }
 ],
 "metadata": {
  "kernelspec": {
   "display_name": "Python 3 (ipykernel)",
   "language": "python",
   "name": "python3"
  },
  "language_info": {
   "codemirror_mode": {
    "name": "ipython",
    "version": 3
   },
   "file_extension": ".py",
   "mimetype": "text/x-python",
   "name": "python",
   "nbconvert_exporter": "python",
   "pygments_lexer": "ipython3",
   "version": "3.9.0"
  }
 },
 "nbformat": 4,
 "nbformat_minor": 5
}
