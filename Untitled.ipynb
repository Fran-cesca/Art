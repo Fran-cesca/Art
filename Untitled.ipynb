{
 "cells": [
  {
   "cell_type": "code",
   "execution_count": 1,
   "id": "e56599bf",
   "metadata": {},
   "outputs": [],
   "source": [
    "import pandas as pd\n",
    "import csv\n",
    "import re"
   ]
  },
  {
   "cell_type": "markdown",
   "id": "e62849f7",
   "metadata": {},
   "source": [
    "# MoMa"
   ]
  },
  {
   "cell_type": "code",
   "execution_count": 3,
   "id": "8ffccf4e",
   "metadata": {},
   "outputs": [],
   "source": [
    "spreadsheet = pd.read_csv('https://media.githubusercontent.com/media/MuseumofModernArt/collection/master/Artworks.csv')\n",
    "pd.set_option('display.max_columns', None)\n",
    "MoMaArtworks = spreadsheet[['Title', 'Artist', 'ConstituentID', 'Nationality', 'BeginDate', 'EndDate', 'Gender', 'Date', 'Medium', 'CreditLine', 'Classification', 'Department', 'DateAcquired', 'URL']]\n",
    "MoMaArtists = pd.read_csv('https://media.githubusercontent.com/media/MuseumofModernArt/collection/master/Artists.csv')\n",
    "MoMaArtists[\"ConstituentID\"] = MoMaArtists[\"ConstituentID\"].astype(str)\n",
    "MoMa = pd.merge(MoMaArtworks,MoMaArtists[['ConstituentID', 'Wiki QID']],on='ConstituentID', how='left')\n",
    "MoMa.rename(columns = {'ConstituentID':'Id', 'BeginDate':'BirthDate', 'EndDate':'DeathDate'}, inplace = True)"
   ]
  },
  {
   "cell_type": "markdown",
   "id": "ad3eb34e",
   "metadata": {},
   "source": [
    "# Tate"
   ]
  },
  {
   "cell_type": "code",
   "execution_count": 79,
   "id": "230e2005",
   "metadata": {},
   "outputs": [
    {
     "name": "stderr",
     "output_type": "stream",
     "text": [
      "C:\\Users\\Francesca\\AppData\\Roaming\\Python\\Python39\\site-packages\\IPython\\core\\interactiveshell.py:3172: DtypeWarning: Columns (9,13) have mixed types.Specify dtype option on import or set low_memory=False.\n",
      "  has_raised = await self.run_ast_nodes(code_ast.body, cell_name,\n",
      "C:\\Users\\Francesca\\AppData\\Roaming\\Python\\Python39\\site-packages\\pandas\\core\\frame.py:4438: SettingWithCopyWarning: \n",
      "A value is trying to be set on a copy of a slice from a DataFrame\n",
      "\n",
      "See the caveats in the documentation: https://pandas.pydata.org/pandas-docs/stable/user_guide/indexing.html#returning-a-view-versus-a-copy\n",
      "  return super().rename(\n",
      "C:\\Users\\Francesca\\AppData\\Roaming\\Python\\Python39\\site-packages\\pandas\\core\\generic.py:5489: SettingWithCopyWarning: \n",
      "A value is trying to be set on a copy of a slice from a DataFrame.\n",
      "Try using .loc[row_indexer,col_indexer] = value instead\n",
      "\n",
      "See the caveats in the documentation: https://pandas.pydata.org/pandas-docs/stable/user_guide/indexing.html#returning-a-view-versus-a-copy\n",
      "  self[name] = value\n"
     ]
    }
   ],
   "source": [
    "spreadsheet = pd.read_csv('https://raw.githubusercontent.com/tategallery/collection/master/artwork_data.csv')\n",
    "pd.set_option('display.max_columns', None)\n",
    "TateArtworks = spreadsheet[['artist', 'artistId', 'title', 'medium', 'creditLine', 'year', 'acquisitionYear', 'url']]\n",
    "TateArtworks.rename(columns = {'artistId':'id'}, inplace = True)\n",
    "TateArtworks.id = TateArtworks.id.astype(str)\n",
    "TateArtists = pd.read_csv('https://raw.githubusercontent.com/tategallery/collection/master/artist_data.csv')\n",
    "TateArtists[\"id\"] = TateArtists[\"id\"].astype(str)\n",
    "Tate = pd.merge(TateArtworks,TateArtists[['id', 'gender', 'yearOfBirth', 'yearOfDeath']], on='id', how='left')\n",
    "Tate.rename(columns = {'artist':'Artist', 'id':'Id', 'title':'Title', 'yearOfBirth':'BirthDate', 'yearOfDeath':'DeathDate', 'medium':'Medium', 'creditLine':'CreditLine', 'year':'Date', 'acquisitionYear':'DateAcquired', 'url':'URL', 'gender':'Gender'}, inplace = True)"
   ]
  },
  {
   "cell_type": "markdown",
   "id": "4cbe6cdc",
   "metadata": {},
   "source": [
    "# Cleaning up"
   ]
  },
  {
   "cell_type": "markdown",
   "id": "685674f7",
   "metadata": {},
   "source": [
    "## MoMa"
   ]
  },
  {
   "cell_type": "markdown",
   "id": "312320f0",
   "metadata": {},
   "source": [
    "Let's get rid of nan values:"
   ]
  },
  {
   "cell_type": "code",
   "execution_count": 5,
   "id": "77df53c2",
   "metadata": {},
   "outputs": [],
   "source": [
    "MoMa.fillna(value='0', inplace=True)"
   ]
  },
  {
   "cell_type": "markdown",
   "id": "0ee439d9",
   "metadata": {},
   "source": [
    "Clean MoMa Acquisition Dates: they are on the form YYYY-MM-DD. We just want the YYYY as an int."
   ]
  },
  {
   "cell_type": "code",
   "execution_count": 6,
   "id": "ff21ea5e",
   "metadata": {},
   "outputs": [],
   "source": [
    "def cleanAcquisitionDatesMoMa(date):\n",
    "    if '-' in date:\n",
    "        date = date.split('-')[0]\n",
    "    return date"
   ]
  },
  {
   "cell_type": "code",
   "execution_count": 7,
   "id": "8bd34e79",
   "metadata": {},
   "outputs": [],
   "source": [
    "MoMa[\"DateAcquired\"] = MoMa[\"DateAcquired\"].apply(cleanAcquisitionDatesMoMa)"
   ]
  },
  {
   "cell_type": "markdown",
   "id": "6ddc69ef",
   "metadata": {},
   "source": [
    "Clean MoMa Artworks' Dates. <br>\n",
    "Indeed, they are in some unclear forms, such as:<br>\n",
    "(1950).  (Prints executed 1948<br>\n",
    "(1883, published 1897)<br>\n",
    "(1911, dated 1912, published c. 1917)<br>\n",
    "(April 9 and August 31, 1971)<br>\n",
    "(April 23) 1968<br>\n",
    "(journals published October 2003 through June 2004)<br>\n",
    "\n",
    "We just need the year."
   ]
  },
  {
   "cell_type": "code",
   "execution_count": 8,
   "id": "1f37e6b6",
   "metadata": {},
   "outputs": [],
   "source": [
    "def cleanDatesMoMa(date):\n",
    "    if '-' in date:\n",
    "        splitted = date.split('-')\n",
    "        date = ' '.join(splitted) \n",
    "    if '/' in date:\n",
    "        splitted = date.split('/')\n",
    "        date = ' '.join(splitted) \n",
    "    if ',' in date:\n",
    "        splitted = date.split(',')\n",
    "        date = ' '.join(splitted) \n",
    "    if '.' in date:\n",
    "        splitted = date.split('.')\n",
    "        date = ' '.join(splitted) \n",
    "        \n",
    "    x = re.search(\"\\d{4}\", date)\n",
    "    if x:\n",
    "        date = x.group()\n",
    "    else:\n",
    "        date = '0'\n",
    "    return date"
   ]
  },
  {
   "cell_type": "code",
   "execution_count": 9,
   "id": "55f3fb59",
   "metadata": {},
   "outputs": [],
   "source": [
    "MoMa[\"Date\"] = MoMa[\"Date\"].astype(str)\n",
    "MoMa[\"Date\"] = MoMa[\"Date\"].apply(cleanDatesMoMa)"
   ]
  },
  {
   "cell_type": "markdown",
   "id": "8d1529e9",
   "metadata": {},
   "source": [
    "## Tate"
   ]
  },
  {
   "cell_type": "markdown",
   "id": "f95b0188",
   "metadata": {},
   "source": [
    "Let's get rid of nan values and strings:"
   ]
  },
  {
   "cell_type": "code",
   "execution_count": 15,
   "id": "9be04376",
   "metadata": {},
   "outputs": [],
   "source": [
    "Tate.fillna(value='0', inplace=True)\n",
    "Tate['Date'].replace(to_replace='no date', value='0', inplace= True)\n",
    "Tate['Date'].replace(to_replace='c', value='0', inplace= True)"
   ]
  },
  {
   "cell_type": "markdown",
   "id": "3689e848",
   "metadata": {},
   "source": [
    "Clean Tate Acquisition and Artworks' Dates: they are on the form YYYY.0. We want an integer."
   ]
  },
  {
   "cell_type": "code",
   "execution_count": 11,
   "id": "2fd94497",
   "metadata": {},
   "outputs": [],
   "source": [
    "def cleanDatesTate(date):\n",
    "    if '.' in date:\n",
    "        date = date.split('.')[0] \n",
    "    return date"
   ]
  },
  {
   "cell_type": "code",
   "execution_count": 12,
   "id": "c851a9b4",
   "metadata": {},
   "outputs": [],
   "source": [
    "Tate[\"Date\"] = Tate[\"Date\"].astype(str)\n",
    "Tate[\"Date\"] = Tate[\"Date\"].apply(cleanDatesTate)\n",
    "\n",
    "Tate[\"DateAcquired\"] = Tate[\"DateAcquired\"].astype(str)\n",
    "Tate[\"DateAcquired\"] = Tate[\"DateAcquired\"].apply(cleanDatesTate)\n"
   ]
  },
  {
   "cell_type": "markdown",
   "id": "8443940f",
   "metadata": {},
   "source": [
    "# Exploration"
   ]
  },
  {
   "cell_type": "markdown",
   "id": "7aba335c",
   "metadata": {},
   "source": [
    "## How many artworks?"
   ]
  },
  {
   "cell_type": "code",
   "execution_count": 13,
   "id": "6c40b58b",
   "metadata": {},
   "outputs": [
    {
     "name": "stdout",
     "output_type": "stream",
     "text": [
      "Total artworks at Moma : 140848\n",
      "Total artworks at Tate : 69201\n"
     ]
    }
   ],
   "source": [
    "museums=[MoMa, Tate]\n",
    "names = ['Moma','Tate']\n",
    "for museum in museums:\n",
    "    selected_rows = museum[~museum['Title'].isnull()]\n",
    "    name = names.pop(0)\n",
    "    print(\"Total artworks at\", name, \":\", len(selected_rows.index))"
   ]
  },
  {
   "cell_type": "markdown",
   "id": "1573723f",
   "metadata": {},
   "source": [
    "## When do artworks date back?"
   ]
  },
  {
   "cell_type": "code",
   "execution_count": 16,
   "id": "5a78244a",
   "metadata": {},
   "outputs": [
    {
     "name": "stdout",
     "output_type": "stream",
     "text": [
      "Most ancient artwork at Moma dates back to 1768\n",
      "Most receny artwork at Moma dates back to 2022\n",
      "Most ancient artwork at Tate dates back to 1545\n",
      "Most receny artwork at Tate dates back to 2012\n"
     ]
    }
   ],
   "source": [
    "museums=[MoMa, Tate]\n",
    "names = ['Moma','Tate']\n",
    "for museum in museums:\n",
    "    museum[\"Date\"] = museum[\"Date\"].astype(int)\n",
    "    museum.sort_values(by=['Date'], inplace=True)\n",
    "    museumWithoutZeros = museum[museum['Date'] != 0]\n",
    "    firstDate = museumWithoutZeros['Date'].iat[0]\n",
    "    lastDate = museumWithoutZeros['Date'].iat[-1]\n",
    "    name = names.pop(0)\n",
    "    print(\"Most ancient artwork at\", name, \"dates back to\",firstDate )\n",
    "    print(\"Most receny artwork at\", name, \"dates back to\",lastDate )    "
   ]
  },
  {
   "cell_type": "markdown",
   "id": "a0cc424a",
   "metadata": {},
   "source": [
    "## When were artworks acquired?"
   ]
  },
  {
   "cell_type": "code",
   "execution_count": 17,
   "id": "e0bd93f1",
   "metadata": {},
   "outputs": [
    {
     "name": "stdout",
     "output_type": "stream",
     "text": [
      "Most ancient artwork at Moma dates back to 1929\n",
      "Most receny artwork at Moma dates back to 2022\n",
      "Most ancient artwork at Tate dates back to 1823\n",
      "Most receny artwork at Tate dates back to 2012\n"
     ]
    }
   ],
   "source": [
    "museums=[MoMa, Tate]\n",
    "names = ['Moma','Tate']\n",
    "for museum in museums:\n",
    "    museum[\"DateAcquired\"] = museum[\"DateAcquired\"].astype(int)\n",
    "    museum.sort_values(by=['DateAcquired'], inplace=True)\n",
    "    museumWithoutZeros = museum[museum['DateAcquired'] != 0]\n",
    "    firstDate = museumWithoutZeros['DateAcquired'].iat[0]\n",
    "    lastDate = museumWithoutZeros['Date'].iat[-1]\n",
    "    name = names.pop(0)\n",
    "    print(\"Most ancient artwork at\", name, \"dates back to\",firstDate )\n",
    "    print(\"Most receny artwork at\", name, \"dates back to\",lastDate )    "
   ]
  },
  {
   "cell_type": "markdown",
   "id": "b13405e8",
   "metadata": {},
   "source": [
    "## Artists"
   ]
  },
  {
   "cell_type": "markdown",
   "id": "b65736d4",
   "metadata": {},
   "source": [
    "For examining artist-related issues, we will rely on the specific csvs from the museums, whoch we already transformed into dataframes."
   ]
  },
  {
   "cell_type": "markdown",
   "id": "b137c7b0",
   "metadata": {},
   "source": [
    "### How many artists?"
   ]
  },
  {
   "cell_type": "markdown",
   "id": "f54a29d9",
   "metadata": {},
   "source": [
    "print('Total number of artists at MoMa', len(MoMaArtists))"
   ]
  },
  {
   "cell_type": "code",
   "execution_count": 18,
   "id": "f9331981",
   "metadata": {},
   "outputs": [
    {
     "name": "stdout",
     "output_type": "stream",
     "text": [
      "Total number of artists at Tate 3532\n"
     ]
    }
   ],
   "source": [
    "print('Total number of artists at Tate', len(TateArtists))"
   ]
  },
  {
   "cell_type": "markdown",
   "id": "13cba1c1",
   "metadata": {},
   "source": [
    "### What is the most represented gender?"
   ]
  },
  {
   "cell_type": "code",
   "execution_count": 19,
   "id": "75a127ae",
   "metadata": {},
   "outputs": [
    {
     "data": {
      "text/plain": [
       "Male      2895\n",
       "Female     521\n",
       "Name: gender, dtype: int64"
      ]
     },
     "execution_count": 19,
     "metadata": {},
     "output_type": "execute_result"
    }
   ],
   "source": [
    "TateArtists['gender'].value_counts()"
   ]
  },
  {
   "cell_type": "code",
   "execution_count": 20,
   "id": "a6baffe0",
   "metadata": {},
   "outputs": [
    {
     "data": {
      "text/plain": [
       "Male          9715\n",
       "Female        2342\n",
       "male            17\n",
       "Non-Binary       2\n",
       "female           1\n",
       "Non-binary       1\n",
       "Name: Gender, dtype: int64"
      ]
     },
     "execution_count": 20,
     "metadata": {},
     "output_type": "execute_result"
    }
   ],
   "source": [
    "MoMaArtists['Gender'].value_counts()"
   ]
  },
  {
   "cell_type": "markdown",
   "id": "fa1248eb",
   "metadata": {},
   "source": [
    "### What are the most represented nationalities?"
   ]
  },
  {
   "cell_type": "markdown",
   "id": "2b08956e",
   "metadata": {},
   "source": [
    "### Tate"
   ]
  },
  {
   "cell_type": "markdown",
   "id": "6c14ec01",
   "metadata": {},
   "source": [
    "Since artists' names are in the form 'Surname, Name', we use a function to normalise that as 'Name Surname'."
   ]
  },
  {
   "cell_type": "code",
   "execution_count": null,
   "id": "7096addc",
   "metadata": {},
   "outputs": [],
   "source": [
    "import pandas as pd\n",
    "import numpy as np\n",
    "import re\n",
    "from datetime import datetime\n",
    "from collections import defaultdict\n",
    "from json import JSONDecodeError\n",
    "from qwikidata.sparql import return_sparql_query_results # python library for working with sparql and linked data from WikiData\n",
    "import time\n",
    "from requests.exceptions import ChunkedEncodingError\n",
    "import math\n",
    "#from SPARQLWrapper import SPARQLWrapper, JSON # sparql query library\n",
    "import ssl"
   ]
  },
  {
   "cell_type": "code",
   "execution_count": 81,
   "id": "2e2466d1",
   "metadata": {},
   "outputs": [],
   "source": [
    "ReducedArtists = TateArtists[TateArtists['gender'].isna()]\n",
    "ReducedArtists = ReducedArtists[ReducedArtists['name'] != 'Anonymous']\n",
    "ReducedArtists = ReducedArtists[ReducedArtists['name'] != 'Art & Language (Michael Baldwin, born 1945; Mel Ramsden, born 1944)']\n",
    "ReducedArtists = ReducedArtists[ReducedArtists['name'] != 'Art & Language (Terry Atkinson, born 1939; David Bainbridge, born 1941; Michael Baldwin, born 1945; Harold Hurrell, born']\n",
    "ReducedArtists = ReducedArtists[ReducedArtists['name'] != 'Art & Language (Terry Atkinson, born 1939; Michael Baldwin, born 1945)']\n",
    "ReducedArtists = ReducedArtists[ReducedArtists['name'] != 'Atlas Group']\n",
    "ReducedArtists = ReducedArtists[ReducedArtists['name'] != 'Becher, Prof. Bernd']\n",
    "ReducedArtists = ReducedArtists[ReducedArtists['name'] != 'Black Audio Film Collective (John Akomfrah; Reece Auguis; Edward George; Lina Gopaul; Avril Johnson; David Lawson; Trevo']\n",
    "ReducedArtists = ReducedArtists[ReducedArtists['name'] != 'Booth, L']\n",
    "ReducedArtists = ReducedArtists[ReducedArtists['name'] != 'Boyd and Evans, Fionnuala and Leslie']\n",
    "ReducedArtists = ReducedArtists[ReducedArtists['name'] != 'British (?) School']\n",
    "ReducedArtists = ReducedArtists[ReducedArtists['name'] != 'British (?) School 19th century']\n",
    "ReducedArtists = ReducedArtists[ReducedArtists['name'] != 'British School 17th century']\n",
    "ReducedArtists = ReducedArtists[ReducedArtists['name'] != 'British School 16th century']\n",
    "ReducedArtists = ReducedArtists[ReducedArtists['name'] != 'British School 17th or 18th century']\n",
    "ReducedArtists = ReducedArtists[ReducedArtists['name'] != 'British School 18th century']\n",
    "ReducedArtists = ReducedArtists[ReducedArtists['name'] != 'British School 19th century']\n",
    "ReducedArtists = ReducedArtists[ReducedArtists['name'] != 'British School 20th century']\n",
    "ReducedArtists = ReducedArtists[ReducedArtists['name'] != 'Chinese School 18th century']\n",
    "ReducedArtists = ReducedArtists[ReducedArtists['name'] != 'French School 18th century']\n",
    "ReducedArtists = ReducedArtists[ReducedArtists['name'] != 'French School 19th century']\n",
    "ReducedArtists = ReducedArtists[ReducedArtists['name'] != 'Gent, G.W.']\n",
    "ReducedArtists = ReducedArtists[ReducedArtists['name'] != 'Glik, M.']\n",
    "ReducedArtists = ReducedArtists[ReducedArtists['name'] != 'International Local (Sarah Charlesworth; Joseph Kosuth; Anthony McCall)']\n",
    "ReducedArtists = ReducedArtists[ReducedArtists['name'] != 'Italian or German (?) School 17th century']\n",
    "ReducedArtists = ReducedArtists[ReducedArtists['name'] != 'Langlands and Bell, Ben and Nikki']\n",
    "ReducedArtists = ReducedArtists[ReducedArtists['name'] != 'Italian or German (?) School 17th century']\n",
    "ReducedArtists = ReducedArtists[ReducedArtists['name'] != 'Langlands and Bell, Ben and Nikki']\n",
    "ReducedArtists = ReducedArtists[ReducedArtists['name'] != 'Lucy and Eegyudluk']\n",
    "ReducedArtists = ReducedArtists[ReducedArtists['name'] != 'M/M (Paris, France)']\n",
    "ReducedArtists = ReducedArtists[ReducedArtists['name'] != 'Moore, T.']\n",
    "ReducedArtists = ReducedArtists[ReducedArtists['name'] != 'Skeaf, D.']\n",
    "ReducedArtists = ReducedArtists[ReducedArtists['name'] != 'T R Uthco (Doug Hall born 1944, Diane Andrews Hall born 1945, Jody Procter 1944-1998)']\n",
    "ReducedArtists = ReducedArtists[ReducedArtists['name'] != 'Art & Language (Ian Burn, 1939-1993; Mel Ramsden, born 1944)']\n",
    "ReducedArtists = ReducedArtists[ReducedArtists['name'] != 'Thomson, W.']\n",
    "ReducedArtists = ReducedArtists[ReducedArtists['name'] != 'Turton, M.']\n",
    "ReducedArtists = ReducedArtists[ReducedArtists['name'] != 'Unknown']\n",
    "ReducedArtists = ReducedArtists[ReducedArtists['name'] != 'Young-Hae Chang Heavy Industries (Young-Hae Chang, Marc Voge)']"
   ]
  },
  {
   "cell_type": "code",
   "execution_count": null,
   "id": "ee1dce0b",
   "metadata": {},
   "outputs": [],
   "source": [
    "def cleanArtistsNames(name):\n",
    "    if ',' in name:\n",
    "        name= name.split(',')\n",
    "        name[0], name[1] = name[1], name[0]\n",
    "        name = ' '.join(name)\n",
    "    return name"
   ]
  },
  {
   "cell_type": "code",
   "execution_count": 87,
   "id": "0c54d999",
   "metadata": {},
   "outputs": [
    {
     "data": {
      "text/html": [
       "<div>\n",
       "<style scoped>\n",
       "    .dataframe tbody tr th:only-of-type {\n",
       "        vertical-align: middle;\n",
       "    }\n",
       "\n",
       "    .dataframe tbody tr th {\n",
       "        vertical-align: top;\n",
       "    }\n",
       "\n",
       "    .dataframe thead th {\n",
       "        text-align: right;\n",
       "    }\n",
       "</style>\n",
       "<table border=\"1\" class=\"dataframe\">\n",
       "  <thead>\n",
       "    <tr style=\"text-align: right;\">\n",
       "      <th></th>\n",
       "      <th>id</th>\n",
       "      <th>name</th>\n",
       "      <th>gender</th>\n",
       "      <th>dates</th>\n",
       "      <th>yearOfBirth</th>\n",
       "      <th>yearOfDeath</th>\n",
       "      <th>placeOfBirth</th>\n",
       "      <th>placeOfDeath</th>\n",
       "      <th>url</th>\n",
       "    </tr>\n",
       "  </thead>\n",
       "  <tbody>\n",
       "    <tr>\n",
       "      <th>84</th>\n",
       "      <td>657</td>\n",
       "      <td>Shusaku Arakawa</td>\n",
       "      <td>NaN</td>\n",
       "      <td>1936–2010</td>\n",
       "      <td>1936.0</td>\n",
       "      <td>2010.0</td>\n",
       "      <td>Nagoya, Nihon</td>\n",
       "      <td>New York, United States</td>\n",
       "      <td>http://www.tate.org.uk/art/artists/shusaku-ara...</td>\n",
       "    </tr>\n",
       "    <tr>\n",
       "      <th>142</th>\n",
       "      <td>18070</td>\n",
       "      <td>John Bacon</td>\n",
       "      <td>NaN</td>\n",
       "      <td>1740–1799</td>\n",
       "      <td>1740.0</td>\n",
       "      <td>1799.0</td>\n",
       "      <td>NaN</td>\n",
       "      <td>NaN</td>\n",
       "      <td>http://www.tate.org.uk/art/artists/john-bacon-...</td>\n",
       "    </tr>\n",
       "    <tr>\n",
       "      <th>145</th>\n",
       "      <td>12918</td>\n",
       "      <td>Ruth Baehnisch</td>\n",
       "      <td>NaN</td>\n",
       "      <td>1910–1997</td>\n",
       "      <td>1910.0</td>\n",
       "      <td>1997.0</td>\n",
       "      <td>NaN</td>\n",
       "      <td>NaN</td>\n",
       "      <td>http://www.tate.org.uk/art/artists/ruth-baehni...</td>\n",
       "    </tr>\n",
       "    <tr>\n",
       "      <th>242</th>\n",
       "      <td>2618</td>\n",
       "      <td>A. Belloguet</td>\n",
       "      <td>NaN</td>\n",
       "      <td>19th century</td>\n",
       "      <td>1800.0</td>\n",
       "      <td>1899.0</td>\n",
       "      <td>NaN</td>\n",
       "      <td>NaN</td>\n",
       "      <td>http://www.tate.org.uk/art/artists/a-belloguet...</td>\n",
       "    </tr>\n",
       "    <tr>\n",
       "      <th>244</th>\n",
       "      <td>18264</td>\n",
       "      <td>Nikolaj Bendix Skyum Larsen</td>\n",
       "      <td>NaN</td>\n",
       "      <td>born 1971</td>\n",
       "      <td>1971.0</td>\n",
       "      <td>NaN</td>\n",
       "      <td>NaN</td>\n",
       "      <td>NaN</td>\n",
       "      <td>http://www.tate.org.uk/art/artists/nikolaj-ben...</td>\n",
       "    </tr>\n",
       "    <tr>\n",
       "      <th>...</th>\n",
       "      <td>...</td>\n",
       "      <td>...</td>\n",
       "      <td>...</td>\n",
       "      <td>...</td>\n",
       "      <td>...</td>\n",
       "      <td>...</td>\n",
       "      <td>...</td>\n",
       "      <td>...</td>\n",
       "      <td>...</td>\n",
       "    </tr>\n",
       "    <tr>\n",
       "      <th>3317</th>\n",
       "      <td>11825</td>\n",
       "      <td>Imke Wagener</td>\n",
       "      <td>NaN</td>\n",
       "      <td>born 1971</td>\n",
       "      <td>1971.0</td>\n",
       "      <td>NaN</td>\n",
       "      <td>NaN</td>\n",
       "      <td>NaN</td>\n",
       "      <td>http://www.tate.org.uk/art/artists/imke-wagene...</td>\n",
       "    </tr>\n",
       "    <tr>\n",
       "      <th>3319</th>\n",
       "      <td>14825</td>\n",
       "      <td>Shelagh Wakely</td>\n",
       "      <td>NaN</td>\n",
       "      <td>1932–2011</td>\n",
       "      <td>1932.0</td>\n",
       "      <td>2011.0</td>\n",
       "      <td>NaN</td>\n",
       "      <td>NaN</td>\n",
       "      <td>http://www.tate.org.uk/art/artists/shelagh-wak...</td>\n",
       "    </tr>\n",
       "    <tr>\n",
       "      <th>3386</th>\n",
       "      <td>18071</td>\n",
       "      <td>Richard Westmacott</td>\n",
       "      <td>NaN</td>\n",
       "      <td>1775–1856</td>\n",
       "      <td>1775.0</td>\n",
       "      <td>1856.0</td>\n",
       "      <td>NaN</td>\n",
       "      <td>NaN</td>\n",
       "      <td>http://www.tate.org.uk/art/artists/richard-wes...</td>\n",
       "    </tr>\n",
       "    <tr>\n",
       "      <th>3495</th>\n",
       "      <td>11740</td>\n",
       "      <td>José Yalenti</td>\n",
       "      <td>NaN</td>\n",
       "      <td>1895–1967</td>\n",
       "      <td>1895.0</td>\n",
       "      <td>1967.0</td>\n",
       "      <td>NaN</td>\n",
       "      <td>NaN</td>\n",
       "      <td>http://www.tate.org.uk/art/artists/jose-yalent...</td>\n",
       "    </tr>\n",
       "    <tr>\n",
       "      <th>3522</th>\n",
       "      <td>13099</td>\n",
       "      <td>Jakub Julian Ziolkowski</td>\n",
       "      <td>NaN</td>\n",
       "      <td>born 1980</td>\n",
       "      <td>1980.0</td>\n",
       "      <td>NaN</td>\n",
       "      <td>NaN</td>\n",
       "      <td>NaN</td>\n",
       "      <td>http://www.tate.org.uk/art/artists/jakub-julia...</td>\n",
       "    </tr>\n",
       "  </tbody>\n",
       "</table>\n",
       "<p>81 rows × 9 columns</p>\n",
       "</div>"
      ],
      "text/plain": [
       "         id                          name gender         dates  yearOfBirth  \\\n",
       "84      657               Shusaku Arakawa    NaN     1936–2010       1936.0   \n",
       "142   18070                    John Bacon    NaN     1740–1799       1740.0   \n",
       "145   12918                Ruth Baehnisch    NaN     1910–1997       1910.0   \n",
       "242    2618                  A. Belloguet    NaN  19th century       1800.0   \n",
       "244   18264   Nikolaj Bendix Skyum Larsen    NaN     born 1971       1971.0   \n",
       "...     ...                           ...    ...           ...          ...   \n",
       "3317  11825                  Imke Wagener    NaN     born 1971       1971.0   \n",
       "3319  14825                Shelagh Wakely    NaN     1932–2011       1932.0   \n",
       "3386  18071            Richard Westmacott    NaN     1775–1856       1775.0   \n",
       "3495  11740                  José Yalenti    NaN     1895–1967       1895.0   \n",
       "3522  13099       Jakub Julian Ziolkowski    NaN     born 1980       1980.0   \n",
       "\n",
       "      yearOfDeath   placeOfBirth             placeOfDeath  \\\n",
       "84         2010.0  Nagoya, Nihon  New York, United States   \n",
       "142        1799.0            NaN                      NaN   \n",
       "145        1997.0            NaN                      NaN   \n",
       "242        1899.0            NaN                      NaN   \n",
       "244           NaN            NaN                      NaN   \n",
       "...           ...            ...                      ...   \n",
       "3317          NaN            NaN                      NaN   \n",
       "3319       2011.0            NaN                      NaN   \n",
       "3386       1856.0            NaN                      NaN   \n",
       "3495       1967.0            NaN                      NaN   \n",
       "3522          NaN            NaN                      NaN   \n",
       "\n",
       "                                                    url  \n",
       "84    http://www.tate.org.uk/art/artists/shusaku-ara...  \n",
       "142   http://www.tate.org.uk/art/artists/john-bacon-...  \n",
       "145   http://www.tate.org.uk/art/artists/ruth-baehni...  \n",
       "242   http://www.tate.org.uk/art/artists/a-belloguet...  \n",
       "244   http://www.tate.org.uk/art/artists/nikolaj-ben...  \n",
       "...                                                 ...  \n",
       "3317  http://www.tate.org.uk/art/artists/imke-wagene...  \n",
       "3319  http://www.tate.org.uk/art/artists/shelagh-wak...  \n",
       "3386  http://www.tate.org.uk/art/artists/richard-wes...  \n",
       "3495  http://www.tate.org.uk/art/artists/jose-yalent...  \n",
       "3522  http://www.tate.org.uk/art/artists/jakub-julia...  \n",
       "\n",
       "[81 rows x 9 columns]"
      ]
     },
     "metadata": {},
     "output_type": "display_data"
    }
   ],
   "source": [
    "ReducedArtists[\"name\"] = ReducedArtists[\"name\"].apply(cleanArtistsNames)\n",
    "display(ReducedArtists)"
   ]
  },
  {
   "cell_type": "code",
   "execution_count": 88,
   "id": "39cf1579",
   "metadata": {},
   "outputs": [],
   "source": [
    "artists_genders_from_ids = \"\"\"\n",
    "PREFIX rdfs: <http://www.w3.org/2000/01/rdf-schema#>\n",
    "SELECT DISTINCT ?artist\n",
    "WHERE {{\n",
    "    ?artist wdt:P31 wd:Q5 .\n",
    "    ?artist wdt:P106 ?occupation\n",
    "                  FILTER (?occupation IN (wd:Q1028181) )    \n",
    "    ?artist rdfs:label ?o\n",
    "                  FILTER ( str(?o) = \"{}\")  .\n",
    "}}\n",
    "\n",
    "\"\"\""
   ]
  },
  {
   "cell_type": "code",
   "execution_count": 89,
   "id": "b2eac00f",
   "metadata": {},
   "outputs": [],
   "source": [
    "def find_artists_genders_from_ids(name):\n",
    "    query = artists_genders_from_ids.format(name.strip())\n",
    "    print(query)\n",
    "    res = return_sparql_query_results(query_string=query)\n",
    "    try:\n",
    "        wdt_uri = res['results']['bindings'][0]['artist']['value']\n",
    "    except (IndexError, KeyError):\n",
    "        return \"\"\n",
    "    return wdt_uri.split(\"/\")[-1]"
   ]
  },
  {
   "cell_type": "code",
   "execution_count": 90,
   "id": "e9feeee9",
   "metadata": {
    "scrolled": true
   },
   "outputs": [
    {
     "name": "stdout",
     "output_type": "stream",
     "text": [
      "\n",
      "PREFIX rdfs: <http://www.w3.org/2000/01/rdf-schema#>\n",
      "SELECT DISTINCT ?artist\n",
      "WHERE {\n",
      "    ?artist wdt:P31 wd:Q5 .\n",
      "    ?artist wdt:P106 ?occupation\n",
      "                  FILTER (?occupation IN (wd:Q1028181) )    \n",
      "    ?artist rdfs:label ?o\n",
      "                  FILTER ( str(?o) = \"Shusaku Arakawa\")  .\n",
      "}\n",
      "\n",
      "\n"
     ]
    },
    {
     "ename": "NameError",
     "evalue": "name 'return_sparql_query_results' is not defined",
     "output_type": "error",
     "traceback": [
      "\u001b[1;31m---------------------------------------------------------------------------\u001b[0m",
      "\u001b[1;31mNameError\u001b[0m                                 Traceback (most recent call last)",
      "\u001b[1;32mC:\\Users\\FRANCE~1\\AppData\\Local\\Temp/ipykernel_2496/1758458595.py\u001b[0m in \u001b[0;36m<module>\u001b[1;34m\u001b[0m\n\u001b[1;32m----> 1\u001b[1;33m \u001b[0mReducedArtists\u001b[0m\u001b[1;33m[\u001b[0m\u001b[1;34m\"Artist Entity\"\u001b[0m\u001b[1;33m]\u001b[0m \u001b[1;33m=\u001b[0m \u001b[0mReducedArtists\u001b[0m\u001b[1;33m[\u001b[0m\u001b[1;34m\"name\"\u001b[0m\u001b[1;33m]\u001b[0m\u001b[1;33m.\u001b[0m\u001b[0mapply\u001b[0m\u001b[1;33m(\u001b[0m\u001b[0mfind_artists_genders_from_ids\u001b[0m\u001b[1;33m)\u001b[0m\u001b[1;33m\u001b[0m\u001b[1;33m\u001b[0m\u001b[0m\n\u001b[0m",
      "\u001b[1;32m~\\AppData\\Roaming\\Python\\Python39\\site-packages\\pandas\\core\\series.py\u001b[0m in \u001b[0;36mapply\u001b[1;34m(self, func, convert_dtype, args, **kwds)\u001b[0m\n\u001b[0;32m   4106\u001b[0m             \u001b[1;32melse\u001b[0m\u001b[1;33m:\u001b[0m\u001b[1;33m\u001b[0m\u001b[1;33m\u001b[0m\u001b[0m\n\u001b[0;32m   4107\u001b[0m                 \u001b[0mvalues\u001b[0m \u001b[1;33m=\u001b[0m \u001b[0mself\u001b[0m\u001b[1;33m.\u001b[0m\u001b[0mastype\u001b[0m\u001b[1;33m(\u001b[0m\u001b[0mobject\u001b[0m\u001b[1;33m)\u001b[0m\u001b[1;33m.\u001b[0m\u001b[0m_values\u001b[0m\u001b[1;33m\u001b[0m\u001b[1;33m\u001b[0m\u001b[0m\n\u001b[1;32m-> 4108\u001b[1;33m                 \u001b[0mmapped\u001b[0m \u001b[1;33m=\u001b[0m \u001b[0mlib\u001b[0m\u001b[1;33m.\u001b[0m\u001b[0mmap_infer\u001b[0m\u001b[1;33m(\u001b[0m\u001b[0mvalues\u001b[0m\u001b[1;33m,\u001b[0m \u001b[0mf\u001b[0m\u001b[1;33m,\u001b[0m \u001b[0mconvert\u001b[0m\u001b[1;33m=\u001b[0m\u001b[0mconvert_dtype\u001b[0m\u001b[1;33m)\u001b[0m\u001b[1;33m\u001b[0m\u001b[1;33m\u001b[0m\u001b[0m\n\u001b[0m\u001b[0;32m   4109\u001b[0m \u001b[1;33m\u001b[0m\u001b[0m\n\u001b[0;32m   4110\u001b[0m         \u001b[1;32mif\u001b[0m \u001b[0mlen\u001b[0m\u001b[1;33m(\u001b[0m\u001b[0mmapped\u001b[0m\u001b[1;33m)\u001b[0m \u001b[1;32mand\u001b[0m \u001b[0misinstance\u001b[0m\u001b[1;33m(\u001b[0m\u001b[0mmapped\u001b[0m\u001b[1;33m[\u001b[0m\u001b[1;36m0\u001b[0m\u001b[1;33m]\u001b[0m\u001b[1;33m,\u001b[0m \u001b[0mSeries\u001b[0m\u001b[1;33m)\u001b[0m\u001b[1;33m:\u001b[0m\u001b[1;33m\u001b[0m\u001b[1;33m\u001b[0m\u001b[0m\n",
      "\u001b[1;32mpandas\\_libs\\lib.pyx\u001b[0m in \u001b[0;36mpandas._libs.lib.map_infer\u001b[1;34m()\u001b[0m\n",
      "\u001b[1;32mC:\\Users\\FRANCE~1\\AppData\\Local\\Temp/ipykernel_2496/1536278878.py\u001b[0m in \u001b[0;36mfind_artists_genders_from_ids\u001b[1;34m(name)\u001b[0m\n\u001b[0;32m      2\u001b[0m     \u001b[0mquery\u001b[0m \u001b[1;33m=\u001b[0m \u001b[0martists_genders_from_ids\u001b[0m\u001b[1;33m.\u001b[0m\u001b[0mformat\u001b[0m\u001b[1;33m(\u001b[0m\u001b[0mname\u001b[0m\u001b[1;33m.\u001b[0m\u001b[0mstrip\u001b[0m\u001b[1;33m(\u001b[0m\u001b[1;33m)\u001b[0m\u001b[1;33m)\u001b[0m\u001b[1;33m\u001b[0m\u001b[1;33m\u001b[0m\u001b[0m\n\u001b[0;32m      3\u001b[0m     \u001b[0mprint\u001b[0m\u001b[1;33m(\u001b[0m\u001b[0mquery\u001b[0m\u001b[1;33m)\u001b[0m\u001b[1;33m\u001b[0m\u001b[1;33m\u001b[0m\u001b[0m\n\u001b[1;32m----> 4\u001b[1;33m     \u001b[0mres\u001b[0m \u001b[1;33m=\u001b[0m \u001b[0mreturn_sparql_query_results\u001b[0m\u001b[1;33m(\u001b[0m\u001b[0mquery_string\u001b[0m\u001b[1;33m=\u001b[0m\u001b[0mquery\u001b[0m\u001b[1;33m)\u001b[0m\u001b[1;33m\u001b[0m\u001b[1;33m\u001b[0m\u001b[0m\n\u001b[0m\u001b[0;32m      5\u001b[0m     \u001b[1;32mtry\u001b[0m\u001b[1;33m:\u001b[0m\u001b[1;33m\u001b[0m\u001b[1;33m\u001b[0m\u001b[0m\n\u001b[0;32m      6\u001b[0m         \u001b[0mwdt_uri\u001b[0m \u001b[1;33m=\u001b[0m \u001b[0mres\u001b[0m\u001b[1;33m[\u001b[0m\u001b[1;34m'results'\u001b[0m\u001b[1;33m]\u001b[0m\u001b[1;33m[\u001b[0m\u001b[1;34m'bindings'\u001b[0m\u001b[1;33m]\u001b[0m\u001b[1;33m[\u001b[0m\u001b[1;36m0\u001b[0m\u001b[1;33m]\u001b[0m\u001b[1;33m[\u001b[0m\u001b[1;34m'artist'\u001b[0m\u001b[1;33m]\u001b[0m\u001b[1;33m[\u001b[0m\u001b[1;34m'value'\u001b[0m\u001b[1;33m]\u001b[0m\u001b[1;33m\u001b[0m\u001b[1;33m\u001b[0m\u001b[0m\n",
      "\u001b[1;31mNameError\u001b[0m: name 'return_sparql_query_results' is not defined"
     ]
    }
   ],
   "source": [
    "ReducedArtists[\"Artist Entity\"] = ReducedArtists[\"name\"].apply(find_artists_genders_from_ids)"
   ]
  },
  {
   "cell_type": "code",
   "execution_count": null,
   "id": "c535cac9",
   "metadata": {},
   "outputs": [],
   "source": [
    "pd.set_option('display.max_rows', None)\n",
    "display(ReducedArtists)"
   ]
  },
  {
   "cell_type": "code",
   "execution_count": null,
   "id": "e8ed3ac9",
   "metadata": {},
   "outputs": [],
   "source": [
    "from rdflib import Namespace , Literal , URIRef\n",
    "from rdflib.namespace import RDF , RDFS\n",
    "from SPARQLWrapper import SPARQLWrapper, JSON\n",
    "import ssl\n",
    "import rdflib\n",
    "\n",
    "ssl._create_default_https_context = ssl._create_unverified_context\n",
    "\n",
    "# get the endpoint API\n",
    "wikidata_endpoint = \"https://query.wikidata.org/bigdata/namespace/wdq/sparql\"\n",
    "\n",
    "artistsNames = TateArtists[\"name\"].isna().values\n",
    "artistsSlot = artistsIds[:5]\n",
    "artists = \"leonardo\" #' '.join(artistsSlot) ['roberto giovanni luca']\n",
    "\n",
    "artists_genders_from_ids = \"\"\"\n",
    "SELECT DISTINCT ?artist\n",
    "\n",
    "WHERE {{\n",
    "    ?artist wdt:P31 wd:Q5 ;\n",
    "            wdt:P106 ?occupation\n",
    "                  FILTER (?occupation IN (wd:Q1281618) )   \n",
    "    ?artist rdfs:label ?o\n",
    "                  FILTER ( str(?o) = \"\"\"+artists+\"\"\").\n",
    "}}\n",
    "\n",
    "\"\"\"\n",
    "\n",
    "# set the endpoint \n",
    "sparql_wd = SPARQLWrapper(wikidata_endpoint)\n",
    "# set the query\n",
    "sparql_wd.setQuery(artists_genders_from_ids)\n",
    "# set the returned format\n",
    "sparql_wd.setReturnFormat(JSON)\n",
    "# get the results\n",
    "results = sparql_wd.query().convert()\n",
    "print(results)\n",
    "\n",
    "# manipulate the result\n",
    "for result in results[\"results\"][\"bindings\"]:\n",
    "    artists_id =  result[\"artist\"][\"value\"]\n",
    "    print(artists_id)"
   ]
  },
  {
   "cell_type": "code",
   "execution_count": null,
   "id": "4431fb24",
   "metadata": {},
   "outputs": [],
   "source": [
    "searchWiki(0, TateArtists)"
   ]
  },
  {
   "cell_type": "markdown",
   "id": "f4a6e53d",
   "metadata": {},
   "source": [
    "### MoMa"
   ]
  },
  {
   "cell_type": "code",
   "execution_count": 28,
   "id": "5519a5a0",
   "metadata": {},
   "outputs": [
    {
     "data": {
      "text/plain": [
       "American     5181\n",
       "German        965\n",
       "British       860\n",
       "French        847\n",
       "Italian       536\n",
       "             ... \n",
       "Catalan         1\n",
       "Sahrawi         1\n",
       "Cambodian       1\n",
       "Coptic          1\n",
       "Afghan          1\n",
       "Name: Nationality, Length: 119, dtype: int64"
      ]
     },
     "execution_count": 28,
     "metadata": {},
     "output_type": "execute_result"
    }
   ],
   "source": [
    "MoMaArtists['Nationality'].value_counts()"
   ]
  },
  {
   "cell_type": "markdown",
   "id": "e012c703",
   "metadata": {},
   "source": [
    "# Acquisition criteria."
   ]
  },
  {
   "cell_type": "markdown",
   "id": "61c01eac",
   "metadata": {},
   "source": [
    "1.  In which years are artists' works mostly acquired?"
   ]
  },
  {
   "cell_type": "markdown",
   "id": "0e91226b",
   "metadata": {},
   "source": [
    "## Year by year"
   ]
  },
  {
   "cell_type": "code",
   "execution_count": 29,
   "id": "644ee866",
   "metadata": {},
   "outputs": [
    {
     "data": {
      "text/plain": [
       "1964    12828\n",
       "2008     7204\n",
       "1968     6894\n",
       "0        6682\n",
       "2001     4170\n",
       "        ...  \n",
       "1933       93\n",
       "1932       18\n",
       "1929        9\n",
       "1930        7\n",
       "1931        3\n",
       "Name: DateAcquired, Length: 95, dtype: int64"
      ]
     },
     "execution_count": 29,
     "metadata": {},
     "output_type": "execute_result"
    }
   ],
   "source": [
    "MoMa['DateAcquired'].value_counts()"
   ]
  },
  {
   "cell_type": "code",
   "execution_count": 30,
   "id": "cdf8f026",
   "metadata": {},
   "outputs": [
    {
     "data": {
      "text/plain": [
       "1856    37893\n",
       "1997     3706\n",
       "1975     3046\n",
       "2009     1364\n",
       "1979     1166\n",
       "        ...  \n",
       "1873        1\n",
       "1843        1\n",
       "1863        1\n",
       "1842        1\n",
       "1855        1\n",
       "Name: DateAcquired, Length: 179, dtype: int64"
      ]
     },
     "execution_count": 30,
     "metadata": {},
     "output_type": "execute_result"
    }
   ],
   "source": [
    "Tate['DateAcquired'].value_counts()"
   ]
  },
  {
   "cell_type": "markdown",
   "id": "1fa7f2ee",
   "metadata": {},
   "source": [
    "Let us analyse acquisitions from a larger perspective: not year by year, but for every ten years."
   ]
  },
  {
   "cell_type": "code",
   "execution_count": 31,
   "id": "4301aaf4",
   "metadata": {},
   "outputs": [
    {
     "name": "stdout",
     "output_type": "stream",
     "text": [
      "Moma: {'1930s': 3318, '1940s': 8274, '1950s': 6846, '1960s': 31950, '1970s': 13868, '1980s': 11497, '1990s': 13332}\n"
     ]
    }
   ],
   "source": [
    "MoMa.to_csv('MoMa.csv')\n",
    "with open('MoMa.csv', mode='r', encoding='utf-8') as csvfile:\n",
    "    reader = csv.DictReader(csvfile)\n",
    "    years={}\n",
    "    for item in reader:\n",
    "        if item['DateAcquired']not in years:\n",
    "            years[item['DateAcquired']]= 1\n",
    "        else:\n",
    "            years[item['DateAcquired']]+= 1\n",
    "new_dict={}\n",
    "for key in years:\n",
    "    key_int=int(key)\n",
    "    if key_int in range(1928,1941):\n",
    "        if '1930s' not in new_dict.keys():\n",
    "               new_dict['1930s']= years[key]\n",
    "        else:\n",
    "            new_dict['1930s'] += years[key]\n",
    "    if key_int in range(1940,1951):\n",
    "        if '1940s' not in new_dict.keys():\n",
    "               new_dict['1940s']= years[key]\n",
    "        else:\n",
    "            new_dict['1940s'] += years[key]\n",
    "    \n",
    "    if key_int in range(1950,1961):\n",
    "        if '1950s' not in new_dict.keys():\n",
    "               new_dict['1950s']= years[key]\n",
    "        else:\n",
    "            new_dict['1950s'] += years[key]\n",
    "    \n",
    "    if key_int in range(1960,1971):\n",
    "        if '1960s' not in new_dict.keys():\n",
    "               new_dict['1960s']= years[key]\n",
    "        else:\n",
    "            new_dict['1960s'] += years[key]\n",
    "    \n",
    "    if key_int in range(1970,1981):\n",
    "        if '1970s' not in new_dict.keys():\n",
    "               new_dict['1970s']= years[key]\n",
    "        else:\n",
    "            new_dict['1970s'] += years[key]\n",
    "    if key_int in range(1980,1991):\n",
    "        if '1980s' not in new_dict.keys():\n",
    "               new_dict['1980s']= years[key]\n",
    "        else:\n",
    "            new_dict['1980s'] += years[key]\n",
    "    \n",
    "    if key_int in range(1990,2001):\n",
    "        if '1990s' not in new_dict.keys():\n",
    "               new_dict['1990s']= years[key]\n",
    "        else:\n",
    "            new_dict['1990s'] += years[key]\n",
    "        \n",
    "    \n",
    "print('Moma:', new_dict)\n",
    "    "
   ]
  },
  {
   "cell_type": "code",
   "execution_count": 32,
   "id": "ef43299d",
   "metadata": {},
   "outputs": [
    {
     "name": "stdout",
     "output_type": "stream",
     "text": [
      "Tate: {'1930s': 788, '1940s': 776, '1950s': 633, '1960s': 1048, '1970s': 6853, '1980s': 5538, '1990s': 6693}\n"
     ]
    }
   ],
   "source": [
    "Tate.to_csv('Tate.csv')\n",
    "with open('Tate.csv', mode='r', encoding='utf-8') as csvfile:\n",
    "    reader = csv.DictReader(csvfile)\n",
    "    years={}\n",
    "    for item in reader:\n",
    "        if item['DateAcquired']not in years:\n",
    "            years[item['DateAcquired']]= 1\n",
    "        else:\n",
    "            years[item['DateAcquired']]+= 1\n",
    "new_dict={}\n",
    "for key in years:\n",
    "    key_int=int(key)\n",
    "    if key_int in range(1928,1941):\n",
    "        if '1930s' not in new_dict.keys():\n",
    "               new_dict['1930s']= years[key]\n",
    "        else:\n",
    "            new_dict['1930s'] += years[key]\n",
    "    if key_int in range(1940,1951):\n",
    "        if '1940s' not in new_dict.keys():\n",
    "               new_dict['1940s']= years[key]\n",
    "        else:\n",
    "            new_dict['1940s'] += years[key]\n",
    "    \n",
    "    if key_int in range(1950,1961):\n",
    "        if '1950s' not in new_dict.keys():\n",
    "               new_dict['1950s']= years[key]\n",
    "        else:\n",
    "            new_dict['1950s'] += years[key]\n",
    "    \n",
    "    if key_int in range(1960,1971):\n",
    "        if '1960s' not in new_dict.keys():\n",
    "               new_dict['1960s']= years[key]\n",
    "        else:\n",
    "            new_dict['1960s'] += years[key]\n",
    "    \n",
    "    if key_int in range(1970,1981):\n",
    "        if '1970s' not in new_dict.keys():\n",
    "               new_dict['1970s']= years[key]\n",
    "        else:\n",
    "            new_dict['1970s'] += years[key]\n",
    "    if key_int in range(1980,1991):\n",
    "        if '1980s' not in new_dict.keys():\n",
    "               new_dict['1980s']= years[key]\n",
    "        else:\n",
    "            new_dict['1980s'] += years[key]\n",
    "    \n",
    "    if key_int in range(1990,2001):\n",
    "        if '1990s' not in new_dict.keys():\n",
    "               new_dict['1990s']= years[key]\n",
    "        else:\n",
    "            new_dict['1990s'] += years[key]\n",
    "        \n",
    "    \n",
    "print('Tate:', new_dict)\n",
    "    "
   ]
  },
  {
   "cell_type": "markdown",
   "id": "8790dea7",
   "metadata": {},
   "source": [
    "## Gender Gap <br>\n",
    "Does it decrease?\n",
    "When?"
   ]
  },
  {
   "cell_type": "code",
   "execution_count": 33,
   "id": "ce0ee799",
   "metadata": {},
   "outputs": [
    {
     "name": "stdout",
     "output_type": "stream",
     "text": [
      "{'1930s': {'Male': 3082, 'Female': 236}, '1940s': {'Male': 7707, 'Female': 567}, '1950s': {'Male': 6476, 'Female': 370}, '1960s': {'Male': 30701, 'Female': 1249}, '1970s': {'Male': 12245, 'Female': 1623}, '1980s': {'Male': 10230, 'Female': 1267}, '1990s': {'Male': 10522, 'Female': 2810}}\n"
     ]
    }
   ],
   "source": [
    "with open('MoMa.csv', mode='r', encoding='utf-8') as csvfile:\n",
    "    reader = csv.DictReader(csvfile)\n",
    "    gender={'1930s': {'Male': 0, 'Female': 0}, '1940s': {'Male': 0, 'Female': 0}, '1950s': {'Male': 0, 'Female': 0}, '1960s': {'Male': 0, 'Female': 0}, '1970s': {'Male': 0, 'Female': 0}, '1980s': {'Male': 0, 'Female': 0}, '1990s': {'Male': 0, 'Female': 0}}\n",
    "    for item in reader:\n",
    "        if int(item['DateAcquired']) in range (1928,1941):\n",
    "            if (item['Gender'] == '(Female)'): \n",
    "                gender['1930s']['Female'] += 1\n",
    "            else:\n",
    "                gender['1930s']['Male'] += 1\n",
    "        if int(item['DateAcquired']) in range (1940,1951):\n",
    "            if (item['Gender'] == '(Female)'): \n",
    "                gender['1940s']['Female'] += 1\n",
    "            else:\n",
    "                gender['1940s']['Male'] += 1\n",
    "        if int(item['DateAcquired']) in range (1950,1961):\n",
    "            if (item['Gender'] == '(Female)'): \n",
    "                gender['1950s']['Female'] += 1\n",
    "            else:\n",
    "                gender['1950s']['Male'] += 1\n",
    "        if int(item['DateAcquired']) in range (1960,1971):\n",
    "            if (item['Gender'] == '(Female)'): \n",
    "                gender['1960s']['Female'] += 1\n",
    "            else:\n",
    "                gender['1960s']['Male'] += 1\n",
    "        if int(item['DateAcquired']) in range (1970,1981):\n",
    "            if (item['Gender'] == '(Female)'): \n",
    "                gender['1970s']['Female'] += 1\n",
    "            else:\n",
    "                gender['1970s']['Male'] += 1\n",
    "        if int(item['DateAcquired']) in range (1980,1991):\n",
    "            if (item['Gender'] == '(Female)'): \n",
    "                gender['1980s']['Female'] += 1\n",
    "            else:\n",
    "                gender['1980s']['Male'] += 1\n",
    "        if int(item['DateAcquired']) in range (1990,2001):\n",
    "            if (item['Gender'] == '(Female)'): \n",
    "                gender['1990s']['Female'] += 1\n",
    "            else:\n",
    "                gender['1990s']['Male'] += 1\n",
    "    print(gender)"
   ]
  },
  {
   "cell_type": "markdown",
   "id": "811024b8",
   "metadata": {},
   "source": [
    "Percentage: Male / Male + Female *2"
   ]
  },
  {
   "cell_type": "code",
   "execution_count": 34,
   "id": "572b4bd4",
   "metadata": {},
   "outputs": [
    {
     "name": "stdout",
     "output_type": "stream",
     "text": [
      "1930s Male 93 % Female 7 %\n",
      "1940s Male 93 % Female 7 %\n",
      "1950s Male 95 % Female 5 %\n",
      "1960s Male 96 % Female 4 %\n",
      "1970s Male 88 % Female 12 %\n",
      "1980s Male 89 % Female 11 %\n",
      "1990s Male 79 % Female 21 %\n"
     ]
    }
   ],
   "source": [
    "for el in gender:\n",
    "    tot = gender[el]['Male'] + gender[el]['Female']\n",
    "    percentage = (gender[el]['Male']/tot)*100\n",
    "    print (el, 'Male', round(percentage),'%', 'Female', round(100-percentage),'%')"
   ]
  },
  {
   "cell_type": "code",
   "execution_count": 39,
   "id": "e68d955a",
   "metadata": {},
   "outputs": [
    {
     "name": "stdout",
     "output_type": "stream",
     "text": [
      "{'1930s': {'Male': 722, 'Female': 66}, '1940s': {'Male': 700, 'Female': 76}, '1950s': {'Male': 598, 'Female': 35}, '1960s': {'Male': 967, 'Female': 81}, '1970s': {'Male': 6398, 'Female': 455}, '1980s': {'Male': 5202, 'Female': 336}, '1990s': {'Male': 6025, 'Female': 668}}\n"
     ]
    }
   ],
   "source": [
    "with open('Tate.csv', mode='r', encoding='utf-8') as csvfile:\n",
    "    reader = csv.DictReader(csvfile)\n",
    "    gender={'1930s': {'Male': 0, 'Female': 0}, '1940s': {'Male': 0, 'Female': 0}, '1950s': {'Male': 0, 'Female': 0}, '1960s': {'Male': 0, 'Female': 0}, '1970s': {'Male': 0, 'Female': 0}, '1980s': {'Male': 0, 'Female': 0}, '1990s': {'Male': 0, 'Female': 0}}\n",
    "    for item in reader:\n",
    "        if int(item['DateAcquired']) in range (1928,1941):\n",
    "            if (item['Gender'] == 'Female'): \n",
    "                gender['1930s']['Female'] += 1\n",
    "            else:\n",
    "                gender['1930s']['Male'] += 1\n",
    "        if int(item['DateAcquired']) in range (1940,1951):\n",
    "            if (item['Gender'] == 'Female'): \n",
    "                gender['1940s']['Female'] += 1\n",
    "            else:\n",
    "                gender['1940s']['Male'] += 1\n",
    "        if int(item['DateAcquired']) in range (1950,1961):\n",
    "            if (item['Gender'] == 'Female'): \n",
    "                gender['1950s']['Female'] += 1\n",
    "            else:\n",
    "                gender['1950s']['Male'] += 1\n",
    "        if int(item['DateAcquired']) in range (1960,1971):\n",
    "            if (item['Gender'] == 'Female'): \n",
    "                gender['1960s']['Female'] += 1\n",
    "            else:\n",
    "                gender['1960s']['Male'] += 1\n",
    "        if int(item['DateAcquired']) in range (1970,1981):\n",
    "            if (item['Gender'] == 'Female'): \n",
    "                gender['1970s']['Female'] += 1\n",
    "            else:\n",
    "                gender['1970s']['Male'] += 1\n",
    "        if int(item['DateAcquired']) in range (1980,1991):\n",
    "            if (item['Gender'] == 'Female'): \n",
    "                gender['1980s']['Female'] += 1\n",
    "            else:\n",
    "                gender['1980s']['Male'] += 1\n",
    "        if int(item['DateAcquired']) in range (1990,2001):\n",
    "            if (item['Gender'] == 'Female'): \n",
    "                gender['1990s']['Female'] += 1\n",
    "            else:\n",
    "                gender['1990s']['Male'] += 1\n",
    "    print(gender)"
   ]
  },
  {
   "cell_type": "code",
   "execution_count": 40,
   "id": "00870535",
   "metadata": {},
   "outputs": [
    {
     "name": "stdout",
     "output_type": "stream",
     "text": [
      "1930s Male 92 % Female 8 %\n",
      "1940s Male 90 % Female 10 %\n",
      "1950s Male 94 % Female 6 %\n",
      "1960s Male 92 % Female 8 %\n",
      "1970s Male 93 % Female 7 %\n",
      "1980s Male 94 % Female 6 %\n",
      "1990s Male 90 % Female 10 %\n"
     ]
    }
   ],
   "source": [
    "for el in gender:\n",
    "    tot = gender[el]['Male'] + gender[el]['Female']\n",
    "    percentage = (gender[el]['Male']/tot)*100\n",
    "    print (el, 'Male', round(percentage),'%', 'Female', round(100-percentage),'%')"
   ]
  },
  {
   "cell_type": "markdown",
   "id": "cb2a8867",
   "metadata": {},
   "source": [
    "## Nationalities\n",
    "\n",
    "In which years artists' nationalities more influent on the selection? Per ogni 10 anni, percentuale di nazionalità acquisite e differenza."
   ]
  },
  {
   "cell_type": "markdown",
   "id": "ebbdcb50",
   "metadata": {},
   "source": [
    "### MoMa"
   ]
  },
  {
   "cell_type": "code",
   "execution_count": 41,
   "id": "1c03dc71",
   "metadata": {},
   "outputs": [],
   "source": [
    "MoMaArtists.rename(columns = {'ConstituentID':'Id'}, inplace = True)"
   ]
  },
  {
   "cell_type": "code",
   "execution_count": 51,
   "id": "56bbaf75",
   "metadata": {},
   "outputs": [],
   "source": [
    "def cleanDates(date):\n",
    "    if '.' in date:\n",
    "        date = date.split('.')[0]\n",
    "    return date"
   ]
  },
  {
   "cell_type": "code",
   "execution_count": 61,
   "id": "acb6e246",
   "metadata": {},
   "outputs": [],
   "source": [
    "MoMaNationalities = pd.merge(MoMaArtists,MoMa[['Id', 'DateAcquired']],on='Id', how='left')\n",
    "MoMaNationalities.fillna(value='0', inplace=True)\n",
    "MoMaNationalities[\"DateAcquired\"] = MoMaNationalities[\"DateAcquired\"].astype(str)\n",
    "MoMaNationalities[\"DateAcquired\"] = MoMaNationalities[\"DateAcquired\"].apply(cleanDates)\n",
    "MoMaNationalities = MoMaNationalities.drop_duplicates(subset='DisplayName', keep=\"first\")\n",
    "MoMaNationalities.to_csv('MoMaNationalities.csv')"
   ]
  },
  {
   "cell_type": "code",
   "execution_count": 62,
   "id": "c13fd275",
   "metadata": {},
   "outputs": [
    {
     "name": "stdout",
     "output_type": "stream",
     "text": [
      "defaultdict(<class 'dict'>, {'1980s': {'American': 615, 'Estonian': 2, 'Swedish': 12, 'Finnish': 7, 'Romanian': 2, 'French': 91, 'Dutch': 31, 'Norwegian': 4, 'Danish': 11, 'British': 91, 'Austrian': 23, 'Italian': 32, 'Japanese': 61, 'German': 100, 'Russian': 18, 'Spanish': 12, 'Congolese': 1, 'Brazilian': 2, 'Hungarian': 9, 'Polish': 19, 'Canadian': 34, 'Swiss': 47, 'Icelandic': 2, 'Australian': 6, 'Croatian': 3, 'Slovak': 1, 'Cuban': 4, 'Mexican': 9, 'Greek': 1, 'Chinese': 1, 'Belgian': 7, 'Native American': 2, 'Chilean': 2, 'Czech': 11, 'Nationality unknown': 5, 'Israeli': 7, 'Luxembourger': 1, 'Portuguese': 1, 'Peruvian': 3, 'Indian': 1, 'Haitian': 1, 'Moroccan': 1, '0': 14, 'Latvian': 2, 'Georgian': 1, 'Ukrainian': 2, 'Irish': 1, 'Colombian': 1, 'Puerto Rican': 1}, '1960s': {'Spanish': 20, '0': 14, 'Italian': 97, 'American': 641, 'French': 126, 'Japanese': 64, 'British': 76, 'Israeli': 11, 'Finnish': 4, 'Argentine': 40, 'Kuwaiti': 1, 'German': 142, 'Nationality unknown': 36, 'Chilean': 19, 'Swiss': 24, 'Czech': 7, 'Danish': 13, 'Brazilian': 21, 'Canadian': 47, 'Swedish': 22, 'Russian': 29, 'Austrian': 20, 'Slovenian': 5, 'Portuguese': 1, 'Indian': 7, 'Romanian': 3, 'Colombian': 7, 'Dutch': 17, 'Uruguayan': 4, 'Polish': 31, 'Ukrainian': 1, 'Australian': 5, 'Belgian': 13, 'Peruvian': 11, 'Cuban': 3, 'Mexican': 13, 'Venezuelan': 8, 'Bolivian': 1, 'Greek': 4, 'Panamanian': 2, 'Croatian': 4, 'Turkish': 2, 'Icelandic': 3, 'Ecuadorian': 2, 'Iranian': 4, 'Hungarian': 4, 'Serbian': 3, 'Canadian Inuit': 3, 'Costa Rican': 1, 'Paraguayan': 1, 'Haitian': 1, 'Zimbabwean': 3, 'South African': 1, 'Moroccan': 2, 'Guatemalan': 1, 'Tanzanian': 1, 'Sudanese': 1, 'Taiwanese': 1, 'Ethiopian': 1, 'Irish': 1, 'Korean': 1, 'Chinese': 2}, '1970s': {'American': 586, 'Danish': 8, 'British': 75, 'French': 38, 'Polish': 6, 'Italian': 34, 'Romanian': 2, 'Russian': 28, 'Japanese': 63, 'Dutch': 23, 'Finnish': 2, 'Czech': 9, 'Australian': 10, 'Ukrainian': 2, 'German': 52, 'Israeli': 11, 'Canadian': 8, 'Brazilian': 3, 'Nationality unknown': 20, 'Irish': 2, 'Belgian': 9, 'Chilean': 2, 'Spanish': 9, 'Mexican': 9, 'Colombian': 13, 'Cuban': 3, 'Peruvian': 1, 'Turkish': 2, 'Greek': 3, 'Austrian': 11, 'Swedish': 2, 'Swiss': 15, 'Argentine': 1, 'South African': 1, 'Hungarian': 2, 'Norwegian': 1, 'Korean': 3, 'Slovenian': 4, 'Venezuelan': 10, '0': 3, 'Tunisian': 1, 'Paraguayan': 1, 'Uruguayan': 1, 'Icelandic': 1}, '1950s': {'American': 396, 'Swedish': 20, 'Israeli': 4, 'Japanese': 112, 'Guatemalan': 3, 'Italian': 54, 'Finnish': 11, 'German': 88, 'Belgian': 14, 'French': 155, '0': 16, 'Dutch': 28, 'British': 54, 'Austrian': 11, 'Swiss': 42, 'Hungarian': 3, 'Canadian': 12, 'Cuban': 4, 'Nationality unknown': 54, 'Spanish': 7, 'Brazilian': 14, 'Chilean': 4, 'Polish': 6, 'Mexican': 5, 'Uruguayan': 1, 'Slovenian': 2, 'Haitian': 1, 'Algerian': 1, 'Venezuelan': 3, 'Danish': 19, 'Canadian Inuit': 2, 'Russian': 4, 'Serbian': 2, 'Czech': 6, 'Korean': 2, 'Nicaraguan': 1, 'Turkish': 1, 'Australian': 3, 'Colombian': 2, 'Norwegian': 5, 'Tanzanian': 1, 'Irish': 2, 'Argentine': 3, 'Peruvian': 1, 'Icelandic': 1}, '1930s': {'French': 60, 'Spanish': 26, 'American': 247, 'Palestinian': 1, 'British': 73, 'Chilean': 1, 'German': 34, 'Swiss': 11, 'Dutch': 8, 'Nationality unknown': 6, 'Belgian': 4, 'Russian': 8, '0': 5, 'Japanese': 2, 'Israeli': 2, 'Norwegian': 2, 'Polish': 1, 'Italian': 5, 'Mexican': 3, 'Hungarian': 1, 'Swedish': 1, 'Bolivian': 1, 'Czechoslovakian': 1}, '1940s': {'Mexican': 35, 'American': 517, 'Finnish': 4, 'Palestinian': 1, 'Colombian': 3, 'French': 101, 'Polish': 7, '0': 22, 'Costa Rican': 1, 'British': 63, 'Chilean': 5, 'Argentine': 18, 'Italian': 36, 'German': 55, 'Swiss': 24, 'Haitian': 10, 'Brazilian': 9, 'Bolivian': 1, 'Swedish': 10, 'Cuban': 10, 'Peruvian': 2, 'Nationality unknown': 18, 'Spanish': 3, 'Romanian': 2, 'Greek': 2, 'Chinese': 3, 'Australian': 3, 'Dutch': 11, 'Belgian': 7, 'Czech': 4, 'Uruguayan': 3, 'Japanese': 4, 'Ecuadorian': 2, 'Austrian': 9, 'Russian': 17, 'Danish': 5, 'Nicaraguan': 1, 'Guatemalan': 1, 'Norwegian': 2, 'Hungarian': 3, 'Israeli': 2, 'Canadian': 1, 'Native American': 1, 'Yugoslav': 1, 'Scottish': 1}, '1990s': {'American': 458, 'French': 50, 'German': 62, 'Italian': 42, 'British': 67, 'Dutch': 30, 'Danish': 12, 'Japanese': 55, 'Swiss': 34, 'Mexican': 9, 'Austrian': 12, 'Spanish': 20, 'Portuguese': 2, 'Cuban': 6, 'Swedish': 4, 'Israeli': 4, 'Czech': 8, 'Belgian': 3, 'Polish': 14, 'Norwegian': 4, 'Brazilian': 15, 'Russian': 23, 'Argentine': 6, 'Azerbaijani': 1, '0': 14, 'Chilean': 8, 'Canadian': 11, 'Finnish': 4, 'Senegalese': 1, 'Indian': 2, 'Nationality unknown': 8, 'Thai': 1, 'Colombian': 2, 'Australian': 4, 'South African': 3, 'Iranian': 2, 'Peruvian': 1, 'Scottish': 1, 'Romanian': 2, 'Chinese': 6, 'Ukrainian': 2, 'Pakistani': 1, 'Korean': 1, 'Bahamian': 1, 'Malian': 1, 'Taiwanese': 1, 'Hungarian': 1, 'Uruguayan': 1, 'Czechoslovakian': 1}})\n"
     ]
    }
   ],
   "source": [
    "from collections import defaultdict \n",
    "\n",
    "with open('MoMaNationalities.csv', mode='r', encoding='utf-8') as csvfile:\n",
    "    reader = csv.DictReader(csvfile)\n",
    "    nationalities = defaultdict(dict)\n",
    "    for item in reader:\n",
    "        if int(item['DateAcquired']) in range (1928,1941):\n",
    "            if item['Nationality'] not in nationalities['1930s']:\n",
    "                nationalities['1930s'][item['Nationality']] = 1\n",
    "            else:\n",
    "                nationalities['1930s'][item['Nationality']] += 1\n",
    "        if int(item['DateAcquired']) in range (1940,1951):\n",
    "            if item['Nationality'] not in nationalities['1940s']:\n",
    "                nationalities['1940s'][item['Nationality']] = 1\n",
    "            else:\n",
    "                nationalities['1940s'][item['Nationality']] += 1\n",
    "        if int(item['DateAcquired']) in range (1950,1961):\n",
    "            if item['Nationality'] not in nationalities['1950s']:\n",
    "                nationalities['1950s'][item['Nationality']] = 1\n",
    "            else:\n",
    "                nationalities['1950s'][item['Nationality']] += 1\n",
    "        if int(item['DateAcquired']) in range (1960,1971):\n",
    "            if item['Nationality'] not in nationalities['1960s']:\n",
    "                nationalities['1960s'][item['Nationality']] = 1\n",
    "            else:\n",
    "                nationalities['1960s'][item['Nationality']] += 1\n",
    "        if int(item['DateAcquired']) in range (1970,1981):\n",
    "            if item['Nationality'] not in nationalities['1970s']:\n",
    "                nationalities['1970s'][item['Nationality']] = 1\n",
    "            else:\n",
    "                nationalities['1970s'][item['Nationality']] += 1\n",
    "        if int(item['DateAcquired']) in range (1980,1991):\n",
    "            if item['Nationality'] not in nationalities['1980s']:\n",
    "                nationalities['1980s'][item['Nationality']] = 1\n",
    "            else:\n",
    "                nationalities['1980s'][item['Nationality']] += 1\n",
    "        if int(item['DateAcquired']) in range (1990,2001):\n",
    "            if item['Nationality'] not in nationalities['1990s']:\n",
    "                nationalities['1990s'][item['Nationality']] = 1\n",
    "            else:\n",
    "                nationalities['1990s'][item['Nationality']] += 1\n",
    "        \n",
    "                \n",
    "\n",
    "print(nationalities)\n",
    "        \n",
    "    "
   ]
  },
  {
   "cell_type": "markdown",
   "id": "6ad03057",
   "metadata": {},
   "source": [
    "### Tate"
   ]
  }
 ],
 "metadata": {
  "kernelspec": {
   "display_name": "Python 3 (ipykernel)",
   "language": "python",
   "name": "python3"
  },
  "language_info": {
   "codemirror_mode": {
    "name": "ipython",
    "version": 3
   },
   "file_extension": ".py",
   "mimetype": "text/x-python",
   "name": "python",
   "nbconvert_exporter": "python",
   "pygments_lexer": "ipython3",
   "version": "3.9.0"
  }
 },
 "nbformat": 4,
 "nbformat_minor": 5
}
