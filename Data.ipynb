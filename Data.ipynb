{
 "cells": [
  {
   "cell_type": "markdown",
   "id": "48581096",
   "metadata": {},
   "source": [
    "#NOME FIGO\n",
    "Art and history of art are no sealed compartments: they are heavily inter-dependent with social, political, economic factors, which in turn influence our very perception of what art is.\n",
    "\n",
    "Cultural institutions and museums in particular play a fundamental role in this intertwined dynamics: through their selection activity, they have the potential to shape the public understanding of arts and its modifications throughout time. \n",
    "In some way, what makes into museums makes into history of art.\n",
    "\n",
    "From these considerations stems our analysis: how do external (social, political, economic) factors influence the perception of art and its history?\n",
    "A way to investigate it is by looking at the greatest and most representative museums around the world, and at their acquisition policies and campaigns in particular.\n",
    "\n",
    "Our key questions:\n",
    "In which ways have the acquisition campaigns of the major museums in the world changed throughout the years? \n",
    "\n",
    "\n",
    "Our workflow:\n",
    "1. Interrogate WikiData:\n",
    "    - What are the biggest collections around the world?\n",
    "2. Find csv files for some of the major museums.\n",
    "3. Select some representative time slots (both internal and external factors).\n",
    "4. Analyse acquisitions during these time slots for every museum and compare:\n",
    "    a) Difference between different slots in the same museum;\n",
    "    b) Difference between different museums for the same time slot;\n",
    "\n",
    "Our questions:\n",
    "- What was the initial nucleus of each museum? \n",
    "- Internal survey: Is there a significant date or decade for the acquisitions? \n",
    "- External survey: What are the acquisition trends around the Xs/between the x and the y? / What are the acquisition trends within and across these museums? \n",
    "- During these years, who are the most represented makers? What is the most represented gender? What is the most represented movement? What is the most represented nationality? \n",
    "\n",
    "\n",
    "We analysed 5/4 of the (MET, MoMa, N+, Cleveland?, Tate) "
   ]
  },
  {
   "cell_type": "markdown",
   "id": "4368dc5d",
   "metadata": {},
   "source": [
    "Wikidata interrogation: failure.\n",
    "\n",
    "1. What are the largest art collections?\n",
    "\n",
    "SELECT ?museum (COUNT(?work) AS ?works) WHERE {\n",
    "  ?work wdt:P195 ?museum.\n",
    "  ?museum wdt:P31 wd:Q207694\n",
    "  }\n",
    "GROUP BY ?museum \n",
    "ORDER BY DESC(?works)\n",
    "\n",
    "2.  Which were the most visited museums in 2018?\n",
    "\n",
    "SELECT ?museumLabel ?visitors ?year\n",
    "WHERE {\n",
    "  ?museum wdt:P31 wd:Q207694;\n",
    "          wdt:P1705 ?museumLabel;\n",
    "          wdt:P1174 ?visitors;\n",
    "          p:P1174/pq:P585 ?year .\n",
    "FILTER(YEAR(?year) = 2018).\n",
    "}\n",
    "\n",
    "ORDER BY DESC(?visitors)"
   ]
  },
  {
   "cell_type": "markdown",
   "id": "e4267ffa",
   "metadata": {},
   "source": [
    "Since WikiData was not providing reliable results, we decided to go back to its sources (The Art Newspaper https://www.theartnewspaper.com/) and manually collect data about the most visited museums in the last four years(2018-2022).\n",
    "\n",
    "https://onedrive.live.com/view.aspx?resid=E34DDE1A3F2F2160!138&ithint=file%2cxlsx&authkey=!AN4u-K4bko37iOU\n",
    "    \n",
    "We verified the availability of open datasets for each of the top 20 most visited museums on this GitHub repository (https://github.com/Ambrosiani/museums-on-github), containing a list of museums with GitHub accounts.\n",
    "\n",
    "Our analysis led us to the decision to focus on four museums:\n",
    "- Tate Modern, London\n",
    "- MoMa, NY\n",
    "- Met, NY\n",
    "- National Gallery of Art, Washington DC\n",
    "\n",
    "**Info generale sui musei."
   ]
  },
  {
   "cell_type": "code",
   "execution_count": 1,
   "id": "cc975d5b",
   "metadata": {},
   "outputs": [],
   "source": [
    "import pandas as pd\n",
    "import csv\n",
    "import re"
   ]
  },
  {
   "cell_type": "markdown",
   "id": "9c6ba48f",
   "metadata": {},
   "source": [
    "First: let us create some pandas dataframes containing all needed information: for each Museum, we will integrate different csv files, selecting the data we need for each of them. "
   ]
  },
  {
   "cell_type": "markdown",
   "id": "70b791fb",
   "metadata": {},
   "source": [
    "#MoMa "
   ]
  },
  {
   "cell_type": "code",
   "execution_count": 2,
   "id": "2a310a72",
   "metadata": {},
   "outputs": [],
   "source": [
    "spreadsheet = pd.read_csv('https://media.githubusercontent.com/media/MuseumofModernArt/collection/master/Artworks.csv')\n",
    "pd.set_option('display.max_columns', None)\n",
    "artworks = spreadsheet[['Title', 'Artist', 'ConstituentID', 'Nationality', 'BeginDate', 'EndDate', 'Gender', 'Date', 'Medium', 'CreditLine', 'Classification', 'Department', 'DateAcquired', 'URL']]\n",
    "artists = pd.read_csv('https://media.githubusercontent.com/media/MuseumofModernArt/collection/master/Artists.csv')\n",
    "artists[\"ConstituentID\"] = artists[\"ConstituentID\"].astype(str)\n",
    "MoMa = pd.merge(artworks,artists[['ConstituentID', 'Wiki QID']],on='ConstituentID', how='left')\n",
    "MoMa.rename(columns = {'ConstituentID':'Id', 'BeginDate':'BirthDate', 'EndDate':'DeathDate'}, inplace = True)\n",
    "MoMa.Date = MoMa.Date.fillna('Not available')\n",
    "MoMa['Date'] = MoMa['Date'].astype(str)\n",
    "#MoMa.to_csv(\"MoMa.csv\")"
   ]
  },
  {
   "cell_type": "markdown",
   "id": "ca614fd4",
   "metadata": {},
   "source": [
    "#Tate"
   ]
  },
  {
   "cell_type": "code",
   "execution_count": 3,
   "id": "1dd54728",
   "metadata": {},
   "outputs": [
    {
     "name": "stderr",
     "output_type": "stream",
     "text": [
      "C:\\Users\\Lorenza\\AppData\\Roaming\\Python\\Python39\\site-packages\\IPython\\core\\interactiveshell.py:3172: DtypeWarning: Columns (9,13) have mixed types.Specify dtype option on import or set low_memory=False.\n",
      "  has_raised = await self.run_ast_nodes(code_ast.body, cell_name,\n",
      "C:\\Program Files\\Python39\\lib\\site-packages\\pandas\\core\\frame.py:4438: SettingWithCopyWarning: \n",
      "A value is trying to be set on a copy of a slice from a DataFrame\n",
      "\n",
      "See the caveats in the documentation: https://pandas.pydata.org/pandas-docs/stable/user_guide/indexing.html#returning-a-view-versus-a-copy\n",
      "  return super().rename(\n",
      "C:\\Program Files\\Python39\\lib\\site-packages\\pandas\\core\\generic.py:5489: SettingWithCopyWarning: \n",
      "A value is trying to be set on a copy of a slice from a DataFrame.\n",
      "Try using .loc[row_indexer,col_indexer] = value instead\n",
      "\n",
      "See the caveats in the documentation: https://pandas.pydata.org/pandas-docs/stable/user_guide/indexing.html#returning-a-view-versus-a-copy\n",
      "  self[name] = value\n"
     ]
    }
   ],
   "source": [
    "spreadsheet = pd.read_csv('https://raw.githubusercontent.com/tategallery/collection/master/artwork_data.csv')\n",
    "pd.set_option('display.max_columns', None)\n",
    "artworks = spreadsheet[['artist', 'artistId', 'title', 'medium', 'creditLine', 'year', 'acquisitionYear', 'url']]\n",
    "artworks.rename(columns = {'artistId':'id'}, inplace = True)\n",
    "artworks.id = artworks.id.astype(str)\n",
    "artists = pd.read_csv('https://raw.githubusercontent.com/tategallery/collection/master/artist_data.csv')\n",
    "artists[\"id\"] = artists[\"id\"].astype(str)\n",
    "Tate = pd.merge(artworks,artists[['id', 'gender', 'yearOfBirth', 'yearOfDeath']], on='id', how='left')\n",
    "Tate.rename(columns = {'artist':'Artist', 'id':'Id', 'title':'Title', 'yearOfBirth':'BirthDate', 'yearOfDeath':'DeathDate', 'medium':'Medium', 'creditLine':'CreditLine', 'year':'Date', 'acquisitionYear':'DateAcquired', 'url':'URL', 'gender':'Gender'}, inplace = True)\n",
    "Tate.to_csv(\"Tate.csv\")"
   ]
  },
  {
   "cell_type": "markdown",
   "id": "859e8108",
   "metadata": {},
   "source": [
    "#Met"
   ]
  },
  {
   "cell_type": "code",
   "execution_count": null,
   "id": "a62bab09",
   "metadata": {},
   "outputs": [],
   "source": [
    "spreadsheet = pd.read_csv('https://media.githubusercontent.com/media/metmuseum/openaccess/master/MetObjects.csv')\n",
    "pd.set_option('display.max_columns', None)\n",
    "Met = spreadsheet[['AccessionYear', 'Title', 'Culture', 'Artist Display Name', 'Artist Nationality', 'Artist Begin Date', 'Artist End Date', 'Artist Gender', 'Artist Wikidata URL', 'Object End Date', 'Medium', 'Credit Line', 'Classification', 'Link Resource', 'Object Wikidata URL']]\n",
    "Met.rename(columns = {'Artist Display Name':'Artist', 'id':'Id', 'Artist Begin Date':'BirthDate', 'Artist End Date':'DeathDate', 'Credit Line':'CreditLine', 'Object End Date':'Date', 'AccessionYear':'DateAcquired', 'Artist Wikidata URL':'Wiki QID', 'Artist Gender':'Gender', 'Link Resource':'URL', 'Artist Nationality':'Nationality'}, inplace = True)\n",
    "#Met.to_csv(\"Met.csv\")"
   ]
  },
  {
   "cell_type": "markdown",
   "id": "3618155b",
   "metadata": {},
   "source": [
    "#Nga"
   ]
  },
  {
   "cell_type": "code",
   "execution_count": 5,
   "id": "1f86f651",
   "metadata": {},
   "outputs": [
    {
     "name": "stderr",
     "output_type": "stream",
     "text": [
      "C:\\Users\\Lorenza\\AppData\\Roaming\\Python\\Python39\\site-packages\\IPython\\core\\interactiveshell.py:3172: DtypeWarning: Columns (28) have mixed types.Specify dtype option on import or set low_memory=False.\n",
      "  has_raised = await self.run_ast_nodes(code_ast.body, cell_name,\n"
     ]
    }
   ],
   "source": [
    "spreadsheet = pd.read_csv('https://raw.githubusercontent.com/NationalGalleryOfArt/opendata/main/data/objects.csv')\n",
    "pd.set_option('display.max_columns', None)\n",
    "Nga = spreadsheet[['accessionnum', 'title', 'endyear', 'medium', 'attribution', 'creditline', 'classification']]\n",
    "Nga.rename(columns = {'attribution':'Artist', 'id':'Id', 'title':'Title', 'medium':'Medium', 'creditline':'CreditLine', 'endyear':'Date', 'accessionnum':'DateAcquired', 'classification':'Classification', 'Object End Date':'Date'}, inplace = True)\n",
    "Nga.to_csv(\"Nga.csv\")"
   ]
  },
  {
   "cell_type": "markdown",
   "id": "e97a7ff1",
   "metadata": {},
   "source": [
    "#Exploring our Museums\n",
    "<br>\n",
    "Now that we have our dataframes, we can explore the four collections.\n",
    "<br>\n",
    "- How many items does each collection contain?\n",
    "- Which timespan do items cover overall?\n",
    "- First and last acquisition date for each museum. Tate's csv last update dates back to 2014.\n",
    "- Total artists' number.\n",
    "- Most represented artist, gender and nationality in general?"
   ]
  },
  {
   "cell_type": "code",
   "execution_count": 6,
   "id": "48e9b378",
   "metadata": {},
   "outputs": [
    {
     "name": "stdout",
     "output_type": "stream",
     "text": [
      "Total artworks at Moma : 139912\n",
      "Total artworks at Met : 448619\n",
      "Total artworks at Tate : 69201\n",
      "Total artworks at Nga : 137923\n"
     ]
    }
   ],
   "source": [
    "museums=[MoMa, Met, Tate, Nga]\n",
    "names = ['Moma', 'Met', 'Tate', 'Nga']\n",
    "for museum in museums:\n",
    "    selected_rows = museum[~museum['Title'].isnull()]\n",
    "    name = names.pop(0)\n",
    "    print(\"Total artworks at\", name, \":\", len(selected_rows.index))"
   ]
  },
  {
   "cell_type": "markdown",
   "id": "4453ec9c",
   "metadata": {},
   "source": [
    "#ARTWORKS DATES"
   ]
  },
  {
   "cell_type": "markdown",
   "id": "fb0264bc",
   "metadata": {},
   "source": [
    "#Clean MoMa's artworks' creation dates "
   ]
  },
  {
   "cell_type": "code",
   "execution_count": 7,
   "id": "5fde7240",
   "metadata": {},
   "outputs": [],
   "source": [
    "def cleanDatesMoma(date):\n",
    "    if '-' in date:\n",
    "        splitted = date.split('-')\n",
    "        date = ' '.join(splitted) \n",
    "    if '/' in date:\n",
    "        splitted = date.split('/')\n",
    "        date = ' '.join(splitted) \n",
    "    if ',' in date:\n",
    "        splitted = date.split(',')\n",
    "        date = ' '.join(splitted) \n",
    "    if '.' in date:\n",
    "        splitted = date.split('.')\n",
    "        date = ' '.join(splitted) \n",
    "        \n",
    "    x = re.search(\"\\d{4}\", date)\n",
    "    if x:\n",
    "        date = x.group()\n",
    "    return date"
   ]
  },
  {
   "cell_type": "code",
   "execution_count": 8,
   "id": "d4c48dc3",
   "metadata": {
    "scrolled": false
   },
   "outputs": [],
   "source": [
    "MoMa[\"Date\"] = MoMa[\"Date\"].apply(cleanDatesMoma)\n",
    "#MoMaNew.to_csv(\"MoMaNew.csv\")\n",
    "#MoMaNew.head(30)"
   ]
  },
  {
   "cell_type": "markdown",
   "id": "fdab457e",
   "metadata": {},
   "source": [
    "Artworks' timespan"
   ]
  },
  {
   "cell_type": "code",
   "execution_count": 9,
   "id": "cb491153",
   "metadata": {},
   "outputs": [
    {
     "name": "stdout",
     "output_type": "stream",
     "text": [
      "Most ancient artwork at MoMa dates back to 1768\n",
      "Most recent artwork at MoMa dates back to 2022\n",
      "Most ancient artwork at Nga dates back to -490\n",
      "Most recent artwork at Nga dates back to 2021\n",
      "Most ancient artwork at Tate dates back to 1545\n",
      "Most recent artwork at Tate dates back to 2012\n"
     ]
    },
    {
     "ename": "FileNotFoundError",
     "evalue": "[Errno 2] No such file or directory: 'metclean2.csv'",
     "output_type": "error",
     "traceback": [
      "\u001b[1;31m---------------------------------------------------------------------------\u001b[0m",
      "\u001b[1;31mFileNotFoundError\u001b[0m                         Traceback (most recent call last)",
      "\u001b[1;32m~\\AppData\\Local\\Temp/ipykernel_10956/4174000432.py\u001b[0m in \u001b[0;36m<module>\u001b[1;34m\u001b[0m\n\u001b[0;32m      2\u001b[0m \u001b[0mnames\u001b[0m \u001b[1;33m=\u001b[0m \u001b[1;33m[\u001b[0m\u001b[1;34m'MoMa'\u001b[0m\u001b[1;33m,\u001b[0m\u001b[1;34m'Nga'\u001b[0m\u001b[1;33m,\u001b[0m \u001b[1;34m'Tate'\u001b[0m\u001b[1;33m,\u001b[0m \u001b[1;34m'Met'\u001b[0m\u001b[1;33m]\u001b[0m\u001b[1;33m\u001b[0m\u001b[1;33m\u001b[0m\u001b[0m\n\u001b[0;32m      3\u001b[0m \u001b[1;32mfor\u001b[0m \u001b[0mmuseum\u001b[0m \u001b[1;32min\u001b[0m \u001b[0mmuseums\u001b[0m\u001b[1;33m:\u001b[0m\u001b[1;33m\u001b[0m\u001b[1;33m\u001b[0m\u001b[0m\n\u001b[1;32m----> 4\u001b[1;33m     \u001b[1;32mwith\u001b[0m \u001b[0mopen\u001b[0m\u001b[1;33m(\u001b[0m\u001b[0mmuseum\u001b[0m\u001b[1;33m,\u001b[0m \u001b[0mmode\u001b[0m\u001b[1;33m=\u001b[0m\u001b[1;34m'r'\u001b[0m\u001b[1;33m,\u001b[0m \u001b[0mencoding\u001b[0m\u001b[1;33m=\u001b[0m\u001b[1;34m'utf-8'\u001b[0m\u001b[1;33m)\u001b[0m \u001b[1;32mas\u001b[0m \u001b[0mcsvfile\u001b[0m\u001b[1;33m:\u001b[0m\u001b[1;33m\u001b[0m\u001b[1;33m\u001b[0m\u001b[0m\n\u001b[0m\u001b[0;32m      5\u001b[0m         \u001b[0mreader\u001b[0m \u001b[1;33m=\u001b[0m \u001b[0mcsv\u001b[0m\u001b[1;33m.\u001b[0m\u001b[0mDictReader\u001b[0m\u001b[1;33m(\u001b[0m\u001b[0mcsvfile\u001b[0m\u001b[1;33m)\u001b[0m\u001b[1;33m\u001b[0m\u001b[1;33m\u001b[0m\u001b[0m\n\u001b[0;32m      6\u001b[0m         \u001b[0myears\u001b[0m\u001b[1;33m=\u001b[0m\u001b[1;33m[\u001b[0m\u001b[1;33m]\u001b[0m\u001b[1;33m\u001b[0m\u001b[1;33m\u001b[0m\u001b[0m\n",
      "\u001b[1;31mFileNotFoundError\u001b[0m: [Errno 2] No such file or directory: 'metclean2.csv'"
     ]
    }
   ],
   "source": [
    "museums=['MoMaNew.csv','Nga.csv', 'Tate.csv', 'metclean2.csv']\n",
    "names = ['MoMa','Nga', 'Tate', 'Met']\n",
    "for museum in museums:\n",
    "    with open(museum, mode='r', encoding='utf-8') as csvfile:\n",
    "        reader = csv.DictReader(csvfile)\n",
    "        years=[]\n",
    "        for item in reader:\n",
    "            if item['Date'] != ''and item['Date'] != '(n d )'and item['Date'] != 'TBD'and item['Date'] != 'nd'and item['Date']!='c  196?' and 'c.' not in item['Date'] and item['Date'] != 'no date' and item['Date'] != 'date of publicati' and item['Date'] != 'New York' and item['Date'] != 'Not available' and item['Date'] != 'Various' and item['Date'] != 'Various' and item['Date'] != 'unknown' and 'century' not in item['Date'] and item['Date'] != 'Unknown' and item['Date'] != 'n d ' and '(' not in item['Date'] and item['Date'] != 'n d ' and item['Date'] != 'n d' and item['Date'] != 'n  d ' and item['Date'] != 'Unkown' and item['Date'] != 'TBC':\n",
    "                years.append(item['Date'])\n",
    "        clean = []\n",
    "        for el in years:\n",
    "            if '.'in el:\n",
    "                el = el.split('.')[0]\n",
    "            clean.append(int(el))  \n",
    "        clean.sort()\n",
    "        name = names.pop(0)\n",
    "    print(\"Most ancient artwork at\", name, \"dates back to\", clean[0])\n",
    "    print(\"Most recent artwork at\", name, \"dates back to\", clean[-1])"
   ]
  },
  {
   "cell_type": "markdown",
   "id": "1c96c54b",
   "metadata": {},
   "source": [
    "#Artworks acquisition"
   ]
  },
  {
   "cell_type": "markdown",
   "id": "9168a642",
   "metadata": {},
   "source": [
    "Clean MoMa's artworks' acquisition dates"
   ]
  },
  {
   "cell_type": "code",
   "execution_count": 12,
   "id": "2d434f6b",
   "metadata": {},
   "outputs": [],
   "source": [
    "MoMa = MoMa[MoMa['DateAcquired'].notna()]\n",
    "MoMa[\"DateAcquired\"] = MoMa[\"DateAcquired\"].apply(cleanDatesMoma)"
   ]
  },
  {
   "cell_type": "markdown",
   "id": "6301f54b",
   "metadata": {},
   "source": [
    "Acquisition' timespan"
   ]
  },
  {
   "cell_type": "code",
   "execution_count": 13,
   "id": "59e54cf1",
   "metadata": {},
   "outputs": [
    {
     "name": "stdout",
     "output_type": "stream",
     "text": [
      "First recorderd acquisition MoMa dates back to 1929-11-19\n",
      "Last recorded acquisition MoMa dates back to 2022-09-20\n",
      "First recorderd acquisition Met dates back to 1870\n",
      "Last recorded acquisition Met dates back to 2022\n",
      "First recorderd acquisition Nga dates back to 1937\n",
      "Last recorded acquisition Nga dates back to 2022\n",
      "First recorderd acquisition Tate dates back to 1823\n",
      "Last recorded acquisition Tate dates back to 2013\n"
     ]
    }
   ],
   "source": [
    "museums=['MoMaNew.csv','Met.csv', 'Nga.csv', 'Tate.csv']\n",
    "names = ['MoMa','Met', 'Nga', 'Tate']\n",
    "for museum in museums:\n",
    "    with open(museum, mode='r', encoding='utf-8') as csvfile:\n",
    "        reader = csv.DictReader(csvfile)\n",
    "        acquisitionyears=[]\n",
    "        for item in reader:\n",
    "            if '.' in item['DateAcquired']:\n",
    "                    item['DateAcquired']= item['DateAcquired'].split('.')[0]\n",
    "            if item['DateAcquired'] != '' and item['DateAcquired'] != 'Object Number':\n",
    "                acquisitionyears.append(item['DateAcquired'])\n",
    "        acquisitionyears.sort()\n",
    "        name = names.pop(0)\n",
    "    print(\"First recorderd acquisition\", name, \"dates back to\", acquisitionyears[0])\n",
    "    print(\"Last recorded acquisition\", name, \"dates back to\", acquisitionyears[-1])"
   ]
  },
  {
   "cell_type": "markdown",
   "id": "98f6550b",
   "metadata": {},
   "source": [
    "Total artists' number."
   ]
  },
  {
   "cell_type": "code",
   "execution_count": 14,
   "id": "cc1dba8b",
   "metadata": {},
   "outputs": [],
   "source": [
    "def cleanArtistsTate(name):\n",
    "    if ',' in name:\n",
    "        splitted = name.split(',')\n",
    "        name = ''.join(splitted) \n",
    "        return name"
   ]
  },
  {
   "cell_type": "code",
   "execution_count": 15,
   "id": "66a7d22f",
   "metadata": {},
   "outputs": [],
   "source": [
    "TateNew = Tate.copy(deep=True)\n",
    "TateNew[\"Artist\"] = TateNew[\"Artist\"].apply(cleanArtistsTate)\n",
    "TateNew.to_csv(\"TateNew.csv\")"
   ]
  },
  {
   "cell_type": "code",
   "execution_count": 16,
   "id": "72e3905d",
   "metadata": {},
   "outputs": [
    {
     "name": "stdout",
     "output_type": "stream",
     "text": [
      "Number of artists at MoMa is 14738\n",
      "Number of artists at Met is 60950\n",
      "Number of artists at Tate is 3281\n",
      "Number of artists at Nga is 16860\n"
     ]
    }
   ],
   "source": [
    "museums=['MoMaNew.csv', 'Met.csv', 'TateNew.csv', 'Nga.csv']\n",
    "names = ['MoMa', 'Met','Tate', 'Nga']\n",
    "for museum in museums:\n",
    "    with open(museum, mode='r', encoding='utf-8') as csvfile:\n",
    "        reader = csv.DictReader(csvfile)\n",
    "        artists = set() \n",
    "        for item in reader:\n",
    "            if item['Artist']!= '' and 'Unidentified'not in item['Artist'] and 'Various' not in item['Artist']:\n",
    "                if ',' in item['Artist']:\n",
    "                    item['Artist'] = item['Artist'].split(',')\n",
    "                    for n in range(len(item['Artist'])):\n",
    "                        artist= item['Artist'][n]\n",
    "                        artists.add(artist)\n",
    "                elif '|' in item['Artist']:\n",
    "                    artists_list = item['Artist'].split('|')\n",
    "                    for n in range(len(artists_list)):\n",
    "                        artista= artists_list[n]\n",
    "                        artists.add(artista)\n",
    "                else:\n",
    "                    artists.add(item['Artist'])\n",
    "    name = names.pop(0)\n",
    "    print(\"Number of artists at\", name, \"is\", len(artists) )"
   ]
  },
  {
   "cell_type": "markdown",
   "id": "c6401960",
   "metadata": {},
   "source": [
    "Most represented gender in general?\n",
    "Only for MoMa and Tate since other csv files need Wikidata integration"
   ]
  },
  {
   "cell_type": "code",
   "execution_count": 18,
   "id": "2a5a8663",
   "metadata": {},
   "outputs": [
    {
     "ename": "NameError",
     "evalue": "name 'MoMaNew' is not defined",
     "output_type": "error",
     "traceback": [
      "\u001b[1;31m---------------------------------------------------------------------------\u001b[0m",
      "\u001b[1;31mNameError\u001b[0m                                 Traceback (most recent call last)",
      "\u001b[1;32m~\\AppData\\Local\\Temp/ipykernel_10956/3967098678.py\u001b[0m in \u001b[0;36m<module>\u001b[1;34m\u001b[0m\n\u001b[1;32m----> 1\u001b[1;33m \u001b[0mMoMaGender\u001b[0m \u001b[1;33m=\u001b[0m \u001b[0mMoMaNew\u001b[0m\u001b[1;33m.\u001b[0m\u001b[0mdrop_duplicates\u001b[0m\u001b[1;33m(\u001b[0m\u001b[0msubset\u001b[0m\u001b[1;33m=\u001b[0m\u001b[1;34m'Artist'\u001b[0m\u001b[1;33m,\u001b[0m \u001b[0mkeep\u001b[0m\u001b[1;33m=\u001b[0m\u001b[1;34m\"first\"\u001b[0m\u001b[1;33m)\u001b[0m\u001b[1;33m\u001b[0m\u001b[1;33m\u001b[0m\u001b[0m\n\u001b[0m\u001b[0;32m      2\u001b[0m \u001b[0mMoMaGender\u001b[0m\u001b[1;33m.\u001b[0m\u001b[0mto_csv\u001b[0m\u001b[1;33m(\u001b[0m\u001b[1;34m'MoMaGender.csv'\u001b[0m\u001b[1;33m)\u001b[0m\u001b[1;33m\u001b[0m\u001b[1;33m\u001b[0m\u001b[0m\n",
      "\u001b[1;31mNameError\u001b[0m: name 'MoMaNew' is not defined"
     ]
    }
   ],
   "source": [
    "MoMaGender = MoMaNew.drop_duplicates(subset='Artist', keep=\"first\")\n",
    "MoMaGender.to_csv('MoMaGender.csv')"
   ]
  },
  {
   "cell_type": "code",
   "execution_count": 19,
   "id": "ef467d41",
   "metadata": {},
   "outputs": [],
   "source": [
    "TateGender = Tate.drop_duplicates(subset='Artist', keep=\"first\")\n",
    "TateGender.to_csv('TateGender.csv')"
   ]
  },
  {
   "cell_type": "code",
   "execution_count": 20,
   "id": "f4b4d0a7",
   "metadata": {},
   "outputs": [
    {
     "name": "stdout",
     "output_type": "stream",
     "text": [
      "{'Male': 10474, 'Female': 2809}\n",
      "{'Male': 2791, 'Female': 492}\n"
     ]
    }
   ],
   "source": [
    "museums=['MoMaGender.csv', 'TateGender.csv']\n",
    "names = ['MoMa', 'Tate']\n",
    "for museum in museums:\n",
    "    with open(museum, mode='r', encoding='utf-8') as csvfile:\n",
    "        reader = csv.DictReader(csvfile)\n",
    "        Gender = {'Male':0, 'Female':0}\n",
    "        for item in reader:\n",
    "                if 'Male' in item['Gender']:\n",
    "                    Gender['Male'] += 1\n",
    "                if 'Female' in item['Gender']:\n",
    "                    Gender['Female'] += 1\n",
    "    print(Gender)"
   ]
  },
  {
   "cell_type": "markdown",
   "id": "2998d930",
   "metadata": {},
   "source": [
    "Most represented nationality in general?"
   ]
  },
  {
   "cell_type": "code",
   "execution_count": 117,
   "id": "4cf85c7d",
   "metadata": {},
   "outputs": [],
   "source": [
    "def cleanMoMaNationality(nationality):\n",
    "    if ('(') or (')') in nationality:\n",
    "        a = nationality.replace('(', '').replace(')', ',')\n",
    "    return a.strip()\n",
    "    "
   ]
  },
  {
   "cell_type": "code",
   "execution_count": 108,
   "id": "430f4d86",
   "metadata": {},
   "outputs": [],
   "source": [
    "MoMaProva = MoMa.copy(deep=True)\n",
    "MoMaProva = MoMaProva[MoMaProva['Nationality'].notna()]\n",
    "MoMaProva[\"Nationality\"] = MoMaProva[\"Nationality\"].apply(cleanMoMaNationality)\n",
    "MoMaProva.to_csv('MoMaProva.csv')\n"
   ]
  },
  {
   "cell_type": "code",
   "execution_count": 128,
   "id": "9570d453",
   "metadata": {},
   "outputs": [
    {
     "name": "stdout",
     "output_type": "stream",
     "text": [
      "{'Venezuelan', 'Serbian', 'Scottish', 'Korean', 'Greek', 'Bangladeshi', 'Paraguayan', 'Chinese', 'Latvian', 'Sierra Leonean', 'Italian', 'Kuwaiti', 'Canadian Inuit', 'Sudanese', 'Namibian', 'Yugoslav', 'Argentine', 'Ghanaian', 'Kyrgyz', 'Polish', 'Uruguayan', 'Puerto Rican', 'Georgian', 'Turkish', 'Catalan', 'Vietnamese', 'German', 'Danish', 'Kenyan', 'Belgian', 'Nigerian', 'Macedonian', 'Azerbaijani', 'Haitian', 'Irish', 'Malian', 'Albanian', 'Ecuadorian', 'Croatian', 'Bolivian', 'Czech', 'Slovenian', 'Cypriot', 'South African', 'Spanish', 'Filipino', 'Hungarian', 'Colombian', 'Bahamian', 'Senegalese', 'Egyptian', 'Romanian', 'Estonian', 'Icelandic', 'Swedish', 'Cambodian', 'Cameroonian', 'Singaporean', 'Burkinabé', 'Salvadoran', 'Costa Rican', 'Peruvian', 'Tanzanian', 'Thai', 'Ukrainian', 'Sahrawi', 'Brazilian', 'Persian', 'Guatemalan', 'British', 'Beninese', 'Taiwanese', 'New Zealander', 'Bosnian', 'Ugandan', 'Iranian', 'Chilean', 'Indian', 'Algerian', 'Welsh', 'Coptic', 'Ivorian', 'Swiss', 'Finnish', 'Iraqi', 'Pakistani', 'Cuban', 'Malaysian', 'American', 'Dutch', 'Zimbabwean', 'Lithuanian', 'Panamanian', 'Afghan', 'Ethiopian', 'Nicaraguan', 'Slovak', 'Japanese', 'Congolese', 'Czechoslovakian', 'Emirati', 'Norwegian', 'French', 'Russian', 'Bulgarian', 'Moroccan', 'Palestinian', 'Canadian', 'Mozambican', 'Austrian', 'Australian', 'Luxembourger', 'Israeli', 'Mexican', 'Portuguese', 'Tunisian', 'Native American', 'Lebanese'}\n",
      "118\n"
     ]
    }
   ],
   "source": [
    "museums=['MoMaProva.csv']\n",
    "names = ['MoMa']\n",
    "for museum in museums:\n",
    "    with open(museum, mode='r', encoding='utf-8') as csvfile:\n",
    "        reader = csv.DictReader(csvfile)\n",
    "        nationalities = set() \n",
    "        for item in reader:\n",
    "            #print(item['Nationality'])\n",
    "           \n",
    "\n",
    "            if ',' in item['Nationality']:\n",
    "                    item['Nationality'] = item['Nationality'].split(',')\n",
    "                    for n in range(len(item['Nationality'])):\n",
    "                        nationality= item['Nationality'][n].strip()\n",
    "                        nationalities.add(nationality)\n",
    "            else:\n",
    "                    nationalities.add(item['Nationality'])\n",
    "        count_naz= set()\n",
    "        for el in nationalities:\n",
    "            if el != '' and el != 'Nationality unknown' and el != ',' and el != ' ':\n",
    "                count_naz.add(el)\n",
    "                \n",
    "print(count_naz)\n",
    "print(len(count_naz))\n"
   ]
  },
  {
   "cell_type": "code",
   "execution_count": 120,
   "id": "7aa41e95",
   "metadata": {},
   "outputs": [
    {
     "name": "stdout",
     "output_type": "stream",
     "text": [
      "{'Venezuelan', 'Serbian', 'Scottish', 'Korean', 'Greek', 'Bangladeshi', 'Paraguayan', 'Chinese', 'Latvian', 'Sierra Leonean', 'Italian', 'Kuwaiti', 'Canadian Inuit', 'Sudanese', 'Namibian', 'Yugoslav', 'Argentine', 'Ghanaian', 'Kyrgyz', 'Polish', 'Uruguayan', 'Puerto Rican', 'Georgian', 'Turkish', 'Catalan', 'Vietnamese', 'German', 'Danish', 'Kenyan', 'Belgian', 'Nigerian', 'Macedonian', 'Azerbaijani', 'Haitian', 'Irish', 'Malian', 'Albanian', 'Ecuadorian', 'Croatian', 'Bolivian', 'Slovenian', 'Czech', 'Cypriot', 'South African', 'Spanish', 'Filipino', 'Hungarian', 'Colombian', 'Bahamian', 'Senegalese', 'Egyptian', 'Romanian', 'Estonian', 'Icelandic', 'Swedish', 'Cambodian', 'Cameroonian', 'Singaporean', 'Burkinabé', 'Salvadoran', 'Costa Rican', 'Peruvian', 'Tanzanian', 'Thai', 'Ukrainian', 'Sahrawi', 'Brazilian', 'Persian', 'Guatemalan', 'British', 'Beninese', 'Taiwanese', 'New Zealander', 'Bosnian', 'Ugandan', 'Iranian', 'Indian', 'Chilean', 'Algerian', 'Welsh', 'Coptic', 'Ivorian', 'Swiss', 'Finnish', 'Iraqi', 'Pakistani', 'Cuban', 'Malaysian', 'American', 'Dutch', 'Lithuanian', 'Zimbabwean', 'Afghan', 'Panamanian', 'Ethiopian', 'Nicaraguan', 'Slovak', 'Japanese', 'Congolese', 'Czechoslovakian', 'Emirati', 'Norwegian', 'Russian', 'French', 'Bulgarian', 'Moroccan', 'Palestinian', 'Canadian', 'Mozambican', 'Austrian', 'Australian', 'Luxembourger', 'Israeli', 'Mexican', 'Tunisian', 'Portuguese', 'Native American', 'Lebanese'}\n",
      "118\n"
     ]
    }
   ],
   "source": [
    "'''museums=['MoMaNew.csv']\n",
    "names = ['MoMa']\n",
    "for museum in museums:\n",
    "    with open(museum, mode='r', encoding='utf-8') as csvfile:\n",
    "        reader = csv.DictReader(csvfile)\n",
    "        nationalities = set() \n",
    "        for item in reader:\n",
    "            if ' ' in item['Nationality']:\n",
    "                    item['Nationality'] = item['Nationality'].split(') ')\n",
    "                    for n in range(len(item['Nationality'])):\n",
    "                        nationality= item['Nationality'][n]\n",
    "                        nationalities.add(nationality)\n",
    "            else:\n",
    "                    nationalities.add(item['Nationality'])\n",
    "        nationalities_clean = set()\n",
    "        for el in nationalities:\n",
    "            a = el.replace('(', '').replace(')','')\n",
    "            nationalities_clean.add(a)\n",
    "        count_naz= set()\n",
    "        for el in nationalities_clean:\n",
    "            if el != '' and el != 'Nationality unknown':\n",
    "                count_naz.add(el)\n",
    "print(count_naz)\n",
    "print(len(count_naz))\n",
    "'''"
   ]
  },
  {
   "cell_type": "code",
   "execution_count": 129,
   "id": "b2f6c509",
   "metadata": {},
   "outputs": [
    {
     "name": "stdout",
     "output_type": "stream",
     "text": [
      "{'Venezuelan': 68, 'Serbian': 17, 'Scottish': 22, 'Korean': 35, 'Greek': 13, 'Bangladeshi': 1, 'Paraguayan': 3, 'Chinese': 106, 'Latvian': 13, 'Sierra Leonean': 1, 'Italian': 517, 'Kuwaiti': 1, 'Canadian Inuit': 3, 'Sudanese': 2, 'Namibian': 2, 'Yugoslav': 1, 'Argentine': 150, 'Ghanaian': 4, 'Kyrgyz': 1, 'Polish': 148, 'Uruguayan': 24, 'Puerto Rican': 6, 'Georgian': 22, 'Turkish': 20, 'Catalan': 1, 'Vietnamese': 3, 'German': 1163, 'Danish': 125, 'Kenyan': 2, 'Belgian': 125, 'Nigerian': 6, 'Macedonian': 5, 'Azerbaijani': 2, 'Haitian': 16, 'Irish': 24, 'Malian': 3, 'Albanian': 4, 'Ecuadorian': 4, 'Croatian': 47, 'Bolivian': 3, 'Czech': 98, 'Slovenian': 19, 'Cypriot': 1, 'South African': 68, 'Spanish': 185, 'Filipino': 3, 'Hungarian': 86, 'Colombian': 57, 'Bahamian': 1, 'Senegalese': 2, 'Egyptian': 14, 'Romanian': 27, 'Estonian': 2, 'Icelandic': 21, 'Swedish': 123, 'Cambodian': 1, 'Cameroonian': 2, 'Singaporean': 2, 'Burkinabé': 1, 'Salvadoran': 2, 'Costa Rican': 2, 'Peruvian': 37, 'Tanzanian': 1, 'Thai': 7, 'Ukrainian': 40, 'Sahrawi': 1, 'Brazilian': 185, 'Persian': 0, 'Guatemalan': 7, 'British': 962, 'Beninese': 1, 'Taiwanese': 4, 'New Zealander': 10, 'Bosnian': 9, 'Ugandan': 1, 'Iranian': 11, 'Chilean': 68, 'Indian': 39, 'Algerian': 4, 'Welsh': 4, 'Coptic': 1, 'Ivorian': 2, 'Swiss': 421, 'Finnish': 52, 'Iraqi': 2, 'Pakistani': 4, 'Cuban': 71, 'Malaysian': 2, 'American': 5584, 'Dutch': 288, 'Zimbabwean': 5, 'Lithuanian': 5, 'Panamanian': 2, 'Afghan': 1, 'Ethiopian': 2, 'Nicaraguan': 2, 'Slovak': 9, 'Japanese': 545, 'Congolese': 6, 'Czechoslovakian': 3, 'Emirati': 1, 'Norwegian': 35, 'French': 1041, 'Russian': 374, 'Bulgarian': 5, 'Moroccan': 8, 'Palestinian': 3, 'Canadian': 205, 'Mozambican': 1, 'Austrian': 277, 'Australian': 59, 'Luxembourger': 3, 'Israeli': 77, 'Mexican': 159, 'Portuguese': 16, 'Tunisian': 2, 'Native American': 10, 'Lebanese': 10}\n"
     ]
    }
   ],
   "source": [
    "museums=['MoMaGender.csv']\n",
    "names = ['MoMa']\n",
    "for museum in museums:\n",
    "    with open(museum, mode='r', encoding='utf-8') as csvfile:\n",
    "        reader = csv.DictReader(csvfile)\n",
    "        Nationalities ={}\n",
    "        for nationality in count_naz:  \n",
    "            Nationalities[nationality]= 0\n",
    "        for item in reader:\n",
    "            for naz in count_naz:\n",
    "                    if naz in item['Nationality']:\n",
    "                        Nationalities[naz] += 1 \n",
    "    print(Nationalities)"
   ]
  },
  {
   "cell_type": "code",
   "execution_count": 130,
   "id": "1399d6ba",
   "metadata": {},
   "outputs": [],
   "source": [
    "counts = MoMa['Nationality'].value_counts()\n",
    "counts.to_csv('nationalities.csv')"
   ]
  },
  {
   "cell_type": "code",
   "execution_count": 131,
   "id": "c2553270",
   "metadata": {},
   "outputs": [],
   "source": [
    "def cleanNazMet(naz):\n",
    "    if ',' in naz:\n",
    "        naz = naz.split(',')[0]\n",
    "    if '(' in naz:\n",
    "        naz = naz.split('(')[0]\n",
    "    if '?' in naz:\n",
    "        naz = naz.replace('?', '')\n",
    "    return naz   "
   ]
  },
  {
   "cell_type": "code",
   "execution_count": 132,
   "id": "d0ebf6fb",
   "metadata": {},
   "outputs": [],
   "source": [
    "MetNew = Met.copy(deep=True)\n",
    "MetNew = MetNew[MetNew['Nationality'].notna()]\n",
    "MetNew[\"Nationality\"] = MetNew[\"Nationality\"].apply(cleanNazMet)\n",
    "MetNew.to_csv(\"MetNew.csv\")"
   ]
  },
  {
   "cell_type": "code",
   "execution_count": 133,
   "id": "0fe3bbfc",
   "metadata": {},
   "outputs": [
    {
     "name": "stdout",
     "output_type": "stream",
     "text": [
      "{'European', 'Hannover', 'French 1866–1932', 'England', 'Inuit', 'Venezuelan', 'French/Dutch', 'Scottish', 'Guatemalan or Mexican', 'French and Canadian', 'Korean', 'South Africa', 'Mexican or Spanish', 'Italian ', 'Greek', 'Dutch German', 'French ', 'Japanese and German', 'Chinese', 'Maltese', 'German-born sculptor later active in Switzerland', 'Islamic', 'Sri Lankan', 'British/Irish', 'Italian [search purposes only]', 'Italian', 'French or Dutch', 'Kuwaiti', 'Roman', 'Ancient Greek', 'American ', 'French or American', 'Northern European', 'Ghanaian', 'Belgium', 'Spanish/Mexican', 'French/Flemish', 'Manchu', 'Continental', 'American German', 'Austrian or German', 'Uruguayan', 'Puerto Rican', 'Southern Netherlands', 'Fench', 'Japanese ', 'GErman', 'Norway', 'BRitish', 'French British', 'Georgian', 'Turkish', 'British ', 'Franco-Netherlandish', 'Dem. Republic of the Congo', 'French and English', 'German', 'Khitan', 'Danish', 'American or British', 'Italian or Spanish', 'Saint Lucian', 'Dutch ', 'Belgian', 'Nigerian', 'Central European', 'Klingenthal', 'Netherlandish/French', 'German/Swiss', 'Dominican', 'Netherlandish ', 'Hungarian or Austrian', 'Samoan', 'Polish ', 'Uganda', 'Netherlandish', 'Irish', 'Netherlandish or German', 'Malian', 'Albanian', 'France', 'Asmat', 'American Irish', 'Ecuadorian', 'Croatian', 'Burgundian', 'Austro-Hungarian', 'Czech', 'British French', 'South African', 'Spanish', 'probably Swiss', 'Lombard', 'New York', 'Hungarian', 'Afghani', 'Chiricahua Apache Native American', 'Colombian', 'British American', 'Southern Germany or Austria', 'Prussian', 'British or French', 'Flemish', 'Mexican-American', 'Franco-Flemish', 'Salvadoran', 'Congo', 'Canadian ', 'Armenian-Iranian', 'Florence', 'American Russian', 'Japan', 'Egyptian', 'Finish', 'American and British', 'German ', 'Romanian', 'Nigeria/Cameroon', 'Central European or French', 'Estonian', 'Ukranian', 'Iran', 'Icelandic', 'Swedish', 'Southern Italy', 'Tajikistan', 'Cameroonian', 'Slovakian', 'French Flemish', 'North Netherlandish', 'London', 'Franco-American', 'Costa Rican', 'Iraqi Kurdish', 'italian', 'Peruvian', 'Andorran', 'Paris', 'Polish Lithunanian', 'Nigeria', 'Venice', 'American Romanian', 'Ukrainian', 'Brazilian', 'Sierra Leone', 'Tibetan', 'Persian', 'British or American', 'Guatemalan', 'Mexican American', 'Emilian', 'British', 'possibly French', 'Gubbio', 'Spanish ', 'German/Solingen', 'Algonquin family', 'Aachen', 'American born England', 'Swiss or Austrian', 'North African ', 'Taiwanese', 'Belarussian', 'Russian ', 'British or Dutch', 'Italy', 'South Netherlandish', 'U.S. ', 'Swiss American', 'Nethrlandish', 'Northern France', 'Antelope Valley Washoe', 'New Zealander', 'Upper Rhine', 'French Dutch', 'Iranian', 'Indian', 'Chilean', 'Germany', 'Algerian', 'Welsh', 'Democratic Republic of Congo', 'Argentinian', 'Swiss', 'Greenlandish', 'American and French', 'Finnish', 'Naples', ' ', 'Pakistani', 'Japanese American', 'Cuban', 'Continental/Swiss', 'Serbo-croat', 'Tuscany', 'Kashmir', 'West Coast Africa', 'French American', 'Netherlandish / French', 'American and Canadian', 'Sienese', 'Manufacturer', 'Italian French', 'Malaysian', 'Denmark', 'American', 'Dutch', 'Lithuanian', 'Danish-Icelandic', 'Spainish', 'Panamanian', 'Brabant ', 'french', 'Scottish or British', 'active in France by 1894', 'Italian or French', 'Lebanese', 'Japanese', 'French Italian', 'Paris and London', 'Bremen', 'Alsatian', 'United States', 'Britsh', 'Iranian-American', 'Hanoverian ', 'Liechtensteiner', 'Czechoslovakian', 'Norwegian', 'Ottoman', 'American or German', 'French', 'Russian', 'Scandinavian', 'Veronese', 'Africa', 'Bulgarian', 'Austrian German', 'Austrian/German', 'Yugoslavian', 'Scottish or American', 'Bohemian', 'possibly Iranian', 'Armenian', 'Siena', 'Mexico', 'Mongolian', 'American Indian', 'American born Britain', 'Canadian', 'Venetian', 'Geman', 'Austrian', 'Australian', 'Byzantine', 'Israeli', 'English', 'Mexican', 'French or Italian', 'Rumanian', 'Portuguese', 'Tunisian', 'Haida', 'Native American', 'Polish', 'German American', 'Jamaican', 'Polish or German', 'French or German'}\n"
     ]
    }
   ],
   "source": [
    "museums=['MetNew.csv']\n",
    "names = ['Met']\n",
    "for museum in museums:\n",
    "    with open(museum, mode='r', encoding='utf-8') as csvfile:\n",
    "        reader = csv.DictReader(csvfile)\n",
    "        nationalities = set() \n",
    "        for item in reader:\n",
    "            if '|' in item['Nationality']:\n",
    "                    item['Nationality'] = item['Nationality'].split('|')\n",
    "                    for n in range(len(item['Nationality'])):\n",
    "                        nationality= item['Nationality'][n]\n",
    "                        nationalities.add(nationality)\n",
    "            else:\n",
    "                nationalities.add(item['Nationality'])\n",
    "'''  \n",
    "        clean_naz = set()\n",
    "        for el in nationalities:\n",
    "            if ',' in el:\n",
    "                el = el.split(',')[0]\n",
    "            if '(' in el:\n",
    "                el = el.split('(')[0]\n",
    "            clean_naz.add(el)    \n",
    "        final_naz = set()\n",
    "        for el in clean_naz:\n",
    "            if el != '':\n",
    "                final_naz.add(el)\n",
    "'''  \n",
    "print(nationalities)"
   ]
  },
  {
   "cell_type": "code",
   "execution_count": 134,
   "id": "262730a6",
   "metadata": {},
   "outputs": [
    {
     "name": "stdout",
     "output_type": "stream",
     "text": [
      "{'European': 16, 'Hannover': 2, 'French 1866–1932': 1, 'England': 3, 'Inuit': 3, 'Venezuelan': 15, 'French/Dutch': 33, 'Scottish': 416, 'Guatemalan or Mexican': 1, 'French and Canadian': 5, 'Korean': 38, 'South Africa': 32, 'Mexican or Spanish': 1, 'Italian ': 87, 'Greek': 170, 'Dutch German': 6, 'French ': 34, 'Japanese and German': 5, 'Chinese': 2058, 'Maltese': 1, 'German-born sculptor later active in Switzerland': 1, 'Islamic': 2, 'Sri Lankan': 1, 'British/Irish': 1, 'Italian [search purposes only]': 1, 'Italian': 24524, 'French or Dutch': 1, 'Kuwaiti': 3, 'Roman': 582, 'Ancient Greek': 2, 'American ': 548, 'French or American': 1, 'Northern European': 4, 'Ghanaian': 4, 'Belgium': 1, 'Spanish/Mexican': 1, 'French/Flemish': 1, 'Manchu': 1, 'Continental': 14, 'American German': 9, 'Austrian or German': 5, 'Uruguayan': 14, 'Puerto Rican': 10, 'Southern Netherlands': 8, 'Fench': 9, 'Japanese ': 28, 'GErman': 1, 'Norway': 1, 'BRitish': 1, 'French British': 1, 'Georgian': 1, 'Turkish': 38, 'British ': 31, 'Franco-Netherlandish': 6, 'Dem. Republic of the Congo': 1, 'French and English': 2, 'German': 11583, 'Khitan': 1, 'Danish': 436, 'American or British': 1, 'Italian or Spanish': 54, 'Saint Lucian': 5, 'Dutch ': 7, 'Belgian': 476, 'Nigerian': 20, 'Central European': 11, 'Klingenthal': 1, 'Netherlandish/French': 2, 'German/Swiss': 1, 'Dominican': 1, 'Netherlandish ': 3, 'Hungarian or Austrian': 1, 'Samoan': 5, 'Polish ': 4, 'Uganda': 1, 'Netherlandish': 5309, 'Irish': 468, 'Netherlandish or German': 1, 'Malian': 23, 'Albanian': 1, 'France': 12, 'Asmat': 2, 'American Irish': 1, 'Ecuadorian': 1, 'Croatian': 4, 'Burgundian': 2, 'Austro-Hungarian': 42, 'Czech': 268, 'British French': 1, 'South African': 30, 'Spanish': 2509, 'probably Swiss': 1, 'Lombard': 1, 'New York': 5, 'Hungarian': 250, 'Afghani': 1, 'Chiricahua Apache Native American': 1, 'Colombian': 7, 'British American': 21, 'Southern Germany or Austria': 1, 'Prussian': 1, 'British or French': 1, 'Flemish': 1560, 'Mexican-American': 1, 'Franco-Flemish': 1, 'Salvadoran': 1, 'Congo': 5, 'Canadian ': 2, 'Armenian-Iranian': 2, 'Florence': 1, 'American Russian': 2, 'Japan': 6527, 'Egyptian': 10, 'Finish': 5, 'American and British': 2, 'German ': 49, 'Romanian': 13, 'Nigeria/Cameroon': 1, 'Central European or French': 1, 'Estonian': 1, 'Ukranian': 6, 'Iran': 44, 'Icelandic': 4, 'Swedish': 294, 'Southern Italy': 2, 'Tajikistan': 1, 'Cameroonian': 2, 'Slovakian': 1, 'French Flemish': 2, 'North Netherlandish': 3, 'London': 4, 'Franco-American': 1, 'Costa Rican': 1, 'Iraqi Kurdish': 1, 'italian': 2, 'Peruvian': 11, 'Andorran': 1, 'Paris': 3, 'Polish Lithunanian': 1, 'Nigeria': 22, 'Venice': 1, 'American Romanian': 1, 'Ukrainian': 28, 'Brazilian': 46, 'Sierra Leone': 1, 'Tibetan': 2, 'Persian': 6, 'British or American': 5, 'Guatemalan': 2, 'Mexican American': 1, 'Emilian': 1, 'British': 18804, 'possibly French': 1, 'Gubbio': 2, 'Spanish ': 4, 'German/Solingen': 1, 'Algonquin family': 1, 'Aachen': 1, 'American born England': 1, 'Swiss or Austrian': 1, 'North African ': 1, 'Taiwanese': 1, 'Belarussian': 1, 'Russian ': 3, 'British or Dutch': 1, 'Italy': 4, 'South Netherlandish': 6, 'U.S. ': 1, 'Swiss American': 1, 'Nethrlandish': 1, 'Northern France': 5, 'Antelope Valley Washoe': 1, 'New Zealander': 5, 'Upper Rhine': 1, 'French Dutch': 1, 'Iranian': 42, 'Indian': 226, 'Chilean': 18, 'Germany': 8, 'Algerian': 17, 'Welsh': 1, 'Democratic Republic of Congo': 1, 'Argentinian': 19, 'Swiss': 1008, 'Greenlandish': 1, 'American and French': 37, 'Finnish': 136, 'Naples': 1, ' ': 111644, 'Pakistani': 14, 'Japanese American': 22, 'Cuban': 9, 'Continental/Swiss': 2, 'Serbo-croat': 1, 'Tuscany': 4, 'Kashmir': 1, 'West Coast Africa': 1, 'French American': 1, 'Netherlandish / French': 1, 'American and Canadian': 3, 'Sienese': 3, 'Manufacturer': 1, 'Italian French': 2, 'Malaysian': 31, 'Denmark': 1, 'American': 68664, 'Dutch': 4228, 'Lithuanian': 33, 'Danish-Icelandic': 3, 'Spainish': 1, 'Panamanian': 1, 'Brabant ': 1, 'french': 1, 'Scottish or British': 3, 'active in France by 1894': 1, 'Italian or French': 15, 'Lebanese': 15, 'Japanese': 6526, 'French Italian': 6, 'Paris and London': 2, 'Bremen': 1, 'Alsatian': 1, 'United States': 15, 'Britsh': 1, 'Iranian-American': 1, 'Hanoverian ': 1, 'Liechtensteiner': 1, 'Czechoslovakian': 28, 'Norwegian': 85, 'Ottoman': 2, 'American or German': 1, 'French': 41431, 'Russian': 778, 'Scandinavian': 5, 'Veronese': 1, 'Africa': 39, 'Bulgarian': 1, 'Austrian German': 2, 'Austrian/German': 1, 'Yugoslavian': 4, 'Scottish or American': 1, 'Bohemian': 1299, 'possibly Iranian': 1, 'Armenian': 5, 'Siena': 2, 'Mexico': 25, 'Mongolian': 4, 'American Indian': 2, 'American born Britain': 3, 'Canadian': 247, 'Venetian': 3, 'Geman': 7, 'Austrian': 1820, 'Australian': 86, 'Byzantine': 1, 'Israeli': 61, 'English': 9, 'Mexican': 360, 'French or Italian': 1, 'Rumanian': 2, 'Portuguese': 33, 'Tunisian': 1, 'Haida': 3, 'Native American': 5, 'Polish': 144, 'German American': 12, 'Jamaican': 1, 'Polish or German': 1, 'French or German': 1}\n"
     ]
    }
   ],
   "source": [
    "with open('MetNew.csv', mode='r', encoding='utf-8') as csvfile:\n",
    "        reader = csv.DictReader(csvfile)\n",
    "        MetNationalities ={}\n",
    "        for nationality in nationalities:  \n",
    "            MetNationalities[nationality]= 0\n",
    "        for item in reader:\n",
    "            for naz in nationalities:\n",
    "                    if naz in item['Nationality']:\n",
    "                        MetNationalities[naz] += 1 \n",
    "print(MetNationalities)"
   ]
  },
  {
   "cell_type": "markdown",
   "id": "0bb30d28",
   "metadata": {},
   "source": [
    "#Our analysis.\n",
    "<br>\n",
    "1. What are the most acquired artists in museums (in general)?\n",
    "    - Is there a gender gap in the selection of artists?\n",
    "    - What are the most represented nationalities (in general)?\n",
    "    - What are the most represented movements or genres (in general)?\n",
    "2. How have acquisition criteria changed (over time) in museums?\n",
    "    - In which years are artists' works mostly acquired?\n",
    "    - When does the gender gap decreases (if it does)?\n",
    "    - In which years artists' nationalities more influent on the selection?\n",
    "    - In which years artists' movements/genres more influent on the selection?\n",
    "3. If we compare criteria of all museums, in general and over time, do we see any similarity or significant difference?\n",
    "    - Do certain museums acquire more works based on artists/artists' gender/nationality/movement than others?"
   ]
  },
  {
   "cell_type": "markdown",
   "id": "f72e670d",
   "metadata": {},
   "source": [
    "Acquisition criteria.\n",
    "1.  In which years are artists' works mostly acquired?<br>\n",
    "To answer, we need to count how many times each year shows up in the DateAcquired column."
   ]
  },
  {
   "cell_type": "code",
   "execution_count": null,
   "id": "b500263f",
   "metadata": {},
   "outputs": [],
   "source": [
    "MoMa['year'] = pd.DatetimeIndex(MoMa['DateAcquired']).year\n",
    "MoMaNew['DateAcquired'] = MoMa['year']\n",
    "MoMaNew = MoMaNew[MoMaNew['DateAcquired'].notna()]\n",
    "MoMaNew.to_csv(\"MoMaNew.csv\")"
   ]
  },
  {
   "cell_type": "code",
   "execution_count": null,
   "id": "3f16c4d0",
   "metadata": {},
   "outputs": [],
   "source": [
    "with open('MoMaNew.csv', mode='r', encoding='utf-8') as csvfile:\n",
    "    reader = csv.DictReader(csvfile)\n",
    "    years={}\n",
    "    for item in reader:\n",
    "        if item['DateAcquired']not in years:\n",
    "            years[item['DateAcquired']]= 1\n",
    "        else:\n",
    "            years[item['DateAcquired']]+= 1\n",
    "\n",
    "    print(years)\n",
    "    #all_years=list(years.keys())\n",
    "    #print(sorted(all_years))\n",
    "    "
   ]
  },
  {
   "cell_type": "markdown",
   "id": "66ae1086",
   "metadata": {},
   "source": [
    "Trova modo di ordinare per value o usa la libreria che sa Laura\n",
    "Visualizzazione :)"
   ]
  },
  {
   "cell_type": "code",
   "execution_count": null,
   "id": "531b72a0",
   "metadata": {},
   "outputs": [],
   "source": [
    "new_dict={}\n",
    "for key in years:\n",
    "    key_int=key.split('.')[0]\n",
    "    key_int=int(key_int)\n",
    "    if key_int in range(1928,1941):\n",
    "        if '1930s' not in new_dict.keys():\n",
    "               new_dict['1930s']= years[key]\n",
    "        else:\n",
    "            new_dict['1930s'] += years[key]\n",
    "    if key_int in range(1940,1951):\n",
    "        if '1940s' not in new_dict.keys():\n",
    "               new_dict['1940s']= years[key]\n",
    "        else:\n",
    "            new_dict['1940s'] += years[key]\n",
    "    \n",
    "    if key_int in range(1950,1961):\n",
    "        if '1950s' not in new_dict.keys():\n",
    "               new_dict['1950s']= years[key]\n",
    "        else:\n",
    "            new_dict['1950s'] += years[key]\n",
    "    \n",
    "    if key_int in range(1960,1971):\n",
    "        if '1960s' not in new_dict.keys():\n",
    "               new_dict['1960s']= years[key]\n",
    "        else:\n",
    "            new_dict['1960s'] += years[key]\n",
    "    \n",
    "    if key_int in range(1970,1981):\n",
    "        if '1970s' not in new_dict.keys():\n",
    "               new_dict['1970s']= years[key]\n",
    "        else:\n",
    "            new_dict['1970s'] += years[key]\n",
    "    if key_int in range(1980,1991):\n",
    "        if '1980s' not in new_dict.keys():\n",
    "               new_dict['1980s']= years[key]\n",
    "        else:\n",
    "            new_dict['1980s'] += years[key]\n",
    "    \n",
    "    if key_int in range(1990,2001):\n",
    "        if '1990s' not in new_dict.keys():\n",
    "               new_dict['1990s']= years[key]\n",
    "        else:\n",
    "            new_dict['1990s'] += years[key]\n",
    "        \n",
    "    \n",
    "print(new_dict)\n",
    "    "
   ]
  },
  {
   "cell_type": "markdown",
   "id": "17d03edf",
   "metadata": {},
   "source": [
    "When does the gender gap decreases (if it does)? <br>\n",
    "Per ogni 10 anni, percentuale di uomini e donne acquisiti e differenza."
   ]
  },
  {
   "cell_type": "code",
   "execution_count": null,
   "id": "7ed35196",
   "metadata": {},
   "outputs": [],
   "source": [
    "with open('MoMaNew.csv', mode='r', encoding='utf-8') as csvfile:\n",
    "    reader = csv.DictReader(csvfile)\n",
    "    years={}\n",
    "    for item in reader:\n",
    "        if item['DateAcquired']not in years:\n",
    "            years[item['DateAcquired']]= 1\n",
    "        else:\n",
    "            years[item['DateAcquired']]+= 1\n",
    "\n",
    "    print(years)"
   ]
  },
  {
   "cell_type": "markdown",
   "id": "6778dda1",
   "metadata": {},
   "source": [
    "When does the gender gap decreases (if it does)?\n",
    "Per ogni 10 anni, percentuale di uomini e donne acquisiti e differenza.\n",
    "\n",
    "In which years artists' nationalities more influent on the selection?\n",
    "Per ogni 10 anni, percentuale di nazionalità acquisite e differenza.\n",
    "\n",
    "In which years artists'movements/genres more influent on the selection?\n",
    "Per ogni 10 anni, percentuale di nazionalità acquisite e differenza."
   ]
  },
  {
   "cell_type": "markdown",
   "id": "f39a380e",
   "metadata": {},
   "source": [
    "Nga non ha Gender\n",
    "Met molti Gender sono NaN\n"
   ]
  }
 ],
 "metadata": {
  "kernelspec": {
   "display_name": "Python 3 (ipykernel)",
   "language": "python",
   "name": "python3"
  },
  "language_info": {
   "codemirror_mode": {
    "name": "ipython",
    "version": 3
   },
   "file_extension": ".py",
   "mimetype": "text/x-python",
   "name": "python",
   "nbconvert_exporter": "python",
   "pygments_lexer": "ipython3",
   "version": "3.9.0"
  }
 },
 "nbformat": 4,
 "nbformat_minor": 5
}
