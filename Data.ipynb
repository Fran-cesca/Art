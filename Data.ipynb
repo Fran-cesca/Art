{
 "cells": [
  {
   "cell_type": "markdown",
   "id": "48581096",
   "metadata": {},
   "source": [
    "#NOME FIGO\n",
    "Art and history of art are no sealed compartments: they are heavily inter-dependent with social, political, economic factors, which in turn influence our very perception of what art is.\n",
    "\n",
    "Cultural institutions and museums in particular play a fundamental role in this intertwined dynamics: through their selection activity, they have the potential to shape the public understanding of arts and its modifications throughout time. \n",
    "In some way, what makes into museums makes into history of art.\n",
    "\n",
    "From these considerations stems our analysis: how do external (social, political, economic) factors influence the perception of art and its history?\n",
    "A way to investigate it is by looking at the greatest and most representative museums around the world, and at their acquisition policies and campaigns in particular.\n",
    "\n",
    "Our key questions:\n",
    "In which ways have the acquisition campaigns of the major museums in the world changed throughout the years? \n",
    "\n",
    "\n",
    "Our workflow:\n",
    "1. Interrogate WikiData:\n",
    "    - What are the biggest collections around the world?\n",
    "2. Find csv files for some of the major museums.\n",
    "3. Select some representative time slots (both internal and external factors).\n",
    "4. Analyse acquisitions during these time slots for every museum and compare:\n",
    "    a) Difference between different slots in the same museum;\n",
    "    b) Difference between different museums for the same time slot;\n",
    "\n",
    "Our questions:\n",
    "- What was the initial nucleus of each museum? \n",
    "- Internal survey: Is there a significant date or decade for the acquisitions? \n",
    "- External survey: What are the acquisition trends around the Xs/between the x and the y? / What are the acquisition trends within and across these museums? \n",
    "- During these years, who are the most represented makers? What is the most represented gender? What is the most represented movement? What is the most represented nationality? \n",
    "\n",
    "\n",
    "We analysed 5/4 of the (MET, MoMa, N+, Cleveland?, Tate) "
   ]
  },
  {
   "cell_type": "markdown",
   "id": "4368dc5d",
   "metadata": {},
   "source": [
    "Wikidata interrogation: failure.\n",
    "\n",
    "1. What are the largest art collections?\n",
    "\n",
    "SELECT ?museum (COUNT(?work) AS ?works) WHERE {\n",
    "  ?work wdt:P195 ?museum.\n",
    "  ?museum wdt:P31 wd:Q207694\n",
    "  }\n",
    "GROUP BY ?museum \n",
    "ORDER BY DESC(?works)\n",
    "\n",
    "2.  Which were the most visited museums in 2018?\n",
    "\n",
    "SELECT ?museumLabel ?visitors ?year\n",
    "WHERE {\n",
    "  ?museum wdt:P31 wd:Q207694;\n",
    "          wdt:P1705 ?museumLabel;\n",
    "          wdt:P1174 ?visitors;\n",
    "          p:P1174/pq:P585 ?year .\n",
    "FILTER(YEAR(?year) = 2018).\n",
    "}\n",
    "\n",
    "ORDER BY DESC(?visitors)"
   ]
  },
  {
   "cell_type": "markdown",
   "id": "e4267ffa",
   "metadata": {},
   "source": [
    "Since WikiData was not providing reliable results, we decided to go back to its sources (The Art Newspaper https://www.theartnewspaper.com/) and manually collect data about the most visited museums in the last four years(2018-2022).\n",
    "\n",
    "https://onedrive.live.com/view.aspx?resid=E34DDE1A3F2F2160!138&ithint=file%2cxlsx&authkey=!AN4u-K4bko37iOU\n",
    "    \n",
    "We verified the availability of open datasets for each of the top 20 most visited museums on this GitHub repository (https://github.com/Ambrosiani/museums-on-github), containing a list of museums with GitHub accounts.\n",
    "\n",
    "Our analysis led us to the decision to focus on four museums:\n",
    "- Tate Modern, London\n",
    "- MoMa, NY\n",
    "- Met, NY\n",
    "- National Gallery of Art, Washington DC\n",
    "\n",
    "**Info generale sui musei."
   ]
  },
  {
   "cell_type": "code",
   "execution_count": 3,
   "id": "cc975d5b",
   "metadata": {},
   "outputs": [],
   "source": [
    "import pandas as pd\n",
    "import csv\n",
    "import re"
   ]
  },
  {
   "cell_type": "markdown",
   "id": "70b791fb",
   "metadata": {},
   "source": [
    "#MoMa "
   ]
  },
  {
   "cell_type": "code",
   "execution_count": 11,
   "id": "2a310a72",
   "metadata": {},
   "outputs": [],
   "source": [
    "spreadsheet = pd.read_csv('https://media.githubusercontent.com/media/MuseumofModernArt/collection/master/Artworks.csv')\n",
    "pd.set_option('display.max_columns', None)\n",
    "artworks = spreadsheet[['Title', 'Artist', 'ConstituentID', 'Nationality', 'BeginDate', 'EndDate', 'Gender', 'Date', 'Medium', 'CreditLine', 'Classification', 'Department', 'DateAcquired', 'URL']]\n",
    "artists = pd.read_csv('https://media.githubusercontent.com/media/MuseumofModernArt/collection/master/Artists.csv')\n",
    "artists[\"ConstituentID\"] = artists[\"ConstituentID\"].astype(str)\n",
    "MoMa = pd.merge(artworks,artists[['ConstituentID', 'Wiki QID']],on='ConstituentID', how='left')\n",
    "MoMa.rename(columns = {'ConstituentID':'Id', 'BeginDate':'BirthDate', 'EndDate':'DeathDate'}, inplace = True)\n",
    "MoMa.Date = MoMa.Date.fillna('Not available')\n",
    "MoMa['Date'] = MoMa['Date'].astype(str)\n",
    "#MoMa.to_csv(\"MoMa.csv\")\n",
    "#MoMa.head(30)"
   ]
  },
  {
   "cell_type": "markdown",
   "id": "ca614fd4",
   "metadata": {},
   "source": [
    "#Tate"
   ]
  },
  {
   "cell_type": "code",
   "execution_count": 4,
   "id": "1dd54728",
   "metadata": {},
   "outputs": [
    {
     "name": "stderr",
     "output_type": "stream",
     "text": [
      "C:\\Users\\Francesca\\AppData\\Roaming\\Python\\Python39\\site-packages\\IPython\\core\\interactiveshell.py:3172: DtypeWarning: Columns (9,13) have mixed types.Specify dtype option on import or set low_memory=False.\n",
      "  has_raised = await self.run_ast_nodes(code_ast.body, cell_name,\n",
      "C:\\Users\\Francesca\\AppData\\Roaming\\Python\\Python39\\site-packages\\pandas\\core\\frame.py:4438: SettingWithCopyWarning: \n",
      "A value is trying to be set on a copy of a slice from a DataFrame\n",
      "\n",
      "See the caveats in the documentation: https://pandas.pydata.org/pandas-docs/stable/user_guide/indexing.html#returning-a-view-versus-a-copy\n",
      "  return super().rename(\n",
      "C:\\Users\\Francesca\\AppData\\Roaming\\Python\\Python39\\site-packages\\pandas\\core\\generic.py:5489: SettingWithCopyWarning: \n",
      "A value is trying to be set on a copy of a slice from a DataFrame.\n",
      "Try using .loc[row_indexer,col_indexer] = value instead\n",
      "\n",
      "See the caveats in the documentation: https://pandas.pydata.org/pandas-docs/stable/user_guide/indexing.html#returning-a-view-versus-a-copy\n",
      "  self[name] = value\n"
     ]
    }
   ],
   "source": [
    "spreadsheet = pd.read_csv('https://raw.githubusercontent.com/tategallery/collection/master/artwork_data.csv')\n",
    "pd.set_option('display.max_columns', None)\n",
    "artworks = spreadsheet[['artist', 'artistId', 'title', 'medium', 'creditLine', 'year', 'acquisitionYear', 'url']]\n",
    "artworks.rename(columns = {'artistId':'id'}, inplace = True)\n",
    "artworks.id = artworks.id.astype(str)\n",
    "artists = pd.read_csv('https://raw.githubusercontent.com/tategallery/collection/master/artist_data.csv')\n",
    "artists[\"id\"] = artists[\"id\"].astype(str)\n",
    "Tate = pd.merge(artworks,artists[['id', 'gender', 'yearOfBirth', 'yearOfDeath']], on='id', how='left')\n",
    "Tate.rename(columns = {'artist':'Artist', 'id':'Id', 'title':'Title', 'yearOfBirth':'BirthDate', 'yearOfDeath':'DeathDate', 'medium':'Medium', 'creditLine':'CreditLine', 'year':'Date', 'acquisitionYear':'DateAcquired', 'url':'URL', 'gender':'Gender'}, inplace = True)\n",
    "Tate.to_csv(\"Tate.csv\")\n",
    "#Tate.head(3)"
   ]
  },
  {
   "cell_type": "markdown",
   "id": "859e8108",
   "metadata": {},
   "source": [
    "#Met"
   ]
  },
  {
   "cell_type": "code",
   "execution_count": 13,
   "id": "a62bab09",
   "metadata": {},
   "outputs": [],
   "source": [
    "spreadsheet = pd.read_csv('https://media.githubusercontent.com/media/metmuseum/openaccess/master/MetObjects.csv')\n",
    "pd.set_option('display.max_columns', None)\n",
    "Met = spreadsheet[['AccessionYear', 'Title', 'Culture', 'Artist Display Name', 'Artist Nationality', 'Artist Begin Date', 'Artist End Date', 'Artist Gender', 'Artist Wikidata URL', 'Object End Date', 'Medium', 'Credit Line', 'Classification', 'Link Resource', 'Object Wikidata URL']]\n",
    "Met.rename(columns = {'Artist Display Name':'Artist', 'id':'Id', 'Artist Begin Date':'BirthDate', 'Artist End Date':'DeathDate', 'Credit Line':'CreditLine', 'Object End Date':'Date', 'AccessionYear':'DateAcquired', 'Artist Wikidata URL':'Wiki QID', 'Artist Gender':'Gender', 'Link Resource':'URL', 'Artist Nationality':'Nationality'}, inplace = True)\n",
    "Met.to_csv(\"Met.csv\")"
   ]
  },
  {
   "cell_type": "markdown",
   "id": "3618155b",
   "metadata": {},
   "source": [
    "#Nga"
   ]
  },
  {
   "cell_type": "code",
   "execution_count": 14,
   "id": "1f86f651",
   "metadata": {},
   "outputs": [
    {
     "name": "stderr",
     "output_type": "stream",
     "text": [
      "C:\\Users\\Francesca\\AppData\\Roaming\\Python\\Python39\\site-packages\\IPython\\core\\interactiveshell.py:3172: DtypeWarning: Columns (28) have mixed types.Specify dtype option on import or set low_memory=False.\n",
      "  has_raised = await self.run_ast_nodes(code_ast.body, cell_name,\n"
     ]
    }
   ],
   "source": [
    "spreadsheet = pd.read_csv('https://raw.githubusercontent.com/NationalGalleryOfArt/opendata/main/data/objects.csv')\n",
    "pd.set_option('display.max_columns', None)\n",
    "Nga = spreadsheet[['accessionnum', 'title', 'endyear', 'medium', 'attribution', 'creditline', 'classification']]\n",
    "Nga.rename(columns = {'attribution':'Artist', 'id':'Id', 'title':'Title', 'medium':'Medium', 'creditline':'CreditLine', 'endyear':'Date', 'accessionnum':'DateAcquired', 'classification':'Classification', 'Object End Date':'Date'}, inplace = True)\n",
    "Nga.to_csv(\"Nga.csv\")"
   ]
  },
  {
   "cell_type": "markdown",
   "id": "e97a7ff1",
   "metadata": {},
   "source": [
    "#Exploring our Museums\n",
    "<br>\n",
    "Next, we decided to explore the four collections.\n",
    "- How many items does each collection contain?\n",
    "- Which timespan do items cover overall?\n",
    "- First and last acquisition date for each museum. Tate's csv last update dates back to 2014.\n",
    "- Total artists' number.\n",
    "- Most represented artist, gender and nationality in general?"
   ]
  },
  {
   "cell_type": "code",
   "execution_count": 15,
   "id": "48e9b378",
   "metadata": {},
   "outputs": [
    {
     "name": "stdout",
     "output_type": "stream",
     "text": [
      "Total items at Moma : 139912\n",
      "Total items at Met : 448619\n",
      "Total items at Tate : 69201\n",
      "Total items at Nga : 137923\n"
     ]
    }
   ],
   "source": [
    "museums=[MoMa, Met, Tate, Nga]\n",
    "names = ['Moma', 'Met', 'Tate', 'Nga']\n",
    "for museum in museums:\n",
    "    selected_rows = museum[~museum['Title'].isnull()]\n",
    "    name = names.pop(0)\n",
    "    print(\"Total items at\", name, \":\", len(selected_rows.index))"
   ]
  },
  {
   "cell_type": "markdown",
   "id": "4453ec9c",
   "metadata": {},
   "source": [
    "#ARTWORKS DATES"
   ]
  },
  {
   "cell_type": "markdown",
   "id": "fb0264bc",
   "metadata": {},
   "source": [
    "#Clean MoMa's artworks' creation dates "
   ]
  },
  {
   "cell_type": "code",
   "execution_count": 17,
   "id": "5fde7240",
   "metadata": {},
   "outputs": [],
   "source": [
    "def cleanDatesMoma(date):\n",
    "    if '-' in date:\n",
    "        splitted = date.split('-')\n",
    "        date = ' '.join(splitted) \n",
    "    if '/' in date:\n",
    "        splitted = date.split('/')\n",
    "        date = ' '.join(splitted) \n",
    "    if ',' in date:\n",
    "        splitted = date.split(',')\n",
    "        date = ' '.join(splitted) \n",
    "    if '.' in date:\n",
    "        splitted = date.split('.')\n",
    "        date = ' '.join(splitted) \n",
    "        \n",
    "    x = re.search(\"\\d{4}\", date)\n",
    "    if x:\n",
    "        date = x.group()\n",
    "    return date"
   ]
  },
  {
   "cell_type": "code",
   "execution_count": 18,
   "id": "d4c48dc3",
   "metadata": {
    "scrolled": false
   },
   "outputs": [],
   "source": [
    "MoMaNew = MoMa.copy(deep=True)\n",
    "MoMaNew[\"Date\"] = MoMaNew[\"Date\"].apply(cleanDatesMoma)\n",
    "MoMaNew.to_csv(\"MoMaNew.csv\")\n",
    "#MoMaNew.head(30)"
   ]
  },
  {
   "cell_type": "markdown",
   "id": "fdab457e",
   "metadata": {},
   "source": [
    "Artworks' timespan"
   ]
  },
  {
   "cell_type": "code",
   "execution_count": 86,
   "id": "cb491153",
   "metadata": {},
   "outputs": [
    {
     "name": "stdout",
     "output_type": "stream",
     "text": [
      "Most ancient artwork at MoMa dates back to 1768\n",
      "Most recent artwork at MoMa dates back to 2022\n",
      "Most ancient artwork at Nga dates back to -490\n",
      "Most recent artwork at Nga dates back to 2021\n",
      "Most ancient artwork at Tate dates back to 1545\n",
      "Most recent artwork at Tate dates back to 2012\n",
      "Most ancient artwork at Met dates back to -240000\n",
      "Most recent artwork at Met dates back to 2022\n"
     ]
    }
   ],
   "source": [
    "museums=['MoMaNew.csv','Nga.csv', 'Tate.csv', 'metclean2.csv']\n",
    "names = ['MoMa','Nga', 'Tate', 'Met']\n",
    "for museum in museums:\n",
    "    with open(museum, mode='r', encoding='utf-8') as csvfile:\n",
    "        reader = csv.DictReader(csvfile)\n",
    "        years=[]\n",
    "        for item in reader:\n",
    "            if item['Date'] != ''and item['Date'] != '(n d )'and item['Date'] != 'TBD'and item['Date'] != 'nd'and item['Date']!='c  196?' and 'c.' not in item['Date'] and item['Date'] != 'no date' and item['Date'] != 'date of publicati' and item['Date'] != 'New York' and item['Date'] != 'Not available' and item['Date'] != 'Various' and item['Date'] != 'Various' and item['Date'] != 'unknown' and 'century' not in item['Date'] and item['Date'] != 'Unknown' and item['Date'] != 'n d ' and '(' not in item['Date'] and item['Date'] != 'n d ' and item['Date'] != 'n d' and item['Date'] != 'n  d ' and item['Date'] != 'Unkown' and item['Date'] != 'TBC':\n",
    "                years.append(item['Date'])\n",
    "        clean = []\n",
    "        for el in years:\n",
    "            if '.'in el:\n",
    "                el = el.split('.')[0]\n",
    "            clean.append(int(el))  \n",
    "        clean.sort()\n",
    "        name = names.pop(0)\n",
    "    print(\"Most ancient artwork at\", name, \"dates back to\", clean[0])\n",
    "    print(\"Most recent artwork at\", name, \"dates back to\", clean[-1])"
   ]
  },
  {
   "cell_type": "markdown",
   "id": "1c96c54b",
   "metadata": {},
   "source": [
    "#Artworks acquisition"
   ]
  },
  {
   "cell_type": "markdown",
   "id": "9168a642",
   "metadata": {},
   "source": [
    "Clean MoMa's artworks' acquisition dates"
   ]
  },
  {
   "cell_type": "code",
   "execution_count": 88,
   "id": "2d434f6b",
   "metadata": {},
   "outputs": [],
   "source": [
    "MoMaNext = MoMaNew.copy(deep=True)\n",
    "MoMaNext = MoMaNext[MoMaNext['DateAcquired'].notna()]\n",
    "MoMaNext[\"DateAcquired\"] = MoMaNext[\"DateAcquired\"].apply(cleanDatesMoma)\n",
    "MoMaNext.to_csv(\"MoMaNew.csv\")"
   ]
  },
  {
   "cell_type": "markdown",
   "id": "6301f54b",
   "metadata": {},
   "source": [
    "Acquisition' timespan"
   ]
  },
  {
   "cell_type": "code",
   "execution_count": 97,
   "id": "59e54cf1",
   "metadata": {},
   "outputs": [
    {
     "name": "stdout",
     "output_type": "stream",
     "text": [
      "First recorderd acquisition MoMa dates back to 1929\n",
      "Last recorded acquisition MoMa dates back to 2022\n",
      "First recorderd acquisition Met dates back to 1870\n",
      "Last recorded acquisition Met dates back to 2022\n",
      "First recorderd acquisition Nga dates back to 1937\n",
      "Last recorded acquisition Nga dates back to 2022\n",
      "First recorderd acquisition Tate dates back to 1823\n",
      "Last recorded acquisition Tate dates back to 2013\n"
     ]
    }
   ],
   "source": [
    "museums=['MoMaNew.csv','Met.csv', 'Nga.csv', 'Tate.csv']\n",
    "names = ['MoMa','Met', 'Nga', 'Tate']\n",
    "for museum in museums:\n",
    "    with open(museum, mode='r', encoding='utf-8') as csvfile:\n",
    "        reader = csv.DictReader(csvfile)\n",
    "        acquisitionyears=[]\n",
    "        for item in reader:\n",
    "            if '.' in item['DateAcquired']:\n",
    "                    item['DateAcquired']= item['DateAcquired'].split('.')[0]\n",
    "            if item['DateAcquired'] != '' and item['DateAcquired'] != 'Object Number':\n",
    "                acquisitionyears.append(item['DateAcquired'])\n",
    "        acquisitionyears.sort()\n",
    "        name = names.pop(0)\n",
    "    print(\"First recorderd acquisition\", name, \"dates back to\", acquisitionyears[0])\n",
    "    print(\"Last recorded acquisition\", name, \"dates back to\", acquisitionyears[-1])"
   ]
  },
  {
   "cell_type": "markdown",
   "id": "98f6550b",
   "metadata": {},
   "source": [
    "Total artists' number."
   ]
  },
  {
   "cell_type": "code",
   "execution_count": 129,
   "id": "cc1dba8b",
   "metadata": {},
   "outputs": [],
   "source": [
    "def cleanArtistsTate(name):\n",
    "    if ',' in name:\n",
    "        splitted = name.split(',')\n",
    "        name = ''.join(splitted) \n",
    "        return name"
   ]
  },
  {
   "cell_type": "code",
   "execution_count": 130,
   "id": "66a7d22f",
   "metadata": {},
   "outputs": [],
   "source": [
    "TateNew = Tate.copy(deep=True)\n",
    "TateNew[\"Artist\"] = TateNew[\"Artist\"].apply(cleanArtistsTate)\n",
    "TateNew.to_csv(\"TateNew.csv\")"
   ]
  },
  {
   "cell_type": "code",
   "execution_count": 152,
   "id": "72e3905d",
   "metadata": {},
   "outputs": [
    {
     "name": "stdout",
     "output_type": "stream",
     "text": [
      "Number of artists at MoMa is 14591\n",
      "Number of artists at Met is 60950\n",
      "Number of artists at Tate is 3281\n",
      "Number of artists at Nga is 16860\n"
     ]
    }
   ],
   "source": [
    "museums=['MoMaNew.csv', 'Met.csv', 'TateNew.csv', 'Nga.csv']\n",
    "names = ['MoMa', 'Met','Tate', 'Nga']\n",
    "for museum in museums:\n",
    "    with open(museum, mode='r', encoding='utf-8') as csvfile:\n",
    "        reader = csv.DictReader(csvfile)\n",
    "        artists = set() \n",
    "        for item in reader:\n",
    "            if item['Artist']!= '' and 'Unidentified'not in item['Artist'] and 'Various' not in item['Artist']:\n",
    "                if ',' in item['Artist']:\n",
    "                    item['Artist'] = item['Artist'].split(',')\n",
    "                    for n in range(len(item['Artist'])):\n",
    "                        artist= item['Artist'][n]\n",
    "                        artists.add(artist)\n",
    "                elif '|' in item['Artist']:\n",
    "                    listone = item['Artist'].split('|')\n",
    "                    for n in range(len(listone)):\n",
    "                        artista= listone[n]\n",
    "                        artists.add(artista)\n",
    "                else:\n",
    "                    artists.add(item['Artist'])\n",
    "    name = names.pop(0)\n",
    "    print(\"Number of artists at\", name, \"is\", len(artists) )"
   ]
  },
  {
   "cell_type": "markdown",
   "id": "c6401960",
   "metadata": {},
   "source": [
    "Most represented gender in general?\n",
    "Only for MoMa and Tate since other csv files need Wikidata integration"
   ]
  },
  {
   "cell_type": "code",
   "execution_count": 137,
   "id": "2a5a8663",
   "metadata": {},
   "outputs": [],
   "source": [
    "MoMaGender = MoMaNew.drop_duplicates(subset='Artist', keep=\"first\")\n",
    "MoMaGender.to_csv('MoMaGender.csv')"
   ]
  },
  {
   "cell_type": "code",
   "execution_count": 5,
   "id": "ef467d41",
   "metadata": {},
   "outputs": [],
   "source": [
    "TateGender = Tate.drop_duplicates(subset='Artist', keep=\"first\")\n",
    "TateGender.to_csv('TateGender.csv')"
   ]
  },
  {
   "cell_type": "code",
   "execution_count": 7,
   "id": "f4b4d0a7",
   "metadata": {},
   "outputs": [
    {
     "name": "stdout",
     "output_type": "stream",
     "text": [
      "{'Male': 10474, 'Female': 2809}\n",
      "{'Male': 2791, 'Female': 492}\n"
     ]
    }
   ],
   "source": [
    "museums=['MoMaGender.csv', 'TateGender.csv']\n",
    "names = ['MoMa', 'Tate']\n",
    "for museum in museums:\n",
    "    with open(museum, mode='r', encoding='utf-8') as csvfile:\n",
    "        reader = csv.DictReader(csvfile)\n",
    "        Gender = {'Male':0, 'Female':0}\n",
    "        for item in reader:\n",
    "                if 'Male' in item['Gender']:\n",
    "                    Gender['Male'] += 1\n",
    "                if 'Female' in item['Gender']:\n",
    "                    Gender['Female'] += 1\n",
    "    print(Gender)"
   ]
  },
  {
   "cell_type": "markdown",
   "id": "2998d930",
   "metadata": {},
   "source": [
    "Most represented gender and nationality in general?"
   ]
  },
  {
   "cell_type": "code",
   "execution_count": 33,
   "id": "7aa41e95",
   "metadata": {},
   "outputs": [
    {
     "name": "stdout",
     "output_type": "stream",
     "text": [
      "{'Welsh', 'Ugandan', 'Paraguayan', 'Georgian', 'Bangladeshi', 'Belgian', 'Albanian', 'Congolese', 'Native American', 'Bulgarian', 'Irish', 'Peruvian', 'Italian', 'Argentine', 'Kuwaiti', 'American', 'Costa Rican', 'Estonian', 'Guatemalan', 'Swedish', 'Haitian', 'Hungarian', 'Japanese', 'British', 'Turkish', 'Serbian', 'Coptic', 'Mexican', 'Senegalese', 'Danish', 'Pakistani', 'Scottish', 'Vietnamese', 'Lebanese', 'Cypriot', 'Swiss', 'Spanish', 'Burkinabé', 'Moroccan', 'Afghan', 'Icelandic', 'Catalan', 'Tunisian', 'Malian', 'Bahamian', 'Luxembourger', 'Australian', 'Mozambican', 'Uruguayan', 'Austrian', 'Emirati', 'South African', 'Romanian', 'Iranian', 'New Zealander', 'Israeli', 'Indian', 'Palestinian', 'Finnish', 'Czech', 'Greek', 'Cuban', 'Salvadoran', 'Kyrgyz', 'Puerto Rican', 'Portuguese', 'Tanzanian', 'Colombian', 'Macedonian', 'Latvian', 'Ghanaian', 'Zimbabwean', 'Korean', 'Canadian Inuit', 'Ecuadorian', 'Kenyan', 'Filipino', 'Algerian', 'Beninese', 'German', 'Polish', 'Panamanian', 'Malaysian', 'Lithuanian', 'Sierra Leonean', 'Slovenian', 'Canadian', 'Chinese', 'Azerbaijani', 'Chilean', 'Cameroonian', 'Czechoslovakian', 'Bosnian', 'Russian', 'Brazilian', 'Sudanese', 'Egyptian', 'Singaporean', 'Cambodian', 'Ukrainian', 'Sahrawi', 'Namibian', 'Iraqi', 'Nigerian', 'Taiwanese', 'Venezuelan', 'Norwegian', 'Slovak', 'French', 'Bolivian', 'Thai', 'Yugoslav', 'Dutch', 'Nicaraguan', 'Ivorian', 'Ethiopian', 'Croatian'}\n",
      "117\n"
     ]
    }
   ],
   "source": [
    "museums=['MoMaGender.csv']\n",
    "names = ['MoMa']\n",
    "for museum in museums:\n",
    "    with open(museum, mode='r', encoding='utf-8') as csvfile:\n",
    "        reader = csv.DictReader(csvfile)\n",
    "        nationalities = set() \n",
    "        for item in reader:\n",
    "            if ' ' in item['Nationality']:\n",
    "                    item['Nationality'] = item['Nationality'].split(') ')\n",
    "                    for n in range(len(item['Nationality'])):\n",
    "                        nationality= item['Nationality'][n]\n",
    "                        nationalities.add(nationality)\n",
    "            else:\n",
    "                    nationalities.add(item['Nationality'])\n",
    "        nationalities_clean = set()\n",
    "        for el in nationalities:\n",
    "            a = el.replace('(', '').replace(')','')\n",
    "            nationalities_clean.add(a)\n",
    "        count_naz= set()\n",
    "        for el in nationalities_clean:\n",
    "            if el != '' and el != 'Nationality unknown':\n",
    "                count_naz.add(el)\n",
    "print(count_naz)\n",
    "print(len(count_naz))\n"
   ]
  },
  {
   "cell_type": "code",
   "execution_count": 37,
   "id": "b2f6c509",
   "metadata": {},
   "outputs": [
    {
     "name": "stdout",
     "output_type": "stream",
     "text": [
      "{'Welsh': 4, 'Ugandan': 1, 'Paraguayan': 3, 'Georgian': 22, 'Bangladeshi': 1, 'Belgian': 125, 'Albanian': 4, 'Congolese': 6, 'Native American': 10, 'Bulgarian': 5, 'Irish': 24, 'Peruvian': 37, 'Italian': 517, 'Argentine': 150, 'Kuwaiti': 1, 'American': 5584, 'Costa Rican': 2, 'Estonian': 2, 'Guatemalan': 7, 'Swedish': 123, 'Haitian': 16, 'Hungarian': 86, 'Japanese': 545, 'British': 962, 'Turkish': 20, 'Serbian': 17, 'Coptic': 1, 'Mexican': 159, 'Senegalese': 2, 'Danish': 125, 'Pakistani': 4, 'Scottish': 22, 'Vietnamese': 3, 'Lebanese': 10, 'Cypriot': 1, 'Swiss': 421, 'Spanish': 185, 'Burkinabé': 1, 'Moroccan': 8, 'Afghan': 1, 'Icelandic': 21, 'Catalan': 1, 'Tunisian': 2, 'Malian': 3, 'Bahamian': 1, 'Luxembourger': 3, 'Australian': 59, 'Mozambican': 1, 'Uruguayan': 24, 'Austrian': 277, 'Emirati': 1, 'South African': 68, 'Romanian': 27, 'Iranian': 11, 'New Zealander': 10, 'Israeli': 77, 'Indian': 39, 'Palestinian': 3, 'Finnish': 52, 'Czech': 98, 'Greek': 13, 'Cuban': 71, 'Salvadoran': 2, 'Kyrgyz': 1, 'Puerto Rican': 6, 'Portuguese': 16, 'Tanzanian': 1, 'Colombian': 57, 'Macedonian': 5, 'Latvian': 13, 'Ghanaian': 4, 'Zimbabwean': 5, 'Korean': 35, 'Canadian Inuit': 3, 'Ecuadorian': 4, 'Kenyan': 2, 'Filipino': 3, 'Algerian': 4, 'Beninese': 1, 'German': 1163, 'Polish': 148, 'Panamanian': 2, 'Malaysian': 2, 'Lithuanian': 5, 'Sierra Leonean': 1, 'Slovenian': 19, 'Canadian': 205, 'Chinese': 106, 'Azerbaijani': 2, 'Chilean': 68, 'Cameroonian': 2, 'Czechoslovakian': 3, 'Bosnian': 9, 'Russian': 374, 'Brazilian': 185, 'Sudanese': 2, 'Egyptian': 14, 'Singaporean': 2, 'Cambodian': 1, 'Ukrainian': 40, 'Sahrawi': 1, 'Namibian': 2, 'Iraqi': 2, 'Nigerian': 6, 'Taiwanese': 4, 'Venezuelan': 68, 'Norwegian': 35, 'Slovak': 9, 'French': 1041, 'Bolivian': 3, 'Thai': 7, 'Yugoslav': 1, 'Dutch': 288, 'Nicaraguan': 2, 'Ivorian': 2, 'Ethiopian': 2, 'Croatian': 47}\n"
     ]
    }
   ],
   "source": [
    "museums=['MoMaGender.csv']\n",
    "names = ['MoMa']\n",
    "for museum in museums:\n",
    "    with open(museum, mode='r', encoding='utf-8') as csvfile:\n",
    "        reader = csv.DictReader(csvfile)\n",
    "        Nationalities ={}\n",
    "        for nationality in count_naz:  \n",
    "            Nationalities[nationality]= 0\n",
    "        for item in reader:\n",
    "            for naz in count_naz:\n",
    "                    if naz in item['Nationality']:\n",
    "                        Nationalities[naz] += 1 \n",
    "    print(Nationalities)"
   ]
  },
  {
   "cell_type": "code",
   "execution_count": null,
   "id": "1399d6ba",
   "metadata": {},
   "outputs": [],
   "source": [
    "counts = MoMa['Nationality'].value_counts()\n",
    "counts.to_csv('nationalities.csv')"
   ]
  },
  {
   "cell_type": "code",
   "execution_count": 39,
   "id": "0fe3bbfc",
   "metadata": {},
   "outputs": [
    {
     "name": "stdout",
     "output_type": "stream",
     "text": [
      "{'', 'Samoan', 'British, born Australia', 'Nigeria/Cameroon', 'Swiss?', 'British, born Russia', 'Argentinian', 'American, born USSR', 'French, born Middle East', 'Africa', 'British, born Austria-Hungary', 'Austrian, active Italy', 'Spanish?', 'Peruvian', 'Yugoslavian', 'West Coast Africa', 'American, born Alsace-Lorraine', 'American', 'British, born Ireland', 'Germany, active London', 'Inuit', 'BRitish', 'American, born Dominican Republic', 'Ottoman', 'German, British', 'Dutch (born Germany)', 'British', 'France', 'British American', 'Belgian?', 'French (Amiens)', 'French or Italian', 'Denmark', 'Mexican', 'French (Paris)', 'British, born Nigeria', 'Scottish', 'British, active Canada and Switzerland', 'American, born Iran', 'Burgundian', 'American, born Poland', 'British or American', 'Mexican American', 'American, French', 'Austrian/German', 'French/Flemish', 'Russian (born Finland)', 'American, born Turkey', 'Hannover, Germany', 'Bremen, Germany', 'Aachen', 'Tahitian', 'Slovakian', 'Algonquin family', 'Canadian, born Armenia', 'American, born Italy', 'Manufacturer', 'Congo, Africa', 'Italian (Turin)', 'German (Augsburg)', 'Romanian', 'Indian', 'Spanish, Toledo', 'American, born Austria-Hungary', 'European', 'American, born Ireland', 'American, born Cuba', 'Geman', 'American ', 'American, born The Netherlands', 'Salvadoran', 'Belgian, born Russia', 'French, born Romania', 'German, lived Serbia', 'Northern France', 'British, American (naturalized)', 'Mexican, born England', 'American, born Greece', 'American, born Korea', 'French, born Algiers?', 'North Netherlandish', 'American, born China', 'German (?)', 'Bengali', 'Franco-Netherlandish', 'American, born Sweden', 'French, Spanish', 'Algerian', 'GErman', 'German', 'Kashmir', 'French, active Great Britain', 'Greek, active Turkey', 'American, born Scotland', 'Continental', 'Russian, born Romania', 'U.S. (Boston)', 'Jamaican', 'Canadian?', 'Fench', 'Italian (?)', 'Flemish?', 'British, French', 'American Indian, Oneida', 'American Irish', 'Polish, Cieszyn (Silesian)', 'French, born Germany', 'Ukranian', 'American, born Latvia', 'French, born Romania (Transylvania)', 'Mexican?', 'French, born Prussia', 'French, born China', 'British, Scottish, American', 'British/Irish', 'Ukrainian', 'American, born Moravia', 'Swiss or Austrian', 'American, born Japan', 'French, Austrian or German', 'Democratic Republic of Congo', 'Bohemian', 'American, German', 'German (Nuremberg)', 'American, born Mexico', 'British, born Poland', 'Sri Lankan', 'French', 'Spanish (Andalusian)', 'French, born Belgium', 'active in France by 1894', 'Swiss American', 'Italian?', 'American, born Albania', 'Italian, active Marches', 'American, born Russia', 'Welsh', 'French, born Egypt', 'American, born England', 'Italian, born Croatia', 'Belgian', 'American born England', 'Albanian', 'German American', 'Native American', 'Alsatian', 'Italian', 'American, born South Africa', 'French, British, American', 'North African (?)', 'Norway', 'German-born sculptor later active in Switzerland', 'Egyptian?', 'Estonian', 'French, born Lithuania', 'Australian, born India', 'American, born India', 'Swedish', 'British, born Switzerland', 'Veronese', 'German?', 'American and Canadian', 'Danish', 'French or American', 'German/Swiss', 'Pakistani', 'Mexico', 'Asmat', 'Italian, born Greece', 'Khitan', 'Irish, British', 'Naples', 'Lebanese', 'German, born France', 'American German', 'French, born Sweden', 'Mexican, born Germany', 'French, Limoges', 'Irish, born Wales', 'Italian, Bolognese', 'French British', 'French and English', 'French/Dutch', 'French or Dutch', 'Malian', 'Italian (Naples)', 'South African', 'American, born Federal Republic of Germany', 'Finnish', 'French(?)', 'Greek', 'British, active Scotland and England', 'French (born Germany)', 'Cuban', 'Islamic', 'German, born Switzerland', 'German/Solingen', 'french', 'Tibetan', 'French, born England', 'French?', 'Italian, Milan', 'Finish', 'American, born Austria', 'probably Swiss', 'German, born Rumania', 'Ecuadorian', 'British, born Austria', 'Netherlandish / French', 'American, born Puerto Rico', 'Italian, Brescia', 'Panamanian', 'British, born The Netherlands', 'British (born Russia)', 'Mexican or Spanish', 'British, active France', 'American, born Australia', 'Canadian', 'Italian, Rome', 'French Flemish', 'Armenian-Iranian', 'Italian, born Argentina', 'Russian', 'Brazilian', 'Scottish or British', 'Italian or Spanish, 17th century', 'Polish or German?', 'Antelope Valley Washoe', 'French, active 1860s – early 1870s', 'Russian, born Germany', 'American and French', 'Italian [search purposes only]', 'German (Innsbruck)', 'Haida', 'Netherlandish?', 'American, born Ukraine', 'American, British', 'Continental/Swiss', 'Japan', 'Siena', 'American, born Canada', 'French ?', 'German, active United States', 'Argentinian?', 'Dutch', 'Netherlandish (?)', 'American, born Luxembourg', 'Spanish (Madrid)', 'italian', 'Franco-Flemish', 'American, born Bulgaria', 'Chiricahua Apache Native American', 'Sierra Leone, Africa', 'Russian?', 'Georgian', 'American, born Alsace', 'Greenlandish', 'Paris', 'Britsh', 'English', 'Irish', 'Italian ', 'American, born Argentina', 'Italian, born Germany', 'Italian, born Austria', 'Kuwaiti', 'Saint Lucian', 'British, born China', 'Costa Rican', 'New York', 'British (?)', 'Persian', 'Dutch German', 'Austrian, active Rome', 'England', 'British, born Holland', 'Polish?', 'Dutch, British', 'London', 'French, active America', 'British, born Denmark', 'Guatemalan', 'Spanish, born Austria', 'German (Stuttgart, principality of Württemberg)', 'Italian French', 'British, born Taiwan', 'Belgian, born Uruguay', 'Brazilian, born Spain', 'American Russian', 'American, born France', 'American (born Dominican Republic)', 'American or German', 'Belgium', 'Belgian, active France', 'Gubbio', 'Italy', 'Brabant (Diest or Leuven?)', 'American, born Malawi', 'Hungarian or Austrian', 'Swiss', 'Southern Italy', 'Spanish', 'American (born Iran)', 'French, born Austria', 'British, born United States', 'Tajikistan', 'American, born Switzerland', 'Central European or French', 'French, born Morocco', 'Florence', 'Mongolian', 'Tunisian', 'British, born Canada', 'Australian', 'South Africa', 'American, born Hungary', 'Uruguayan', 'New Zealander', 'Israeli', 'American, born Germany', 'Swiss, born Germany', 'Austro-Hungarian', 'American, born Morocco', 'British, born France', 'Czech', 'Russian, born Italy', 'Swedish, born Austria', 'Puerto Rican', 'French or German', 'Germany', 'Portuguese', 'possibly Iranian', 'German (Stuttgart)', 'Uganda', 'Japanese, active Germany', 'American, born Holland', 'German (b. Switzerland)', 'Ghanaian', 'Puerto Rican?', 'French, born Russia', 'American Indian, Onondaga', 'French (active Britain)', 'American, born Panama', 'German (Prussian)', 'British, born Sweden', 'Mexican-American', 'Japanese (Arita)', 'American (born Russia)', 'Upper Rhine', ' ', 'Swiss, Italian', 'Malaysian', 'Prussian', 'Austrian, born Germany', 'American, born Philippines', 'British, born Scotland', 'Lithuanian', 'French and Canadian', 'Central European', 'Chinese', 'Scandinavian', 'Chilean', 'Emilian', 'American, Scottish', 'Czechoslovakian', 'Klingenthal, France', 'British, Welsh', 'British, born India', 'German, born Poland', 'Canadian, born Scotland', 'French, born West Indies', 'Dutch, born Germany', 'Netherlandish/French', 'German, born United States', 'Italian, born Georgia', 'Egyptian', 'Belarussian', 'British, born Italy', 'Italian (active Ancona)', 'Germany, Middle Rhine', 'Austrian, born Hungary', 'Japanese, active China', 'British, active India', 'Nigerian', 'Japanese and German', 'American and British, born Mexico', 'Venetian', 'Taiwanese', 'German, active Ireland', 'Danish, born Poland', 'French, born Italy', 'American born Britain', 'French Dutch', 'British, Scottish', 'possibly French', 'Croatian', 'Argentinian, born Germany', 'Israeli, born Palestine', 'Venice', 'Spanish (?)', 'Northern European', 'Southern Germany or Austria', 'Iranian-American', 'Bulgarian', 'French, born Spain', 'Liechtensteiner', 'Japanese, 1898–1992', 'Iran', 'American, born Pakistan', 'French American', 'South Netherlandish', 'Netherlandish', 'French 1866–1932', 'Scottish or American', 'Guatemalan or Mexican', 'American, born Finland', 'Polish (?)', 'Hungarian', 'Italian, Lombard (probably Pavia)', 'German (active Italy)', 'Spainish', 'Japanese American', 'Japanese', 'British or French', 'American,', 'American or British', 'Turkish', 'Austrian German', 'Nethrlandish', 'Italian, Florentine', 'Afghani', 'British, active Philadelphia', 'German, active Switzerland', 'Iraqi Kurdish', 'Canadian (Inuit)', 'German, active England', 'Flemish', 'Netherlandish or German', 'Tuscany', 'Sienese', 'American Indian, Apache', 'German, Augsburg', 'American, born Haiti', 'Spanish/Mexican', 'United States', 'Icelandic', 'French, born in Italy', 'American, born Denmark', 'Austrian', 'Italian or French', 'Iranian', 'Rumanian', 'Lombard', 'American, born Belgium', 'British, born Cuba', 'French, born Japan', 'British, born Argentina', 'Italian (active France)', 'French, born Greece', 'German (Solingen)', 'Brazilian?', 'Israeli, born Romania', 'Flemish, active The Netherlands', 'Colombian', 'Polish Lithunanian', 'American Romanian', 'Mexican, born United States', 'American, born Ukraine (Austria)', 'French, born Poland', 'Dominican', 'British, active Wales', 'Dem. Republic of the Congo', 'American, born Slovakia', 'Roman', 'Ancient Greek', 'American, born Romania', 'Korean', 'German (born Westheim)', 'Austrian?', 'British?', 'Hanoverian (German)', 'German, active London', 'American (born Turkey)', 'French, born Hungary', 'Andorran', 'British, born Germany', 'Dutch?', 'Manchu', 'British, born New Zealand', 'French Italian', 'American, born Israel', 'Congo', 'Maltese', 'Danish-Icelandic', 'Polish', 'Paris and London', 'French, born Ukraine', 'Japanese, born 1941', 'Southern Netherlands, Ghent (?)', 'Armenian', 'British French', 'French (?)', 'German, born Belgian', 'Italian or Spanish', 'American or Dutch', 'American, born Prussia', 'British, born Belgium', 'Cameroonian', 'Byzantine', 'American, born Norway', 'Nigeria', 'Irish?', 'American, born Vietnam', 'Serbo-croat', 'American, born Wales', 'American?', 'American, born Egypt', 'Austrian or German', 'American, born Spain', 'American, born Armenia', 'French, born Switzerland', 'American, born Lithuania', 'American, born Czech Republic', 'Southern Netherlands', 'British or Dutch', 'American, born Tunisia', 'American, born Uruguay', 'Norwegian', 'Venezuelan', 'Swedish?', 'American, born Britain', 'Franco-American'}\n",
      "532\n"
     ]
    }
   ],
   "source": [
    "museums=['Met.csv']\n",
    "names = ['Met']\n",
    "for museum in museums:\n",
    "    with open(museum, mode='r', encoding='utf-8') as csvfile:\n",
    "        reader = csv.DictReader(csvfile)\n",
    "        nationalities = set() \n",
    "        for item in reader:\n",
    "            if '|' in item['Nationality']:\n",
    "                    item['Nationality'] = item['Nationality'].split('|')\n",
    "                    for n in range(len(item['Nationality'])):\n",
    "                        nationality= item['Nationality'][n]\n",
    "                        nationalities.add(nationality)\n",
    "            else:\n",
    "                nationalities.add(item['Nationality'])\n",
    "            \n",
    "print(nationalities)\n",
    "print(len(nationalities))"
   ]
  },
  {
   "cell_type": "markdown",
   "id": "0bb30d28",
   "metadata": {},
   "source": [
    "#Our analysis.\n",
    "<br>\n",
    "1. What are the most acquired artists in museums (in general)?\n",
    "    - Is there a gender gap in the selection of artists?\n",
    "    - What are the most represented nationalities (in general)?\n",
    "    - What are the most represented movements or genres (in general)?\n",
    "2. How have acquisition criteria changed (over time) in museums?\n",
    "    - In which years are artists' works mostly acquired?\n",
    "    - When does the gender gap decreases (if it does)?\n",
    "    - In which years artists' nationalities more influent on the selection?\n",
    "    - In which years artists' movements/genres more influent on the selection?\n",
    "3. If we compare criteria of all museums, in general and over time, do we see any similarity or significant difference?\n",
    "    - Do certain museums acquire more works based on artists/artists' gender/nationality/movement than others?"
   ]
  },
  {
   "cell_type": "markdown",
   "id": "f72e670d",
   "metadata": {},
   "source": [
    "Acquisition criteria.\n",
    "1.  In which years are artists' works mostly acquired?<br>\n",
    "To answer, we need to count how many times each year shows up in the DateAcquired column."
   ]
  },
  {
   "cell_type": "code",
   "execution_count": null,
   "id": "b500263f",
   "metadata": {},
   "outputs": [],
   "source": [
    "MoMa['year'] = pd.DatetimeIndex(MoMa['DateAcquired']).year\n",
    "MoMaNew['DateAcquired'] = MoMa['year']\n",
    "MoMaNew = MoMaNew[MoMaNew['DateAcquired'].notna()]\n",
    "MoMaNew.to_csv(\"MoMaNew.csv\")"
   ]
  },
  {
   "cell_type": "code",
   "execution_count": null,
   "id": "3f16c4d0",
   "metadata": {},
   "outputs": [],
   "source": [
    "with open('MoMaNew.csv', mode='r', encoding='utf-8') as csvfile:\n",
    "    reader = csv.DictReader(csvfile)\n",
    "    years={}\n",
    "    for item in reader:\n",
    "        if item['DateAcquired']not in years:\n",
    "            years[item['DateAcquired']]= 1\n",
    "        else:\n",
    "            years[item['DateAcquired']]+= 1\n",
    "\n",
    "    print(years)\n",
    "    #all_years=list(years.keys())\n",
    "    #print(sorted(all_years))\n",
    "    "
   ]
  },
  {
   "cell_type": "markdown",
   "id": "66ae1086",
   "metadata": {},
   "source": [
    "Trova modo di ordinare per value o usa la libreria che sa Laura\n",
    "Visualizzazione :)"
   ]
  },
  {
   "cell_type": "code",
   "execution_count": null,
   "id": "531b72a0",
   "metadata": {},
   "outputs": [],
   "source": [
    "new_dict={}\n",
    "for key in years:\n",
    "    key_int=key.split('.')[0]\n",
    "    key_int=int(key_int)\n",
    "    if key_int in range(1928,1941):\n",
    "        if '1930s' not in new_dict.keys():\n",
    "               new_dict['1930s']= years[key]\n",
    "        else:\n",
    "            new_dict['1930s'] += years[key]\n",
    "    if key_int in range(1940,1951):\n",
    "        if '1940s' not in new_dict.keys():\n",
    "               new_dict['1940s']= years[key]\n",
    "        else:\n",
    "            new_dict['1940s'] += years[key]\n",
    "    \n",
    "    if key_int in range(1950,1961):\n",
    "        if '1950s' not in new_dict.keys():\n",
    "               new_dict['1950s']= years[key]\n",
    "        else:\n",
    "            new_dict['1950s'] += years[key]\n",
    "    \n",
    "    if key_int in range(1960,1971):\n",
    "        if '1960s' not in new_dict.keys():\n",
    "               new_dict['1960s']= years[key]\n",
    "        else:\n",
    "            new_dict['1960s'] += years[key]\n",
    "    \n",
    "    if key_int in range(1970,1981):\n",
    "        if '1970s' not in new_dict.keys():\n",
    "               new_dict['1970s']= years[key]\n",
    "        else:\n",
    "            new_dict['1970s'] += years[key]\n",
    "    if key_int in range(1980,1991):\n",
    "        if '1980s' not in new_dict.keys():\n",
    "               new_dict['1980s']= years[key]\n",
    "        else:\n",
    "            new_dict['1980s'] += years[key]\n",
    "    \n",
    "    if key_int in range(1990,2001):\n",
    "        if '1990s' not in new_dict.keys():\n",
    "               new_dict['1990s']= years[key]\n",
    "        else:\n",
    "            new_dict['1990s'] += years[key]\n",
    "        \n",
    "    \n",
    "print(new_dict)\n",
    "    "
   ]
  },
  {
   "cell_type": "markdown",
   "id": "17d03edf",
   "metadata": {},
   "source": [
    "When does the gender gap decreases (if it does)? <br>\n",
    "Per ogni 10 anni, percentuale di uomini e donne acquisiti e differenza."
   ]
  },
  {
   "cell_type": "code",
   "execution_count": null,
   "id": "7ed35196",
   "metadata": {},
   "outputs": [],
   "source": [
    "with open('MoMaNew.csv', mode='r', encoding='utf-8') as csvfile:\n",
    "    reader = csv.DictReader(csvfile)\n",
    "    years={}\n",
    "    for item in reader:\n",
    "        if item['DateAcquired']not in years:\n",
    "            years[item['DateAcquired']]= 1\n",
    "        else:\n",
    "            years[item['DateAcquired']]+= 1\n",
    "\n",
    "    print(years)"
   ]
  },
  {
   "cell_type": "markdown",
   "id": "6778dda1",
   "metadata": {},
   "source": [
    "When does the gender gap decreases (if it does)?\n",
    "Per ogni 10 anni, percentuale di uomini e donne acquisiti e differenza.\n",
    "\n",
    "In which years artists' nationalities more influent on the selection?\n",
    "Per ogni 10 anni, percentuale di nazionalità acquisite e differenza.\n",
    "\n",
    "In which years artists'movements/genres more influent on the selection?\n",
    "Per ogni 10 anni, percentuale di nazionalità acquisite e differenza."
   ]
  },
  {
   "cell_type": "markdown",
   "id": "f39a380e",
   "metadata": {},
   "source": [
    "Nga non ha Gender\n",
    "Met molti Gender sono NaN\n"
   ]
  }
 ],
 "metadata": {
  "kernelspec": {
   "display_name": "Python 3 (ipykernel)",
   "language": "python",
   "name": "python3"
  },
  "language_info": {
   "codemirror_mode": {
    "name": "ipython",
    "version": 3
   },
   "file_extension": ".py",
   "mimetype": "text/x-python",
   "name": "python",
   "nbconvert_exporter": "python",
   "pygments_lexer": "ipython3",
   "version": "3.9.0"
  }
 },
 "nbformat": 4,
 "nbformat_minor": 5
}
