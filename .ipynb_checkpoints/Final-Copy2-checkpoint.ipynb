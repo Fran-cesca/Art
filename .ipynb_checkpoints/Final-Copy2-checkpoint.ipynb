{
 "cells": [
  {
   "cell_type": "markdown",
   "id": "53a29a49",
   "metadata": {},
   "source": [
    "# Collage, the shapes of arte\n",
    "This notebook was created by [Francesca Borriello](https://github.com/Fran-cesca), [Lorenza Pierucci](https://github.com/LorenzaPierucci) and [Laura Travaglini](https://github.com/lauratravaglini) as part of their final project for the [Digital Pubishing and Electronic Storytelling](https://www.unibo.it/it/didattica/insegnamenti/insegnamento/2021/443749) course at the University of Bologna (academic year 221/2022).\n",
    "\n",
    "# About the project\n",
    "Starting from the datasets made publicly available by the NY Museum of Modern Art (**MoMA**) and by the **Tate galleries**, *Collage, the shapes of art* analyses artworks acquisitions throughout the years, with the aim of understanding which criteria brought together them Museums' collection in a historical and social perspective. \n",
    "Art and history of art are no sealed compartments: they are heavily inter-dependent with social, political, economic factors, which in turn influence our very perception of what art is. \n",
    "Cultural institutions – museums in particular – play a fundamental role in this intertwined dynamics: through their selection, they have the potential to shape the public understanding of arts and its modifications throughout time.  \n",
    "In some way, what makes into museums makes into history of art and viceversa. \n",
    "From these considerations stems our analysis: how do external (social, political, economic) factors influence the perception of art and its history? \n",
    "A way to investigate it is by looking at the greatest and most representative museums around the world, and at their acquisition policies and campaigns in particular. \n",
    "\n",
    "## Our key questions: \n",
    "1.<br>\n",
    "2.<br>\n",
    "3.<br>\n",
    "\n"
   ]
  },
  {
   "cell_type": "markdown",
   "id": "14791dfb",
   "metadata": {},
   "source": [
    "# 1. Creating dataframes.\n",
    "After importing all the necessary libraries, we can read our Museums' online CSV files containing information about artworks and artists as `Pandas Dataframes` in order to better manipulate and analyse them."
   ]
  },
  {
   "cell_type": "markdown",
   "id": "60ce4e6d",
   "metadata": {},
   "source": [
    "## Import"
   ]
  },
  {
   "cell_type": "code",
   "execution_count": 1,
   "id": "3260a852",
   "metadata": {},
   "outputs": [],
   "source": [
    "import pandas as pd\n",
    "import csv\n",
    "import re\n",
    "from collections import defaultdict\n",
    "from rdflib import Namespace , Literal , URIRef\n",
    "from rdflib.namespace import RDF , RDFS\n",
    "import ssl\n",
    "from json import JSONDecodeError\n",
    "from qwikidata.sparql import return_sparql_query_results "
   ]
  },
  {
   "cell_type": "markdown",
   "id": "0791cf9e",
   "metadata": {},
   "source": [
    "For both Museums, we gather data directly from the remote files available on their Github pages ([MoMA](https://github.com/MuseumofModernArt/collection), [Tate](https://github.com/tategallery/collection)). \n",
    "In particular, we work on two separate datasets: one carries information about **artworks** (their title, date, acquisition year atc.), the other provides data on the **artists** (their name, nationality, gender etc.).\n",
    "In addition, we merge these two dataframes on some selected columns to create a new one for analysing **acquisition**-related issues."
   ]
  },
  {
   "cell_type": "markdown",
   "id": "52c20f9f",
   "metadata": {},
   "source": [
    "# MoMA"
   ]
  },
  {
   "cell_type": "code",
   "execution_count": 85,
   "id": "54f227cf",
   "metadata": {},
   "outputs": [],
   "source": [
    "spreadsheet = pd.read_csv('https://media.githubusercontent.com/media/MuseumofModernArt/collection/master/Artworks.csv')\n",
    "MoMA_artworks = spreadsheet[['ConstituentID','Title','Date', 'DateAcquired']]\n",
    "MoMA_artworks = MoMA_artworks.rename(columns = {'ConstituentID':'Id'})\n",
    "MoMA_artists = pd.read_csv('https://media.githubusercontent.com/media/MuseumofModernArt/collection/master/Artists.csv')\n",
    "MoMA_artists = MoMA_artists[['ConstituentID', 'DisplayName', 'Nationality', 'Gender', 'Wiki QID']]\n",
    "MoMA_artists['ConstituentID'] = MoMA_artists['ConstituentID'].astype(str)\n",
    "MoMA_artists = MoMA_artists.rename(columns = {'ConstituentID':'Id', 'DisplayName':'Name'})"
   ]
  },
  {
   "cell_type": "code",
   "execution_count": 115,
   "id": "6dff865a",
   "metadata": {},
   "outputs": [],
   "source": [
    "MoMA_acquisitions = pd.merge(MoMA_artists, MoMA_artworks[['Id', 'DateAcquired']], on='Id', how='left')\n",
    "MoMA_acquisitions = MoMA_acquisitions.drop_duplicates(subset='Name', keep=\"first\")"
   ]
  },
  {
   "cell_type": "markdown",
   "id": "fee4916c",
   "metadata": {},
   "source": [
    "# Tate"
   ]
  },
  {
   "cell_type": "code",
   "execution_count": 116,
   "id": "12df2891",
   "metadata": {},
   "outputs": [
    {
     "name": "stderr",
     "output_type": "stream",
     "text": [
      "C:\\Users\\Francesca\\AppData\\Roaming\\Python\\Python39\\site-packages\\IPython\\core\\interactiveshell.py:3172: DtypeWarning: Columns (9,13) have mixed types.Specify dtype option on import or set low_memory=False.\n",
      "  has_raised = await self.run_ast_nodes(code_ast.body, cell_name,\n"
     ]
    }
   ],
   "source": [
    "spreadsheet = pd.read_csv('https://raw.githubusercontent.com/tategallery/collection/master/artwork_data.csv')\n",
    "Tate_artworks = spreadsheet[['artistId','title', 'year', 'acquisitionYear']]\n",
    "Tate_artworks = Tate_artworks.rename(columns = {'artistId':'Id', 'acquisitionYear':'DateAcquired', 'year':'Date', 'title':'Title'})\n",
    "Tate_artworks['Id'] = Tate_artworks['Id'].astype(str)\n",
    "Tate_artists = pd.read_csv('https://raw.githubusercontent.com/tategallery/collection/master/artist_data.csv')\n",
    "Tate_artists = Tate_artists[['id', 'name','placeOfBirth', 'gender']]\n",
    "Tate_artists = Tate_artists.rename(columns = {'id':'Id', 'name':'Name', 'gender':'Gender'})\n",
    "Tate_artists[\"Id\"] = Tate_artists[\"Id\"].astype(str)"
   ]
  },
  {
   "cell_type": "code",
   "execution_count": 117,
   "id": "02007836",
   "metadata": {},
   "outputs": [],
   "source": [
    "Tate_acquisitions = pd.merge(Tate_artists, Tate_artworks[['Id', 'DateAcquired']], on='Id', how='left')\n",
    "Tate_acquisitions = Tate_acquisitions.drop_duplicates(subset='Name', keep=\"first\")"
   ]
  },
  {
   "cell_type": "markdown",
   "id": "96aa7146",
   "metadata": {},
   "source": [
    "# 2. Cleaning data"
   ]
  },
  {
   "cell_type": "markdown",
   "id": "ea349147",
   "metadata": {},
   "source": [
    "Identifying and fixing incoherent, corrupt or defective data is an essential process for ensuring a satisfactory threshold of reliability to any further analysis. Let us delve into it."
   ]
  },
  {
   "cell_type": "markdown",
   "id": "b39a1a22",
   "metadata": {},
   "source": [
    "## MoMA"
   ]
  },
  {
   "cell_type": "markdown",
   "id": "c3e3299f",
   "metadata": {},
   "source": [
    "### Missing values\n",
    "First of all, let us deal with missing values, substituting them with zeros to better handle them."
   ]
  },
  {
   "cell_type": "code",
   "execution_count": 118,
   "id": "cd22d5d9",
   "metadata": {},
   "outputs": [],
   "source": [
    "MoMA_artists.fillna(value='0', inplace=True)\n",
    "MoMA_artworks.fillna(value='0', inplace=True)\n",
    "MoMA_acquisitions.fillna(value='0', inplace=True)"
   ]
  },
  {
   "cell_type": "markdown",
   "id": "c65de8a6",
   "metadata": {},
   "source": [
    "### Dates\n",
    "Artworks acquisition dates are in the form `YYYY-MM-DD`.<br>\n",
    "For the sake of our analysis, we extract the year and transform it into an integer."
   ]
  },
  {
   "cell_type": "code",
   "execution_count": 119,
   "id": "f2268d25",
   "metadata": {},
   "outputs": [],
   "source": [
    "def cleanAcquisitionDatesMoMA(date):\n",
    "    if '-' in date:\n",
    "        date = date.split('-')[0]\n",
    "    return date"
   ]
  },
  {
   "cell_type": "code",
   "execution_count": 120,
   "id": "8833b363",
   "metadata": {},
   "outputs": [],
   "source": [
    "MoMA_artworks[\"DateAcquired\"] = MoMA_artworks[\"DateAcquired\"].apply(cleanAcquisitionDatesMoMA)\n",
    "MoMA_acquisitions[\"DateAcquired\"] = MoMA_acquisitions[\"DateAcquired\"].apply(cleanAcquisitionDatesMoMA)"
   ]
  },
  {
   "cell_type": "markdown",
   "id": "548c1884",
   "metadata": {},
   "source": [
    "In MoMA database, artworks' creation dates are mostly already represented by just one year.<br>\n",
    "Nevertheless, there are some exceptions: years separated by a slash or a dash and strings of any kind, such as '(1950).  (Prints executed 1948', '(1883, published 1897)' or '(1911, dated 1912, published c. 1917)'.\n",
    "\n",
    "We wrote a code to extract the year through a regex only matching the first sequence of four digits for each value."
   ]
  },
  {
   "cell_type": "code",
   "execution_count": 121,
   "id": "82f5c645",
   "metadata": {},
   "outputs": [],
   "source": [
    "def cleanDatesMoMA(date):\n",
    "    if '-' in date:\n",
    "        splitted = date.split('-')\n",
    "        date = ' '.join(splitted) \n",
    "    if '/' in date:\n",
    "        splitted = date.split('/')\n",
    "        date = ' '.join(splitted) \n",
    "    if ',' in date:\n",
    "        splitted = date.split(',')\n",
    "        date = ' '.join(splitted) \n",
    "    if '.' in date:\n",
    "        splitted = date.split('.')\n",
    "        date = ' '.join(splitted) \n",
    "        \n",
    "    x = re.search(\"\\d{4}\", date)\n",
    "    if x:\n",
    "        date = x.group()\n",
    "    else:\n",
    "        date = '0'\n",
    "    return date"
   ]
  },
  {
   "cell_type": "code",
   "execution_count": 122,
   "id": "c86f36e2",
   "metadata": {},
   "outputs": [],
   "source": [
    "MoMA_artworks[\"Date\"] = MoMA_artworks[\"Date\"].astype(str)\n",
    "MoMA_artworks[\"Date\"] = MoMA_artworks[\"Date\"].apply(cleanDatesMoMA)"
   ]
  },
  {
   "cell_type": "markdown",
   "id": "4d2cd651",
   "metadata": {},
   "source": [
    "## Tate"
   ]
  },
  {
   "cell_type": "markdown",
   "id": "583d9d02",
   "metadata": {},
   "source": [
    "### Missing values\n",
    "Again, let us replace missing values and strings indicating lack of information with zeros, thus obtaining a dataframe filled with coherent data."
   ]
  },
  {
   "cell_type": "code",
   "execution_count": 123,
   "id": "bc9b14f0",
   "metadata": {},
   "outputs": [],
   "source": [
    "Tate_artists.fillna(value='0', inplace=True)\n",
    "Tate_artworks.fillna(value='0', inplace=True)\n",
    "Tate_acquisitions.fillna(value='0', inplace=True)\n",
    "Tate_artworks['Date'].replace(to_replace=['no date','c'], value='0', inplace= True)"
   ]
  },
  {
   "cell_type": "markdown",
   "id": "cd4d3f8d",
   "metadata": {},
   "source": [
    "### Dates\n",
    "Artworks acquisition dates and artworks creation dates are represented as floats (e.g. 1997.0). We convert them to integers."
   ]
  },
  {
   "cell_type": "code",
   "execution_count": 124,
   "id": "d36274ca",
   "metadata": {},
   "outputs": [],
   "source": [
    "def cleanDatesTate(date):\n",
    "    if '.' in date:\n",
    "        date = date.split('.')[0] \n",
    "    return date"
   ]
  },
  {
   "cell_type": "code",
   "execution_count": 125,
   "id": "695370e5",
   "metadata": {},
   "outputs": [],
   "source": [
    "Tate_artworks[\"Date\"] = Tate_artworks[\"Date\"].astype(str)\n",
    "Tate_artworks[\"Date\"] = Tate_artworks[\"Date\"].apply(cleanDatesTate)\n",
    "Tate_artworks[\"DateAcquired\"] = Tate_artworks[\"DateAcquired\"].astype(str)\n",
    "Tate_artworks[\"DateAcquired\"] = Tate_artworks[\"DateAcquired\"].apply(cleanDatesTate)\n",
    "Tate_acquisitions[\"DateAcquired\"] = Tate_acquisitions[\"DateAcquired\"].astype(str)\n",
    "Tate_acquisitions[\"DateAcquired\"] = Tate_acquisitions[\"DateAcquired\"].apply(cleanDatesTate)"
   ]
  },
  {
   "cell_type": "markdown",
   "id": "e91e1104",
   "metadata": {},
   "source": [
    "### Artists' names\n",
    "In both Tate dataframes artists' names are in the form `Surname, Name`. For clarity purposes, we decided to normalise them as `Name Surname`, and wrote a code to do so. "
   ]
  },
  {
   "cell_type": "code",
   "execution_count": 126,
   "id": "e5c26f28",
   "metadata": {},
   "outputs": [],
   "source": [
    "def cleanArtistsNames(name):\n",
    "    if ',' in name:\n",
    "        name= name.split(',')\n",
    "        name[0], name[1] = name[1], name[0]\n",
    "        name = ' '.join(name)\n",
    "    return name.strip()"
   ]
  },
  {
   "cell_type": "code",
   "execution_count": 127,
   "id": "a325f329",
   "metadata": {},
   "outputs": [],
   "source": [
    "Tate_artists[\"Name\"] = Tate_artists[\"Name\"].apply(cleanArtistsNames)\n",
    "Tate_acquisitions[\"Name\"] = Tate_acquisitions[\"Name\"].apply(cleanArtistsNames)"
   ]
  },
  {
   "cell_type": "markdown",
   "id": "bdaf8457",
   "metadata": {},
   "source": [
    "### Nationalities\n",
    "In Tate's dataframe about artists, nationalities are often in the form `city, country`(e.g. 'Philadelphia, United States') and sometimes just indicate a city (e.g. 'Wimbledon'). <br>\n",
    "Finally, all countries' names are in their original form (e.g. 'Nihon' for 'Japan'). <br>\n",
    "We normalised it indicating, for each artist, its country of origin, in English. <br>\n",
    "We looked for all diverging values and replaced them one by one through a script."
   ]
  },
  {
   "cell_type": "code",
   "execution_count": 128,
   "id": "fb1374e5",
   "metadata": {},
   "outputs": [],
   "source": [
    "def cleanNationalitiesTate(naz): \n",
    "    if ',' in naz: \n",
    "        naz = naz.split(',')[1] \n",
    "    if naz == 'Blackheath': \n",
    "        naz= naz.replace('Blackheath', 'United Kingdom') \n",
    "    if naz == 'London': \n",
    "        naz= naz.replace('London', 'United Kingdom') \n",
    "    if naz == 'Kensington': \n",
    "        naz= naz.replace('Kensington', 'United Kingdom') \n",
    "    if naz == 'Chung-hua Min-kuo': \n",
    "        naz= naz.replace('Chung-hua Min-kuo', 'Taiwan') \n",
    "    if naz == 'Solothurn': \n",
    "        naz= naz.replace('Solothurn', 'Schweiz') \n",
    "    if naz == 'Melmerby': \n",
    "        naz= naz.replace('Melmerby', 'United Kingdom') \n",
    "    if naz == 'Montserrat': \n",
    "        naz= naz.replace('Montserrat', 'España') \n",
    "    if naz == 'Canterbury': \n",
    "        naz= naz.replace('Canterbury', 'United Kingdom') \n",
    "    if naz == 'Staten Island': \n",
    "        naz= naz.replace('Staten Island', 'United States') \n",
    "    if naz == 'Epsom': \n",
    "        naz= naz.replace('Epsom', 'United Kingdom') \n",
    "    if naz == 'Plymouth': \n",
    "        naz= naz.replace('Plymouth', 'United Kingdom') \n",
    "    if naz == 'Wimbledon': \n",
    "        naz= naz.replace('Wimbledon', 'United Kingdom') \n",
    "    if naz == 'Edinburgh': \n",
    "        naz= naz.replace('Edinburgh', 'United Kingdom') \n",
    "    if naz == 'Beckington': \n",
    "        naz= naz.replace('Beckington', 'United Kingdom') \n",
    "    if naz == 'Hertfordshire': \n",
    "        naz= naz.replace('Hertfordshire', 'United Kingdom') \n",
    "    if naz == 'Isle of Man': \n",
    "        naz= naz.replace('Isle of Man', 'United Kingdom') \n",
    "    if naz == 'Bristol': \n",
    "        naz= naz.replace('Bristol', 'United Kingdom') \n",
    "    if naz == 'Liverpool': \n",
    "        naz= naz.replace('Liverpool', 'United Kingdom') \n",
    "    if naz == 'Braintree': \n",
    "        naz= naz.replace('Braintree', 'United Kingdom') \n",
    "    if naz == 'Stoke on Trent': \n",
    "        naz= naz.replace('Stoke on Trent', 'United Kingdom') \n",
    "    if naz == 'Rochdale': \n",
    "        naz= naz.replace('Rochdale', 'United Kingdom') \n",
    "    if 'D.C.' in naz: \n",
    "        naz= naz.replace('D.C.', 'Colombia') \n",
    "    if 'Otok' in naz: \n",
    "        naz= naz.replace('Otok', 'Hrvatska') \n",
    "    if 'Département de la' in naz: \n",
    "        naz= naz.replace('Département de la', 'France') \n",
    "    if naz == 'Niederschlesien': \n",
    "        naz= naz.replace('Niederschlesien', 'Polska') \n",
    "    if naz == 'Perth': \n",
    "        naz= naz.replace('Perth', 'Australia') \n",
    "    if naz == 'Bermondsey': \n",
    "        naz= naz.replace('Bermondsey', 'United Kingdom') \n",
    "    if naz == 'Egremont': \n",
    "        naz= naz.replace('Egremont', 'United Kingdom') \n",
    "    if naz == 'Charlotte Amalie': \n",
    "        naz= naz.replace('Charlotte Amalie', 'United States') \n",
    "    if naz == 'Charlieu': \n",
    "        naz= naz.replace('Charlieu', 'France') \n",
    "    if naz == 'Stockholm': \n",
    "        naz= naz.replace('Stockholm', 'Sverige') \n",
    "    if naz == 'Auteuil': \n",
    "        naz= naz.replace('Auteuil', 'France') \n",
    " \n",
    "    if 'Polska' in naz: \n",
    "        naz = naz.replace('Polska', 'Poland') \n",
    "    if \"Yisra'el\" in naz: \n",
    "        naz = naz.replace(\"Yisra'el\", 'Israel') \n",
    "    if 'Deutschland' in naz: \n",
    "        naz = naz.replace('Deutschland', 'Germany') \n",
    "    if 'Schweiz' in naz: \n",
    "        naz = naz.replace('Schweiz', 'Switzerland') \n",
    "    if 'Suomi' in naz: \n",
    "        naz = naz.replace('Suomi', 'Finland') \n",
    "    if 'Zhonghua' in naz: \n",
    "        naz = naz.replace('Zhonghua', 'China') \n",
    "    if 'Türkiye' in naz: \n",
    "        naz = naz.replace('Türkiye', 'Turkey') \n",
    "    if 'Al-‘Iraq' in naz: \n",
    "        naz = naz.replace('Al-‘Iraq', 'Iraq') \n",
    "    if 'België' in naz: \n",
    "        naz = naz.replace('België', 'Belgium') \n",
    "    if 'Rossiya' in naz: \n",
    "        naz = naz.replace('Rossiya', 'Russia') \n",
    "    if 'Nihon' in naz: \n",
    "        naz = naz.replace('Nihon', 'Japan') \n",
    "    if 'Éire' in naz: \n",
    "        naz = naz.replace('Éire', 'Ireland') \n",
    "    if 'Österreich' in naz: \n",
    "        naz = naz.replace('Österreich', 'Austria') \n",
    "    if 'Saint Hélier' in naz: \n",
    "        naz = naz.replace('Saint Hélier', 'United Kingdom') \n",
    "    if 'Ceská Republik' in naz: \n",
    "        naz = naz.replace('Ceská Republik', 'Czech Republic') \n",
    "    if 'Ukrayina' in naz: \n",
    "        naz = naz.replace('Ukrayina', 'Ukraine') \n",
    "    if 'Ellás' in naz: \n",
    "        naz = naz.replace('Ellás', 'Greece') \n",
    "    if 'Latvija ' in naz: \n",
    "        naz = naz.replace('Latvija ', 'Latvia') \n",
    "    if 'Douglas' in naz: \n",
    "        naz = naz.replace('Douglas', 'United Kingdom') \n",
    "    if 'România' in naz: \n",
    "        naz = naz.replace('România', 'Romania') \n",
    "    if 'Sverige' in naz: \n",
    "        naz = naz.replace('Sverige', 'Sweden') \n",
    "    if 'Bharat' in naz: \n",
    "        naz = naz.replace('Bharat', 'India')     \n",
    "    if 'España' in naz: \n",
    "        naz = naz.replace('España', 'Spain')   \n",
    "    if 'Magyarország' in naz: \n",
    "        naz = naz.replace('Magyarország', 'Hungery')  \n",
    "    if 'Slovenská Republika' in naz: \n",
    "        naz = naz.replace('Slovenská Republika', 'Slovenia')  \n",
    "        \n",
    "    return naz.strip()"
   ]
  },
  {
   "cell_type": "code",
   "execution_count": 129,
   "id": "f40615c6",
   "metadata": {},
   "outputs": [],
   "source": [
    "Tate_artists[\"placeOfBirth\"] = Tate_artists[\"placeOfBirth\"].apply(cleanNationalitiesTate)\n",
    "Tate_acquisitions[\"placeOfBirth\"] = Tate_acquisitions[\"placeOfBirth\"].apply(cleanNationalitiesTate)"
   ]
  },
  {
   "cell_type": "markdown",
   "id": "424e4796",
   "metadata": {},
   "source": [
    "# Exploration\n",
    "We can now start exploring our Museums, to get to know them better through available data."
   ]
  },
  {
   "cell_type": "markdown",
   "id": "95cfe32c",
   "metadata": {},
   "source": [
    "## How many artworks?"
   ]
  },
  {
   "cell_type": "code",
   "execution_count": 28,
   "id": "1e765f0e",
   "metadata": {},
   "outputs": [
    {
     "name": "stdout",
     "output_type": "stream",
     "text": [
      "Total artworks at MoMA : 140848\n",
      "Total artworks at Tate : 69201\n"
     ]
    }
   ],
   "source": [
    "museums=[MoMA_artworks, Tate_artworks]\n",
    "names = ['MoMA','Tate']\n",
    "for museum in museums:\n",
    "    selected_rows = museum[~museum['Title'].isnull()]\n",
    "    name = names.pop(0)\n",
    "    print(\"Total artworks at\", name, \":\", len(selected_rows.index))"
   ]
  },
  {
   "cell_type": "markdown",
   "id": "4b41fb02",
   "metadata": {},
   "source": [
    "## When do artworks date back?"
   ]
  },
  {
   "cell_type": "code",
   "execution_count": 31,
   "id": "d9ec499b",
   "metadata": {},
   "outputs": [
    {
     "name": "stdout",
     "output_type": "stream",
     "text": [
      "Most ancient artwork at MoMA dates back to 1768\n",
      "Most recent artwork at MoMA dates back to 2022\n",
      "Most ancient artwork at Tate dates back to 1545\n",
      "Most recent artwork at Tate dates back to 2012\n"
     ]
    }
   ],
   "source": [
    "museums=[MoMA_artworks, Tate_artworks]\n",
    "names = ['MoMA','Tate']\n",
    "for museum in museums:\n",
    "    museum[\"Date\"] = museum[\"Date\"].astype(int)\n",
    "    museum.sort_values(by=['Date'], inplace=True)\n",
    "    museumWithoutZeros = museum[museum['Date'] != 0]\n",
    "    firstDate = museumWithoutZeros['Date'].iat[0]\n",
    "    lastDate = museumWithoutZeros['Date'].iat[-1]\n",
    "    name = names.pop(0)\n",
    "    print(\"Most ancient artwork at\", name, \"dates back to\",firstDate )\n",
    "    print(\"Most recent artwork at\", name, \"dates back to\",lastDate )    "
   ]
  },
  {
   "cell_type": "markdown",
   "id": "ed72b5fd",
   "metadata": {},
   "source": [
    "## Artists"
   ]
  },
  {
   "cell_type": "markdown",
   "id": "b31d20e0",
   "metadata": {},
   "source": [
    "For examining artist-related issues, we rely on the two CSV files from the Museums containing information about them, which we already transformed into dataframes (Tate_artists and MoMA_artists). <br> \n",
    "In doing so, we avoid duplicates (the same artists may have more than one artwork in the same museum)."
   ]
  },
  {
   "cell_type": "markdown",
   "id": "e343eee8",
   "metadata": {},
   "source": [
    "### How many artists?"
   ]
  },
  {
   "cell_type": "code",
   "execution_count": 32,
   "id": "a5df735a",
   "metadata": {},
   "outputs": [
    {
     "name": "stdout",
     "output_type": "stream",
     "text": [
      "Total number of artists at MoMA 15243\n"
     ]
    }
   ],
   "source": [
    "print('Total number of artists at MoMA', len(MoMA_artists))"
   ]
  },
  {
   "cell_type": "code",
   "execution_count": 33,
   "id": "4d8d0ff4",
   "metadata": {},
   "outputs": [
    {
     "name": "stdout",
     "output_type": "stream",
     "text": [
      "Total number of artists at Tate 3532\n"
     ]
    }
   ],
   "source": [
    "print('Total number of artists at Tate', len(Tate_artists))"
   ]
  },
  {
   "cell_type": "markdown",
   "id": "dfe6535c",
   "metadata": {},
   "source": [
    "### Artists' gender: which is the most represented overall?"
   ]
  },
  {
   "cell_type": "markdown",
   "id": "e0b4194f",
   "metadata": {},
   "source": [
    "### Tate"
   ]
  },
  {
   "cell_type": "markdown",
   "id": "0523db72",
   "metadata": {},
   "source": [
    "### Wikidata integration"
   ]
  },
  {
   "cell_type": "markdown",
   "id": "ddd016bd",
   "metadata": {},
   "source": [
    "Since Tate dataset lacks of some gender information, we took advantage of Wikidata in order to integrate it through some remote SPARQL queries."
   ]
  },
  {
   "cell_type": "markdown",
   "id": "badfbf16",
   "metadata": {},
   "source": [
    "1. We create a subset of the dataframe containing all and only the the rows in which the gender information is missing."
   ]
  },
  {
   "cell_type": "code",
   "execution_count": 35,
   "id": "2e73531a",
   "metadata": {},
   "outputs": [],
   "source": [
    "Tate_to_integrate = Tate_artists[Tate_artists['Gender']== '0']"
   ]
  },
  {
   "cell_type": "markdown",
   "id": "f3d80b12",
   "metadata": {},
   "source": [
    "2. We exclude some entities to which a gender cannot be attributed (e.g., collective or anonymous artists)."
   ]
  },
  {
   "cell_type": "code",
   "execution_count": 37,
   "id": "57feb271",
   "metadata": {},
   "outputs": [],
   "source": [
    "Tate_to_integrate = Tate_to_integrate[Tate_to_integrate['Name'] != 'Anonymous']\n",
    "Tate_to_integrate = Tate_to_integrate[Tate_to_integrate['Name'] != 'born 1945; Mel Ramsden Art & Language (Michael Baldwin  born 1944)']\n",
    "Tate_to_integrate = Tate_to_integrate[Tate_to_integrate['Name'] != 'born 1939; David Bainbridge Art & Language (Terry Atkinson  born 1941; Michael Baldwin  born 1945; Harold Hurrell  born']\n",
    "Tate_to_integrate = Tate_to_integrate[Tate_to_integrate['Name'] != 'born 1939; Michael Baldwin Art & Language (Terry Atkinson  born 1945)']\n",
    "Tate_to_integrate = Tate_to_integrate[Tate_to_integrate['Name'] != '1939-1993; Mel Ramsden Art & Language (Ian Burn  born 1944)']\n",
    "Tate_to_integrate = Tate_to_integrate[Tate_to_integrate['Name'] != 'Atlas Group']\n",
    "Tate_to_integrate = Tate_to_integrate[Tate_to_integrate['Name'] != 'Black Audio Film Collective (John Akomfrah; Reece Auguis; Edward George; Lina Gopaul; Avril Johnson; David Lawson; Trevo']\n",
    "Tate_to_integrate = Tate_to_integrate[Tate_to_integrate['Name'] != 'Fionnuala and Leslie Boyd and Evans']\n",
    "Tate_to_integrate = Tate_to_integrate[Tate_to_integrate['Name'] != 'British (?) School']\n",
    "Tate_to_integrate = Tate_to_integrate[Tate_to_integrate['Name'] != 'British (?) School 19th century']\n",
    "Tate_to_integrate = Tate_to_integrate[Tate_to_integrate['Name'] != 'British School 17th century']\n",
    "Tate_to_integrate = Tate_to_integrate[Tate_to_integrate['Name'] != 'British School 16th century']\n",
    "Tate_to_integrate = Tate_to_integrate[Tate_to_integrate['Name'] != 'British School 17th or 18th century']\n",
    "Tate_to_integrate = Tate_to_integrate[Tate_to_integrate['Name'] != 'British School 18th century']\n",
    "Tate_to_integrate = Tate_to_integrate[Tate_to_integrate['Name'] != 'British School 19th century']\n",
    "Tate_to_integrate = Tate_to_integrate[Tate_to_integrate['Name'] != 'British School 20th century']\n",
    "Tate_to_integrate = Tate_to_integrate[Tate_to_integrate['Name'] != 'Chinese School 18th century']\n",
    "Tate_to_integrate = Tate_to_integrate[Tate_to_integrate['Name'] != 'French School 18th century']\n",
    "Tate_to_integrate = Tate_to_integrate[Tate_to_integrate['Name'] != 'French School 19th century']\n",
    "Tate_to_integrate = Tate_to_integrate[Tate_to_integrate['Name'] != 'International Local (Sarah Charlesworth; Joseph Kosuth; Anthony McCall)']\n",
    "Tate_to_integrate = Tate_to_integrate[Tate_to_integrate['Name'] != 'Italian or German (?) School 17th century']\n",
    "Tate_to_integrate = Tate_to_integrate[Tate_to_integrate['Name'] != 'Langlands and Bell, Ben and Nikki']\n",
    "Tate_to_integrate = Tate_to_integrate[Tate_to_integrate['Name'] != 'Italian or German (?) School 17th century']\n",
    "Tate_to_integrate = Tate_to_integrate[Tate_to_integrate['Name'] != 'Ben and Nikki Langlands and Bell']\n",
    "Tate_to_integrate = Tate_to_integrate[Tate_to_integrate['Name'] != 'Lucy and Eegyudluk']\n",
    "Tate_to_integrate = Tate_to_integrate[Tate_to_integrate['Name'] != 'France) M/M (Paris']\n",
    "Tate_to_integrate = Tate_to_integrate[Tate_to_integrate['Name'] != 'T R Uthco (Doug Hall born 1944, Diane Andrews Hall born 1945, Jody Procter 1944-1998)']\n",
    "Tate_to_integrate = Tate_to_integrate[Tate_to_integrate['Name'] != 'Art & Language (Ian Burn, 1939-1993; Mel Ramsden, born 1944)']\n",
    "Tate_to_integrate = Tate_to_integrate[Tate_to_integrate['Name'] != 'Unknown']\n",
    "Tate_to_integrate = Tate_to_integrate[Tate_to_integrate['Name'] != 'Marc Voge) Young-Hae Chang Heavy Industries (Young-Hae Chang']\n",
    "Tate_to_integrate = Tate_to_integrate[Tate_to_integrate['Name'] != 'K.O.S.']\n",
    "Tate_to_integrate = Tate_to_integrate[Tate_to_integrate['Name'] != 'Diane Andrews Hall born 1945 T R Uthco (Doug Hall born 1944  Jody Procter 1944-1998)']\n",
    "Tate_to_integrate = Tate_to_integrate[Tate_to_integrate['Name'] != 'Mel Ramsden Art & Language (Ian Burn  born 1944)']"
   ]
  },
  {
   "cell_type": "markdown",
   "id": "2a282939",
   "metadata": {},
   "source": [
    "3. We proceed to search the artists' **Wikidata entities**: this will then allow us to look up for their gender.<br>\n",
    "The SPARQL query you can read below searches for human individuals with a specific artistic occupation (photograpers, artists, graphic artists, painters, video artists, sculptors and visual artists). The `{}` placeholder will be replaced by the artist's name from the dataframe via python `format()` method.<br>\n",
    "We directly apply the query to our dataframe through a function taking advantage of `qwikidata` is a Python package allowing to interact with Wikidata, and we insert the result in a new colum created on the fly, named `Artist Entity`.<br>\n",
    "Since Wikidata SPARQL endpoint does not support heavy queries, we search for one occupation at a time and create a CSV file for all the artists for which the corresponding wikidata entity was found (e.g., all photographers).<br>\n",
    "We then continue the research on the rest of the dataframe, from which we remove the rows for which we already found the wikidata entity. We work on copies to avoid compromising the original dataframe.<br>\n",
    "Finally, we integrate all profession-specific CSV files into one dataframe, which contains all the rows without gender information with the corresponding Wikidata entity (the information which could not be found on Wikidata was integrated manually)."
   ]
  },
  {
   "cell_type": "code",
   "execution_count": 74,
   "id": "a1c4e23c",
   "metadata": {},
   "outputs": [],
   "source": [
    "#Define the SPARQL query.\n",
    "artists_genders_from_ids = \"\"\"\n",
    "PREFIX rdfs: <http://www.w3.org/2000/01/rdf-schema#>\n",
    "SELECT DISTINCT ?artist\n",
    "WHERE {{\n",
    "    ?artist wdt:P31 wd:Q5 .\n",
    "    ?artist wdt:P106 ?occupation\n",
    "                  FILTER (?occupation IN (wd:Q1281618) ) \n",
    "    ?artist rdfs:label ?o\n",
    "    FILTER regex(?o, \\\"^{}$\\\" )\n",
    "            FILTER (langMatches(lang(?o), \"EN\")).\n",
    "}}\n",
    "\n",
    "\"\"\""
   ]
  },
  {
   "cell_type": "code",
   "execution_count": 75,
   "id": "37c46f93",
   "metadata": {},
   "outputs": [],
   "source": [
    "# Define the function for applying the query to the dataframe and returning the wanted results.\n",
    "def find_artists_genders_from_ids(name):\n",
    "    query = artists_genders_from_ids.format(name.strip())\n",
    "    res = return_sparql_query_results(query_string=query)\n",
    "   \n",
    "    try:\n",
    "        wdt_uri = res['results']['bindings'][0]['artist']['value']\n",
    "    except (IndexError, KeyError):\n",
    "        return \"\"\n",
    "    return wdt_uri.split(\"/\")[-1]"
   ]
  },
  {
   "cell_type": "code",
   "execution_count": 77,
   "id": "67df94c6",
   "metadata": {},
   "outputs": [],
   "source": [
    "# Apply the query,\n",
    "Tate_to_integrate[\"Artist Entity\"] = Tate_to_integrate[\"name\"].apply(find_artists_genders_from_ids)"
   ]
  },
  {
   "cell_type": "code",
   "execution_count": 80,
   "id": "003485e1",
   "metadata": {},
   "outputs": [],
   "source": [
    "# Create a CSV file for profession, e.g., photographers, visual artists etc. \n",
    "copy = Tate_to_integrate.copy(deep=True) \n",
    "sculptors =  copy[copy['Artist Entity']!= ''] \n",
    "sculptors.to_csv('Sculptors.csv')"
   ]
  },
  {
   "cell_type": "code",
   "execution_count": null,
   "id": "66b58eab",
   "metadata": {},
   "outputs": [],
   "source": [
    "# Apply the query iteratively, changing the occupation\n",
    "to_integrate =  copy[copy['Artist Entity']== ''] \n",
    "to_integrate[\"Artist Entity\"] = to_integrate[\"name\"].apply(find_artists_genders_from_ids)"
   ]
  },
  {
   "cell_type": "code",
   "execution_count": 39,
   "id": "d6475581",
   "metadata": {},
   "outputs": [],
   "source": [
    "# Integrate all CSV files in one dataframe\n",
    "Tate_artists_integrated = pd.concat(map(pd.read_csv, ['Artists.csv', 'Photographers.csv', 'Videoartists.csv', 'Graphicartists.csv', 'Painters.csv', 'Integratedmanually.csv']), ignore_index=True)"
   ]
  },
  {
   "cell_type": "code",
   "execution_count": 40,
   "id": "8af3caa6",
   "metadata": {},
   "outputs": [
    {
     "data": {
      "text/html": [
       "<div>\n",
       "<style scoped>\n",
       "    .dataframe tbody tr th:only-of-type {\n",
       "        vertical-align: middle;\n",
       "    }\n",
       "\n",
       "    .dataframe tbody tr th {\n",
       "        vertical-align: top;\n",
       "    }\n",
       "\n",
       "    .dataframe thead th {\n",
       "        text-align: right;\n",
       "    }\n",
       "</style>\n",
       "<table border=\"1\" class=\"dataframe\">\n",
       "  <thead>\n",
       "    <tr style=\"text-align: right;\">\n",
       "      <th></th>\n",
       "      <th>Id</th>\n",
       "      <th>Name</th>\n",
       "      <th>Gender</th>\n",
       "      <th>PlaceOfBirth</th>\n",
       "      <th>Artist Entity</th>\n",
       "    </tr>\n",
       "  </thead>\n",
       "  <tbody>\n",
       "    <tr>\n",
       "      <th>0</th>\n",
       "      <td>657</td>\n",
       "      <td>Shusaku Arakawa</td>\n",
       "      <td>0</td>\n",
       "      <td>Nagoya, Nihon</td>\n",
       "      <td>Q478264</td>\n",
       "    </tr>\n",
       "    <tr>\n",
       "      <th>1</th>\n",
       "      <td>14424</td>\n",
       "      <td>Kiyohiko Komura</td>\n",
       "      <td>0</td>\n",
       "      <td>0</td>\n",
       "      <td>Q64826662</td>\n",
       "    </tr>\n",
       "    <tr>\n",
       "      <th>2</th>\n",
       "      <td>16926</td>\n",
       "      <td>Len Lye</td>\n",
       "      <td>0</td>\n",
       "      <td>0</td>\n",
       "      <td>Q1288566</td>\n",
       "    </tr>\n",
       "    <tr>\n",
       "      <th>3</th>\n",
       "      <td>5672</td>\n",
       "      <td>Vladimir Mayakovsky</td>\n",
       "      <td>0</td>\n",
       "      <td>0</td>\n",
       "      <td>Q132964</td>\n",
       "    </tr>\n",
       "    <tr>\n",
       "      <th>4</th>\n",
       "      <td>18266</td>\n",
       "      <td>Mithu Sen</td>\n",
       "      <td>0</td>\n",
       "      <td>0</td>\n",
       "      <td>Q43136922</td>\n",
       "    </tr>\n",
       "    <tr>\n",
       "      <th>...</th>\n",
       "      <td>...</td>\n",
       "      <td>...</td>\n",
       "      <td>...</td>\n",
       "      <td>...</td>\n",
       "      <td>...</td>\n",
       "    </tr>\n",
       "    <tr>\n",
       "      <th>77</th>\n",
       "      <td>17129</td>\n",
       "      <td>Vara</td>\n",
       "      <td>0</td>\n",
       "      <td>0</td>\n",
       "      <td>0</td>\n",
       "    </tr>\n",
       "    <tr>\n",
       "      <th>78</th>\n",
       "      <td>2107</td>\n",
       "      <td>Dee Villers</td>\n",
       "      <td>0</td>\n",
       "      <td>0</td>\n",
       "      <td>0</td>\n",
       "    </tr>\n",
       "    <tr>\n",
       "      <th>79</th>\n",
       "      <td>17732</td>\n",
       "      <td>Francis Vivares</td>\n",
       "      <td>0</td>\n",
       "      <td>0</td>\n",
       "      <td>Q5493438</td>\n",
       "    </tr>\n",
       "    <tr>\n",
       "      <th>80</th>\n",
       "      <td>11825</td>\n",
       "      <td>Imke Wagener</td>\n",
       "      <td>0</td>\n",
       "      <td>0</td>\n",
       "      <td>0</td>\n",
       "    </tr>\n",
       "    <tr>\n",
       "      <th>81</th>\n",
       "      <td>13099</td>\n",
       "      <td>Jakub Julian Ziolkowski</td>\n",
       "      <td>0</td>\n",
       "      <td>0</td>\n",
       "      <td>Q1267768</td>\n",
       "    </tr>\n",
       "  </tbody>\n",
       "</table>\n",
       "<p>82 rows × 5 columns</p>\n",
       "</div>"
      ],
      "text/plain": [
       "       Id                     Name  Gender   PlaceOfBirth Artist Entity\n",
       "0     657          Shusaku Arakawa       0  Nagoya, Nihon       Q478264\n",
       "1   14424          Kiyohiko Komura       0              0     Q64826662\n",
       "2   16926                  Len Lye       0              0      Q1288566\n",
       "3    5672      Vladimir Mayakovsky       0              0       Q132964\n",
       "4   18266                Mithu Sen       0              0     Q43136922\n",
       "..    ...                      ...     ...            ...           ...\n",
       "77  17129                     Vara       0              0             0\n",
       "78   2107              Dee Villers       0              0             0\n",
       "79  17732          Francis Vivares       0              0      Q5493438\n",
       "80  11825             Imke Wagener       0              0             0\n",
       "81  13099  Jakub Julian Ziolkowski       0              0      Q1267768\n",
       "\n",
       "[82 rows x 5 columns]"
      ]
     },
     "metadata": {},
     "output_type": "display_data"
    }
   ],
   "source": [
    "display(Tate_artists_integrated)"
   ]
  },
  {
   "cell_type": "markdown",
   "id": "f1405799",
   "metadata": {},
   "source": [
    "4. Once we have all Wikidata entities, we interrogate Wikidata to retrieve artists' gender.<br>\n",
    "We apply the following SPARQL query to our new dataframe and add the retrieved gender information in a new `gender` column, created on the fly (the information which could not be found on Wikidata was integrated manually)."
   ]
  },
  {
   "cell_type": "code",
   "execution_count": 12,
   "id": "84ff1afe",
   "metadata": {},
   "outputs": [],
   "source": [
    "#Define the SPARQL query.\n",
    "artists_genders = \"\"\" \n",
    "PREFIX rdfs: <http://www.w3.org/2000/01/rdf-schema#> \n",
    "PREFIX wd: <http://www.wikidata.org/entity/> \n",
    "SELECT DISTINCT (SAMPLE(?genderLabel) AS ?genderL)\n",
    "WHERE {{ \n",
    "     wd:{}  wdt:P21 ?gender . \n",
    "     ?gender rdfs:label ?genderLabel\n",
    "    FILTER (langMatches(lang(?genderLabel), \"EN\"))\n",
    "}} \n",
    "\"\"\""
   ]
  },
  {
   "cell_type": "code",
   "execution_count": null,
   "id": "56cc223a",
   "metadata": {},
   "outputs": [],
   "source": [
    "# Define the function for applying the query to the dataframe and returning the wanted results.\n",
    "def find_artists_genders(wikiId): \n",
    "    query = artists_genders.format(wikiId.strip()) \n",
    "    res = return_sparql_query_results(query_string=query) \n",
    "    print(query) \n",
    "    try: \n",
    "        gender= res['results']['bindings'][0]['genderL']['value'] \n",
    "    except (IndexError, KeyError, JSONDecodeError, ChunkedEncodingError): \n",
    "        return \"\" \n",
    "    return gender"
   ]
  },
  {
   "cell_type": "code",
   "execution_count": null,
   "id": "cf7b0be8",
   "metadata": {},
   "outputs": [],
   "source": [
    "# Apply the query.\n",
    "Tate_artists_integrated['gender'] = ArtistIntegrated['Artist Entity'].apply(find_artists_genders)"
   ]
  },
  {
   "cell_type": "code",
   "execution_count": 41,
   "id": "c917aa3c",
   "metadata": {},
   "outputs": [],
   "source": [
    "# Manually integrate on a CSV file the missing information.\n",
    "Tate_artists_with_gender = pd.read_csv('ArtistIntegratedManually.csv')\n",
    "Tate_artists_with_gender[\"Id\"] = Tate_artists_with_gender[\"Id\"].astype(str)"
   ]
  },
  {
   "cell_type": "markdown",
   "id": "34d25396",
   "metadata": {},
   "source": [
    "5. Finally, we can add the dataframe with integrated information to the the dataframe already containing gender data (excluding collective and anonym artists), and analyse the gender distribution leveraging Pandas built-in function `value_counts()`, which counts values for our gender column."
   ]
  },
  {
   "cell_type": "code",
   "execution_count": 42,
   "id": "b6030442",
   "metadata": {},
   "outputs": [],
   "source": [
    "Tate_gender = Tate_artists[Tate_artists['Gender'] != '0']"
   ]
  },
  {
   "cell_type": "code",
   "execution_count": 43,
   "id": "b390b82a",
   "metadata": {},
   "outputs": [],
   "source": [
    "gender_count = Tate_gender.append(Tate_artists_with_gender)"
   ]
  },
  {
   "cell_type": "code",
   "execution_count": null,
   "id": "6d9fbb34",
   "metadata": {},
   "outputs": [],
   "source": [
    "# Wikidata results are lowercase, let us capitalize them and count occurrences for each gender.\n",
    "gender_count['Gender'].replace(to_replace=['male'], value='Male', inplace= True)\n",
    "gender_count['Gender'].replace(to_replace=['female'], value='Female', inplace= True)"
   ]
  },
  {
   "cell_type": "code",
   "execution_count": 61,
   "id": "737201a2",
   "metadata": {},
   "outputs": [
    {
     "data": {
      "text/plain": [
       "Male      2954\n",
       "Female     534\n",
       "0           10\n",
       "Name: Gender, dtype: int64"
      ]
     },
     "execution_count": 61,
     "metadata": {},
     "output_type": "execute_result"
    }
   ],
   "source": [
    "gender_count['Gender'].value_counts()"
   ]
  },
  {
   "cell_type": "code",
   "execution_count": 73,
   "id": "b0e60b8b",
   "metadata": {},
   "outputs": [
    {
     "name": "stdout",
     "output_type": "stream",
     "text": [
      "Male artists' percentage is: 84 %; Female artists' percentage is: 15 %\n"
     ]
    }
   ],
   "source": [
    "genderCount = {'Male': 2954, 'Female': 534}\n",
    "tot = len(gender_count)\n",
    "print (\"Male artists' percentage is:\", round((genderCount['Male']/tot)*100),'%;', \"Female artists' percentage is:\", round((genderCount['Female']/tot)*100),'%')"
   ]
  },
  {
   "cell_type": "markdown",
   "id": "10536977",
   "metadata": {},
   "source": [
    "### MoMA"
   ]
  },
  {
   "cell_type": "markdown",
   "id": "6433bcc5",
   "metadata": {},
   "source": [
    "As for Tate, let us analyse the frequency of male and female artists in the collection."
   ]
  },
  {
   "cell_type": "code",
   "execution_count": 75,
   "id": "43b7284b",
   "metadata": {},
   "outputs": [],
   "source": [
    "MoMA_artists['Gender'].replace(to_replace=['male'], value='Male', inplace= True)\n",
    "MoMA_artists['Gender'].replace(to_replace=['female'], value='Female', inplace= True)"
   ]
  },
  {
   "cell_type": "code",
   "execution_count": 76,
   "id": "11a9867d",
   "metadata": {},
   "outputs": [
    {
     "data": {
      "text/plain": [
       "Male          9732\n",
       "0             3165\n",
       "Female        2343\n",
       "Non-Binary       2\n",
       "Non-binary       1\n",
       "Name: Gender, dtype: int64"
      ]
     },
     "execution_count": 76,
     "metadata": {},
     "output_type": "execute_result"
    }
   ],
   "source": [
    "MoMA_artists['Gender'].value_counts()"
   ]
  },
  {
   "cell_type": "code",
   "execution_count": 78,
   "id": "22cd2a43",
   "metadata": {},
   "outputs": [
    {
     "name": "stdout",
     "output_type": "stream",
     "text": [
      "Male artists' percentage is: 64 %; Female artists' percentage is: 15 %\n"
     ]
    }
   ],
   "source": [
    "genderCount = {'Male': 9732, 'Female': 2343}\n",
    "tot = len(MoMA_artists)\n",
    "print (\"Male artists' percentage is:\", round((genderCount['Male']/tot)*100),'%;', \"Female artists' percentage is:\", round((genderCount['Female']/tot)*100),'%')"
   ]
  },
  {
   "cell_type": "markdown",
   "id": "059444fd",
   "metadata": {},
   "source": [
    "### Nationalities: which are the most represented nationalities overall?\n",
    "As for genres, we examine the distribution of artists' nationalities in out datasets."
   ]
  },
  {
   "cell_type": "markdown",
   "id": "a435e232",
   "metadata": {},
   "source": [
    "### MoMa"
   ]
  },
  {
   "cell_type": "code",
   "execution_count": 79,
   "id": "16e83f64",
   "metadata": {},
   "outputs": [
    {
     "data": {
      "text/plain": [
       "American     5181\n",
       "0            2472\n",
       "German        965\n",
       "British       860\n",
       "French        847\n",
       "             ... \n",
       "Cambodian       1\n",
       "Cypriot         1\n",
       "Sahrawi         1\n",
       "Kuwaiti         1\n",
       "Beninese        1\n",
       "Name: Nationality, Length: 120, dtype: int64"
      ]
     },
     "execution_count": 79,
     "metadata": {},
     "output_type": "execute_result"
    }
   ],
   "source": [
    "MoMA_artists['Nationality'].value_counts()"
   ]
  },
  {
   "cell_type": "markdown",
   "id": "5551facb",
   "metadata": {},
   "source": [
    "### Tate"
   ]
  },
  {
   "cell_type": "code",
   "execution_count": 80,
   "id": "81d26eef",
   "metadata": {},
   "outputs": [
    {
     "data": {
      "text/plain": [
       "United Kingdom    1522\n",
       "0                  492\n",
       "United States      341\n",
       "France             160\n",
       "Germany            142\n",
       "                  ... \n",
       "Tunis                1\n",
       "Iraq                 1\n",
       "Bénin                1\n",
       "Malaysia             1\n",
       "Makedonija           1\n",
       "Name: placeOfBirth, Length: 99, dtype: int64"
      ]
     },
     "execution_count": 80,
     "metadata": {},
     "output_type": "execute_result"
    }
   ],
   "source": [
    "Tate_artists['placeOfBirth'].value_counts()"
   ]
  },
  {
   "cell_type": "markdown",
   "id": "5625d37b",
   "metadata": {},
   "source": [
    "# Acquisition criteria."
   ]
  },
  {
   "cell_type": "markdown",
   "id": "c20702e1",
   "metadata": {},
   "source": [
    "## 1.  In which years are artists' works mostly acquired?"
   ]
  },
  {
   "cell_type": "markdown",
   "id": "a3abe7b0",
   "metadata": {},
   "source": [
    "### Year by year"
   ]
  },
  {
   "cell_type": "code",
   "execution_count": 94,
   "id": "d626f9a3",
   "metadata": {},
   "outputs": [
    {
     "data": {
      "text/plain": [
       "1964    12828\n",
       "2008     7204\n",
       "1968     6894\n",
       "0        6682\n",
       "2001     4170\n",
       "        ...  \n",
       "1933       93\n",
       "1932       18\n",
       "1929        9\n",
       "1930        7\n",
       "1931        3\n",
       "Name: DateAcquired, Length: 95, dtype: int64"
      ]
     },
     "execution_count": 94,
     "metadata": {},
     "output_type": "execute_result"
    }
   ],
   "source": [
    "MoMA['DateAcquired'].value_counts()"
   ]
  },
  {
   "cell_type": "code",
   "execution_count": 95,
   "id": "639a2c4f",
   "metadata": {},
   "outputs": [
    {
     "data": {
      "text/plain": [
       "<bound method IndexOpsMixin.value_counts of 0        1922\n",
       "1        1922\n",
       "2        1922\n",
       "3        1922\n",
       "4        1919\n",
       "         ... \n",
       "69196    2013\n",
       "69197    2013\n",
       "69198    2013\n",
       "69199    2013\n",
       "69200    2013\n",
       "Name: DateAcquired, Length: 69201, dtype: object>"
      ]
     },
     "execution_count": 95,
     "metadata": {},
     "output_type": "execute_result"
    }
   ],
   "source": [
    "Tate['DateAcquired'].value_counts"
   ]
  },
  {
   "cell_type": "markdown",
   "id": "62c9d0cd",
   "metadata": {},
   "source": [
    "### Every ten years"
   ]
  },
  {
   "cell_type": "markdown",
   "id": "96d7abcc",
   "metadata": {},
   "source": [
    "Let us analyse acquisitions from a larger perspective: not year by year, but for every ten years."
   ]
  },
  {
   "cell_type": "markdown",
   "id": "bbe6680e",
   "metadata": {},
   "source": [
    "### MoMA"
   ]
  },
  {
   "cell_type": "code",
   "execution_count": 102,
   "id": "3dcf4c53",
   "metadata": {},
   "outputs": [
    {
     "name": "stdout",
     "output_type": "stream",
     "text": [
      "MoMA: {'1990s': 13332, '1960s': 31950, '1970s': 13868, '1980s': 11497, '2000s': 26861, '1940s': 8274, '1950s': 6846, '1930s': 3318}\n"
     ]
    }
   ],
   "source": [
    "MoMA_artworks.to_csv('MoMA.csv') \n",
    "with open('MoMA.csv', mode='r', encoding='utf-8') as csvfile: \n",
    "    reader = csv.DictReader(csvfile) \n",
    "    years={} \n",
    "    for item in reader: \n",
    "        if item['DateAcquired']not in years: \n",
    "            years[item['DateAcquired']]= 1 \n",
    "        else: \n",
    "            years[item['DateAcquired']]+= 1 \n",
    "new_dict={} \n",
    "for key in years: \n",
    "    key_int=int(key) \n",
    "    if key_int in range(1928,1941): \n",
    "        if '1930s' not in new_dict.keys(): \n",
    "               new_dict['1930s']= years[key] \n",
    "        else: \n",
    "            new_dict['1930s'] += years[key] \n",
    "    if key_int in range(1940,1951): \n",
    "        if '1940s' not in new_dict.keys(): \n",
    "               new_dict['1940s']= years[key] \n",
    "        else: \n",
    "            new_dict['1940s'] += years[key] \n",
    "     \n",
    "    if key_int in range(1950,1961): \n",
    "        if '1950s' not in new_dict.keys(): \n",
    "               new_dict['1950s']= years[key] \n",
    "        else: \n",
    "            new_dict['1950s'] += years[key] \n",
    "     \n",
    "    if key_int in range(1960,1971): \n",
    "        if '1960s' not in new_dict.keys(): \n",
    "               new_dict['1960s']= years[key] \n",
    "        else: \n",
    "            new_dict['1960s'] += years[key] \n",
    "     \n",
    "    if key_int in range(1970,1981): \n",
    "        if '1970s' not in new_dict.keys(): \n",
    "               new_dict['1970s']= years[key] \n",
    "        else: \n",
    "            new_dict['1970s'] += years[key] \n",
    "    if key_int in range(1980,1991): \n",
    "        if '1980s' not in new_dict.keys(): \n",
    "               new_dict['1980s']= years[key] \n",
    "        else: \n",
    "            new_dict['1980s'] += years[key] \n",
    "     \n",
    "    if key_int in range(1990,2001): \n",
    "        if '1990s' not in new_dict.keys(): \n",
    "               new_dict['1990s']= years[key] \n",
    "        else: \n",
    "            new_dict['1990s'] += years[key] \n",
    "    \n",
    "    if key_int in range(2000,2011): \n",
    "        if '2000s' not in new_dict.keys(): \n",
    "               new_dict['2000s']= years[key] \n",
    "        else: \n",
    "            new_dict['2000s'] += years[key] \n",
    "         \n",
    "     \n",
    "print('MoMA:', new_dict)"
   ]
  },
  {
   "cell_type": "code",
   "execution_count": 103,
   "id": "694e0fb6",
   "metadata": {},
   "outputs": [
    {
     "name": "stdout",
     "output_type": "stream",
     "text": [
      "Tate: {'1990s': 6693, '2000s': 5345, '1980s': 5538, '1940s': 776, '1950s': 633, '1970s': 6853, '1930s': 788, '1960s': 1048}\n"
     ]
    }
   ],
   "source": [
    "Tate_artworks.to_csv('Tate.csv') \n",
    "with open('Tate.csv', mode='r', encoding='utf-8') as csvfile: \n",
    "    reader = csv.DictReader(csvfile) \n",
    "    years={} \n",
    "    for item in reader: \n",
    "        if item['DateAcquired']not in years: \n",
    "            years[item['DateAcquired']]= 1 \n",
    "        else: \n",
    "            years[item['DateAcquired']]+= 1 \n",
    "new_dict={} \n",
    "for key in years: \n",
    "    key_int=int(key) \n",
    "    if key_int in range(1928,1941): \n",
    "        if '1930s' not in new_dict.keys(): \n",
    "               new_dict['1930s']= years[key] \n",
    "        else: \n",
    "            new_dict['1930s'] += years[key] \n",
    "    if key_int in range(1940,1951): \n",
    "        if '1940s' not in new_dict.keys(): \n",
    "               new_dict['1940s']= years[key] \n",
    "        else: \n",
    "            new_dict['1940s'] += years[key] \n",
    "     \n",
    "    if key_int in range(1950,1961): \n",
    "        if '1950s' not in new_dict.keys(): \n",
    "               new_dict['1950s']= years[key] \n",
    "        else: \n",
    "            new_dict['1950s'] += years[key] \n",
    "     \n",
    "    if key_int in range(1960,1971): \n",
    "        if '1960s' not in new_dict.keys(): \n",
    "               new_dict['1960s']= years[key] \n",
    "        else: \n",
    "            new_dict['1960s'] += years[key] \n",
    "     \n",
    "    if key_int in range(1970,1981): \n",
    "        if '1970s' not in new_dict.keys(): \n",
    "               new_dict['1970s']= years[key] \n",
    "        else: \n",
    "            new_dict['1970s'] += years[key] \n",
    "    if key_int in range(1980,1991): \n",
    "        if '1980s' not in new_dict.keys(): \n",
    "               new_dict['1980s']= years[key] \n",
    "        else: \n",
    "            new_dict['1980s'] += years[key] \n",
    "     \n",
    "    if key_int in range(1990,2001): \n",
    "        if '1990s' not in new_dict.keys(): \n",
    "               new_dict['1990s']= years[key] \n",
    "        else: \n",
    "            new_dict['1990s'] += years[key] \n",
    "    \n",
    "    if key_int in range(2000,2011): \n",
    "        if '2000s' not in new_dict.keys(): \n",
    "               new_dict['2000s']= years[key] \n",
    "        else: \n",
    "            new_dict['2000s'] += years[key] \n",
    "         \n",
    "     \n",
    "print('Tate:', new_dict)"
   ]
  },
  {
   "cell_type": "markdown",
   "id": "21012a99",
   "metadata": {},
   "source": [
    "## Gender Gap \n",
    "We have already analysed the total number of male and female artists. Let us now anlysed the gender of acquired artists in time. In this way, we will try to investigate the gender gap in our museum's collections and try to understand how it changes (if it does) throughout the years. "
   ]
  },
  {
   "cell_type": "markdown",
   "id": "ffd77772",
   "metadata": {},
   "source": [
    "### MoMa"
   ]
  },
  {
   "cell_type": "markdown",
   "id": "9ba11b60",
   "metadata": {},
   "source": [
    "Number of female and male artists acquired every ten years."
   ]
  },
  {
   "cell_type": "code",
   "execution_count": 130,
   "id": "265cfeb1",
   "metadata": {},
   "outputs": [
    {
     "name": "stdout",
     "output_type": "stream",
     "text": [
      "{'1930s': {'Male': 292, 'Female': 32}, '1940s': {'Male': 739, 'Female': 109}, '1950s': {'Male': 942, 'Female': 101}, '1960s': {'Male': 1561, 'Female': 159}, '1970s': {'Male': 962, 'Female': 174}, '1980s': {'Male': 1246, 'Female': 238}, '1990s': {'Male': 1031, 'Female': 310}, '2000s': {'Male': 1771, 'Female': 503}}\n"
     ]
    }
   ],
   "source": [
    "MoMA_acquisitions.to_csv('MoMA_acquisitions.csv')\n",
    "with open('MoMA_acquisitions.csv', mode='r', encoding='utf-8') as csvfile: \n",
    "    reader = csv.DictReader(csvfile) \n",
    "    gender={'1930s': {'Male': 0, 'Female': 0}, '1940s': {'Male': 0, 'Female': 0}, '1950s': {'Male': 0, 'Female': 0}, '1960s': {'Male': 0, 'Female': 0}, '1970s': {'Male': 0, 'Female': 0}, '1980s': {'Male': 0, 'Female': 0}, '1990s': {'Male': 0, 'Female': 0}, '2000s': {'Male': 0, 'Female': 0}} \n",
    "    for item in reader: \n",
    "        if int(item['DateAcquired']) in range (1928,1941): \n",
    "            if (item['Gender'] == 'Female'):  \n",
    "                gender['1930s']['Female'] += 1 \n",
    "            else: \n",
    "                gender['1930s']['Male'] += 1 \n",
    "        if int(item['DateAcquired']) in range (1940,1951): \n",
    "            if (item['Gender'] == 'Female'):  \n",
    "                gender['1940s']['Female'] += 1 \n",
    "            else: \n",
    "                gender['1940s']['Male'] += 1 \n",
    "        if int(item['DateAcquired']) in range (1950,1961): \n",
    "            if (item['Gender'] == 'Female'):  \n",
    "                gender['1950s']['Female'] += 1 \n",
    "            else: \n",
    "                gender['1950s']['Male'] += 1 \n",
    "        if int(item['DateAcquired']) in range (1960,1971): \n",
    "            if (item['Gender'] == 'Female'):  \n",
    "                gender['1960s']['Female'] += 1 \n",
    "            else: \n",
    "                gender['1960s']['Male'] += 1 \n",
    "        if int(item['DateAcquired']) in range (1970,1981): \n",
    "            if (item['Gender'] == 'Female'):  \n",
    "                gender['1970s']['Female'] += 1 \n",
    "            else: \n",
    "                gender['1970s']['Male'] += 1 \n",
    "        if int(item['DateAcquired']) in range (1980,1991): \n",
    "            if (item['Gender'] == 'Female'):  \n",
    "                gender['1980s']['Female'] += 1 \n",
    "            else: \n",
    "                gender['1980s']['Male'] += 1 \n",
    "        if int(item['DateAcquired']) in range (1990,2001): \n",
    "            if (item['Gender'] == 'Female'):  \n",
    "                gender['1990s']['Female'] += 1 \n",
    "            else: \n",
    "                gender['1990s']['Male'] += 1 \n",
    "        if int(item['DateAcquired']) in range (2000,2011): \n",
    "            if (item['Gender'] == 'Female'):  \n",
    "                gender['2000s']['Female'] += 1 \n",
    "            else: \n",
    "                gender['2000s']['Male'] += 1 \n",
    "    print(gender)"
   ]
  },
  {
   "cell_type": "markdown",
   "id": "705c4f23",
   "metadata": {},
   "source": [
    "Percentage of female-male artists every ten years"
   ]
  },
  {
   "cell_type": "code",
   "execution_count": 131,
   "id": "a3219a6f",
   "metadata": {},
   "outputs": [
    {
     "name": "stdout",
     "output_type": "stream",
     "text": [
      "1930s Male 90 % Female 10 %\n",
      "1940s Male 87 % Female 13 %\n",
      "1950s Male 90 % Female 10 %\n",
      "1960s Male 91 % Female 9 %\n",
      "1970s Male 85 % Female 15 %\n",
      "1980s Male 84 % Female 16 %\n",
      "1990s Male 77 % Female 23 %\n",
      "2000s Male 78 % Female 22 %\n"
     ]
    }
   ],
   "source": [
    "for el in gender: \n",
    "    tot = gender[el]['Male'] + gender[el]['Female'] \n",
    "    percentage = (gender[el]['Male']/tot)*100 \n",
    "    print (el, 'Male', round(percentage),'%', 'Female', round(100-percentage),'%')"
   ]
  },
  {
   "cell_type": "markdown",
   "id": "3c2186da",
   "metadata": {},
   "source": [
    "## Tate"
   ]
  },
  {
   "cell_type": "markdown",
   "id": "3be0f8e8",
   "metadata": {},
   "source": [
    "Number of female and male artists acquired every ten years."
   ]
  },
  {
   "cell_type": "code",
   "execution_count": 132,
   "id": "99e652fc",
   "metadata": {},
   "outputs": [
    {
     "name": "stdout",
     "output_type": "stream",
     "text": [
      "{'1930s': {'Male': 189, 'Female': 40}, '1940s': {'Male': 106, 'Female': 14}, '1950s': {'Male': 161, 'Female': 13}, '1960s': {'Male': 230, 'Female': 19}, '1970s': {'Male': 499, 'Female': 71}, '1980s': {'Male': 301, 'Female': 45}, '1990s': {'Male': 348, 'Female': 88}, '2000s': {'Male': 402, 'Female': 145}}\n"
     ]
    }
   ],
   "source": [
    "# We use the file with gender integration, adding acquisition dates and dropping duplicates\n",
    "Tate_acquisitions_integrated = pd.merge(gender_count,Tate_artworks[['Id', 'DateAcquired']], on='Id', how='left')\n",
    "Tate_acquisitions_integrated.fillna(value ='0', inplace = True )\n",
    "Tate_acquisitions_integrated = Tate_acquisitions_integrated.drop_duplicates(subset='Name', keep=\"first\")\n",
    "Tate_acquisitions_integrated.to_csv('Tate_acquisitions_integrated.csv')\n",
    "with open('Tate_acquisitions_integrated.csv', mode='r', encoding='utf-8') as csvfile: \n",
    "    reader = csv.DictReader(csvfile) \n",
    "    gender={'1930s': {'Male': 0, 'Female': 0}, '1940s': {'Male': 0, 'Female': 0}, '1950s': {'Male': 0, 'Female': 0}, '1960s': {'Male': 0, 'Female': 0}, '1970s': {'Male': 0, 'Female': 0}, '1980s': {'Male': 0, 'Female': 0}, '1990s': {'Male': 0, 'Female': 0}, '2000s': {'Male': 0, 'Female': 0}} \n",
    "    for item in reader: \n",
    "        if int(item['DateAcquired']) in range (1928,1941): \n",
    "            if (item['Gender'] == 'Female'):  \n",
    "                gender['1930s']['Female'] += 1 \n",
    "            else: \n",
    "                gender['1930s']['Male'] += 1 \n",
    "        if int(item['DateAcquired']) in range (1940,1951): \n",
    "            if (item['Gender'] == 'Female'):  \n",
    "                gender['1940s']['Female'] += 1 \n",
    "            else: \n",
    "                gender['1940s']['Male'] += 1 \n",
    "        if int(item['DateAcquired']) in range (1950,1961): \n",
    "            if (item['Gender'] == 'Female'):  \n",
    "                gender['1950s']['Female'] += 1 \n",
    "            else: \n",
    "                gender['1950s']['Male'] += 1 \n",
    "        if int(item['DateAcquired']) in range (1960,1971): \n",
    "            if (item['Gender'] == 'Female'):  \n",
    "                gender['1960s']['Female'] += 1 \n",
    "            else: \n",
    "                gender['1960s']['Male'] += 1 \n",
    "        if int(item['DateAcquired']) in range (1970,1981): \n",
    "            if (item['Gender'] == 'Female'):  \n",
    "                gender['1970s']['Female'] += 1 \n",
    "            else: \n",
    "                gender['1970s']['Male'] += 1 \n",
    "        if int(item['DateAcquired']) in range (1980,1991): \n",
    "            if (item['Gender'] == 'Female'):  \n",
    "                gender['1980s']['Female'] += 1 \n",
    "            else: \n",
    "                gender['1980s']['Male'] += 1 \n",
    "        if int(item['DateAcquired']) in range (1990,2001): \n",
    "            if (item['Gender'] == 'Female'):  \n",
    "                gender['1990s']['Female'] += 1 \n",
    "            else: \n",
    "                gender['1990s']['Male'] += 1 \n",
    "        if int(item['DateAcquired']) in range (2000,2011): \n",
    "            if (item['Gender'] == 'Female'):  \n",
    "                gender['2000s']['Female'] += 1 \n",
    "            else: \n",
    "                gender['2000s']['Male'] += 1 \n",
    "    print(gender)"
   ]
  },
  {
   "cell_type": "markdown",
   "id": "c3d6e590",
   "metadata": {},
   "source": [
    "Percentage of female-male artists acquired every ten years"
   ]
  },
  {
   "cell_type": "code",
   "execution_count": 133,
   "id": "5074bad4",
   "metadata": {},
   "outputs": [
    {
     "name": "stdout",
     "output_type": "stream",
     "text": [
      "1930s Male 83 % Female 17 %\n",
      "1940s Male 88 % Female 12 %\n",
      "1950s Male 93 % Female 7 %\n",
      "1960s Male 92 % Female 8 %\n",
      "1970s Male 88 % Female 12 %\n",
      "1980s Male 87 % Female 13 %\n",
      "1990s Male 80 % Female 20 %\n",
      "2000s Male 73 % Female 27 %\n"
     ]
    }
   ],
   "source": [
    "for el in gender: \n",
    "    tot = gender[el]['Male'] + gender[el]['Female'] \n",
    "    percentage = (gender[el]['Male']/tot)*100 \n",
    "    print (el, 'Male', round(percentage),'%', 'Female', round(100-percentage),'%')"
   ]
  },
  {
   "cell_type": "markdown",
   "id": "952ad657",
   "metadata": {},
   "source": [
    "## Nationalities "
   ]
  },
  {
   "cell_type": "markdown",
   "id": "c0d85013",
   "metadata": {},
   "source": [
    "Does nationality affect the artists' selection? Does acquisition campaigns show different tendencies and patterns throughout the years, when it comes to the artists' nationality?"
   ]
  },
  {
   "cell_type": "markdown",
   "id": "3d33d24c",
   "metadata": {},
   "source": [
    "### MoMA\n",
    "For every ten years, we count the nationalities' frequency."
   ]
  },
  {
   "cell_type": "code",
   "execution_count": 107,
   "id": "b62d6c29",
   "metadata": {},
   "outputs": [],
   "source": [
    "def cleanDates(date): \n",
    "    if '.' in date: \n",
    "        date = date.split('.')[0] \n",
    "    return date"
   ]
  },
  {
   "cell_type": "code",
   "execution_count": 232,
   "id": "fe2f4144",
   "metadata": {},
   "outputs": [
    {
     "ename": "NameError",
     "evalue": "name 'MomA_artists' is not defined",
     "output_type": "error",
     "traceback": [
      "\u001b[1;31m---------------------------------------------------------------------------\u001b[0m",
      "\u001b[1;31mNameError\u001b[0m                                 Traceback (most recent call last)",
      "\u001b[1;32mC:\\Users\\FRANCE~1\\AppData\\Local\\Temp/ipykernel_10736/3864767894.py\u001b[0m in \u001b[0;36m<module>\u001b[1;34m\u001b[0m\n\u001b[1;32m----> 1\u001b[1;33m \u001b[0mdisplay\u001b[0m\u001b[1;33m(\u001b[0m\u001b[0mMomA_artists\u001b[0m\u001b[1;33m)\u001b[0m\u001b[1;33m\u001b[0m\u001b[1;33m\u001b[0m\u001b[0m\n\u001b[0m",
      "\u001b[1;31mNameError\u001b[0m: name 'MomA_artists' is not defined"
     ]
    }
   ],
   "source": [
    "display(MomA_artists)"
   ]
  },
  {
   "cell_type": "code",
   "execution_count": 230,
   "id": "a31d7e3b",
   "metadata": {},
   "outputs": [],
   "source": [
    "MoMA_nationalities = pd.merge(MoMA_artists,MoMA[['Id', 'DateAcquired']],on='Id', how='left') \n",
    "MoMA_nationalities.fillna(value='0', inplace=True) \n",
    "MoMA_nationalities[\"DateAcquired\"] = MoMA_nationalities[\"DateAcquired\"].astype(str) \n",
    "#MoMA_nationalities[\"DateAcquired\"] = MoMA_nationalities[\"DateAcquired\"].apply(cleanDates) \n",
    "MoMA_nationalities = MoMA.drop_duplicates(subset='Artist', keep=\"first\") \n",
    "MoMA_nationalities.to_csv('MoMaNationalities.csv')"
   ]
  },
  {
   "cell_type": "code",
   "execution_count": 231,
   "id": "ec41ea09",
   "metadata": {},
   "outputs": [
    {
     "name": "stdout",
     "output_type": "stream",
     "text": [
      "defaultdict(<class 'dict'>, {'1990s': {'(Austrian)': 20, '(French)': 70, '()': 15, '(American)': 630, '(Dutch) (Dutch)': 3, '(Swedish)': 5, '(Swedish) (Swedish)': 2, '(British)': 85, '(American) (American) (American)': 5, '(Japanese)': 68, '(Dutch) (British) (British) (Dutch)': 2, '(Argentine)': 7, '(Brazilian) (Brazilian)': 4, '(American) (American)': 38, '() (American) (American)': 3, '(Italian)': 53, '(Spanish)': 29, '(Dutch) (British) (Dutch) (British)': 1, '(Austrian) (Polish)': 1, '(American) (American) (American) (American)': 3, '(Iranian)': 2, '(Dutch) (German) (Dutch) (German) (Canadian) (Belgian) (American) (Dutch) (Spanish)': 1, '(Dutch)': 37, '(Swiss) (Swiss) (Swiss)': 1, '(French) (French)': 7, '() (American)': 4, '(Japanese) (Japanese)': 5, '(Swiss)': 41, '(Dutch) (British)': 2, '(Italian) (Italian)': 6, '(Italian) (Italian) (Italian)': 2, '(Italian) (Italian) (Italian) (Italian) (Italian) (Italian)': 4, '(German) () ()': 2, '(British) (British)': 4, '(American) (American) (American) (American) (American) (American) () ()': 1, '(American) (American) () () () ()': 1, '(Dutch) (Dutch) (Belgian) (French) (German) (American) (American) (American) (American) (Japanese)': 1, '(Dutch) (French) (Dutch) (Japanese) (American) (Dutch)': 1, '(Dutch) (Norwegian) (Dutch)': 1, '(German) ()': 4, '(Finnish)': 7, '(American) (American) () (German)': 1, '(Spanish) (Spanish)': 2, '() (American) () (American) () ()': 1, '(Swiss) (Swiss) (Swiss) (German)': 1, '(Dutch) (Dutch) (American) (Dutch) (American) (American) (American) (Japanese)': 1, '(Austrian) (Austrian) (Austrian)': 2, '(Finnish) (Finnish) (Finnish) (Finnish) (Finnish)': 1, '(Finnish) (Finnish) (Finnish)': 1, '(Italian) (Italian) (Japanese) () ()': 1, '() (American) (American) () () () ()': 1, '() (Canadian) (Canadian)': 1, '(German)': 86, '(Danish)': 17, '(Italian) (Italian) (American)': 1, '(Austrian) (Austrian) (Austrian) (Austrian) (Austrian)': 1, '(French) ()': 2, '(Austrian) (Austrian)': 4, '(American) (American) (American) (German) (American)': 1, '(British) (British) (British)': 1, '(Belgian)': 4, '(Canadian) (Canadian) (American)': 1, '(Colombian)': 3, '(Dutch) (Danish)': 1, '(Italian) (German)': 2, '(Australian)': 5, '(Nationality unknown)': 8, '(German) (American)': 1, '(British) (British) ()': 2, '(Italian) (Japanese)': 1, '(British) (American)': 1, '(Russian)': 25, '() (British) (American) (American)': 1, '(British) ()': 5, '(Swiss) (British)': 1, '(British) (American) (American)': 1, '(American) (American) (American) (American) (American) ()': 1, '(Latvian)': 1, '(Russian) (Russian)': 3, '(Russian) (Russian) (Russian)': 1, '(German) (German) (German) (German) (German) (German)': 1, '(German) (German) (German) (German)': 1, '(Swiss) ()': 2, '(American) ()': 13, '(Polish)': 19, '(Dutch) (Dutch) (Dutch)': 2, '(Norwegian)': 4, '(Dutch) () ()': 2, '(Dutch) (Dutch) ()': 1, '(Dutch) (Dutch) (Dutch) (Dutch)': 1, '(Swiss) (Swiss)': 3, '(German) (German)': 3, '(Czech)': 10, '(Czech) (American)': 1, '(Swedish) () ()': 1, '(Swiss) (American) (French) (German) (American) (Australian) (British) ()': 1, '(American) (American) (Swiss) ()': 2, '(Swiss) (American) (American) ()': 1, '(American) (American) ()': 3, '(German) (American) ()': 1, '() (American) (American) (American) (American) (American) (American) (American) (American) (American) (British) (American) (American) (American) (American) (American) (American) (British) (American)': 1, '() (American) (American) (American) (American) (American) (American) (American) (American) (American) (American) (American) () (American) (American) (American) (American) (American) (American) () (American) (American) (German) (American) (American) (American) (American) (American) (American)': 1, '(American) (South African) (Austrian) () ()': 1, '(Italian) (American) (Swiss) ()': 1, '(French) (Canadian) (American) (American) ()': 1, '(Mexican)': 10, '(American) (Swiss) (German) (Thai) ()': 1, '(Italian) (American) ()': 1, '(Italian) ()': 1, '(American) (American) (American) (American) (American) (American) (American) (American) (American)': 2, '(Swiss) (German) (American) (Swiss) ()': 1, '(British) (German) ()': 1, '(Brazilian)': 15, '(American) (Austrian) (American) (Swiss) ()': 1, '(American) (Scottish) (Canadian) (Swiss) ()': 1, '(German) (German) ()': 1, '(British) (Mexican) (Swiss) (American) ()': 1, '(American) (American) (Japanese) () ()': 1, '(American) (American) (American) ()': 1, '(German) (American) (American) ()': 1, '(German) (American) (British) () ()': 1, '(Greek)': 1, '(German) (Greek) ()': 1, '(American) (German) (American) () ()': 1, '(Italian) (Canadian) (Swiss) ()': 1, '(American) (Swiss) (American) (Italian) (German) (German) ()': 1, '(American) (American) (Japanese) (Swiss) ()': 1, '(German) (American) (Swiss) ()': 1, '(Swiss) (American) ()': 1, '(American) (Austrian) (Swiss) () ()': 1, '(American) (American) (German) (American) ()': 1, '(German) (American) (British) (Swiss) ()': 1, '(German) (American) (German) (Danish) (German) (German) ()': 1, '(American) (German) ()': 1, '(Spanish) (American) (American) (American) ()': 1, '(American) (New Zealander) (Swiss) ()': 1, '(American) (American) (German) ()': 1, '(American) (American) (German) (American) (American) (American) ()': 1, '(Italian) (Italian) (Italian) (Italian) (Italian) ()': 1, '(German) (Swiss) (American) (American) (Swiss) ()': 1, '(Thai)': 1, '(Australian) (American) (German) (British) (Swiss) ()': 1, '(Danish) (Danish) (Danish) (Icelandic) (British) (Danish) (Dutch) (Dutch) (French) (Dutch) (Danish) (Danish) (French) (Danish) (Belgian) ()': 1, '(Icelandic)': 2, '(American) (American) (American) (American) (American) (American) (American) (American) ()': 1, '(Italian) (American)': 1, '(Italian) (American) (American) (American) ()': 1, '(American) (American) (German) (British) (American) ()': 1, '(Swiss) (American) (Japanese) (British) (Swiss) ()': 1, '(Chilean)': 8, '() (Austrian) (Austrian) (Austrian) (Austrian)': 1, '(Cuban)': 6, '(South African)': 4, '(Israeli)': 4, '(Cuban) (Cuban) (Cuban) (Cuban)': 1, '(Romanian)': 2, '(Austrian) (Austrian) ()': 1, '(Austrian) ()': 3, '(French) (French) (Hungarian)': 1, '(Azerbaijani)': 1, '(Ukrainian)': 2, '(Malian)': 1, '(Canadian)': 12, '(Peruvian)': 1, '(Indian)': 2, '(Cambodian) ()': 1, '(American) (American) (Venezuelan) (American) (American) (American) ()': 1, '(American) (American) () () () () () ()': 1, '(American) (American) (American) (American) (American) (American) (American) (American) (American) (American) (American) ()': 1, '(American) (Swiss) (Thai) (German) (American) ()': 1, '() (German) (German) (German) (German) (German) (German)': 1, '(Scottish)': 1, '(American) (Italian) (British) (American) (American) (American) (American) (American) (American) (American) (American) ()': 1, '(British) (British) (British) (German)': 1, '(British) () ()': 1, '() (American) (American) (American) (American) (American) (American)': 1, '(American) () (American) ()': 1, '(American) (American) () (American)': 1, '(American) () (American)': 1, '(British) (American) (American) (American) (American) ()': 1, '(American) (American) (American) (American) (American) () (American)': 1, '(Pakistani)': 1, '(Korean)': 1, '(Austrian) (American) (American) ()': 1, '(German) (French) (Swiss) (British) (Portuguese)': 1, '(Swiss) (British) (Portuguese) (French) (German) ()': 1, '(Portuguese) (French) (Swiss) (British) (German)': 1, '(British) (French) (Swiss) (Portuguese) (German)': 1, '(Swiss) (French) (British) (Portuguese) (German)': 1, '(French) (Swiss) (British) (Portuguese) (German)': 1, '(French) (British) (Portuguese) (French) (German)': 1, '(Portuguese)': 2, '(Spanish) ()': 1, '(American) (American) (American) (American) (American) (American) (American) (American)': 1, '(Swiss) (German)': 1, '(American) (American) (American) (American) (American) (American) (American) (American) (American) ()': 1, '(American) (American) (American) (American) (American)': 1, '(Spanish) (Cuban) (Spanish) (Spanish)': 1, '(American) (German)': 1, '(Chinese)': 6, '(Senegalese)': 1, '(Bahamian)': 1, '(American) (American) (American) () (American)': 1, '() (American) (American) () () () () () () () () () () () () ()': 1, '(Serbian) (American)': 1, '(German) (Danish) (German) (American) (German) (German) ()': 1, '(Swiss) (French)': 1, '(French) () (Swiss) ()': 1, '(Hungarian)': 1, '() (Chinese)': 1, '(Icelandic) (American)': 3, '(Taiwanese)': 1, '(Icelandic) (American) ()': 1, '(Chinese) ()': 2, '(Mexican) ()': 1, '(Uruguayan)': 1, '(Chilean) (Chilean)': 1, '(American) (Spanish)': 1, '(Spanish) (American) (American)': 1, '(American) (Japanese) (American) (American)': 1, '(American) () ()': 1, '(Japanese) ()': 1, '(German) (German) (German)': 1, '(Swiss) (Swiss) (American) (Swiss) ()': 1, '(American) (American) (German) (Swiss) ()': 1, '(German) (American) () () ()': 1}, '1960s': {'(German)': 146, '(American) (French) (American)': 1, '(American) (American) (French)': 1, '(American)': 645, '(American) (American)': 39, '(Austrian)': 19, '(Dutch) ()': 2, '(Danish)': 12, '(Italian) (Italian)': 5, '()': 15, '(Italian)': 95, '(American) (American) (American)': 8, '(British)': 71, '(Swiss)': 31, '(Spanish)': 21, '(Canadian)': 48, '(French)': 175, '(Australian)': 4, '(French) (American)': 1, '(German) (Swiss)': 1, '(Finnish)': 4, '(Swedish)': 26, '(Italian) (Italian) (Italian)': 4, '(Dutch)': 18, '(Japanese)': 68, '(Slovenian)': 5, '(Chilean)': 20, '() (American) (French)': 1, '(German) (German)': 7, '(American) (American) () () (American) (American)': 1, '(German) (German) (German)': 1, '(Danish) (American)': 1, '(Italian) (British)': 1, '(German) (American)': 1, '(Polish)': 29, '() (American)': 1, '(Nationality unknown)': 36, '(Russian) (Russian)': 1, '(Russian)': 26, '(Belgian)': 16, '(Czech)': 8, '(Mexican) (American)': 1, '(German) (German) (Swiss)': 1, '(Swiss) (Swiss)': 1, '(Italian) ()': 1, '(American) (American) (American) (American)': 1, '(German) (German) (German) (German) (German) (German)': 1, '(Swedish) (Swedish)': 1, '(Brazilian)': 22, '(Latvian) (Russian)': 1, '(American) ()': 7, '(German) (Austrian)': 1, '(Polish) ()': 1, '(Moroccan)': 2, '(Argentine) (Argentine) (Argentine)': 1, '(Croatian)': 4, '(Romanian)': 3, '(Argentine)': 37, '(Venezuelan)': 7, '(Mexican)': 15, '(American) (American) (American) (American) (American) (American) (American) (American) (American) (American) (American) (American) (American) (American) (American) (American) (American) (American) (American) (American) (Venezuelan) (American) (American) (American) (American) (American) (American) (American) (French) ()': 1, '(Italian) (Italian) (Italian) (Italian) (Italian) (Italian) (Italian) (Italian) (Italian) (Italian) ()': 1, '() (American) (American) (American) (American) (British) (American) (American) (American) (Venezuelan) (American) (American) (American) (American) (American)': 1, '() (German) (German) (German)': 1, '(French) (French) ()': 4, '(American) (American) (American) (American) (American) (American) (American) ()': 1, '(Belgian) (Belgian)': 1, '(Belgian) (American) (American) (American) (American) (American) (British) (American) (American) (American) (British) (American) (American) (American) (American) (American) (American) (American) (American) (American) ()': 1, '(American) (German)': 1, '(British) (British)': 3, '(American) (Irish)': 1, '(American) (French)': 2, '(American) (British)': 2, '(British) (French)': 1, '(Japanese) (Japanese) (Japanese) (Japanese) (Japanese) (Japanese) (Japanese) (Japanese) (Japanese) (Japanese) ()': 1, '(German) (German) (German) (German) (German) (German) (German) (German) ()': 1, '(French) (German) (French) (French) (French) (Swiss) (British) (French) (Cuban) (French) (Spanish) ()': 1, '(Cuban)': 6, '(Swiss) (American) ()': 1, '(American) (American) (American) (American) (American) (American) (Canadian) (American) (American) (American) (American) (American) (American) (American) (American) (American) (American) (American) (American) (American) ()': 1, '(Canadian) (Spanish) (Swedish) (French) (French) ()': 1, '(American) (American) (German) (Russian) (French) (Italian) (French) (Russian) (German) (Israeli) (French) (Russian) (American) (Italian) (Argentine) (Hungarian) (American) (Belgian) (Italian) (Belgian) ()': 1, '(Israeli)': 12, '(Hungarian)': 4, '(French) (Italian) ()': 1, '(French) (French) (French)': 2, '(French) (French) () ()': 1, '(French) (French)': 7, '(Italian) (Italian) (Canadian) (French) (French) (American) (Dutch) (Italian) (Italian) (Japanese) (Swiss) (French) (Japanese) (British) (German) (Belgian) () (Danish) (Italian) ()': 1, '(Icelandic)': 2, '(Belgian) (German) (Italian) (French) (French) (French) (British) (Italian) (Canadian) (Italian) (Italian) (Swedish) (Japanese) (Swedish) (Japanese) (French) (Belgian) ()': 1, '(Belgian) (Italian) (Italian) (Cuban) (Chinese) (Italian) (Swedish) (Japanese) (Argentine) (French) (British) (French) (Indian) (French) (Italian) (Japanese) (Romanian) ()': 1, '(Indian)': 7, '(Chinese)': 2, '(Polish) (French) (Italian) (Japanese) (Dutch) (Argentine) (German) (Mexican) (Austrian) (Russian) (Mexican) (Italian) (Italian) (Italian) (Italian) (French) (Polish) (Italian) (Austrian) (Chilean) ()': 1, '() (French) (French) (French)': 1, '(Spanish) (Georgian)': 1, '(French) (French) (French) (French) (French) (French) (Swiss) (French) (German) (French) (French) (Italian) (French) (French) (French) (Spanish) (Spanish) (French) (Swiss) (Belgian) (French) ()': 1, '(Swiss) (French)': 1, '(Spanish) (French)': 1, '(French) (Spanish) (French)': 1, '(French) ()': 2, '(French) (French) (French) ()': 1, '(American) (Spanish) (Spanish) (French) (Canadian) (British) (British) ()': 1, '(French) (French) (French) (French) (French) (French) (Swiss) (French) (French) (French) (French) (Spanish) (Spanish) (American) (French) ()': 1, '(French) (French) (French) (French) (French) (French) (French) (French) ()': 1, '() (French) (French) (American) (French) (Spanish) (French) (French) (French) (French) (Spanish) (French)': 1, '(French) (French) (French) (French) (French) (French) ()': 1, '(French) (Spanish) (Swiss) (French) (French) (Swiss) (French) (French) (French) (French) (French) (French) (French) (Swiss) (Japanese) (French) (French) (French) (French) (Austrian) (French) (French) (French) (French) (French) ()': 1, '(Austrian) ()': 1, '() (French) (Italian) (French) (French) (French) (French) (French) (German) (Czech) (French) (Italian) (Dutch) (French) (Swiss) (Dutch) (French)': 1, '() (American) (American)': 1, '(French) (French) (French) (French) (French) (French) (French) (French) (French) (French) (French) (Polish) (French) (French) ()': 1, '(French) (French) (French) (French) (French) (French) (French) (French) (Japanese) (French) (French) (French) (French) (French) (French) (French) (American) (French) (French) (French) ()': 1, '(American) (French) (French) (Irish) (French) (French) (French) (French) (French) (Nationality unknown) (French) ()': 1, '(Irish)': 2, '() (French) (American) (British) (French) (French) (American) (French) (American) (American) (American)': 1, '() (Belgian) (Dutch) (Italian) (British) (American) (Swedish) (American) (American) (American) (Danish) (American) (Austrian) (American) (American) (American) (American) (American) (American) (Canadian) (American) (Spanish) (American) (Danish) (American) (Dutch) (American) (American)': 1, '(Costa Rican)': 1, '(American) (American) (American) (American) (American) (American) (American) (American) (American) (American) (American) (American) (American) (American) (American) (American) ()': 1, '(French) (Spanish) (Spanish) (French) (French)': 1, '(Guatemalan)': 2, '(Ethiopian)': 1, '(Kuwaiti)': 1, '(Colombian)': 5, '(Iranian)': 4, '(Zimbabwean)': 3, '(Greek)': 4, '(French) (French) (Romanian) (American) (Romanian)': 1, '(Portuguese)': 1, '(Panamanian)': 2, '(Serbian)': 2, '(Peruvian)': 11, '(American) () ()': 1, '(Norwegian)': 1, '(American) (American) (American) (American) (American) (American) (American) (American)': 1, '(Uruguayan)': 4, '(Korean)': 1, '(American) (American) (American) (American) (American) (American) (American) (American) (American) (American) (American)': 4, '(Canadian Inuit)': 3, '(Argentine) (Austrian)': 1, '(Ecuadorian)': 2, '(South African)': 1, '(American) (American) (British) (British) (American) (British) (American) (American) (American) (American) (American) ()': 1, '(American) (American) (Swedish) (American) (American) (British) (American) (American) (American) (American) ()': 1, '(Taiwanese)': 1, '(American) () () () (Italian) ()': 1, '(American) (Italian)': 1, '(American) (American) (American) (Japanese) (Japanese) (American) (American) (American) (American) (American) (American) ()': 1, '(Mexican) (Mexican)': 2, '(Paraguayan)': 1, '(Slovenian) (Romanian) (Romanian) (Hungarian) (Czech) (Hungarian) (Polish) (Polish) (Slovenian) (Czech) ()': 1, '() (American) (American) (American) (American) (American) (American) (American) (American)': 1, '(American) (American) (American) (American) (American) (American) (American)': 1, '(American) (American) (American) (American) (American) (American)': 1, '(Bolivian)': 1, '(American) (American) (American) (American) (American) (American) (American) (American) (American) (American)': 1, '(Sudanese)': 1, '(Tanzanian)': 1, '(Turkish)': 2, '(Haitian)': 1, '() (Italian) (Italian) (Italian) (Italian) (Italian)': 1, '(Danish) ()': 1, '(American) () (American)': 1}, '1970s': {'(American)': 591, '(American) ()': 6, '(Italian) (Italian) (Italian)': 3, '(Italian)': 33, '(American) (Swiss)': 1, '(American) (American)': 16, '(Italian) (Italian) (Italian) (Italian) (Italian) (Italian) (Italian)': 1, '(American) (American) ()': 1, '(American) (Swiss) (Swiss)': 1, '(Danish)': 7, '(Swiss)': 16, '(Japanese)': 62, '(Russian)': 17, '(Swedish) ()': 1, '(Swedish)': 2, '(Italian) (Italian)': 8, '(German)': 56, '(American) (Italian)': 1, '(Spanish)': 13, '(French)': 52, '(French) (French)': 2, '(German) (German)': 6, '(Dutch)': 22, '(Austrian)': 8, '(British)': 83, '(Slovenian)': 5, '(Swedish) (Swedish)': 1, '(German) (Swedish) (German)': 1, '(Belgian)': 9, '(German) (American)': 1, '(Finnish)': 2, '(Italian) ()': 1, '(Italian) (Italian) (Italian) (Italian) (Italian) (Italian)': 1, '(Polish)': 7, '(American) (German)': 2, '(Chilean)': 7, '(American) (American) (American)': 3, '() (American) (French)': 1, '(Mexican)': 15, '(Austrian) ()': 1, '(British) (British)': 4, '(Greek)': 2, '(Israeli)': 13, '(Japanese) (Japanese)': 1, '(Nationality unknown)': 21, '(American) (American) (American) (American) (Argentine)': 1, '(Russian) (Russian)': 3, '(Czech)': 8, '(Cuban)': 4, '(Swiss) (Swiss)': 1, '(German) (German) (German) (German) (German) (German) ()': 1, '(Brazilian)': 6, '(French) (French) (French) (French) (French) (Swiss) (Italian) (Polish) (French) (Spanish) (American) (Spanish) (French) ()': 1, '(Australian)': 12, '() (German) (German) (German) (German) (German) (German) () (German) (German) (German) (Austrian) (German) (German)': 1, '(German) ()': 6, '(Russian) (Russian) (Russian) (Russian) (Russian) (Russian) ()': 1, '(French) (German) (French) (French) (French) (Swiss) (British) (French) (Cuban) (French) (Spanish) ()': 1, '(Venezuelan)': 14, '(Russian) ()': 1, '() (Latvian) (Russian)': 1, '() (American) (American) (American) (Swiss)': 1, '(Serbian)': 1, '(Romanian)': 3, '(Russian) (Russian) ()': 1, '(British) (American)': 1, '(Ukrainian)': 2, '(Argentine)': 3, '(Norwegian)': 1, '(Colombian)': 13, '(Canadian)': 7, '(Peruvian)': 1, '(Turkish)': 2, '(South African)': 1, '(Austrian) (German) (Austrian)': 1, '(Irish)': 2, '()': 3, '(American) (British)': 1, '(German) (German) (German) (British) (German) (German) (German) ()': 1, '(Belgian) (Dutch)': 1, '(American) (American) (American) (American) (American) (American) (American) (American)': 1, '(Korean)': 3, '(American) (Russian)': 1, '(Panamanian)': 1, '() (American) (American) (American) (American) (American) (American) (American) (American) (French) (American) (American) (American) (American)': 1, '() (Colombian) (Colombian) (Mexican) (Mexican) (Mexican) (Mexican) (Venezuelan) (Mexican) (Colombian) (Colombian) (Venezuelan) (Colombian) (Mexican) (Mexican) (Venezuelan) (Venezuelan) (Venezuelan) (Colombian) (Spanish) (Mexican) (Venezuelan)': 1, '() (American) (American) (American) (American) (American) (American) (American)': 1, '(Venezuelan) (Brazilian) (British) (Venezuelan) (Mexican) (Colombian) (Mexican) (Venezuelan) (Colombian) (Spanish) (Spanish) (Argentine) (Venezuelan) (Paraguayan) (Colombian) (Venezuelan) (Argentine) (Mexican) (American) (Colombian) (Colombian) (Spanish) (Uruguayan) (Venezuelan) (Colombian) (Japanese) (American) (Mexican) (Mexican) ()': 1, '(Uruguayan)': 2, '(Paraguayan)': 1, '() (American) (American) (American) (Swiss) (American) (American) (American) (British) (American) (American)': 1, '(Nationality unknown) (Cuban)': 1, '(American) (American) (American) (British) (American) (American) (American) ()': 1, '(American) (American) (American) (American) (American) (American) (American) (American) (American) (American) (American) (American) (American)': 2, '(American) (British) (American) (British) (German) (American) (American) (American) (American) (American) (American) ()': 1, '(French) (Irish) (American) (Swiss) (American) (American) (French) (American) (American) (American) (American) ()': 1, '(American) (American) (American) () (American) (American) (American) (American) (Italian) (Russian) (American) ()': 1, '(American) (American) (American) (American) (American) (American) (Italian) (American) (American) (Nationality unknown) (American) (American) ()': 1, '(American) (British) (Nationality unknown) (Nationality unknown) (American) (American) (American) (American) (American) (American) (American) (Nationality unknown) (American) ()': 1, '(American) (Swiss) (American) (Nationality unknown) (French) (Nationality unknown) (American) (Nationality unknown) () (American) (American) ()': 1, '(American) (American) (American) (American) (American) (American) (American) (American) (American) (American) ()': 1, '(Belgian) (American)': 1, '(Slovenian) (Romanian) (Romanian) (Hungarian) (Czech) (Hungarian) (Polish) (Polish) (Slovenian) (Czech) ()': 1, '(Hungarian)': 2, '(American) (American) (American) (American) (American) (American) (Swedish) (American) (American) (German) (American) (American) (American) (American) (American) (American) (American) (American) (American) (American) (American) (American) (American) (American) (American) (American) (American) (American) (American) ()': 1, '(American) (American) (American) (American) (American) (American) ()': 1, '(Tunisian)': 1, '(British) (American) (American) (American) (American) (French) (American) (American) (American) (American) (American) (American) ()': 1, '(French) (Spanish)': 1, '(Icelandic) (American) ()': 1, '() (Japanese) (American)': 1, '() (American) (Japanese) () ()': 1, '(Japanese) (American)': 1}, '1980s': {'(American)': 716, '(American) ()': 5, '(Italian) (Italian) (Italian)': 2, '(Swedish)': 11, '(Swedish) (Swedish)': 2, '(Italian)': 37, '(American) (American) (American)': 8, '(American) (American) (American) (American)': 2, '(Swiss)': 54, '(Luxembourger)': 1, '(Italian) (Italian) (Italian) (Italian) (Italian)': 1, '(Spanish) () ()': 1, '(Dutch)': 34, '(British)': 100, '(Russian)': 18, '(French)': 100, '(American) (American)': 35, '(French) (Swiss)': 1, '()': 14, '(American) () () () () ()': 1, '(Danish)': 14, '(Japanese)': 72, '(German)': 112, '(Finnish)': 8, '(American) (American) (American) (American) (American) (American)': 1, '(Moroccan)': 1, '(Swedish) (Swedish) (Swedish) (Swedish)': 1, '(Austrian)': 24, '(Danish) (Danish)': 1, '(British) ()': 2, '(Spanish)': 13, '(Japanese) (Japanese) (Japanese) ()': 1, '(Hungarian)': 9, '(German) (German)': 13, '(Dutch) (Danish)': 2, '(Belgian)': 12, '(Argentine) (Italian)': 1, '(British) (American) (American)': 2, '(Australian) (Australian)': 1, '(Canadian)': 33, '(Italian) (Italian)': 2, '(Mexican)': 10, '(Austrian) ()': 1, '(Australian)': 6, '(Canadian) (Canadian)': 4, '(Latvian)': 2, '(Japanese) (Japanese)': 6, '(Nationality unknown)': 6, '(Argentine)': 1, '(Israeli)': 7, '(Polish)': 17, '(Czech)': 14, '(Croatian)': 3, '(German) (German) (German)': 1, '(French) (French)': 4, '(Italian) (British)': 1, '(Georgian)': 1, '(Swiss) (Swiss)': 4, '(Ukrainian) (Ukrainian)': 1, '(British) (British) (British)': 2, '(Cuban)': 4, '(German) ()': 4, '(Finnish) (Finnish)': 1, '(Nationality unknown) ()': 1, '(American) (Belgian)': 1, '(Hungarian) (Hungarian)': 1, '() (French) (German)': 1, '(Chilean) (Belgian)': 1, '(Russian) (Russian) (Russian) (Russian) (Russian) ()': 1, '(American) (Russian)': 1, '(British) (British) (British) (British) (British) (British) (British) ()': 1, '(Spanish) (Mexican) (American) (American) (Spanish) (Spanish) (Spanish) (Argentine) (Spanish) ()': 1, '(Chilean)': 3, '() (American) (American)': 1, '(Romanian)': 2, '(American) (German) (Dutch) (French) (French) (Dutch) (British) (Dutch) (Dutch) (American) (Dutch) (Dutch) (Dutch) (British) (American) (Australian) (American) (Italian) (American) (Austrian) (Swiss) (Belgian) (American) (Hungarian) (German) (Dutch) (Dutch) (French) (German) ()': 1, '(Colombian)': 2, '(Croatian) ()': 1, '(British) (British)': 3, '(Venezuelan)': 1, '(Congolese)': 1, '(Greek)': 1, '(Peruvian)': 3, '(Norwegian)': 4, '(Spanish) (Spanish)': 1, '(Native American)': 2, '(Brazilian)': 2, '(Irish)': 1, '(Indian)': 1, '() (American) (American) () (American)': 1, '(American) (American) (American) (American) (American) (American) (American)': 1, '(Haitian)': 1, '(Slovak)': 1, '(Estonian)': 2, '() (German) (German) (German) (German) (German) (German) (German) (German) (German) (German) (German) (German) (Swiss) (Austrian) (German) (German) (German) (German) (German)': 1, '(Russian) (Russian)': 1, '(British) (Spanish)': 1, '() (American) (Australian) (American) (American) (American) (American) (American) (American) (American) (American) (American) (American) (American) (American) (American) (American)': 1, '(Icelandic)': 1, '(Portuguese)': 1, '() (American) (American) (Dutch) (American) (American) (American) (American) (American) (American) (American) (British) (American) (American) (American) (American) (American) (American) (French) (American)': 1, '(Japanese) (Japanese) (American) (American) (American) (French) (American) (American) (Japanese) (American) (French) (American) (Japanese) (Swiss) (French) (French) (American) ()': 1, '(French) (Swiss) (French)': 1, '(French) (American) (American)': 1, '(American) (French) (American) (French) (Nationality unknown) (French) (French) (French) (Italian) (French) (Swiss) (French) ()': 1, '(Chinese)': 1, '(Austrian) (Austrian)': 1, '(American) (American) (American) (American) (American) (British) (American) (American) ()': 1, '(Swiss) (German)': 1, '(American) (American) (American) (American) (American) (American) (American) (American) (American) (American) (American)': 1, '(American) (American) (American) (American) (American)': 1, '(American) (American) (American) (American) (American) (American) (American) (American) (American) (American) (American) (American) (American) (American) (American) (American) (American) (American) (American) (American) (American) (American) (American) (American) (American) (American) (American) (American) (American) (American) (American)': 1, '(American) (American) (American) (American) (American) (American) (American) (American) (American) (American) (American) (Canadian) (American) (American) (American) (American) (American) (American) (American) (American) (American) (American) (American) (American) (American) (American) (American) (American) (American) (American) (American) (American) (American) (American) (American) (American) (American) (American) (American) (American) (American) (American) (American) (American) (American) (American) (American)': 1, '(American) (American) (American) (American) (American) (American) (American) (American)': 1, '(American) (German)': 1, '(American) (American) (American) (American) (American) (American) (American) (American) (American) (American) (American) (American)': 1, '(Puerto Rican)': 1, '(Icelandic) (American) ()': 1, '() (Japanese) (American)': 1, '(Serbian) (German)': 1, '() (American)': 2, '() (French)': 1, '(American) () ()': 1, '() ()': 3, '() (British)': 1, '(American) (Canadian)': 1, '() () ()': 2, '(American) (American) ()': 2, '(Belgian) (Belgian)': 1, '(Ukrainian)': 1, '(Dutch) (Scottish)': 1, '(Chilean) (Chilean) (Chilean) (Chilean) (Chilean) (Chilean)': 1, '(American) () (American)': 1, '(Croatian) (Croatian)': 1, '(American) (British) (British)': 1, '() (American) (Japanese) ()': 1}, '2000s': {'(Dutch) (Dutch)': 10, '(American)': 699, '(Italian)': 55, '(French)': 80, '(British)': 113, '(Dutch) (British)': 3, '(American) (American)': 96, '(Austrian)': 77, '(Italian) (Italian)': 8, '(Italian) (Italian) (Italian)': 4, '(Italian) (Italian) (Italian) (Italian) (Italian) (Italian)': 4, '(British) (British)': 16, '(Finnish)': 11, '(Swiss)': 44, '(Nationality unknown)': 22, '(Danish)': 29, '(German)': 186, '(Swedish) (Swedish) (Swedish) (Swedish)': 1, '(German) (German)': 26, '(Danish) (Danish)': 1, '(Swedish)': 13, '(Japanese)': 54, '(American) ()': 27, '(Belgian)': 18, '(Austrian) (Austrian) (Austrian) (Austrian) (Austrian)': 1, '(French) ()': 2, '(Japanese) (Japanese)': 8, '(Brazilian) (Brazilian)': 3, '(Dutch)': 45, '(American) (American) (American) (American) (American) ()': 1, '(Czech)': 16, '(Polish)': 18, '(Swedish) () ()': 1, '(Russian)': 68, '()': 366, '(Georgian)': 2, '() ()': 22, '(Ukrainian)': 4, '() (Ukrainian) (Ukrainian) (Russian) (Russian) (Russian)': 1, '(Russian) () ()': 3, '() (Ukrainian) (Ukrainian) (Russian) (Russian) () (Russian) (Russian)': 1, '(Ukrainian) (Ukrainian)': 2, '() (Ukrainian) (Ukrainian) () (Russian) (Russian)': 1, '(Russian) (Russian)': 27, '(Russian) (Russian) (Russian) (Russian) (Russian)': 2, '() () (Russian) ()': 1, '(Ukrainian) (Russian)': 5, '(Russian) (Russian) (Russian) (Russian) (Russian) (Russian)': 2, '(Russian) (Russian) (Russian) (Russian)': 1, '(Russian) () (Russian) (Russian)': 1, '(Russian) ()': 13, '() () (Russian) (Russian) (Russian) () ()': 1, '(Ukrainian) (Ukrainian) (Russian)': 2, '(Russian) (Ukrainian) (Ukrainian) (Russian) (Russian)': 1, '() (Russian)': 8, '(Georgian) (Georgian)': 1, '(Russian) (Georgian)': 2, '() (Ukrainian) (Russian) (Georgian)': 1, '() (Ukrainian) () (Russian) ()': 1, '(Georgian) ()': 1, '(Georgian) (Russian) () (Russian) (Georgian)': 1, '() (Russian) (Georgian) () (Russian) (Nationality unknown) () (Georgian) (Georgian)': 1, '(Russian) (Nationality unknown)': 3, '(Russian) (Georgian) (Georgian)': 1, '(French) (Russian) (Nationality unknown)': 1, '(French) () ()': 1, '() (Russian) (Russian)': 2, '(Thai)': 1, '() () (Russian) () (Russian)': 1, '(Ukrainian) (Nationality unknown)': 1, '(Russian) (Russian) (Russian) (Georgian)': 1, '() () () ()': 3, '(Russian) () (Russian) () (Russian) (Russian)': 1, '(Russian) (Latvian)': 1, '() (Latvian)': 2, '() (Russian) (Russian) ()': 2, '(Latvian) (Russian)': 3, '(Russian) (Russian) (Russian)': 2, '(Ukrainian) ()': 3, '(Nationality unknown) ()': 2, '(Russian) (Swiss)': 1, '() () (Ukrainian) () () (Ukrainian) () () () ()': 1, '() () (Russian)': 1, '(Latvian) (Russian) (Russian)': 1, '(Ukrainian) (Russian) (Russian) (Russian) (Georgian) (Russian) (Russian) ()': 1, '() () () () () () () () () () () () () ()': 1, '() () (Russian) (Ukrainian) () () () () () () (Russian) () (Russian) () (Russian) () () () () (Nationality unknown)': 1, '() () () () () ()': 2, '() (Russian) () () () ()': 1, '() () () () (Russian)': 1, '(Ukrainian) () (Ukrainian) (Russian) (Russian)': 1, '(Ukrainian) (Ukrainian) () (Russian) (Russian) (Russian) ()': 1, '(Georgian) () () (Georgian)': 1, '() () (Georgian) (Russian)': 1, '() () ()': 3, '() () () () ()': 3, '() () () () () (Russian)': 1, '(Russian) (Russian) (Georgian)': 3, '() (Russian) () (Russian) ()': 1, '() (Russian) ()': 1, '(Latvian) ()': 1, '() () (Ukrainian) () () () (Russian)': 1, '(Russian) () () () () (Russian) () () (Russian) ()': 1, '() (Russian) (Russian) (Russian)': 1, '(Ukrainian) (Ukrainian) (Russian) (Russian) () (Russian) (Russian) ()': 1, '(Russian) (Russian) (Russian) (French) () (Russian) (Russian) (Russian)': 1, '(Russian) (Ukrainian) (Russian) (Russian)': 1, '(Ukrainian) (Ukrainian) () (Russian) (Russian)': 1, '() (Czech)': 2, '(American) (American) (Swiss) (American) ()': 1, '(Swiss) (American) (American) (British) () ()': 1, '(Italian) (Japanese) (American) () ()': 1, '(American) (Belgian) (American) (German) () ()': 1, '(Canadian)': 30, '(Brazilian)': 25, '(Russian) (Russian) (Russian) () () ()': 1, '(South African)': 49, '(Cuban) (Cuban) (Cuban) (Cuban)': 2, '(Spanish)': 15, '(Cuban)': 12, '(Iranian)': 2, '() (American)': 18, '(Bosnian)': 4, '(Australian)': 6, '(Pakistani)': 3, '(Korean)': 12, '(Austrian) (American) (American) ()': 1, '(American) (American) (American) (American) (American) (American) (American) (American) (American)': 1, '(Argentine)': 15, '(American) (American) (American) (American) (American) (American) (American) (American) (American) (American) (American) ()': 1, '(American) (German)': 7, '(Bahamian)': 1, '(American) (American) (American) (American) (American) (American)': 4, '(British) (American) (American)': 1, '(British) (American)': 9, '(Finnish) (Swedish)': 1, '(Turkish)': 10, '(Finnish) (Finnish)': 1, '(Canadian) (Canadian)': 5, '(British) (British) (British)': 3, '(Finnish) (Finnish) (Finnish)': 1, '(Scottish)': 13, '(Indian)': 5, '(Croatian)': 5, '(Russian) (German)': 1, '(British) (American) (British) (British) ()': 1, '(British) (German) (American) ()': 1, '(French) (French)': 10, '(Russian) (Russian) () ()': 1, '(Chinese)': 32, '(Hungarian)': 10, '(Russian) (Russian) () () () (Russian) () () (Russian) () () ()': 1, '(American) (British)': 2, '(Belgian) (American) (British) (South African) (German) ()': 1, '(Israeli)': 17, '(Austrian) (Austrian)': 14, '(Congolese)': 1, '(Icelandic) (American) (Canadian) (Swiss) (American) ()': 1, '(American) (Swiss) (American) (Dutch) () ()': 1, '(Venezuelan)': 4, '(Dutch) (Dutch) (Dutch) (Dutch) (Dutch) (Dutch)': 1, '(Icelandic)': 2, '(Swiss) (Swiss)': 4, '() (German)': 6, '(Peruvian)': 5, '(French) (French) (French)': 1, '(British) (Australian)': 1, '(Uruguayan)': 1, '(British) (German) (British) (Canadian) (American) ()': 1, '(German) (Finnish) (American) (British) (British) ()': 1, '(Serbian) (American)': 1, '(American) (American) (American)': 25, '(Malian)': 1, '() (American) (French) (French) (American) (Cuban) (American) (French) (Spanish) (American) (French) (Austrian)': 1, '(Finnish) ()': 1, '(Italian) (American) (Dutch) (American)': 1, '(Italian) (Dutch) (American)': 1, '(Bulgarian)': 3, '(Italian) (Dutch)': 1, '(Italian) (Dutch) ()': 1, '(Italian) (Italian) (Italian) (Italian)': 2, '(Italian) (Italian) (Italian) (Italian) (Italian) (Italian) (Italian)': 1, '(Danish) (Danish) (Danish)': 1, '() (New Zealander)': 1, '(Swiss) (American)': 2, '(Dutch) (Japanese)': 1, '(Swedish) (Swedish)': 1, '(Irish)': 3, '(Colombian)': 7, '(Mexican)': 11, '(Lebanese)': 1, '(German) (Dutch)': 1, '(American) (Dutch) (Dutch) (American) (Dutch) (American) (American) (Iranian) (Spanish) (American) (American)': 1, '(American) (Brazilian)': 1, '(American) (American) (American) (American)': 6, '(British) ()': 15, '() (Iranian) (Spanish)': 1, '(Norwegian) (Norwegian) (Norwegian) (Norwegian)': 3, '(Austrian) ()': 9, '(Danish) (Danish) (British) (British)': 1, '(South African) (South African) (South African) (South African)': 2, '(American) (British) (British) (British)': 1, '(British) (British) (Cypriot)': 1, '(American) (British) (American) (American) (American) (American) (Argentine) (American) (American) (American)': 1, '(Luxembourger)': 1, '(British) (British) (American) (British) (American) (British) (British) (American) (British) (American) () (American) (American) (American) (American)': 1, '(Japanese) (Austrian) (American) (American)': 1, '(Israeli) (Israeli)': 1, '(British) (Canadian) (Canadian) (Canadian) (Canadian) (Canadian)': 1, '(British) (New Zealander)': 1, '(Swedish) (Swedish) (Swedish)': 1, '(Kenyan)': 1, '(Italian) (Swiss) (American) (American) ()': 1, '(Canadian) (French) (Swiss) (French) ()': 1, '(German) (German) (Polish) (German)': 1, '(Cuban) (Cuban) (Cuban)': 1, '(Icelandic) (Icelandic)': 1, '(Nigerian)': 1, '(Taiwanese)': 2, '(Polish) (British)': 1, '(Norwegian)': 6, '() (French) (German)': 1, '() (Austrian) (Israeli)': 1, '() (Israeli) (Austrian)': 1, '(Slovenian)': 4, '(Swiss) (British)': 1, '(Swiss) (Italian) (German)': 1, '(Danish) (Danish) (Danish) (British) (Danish) (Danish)': 1, '(American) (Italian) (British)': 1, '(Egyptian)': 3, '(Albanian)': 2, '(Spanish) (Italian)': 1, '(Spanish) (Spanish)': 2, '() (Spanish) ()': 1, '(Dutch) ()': 1, '(Spanish) (American) (Brazilian) (Spanish)': 1, '() (Japanese) (Japanese)': 1, '(Korean) (Japanese)': 1, '(German) (Danish)': 2, '(American) (Polish) (British) (Austrian) ()': 1, '(American) (American) (American) (Albanian) (German) ()': 1, '(French) (German) (German) (American) ()': 1, '(British) (British) ()': 1, '(American) (Dutch) (Slovak)': 1, '(Swiss) (Romanian) (American) (Swiss) (British) ()': 1, '(German) (British) (American) (German) ()': 1, '(South African) (South African)': 1, '(Uruguayan) (American)': 1, '(Belgian) (British) (American) (German) (British) ()': 1, '(Azerbaijani)': 1, '(Austrian) (French) (Irish) (British) (Italian) (Mexican)': 1, '(German) (Swiss)': 1, '(Mexican) (Mexican)': 1, '() (Austrian)': 1, '(Egyptian) ()': 2, '(Ivorian)': 1, '(Ivorian) ()': 1, '(Romanian)': 3, '(Malaysian)': 2, '(Norwegian) (Danish) (Italian)': 1, '(American) (Austrian)': 2, '(Serbian)': 1, '(American) (Korean)': 1, '(Belgian) (French)': 1, '(Croatian) (Croatian) (Croatian)': 1, '(German) ()': 2, '(German) (French)': 3, '(Singaporean)': 1, '(Argentine) (Argentine)': 1, '(Lithuanian)': 2, '(French) (German)': 3, '(Austrian) (American)': 1, '(Austrian) (French)': 1, '(Thai) (Thai)': 1, '(French) (Austrian)': 1, '(German) (Austrian)': 2, '(Austrian) (German)': 2, '(German) (Australian)': 1, '(American) (Swiss)': 2, '(Ukrainian) () (German)': 1, '(British) (American) (Chinese) (Korean) ()': 1, '() (Austrian) (Austrian)': 1, '() (German) (Austrian) (Swiss) () (Austrian) () () ()': 1, '(Austrian) (Czech)': 1, '() () (British) (German) (American) (Austrian) (Thai) () (Austrian) (Swiss) (Thai) (German)': 1, '(Albanian) (Albanian)': 1, '(German) (American)': 4, '(Israeli) (American)': 1, '(Australian) (American)': 2, '(Swedish) ()': 1, '(Slovak)': 6, '(Czech) (Czech)': 1, '(German) () (Austrian)': 1, '() (Austrian) ()': 1, '() (Dutch)': 2, '(American) (Belgian) (Korean) (Italian) ()': 1, '(American) (American) (British)': 2, '() (American) (American) (American) (American) (American) (American) (American) (American) ()': 1, '(American) (Korean) (Brazilian) (German) (British) ()': 1, '(Namibian)': 2, '(American) (Argentine)': 1, '(French) (Swiss)': 1, '(Colombian) ()': 1, '(Canadian) () ()': 2, '(Canadian) ()': 2, '(Canadian) (Canadian) ()': 1, '(Spanish) (Spanish) (Spanish)': 1, '(American) (American) (Spanish)': 1, '(American) (American) (French)': 1, '(American) (American) ()': 2, '(American) (American) (Japanese)': 1, '(American) (American) (Chinese)': 1, '() (Scottish) () () ()': 1, '(French) () (French) (French)': 1, '(British) (British) (British) (American)': 1, '(British) (British) (British) (British)': 1, '(Israeli) (German) (British)': 1, '(German) (British) (British)': 1, '(Portuguese) (British) (British)': 1, '(British) (Austrian) (British)': 1, '(American) (American) (German) (Japanese) (American) (American) (American) (Italian) (American) (American)': 1, '(American) (American) (American) (American) (American) (Greek) (American) (Swiss) (American) () (Canadian) (American) (American) (American) (South African) (South African) (Taiwanese)': 1, '(South African) (American) (American) (American) (American) (American)': 1, '(New Zealander) (New Zealander) (New Zealander) (New Zealander) (New Zealander) (New Zealander) (New Zealander)': 1, '() (Belgian)': 1, '(British) (Polish)': 1, '(British) (Scottish)': 1, '(British) (British) (Italian)': 1, '(American) (American) (American) (German) (German) ()': 1, '() (Austrian) (Irish) (Swiss) (American) (German) (German) (German) (American) (American) (American)': 1, '(American) () ()': 2, '(Polish) ()': 1, '() (Italian) (Italian) (Italian) (Italian)': 1, '(American) (Cuban) (French) (American) (British) (German) ()': 1, '(American) (Cuban)': 1, '(Ghanaian)': 2, '(Afghan)': 1, '(British) (French)': 2, '(British) (Austrian) (Austrian)': 1, '(British) (Italian)': 1, '(Icelandic) (American)': 3, '(Icelandic) (American) ()': 1, '(American) (Russian) (German) (American) (American)': 1, '(American) (Japanese)': 9, '(Russian) (Georgian) (Russian)': 1, '(Kyrgyz) (Kyrgyz)': 1, '() (Korean) ()': 1, '(American) (Icelandic)': 1, '(Scottish) ()': 1, '() (Italian) (Italian)': 1, '(Japanese) (Canadian)': 1, '() (German) (Swedish) (German)': 1, '(Dutch) (Belgian)': 1, '(Dutch) (Dutch) (Dutch)': 1, '(Dutch) (German)': 1, '(German) (British)': 2, '(Swiss) (Austrian)': 1, '(American) (Canadian)': 1, '() (German) (American) (American) (Polish) (American)': 1, '() (German) (German) (German) (Chinese) (Austrian)': 1, '() (Polish) (American) (American) (American) (Polish)': 1, '(Japanese) (Japanese) (Japanese) (Japanese)': 1, '(Austrian) (Austrian) (Austrian) (Austrian)': 1, '(American) (American) (American) (American) (American) (American) (American) (American) (American) (American) (American) (American) (American) (American) ()': 1, '(American) () (American)': 5, '() (American) (American) (American) ()': 1, '() (Japanese) (American) (Nationality unknown) (French) (American) () (Japanese) (American) (American) (American) (Japanese) (Austrian) (American) (American) (American) (American) (German) (Japanese) (French) (American) (American) (American)': 1, '() (Japanese) (Japanese) (Japanese)': 1, '(German) (American) (American) (German) (German) (Swedish) (German) (German) (American) (American) (Swiss)': 1, '(Japanese) (French) (American)': 1, '(American) (Danish) (German) (American)': 1, '(American) (Dutch)': 1, '(Swiss) (Swiss) (American)': 1, '(French) (American)': 4, '(German) (German) (American) (American) (German) (German)': 1, '(Belgian) (Mexican)': 1, '() (German) (American) (Polish) (Swiss) (British)': 1, '() (Japanese) (American) (Nationality unknown) (American) (American) (American) (Japanese) (Japanese) (Austrian) (American) (American) (Japanese) (French) (American) (American) (American)': 1, '() (American) (Dutch) (American) (American) (Japanese) (American) (American) (American) (American) (American) (American) (American) (French) (American)': 1, '() (Japanese) (American) (American) (American) (American) (American) (American) (Japanese) (French) (American) (American)': 1, '(American) (German) (American) (American) (Danish) (Japanese) () (American) (Welsh) (American) (American) (American) (American) ()': 1, '() (American) (American) (French) (American)': 1, '() (American) (British) (French) (American) (French) (American) (American) (American) (Japanese) (American) (Japanese) (American) (American)': 1, '(American) (French)': 3, '(American) (Czech)': 1, '(American) (Danish)': 1, '(French) (Swiss) (French)': 1, '(Danish) (American)': 1, '(Swiss) (French)': 1, '() (German) (American) (American) (American) (German) (American)': 1, '() (American) (German)': 1, '() (Danish) (Japanese) (American) (American) (French) (American) (American) () () (American) (American) (Japanese) (Japanese) (American) (Swiss) (French) (American) (American) (Japanese) (French) (American)': 1, '(American) (Vietnamese) (Vietnamese) (Vietnamese) (American)': 1, '(Swiss) (Italian)': 1, '() (American) (Dutch) (American) (American) (Japanese) (American) (American) (French) (American) (American) (American) (American) (Swiss) (American) (French) (American)': 1, '(Dutch) (Swiss)': 1, '() (American) (American)': 5, '(Austrian) () (American) (American) (American) (American) (Swiss)': 1, '(Japanese) (American)': 3, '(Italian) (German)': 1, '() (German) (American)': 1, '(Czech) (American) (Japanese)': 1, '() (Dutch) (American) (American) (Japanese) (French)': 1, '() (American) (Dutch) (American) (American) (American) (American) (American) (American) (American) (French) (American)': 1, '() (Austrian) (Brazilian) (French) (American)': 1, '(German) (German) (German)': 11, '(Norwegian) (Norwegian) (Norwegian) (Norwegian) (Norwegian)': 1, '() (American) (American) (American) (American) (American) (American) (American) (American) (American) (American) (American) (American) (American) (British) (American) (American) (American) (American) (American) (American)': 1, '(French) (French) (Swiss)': 2, '(American) (American) (American) (American) (American) (German) (American)': 1, '(French) (Swiss) (American) (American) (American)': 1, '(German) (Czech)': 1, '(Ugandan)': 1, '() (Swiss) (American)': 1, '(German) (German) (American) (American) (German) (German) (German)': 1, '(French) (American) (American)': 1, '() (German) (American) (American) (German)': 1, '(American) (French) (American)': 1, '(American) (American) (American) (American) ()': 1, '(American) (Lithuanian)': 1, '(American) (Italian)': 1, '(New Zealander)': 1, '(American) (American) (American) ()': 1, '(Zimbabwean)': 1, '(Cameroonian)': 1, '() (German) (German) (American) (American) (British)': 1, '() (American) (American) (American) (French) (American)': 1, '(Lithuanian) (American)': 1, '(Swiss) (French) (French)': 1, '(Dutch) (Danish)': 1, '() (American) (French)': 1, '() (German) (German) (German) (Danish) (German) (German) (American) () (American) (German) (American) (German) (Austrian) (German) (French) (German) ()': 1, '() (German) (American) (American) (American) (American) (Austrian) (German) (American) () (American) (German) (German) (German)': 1, '() () (American) () (American) (American) () (American) (Czech) (American) (Austrian) (French) () (British) (German) (American) (American) () (Swiss) (Swiss) (Swiss) (French) (German) (German) ()': 1, '() (German) (German) (German) (German)': 3, '() (American) (German) (American) (German) (Danish) (Danish)': 1, '(German) (German) (German) (German) (German)': 4, '(German) (Polish)': 1, '(American) (German) (German)': 1, '(German) () (Romanian)': 1, '(German) (Romanian)': 1, '(German) () () (German)': 1, '(German) (German) () (Czech) ()': 1, '(American) (Czech) (German) (American)': 1, '(German) (German) (German) (German) (German) (German)': 2, '() (German) (German)': 2, '(German) (German) (German) (German) ()': 1, '() (German) (Romanian) (German) (German)': 1, '(German) (German) (German) (German) (Austrian) (Czech) (German)': 1, '(German) () (Czech) (German) (German) (German)': 1, '(German) (German) (German) (German) (American) (German) ()': 1, '(German) (German) (German) (German) (German) ()': 1, '(German) (German) (German) (German)': 2, '(German) () (German) (German) (German) (Austrian) (German)': 1, '(German) () (German) (German)': 1, '(German) (Austrian) (German) (German)': 1, '(German) (Polish) (Polish) () (German)': 1, '(German) (German) (Polish) (German) (German) (German)': 1, '(German) (Polish) (German) (German) (Polish)': 1, '(German) (German) (German) (German) (German) (German) (Polish) (Czech) (German) (German) (German)': 1, '() (German) ()': 1, '(German) (German) () (German)': 1, '() (German) (German) (German)': 1, '(German) (German) (German) ()': 1, '() () (German)': 1, '() () (German) (German)': 1, '(German) () (German)': 2, '() (Danish) (Japanese) (American) (Italian) (Nationality unknown) (Dutch) (American) (American) (American) (American) (Czech) (German) (American) (American) (American) (American) (German) (Japanese) (French) (American) (American) (American)': 1, '() (American) (French) (French) (American) (Italian) (American)': 1, '(Japanese) (American) (American)': 1, '(American) (American) (American) (American) (French) (American) (Japanese)': 1, '(Welsh)': 1, '(French) (Dutch) (American) (Italian)': 1, '() (American) (German) (American) (American) (American) (American) () (American) () (American) (American) (American) (Japanese) (American) (American) (American) (American) (American) (American) (American) (American) (Swiss) (American) (American) (American) (American)': 1, '(German) (Japanese)': 1, '() (Czech) (Czech) (Czech) () (Czech)': 1, '(American) () (Japanese)': 2, '(American) (Japanese) (American) (American)': 1, '(American) (American) (American) (German) (American) (American) (American) (Swedish) (American) (American) (Czech)': 1, '(American) (American) (American) (American) (American) (American) (American)': 1, '(American) (American) (Canadian)': 1, '(American) (Japanese) (American)': 3}, '1940s': {'(Dutch) (Dutch)': 1, '(Italian)': 31, '(Swedish)': 10, '(American)': 434, '()': 22, '(American) (American)': 13, '(Finnish) (Finnish)': 1, '(French)': 55, '(Austrian)': 7, '(Czech)': 3, '(Finnish)': 3, '(Dutch)': 6, '(American) ()': 4, '(Danish)': 3, '(Nationality unknown)': 20, '(Chinese)': 3, '(French) (Swiss) (French)': 1, '(British)': 57, '(American) (Swedish)': 1, '(Spanish) (Argentine) (Argentine)': 1, '(American) (American) (American)': 3, '(British) (British)': 3, '(Russian)': 13, '(Mexican)': 32, '(German)': 37, '(Swiss)': 16, '(Dutch) (German)': 1, '(British) ()': 1, '(Russian) (Russian)': 1, '(French) (French)': 2, '(Belgian)': 7, '(Hungarian)': 3, '(Yugoslav)': 1, '(Greek)': 2, '(Polish)': 6, '(French) (American) (Italian) (Swiss) (French) (Mexican) (Swiss) (Spanish) (Greek) (French) (French) (French) (American) (Italian) (Spanish) (British) (French) (Spanish) (American) (Swiss) (Uruguayan) (French) (French) ()': 1, '(Uruguayan)': 3, '(Spanish)': 6, '(Mexican) (American) (Mexican) (Mexican) (Mexican) (Mexican) (Mexican) ()': 1, '(Mexican) ()': 2, '(French) (German) (Romanian) (Swiss) (American) (Italian) (American) (American) (American) (French) (American) (Romanian) (French) (Cuban) (French) (Brazilian) (Chilean) (Spanish) (American) (American) (American) (American) (Czech) (Belgian) ()': 1, '(Romanian)': 1, '(Guatemalan)': 1, '(Brazilian)': 9, '(French) (French) (French) (French) (French) (French) (Polish) (French) (French) (French) (Spanish) (French) (French) ()': 1, '() (French) (French) (French) (Russian) (Dutch) (German) (French) (Dutch) (French) (French) (French)': 1, '(Swiss) (Swiss) (Swiss) (Swiss) (Swiss) (Italian) (Swiss) (Swiss) (Swiss) (Swiss) ()': 1, '(French) (Swiss) (French) (Dutch) (French) (Swiss) (Swiss) (Italian) (Swiss) (Belgian) ()': 1, '(British) (British) (British) (British) (British) (British) (British) (French) (British) (British) ()': 1, '(Cuban)': 10, '(Chilean)': 2, '(Native American)': 1, '(Haitian)': 10, '(Scottish)': 1, '(Canadian)': 1, '(Australian)': 3, '(Ecuadorian)': 2, '(Argentine)': 15, '(Peruvian)': 2, '(Colombian)': 3, '() ()': 1, '(Spanish) (Polish)': 1, '() (Mexican) (Mexican)': 1, '(Palestinian)': 1, '(Italian) (Italian) (Italian) (Italian)': 1, '(American) () (American) (American) (American)': 1, '(French) (British) (Cuban) (Chilean) (Spanish) (American) (American) ()': 1, '(Haitian) ()': 2, '(German) (German)': 2, '(Costa Rican)': 1, '(Mexican) (Mexican)': 2, '(American) (American) (American) (American) (American) (American) (American)': 1, '(American) (American) (American) (American) (American) (Mexican) ()': 1, '(Nicaraguan)': 1, '(Mexican) (Mexican) (Mexican)': 1, '(Japanese)': 3, '(Bolivian)': 1, '(Brazilian) (Brazilian) (Brazilian) (Brazilian) (Brazilian) (Brazilian) (French)': 1}, '1950s': {'(Brazilian)': 13, '(Swiss)': 39, '(Italian)': 42, '(American)': 324, '(American) ()': 2, '()': 16, '(German)': 90, '(British)': 48, '(Danish)': 13, '(Finnish)': 9, '(Japanese)': 96, '(Dutch)': 25, '(French)': 163, '(German) (German)': 3, '(German) ()': 2, '(American) (American) (American)': 3, '(Swedish)': 16, '(British) (British)': 1, '(Finnish) (Finnish)': 1, '(Scottish) (American)': 1, '(French) (Swiss) (French)': 1, '(Austrian)': 7, '(Czech)': 4, '(American) (American)': 10, '(Italian) (Italian)': 1, '(Spanish)': 5, '(French) (American)': 1, '(German) (Swiss)': 1, '(Canadian)': 9, '(Swiss) (French)': 1, '(Italian) (Italian) (Italian) (Italian)': 1, '(Polish)': 7, '(Nationality unknown)': 55, '(French) ()': 3, '(Belgian)': 10, '(American) () (American)': 1, '(Mexican)': 5, '(Swiss) ()': 1, '(Icelandic)': 1, '(German) (Austrian)': 1, '(Swiss) (Swiss)': 2, '(French) (Swiss)': 1, '() (German) (German) (German)': 1, '(Argentine)': 4, '(French) (French) (French) (French) (French) (French) (French) ()': 2, '(Dutch) (French) (French) (French) (French) (Algerian) (French) (French) (French) (French) (French) (Belgian) (French) (French) (French) (Swiss) ()': 1, '(Algerian)': 1, '() (German) (German) (German) (German) (German) (German) (Hungarian) (German) (German) (Austrian) (German) (German) (German) (German) (German) (German) (German)': 1, '(Hungarian)': 3, '(French) (Spanish) (American) ()': 1, '(Swiss) (French) (French) ()': 1, '(British) (British) (Polish) (Canadian) (French) (American) (Spanish) (British) (Chilean) ()': 1, '(Chilean)': 3, '(Cuban)': 3, '(Russian)': 2, '(Korean)': 2, '(American) (French)': 1, '(Colombian)': 2, '(Venezuelan)': 1, '(Norwegian)': 6, '(Serbian)': 2, '(Israeli)': 4, '(Slovenian)': 1, '(Canadian Inuit)': 2, '(French) (French)': 1, '(German) (German) (Polish) (Austrian)': 1, '(Peruvian)': 1, '(American) () (American) (American) (American)': 1, '(French) (French) (French) (French) ()': 2, '(Belgian) (French) (French) (Czech) ()': 1, '(French) (French) (French) (American) ()': 1, '(Nationality unknown) (French) (German) (Nationality unknown) ()': 1, '(French) (French) (Nationality unknown) (Nationality unknown) ()': 3, '(Belgian) (French) (Nationality unknown) (French) ()': 1, '(French) (French) (Belgian) (French) ()': 1, '(French) (French) (Dutch) (Nationality unknown) ()': 1, '(Nationality unknown) (Nationality unknown) (Belgian) (French) ()': 1, '(Nationality unknown) (Nationality unknown) (French) (Nationality unknown) ()': 1, '(French) (French) (Swiss) (American) ()': 1, '(Nationality unknown) (French) (French) (Nationality unknown) ()': 1, '(French) (Nationality unknown) (Nationality unknown) (French) ()': 2, '(Nationality unknown) (French) (Nationality unknown) (French) ()': 1, '(French) (Nationality unknown) (French) (Nationality unknown) ()': 1, '(French) (Swiss) (Nationality unknown) (French) (Nationality unknown) ()': 1, '(French) (French) (French) (Nationality unknown) ()': 2, '(British) (Nationality unknown) (Nationality unknown) (Nationality unknown) ()': 1, '(French) (Nationality unknown) (French) (Nationality unknown) (French) ()': 1, '() (German) (German) (German) (German) (Brazilian) (German) (German) (German) (German)': 1, '(French) (Italian)': 1, '() (German) (American) (German) (German) (German) (French) (American) (German)': 1, '(Nicaraguan)': 1, '(Guatemalan)': 2, '(Australian)': 2, '(Haitian)': 1, '(Tanzanian)': 1, '(Irish)': 1, '(Turkish)': 1, '(Brazilian) (Brazilian)': 1}, '1930s': {'(American)': 178, '(Coptic)': 1, '(Swedish)': 1, '()': 5, '(British)': 57, '(French)': 18, '(Nationality unknown)': 5, '(British) (British) (British)': 1, '(Spanish)': 19, '(French) (French)': 3, '(Spanish) (American)': 1, '(Chilean)': 1, '(Dutch)': 3, '(Swiss) (French)': 1, '(Swiss)': 6, '(German)': 18, '(Czechoslovakian)': 1, '(French) (German)': 1, '(Russian)': 3, '(Italian)': 2, '(Norwegian)': 1, '(French) (American) (Spanish) (French) (American)': 1, '(French) (French) (French) (French) (French) (French) (American) (French)': 1, '(French) (French) (French) (French) (Swedish)': 1, '(Hungarian)': 1, '(American) (American) (American)': 1, '(Bolivian)': 1, '(Palestinian)': 1, '(American) (American) (American) (American) (American) (American) (American)': 1, '(American) (American) (American) (American) (American) (Mexican) ()': 1, '(Japanese)': 2, '(Mexican)': 1, '(Mexican) ()': 1, '(American) (American)': 2, '(German) ()': 1, '(American) ()': 1}})\n"
     ]
    }
   ],
   "source": [
    "from collections import defaultdict  \n",
    " \n",
    "with open('MoMaNationalities.csv', mode='r', encoding='utf-8') as csvfile: \n",
    "    reader = csv.DictReader(csvfile) \n",
    "    nationalities = defaultdict(dict) \n",
    "    for item in reader: \n",
    "        if int(item['DateAcquired']) in range (1928,1941): \n",
    "            if item['Nationality'] not in nationalities['1930s']: \n",
    "                nationalities['1930s'][item['Nationality']] = 1 \n",
    "            else: \n",
    "                nationalities['1930s'][item['Nationality']] += 1 \n",
    "        if int(item['DateAcquired']) in range (1940,1951): \n",
    "            if item['Nationality'] not in nationalities['1940s']: \n",
    "                nationalities['1940s'][item['Nationality']] = 1 \n",
    "            else: \n",
    "                nationalities['1940s'][item['Nationality']] += 1 \n",
    "        if int(item['DateAcquired']) in range (1950,1961): \n",
    "            if item['Nationality'] not in nationalities['1950s']: \n",
    "                nationalities['1950s'][item['Nationality']] = 1 \n",
    "            else: \n",
    "                nationalities['1950s'][item['Nationality']] += 1 \n",
    "        if int(item['DateAcquired']) in range (1960,1971): \n",
    "            if item['Nationality'] not in nationalities['1960s']: \n",
    "                nationalities['1960s'][item['Nationality']] = 1 \n",
    "            else: \n",
    "                nationalities['1960s'][item['Nationality']] += 1 \n",
    "        if int(item['DateAcquired']) in range (1970,1981): \n",
    "            if item['Nationality'] not in nationalities['1970s']: \n",
    "                nationalities['1970s'][item['Nationality']] = 1 \n",
    "            else: \n",
    "                nationalities['1970s'][item['Nationality']] += 1 \n",
    "        if int(item['DateAcquired']) in range (1980,1991): \n",
    "            if item['Nationality'] not in nationalities['1980s']: \n",
    "                nationalities['1980s'][item['Nationality']] = 1 \n",
    "            else: \n",
    "                nationalities['1980s'][item['Nationality']] += 1 \n",
    "        if int(item['DateAcquired']) in range (1990,2001): \n",
    "            if item['Nationality'] not in nationalities['1990s']: \n",
    "                nationalities['1990s'][item['Nationality']] = 1 \n",
    "            else: \n",
    "                nationalities['1990s'][item['Nationality']] += 1 \n",
    "        if int(item['DateAcquired']) in range (2000,2011): \n",
    "            if item['Nationality'] not in nationalities['2000s']: \n",
    "                nationalities['2000s'][item['Nationality']] = 1 \n",
    "            else: \n",
    "                nationalities['2000s'][item['Nationality']] += 1 \n",
    "         \n",
    "                 \n",
    " \n",
    "print(nationalities)"
   ]
  },
  {
   "cell_type": "code",
   "execution_count": 113,
   "id": "559ee264",
   "metadata": {},
   "outputs": [],
   "source": [
    "Tate_nationalities = pd.merge(Tate_artists,Tate[['Id', 'DateAcquired']], on = 'Id', how = 'left')\n",
    "Tate_nationalities = Tate_nationalities.drop_duplicates(subset='name', keep = \"first\")\n",
    "Tate_nationalities.fillna(value='0', inplace=True)\n",
    "Tate_nationalities[\"DateAcquired\"] = Tate_nationalities[\"DateAcquired\"].astype(str)\n",
    "Tate_nationalities.rename(columns = {'placeOfBirth':'Nationality'}, inplace = True)\n",
    "Tate_nationalities.to_csv(\"TateNationalities.csv\")"
   ]
  },
  {
   "cell_type": "code",
   "execution_count": 114,
   "id": "1254ba42",
   "metadata": {},
   "outputs": [
    {
     "name": "stdout",
     "output_type": "stream",
     "text": [
      "defaultdict(<class 'dict'>, {'2000s': {'Poland': 9, 'United States': 99, 'Germany': 39, 'Finland': 1, 'China': 10, 'Iraq': 1, 'Russia': 2, 'United Kingdom': 150, 'Belgium': 5, 'México': 7, 'Perú': 3, 'Ukraine': 3, 'Îran': 5, 'Italia': 12, 'Venezuela': 4, 'Turkey': 2, '0': 29, 'France': 14, 'Israel': 5, 'Brasil': 17, 'Jugoslavija': 2, 'Uganda': 1, 'Norge': 1, 'Nederland': 4, 'South Africa': 6, 'Romania': 2, 'Argentina': 8, 'Cuba': 4, 'Canada': 9, 'Ireland': 4, 'Greece': 2, 'Colombia': 5, 'Latvija': 1, 'Sweden': 1, 'Chile': 2, 'Czech Republica': 4, 'Danmark': 5, 'Spain': 5, 'Austria': 4, 'Switzerland': 6, 'Pakistan': 1, 'Mehoz': 2, 'India': 3, 'Japan': 10, 'Bahamas': 1, 'Hungery': 3, 'Bangladesh': 1, 'Hrvatska': 2, 'Slovenia': 2, \"Taehan Min'guk\": 1, 'Zimbabwe': 1, 'Sri Lanka': 1, 'New Zealand': 4, 'Luxembourg': 1, 'Ísland': 1, 'Pilipinas': 1, 'Lietuva': 2, 'Australia': 2, 'Al-Lubnan': 3, 'Kenya': 1, \"Al-Jaza'ir\": 1, 'Lao': 1, 'Malta': 1, 'Panamá': 1, 'Misr': 1, 'Portugal': 3, 'Shqipëria': 1, 'Nicaragua': 1, 'Mauritius': 1, 'Bulgaria': 1, 'Indonesia': 1, 'Zambia': 1}, '1970s': {'United Kingdom': 243, 'Switzerland': 4, 'Germany': 22, 'United States': 70, 'Belgium': 11, 'Italia': 11, 'Spain': 5, 'Nederland': 7, '0': 90, 'Canada': 16, 'France': 11, 'Austria': 6, 'South Africa': 4, 'New Zealand': 3, 'Australia': 9, 'Ireland': 5, 'India': 3, 'Venezuela': 1, 'Ukraine': 3, 'Hungery': 5, 'Greece': 1, 'Eesti': 1, 'Russia': 4, 'Romania': 3, 'Slovenia': 1, 'Belarus': 2, 'Armenia': 1, 'Poland': 6, 'Colombia': 2, 'Norge': 1, 'Czech Republica': 3, 'Myanmar': 1, 'Israel': 1, 'Brasil': 1, 'China': 4, 'Singapore': 1, 'Taiwan': 1, 'Chile': 1, 'Japan': 2, 'Sweden': 3, 'Sri Lanka': 1, 'México': 1, 'Misr': 2, 'Viet Nam': 1, 'Samoa': 1}, '1990s': {'Israel': 6, 'United Kingdom': 185, '0': 128, 'France': 16, 'Pakistan': 2, 'Poland': 5, 'United States': 22, 'Germany': 26, 'Italia': 8, 'Barbados': 1, 'Ireland': 7, 'Hungery': 1, 'Sweden': 2, 'Nederland': 3, 'Belgium': 4, 'South Africa': 1, 'Mehoz': 1, 'Al-Lubnan': 1, 'Tanzania': 1, 'Îran': 1, 'Austria': 2, 'Danmark': 1, 'Switzerland': 1, 'India': 1, \"Taehan Min'guk\": 1, 'Ísland': 1, 'Canada': 3, 'Japan': 4, 'Australia': 2, 'Jamaica': 1, 'Spain': 2, 'Brasil': 1, 'China': 1, 'Greece': 1, 'Guyana': 1}, '1980s': {'United States': 46, 'United Kingdom': 126, '0': 46, 'Japan': 1, 'Romania': 3, 'France': 20, 'Italia': 14, 'Germany': 23, 'Bosna i Hercegovina': 2, 'Slovenija': 6, 'Pakistan': 1, 'India': 3, 'Guyana': 1, 'Ireland': 6, 'Austria': 5, 'Switzerland': 8, 'Bulgaria': 1, 'Ukraine': 3, 'Nederland': 4, 'Jamaica': 1, 'Poland': 7, 'Canada': 2, 'Indonesia': 1, 'Belgium': 1, 'Danmark': 1, 'Czech Republica': 2, 'Russia': 2, 'Argentina': 1, 'Sweden': 2, 'Hungery': 2, 'Hrvatska': 2, 'Spain': 2, 'Jugoslavija': 1, 'China': 1, 'Misr': 1}, '1960s': {'United Kingdom': 84, 'Argentina': 1, 'Italia': 12, 'Malaysia': 1, 'Switzerland': 1, 'France': 17, 'Russia': 6, 'Ukraine': 4, 'Poland': 5, '0': 17, 'Germany': 14, 'Sweden': 2, 'Ireland': 3, 'United States': 33, 'South Africa': 4, 'Czech Republica': 3, 'Belgium': 7, 'Brasil': 1, 'Spain': 10, 'India': 3, 'Canada': 2, 'Pakistan': 2, 'Makedonija': 1, 'Romania': 3, 'Nederland': 3, 'Austria': 2, 'Tunis': 1, 'Australia': 1, 'New Zealand': 1, 'Hungery': 1, 'Hrvatska': 1, 'Venezuela': 1, 'Greece': 2, 'Japan': 1}, '1930s': {'United Kingdom': 151, 'Viet Nam': 1, 'Nederland': 4, 'France': 24, 'Russia': 7, '0': 8, 'United States': 4, 'Italia': 4, 'Australia': 2, 'Poland': 3, 'Ireland': 1, 'Spain': 2, 'Belgium': 2, 'Austria': 2, 'India': 4, 'Hrvatska': 2, 'New Zealand': 1, 'Romania': 1, 'Canada': 1, 'Germany': 2, 'Norge': 1, 'Misr': 1, 'Schlesien': 1, 'South Africa': 1}, '1950s': {'Poland': 5, 'Italia': 15, 'Switzerland': 4, 'United Kingdom': 60, 'Ukraine': 4, 'Germany': 9, \"Al-Jaza'ir\": 1, 'Ireland': 5, 'France': 15, '0': 11, 'Russia': 7, 'Schlesien': 1, 'Romania': 2, 'United States': 8, 'Greece': 3, 'Spain': 2, 'Australia': 2, 'Belgium': 3, 'Pakistan': 1, 'Argentina': 1, 'Austria': 3, 'Czech Republica': 1, 'Cuba': 1, 'Moldova': 1, 'Lietuva': 2, 'Sweden': 1, 'Canada': 1, 'México': 1, 'Latvija': 1, 'Belarus': 1, 'Portugal': 1, 'China': 1}, '1940s': {'United Kingdom': 76, 'Viet Nam': 1, 'Ireland': 3, 'France': 8, 'South Africa': 1, 'Nederland': 2, 'Portugal': 1, 'Belarus': 1, 'Austria': 3, 'India': 2, 'Germany': 3, 'Italia': 6, 'Spain': 2, '0': 4, 'China': 1, 'New Zealand': 1, 'United States': 3, 'Switzerland': 1, 'Latvija': 1, 'Poland': 1}})\n"
     ]
    }
   ],
   "source": [
    "from collections import defaultdict \n",
    "\n",
    "with open('TateNationalities.csv', mode='r', encoding='utf-8') as csvfile:\n",
    "    reader = csv.DictReader(csvfile)\n",
    "    nationalities = defaultdict(dict)\n",
    "    for item in reader:\n",
    "        if int(item['DateAcquired']) in range (1928,1941):\n",
    "            if item['Nationality'] not in nationalities['1930s']:\n",
    "                nationalities['1930s'][item['Nationality']] = 1\n",
    "            else:\n",
    "                nationalities['1930s'][item['Nationality']] += 1\n",
    "        if int(item['DateAcquired']) in range (1940,1951):\n",
    "            if item['Nationality'] not in nationalities['1940s']:\n",
    "                nationalities['1940s'][item['Nationality']] = 1\n",
    "            else:\n",
    "                nationalities['1940s'][item['Nationality']] += 1\n",
    "        if int(item['DateAcquired']) in range (1950,1961):\n",
    "            if item['Nationality'] not in nationalities['1950s']:\n",
    "                nationalities['1950s'][item['Nationality']] = 1\n",
    "            else:\n",
    "                nationalities['1950s'][item['Nationality']] += 1\n",
    "        if int(item['DateAcquired']) in range (1960,1971):\n",
    "            if item['Nationality'] not in nationalities['1960s']:\n",
    "                nationalities['1960s'][item['Nationality']] = 1\n",
    "            else:\n",
    "                nationalities['1960s'][item['Nationality']] += 1\n",
    "        if int(item['DateAcquired']) in range (1970,1981):\n",
    "            if item['Nationality'] not in nationalities['1970s']:\n",
    "                nationalities['1970s'][item['Nationality']] = 1\n",
    "            else:\n",
    "                nationalities['1970s'][item['Nationality']] += 1\n",
    "        if int(item['DateAcquired']) in range (1980,1991):\n",
    "            if item['Nationality'] not in nationalities['1980s']:\n",
    "                nationalities['1980s'][item['Nationality']] = 1\n",
    "            else:\n",
    "                nationalities['1980s'][item['Nationality']] += 1\n",
    "        if int(item['DateAcquired']) in range (1990,2001):\n",
    "            if item['Nationality'] not in nationalities['1990s']:\n",
    "                nationalities['1990s'][item['Nationality']] = 1\n",
    "            else:\n",
    "                nationalities['1990s'][item['Nationality']] += 1\n",
    "        if int(item['DateAcquired']) in range (2000,2011): \n",
    "            if item['Nationality'] not in nationalities['2000s']: \n",
    "                nationalities['2000s'][item['Nationality']] = 1 \n",
    "            else: \n",
    "                nationalities['2000s'][item['Nationality']] += 1 \n",
    "        \n",
    "                \n",
    "\n",
    "print(nationalities)"
   ]
  }
 ],
 "metadata": {
  "kernelspec": {
   "display_name": "Python 3 (ipykernel)",
   "language": "python",
   "name": "python3"
  },
  "language_info": {
   "codemirror_mode": {
    "name": "ipython",
    "version": 3
   },
   "file_extension": ".py",
   "mimetype": "text/x-python",
   "name": "python",
   "nbconvert_exporter": "python",
   "pygments_lexer": "ipython3",
   "version": "3.9.0"
  }
 },
 "nbformat": 4,
 "nbformat_minor": 5
}
