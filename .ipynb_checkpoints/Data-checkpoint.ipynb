{
 "cells": [
  {
   "cell_type": "markdown",
   "id": "48581096",
   "metadata": {},
   "source": [
    "#NOME FIGO\n",
    "Art and history of art are no sealed compartments: they are heavily inter-dependent with social, political, economic factors, which in turn influence our very perception of what art is.\n",
    "\n",
    "Cultural institutions and museums in particular play a fundamental role in this intertwined dynamics: through their selection activity, they have the potential to shape the public understanding of arts and its modifications throughout time. \n",
    "In some way, what makes into museums makes into history of art.\n",
    "\n",
    "From these considerations stems our analysis: how do external (social, political, economic) factors influence the perception of art and its history?\n",
    "A way to investigate it is by looking at the greatest and most representative museums around the world, and at their acquisition policies and campaigns in particular.\n",
    "\n",
    "Our key questions:\n",
    "In which ways have the acquisition campaigns of the major museums in the world changed throughout the years? \n",
    "\n",
    "\n",
    "Our workflow:\n",
    "1. Interrogate WikiData:\n",
    "    - What are the biggest collections around the world?\n",
    "2. Find csv files for some of the major museums.\n",
    "3. Select some representative time slots (both internal and external factors).\n",
    "4. Analyse acquisitions during these time slots for every museum and compare:\n",
    "    a) Difference between different slots in the same museum;\n",
    "    b) Difference between different museums for the same time slot;\n",
    "\n",
    "Our questions:\n",
    "- What was the initial nucleus of each museum? \n",
    "- Internal survey: Is there a significant date or decade for the acquisitions? \n",
    "- External survey: What are the acquisition trends around the Xs/between the x and the y? / What are the acquisition trends within and across these museums? \n",
    "- During these years, who are the most represented makers? What is the most represented gender? What is the most represented movement? What is the most represented nationality? \n",
    "\n",
    "\n",
    "We analysed 5/4 of the (MET, MoMa, N+, Cleveland?, Tate) "
   ]
  },
  {
   "cell_type": "markdown",
   "id": "4368dc5d",
   "metadata": {},
   "source": [
    "Wikidata interrogation: failure.\n",
    "\n",
    "1. What are the largest art collections?\n",
    "\n",
    "SELECT ?museum (COUNT(?work) AS ?works) WHERE {\n",
    "  ?work wdt:P195 ?museum.\n",
    "  ?museum wdt:P31 wd:Q207694\n",
    "  }\n",
    "GROUP BY ?museum \n",
    "ORDER BY DESC(?works)\n",
    "\n",
    "2.  Which were the most visited museums in 2018?\n",
    "\n",
    "SELECT ?museumLabel ?visitors ?year\n",
    "WHERE {\n",
    "  ?museum wdt:P31 wd:Q207694;\n",
    "          wdt:P1705 ?museumLabel;\n",
    "          wdt:P1174 ?visitors;\n",
    "          p:P1174/pq:P585 ?year .\n",
    "FILTER(YEAR(?year) = 2018).\n",
    "}\n",
    "\n",
    "ORDER BY DESC(?visitors)"
   ]
  },
  {
   "cell_type": "markdown",
   "id": "e4267ffa",
   "metadata": {},
   "source": [
    "Since WikiData was not providing reliable results, we decided to go back to its sources (The Art Newspaper https://www.theartnewspaper.com/) and manually collect data about the most visited museums in the last four years(2018-2022).\n",
    "\n",
    "https://onedrive.live.com/view.aspx?resid=E34DDE1A3F2F2160!138&ithint=file%2cxlsx&authkey=!AN4u-K4bko37iOU\n",
    "    \n",
    "We verified the availability of open datasets for each of the top 20 most visited museums on this GitHub repository (https://github.com/Ambrosiani/museums-on-github), containing a list of museums with GitHub accounts.\n",
    "\n",
    "Our analysis led us to the decision to focus on four museums:\n",
    "- Tate Modern, London\n",
    "- MoMa, NY\n",
    "- Met, NY\n",
    "- National Gallery of Art, Washington DC\n",
    "\n",
    "**Info generale sui musei."
   ]
  },
  {
   "cell_type": "code",
   "execution_count": 3,
   "id": "cc975d5b",
   "metadata": {},
   "outputs": [],
   "source": [
    "import pandas as pd\n",
    "import csv\n",
    "import re"
   ]
  },
  {
   "cell_type": "markdown",
   "id": "70d28364",
   "metadata": {},
   "source": [
    "First: let us create some pandas dataframes containing all needed information: for each Museum, we will integrate different csv files, selecting the data we need for each of them. "
   ]
  },
  {
   "cell_type": "markdown",
   "id": "70b791fb",
   "metadata": {},
   "source": [
    "#MoMa "
   ]
  },
  {
   "cell_type": "code",
   "execution_count": 53,
   "id": "2a310a72",
   "metadata": {},
   "outputs": [],
   "source": [
    "spreadsheet = pd.read_csv('https://media.githubusercontent.com/media/MuseumofModernArt/collection/master/Artworks.csv')\n",
    "pd.set_option('display.max_columns', None)\n",
    "artworks = spreadsheet[['Title', 'Artist', 'ConstituentID', 'Nationality', 'BeginDate', 'EndDate', 'Gender', 'Date', 'Medium', 'CreditLine', 'Classification', 'Department', 'DateAcquired', 'URL']]\n",
    "artists = pd.read_csv('https://media.githubusercontent.com/media/MuseumofModernArt/collection/master/Artists.csv')\n",
    "artists[\"ConstituentID\"] = artists[\"ConstituentID\"].astype(str)\n",
    "MoMa = pd.merge(artworks,artists[['ConstituentID', 'Wiki QID']],on='ConstituentID', how='left')\n",
    "MoMa.rename(columns = {'ConstituentID':'Id', 'BeginDate':'BirthDate', 'EndDate':'DeathDate'}, inplace = True)\n",
    "MoMa.Date = MoMa.Date.fillna('Not available')\n",
    "MoMa['Date'] = MoMa['Date'].astype(str)\n",
    "#MoMa.to_csv(\"MoMa.csv\")"
   ]
  },
  {
   "cell_type": "markdown",
   "id": "ca614fd4",
   "metadata": {},
   "source": [
    "#Tate"
   ]
  },
  {
   "cell_type": "code",
   "execution_count": 4,
   "id": "1dd54728",
   "metadata": {},
   "outputs": [
    {
     "name": "stderr",
     "output_type": "stream",
     "text": [
      "C:\\Users\\Francesca\\AppData\\Roaming\\Python\\Python39\\site-packages\\IPython\\core\\interactiveshell.py:3172: DtypeWarning: Columns (9,13) have mixed types.Specify dtype option on import or set low_memory=False.\n",
      "  has_raised = await self.run_ast_nodes(code_ast.body, cell_name,\n",
      "C:\\Users\\Francesca\\AppData\\Roaming\\Python\\Python39\\site-packages\\pandas\\core\\frame.py:4438: SettingWithCopyWarning: \n",
      "A value is trying to be set on a copy of a slice from a DataFrame\n",
      "\n",
      "See the caveats in the documentation: https://pandas.pydata.org/pandas-docs/stable/user_guide/indexing.html#returning-a-view-versus-a-copy\n",
      "  return super().rename(\n",
      "C:\\Users\\Francesca\\AppData\\Roaming\\Python\\Python39\\site-packages\\pandas\\core\\generic.py:5489: SettingWithCopyWarning: \n",
      "A value is trying to be set on a copy of a slice from a DataFrame.\n",
      "Try using .loc[row_indexer,col_indexer] = value instead\n",
      "\n",
      "See the caveats in the documentation: https://pandas.pydata.org/pandas-docs/stable/user_guide/indexing.html#returning-a-view-versus-a-copy\n",
      "  self[name] = value\n"
     ]
    }
   ],
   "source": [
    "spreadsheet = pd.read_csv('https://raw.githubusercontent.com/tategallery/collection/master/artwork_data.csv')\n",
    "pd.set_option('display.max_columns', None)\n",
    "artworks = spreadsheet[['artist', 'artistId', 'title', 'medium', 'creditLine', 'year', 'acquisitionYear', 'url']]\n",
    "artworks.rename(columns = {'artistId':'id'}, inplace = True)\n",
    "artworks.id = artworks.id.astype(str)\n",
    "artists = pd.read_csv('https://raw.githubusercontent.com/tategallery/collection/master/artist_data.csv')\n",
    "artists[\"id\"] = artists[\"id\"].astype(str)\n",
    "Tate = pd.merge(artworks,artists[['id', 'gender', 'yearOfBirth', 'yearOfDeath']], on='id', how='left')\n",
    "Tate.rename(columns = {'artist':'Artist', 'id':'Id', 'title':'Title', 'yearOfBirth':'BirthDate', 'yearOfDeath':'DeathDate', 'medium':'Medium', 'creditLine':'CreditLine', 'year':'Date', 'acquisitionYear':'DateAcquired', 'url':'URL', 'gender':'Gender'}, inplace = True)\n",
    "Tate.to_csv(\"Tate.csv\")"
   ]
  },
  {
   "cell_type": "markdown",
   "id": "859e8108",
   "metadata": {},
   "source": [
    "#Met"
   ]
  },
  {
   "cell_type": "code",
   "execution_count": 4,
   "id": "a62bab09",
   "metadata": {},
   "outputs": [
    {
     "name": "stderr",
     "output_type": "stream",
     "text": [
      "C:\\Users\\Francesca\\AppData\\Roaming\\Python\\Python39\\site-packages\\IPython\\core\\interactiveshell.py:3172: DtypeWarning: Columns (5,7,10,11,12,13,14,34,35,36,37,38,39,40,41,42,43,44,45,46) have mixed types.Specify dtype option on import or set low_memory=False.\n",
      "  has_raised = await self.run_ast_nodes(code_ast.body, cell_name,\n",
      "C:\\Users\\Francesca\\AppData\\Roaming\\Python\\Python39\\site-packages\\pandas\\core\\frame.py:4438: SettingWithCopyWarning: \n",
      "A value is trying to be set on a copy of a slice from a DataFrame\n",
      "\n",
      "See the caveats in the documentation: https://pandas.pydata.org/pandas-docs/stable/user_guide/indexing.html#returning-a-view-versus-a-copy\n",
      "  return super().rename(\n"
     ]
    }
   ],
   "source": [
    "spreadsheet = pd.read_csv('https://media.githubusercontent.com/media/metmuseum/openaccess/master/MetObjects.csv')\n",
    "pd.set_option('display.max_columns', None)\n",
    "Met = spreadsheet[['AccessionYear', 'Title', 'Culture', 'Artist Display Name', 'Artist Nationality', 'Artist Begin Date', 'Artist End Date', 'Artist Gender', 'Artist Wikidata URL', 'Object End Date', 'Medium', 'Credit Line', 'Classification', 'Link Resource', 'Object Wikidata URL']]\n",
    "Met.rename(columns = {'Artist Display Name':'Artist', 'id':'Id', 'Artist Begin Date':'BirthDate', 'Artist End Date':'DeathDate', 'Credit Line':'CreditLine', 'Object End Date':'Date', 'AccessionYear':'DateAcquired', 'Artist Wikidata URL':'Wiki QID', 'Artist Gender':'Gender', 'Link Resource':'URL', 'Artist Nationality':'Nationality'}, inplace = True)\n",
    "#Met.to_csv(\"Met.csv\")"
   ]
  },
  {
   "cell_type": "markdown",
   "id": "3618155b",
   "metadata": {},
   "source": [
    "#Nga"
   ]
  },
  {
   "cell_type": "code",
   "execution_count": 14,
   "id": "1f86f651",
   "metadata": {},
   "outputs": [
    {
     "name": "stderr",
     "output_type": "stream",
     "text": [
      "C:\\Users\\Francesca\\AppData\\Roaming\\Python\\Python39\\site-packages\\IPython\\core\\interactiveshell.py:3172: DtypeWarning: Columns (28) have mixed types.Specify dtype option on import or set low_memory=False.\n",
      "  has_raised = await self.run_ast_nodes(code_ast.body, cell_name,\n"
     ]
    }
   ],
   "source": [
    "spreadsheet = pd.read_csv('https://raw.githubusercontent.com/NationalGalleryOfArt/opendata/main/data/objects.csv')\n",
    "pd.set_option('display.max_columns', None)\n",
    "Nga = spreadsheet[['accessionnum', 'title', 'endyear', 'medium', 'attribution', 'creditline', 'classification']]\n",
    "Nga.rename(columns = {'attribution':'Artist', 'id':'Id', 'title':'Title', 'medium':'Medium', 'creditline':'CreditLine', 'endyear':'Date', 'accessionnum':'DateAcquired', 'classification':'Classification', 'Object End Date':'Date'}, inplace = True)\n",
    "Nga.to_csv(\"Nga.csv\")"
   ]
  },
  {
   "cell_type": "markdown",
   "id": "e97a7ff1",
   "metadata": {},
   "source": [
    "#Exploring our Museums\n",
    "<br>\n",
    "Now that we have our dataframes, we can explore the four collections.\n",
    "<br>\n",
    "- How many items does each collection contain?\n",
    "- Which timespan do items cover overall?\n",
    "- First and last acquisition date for each museum. Tate's csv last update dates back to 2014.\n",
    "- Total artists' number.\n",
    "- Most represented artist, gender and nationality in general?"
   ]
  },
  {
   "cell_type": "code",
   "execution_count": 15,
   "id": "48e9b378",
   "metadata": {},
   "outputs": [
    {
     "name": "stdout",
     "output_type": "stream",
     "text": [
      "Total items at Moma : 139912\n",
      "Total items at Met : 448619\n",
      "Total items at Tate : 69201\n",
      "Total items at Nga : 137923\n"
     ]
    }
   ],
   "source": [
    "museums=[MoMa, Met, Tate, Nga]\n",
    "names = ['Moma', 'Met', 'Tate', 'Nga']\n",
    "for museum in museums:\n",
    "    selected_rows = museum[~museum['Title'].isnull()]\n",
    "    name = names.pop(0)\n",
    "    print(\"Total items at\", name, \":\", len(selected_rows.index))"
   ]
  },
  {
   "cell_type": "markdown",
   "id": "4453ec9c",
   "metadata": {},
   "source": [
    "#ARTWORKS DATES"
   ]
  },
  {
   "cell_type": "markdown",
   "id": "fb0264bc",
   "metadata": {},
   "source": [
    "#Clean MoMa's artworks' creation dates "
   ]
  },
  {
   "cell_type": "code",
   "execution_count": 57,
   "id": "5fde7240",
   "metadata": {},
   "outputs": [],
   "source": [
    "def cleanDatesMoma(date):\n",
    "    if '-' in date:\n",
    "        splitted = date.split('-')\n",
    "        date = ' '.join(splitted) \n",
    "    if '/' in date:\n",
    "        splitted = date.split('/')\n",
    "        date = ' '.join(splitted) \n",
    "    if ',' in date:\n",
    "        splitted = date.split(',')\n",
    "        date = ' '.join(splitted) \n",
    "    if '.' in date:\n",
    "        splitted = date.split('.')\n",
    "        date = ' '.join(splitted) \n",
    "        \n",
    "    x = re.search(\"\\d{4}\", date)\n",
    "    if x:\n",
    "        date = x.group()\n",
    "    return date"
   ]
  },
  {
   "cell_type": "code",
   "execution_count": 58,
   "id": "d4c48dc3",
   "metadata": {
    "scrolled": false
   },
   "outputs": [],
   "source": [
    "MoMaNew = MoMa.copy(deep=True)\n",
    "MoMaNew[\"Date\"] = MoMaNew[\"Date\"].apply(cleanDatesMoma)\n",
    "MoMaNew.to_csv(\"MoMaNew.csv\")\n",
    "#MoMaNew.head(30)"
   ]
  },
  {
   "cell_type": "markdown",
   "id": "fdab457e",
   "metadata": {},
   "source": [
    "Artworks' timespan"
   ]
  },
  {
   "cell_type": "code",
   "execution_count": 86,
   "id": "cb491153",
   "metadata": {},
   "outputs": [
    {
     "name": "stdout",
     "output_type": "stream",
     "text": [
      "Most ancient artwork at MoMa dates back to 1768\n",
      "Most recent artwork at MoMa dates back to 2022\n",
      "Most ancient artwork at Nga dates back to -490\n",
      "Most recent artwork at Nga dates back to 2021\n",
      "Most ancient artwork at Tate dates back to 1545\n",
      "Most recent artwork at Tate dates back to 2012\n",
      "Most ancient artwork at Met dates back to -240000\n",
      "Most recent artwork at Met dates back to 2022\n"
     ]
    }
   ],
   "source": [
    "museums=['MoMaNew.csv','Nga.csv', 'Tate.csv', 'metclean2.csv']\n",
    "names = ['MoMa','Nga', 'Tate', 'Met']\n",
    "for museum in museums:\n",
    "    with open(museum, mode='r', encoding='utf-8') as csvfile:\n",
    "        reader = csv.DictReader(csvfile)\n",
    "        years=[]\n",
    "        for item in reader:\n",
    "            if item['Date'] != ''and item['Date'] != '(n d )'and item['Date'] != 'TBD'and item['Date'] != 'nd'and item['Date']!='c  196?' and 'c.' not in item['Date'] and item['Date'] != 'no date' and item['Date'] != 'date of publicati' and item['Date'] != 'New York' and item['Date'] != 'Not available' and item['Date'] != 'Various' and item['Date'] != 'Various' and item['Date'] != 'unknown' and 'century' not in item['Date'] and item['Date'] != 'Unknown' and item['Date'] != 'n d ' and '(' not in item['Date'] and item['Date'] != 'n d ' and item['Date'] != 'n d' and item['Date'] != 'n  d ' and item['Date'] != 'Unkown' and item['Date'] != 'TBC':\n",
    "                years.append(item['Date'])\n",
    "        clean = []\n",
    "        for el in years:\n",
    "            if '.'in el:\n",
    "                el = el.split('.')[0]\n",
    "            clean.append(int(el))  \n",
    "        clean.sort()\n",
    "        name = names.pop(0)\n",
    "    print(\"Most ancient artwork at\", name, \"dates back to\", clean[0])\n",
    "    print(\"Most recent artwork at\", name, \"dates back to\", clean[-1])"
   ]
  },
  {
   "cell_type": "markdown",
   "id": "1c96c54b",
   "metadata": {},
   "source": [
    "#Artworks acquisition"
   ]
  },
  {
   "cell_type": "markdown",
   "id": "9168a642",
   "metadata": {},
   "source": [
    "Clean MoMa's artworks' acquisition dates"
   ]
  },
  {
   "cell_type": "code",
   "execution_count": 59,
   "id": "2d434f6b",
   "metadata": {},
   "outputs": [],
   "source": [
    "MoMaNext = MoMaNew.copy(deep=True)\n",
    "MoMaNext = MoMaNext[MoMaNext['DateAcquired'].notna()]\n",
    "MoMaNext[\"DateAcquired\"] = MoMaNext[\"DateAcquired\"].apply(cleanDatesMoma)\n",
    "MoMaNext.to_csv(\"MoMaNew.csv\")"
   ]
  },
  {
   "cell_type": "markdown",
   "id": "6301f54b",
   "metadata": {},
   "source": [
    "Acquisition' timespan"
   ]
  },
  {
   "cell_type": "code",
   "execution_count": 97,
   "id": "59e54cf1",
   "metadata": {},
   "outputs": [
    {
     "name": "stdout",
     "output_type": "stream",
     "text": [
      "First recorderd acquisition MoMa dates back to 1929\n",
      "Last recorded acquisition MoMa dates back to 2022\n",
      "First recorderd acquisition Met dates back to 1870\n",
      "Last recorded acquisition Met dates back to 2022\n",
      "First recorderd acquisition Nga dates back to 1937\n",
      "Last recorded acquisition Nga dates back to 2022\n",
      "First recorderd acquisition Tate dates back to 1823\n",
      "Last recorded acquisition Tate dates back to 2013\n"
     ]
    }
   ],
   "source": [
    "museums=['MoMaNew.csv','Met.csv', 'Nga.csv', 'Tate.csv']\n",
    "names = ['MoMa','Met', 'Nga', 'Tate']\n",
    "for museum in museums:\n",
    "    with open(museum, mode='r', encoding='utf-8') as csvfile:\n",
    "        reader = csv.DictReader(csvfile)\n",
    "        acquisitionyears=[]\n",
    "        for item in reader:\n",
    "            if '.' in item['DateAcquired']:\n",
    "                    item['DateAcquired']= item['DateAcquired'].split('.')[0]\n",
    "            if item['DateAcquired'] != '' and item['DateAcquired'] != 'Object Number':\n",
    "                acquisitionyears.append(item['DateAcquired'])\n",
    "        acquisitionyears.sort()\n",
    "        name = names.pop(0)\n",
    "    print(\"First recorderd acquisition\", name, \"dates back to\", acquisitionyears[0])\n",
    "    print(\"Last recorded acquisition\", name, \"dates back to\", acquisitionyears[-1])"
   ]
  },
  {
   "cell_type": "markdown",
   "id": "98f6550b",
   "metadata": {},
   "source": [
    "Total artists' number."
   ]
  },
  {
   "cell_type": "code",
   "execution_count": 129,
   "id": "cc1dba8b",
   "metadata": {},
   "outputs": [],
   "source": [
    "def cleanArtistsTate(name):\n",
    "    if ',' in name:\n",
    "        splitted = name.split(',')\n",
    "        name = ''.join(splitted) \n",
    "        return name"
   ]
  },
  {
   "cell_type": "code",
   "execution_count": 130,
   "id": "66a7d22f",
   "metadata": {},
   "outputs": [],
   "source": [
    "TateNew = Tate.copy(deep=True)\n",
    "TateNew[\"Artist\"] = TateNew[\"Artist\"].apply(cleanArtistsTate)\n",
    "TateNew.to_csv(\"TateNew.csv\")"
   ]
  },
  {
   "cell_type": "code",
   "execution_count": 152,
   "id": "72e3905d",
   "metadata": {},
   "outputs": [
    {
     "name": "stdout",
     "output_type": "stream",
     "text": [
      "Number of artists at MoMa is 14591\n",
      "Number of artists at Met is 60950\n",
      "Number of artists at Tate is 3281\n",
      "Number of artists at Nga is 16860\n"
     ]
    }
   ],
   "source": [
    "museums=['MoMaNew.csv', 'Met.csv', 'TateNew.csv', 'Nga.csv']\n",
    "names = ['MoMa', 'Met','Tate', 'Nga']\n",
    "for museum in museums:\n",
    "    with open(museum, mode='r', encoding='utf-8') as csvfile:\n",
    "        reader = csv.DictReader(csvfile)\n",
    "        artists = set() \n",
    "        for item in reader:\n",
    "            if item['Artist']!= '' and 'Unidentified'not in item['Artist'] and 'Various' not in item['Artist']:\n",
    "                if ',' in item['Artist']:\n",
    "                    item['Artist'] = item['Artist'].split(',')\n",
    "                    for n in range(len(item['Artist'])):\n",
    "                        artist= item['Artist'][n]\n",
    "                        artists.add(artist)\n",
    "                elif '|' in item['Artist']:\n",
    "                    listone = item['Artist'].split('|')\n",
    "                    for n in range(len(listone)):\n",
    "                        artista= listone[n]\n",
    "                        artists.add(artista)\n",
    "                else:\n",
    "                    artists.add(item['Artist'])\n",
    "    name = names.pop(0)\n",
    "    print(\"Number of artists at\", name, \"is\", len(artists) )"
   ]
  },
  {
   "cell_type": "markdown",
   "id": "c6401960",
   "metadata": {},
   "source": [
    "Most represented gender in general?\n",
    "Only for MoMa and Tate since other csv files need Wikidata integration"
   ]
  },
  {
   "cell_type": "code",
   "execution_count": 60,
   "id": "2a5a8663",
   "metadata": {},
   "outputs": [],
   "source": [
    "MoMaGender = MoMaNew.drop_duplicates(subset='Artist', keep=\"first\")\n",
    "MoMaGender.to_csv('MoMaGender.csv')"
   ]
  },
  {
   "cell_type": "code",
   "execution_count": 5,
   "id": "ef467d41",
   "metadata": {},
   "outputs": [],
   "source": [
    "TateGender = Tate.drop_duplicates(subset='Artist', keep=\"first\")\n",
    "TateGender.to_csv('TateGender.csv')"
   ]
  },
  {
   "cell_type": "code",
   "execution_count": 7,
   "id": "f4b4d0a7",
   "metadata": {},
   "outputs": [
    {
     "name": "stdout",
     "output_type": "stream",
     "text": [
      "{'Male': 10474, 'Female': 2809}\n",
      "{'Male': 2791, 'Female': 492}\n"
     ]
    }
   ],
   "source": [
    "museums=['MoMaGender.csv', 'TateGender.csv']\n",
    "names = ['MoMa', 'Tate']\n",
    "for museum in museums:\n",
    "    with open(museum, mode='r', encoding='utf-8') as csvfile:\n",
    "        reader = csv.DictReader(csvfile)\n",
    "        Gender = {'Male':0, 'Female':0}\n",
    "        for item in reader:\n",
    "                if 'Male' in item['Gender']:\n",
    "                    Gender['Male'] += 1\n",
    "                if 'Female' in item['Gender']:\n",
    "                    Gender['Female'] += 1\n",
    "    print(Gender)"
   ]
  },
  {
   "cell_type": "markdown",
   "id": "2998d930",
   "metadata": {},
   "source": [
    "Most represented nationality in general?"
   ]
  },
  {
   "cell_type": "code",
   "execution_count": 72,
   "id": "7aa41e95",
   "metadata": {},
   "outputs": [
    {
     "name": "stdout",
     "output_type": "stream",
     "text": [
      "{'Palestinian', 'Canadian Inuit', 'Mexican', 'Portuguese', 'Tunisian', 'Ivorian', 'Tanzanian', 'Polish', 'Cameroonian', 'Ugandan', 'Taiwanese', 'Native American', 'Nicaraguan', 'Bangladeshi', 'Chilean', 'Georgian', 'Israeli', 'New Zealander', 'Bulgarian', 'Sierra Leonean', 'Catalan', 'Emirati', 'Costa Rican', 'Slovenian', 'Senegalese', 'Beninese', 'Colombian', 'Greek', 'Burkinabé', 'Icelandic', 'Spanish', 'Kuwaiti', 'Romanian', 'Ecuadorian', 'Malian', 'Filipino', 'Lebanese', 'Singaporean', 'Moroccan', 'Cypriot', 'Kenyan', 'American', 'Latvian', 'Egyptian', 'Venezuelan', 'Dutch', 'Canadian', 'Lithuanian', 'Panamanian', 'Swiss', 'Albanian', 'French', 'Salvadoran', 'Haitian', 'Puerto Rican', 'Peruvian', 'Uruguayan', 'Macedonian', 'Thai', 'Malaysian', 'Namibian', 'Guatemalan', 'Pakistani', 'Yugoslav', 'Argentine', 'Zimbabwean', 'Brazilian', 'Welsh', 'Japanese', 'Kyrgyz', 'Norwegian', 'Paraguayan', 'Estonian', 'South African', 'Hungarian', 'Irish', 'Cambodian', 'Bahamian', 'Ethiopian', 'Italian', 'Sudanese', 'Belgian', 'Luxembourger', 'Iraqi', 'Nigerian', 'Korean', 'Ghanaian', 'Iranian', 'Ukrainian', 'Azerbaijani', 'Bolivian', 'Slovak', 'Afghan', 'Sahrawi', 'Swedish', 'German', 'Mozambican', 'Vietnamese', 'Bosnian', 'Australian', 'Finnish', 'Cuban', 'Chinese', 'Serbian', 'Austrian', 'British', 'Scottish', 'Congolese', 'Czechoslovakian', 'Czech', 'Indian', 'Croatian', 'Danish', 'Coptic', 'Algerian', 'Turkish', 'Russian'}\n",
      "117\n"
     ]
    }
   ],
   "source": [
    "museums=['MoMaGender.csv']\n",
    "names = ['MoMa']\n",
    "for museum in museums:\n",
    "    with open(museum, mode='r', encoding='utf-8') as csvfile:\n",
    "        reader = csv.DictReader(csvfile)\n",
    "        nationalities = set() \n",
    "        for item in reader:\n",
    "            if ' ' in item['Nationality']:\n",
    "                    item['Nationality'] = item['Nationality'].split(') ')\n",
    "                    for n in range(len(item['Nationality'])):\n",
    "                        nationality= item['Nationality'][n]\n",
    "                        nationalities.add(nationality)\n",
    "            else:\n",
    "                    nationalities.add(item['Nationality'])\n",
    "        nationalities_clean = set()\n",
    "        for el in nationalities:\n",
    "            a = el.replace('(', '').replace(')','')\n",
    "            nationalities_clean.add(a)\n",
    "        count_naz= set()\n",
    "        for el in nationalities_clean:\n",
    "            if el != '' and el != 'Nationality unknown':\n",
    "                count_naz.add(el)\n",
    "print(count_naz)\n",
    "print(len(count_naz))\n"
   ]
  },
  {
   "cell_type": "code",
   "execution_count": 37,
   "id": "b2f6c509",
   "metadata": {},
   "outputs": [
    {
     "name": "stdout",
     "output_type": "stream",
     "text": [
      "{'Welsh': 4, 'Ugandan': 1, 'Paraguayan': 3, 'Georgian': 22, 'Bangladeshi': 1, 'Belgian': 125, 'Albanian': 4, 'Congolese': 6, 'Native American': 10, 'Bulgarian': 5, 'Irish': 24, 'Peruvian': 37, 'Italian': 517, 'Argentine': 150, 'Kuwaiti': 1, 'American': 5584, 'Costa Rican': 2, 'Estonian': 2, 'Guatemalan': 7, 'Swedish': 123, 'Haitian': 16, 'Hungarian': 86, 'Japanese': 545, 'British': 962, 'Turkish': 20, 'Serbian': 17, 'Coptic': 1, 'Mexican': 159, 'Senegalese': 2, 'Danish': 125, 'Pakistani': 4, 'Scottish': 22, 'Vietnamese': 3, 'Lebanese': 10, 'Cypriot': 1, 'Swiss': 421, 'Spanish': 185, 'Burkinabé': 1, 'Moroccan': 8, 'Afghan': 1, 'Icelandic': 21, 'Catalan': 1, 'Tunisian': 2, 'Malian': 3, 'Bahamian': 1, 'Luxembourger': 3, 'Australian': 59, 'Mozambican': 1, 'Uruguayan': 24, 'Austrian': 277, 'Emirati': 1, 'South African': 68, 'Romanian': 27, 'Iranian': 11, 'New Zealander': 10, 'Israeli': 77, 'Indian': 39, 'Palestinian': 3, 'Finnish': 52, 'Czech': 98, 'Greek': 13, 'Cuban': 71, 'Salvadoran': 2, 'Kyrgyz': 1, 'Puerto Rican': 6, 'Portuguese': 16, 'Tanzanian': 1, 'Colombian': 57, 'Macedonian': 5, 'Latvian': 13, 'Ghanaian': 4, 'Zimbabwean': 5, 'Korean': 35, 'Canadian Inuit': 3, 'Ecuadorian': 4, 'Kenyan': 2, 'Filipino': 3, 'Algerian': 4, 'Beninese': 1, 'German': 1163, 'Polish': 148, 'Panamanian': 2, 'Malaysian': 2, 'Lithuanian': 5, 'Sierra Leonean': 1, 'Slovenian': 19, 'Canadian': 205, 'Chinese': 106, 'Azerbaijani': 2, 'Chilean': 68, 'Cameroonian': 2, 'Czechoslovakian': 3, 'Bosnian': 9, 'Russian': 374, 'Brazilian': 185, 'Sudanese': 2, 'Egyptian': 14, 'Singaporean': 2, 'Cambodian': 1, 'Ukrainian': 40, 'Sahrawi': 1, 'Namibian': 2, 'Iraqi': 2, 'Nigerian': 6, 'Taiwanese': 4, 'Venezuelan': 68, 'Norwegian': 35, 'Slovak': 9, 'French': 1041, 'Bolivian': 3, 'Thai': 7, 'Yugoslav': 1, 'Dutch': 288, 'Nicaraguan': 2, 'Ivorian': 2, 'Ethiopian': 2, 'Croatian': 47}\n"
     ]
    }
   ],
   "source": [
    "museums=['MoMaGender.csv']\n",
    "names = ['MoMa']\n",
    "for museum in museums:\n",
    "    with open(museum, mode='r', encoding='utf-8') as csvfile:\n",
    "        reader = csv.DictReader(csvfile)\n",
    "        Nationalities ={}\n",
    "        for nationality in count_naz:  \n",
    "            Nationalities[nationality]= 0\n",
    "        for item in reader:\n",
    "            for naz in count_naz:\n",
    "                    if naz in item['Nationality']:\n",
    "                        Nationalities[naz] += 1 \n",
    "    print(Nationalities)"
   ]
  },
  {
   "cell_type": "code",
   "execution_count": null,
   "id": "1399d6ba",
   "metadata": {},
   "outputs": [],
   "source": [
    "counts = MoMa['Nationality'].value_counts()\n",
    "counts.to_csv('nationalities.csv')"
   ]
  },
  {
   "cell_type": "code",
   "execution_count": 14,
   "id": "2f4486ac",
   "metadata": {},
   "outputs": [],
   "source": [
    "def cleanNazMet(naz):\n",
    "    if ',' in naz:\n",
    "        naz = naz.split(',')[0]\n",
    "    if '(' in naz:\n",
    "        naz = naz.split('(')[0]\n",
    "    if '?' in naz:\n",
    "        naz = naz.replace('?', '')\n",
    "    return naz\n",
    "    "
   ]
  },
  {
   "cell_type": "code",
   "execution_count": 15,
   "id": "d308b7e0",
   "metadata": {},
   "outputs": [],
   "source": [
    "MetNew = Met.copy(deep=True)\n",
    "MetNew = MetNew[MetNew['Nationality'].notna()]\n",
    "MetNew[\"Nationality\"] = MetNew[\"Nationality\"].apply(cleanNazMet)\n",
    "MetNew.to_csv(\"MetNew.csv\")"
   ]
  },
  {
   "cell_type": "code",
   "execution_count": 16,
   "id": "0fe3bbfc",
   "metadata": {},
   "outputs": [
    {
     "name": "stdout",
     "output_type": "stream",
     "text": [
      "{'Italian [search purposes only]', 'Polish Lithunanian', 'Netherlandish ', 'Northern France', 'Alsatian', 'Swiss', 'Norwegian', 'Canadian ', 'Panamanian', 'Swedish', 'Iran', 'Naples', 'Brazilian', 'Netherlandish', 'French/Flemish', 'Belgian', 'North African ', 'South African', 'Netherlandish or German', 'Emilian', 'Paris', 'Swiss American', 'Klingenthal', 'Fench', 'Rumanian', 'Bremen', 'probably Swiss', 'Haida', 'Nigeria', 'England', 'Algonquin family', 'Finnish', 'Scandinavian', 'Venezuelan', 'American', 'British or American', 'Ukrainian', 'U.S. ', 'American born Britain', ' ', 'Africa', 'active in France by 1894', 'Prussian', 'BRitish', 'Sri Lankan', 'British ', 'Chilean', 'Continental/Swiss', 'German/Solingen', 'London', 'German ', 'Guatemalan', 'Tibetan', 'French Dutch', 'British or French', 'American or German', 'Austrian German', 'Irish', 'Afghani', 'Islamic', 'Italy', 'Norway', 'Scottish or British', 'Hungarian or Austrian', 'Egyptian', 'European', 'Japanese and German', 'Burgundian', 'Mexican', 'Japanese American', 'Polish ', 'Mexico', 'Costa Rican', 'Italian', 'British', 'Lombard', 'French 1866–1932', 'Hungarian', 'Venice', 'Polish', 'Croatian', 'Spanish/Mexican', 'Canadian', 'American Romanian', 'Albanian', 'South Netherlandish', 'French', 'Iranian', 'Turkish', 'American German', 'Manufacturer', 'french', 'Dem. Republic of the Congo', 'Ottoman', 'Scottish or American', 'Hannover', 'Andorran', 'Italian ', 'American Russian', 'French ', 'Lebanese', 'American and British', 'French Italian', 'Romanian', 'Central European or French', 'Tajikistan', 'Jamaican', 'Belarussian', 'American ', 'Yugoslavian', 'Central European', 'Bohemian', 'American and French', 'Franco-Netherlandish', 'GErman', 'Inuit', 'Japanese ', 'Democratic Republic of Congo', 'French Flemish', 'North Netherlandish', 'France', 'Byzantine', 'Saint Lucian', 'Kashmir', 'Congo', 'French or Dutch', 'possibly French', 'Native American', 'Lithuanian', 'Mexican American', 'Southern Germany or Austria', 'West Coast Africa', 'Cameroonian', 'Samoan', 'Germany', 'French British', 'Serbo-croat', 'Danish', 'Austrian/German', 'Japanese', 'Continental', 'Ghanaian', 'Tunisian', 'Gubbio', 'Sienese', 'Slovakian', 'Nigeria/Cameroon', 'Russian ', 'Algerian', 'French or Italian', 'Welsh', 'Italian French', 'italian', 'Netherlandish/French', 'Manchu', 'Britsh', 'Austro-Hungarian', 'Dutch German', 'Flemish', 'Mongolian', 'Argentinian', 'Armenian', 'American and Canadian', 'Chiricahua Apache Native American', 'American Indian', 'Mexican-American', 'Spainish', 'Uruguayan', 'Greek', 'Spanish', 'American Irish', 'Danish-Icelandic', 'French/Dutch', 'Antelope Valley Washoe', 'Chinese', 'Czech', 'Italian or Spanish', 'Swiss or Austrian', 'United States', 'Southern Italy', 'Colombian', 'Upper Rhine', 'Iraqi Kurdish', 'Florence', 'Bulgarian', 'Asmat', 'German/Swiss', 'Iranian-American', 'Netherlandish / French', 'Kuwaiti', 'Nigerian', 'Indian', 'American or British', 'Persian', 'Spanish ', 'Armenian-Iranian', 'Southern Netherlands', 'Dominican', 'Veronese', 'Nethrlandish', 'Polish or German', 'French or American', 'British American', 'Scottish', 'Aachen', 'British French', 'Mexican or Spanish', 'Tuscany', 'Hanoverian ', 'Siena', 'South Africa', 'Taiwanese', 'Maltese', 'Ukranian', 'Sierra Leone', 'Pakistani', 'Franco-Flemish', 'Geman', 'Portuguese', 'Dutch ', 'Cuban', 'Puerto Rican', 'New Zealander', 'American born England', 'German', 'Russian', 'French American', 'Franco-American', 'French and Canadian', 'Georgian', 'Malian', 'Australian', 'Estonian', 'Northern European', 'New York', 'Belgium', 'Peruvian', 'Guatemalan or Mexican', 'Italian or French', 'Paris and London', 'Japan', 'Khitan', 'Denmark', 'possibly Iranian', 'Austrian', 'Korean', 'Ancient Greek', 'Salvadoran', 'English', 'German-born sculptor later active in Switzerland', 'French or German', 'British or Dutch', 'Austrian or German', 'Icelandic', 'Ecuadorian', 'Israeli', 'Czechoslovakian', 'French and English', 'Uganda', 'Malaysian', 'Venetian', 'Liechtensteiner', 'Greenlandish', 'British/Irish', 'Roman', 'Dutch', 'German American', 'Brabant ', 'Finish'}\n"
     ]
    }
   ],
   "source": [
    "museums=['MetNew.csv']\n",
    "names = ['Met']\n",
    "for museum in museums:\n",
    "    with open(museum, mode='r', encoding='utf-8') as csvfile:\n",
    "        reader = csv.DictReader(csvfile)\n",
    "        nationalities = set() \n",
    "        for item in reader:\n",
    "            if '|' in item['Nationality']:\n",
    "                    item['Nationality'] = item['Nationality'].split('|')\n",
    "                    for n in range(len(item['Nationality'])):\n",
    "                        nationality= item['Nationality'][n]\n",
    "                        nationalities.add(nationality)\n",
    "            else:\n",
    "                nationalities.add(item['Nationality'])\n",
    "'''  \n",
    "        clean_naz = set()\n",
    "        for el in nationalities:\n",
    "            if ',' in el:\n",
    "                el = el.split(',')[0]\n",
    "            if '(' in el:\n",
    "                el = el.split('(')[0]\n",
    "            clean_naz.add(el)    \n",
    "        final_naz = set()\n",
    "        for el in clean_naz:\n",
    "            if el != '':\n",
    "                final_naz.add(el)\n",
    "'''  \n",
    "print(nationalities)"
   ]
  },
  {
   "cell_type": "code",
   "execution_count": 19,
   "id": "262730a6",
   "metadata": {},
   "outputs": [
    {
     "name": "stdout",
     "output_type": "stream",
     "text": [
      "{'Italian [search purposes only]': 1, 'Polish Lithunanian': 1, 'Netherlandish ': 3, 'Northern France': 5, 'Alsatian': 1, 'Swiss': 1008, 'Norwegian': 85, 'Canadian ': 2, 'Panamanian': 1, 'Swedish': 294, 'Iran': 44, 'Naples': 1, 'Brazilian': 46, 'Netherlandish': 5309, 'French/Flemish': 1, 'Belgian': 476, 'North African ': 1, 'South African': 30, 'Netherlandish or German': 1, 'Emilian': 1, 'Paris': 3, 'Swiss American': 1, 'Klingenthal': 1, 'Fench': 9, 'Rumanian': 2, 'Bremen': 1, 'probably Swiss': 1, 'Haida': 3, 'Nigeria': 22, 'England': 3, 'Algonquin family': 1, 'Finnish': 136, 'Scandinavian': 5, 'Venezuelan': 15, 'American': 68664, 'British or American': 5, 'Ukrainian': 28, 'U.S. ': 1, 'American born Britain': 3, ' ': 111644, 'Africa': 39, 'active in France by 1894': 1, 'Prussian': 1, 'BRitish': 1, 'Sri Lankan': 1, 'British ': 31, 'Chilean': 18, 'Continental/Swiss': 2, 'German/Solingen': 1, 'London': 4, 'German ': 49, 'Guatemalan': 2, 'Tibetan': 2, 'French Dutch': 1, 'British or French': 1, 'American or German': 1, 'Austrian German': 2, 'Irish': 468, 'Afghani': 1, 'Islamic': 2, 'Italy': 4, 'Norway': 1, 'Scottish or British': 3, 'Hungarian or Austrian': 1, 'Egyptian': 10, 'European': 16, 'Japanese and German': 5, 'Burgundian': 2, 'Mexican': 360, 'Japanese American': 22, 'Polish ': 4, 'Mexico': 25, 'Costa Rican': 1, 'Italian': 24524, 'British': 18804, 'Lombard': 1, 'French 1866–1932': 1, 'Hungarian': 250, 'Venice': 1, 'Polish': 144, 'Croatian': 4, 'Spanish/Mexican': 1, 'Canadian': 247, 'American Romanian': 1, 'Albanian': 1, 'South Netherlandish': 6, 'French': 41431, 'Iranian': 42, 'Turkish': 38, 'American German': 9, 'Manufacturer': 1, 'french': 1, 'Dem. Republic of the Congo': 1, 'Ottoman': 2, 'Scottish or American': 1, 'Hannover': 2, 'Andorran': 1, 'Italian ': 87, 'American Russian': 2, 'French ': 34, 'Lebanese': 15, 'American and British': 2, 'French Italian': 6, 'Romanian': 13, 'Central European or French': 1, 'Tajikistan': 1, 'Jamaican': 1, 'Belarussian': 1, 'American ': 548, 'Yugoslavian': 4, 'Central European': 11, 'Bohemian': 1299, 'American and French': 37, 'Franco-Netherlandish': 6, 'GErman': 1, 'Inuit': 3, 'Japanese ': 28, 'Democratic Republic of Congo': 1, 'French Flemish': 2, 'North Netherlandish': 3, 'France': 12, 'Byzantine': 1, 'Saint Lucian': 5, 'Kashmir': 1, 'Congo': 5, 'French or Dutch': 1, 'possibly French': 1, 'Native American': 5, 'Lithuanian': 33, 'Mexican American': 1, 'Southern Germany or Austria': 1, 'West Coast Africa': 1, 'Cameroonian': 2, 'Samoan': 5, 'Germany': 8, 'French British': 1, 'Serbo-croat': 1, 'Danish': 436, 'Austrian/German': 1, 'Japanese': 6526, 'Continental': 14, 'Ghanaian': 4, 'Tunisian': 1, 'Gubbio': 2, 'Sienese': 3, 'Slovakian': 1, 'Nigeria/Cameroon': 1, 'Russian ': 3, 'Algerian': 17, 'French or Italian': 1, 'Welsh': 1, 'Italian French': 2, 'italian': 2, 'Netherlandish/French': 2, 'Manchu': 1, 'Britsh': 1, 'Austro-Hungarian': 42, 'Dutch German': 6, 'Flemish': 1560, 'Mongolian': 4, 'Argentinian': 19, 'Armenian': 5, 'American and Canadian': 3, 'Chiricahua Apache Native American': 1, 'American Indian': 2, 'Mexican-American': 1, 'Spainish': 1, 'Uruguayan': 14, 'Greek': 170, 'Spanish': 2509, 'American Irish': 1, 'Danish-Icelandic': 3, 'French/Dutch': 33, 'Antelope Valley Washoe': 1, 'Chinese': 2058, 'Czech': 268, 'Italian or Spanish': 54, 'Swiss or Austrian': 1, 'United States': 15, 'Southern Italy': 2, 'Colombian': 7, 'Upper Rhine': 1, 'Iraqi Kurdish': 1, 'Florence': 1, 'Bulgarian': 1, 'Asmat': 2, 'German/Swiss': 1, 'Iranian-American': 1, 'Netherlandish / French': 1, 'Kuwaiti': 3, 'Nigerian': 20, 'Indian': 226, 'American or British': 1, 'Persian': 6, 'Spanish ': 4, 'Armenian-Iranian': 2, 'Southern Netherlands': 8, 'Dominican': 1, 'Veronese': 1, 'Nethrlandish': 1, 'Polish or German': 1, 'French or American': 1, 'British American': 21, 'Scottish': 416, 'Aachen': 1, 'British French': 1, 'Mexican or Spanish': 1, 'Tuscany': 4, 'Hanoverian ': 1, 'Siena': 2, 'South Africa': 32, 'Taiwanese': 1, 'Maltese': 1, 'Ukranian': 6, 'Sierra Leone': 1, 'Pakistani': 14, 'Franco-Flemish': 1, 'Geman': 7, 'Portuguese': 33, 'Dutch ': 7, 'Cuban': 9, 'Puerto Rican': 10, 'New Zealander': 5, 'American born England': 1, 'German': 11583, 'Russian': 778, 'French American': 1, 'Franco-American': 1, 'French and Canadian': 5, 'Georgian': 1, 'Malian': 23, 'Australian': 86, 'Estonian': 1, 'Northern European': 4, 'New York': 5, 'Belgium': 1, 'Peruvian': 11, 'Guatemalan or Mexican': 1, 'Italian or French': 15, 'Paris and London': 2, 'Japan': 6527, 'Khitan': 1, 'Denmark': 1, 'possibly Iranian': 1, 'Austrian': 1820, 'Korean': 38, 'Ancient Greek': 2, 'Salvadoran': 1, 'English': 9, 'German-born sculptor later active in Switzerland': 1, 'French or German': 1, 'British or Dutch': 1, 'Austrian or German': 5, 'Icelandic': 4, 'Ecuadorian': 1, 'Israeli': 61, 'Czechoslovakian': 28, 'French and English': 2, 'Uganda': 1, 'Malaysian': 31, 'Venetian': 3, 'Liechtensteiner': 1, 'Greenlandish': 1, 'British/Irish': 1, 'Roman': 582, 'Dutch': 4228, 'German American': 12, 'Brabant ': 1, 'Finish': 5}\n"
     ]
    }
   ],
   "source": [
    "with open('MetNew.csv', mode='r', encoding='utf-8') as csvfile:\n",
    "        reader = csv.DictReader(csvfile)\n",
    "        MetNationalities ={}\n",
    "        for nationality in nationalities:  \n",
    "            MetNationalities[nationality]= 0\n",
    "        for item in reader:\n",
    "            for naz in nationalities:\n",
    "                    if naz in item['Nationality']:\n",
    "                        MetNationalities[naz] += 1 \n",
    "print(MetNationalities)"
   ]
  },
  {
   "cell_type": "markdown",
   "id": "0bb30d28",
   "metadata": {},
   "source": [
    "#Our analysis.\n",
    "<br>\n",
    "1. What are the most acquired artists in museums (in general)?\n",
    "    - Is there a gender gap in the selection of artists?\n",
    "    - What are the most represented nationalities (in general)?\n",
    "    - What are the most represented movements or genres (in general)?\n",
    "2. How have acquisition criteria changed (over time) in museums?\n",
    "    - In which years are artists' works mostly acquired?\n",
    "    - When does the gender gap decreases (if it does)?\n",
    "    - In which years artists' nationalities more influent on the selection?\n",
    "    - In which years artists' movements/genres more influent on the selection?\n",
    "3. If we compare criteria of all museums, in general and over time, do we see any similarity or significant difference?\n",
    "    - Do certain museums acquire more works based on artists/artists' gender/nationality/movement than others?"
   ]
  },
  {
   "cell_type": "markdown",
   "id": "f72e670d",
   "metadata": {},
   "source": [
    "Acquisition criteria.\n",
    "1.  In which years are artists' works mostly acquired?<br>\n",
    "To answer, we need to count how many times each year shows up in the DateAcquired column."
   ]
  },
  {
   "cell_type": "code",
   "execution_count": null,
   "id": "b500263f",
   "metadata": {},
   "outputs": [],
   "source": [
    "MoMa['year'] = pd.DatetimeIndex(MoMa['DateAcquired']).year\n",
    "MoMaNew['DateAcquired'] = MoMa['year']\n",
    "MoMaNew = MoMaNew[MoMaNew['DateAcquired'].notna()]\n",
    "MoMaNew.to_csv(\"MoMaNew.csv\")"
   ]
  },
  {
   "cell_type": "code",
   "execution_count": null,
   "id": "3f16c4d0",
   "metadata": {},
   "outputs": [],
   "source": [
    "with open('MoMaNew.csv', mode='r', encoding='utf-8') as csvfile:\n",
    "    reader = csv.DictReader(csvfile)\n",
    "    years={}\n",
    "    for item in reader:\n",
    "        if item['DateAcquired']not in years:\n",
    "            years[item['DateAcquired']]= 1\n",
    "        else:\n",
    "            years[item['DateAcquired']]+= 1\n",
    "\n",
    "    print(years)\n",
    "    #all_years=list(years.keys())\n",
    "    #print(sorted(all_years))\n",
    "    "
   ]
  },
  {
   "cell_type": "markdown",
   "id": "66ae1086",
   "metadata": {},
   "source": [
    "Trova modo di ordinare per value o usa la libreria che sa Laura\n",
    "Visualizzazione :)"
   ]
  },
  {
   "cell_type": "code",
   "execution_count": null,
   "id": "531b72a0",
   "metadata": {},
   "outputs": [],
   "source": [
    "new_dict={}\n",
    "for key in years:\n",
    "    key_int=key.split('.')[0]\n",
    "    key_int=int(key_int)\n",
    "    if key_int in range(1928,1941):\n",
    "        if '1930s' not in new_dict.keys():\n",
    "               new_dict['1930s']= years[key]\n",
    "        else:\n",
    "            new_dict['1930s'] += years[key]\n",
    "    if key_int in range(1940,1951):\n",
    "        if '1940s' not in new_dict.keys():\n",
    "               new_dict['1940s']= years[key]\n",
    "        else:\n",
    "            new_dict['1940s'] += years[key]\n",
    "    \n",
    "    if key_int in range(1950,1961):\n",
    "        if '1950s' not in new_dict.keys():\n",
    "               new_dict['1950s']= years[key]\n",
    "        else:\n",
    "            new_dict['1950s'] += years[key]\n",
    "    \n",
    "    if key_int in range(1960,1971):\n",
    "        if '1960s' not in new_dict.keys():\n",
    "               new_dict['1960s']= years[key]\n",
    "        else:\n",
    "            new_dict['1960s'] += years[key]\n",
    "    \n",
    "    if key_int in range(1970,1981):\n",
    "        if '1970s' not in new_dict.keys():\n",
    "               new_dict['1970s']= years[key]\n",
    "        else:\n",
    "            new_dict['1970s'] += years[key]\n",
    "    if key_int in range(1980,1991):\n",
    "        if '1980s' not in new_dict.keys():\n",
    "               new_dict['1980s']= years[key]\n",
    "        else:\n",
    "            new_dict['1980s'] += years[key]\n",
    "    \n",
    "    if key_int in range(1990,2001):\n",
    "        if '1990s' not in new_dict.keys():\n",
    "               new_dict['1990s']= years[key]\n",
    "        else:\n",
    "            new_dict['1990s'] += years[key]\n",
    "        \n",
    "    \n",
    "print(new_dict)\n",
    "    "
   ]
  },
  {
   "cell_type": "markdown",
   "id": "17d03edf",
   "metadata": {},
   "source": [
    "When does the gender gap decreases (if it does)? <br>\n",
    "Per ogni 10 anni, percentuale di uomini e donne acquisiti e differenza."
   ]
  },
  {
   "cell_type": "code",
   "execution_count": null,
   "id": "7ed35196",
   "metadata": {},
   "outputs": [],
   "source": [
    "with open('MoMaNew.csv', mode='r', encoding='utf-8') as csvfile:\n",
    "    reader = csv.DictReader(csvfile)\n",
    "    years={}\n",
    "    for item in reader:\n",
    "        if item['DateAcquired']not in years:\n",
    "            years[item['DateAcquired']]= 1\n",
    "        else:\n",
    "            years[item['DateAcquired']]+= 1\n",
    "\n",
    "    print(years)"
   ]
  },
  {
   "cell_type": "markdown",
   "id": "6778dda1",
   "metadata": {},
   "source": [
    "When does the gender gap decreases (if it does)?\n",
    "Per ogni 10 anni, percentuale di uomini e donne acquisiti e differenza.\n",
    "\n",
    "In which years artists' nationalities more influent on the selection?\n",
    "Per ogni 10 anni, percentuale di nazionalità acquisite e differenza.\n",
    "\n",
    "In which years artists'movements/genres more influent on the selection?\n",
    "Per ogni 10 anni, percentuale di nazionalità acquisite e differenza."
   ]
  },
  {
   "cell_type": "markdown",
   "id": "f39a380e",
   "metadata": {},
   "source": [
    "Nga non ha Gender\n",
    "Met molti Gender sono NaN\n"
   ]
  }
 ],
 "metadata": {
  "kernelspec": {
   "display_name": "Python 3 (ipykernel)",
   "language": "python",
   "name": "python3"
  },
  "language_info": {
   "codemirror_mode": {
    "name": "ipython",
    "version": 3
   },
   "file_extension": ".py",
   "mimetype": "text/x-python",
   "name": "python",
   "nbconvert_exporter": "python",
   "pygments_lexer": "ipython3",
   "version": "3.9.0"
  }
 },
 "nbformat": 4,
 "nbformat_minor": 5
}
