{
 "cells": [
  {
   "cell_type": "markdown",
   "id": "48581096",
   "metadata": {},
   "source": [
    "#NOME FIGO\n",
    "Art and history of art are no sealed compartments: they are heavily inter-dependent with social, political, economic factors, which in turn influence our very perception of what art is.\n",
    "\n",
    "Cultural institutions and museums in particular play a fundamental role in this intertwined dynamics: through their selection activity, they have the potential to shape the public understanding of arts and its modifications throughout time. \n",
    "In some way, what makes into museums makes into history of art.\n",
    "\n",
    "From these considerations stems our analysis: how do external (social, political, economic) factors influence the perception of art and its history?\n",
    "A way to investigate it is by looking at the greatest and most representative museums around the world, and at their acquisition policies and campaigns in particular.\n",
    "\n",
    "Our key questions:\n",
    "In which ways have the acquisition campaigns of the major museums in the world changed throughout the years? \n",
    "\n",
    "\n",
    "Our workflow:\n",
    "1. Interrogate WikiData:\n",
    "    - What are the biggest collections around the world?\n",
    "2. Find csv files for some of the major museums.\n",
    "3. Select some representative time slots (both internal and external factors).\n",
    "4. Analyse acquisitions during these time slots for every museum and compare:\n",
    "    a) Difference between different slots in the same museum;\n",
    "    b) Difference between different museums for the same time slot;\n",
    "\n",
    "Our questions:\n",
    "- What was the initial nucleus of each museum? \n",
    "- Internal survey: Is there a significant date or decade for the acquisitions? \n",
    "- External survey: What are the acquisition trends around the Xs/between the x and the y? / What are the acquisition trends within and across these museums? \n",
    "- During these years, who are the most represented makers? What is the most represented gender? What is the most represented movement? What is the most represented nationality? \n",
    "\n",
    "\n",
    "We analysed 5/4 of the (MET, MoMa, N+, Cleveland?, Tate) "
   ]
  },
  {
   "cell_type": "markdown",
   "id": "4368dc5d",
   "metadata": {},
   "source": [
    "Wikidata interrogation: failure.\n",
    "\n",
    "1. What are the largest art collections?\n",
    "\n",
    "SELECT ?museum (COUNT(?work) AS ?works) WHERE {\n",
    "  ?work wdt:P195 ?museum.\n",
    "  ?museum wdt:P31 wd:Q207694\n",
    "  }\n",
    "GROUP BY ?museum \n",
    "ORDER BY DESC(?works)\n",
    "\n",
    "2.  Which were the most visited museums in 2018?\n",
    "\n",
    "SELECT ?museumLabel ?visitors ?year\n",
    "WHERE {\n",
    "  ?museum wdt:P31 wd:Q207694;\n",
    "          wdt:P1705 ?museumLabel;\n",
    "          wdt:P1174 ?visitors;\n",
    "          p:P1174/pq:P585 ?year .\n",
    "FILTER(YEAR(?year) = 2018).\n",
    "}\n",
    "\n",
    "ORDER BY DESC(?visitors)"
   ]
  },
  {
   "cell_type": "markdown",
   "id": "e4267ffa",
   "metadata": {},
   "source": [
    "Since WikiData was not providing reliable results, we decided to go back to its sources (The Art Newspaper https://www.theartnewspaper.com/) and manually collect data about the most visited museums in the last four years(2018-2022).\n",
    "\n",
    "https://onedrive.live.com/view.aspx?resid=E34DDE1A3F2F2160!138&ithint=file%2cxlsx&authkey=!AN4u-K4bko37iOU\n",
    "    \n",
    "We verified the availability of open datasets for each of the top 20 most visited museums on this GitHub repository (https://github.com/Ambrosiani/museums-on-github), containing a list of museums with GitHub accounts.\n",
    "\n",
    "Our analysis led us to the decision to focus on four museums:\n",
    "- Tate Modern, London\n",
    "- MoMa, NY\n",
    "- Met, NY\n",
    "- National Gallery of Art, Washington DC\n",
    "\n",
    "**Info generale sui musei."
   ]
  },
  {
   "cell_type": "code",
   "execution_count": 1,
   "id": "cc975d5b",
   "metadata": {},
   "outputs": [],
   "source": [
    "import pandas as pd\n",
    "import csv\n",
    "import re"
   ]
  },
  {
   "cell_type": "markdown",
   "id": "9c6ba48f",
   "metadata": {},
   "source": [
    "First: let us create some pandas dataframes containing all needed information: for each Museum, we will integrate different csv files, selecting the data we need for each of them. "
   ]
  },
  {
   "cell_type": "markdown",
   "id": "70b791fb",
   "metadata": {},
   "source": [
    "#MoMa "
   ]
  },
  {
   "cell_type": "code",
   "execution_count": 2,
   "id": "2a310a72",
   "metadata": {},
   "outputs": [],
   "source": [
    "spreadsheet = pd.read_csv('https://media.githubusercontent.com/media/MuseumofModernArt/collection/master/Artworks.csv')\n",
    "pd.set_option('display.max_columns', None)\n",
    "artworks = spreadsheet[['Title', 'Artist', 'ConstituentID', 'Nationality', 'BeginDate', 'EndDate', 'Gender', 'Date', 'Medium', 'CreditLine', 'Classification', 'Department', 'DateAcquired', 'URL']]\n",
    "artists = pd.read_csv('https://media.githubusercontent.com/media/MuseumofModernArt/collection/master/Artists.csv')\n",
    "artists[\"ConstituentID\"] = artists[\"ConstituentID\"].astype(str)\n",
    "MoMa = pd.merge(artworks,artists[['ConstituentID', 'Wiki QID']],on='ConstituentID', how='left')\n",
    "MoMa.rename(columns = {'ConstituentID':'Id', 'BeginDate':'BirthDate', 'EndDate':'DeathDate'}, inplace = True)\n",
    "MoMa.Date = MoMa.Date.fillna('Not available')\n",
    "MoMa['Date'] = MoMa['Date'].astype(str)\n",
    "#MoMa.to_csv(\"MoMa.csv\")"
   ]
  },
  {
   "cell_type": "markdown",
   "id": "ca614fd4",
   "metadata": {},
   "source": [
    "#Tate"
   ]
  },
  {
   "cell_type": "code",
   "execution_count": 3,
   "id": "1dd54728",
   "metadata": {},
   "outputs": [
    {
     "name": "stderr",
     "output_type": "stream",
     "text": [
      "C:\\Users\\Lorenza\\AppData\\Roaming\\Python\\Python39\\site-packages\\IPython\\core\\interactiveshell.py:3172: DtypeWarning: Columns (9,13) have mixed types.Specify dtype option on import or set low_memory=False.\n",
      "  has_raised = await self.run_ast_nodes(code_ast.body, cell_name,\n",
      "C:\\Program Files\\Python39\\lib\\site-packages\\pandas\\core\\frame.py:4438: SettingWithCopyWarning: \n",
      "A value is trying to be set on a copy of a slice from a DataFrame\n",
      "\n",
      "See the caveats in the documentation: https://pandas.pydata.org/pandas-docs/stable/user_guide/indexing.html#returning-a-view-versus-a-copy\n",
      "  return super().rename(\n",
      "C:\\Program Files\\Python39\\lib\\site-packages\\pandas\\core\\generic.py:5489: SettingWithCopyWarning: \n",
      "A value is trying to be set on a copy of a slice from a DataFrame.\n",
      "Try using .loc[row_indexer,col_indexer] = value instead\n",
      "\n",
      "See the caveats in the documentation: https://pandas.pydata.org/pandas-docs/stable/user_guide/indexing.html#returning-a-view-versus-a-copy\n",
      "  self[name] = value\n"
     ]
    }
   ],
   "source": [
    "spreadsheet = pd.read_csv('https://raw.githubusercontent.com/tategallery/collection/master/artwork_data.csv')\n",
    "pd.set_option('display.max_columns', None)\n",
    "artworks = spreadsheet[['artist', 'artistId', 'title', 'medium', 'creditLine', 'year', 'acquisitionYear', 'url']]\n",
    "artworks.rename(columns = {'artistId':'id'}, inplace = True)\n",
    "artworks.id = artworks.id.astype(str)\n",
    "artists = pd.read_csv('https://raw.githubusercontent.com/tategallery/collection/master/artist_data.csv')\n",
    "artists[\"id\"] = artists[\"id\"].astype(str)\n",
    "Tate = pd.merge(artworks,artists[['id', 'gender', 'yearOfBirth', 'yearOfDeath']], on='id', how='left')\n",
    "Tate.rename(columns = {'artist':'Artist', 'id':'Id', 'title':'Title', 'yearOfBirth':'BirthDate', 'yearOfDeath':'DeathDate', 'medium':'Medium', 'creditLine':'CreditLine', 'year':'Date', 'acquisitionYear':'DateAcquired', 'url':'URL', 'gender':'Gender'}, inplace = True)\n",
    "Tate.to_csv(\"Tate.csv\")"
   ]
  },
  {
   "cell_type": "markdown",
   "id": "859e8108",
   "metadata": {},
   "source": [
    "#Met"
   ]
  },
  {
   "cell_type": "code",
   "execution_count": 14,
   "id": "a62bab09",
   "metadata": {},
   "outputs": [
    {
     "name": "stderr",
     "output_type": "stream",
     "text": [
      "C:\\Users\\Francesca\\AppData\\Roaming\\Python\\Python39\\site-packages\\IPython\\core\\interactiveshell.py:3172: DtypeWarning: Columns (5,7,10,11,12,13,14,34,35,36,37,38,39,40,41,42,43,44,45,46) have mixed types.Specify dtype option on import or set low_memory=False.\n",
      "  has_raised = await self.run_ast_nodes(code_ast.body, cell_name,\n",
      "C:\\Users\\Francesca\\AppData\\Roaming\\Python\\Python39\\site-packages\\pandas\\core\\frame.py:4438: SettingWithCopyWarning: \n",
      "A value is trying to be set on a copy of a slice from a DataFrame\n",
      "\n",
      "See the caveats in the documentation: https://pandas.pydata.org/pandas-docs/stable/user_guide/indexing.html#returning-a-view-versus-a-copy\n",
      "  return super().rename(\n"
     ]
    }
   ],
   "source": [
    "spreadsheet = pd.read_csv('https://media.githubusercontent.com/media/metmuseum/openaccess/master/MetObjects.csv')\n",
    "pd.set_option('display.max_columns', None)\n",
    "Met = spreadsheet[['AccessionYear', 'Title', 'Culture', 'Artist Display Name', 'Artist Nationality', 'Artist Begin Date', 'Artist End Date', 'Artist Gender', 'Artist Wikidata URL', 'Object End Date', 'Medium', 'Credit Line', 'Classification', 'Link Resource', 'Object Wikidata URL']]\n",
    "Met.rename(columns = {'Artist Display Name':'Artist', 'id':'Id', 'Artist Begin Date':'BirthDate', 'Artist End Date':'DeathDate', 'Credit Line':'CreditLine', 'Object End Date':'Date', 'AccessionYear':'DateAcquired', 'Artist Wikidata URL':'Wiki QID', 'Artist Gender':'Gender', 'Link Resource':'URL', 'Artist Nationality':'Nationality'}, inplace = True)\n",
    "#Met.to_csv(\"Met.csv\")"
   ]
  },
  {
   "cell_type": "markdown",
   "id": "3618155b",
   "metadata": {},
   "source": [
    "#Nga"
   ]
  },
  {
   "cell_type": "code",
   "execution_count": 5,
   "id": "1f86f651",
   "metadata": {},
   "outputs": [
    {
     "name": "stderr",
     "output_type": "stream",
     "text": [
      "C:\\Users\\Lorenza\\AppData\\Roaming\\Python\\Python39\\site-packages\\IPython\\core\\interactiveshell.py:3172: DtypeWarning: Columns (28) have mixed types.Specify dtype option on import or set low_memory=False.\n",
      "  has_raised = await self.run_ast_nodes(code_ast.body, cell_name,\n"
     ]
    }
   ],
   "source": [
    "spreadsheet = pd.read_csv('https://raw.githubusercontent.com/NationalGalleryOfArt/opendata/main/data/objects.csv')\n",
    "pd.set_option('display.max_columns', None)\n",
    "Nga = spreadsheet[['accessionnum', 'title', 'endyear', 'medium', 'attribution', 'creditline', 'classification']]\n",
    "Nga.rename(columns = {'attribution':'Artist', 'id':'Id', 'title':'Title', 'medium':'Medium', 'creditline':'CreditLine', 'endyear':'Date', 'accessionnum':'DateAcquired', 'classification':'Classification', 'Object End Date':'Date'}, inplace = True)\n",
    "Nga.to_csv(\"Nga.csv\")"
   ]
  },
  {
   "cell_type": "markdown",
   "id": "e97a7ff1",
   "metadata": {},
   "source": [
    "#Exploring our Museums\n",
    "<br>\n",
    "Now that we have our dataframes, we can explore the four collections.\n",
    "<br>\n",
    "- How many items does each collection contain?\n",
    "- Which timespan do items cover overall?\n",
    "- First and last acquisition date for each museum. Tate's csv last update dates back to 2014.\n",
    "- Total artists' number.\n",
    "- Most represented artist, gender and nationality in general?"
   ]
  },
  {
   "cell_type": "code",
   "execution_count": 6,
   "id": "48e9b378",
   "metadata": {},
   "outputs": [
    {
     "name": "stdout",
     "output_type": "stream",
     "text": [
      "Total artworks at Moma : 139912\n",
      "Total artworks at Met : 448619\n",
      "Total artworks at Tate : 69201\n",
      "Total artworks at Nga : 137923\n"
     ]
    }
   ],
   "source": [
    "museums=[MoMa, Met, Tate, Nga]\n",
    "names = ['Moma', 'Met', 'Tate', 'Nga']\n",
    "for museum in museums:\n",
    "    selected_rows = museum[~museum['Title'].isnull()]\n",
    "    name = names.pop(0)\n",
    "    print(\"Total artworks at\", name, \":\", len(selected_rows.index))"
   ]
  },
  {
   "cell_type": "markdown",
   "id": "4453ec9c",
   "metadata": {},
   "source": [
    "#ARTWORKS DATES"
   ]
  },
  {
   "cell_type": "markdown",
   "id": "fb0264bc",
   "metadata": {},
   "source": [
    "#Clean MoMa's artworks' creation dates "
   ]
  },
  {
   "cell_type": "code",
   "execution_count": 7,
   "id": "5fde7240",
   "metadata": {},
   "outputs": [],
   "source": [
    "def cleanDatesMoma(date):\n",
    "    if '-' in date:\n",
    "        splitted = date.split('-')\n",
    "        date = ' '.join(splitted) \n",
    "    if '/' in date:\n",
    "        splitted = date.split('/')\n",
    "        date = ' '.join(splitted) \n",
    "    if ',' in date:\n",
    "        splitted = date.split(',')\n",
    "        date = ' '.join(splitted) \n",
    "    if '.' in date:\n",
    "        splitted = date.split('.')\n",
    "        date = ' '.join(splitted) \n",
    "        \n",
    "    x = re.search(\"\\d{4}\", date)\n",
    "    if x:\n",
    "        date = x.group()\n",
    "    return date"
   ]
  },
  {
   "cell_type": "code",
   "execution_count": 8,
   "id": "d4c48dc3",
   "metadata": {
    "scrolled": false
   },
   "outputs": [],
   "source": [
    "MoMa[\"Date\"] = MoMa[\"Date\"].apply(cleanDatesMoma)"
   ]
  },
  {
   "cell_type": "markdown",
   "id": "fdab457e",
   "metadata": {},
   "source": [
    "Artworks' timespan"
   ]
  },
  {
   "cell_type": "code",
   "execution_count": 9,
   "id": "cb491153",
   "metadata": {},
   "outputs": [
    {
     "name": "stdout",
     "output_type": "stream",
     "text": [
      "Most ancient artwork at MoMa dates back to 1768\n",
      "Most recent artwork at MoMa dates back to 2022\n",
      "Most ancient artwork at Nga dates back to -490\n",
      "Most recent artwork at Nga dates back to 2021\n",
      "Most ancient artwork at Tate dates back to 1545\n",
      "Most recent artwork at Tate dates back to 2012\n"
     ]
    },
    {
     "ename": "FileNotFoundError",
     "evalue": "[Errno 2] No such file or directory: 'metclean2.csv'",
     "output_type": "error",
     "traceback": [
      "\u001b[1;31m---------------------------------------------------------------------------\u001b[0m",
      "\u001b[1;31mFileNotFoundError\u001b[0m                         Traceback (most recent call last)",
      "\u001b[1;32m~\\AppData\\Local\\Temp/ipykernel_10956/4174000432.py\u001b[0m in \u001b[0;36m<module>\u001b[1;34m\u001b[0m\n\u001b[0;32m      2\u001b[0m \u001b[0mnames\u001b[0m \u001b[1;33m=\u001b[0m \u001b[1;33m[\u001b[0m\u001b[1;34m'MoMa'\u001b[0m\u001b[1;33m,\u001b[0m\u001b[1;34m'Nga'\u001b[0m\u001b[1;33m,\u001b[0m \u001b[1;34m'Tate'\u001b[0m\u001b[1;33m,\u001b[0m \u001b[1;34m'Met'\u001b[0m\u001b[1;33m]\u001b[0m\u001b[1;33m\u001b[0m\u001b[1;33m\u001b[0m\u001b[0m\n\u001b[0;32m      3\u001b[0m \u001b[1;32mfor\u001b[0m \u001b[0mmuseum\u001b[0m \u001b[1;32min\u001b[0m \u001b[0mmuseums\u001b[0m\u001b[1;33m:\u001b[0m\u001b[1;33m\u001b[0m\u001b[1;33m\u001b[0m\u001b[0m\n\u001b[1;32m----> 4\u001b[1;33m     \u001b[1;32mwith\u001b[0m \u001b[0mopen\u001b[0m\u001b[1;33m(\u001b[0m\u001b[0mmuseum\u001b[0m\u001b[1;33m,\u001b[0m \u001b[0mmode\u001b[0m\u001b[1;33m=\u001b[0m\u001b[1;34m'r'\u001b[0m\u001b[1;33m,\u001b[0m \u001b[0mencoding\u001b[0m\u001b[1;33m=\u001b[0m\u001b[1;34m'utf-8'\u001b[0m\u001b[1;33m)\u001b[0m \u001b[1;32mas\u001b[0m \u001b[0mcsvfile\u001b[0m\u001b[1;33m:\u001b[0m\u001b[1;33m\u001b[0m\u001b[1;33m\u001b[0m\u001b[0m\n\u001b[0m\u001b[0;32m      5\u001b[0m         \u001b[0mreader\u001b[0m \u001b[1;33m=\u001b[0m \u001b[0mcsv\u001b[0m\u001b[1;33m.\u001b[0m\u001b[0mDictReader\u001b[0m\u001b[1;33m(\u001b[0m\u001b[0mcsvfile\u001b[0m\u001b[1;33m)\u001b[0m\u001b[1;33m\u001b[0m\u001b[1;33m\u001b[0m\u001b[0m\n\u001b[0;32m      6\u001b[0m         \u001b[0myears\u001b[0m\u001b[1;33m=\u001b[0m\u001b[1;33m[\u001b[0m\u001b[1;33m]\u001b[0m\u001b[1;33m\u001b[0m\u001b[1;33m\u001b[0m\u001b[0m\n",
      "\u001b[1;31mFileNotFoundError\u001b[0m: [Errno 2] No such file or directory: 'metclean2.csv'"
     ]
    }
   ],
   "source": [
    "museums=['MoMa.csv','Nga.csv', 'Tate.csv', 'metclean2.csv']\n",
    "names = ['MoMa','Nga', 'Tate', 'Met']\n",
    "for museum in museums:\n",
    "    with open(museum, mode='r', encoding='utf-8') as csvfile:\n",
    "        reader = csv.DictReader(csvfile)\n",
    "        years=[]\n",
    "        for item in reader:\n",
    "            if item['Date'] != ''and item['Date'] != '(n d )'and item['Date'] != 'TBD'and item['Date'] != 'nd'and item['Date']!='c  196?' and 'c.' not in item['Date'] and item['Date'] != 'no date' and item['Date'] != 'date of publicati' and item['Date'] != 'New York' and item['Date'] != 'Not available' and item['Date'] != 'Various' and item['Date'] != 'Various' and item['Date'] != 'unknown' and 'century' not in item['Date'] and item['Date'] != 'Unknown' and item['Date'] != 'n d ' and '(' not in item['Date'] and item['Date'] != 'n d ' and item['Date'] != 'n d' and item['Date'] != 'n  d ' and item['Date'] != 'Unkown' and item['Date'] != 'TBC':\n",
    "                years.append(item['Date'])\n",
    "        clean = []\n",
    "        for el in years:\n",
    "            if '.'in el:\n",
    "                el = el.split('.')[0]\n",
    "            clean.append(int(el))  \n",
    "        clean.sort()\n",
    "        name = names.pop(0)\n",
    "    print(\"Most ancient artwork at\", name, \"dates back to\", clean[0])\n",
    "    print(\"Most recent artwork at\", name, \"dates back to\", clean[-1])"
   ]
  },
  {
   "cell_type": "markdown",
   "id": "1c96c54b",
   "metadata": {},
   "source": [
    "#Artworks acquisition"
   ]
  },
  {
   "cell_type": "markdown",
   "id": "9168a642",
   "metadata": {},
   "source": [
    "Clean MoMa's artworks' acquisition dates"
   ]
  },
  {
   "cell_type": "code",
   "execution_count": 12,
   "id": "2d434f6b",
   "metadata": {},
   "outputs": [],
   "source": [
    "MoMa = MoMa[MoMa['DateAcquired'].notna()]\n",
    "MoMa[\"DateAcquired\"] = MoMa[\"DateAcquired\"].apply(cleanDatesMoma)"
   ]
  },
  {
   "cell_type": "markdown",
   "id": "6301f54b",
   "metadata": {},
   "source": [
    "Acquisition' timespan"
   ]
  },
  {
   "cell_type": "code",
   "execution_count": 13,
   "id": "59e54cf1",
   "metadata": {},
   "outputs": [
    {
     "name": "stdout",
     "output_type": "stream",
     "text": [
      "First recorderd acquisition MoMa dates back to 1929-11-19\n",
      "Last recorded acquisition MoMa dates back to 2022-09-20\n",
      "First recorderd acquisition Met dates back to 1870\n",
      "Last recorded acquisition Met dates back to 2022\n",
      "First recorderd acquisition Nga dates back to 1937\n",
      "Last recorded acquisition Nga dates back to 2022\n",
      "First recorderd acquisition Tate dates back to 1823\n",
      "Last recorded acquisition Tate dates back to 2013\n"
     ]
    }
   ],
   "source": [
    "museums=['MoMa.csv','Met.csv', 'Nga.csv', 'Tate.csv']\n",
    "names = ['MoMa','Met', 'Nga', 'Tate']\n",
    "for museum in museums:\n",
    "    with open(museum, mode='r', encoding='utf-8') as csvfile:\n",
    "        reader = csv.DictReader(csvfile)\n",
    "        acquisitionyears=[]\n",
    "        for item in reader:\n",
    "            if '.' in item['DateAcquired']:\n",
    "                    item['DateAcquired']= item['DateAcquired'].split('.')[0]\n",
    "            if item['DateAcquired'] != '' and item['DateAcquired'] != 'Object Number':\n",
    "                acquisitionyears.append(item['DateAcquired'])\n",
    "        acquisitionyears.sort()\n",
    "        name = names.pop(0)\n",
    "    print(\"First recorderd acquisition\", name, \"dates back to\", acquisitionyears[0])\n",
    "    print(\"Last recorded acquisition\", name, \"dates back to\", acquisitionyears[-1])"
   ]
  },
  {
   "cell_type": "markdown",
   "id": "98f6550b",
   "metadata": {},
   "source": [
    "Total artists' number."
   ]
  },
  {
   "cell_type": "code",
   "execution_count": 14,
   "id": "cc1dba8b",
   "metadata": {},
   "outputs": [],
   "source": [
    "def cleanArtistsTate(name):\n",
    "    if ',' in name:\n",
    "        splitted = name.split(',')\n",
    "        name = ''.join(splitted) \n",
    "        return name"
   ]
  },
  {
   "cell_type": "code",
   "execution_count": 15,
   "id": "66a7d22f",
   "metadata": {},
   "outputs": [],
   "source": [
    "TateNew = Tate.copy(deep=True)\n",
    "TateNew[\"Artist\"] = TateNew[\"Artist\"].apply(cleanArtistsTate)\n",
    "TateNew.to_csv(\"TateNew.csv\")"
   ]
  },
  {
   "cell_type": "code",
   "execution_count": 16,
   "id": "72e3905d",
   "metadata": {},
   "outputs": [
    {
     "name": "stdout",
     "output_type": "stream",
     "text": [
      "Number of artists at MoMa is 14738\n",
      "Number of artists at Met is 60950\n",
      "Number of artists at Tate is 3281\n",
      "Number of artists at Nga is 16860\n"
     ]
    }
   ],
   "source": [
    "museums=['MoMa.csv', 'Met.csv', 'TateNew.csv', 'Nga.csv']\n",
    "names = ['MoMa', 'Met','Tate', 'Nga']\n",
    "for museum in museums:\n",
    "    with open(museum, mode='r', encoding='utf-8') as csvfile:\n",
    "        reader = csv.DictReader(csvfile)\n",
    "        artists = set() \n",
    "        for item in reader:\n",
    "            if item['Artist']!= '' and 'Unidentified'not in item['Artist'] and 'Various' not in item['Artist']:\n",
    "                if ',' in item['Artist']:\n",
    "                    item['Artist'] = item['Artist'].split(',')\n",
    "                    for n in range(len(item['Artist'])):\n",
    "                        artist= item['Artist'][n]\n",
    "                        artists.add(artist)\n",
    "                elif '|' in item['Artist']:\n",
    "                    artists_list = item['Artist'].split('|')\n",
    "                    for n in range(len(artists_list)):\n",
    "                        artista= artists_list[n]\n",
    "                        artists.add(artista)\n",
    "                else:\n",
    "                    artists.add(item['Artist'])\n",
    "    name = names.pop(0)\n",
    "    print(\"Number of artists at\", name, \"is\", len(artists) )"
   ]
  },
  {
   "cell_type": "markdown",
   "id": "c6401960",
   "metadata": {},
   "source": [
    "Most represented gender in general?\n",
    "Only for MoMa and Tate since other csv files need Wikidata integration"
   ]
  },
  {
   "cell_type": "code",
   "execution_count": 5,
   "id": "2a5a8663",
   "metadata": {},
   "outputs": [],
   "source": [
    "MoMaGender = MoMa.drop_duplicates(subset='Artist', keep=\"first\")\n",
    "MoMaGender.to_csv('MoMaGender.csv')"
   ]
  },
  {
   "cell_type": "code",
   "execution_count": 19,
   "id": "ef467d41",
   "metadata": {},
   "outputs": [],
   "source": [
    "TateGender = Tate.drop_duplicates(subset='Artist', keep=\"first\")\n",
    "TateGender.to_csv('TateGender.csv')"
   ]
  },
  {
   "cell_type": "code",
   "execution_count": 20,
   "id": "f4b4d0a7",
   "metadata": {},
   "outputs": [
    {
     "name": "stdout",
     "output_type": "stream",
     "text": [
      "{'Male': 10474, 'Female': 2809}\n",
      "{'Male': 2791, 'Female': 492}\n"
     ]
    }
   ],
   "source": [
    "museums=['MoMaGender.csv', 'TateGender.csv']\n",
    "names = ['MoMa', 'Tate']\n",
    "for museum in museums:\n",
    "    with open(museum, mode='r', encoding='utf-8') as csvfile:\n",
    "        reader = csv.DictReader(csvfile)\n",
    "        Gender = {'Male':0, 'Female':0}\n",
    "        for item in reader:\n",
    "                if 'Male' in item['Gender']:\n",
    "                    Gender['Male'] += 1\n",
    "                if 'Female' in item['Gender']:\n",
    "                    Gender['Female'] += 1\n",
    "    print(Gender)"
   ]
  },
  {
   "cell_type": "markdown",
   "id": "2998d930",
   "metadata": {},
   "source": [
    "Most represented nationality in general?"
   ]
  },
  {
   "cell_type": "markdown",
   "id": "5699e5ff",
   "metadata": {},
   "source": [
    "# Nationalities at MoMa"
   ]
  },
  {
   "cell_type": "code",
   "execution_count": 6,
   "id": "4cf85c7d",
   "metadata": {},
   "outputs": [],
   "source": [
    "def cleanMoMaNationality(nationality):\n",
    "    if ('(') or (')') in nationality:\n",
    "        a = nationality.replace('(', '').replace(')', ',')\n",
    "    return a.strip()\n",
    "    "
   ]
  },
  {
   "cell_type": "code",
   "execution_count": 7,
   "id": "430f4d86",
   "metadata": {},
   "outputs": [],
   "source": [
    "MoMaGender = MoMaGender[MoMaGender['Nationality'].notna()]\n",
    "MoMaGender[\"Nationality\"] = MoMaGender[\"Nationality\"].apply(cleanMoMaNationality)\n",
    "MoMaGender.to_csv('MoMaGender.csv')\n"
   ]
  },
  {
   "cell_type": "code",
   "execution_count": 8,
   "id": "9570d453",
   "metadata": {},
   "outputs": [
    {
     "name": "stdout",
     "output_type": "stream",
     "text": [
      "{'Swedish', 'Venezuelan', 'Swiss', 'Icelandic', 'Canadian', 'Japanese', 'Kyrgyz', 'Slovak', 'Portuguese', 'Ghanaian', 'Costa Rican', 'Scottish', 'New Zealander', 'Greek', 'Algerian', 'Iranian', 'Ecuadorian', 'Irish', 'American', 'Brazilian', 'Vietnamese', 'Cambodian', 'Moroccan', 'Taiwanese', 'Zimbabwean', 'Norwegian', 'Kuwaiti', 'Sudanese', 'Malian', 'Uruguayan', 'Bolivian', 'Canadian Inuit', 'Ivorian', 'Tanzanian', 'Bulgarian', 'Puerto Rican', 'Finnish', 'Cypriot', 'Bahamian', 'Colombian', 'Indian', 'Congolese', 'Hungarian', 'Senegalese', 'Singaporean', 'Beninese', 'Chilean', 'Mozambican', 'Argentine', 'Malaysian', 'Namibian', 'Salvadoran', 'Czechoslovakian', 'Ugandan', 'Tunisian', 'Macedonian', 'Dutch', 'Palestinian', 'British', 'Thai', 'Catalan', 'Danish', 'South African', 'Albanian', 'Bosnian', 'Paraguayan', 'Yugoslav', 'Bangladeshi', 'Cameroonian', 'Panamanian', 'Nicaraguan', 'Luxembourger', 'Peruvian', 'Pakistani', 'Israeli', 'Lithuanian', 'Kenyan', 'Croatian', 'Azerbaijani', 'Austrian', 'Lebanese', 'Cuban', 'Welsh', 'Italian', 'Nigerian', 'Slovenian', 'Serbian', 'Romanian', 'Emirati', 'Georgian', 'Korean', 'Burkinabé', 'Latvian', 'French', 'Sierra Leonean', 'Polish', 'Chinese', 'German', 'Guatemalan', 'Iraqi', 'Belgian', 'Afghan', 'Ethiopian', 'Haitian', 'Sahrawi', 'Turkish', 'Ukrainian', 'Australian', 'Egyptian', 'Spanish', 'Russian', 'Czech', 'Coptic', 'Mexican', 'Filipino', 'Estonian', 'Native American'}\n",
      "117\n"
     ]
    }
   ],
   "source": [
    "museums=['MoMaGender.csv']\n",
    "names = ['MoMa']\n",
    "for museum in museums:\n",
    "    with open(museum, mode='r', encoding='utf-8') as csvfile:\n",
    "        reader = csv.DictReader(csvfile)\n",
    "        nationalities = set() \n",
    "        for item in reader:\n",
    "            if ',' in item['Nationality']:\n",
    "                    item['Nationality'] = item['Nationality'].split(',')\n",
    "                    for n in range(len(item['Nationality'])):\n",
    "                        nationality= item['Nationality'][n].strip()\n",
    "                        nationalities.add(nationality)\n",
    "            else:\n",
    "                    nationalities.add(item['Nationality'])\n",
    "        count_naz= set()\n",
    "        for el in nationalities:\n",
    "            if el != '' and el != 'Nationality unknown' and el != ',' and el != ' ':\n",
    "                count_naz.add(el)\n",
    "                \n",
    "print(count_naz)\n",
    "print(len(count_naz))\n"
   ]
  },
  {
   "cell_type": "code",
   "execution_count": 18,
   "id": "b2f6c509",
   "metadata": {},
   "outputs": [
    {
     "name": "stdout",
     "output_type": "stream",
     "text": [
      "{'Swedish': 123, 'Venezuelan': 68, 'Swiss': 421, 'Icelandic': 21, 'Canadian': 205, 'Japanese': 545, 'Kyrgyz': 1, 'Slovak': 9, 'Portuguese': 16, 'Ghanaian': 4, 'Costa Rican': 2, 'Scottish': 22, 'New Zealander': 10, 'Greek': 13, 'Algerian': 4, 'Iranian': 11, 'Ecuadorian': 4, 'Irish': 24, 'American': 5584, 'Brazilian': 185, 'Vietnamese': 3, 'Cambodian': 1, 'Moroccan': 8, 'Taiwanese': 4, 'Zimbabwean': 5, 'Norwegian': 35, 'Kuwaiti': 1, 'Sudanese': 2, 'Malian': 3, 'Uruguayan': 24, 'Bolivian': 3, 'Canadian Inuit': 3, 'Ivorian': 2, 'Tanzanian': 1, 'Bulgarian': 5, 'Puerto Rican': 6, 'Finnish': 52, 'Cypriot': 1, 'Bahamian': 1, 'Colombian': 57, 'Indian': 39, 'Congolese': 6, 'Hungarian': 86, 'Senegalese': 2, 'Singaporean': 2, 'Beninese': 1, 'Chilean': 68, 'Mozambican': 1, 'Argentine': 150, 'Malaysian': 2, 'Namibian': 2, 'Salvadoran': 2, 'Czechoslovakian': 3, 'Ugandan': 1, 'Tunisian': 2, 'Macedonian': 5, 'Dutch': 288, 'Palestinian': 3, 'British': 962, 'Thai': 7, 'Catalan': 1, 'Danish': 125, 'South African': 68, 'Albanian': 4, 'Bosnian': 9, 'Paraguayan': 3, 'Yugoslav': 1, 'Bangladeshi': 1, 'Cameroonian': 2, 'Panamanian': 2, 'Nicaraguan': 2, 'Luxembourger': 3, 'Peruvian': 37, 'Pakistani': 4, 'Israeli': 77, 'Lithuanian': 5, 'Kenyan': 2, 'Croatian': 47, 'Azerbaijani': 2, 'Austrian': 277, 'Lebanese': 10, 'Cuban': 71, 'Welsh': 4, 'Italian': 517, 'Nigerian': 6, 'Slovenian': 19, 'Serbian': 17, 'Romanian': 27, 'Emirati': 1, 'Georgian': 22, 'Korean': 35, 'Burkinabé': 1, 'Latvian': 13, 'French': 1041, 'Sierra Leonean': 1, 'Polish': 148, 'Chinese': 106, 'German': 1163, 'Guatemalan': 7, 'Iraqi': 2, 'Belgian': 125, 'Afghan': 1, 'Ethiopian': 2, 'Haitian': 16, 'Sahrawi': 1, 'Turkish': 20, 'Ukrainian': 40, 'Australian': 59, 'Egyptian': 14, 'Spanish': 185, 'Russian': 374, 'Czech': 98, 'Coptic': 1, 'Mexican': 159, 'Filipino': 3, 'Estonian': 2, 'Native American': 10}\n"
     ]
    }
   ],
   "source": [
    "museums=['MoMaGender.csv']\n",
    "names = ['MoMa']\n",
    "for museum in museums:\n",
    "    with open(museum, mode='r', encoding='utf-8') as csvfile:\n",
    "        reader = csv.DictReader(csvfile)\n",
    "        Nationalities ={}\n",
    "        for nationality in count_naz:  \n",
    "            Nationalities[nationality]= 0\n",
    "        for item in reader:\n",
    "            for naz in count_naz:\n",
    "                    if naz in item['Nationality']:\n",
    "                        Nationalities[naz] += 1 \n",
    "    print(Nationalities)"
   ]
  },
  {
   "cell_type": "markdown",
   "id": "c8d75d21",
   "metadata": {},
   "source": [
    "# Nationalities at Met"
   ]
  },
  {
   "cell_type": "code",
   "execution_count": 37,
   "id": "c2553270",
   "metadata": {},
   "outputs": [],
   "source": [
    "def cleanNazMet(naz):\n",
    "    if ',' in naz:\n",
    "        naz = naz.split(',')[0]\n",
    "    if '(' in naz:\n",
    "        naz = naz.split('(')[0]\n",
    "    if '?' in naz:\n",
    "        naz = naz.replace('?', '')\n",
    "    if '1866–1932' in naz:\n",
    "        naz = naz.replace(' 1866–1932', '')\n",
    "    if 'born' in naz:\n",
    "        naz = naz.replace(' born', '')\n",
    "    return naz   "
   ]
  },
  {
   "cell_type": "code",
   "execution_count": 38,
   "id": "d0ebf6fb",
   "metadata": {},
   "outputs": [],
   "source": [
    "MetNew = Met.copy(deep=True)\n",
    "MetNew = MetNew[MetNew['Nationality'].notna()]\n",
    "MetNew[\"Nationality\"] = MetNew[\"Nationality\"].apply(cleanNazMet)\n",
    "MetNew.to_csv(\"MetNew.csv\")"
   ]
  },
  {
   "cell_type": "code",
   "execution_count": 41,
   "id": "0fe3bbfc",
   "metadata": {},
   "outputs": [
    {
     "name": "stdout",
     "output_type": "stream",
     "text": [
      "{'', 'Swedish', 'Venezuelan', 'Franco-Netherlandish', 'Fench', 'Swiss', 'Ukranian', 'French and English', 'Icelandic', 'Gubbio', 'Ancient Greek', 'Bohemian', 'American or British', 'Canadian', 'Spanish/Mexican', 'Siena', 'Japanese', 'Khitan', 'Lombard', 'Portuguese', 'Ghanaian', 'Yugoslavian', 'Austro-Hungarian', 'Nigeria', 'French Italian', 'Geman', 'Liechtensteiner', 'Costa Rican', 'French/Flemish', 'American and Canadian', 'Scottish or American', 'West Coast Africa', 'German American', 'Scottish', 'Italy', 'French/Dutch', 'New Zealander', 'Greek', 'Algerian', 'Tibetan', 'Iranian', 'Ecuadorian', 'Irish', 'Veronese', 'Austrian or German', 'American', 'Brazilian', 'Alsatian', 'American and French', 'Swiss or Austrian', 'British or American', 'British French', 'Upper Rhine', 'Northern France', 'Japanese American', 'French and Canadian', 'United States', 'North African', 'Danish-Icelandic', 'Democratic Republic of Congo', 'European', 'possibly Iranian', 'U.S.', 'Taiwanese', 'South Africa', 'Mexico', 'Brabant', 'Norwegian', 'Rumanian', 'German/Solingen', 'France', 'British or Dutch', 'Kuwaiti', 'Malian', 'Ottoman', 'Italian or French', 'Uruguayan', 'Southern Germany or Austria', 'Sienese', 'french', 'Haida', 'Continental/Swiss', 'Venice', 'possibly French', 'Africa', 'Polish or German', 'Norway', 'Inuit', 'Belgium', 'Bulgarian', 'Afghani', 'American Romanian', 'South Netherlandish', 'Puerto Rican', 'American Indian', 'Bremen', 'Finnish', 'Sri Lankan', 'New York', 'French or Italian', 'Tuscany', 'active in France by 1894', 'Italian [search purposes only]', 'probably Swiss', 'French or Dutch', 'Colombian', 'Paris and London', 'Indian', 'Franco-Flemish', 'Samoan', 'Netherlandish / French', 'Dominican', 'Asmat', 'Hungarian or Austrian', 'italian', 'Hungarian', 'Spainish', 'Iran', 'British/Irish', 'French or German', 'Chilean', 'Armenian', 'Manchu', 'Roman', 'Franco-American', 'Scottish or British', 'French Dutch', 'Scandinavian', 'Slovakian', 'Malaysian', 'French Flemish', 'Mexican American', 'French British', 'German-born sculptor later active in Switzerland', 'Paris', 'Prussian', 'Salvadoran', 'Mexican or Spanish', 'Antelope Valley Washoe', 'Czechoslovakian', 'Uganda', 'Tunisian', 'Sierra Leone', 'Chiricahua Apache Native American', 'Southern Netherlands', 'Dutch', 'Manufacturer', 'British', 'Tajikistan', 'Danish', 'American or German', 'South African', 'Albanian', 'Andorran', 'Southern Italy', 'Mexican-American', 'Kashmir', 'British American', 'American and British', 'Panamanian', 'Cameroonian', 'Peruvian', 'French American', 'Armenian-Iranian', 'Austrian German', 'Algonquin family', 'Germany', 'Persian', 'Pakistani', 'Israeli', 'Netherlandish', 'Lithuanian', 'North Netherlandish', 'Italian or Spanish', 'Northern European', 'Austrian/German', 'London', 'Croatian', 'Hannover', 'Klingenthal', 'Austrian', 'Lebanese', 'Cuban', 'Greenlandish', 'Central European', 'Italian French', 'Islamic', 'Emilian', 'BRitish', 'Iraqi Kurdish', 'English', 'Welsh', 'Italian', 'Nigerian', 'Maltese', 'Romanian', 'Netherlandish/French', 'Burgundian', 'GErman', 'Georgian', 'Korean', 'Saint Lucian', 'Continental', 'German/Swiss', 'American England', 'Argentinian', 'Britsh', 'French', 'Netherlandish or German', 'Polish', 'Chinese', 'German', 'Guatemalan', 'Belgian', 'Guatemalan or Mexican', 'Nethrlandish', 'American Britain', 'Dem. Republic of the Congo', 'Nigeria/Cameroon', 'Turkish', 'Polish Lithunanian', 'Ukrainian', 'French or American', 'Australian', 'England', 'American German', 'British or French', 'Serbo-croat', 'Egyptian', 'Venetian', 'Byzantine', 'Belarussian', 'Denmark', 'Dutch German', 'Congo', 'Mongolian', 'Spanish', 'Russian', 'Hanoverian', 'Jamaican', 'Czech', 'Mexican', 'Japan', 'Aachen', 'American Russian', 'American Irish', 'Finish', 'Japanese and German', 'Native American', 'Estonian', 'Florence', 'Naples', 'Central European or French', 'Swiss American', 'Iranian-American', 'Flemish'}\n"
     ]
    }
   ],
   "source": [
    "museums=['MetNew.csv']\n",
    "names = ['Met']\n",
    "for museum in museums:\n",
    "    with open(museum, mode='r', encoding='utf-8') as csvfile:\n",
    "        reader = csv.DictReader(csvfile)\n",
    "        nationalities = set() \n",
    "        for item in reader:\n",
    "            if '|' in item['Nationality']:\n",
    "                    item['Nationality'] = item['Nationality'].split('|')\n",
    "                    for n in range(len(item['Nationality'])):\n",
    "                        nationality= item['Nationality'][n].strip()\n",
    "                        nationalities.add(nationality)\n",
    "            else:\n",
    "                nationalities.add(item['Nationality'].strip())\n",
    "print(nationalities)"
   ]
  },
  {
   "cell_type": "code",
   "execution_count": 42,
   "id": "262730a6",
   "metadata": {},
   "outputs": [
    {
     "name": "stdout",
     "output_type": "stream",
     "text": [
      "{'': 275535, 'Swedish': 294, 'Venezuelan': 15, 'Franco-Netherlandish': 6, 'Fench': 9, 'Swiss': 1008, 'Ukranian': 6, 'French and English': 2, 'Icelandic': 4, 'Gubbio': 2, 'Ancient Greek': 2, 'Bohemian': 1299, 'American or British': 1, 'Canadian': 247, 'Spanish/Mexican': 1, 'Siena': 2, 'Japanese': 6526, 'Khitan': 1, 'Lombard': 1, 'Portuguese': 33, 'Ghanaian': 4, 'Yugoslavian': 4, 'Austro-Hungarian': 42, 'Nigeria': 22, 'French Italian': 6, 'Geman': 7, 'Liechtensteiner': 1, 'Costa Rican': 1, 'French/Flemish': 1, 'American and Canadian': 3, 'Scottish or American': 1, 'West Coast Africa': 1, 'German American': 12, 'Scottish': 416, 'Italy': 4, 'French/Dutch': 33, 'New Zealander': 5, 'Greek': 170, 'Algerian': 17, 'Tibetan': 2, 'Iranian': 42, 'Ecuadorian': 1, 'Irish': 468, 'Veronese': 1, 'Austrian or German': 5, 'American': 68664, 'Brazilian': 46, 'Alsatian': 1, 'American and French': 37, 'Swiss or Austrian': 1, 'British or American': 5, 'British French': 1, 'Upper Rhine': 1, 'Northern France': 5, 'Japanese American': 22, 'French and Canadian': 5, 'United States': 15, 'North African': 1, 'Danish-Icelandic': 3, 'Democratic Republic of Congo': 1, 'European': 16, 'possibly Iranian': 1, 'U.S.': 1, 'Taiwanese': 1, 'South Africa': 32, 'Mexico': 25, 'Brabant': 1, 'Norwegian': 85, 'Rumanian': 2, 'German/Solingen': 1, 'France': 12, 'British or Dutch': 1, 'Kuwaiti': 3, 'Malian': 23, 'Ottoman': 2, 'Italian or French': 15, 'Uruguayan': 14, 'Southern Germany or Austria': 1, 'Sienese': 3, 'french': 1, 'Haida': 3, 'Continental/Swiss': 2, 'Venice': 1, 'possibly French': 1, 'Africa': 39, 'Polish or German': 1, 'Norway': 1, 'Inuit': 3, 'Belgium': 1, 'Bulgarian': 1, 'Afghani': 1, 'American Romanian': 1, 'South Netherlandish': 6, 'Puerto Rican': 10, 'American Indian': 2, 'Bremen': 1, 'Finnish': 136, 'Sri Lankan': 1, 'New York': 5, 'French or Italian': 1, 'Tuscany': 4, 'active in France by 1894': 1, 'Italian [search purposes only]': 1, 'probably Swiss': 1, 'French or Dutch': 1, 'Colombian': 7, 'Paris and London': 2, 'Indian': 226, 'Franco-Flemish': 1, 'Samoan': 5, 'Netherlandish / French': 1, 'Dominican': 1, 'Asmat': 2, 'Hungarian or Austrian': 1, 'italian': 2, 'Hungarian': 250, 'Spainish': 1, 'Iran': 44, 'British/Irish': 1, 'French or German': 1, 'Chilean': 18, 'Armenian': 5, 'Manchu': 1, 'Roman': 582, 'Franco-American': 1, 'Scottish or British': 3, 'French Dutch': 1, 'Scandinavian': 5, 'Slovakian': 1, 'Malaysian': 31, 'French Flemish': 2, 'Mexican American': 1, 'French British': 1, 'German-born sculptor later active in Switzerland': 1, 'Paris': 3, 'Prussian': 1, 'Salvadoran': 1, 'Mexican or Spanish': 1, 'Antelope Valley Washoe': 1, 'Czechoslovakian': 28, 'Uganda': 1, 'Tunisian': 1, 'Sierra Leone': 1, 'Chiricahua Apache Native American': 1, 'Southern Netherlands': 8, 'Dutch': 4228, 'Manufacturer': 1, 'British': 18804, 'Tajikistan': 1, 'Danish': 436, 'American or German': 1, 'South African': 30, 'Albanian': 1, 'Andorran': 1, 'Southern Italy': 2, 'Mexican-American': 1, 'Kashmir': 1, 'British American': 21, 'American and British': 2, 'Panamanian': 1, 'Cameroonian': 2, 'Peruvian': 11, 'French American': 1, 'Armenian-Iranian': 2, 'Austrian German': 2, 'Algonquin family': 1, 'Germany': 8, 'Persian': 6, 'Pakistani': 14, 'Israeli': 61, 'Netherlandish': 5309, 'Lithuanian': 33, 'North Netherlandish': 3, 'Italian or Spanish': 54, 'Northern European': 4, 'Austrian/German': 1, 'London': 4, 'Croatian': 4, 'Hannover': 2, 'Klingenthal': 1, 'Austrian': 1820, 'Lebanese': 15, 'Cuban': 9, 'Greenlandish': 1, 'Central European': 11, 'Italian French': 2, 'Islamic': 2, 'Emilian': 1, 'BRitish': 1, 'Iraqi Kurdish': 1, 'English': 9, 'Welsh': 1, 'Italian': 24524, 'Nigerian': 20, 'Maltese': 1, 'Romanian': 13, 'Netherlandish/French': 2, 'Burgundian': 2, 'GErman': 1, 'Georgian': 1, 'Korean': 38, 'Saint Lucian': 5, 'Continental': 14, 'German/Swiss': 1, 'American England': 1, 'Argentinian': 19, 'Britsh': 1, 'French': 41431, 'Netherlandish or German': 1, 'Polish': 144, 'Chinese': 2058, 'German': 11583, 'Guatemalan': 2, 'Belgian': 476, 'Guatemalan or Mexican': 1, 'Nethrlandish': 1, 'American Britain': 3, 'Dem. Republic of the Congo': 1, 'Nigeria/Cameroon': 1, 'Turkish': 38, 'Polish Lithunanian': 1, 'Ukrainian': 28, 'French or American': 1, 'Australian': 86, 'England': 3, 'American German': 9, 'British or French': 1, 'Serbo-croat': 1, 'Egyptian': 10, 'Venetian': 3, 'Byzantine': 1, 'Belarussian': 1, 'Denmark': 1, 'Dutch German': 6, 'Congo': 5, 'Mongolian': 4, 'Spanish': 2509, 'Russian': 778, 'Hanoverian': 1, 'Jamaican': 1, 'Czech': 268, 'Mexican': 360, 'Japan': 6527, 'Aachen': 1, 'American Russian': 2, 'American Irish': 1, 'Finish': 5, 'Japanese and German': 5, 'Native American': 5, 'Estonian': 1, 'Florence': 1, 'Naples': 1, 'Central European or French': 1, 'Swiss American': 1, 'Iranian-American': 1, 'Flemish': 1560}\n"
     ]
    }
   ],
   "source": [
    "with open('MetNew.csv', mode='r', encoding='utf-8') as csvfile:\n",
    "        reader = csv.DictReader(csvfile)\n",
    "        MetNationalities ={}\n",
    "        for nationality in nationalities:  \n",
    "            MetNationalities[nationality]= 0\n",
    "        for item in reader:\n",
    "            for naz in nationalities:\n",
    "                    if naz in item['Nationality']:\n",
    "                        MetNationalities[naz] += 1 \n",
    "print(MetNationalities)"
   ]
  },
  {
   "cell_type": "markdown",
   "id": "11e5a71c",
   "metadata": {},
   "source": [
    "# Nationalities at Nga"
   ]
  },
  {
   "cell_type": "code",
   "execution_count": 53,
   "id": "7a137b5e",
   "metadata": {},
   "outputs": [],
   "source": [
    "NgaNationalities = pd.read_csv('https://raw.githubusercontent.com/NationalGalleryOfArt/opendata/main/data/constituents.csv')\n",
    "pd.set_option('display.max_columns', None)\n",
    "NgaNationalities = NgaNationalities[['artistofngaobject', 'nationality']]\n",
    "NgaNationalities = NgaNationalities[NgaNationalities['artistofngaobject']==1]\n",
    "NgaNationalities = NgaNationalities[NgaNationalities['nationality'].notna()]\n",
    "NgaNationalities = NgaNationalities[NgaNationalities['nationality'] != 'Unknown']"
   ]
  },
  {
   "cell_type": "code",
   "execution_count": 56,
   "id": "27bfca30",
   "metadata": {},
   "outputs": [],
   "source": [
    "def cleanNazNga(naz):\n",
    "    if ' (?)' in naz:\n",
    "         naz = naz.replace(' (?)', '')\n",
    "    return naz   "
   ]
  },
  {
   "cell_type": "code",
   "execution_count": 57,
   "id": "86499f2c",
   "metadata": {},
   "outputs": [],
   "source": [
    "NgaNationalities[\"nationality\"] = NgaNationalities[\"nationality\"].apply(cleanNazNga)\n",
    "NgaNationalities.to_csv(\"NgaNationalities.csv\")"
   ]
  },
  {
   "cell_type": "code",
   "execution_count": 69,
   "id": "8cd06ef3",
   "metadata": {},
   "outputs": [
    {
     "name": "stdout",
     "output_type": "stream",
     "text": [
      "{'Swedish', 'Venezuelan', 'German or Netherlandish', 'Swiss', 'Icelandic', 'Bavarian', 'Bohemian', 'Canadian', 'Japanese', 'Slovak', 'Portuguese', 'Yugoslavian', 'Scottish', 'Veneto-Islamic', 'New Zealander', 'Greek', 'Iranian', 'Irish', 'West Indian', 'Swiss or German', 'American', 'Brazilian', 'European', 'Moroccan', 'Taiwanese', 'Norwegian', 'South German', 'Etruscan', 'Malian', 'Uruguayan', 'Bulgarian', 'Finnish', 'Bahamian', 'New Zealand', 'Colombian', 'Indian', 'Franco-Flemish', 'italian', 'Hungarian', 'Hispano-Flemish', 'British-American', 'Chilean', 'Armenian', 'Nepalese', 'Roman', 'Mexican/American', 'Martiniquais', 'Genoese', 'Argentine', 'Scandinavian', '\\u206eItalian', 'Dalmatian', 'Dutch', 'British', 'Danish', 'South African', 'Albanian', 'Bosnian', 'Nicaraguan', 'Peruvian', 'Latin', 'American and Mexican', 'Germany', 'Persian', 'Argentinean', 'Israeli', 'Israeli and Czech', 'Mosan', 'Netherlandish', 'Lithuanian', 'Croatian', 'Austrian', 'Cuban', 'English', 'Welsh', 'Italian', 'Nigerian', 'Slovenian', 'Romanian', 'Korean', 'Latvian', 'French', 'Liechtenstein', 'Polish', 'Chinese', 'German', 'Guatemalan', 'Indonesian', 'Belgian', 'Ethiopian', 'Bolognese', 'Turkish', 'Ukrainian', 'Australian', 'Egyptian', 'Byzantine', 'Spanish', 'Russian', 'Czech', 'Mexican', 'Flemish'}\n"
     ]
    }
   ],
   "source": [
    "with open('NgaNationalities.csv', mode='r', encoding='utf-8') as csvfile:\n",
    "        reader = csv.DictReader(csvfile)\n",
    "        nationalities = set() \n",
    "        for item in reader:\n",
    "            nationality= item['nationality'].strip()\n",
    "            nationalities.add(nationality)\n",
    "\n",
    "print(nationalities)"
   ]
  },
  {
   "cell_type": "code",
   "execution_count": 70,
   "id": "ff317c9f",
   "metadata": {},
   "outputs": [
    {
     "name": "stdout",
     "output_type": "stream",
     "text": [
      "{'Swedish': 39, 'Venezuelan': 4, 'German or Netherlandish': 1, 'Swiss': 158, 'Icelandic': 1, 'Bavarian': 1, 'Bohemian': 11, 'Canadian': 48, 'Japanese': 104, 'Slovak': 1, 'Portuguese': 5, 'Yugoslavian': 14, 'Scottish': 55, 'Veneto-Islamic': 1, 'New Zealander': 2, 'Greek': 23, 'Iranian': 2, 'Irish': 29, 'West Indian': 1, 'Swiss or German': 1, 'American': 6810, 'Brazilian': 16, 'European': 7, 'Moroccan': 1, 'Taiwanese': 1, 'Norwegian': 9, 'South German': 1, 'Etruscan': 1, 'Malian': 1, 'Uruguayan': 2, 'Bulgarian': 3, 'Finnish': 4, 'Bahamian': 1, 'New Zealand': 3, 'Colombian': 2, 'Indian': 7, 'Franco-Flemish': 3, 'italian': 1, 'Hungarian': 27, 'Hispano-Flemish': 1, 'British-American': 1, 'Chilean': 6, 'Armenian': 1, 'Nepalese': 1, 'Roman': 15, 'Mexican/American': 1, 'Martiniquais': 1, 'Genoese': 1, 'Argentine': 22, 'Scandinavian': 2, '\\u206eItalian': 2, 'Dalmatian': 1, 'Dutch': 472, 'British': 1145, 'Danish': 26, 'South African': 8, 'Albanian': 1, 'Bosnian': 1, 'Nicaraguan': 1, 'Peruvian': 3, 'Latin': 1, 'American and Mexican': 1, 'Germany': 1, 'Persian': 3, 'Argentinean': 20, 'Israeli': 20, 'Israeli and Czech': 1, 'Mosan': 2, 'Netherlandish': 112, 'Lithuanian': 2, 'Croatian': 2, 'Austrian': 138, 'Cuban': 8, 'English': 126, 'Welsh': 10, 'Italian': 1576, 'Nigerian': 2, 'Slovenian': 1, 'Romanian': 6, 'Korean': 5, 'Latvian': 2, 'French': 2176, 'Liechtenstein': 1, 'Polish': 64, 'Chinese': 22, 'German': 1208, 'Guatemalan': 2, 'Indonesian': 1, 'Belgian': 52, 'Ethiopian': 1, 'Bolognese': 1, 'Turkish': 2, 'Ukrainian': 1, 'Australian': 22, 'Egyptian': 2, 'Byzantine': 1, 'Spanish': 92, 'Russian': 96, 'Czech': 178, 'Mexican': 39, 'Flemish': 255}\n"
     ]
    }
   ],
   "source": [
    "with open('NgaNationalities.csv', mode='r', encoding='utf-8') as csvfile:\n",
    "        reader = csv.DictReader(csvfile)\n",
    "        NgaNationalities ={}\n",
    "        for nationality in nationalities:  \n",
    "            NgaNationalities[nationality]= 0\n",
    "        for item in reader:\n",
    "            for naz in nationalities:\n",
    "                    if naz in item['nationality']:\n",
    "                        NgaNationalities[naz] += 1 \n",
    "print(NgaNationalities)"
   ]
  },
  {
   "cell_type": "code",
   "execution_count": null,
   "id": "e171afca",
   "metadata": {},
   "outputs": [],
   "source": []
  },
  {
   "cell_type": "markdown",
   "id": "0bb30d28",
   "metadata": {},
   "source": [
    "#Our analysis.\n",
    "<br>\n",
    "1. What are the most acquired artists in museums (in general)?\n",
    "    - Is there a gender gap in the selection of artists?\n",
    "    - What are the most represented nationalities (in general)?\n",
    "    - What are the most represented movements or genres (in general)?\n",
    "2. How have acquisition criteria changed (over time) in museums?\n",
    "    - In which years are artists' works mostly acquired?\n",
    "    - When does the gender gap decreases (if it does)?\n",
    "    - In which years artists' nationalities more influent on the selection?\n",
    "    - In which years artists' movements/genres more influent on the selection?\n",
    "3. If we compare criteria of all museums, in general and over time, do we see any similarity or significant difference?\n",
    "    - Do certain museums acquire more works based on artists/artists' gender/nationality/movement than others?"
   ]
  },
  {
   "cell_type": "markdown",
   "id": "f72e670d",
   "metadata": {},
   "source": [
    "Acquisition criteria.\n",
    "1.  In which years are artists' works mostly acquired?<br>\n",
    "To answer, we need to count how many times each year shows up in the DateAcquired column."
   ]
  },
  {
   "cell_type": "code",
   "execution_count": null,
   "id": "b500263f",
   "metadata": {},
   "outputs": [],
   "source": [
    "MoMa['year'] = pd.DatetimeIndex(MoMa['DateAcquired']).year\n",
    "MoMaNew['DateAcquired'] = MoMa['year']\n",
    "MoMaNew = MoMaNew[MoMaNew['DateAcquired'].notna()]\n",
    "MoMaNew.to_csv(\"MoMaNew.csv\")"
   ]
  },
  {
   "cell_type": "code",
   "execution_count": null,
   "id": "3f16c4d0",
   "metadata": {},
   "outputs": [],
   "source": [
    "with open('MoMaNew.csv', mode='r', encoding='utf-8') as csvfile:\n",
    "    reader = csv.DictReader(csvfile)\n",
    "    years={}\n",
    "    for item in reader:\n",
    "        if item['DateAcquired']not in years:\n",
    "            years[item['DateAcquired']]= 1\n",
    "        else:\n",
    "            years[item['DateAcquired']]+= 1\n",
    "\n",
    "    print(years)\n",
    "    #all_years=list(years.keys())\n",
    "    #print(sorted(all_years))\n",
    "    "
   ]
  },
  {
   "cell_type": "markdown",
   "id": "66ae1086",
   "metadata": {},
   "source": [
    "Trova modo di ordinare per value o usa la libreria che sa Laura\n",
    "Visualizzazione :)"
   ]
  },
  {
   "cell_type": "code",
   "execution_count": null,
   "id": "531b72a0",
   "metadata": {},
   "outputs": [],
   "source": [
    "new_dict={}\n",
    "for key in years:\n",
    "    key_int=key.split('.')[0]\n",
    "    key_int=int(key_int)\n",
    "    if key_int in range(1928,1941):\n",
    "        if '1930s' not in new_dict.keys():\n",
    "               new_dict['1930s']= years[key]\n",
    "        else:\n",
    "            new_dict['1930s'] += years[key]\n",
    "    if key_int in range(1940,1951):\n",
    "        if '1940s' not in new_dict.keys():\n",
    "               new_dict['1940s']= years[key]\n",
    "        else:\n",
    "            new_dict['1940s'] += years[key]\n",
    "    \n",
    "    if key_int in range(1950,1961):\n",
    "        if '1950s' not in new_dict.keys():\n",
    "               new_dict['1950s']= years[key]\n",
    "        else:\n",
    "            new_dict['1950s'] += years[key]\n",
    "    \n",
    "    if key_int in range(1960,1971):\n",
    "        if '1960s' not in new_dict.keys():\n",
    "               new_dict['1960s']= years[key]\n",
    "        else:\n",
    "            new_dict['1960s'] += years[key]\n",
    "    \n",
    "    if key_int in range(1970,1981):\n",
    "        if '1970s' not in new_dict.keys():\n",
    "               new_dict['1970s']= years[key]\n",
    "        else:\n",
    "            new_dict['1970s'] += years[key]\n",
    "    if key_int in range(1980,1991):\n",
    "        if '1980s' not in new_dict.keys():\n",
    "               new_dict['1980s']= years[key]\n",
    "        else:\n",
    "            new_dict['1980s'] += years[key]\n",
    "    \n",
    "    if key_int in range(1990,2001):\n",
    "        if '1990s' not in new_dict.keys():\n",
    "               new_dict['1990s']= years[key]\n",
    "        else:\n",
    "            new_dict['1990s'] += years[key]\n",
    "        \n",
    "    \n",
    "print(new_dict)\n",
    "    "
   ]
  },
  {
   "cell_type": "markdown",
   "id": "17d03edf",
   "metadata": {},
   "source": [
    "When does the gender gap decreases (if it does)? <br>\n",
    "Per ogni 10 anni, percentuale di uomini e donne acquisiti e differenza."
   ]
  },
  {
   "cell_type": "code",
   "execution_count": null,
   "id": "7ed35196",
   "metadata": {},
   "outputs": [],
   "source": [
    "with open('MoMaNew.csv', mode='r', encoding='utf-8') as csvfile:\n",
    "    reader = csv.DictReader(csvfile)\n",
    "    years={}\n",
    "    for item in reader:\n",
    "        if item['DateAcquired']not in years:\n",
    "            years[item['DateAcquired']]= 1\n",
    "        else:\n",
    "            years[item['DateAcquired']]+= 1\n",
    "\n",
    "    print(years)"
   ]
  },
  {
   "cell_type": "markdown",
   "id": "6778dda1",
   "metadata": {},
   "source": [
    "When does the gender gap decreases (if it does)?\n",
    "Per ogni 10 anni, percentuale di uomini e donne acquisiti e differenza.\n",
    "\n",
    "In which years artists' nationalities more influent on the selection?\n",
    "Per ogni 10 anni, percentuale di nazionalità acquisite e differenza.\n",
    "\n",
    "In which years artists'movements/genres more influent on the selection?\n",
    "Per ogni 10 anni, percentuale di nazionalità acquisite e differenza."
   ]
  },
  {
   "cell_type": "markdown",
   "id": "f39a380e",
   "metadata": {},
   "source": [
    "Nga non ha Gender\n",
    "Met molti Gender sono NaN\n"
   ]
  }
 ],
 "metadata": {
  "kernelspec": {
   "display_name": "Python 3 (ipykernel)",
   "language": "python",
   "name": "python3"
  },
  "language_info": {
   "codemirror_mode": {
    "name": "ipython",
    "version": 3
   },
   "file_extension": ".py",
   "mimetype": "text/x-python",
   "name": "python",
   "nbconvert_exporter": "python",
   "pygments_lexer": "ipython3",
   "version": "3.9.0"
  }
 },
 "nbformat": 4,
 "nbformat_minor": 5
}
