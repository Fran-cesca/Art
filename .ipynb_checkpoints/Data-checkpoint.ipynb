{
 "cells": [
  {
   "cell_type": "markdown",
   "id": "48581096",
   "metadata": {},
   "source": [
    "#NOME FIGO\n",
    "Art and history of art are no sealed compartments: they are heavily inter-dependent with social, political, economic factors, which in turn influence our very perception of what art is.\n",
    "\n",
    "Cultural institutions and museums in particular play a fundamental role in this intertwined dynamics: through their selection activity, they have the potential to shape the public understanding of arts and its modifications throughout time. \n",
    "In some way, what makes into museums makes into history of art.\n",
    "\n",
    "From these considerations stems our analysis: how do external (social, political, economic) factors influence the perception of art and its history?\n",
    "A way to investigate it is by looking at the greatest and most representative museums around the world, and at their acquisition policies and campaigns in particular.\n",
    "\n",
    "Our key questions:\n",
    "In which ways have the acquisition campaigns of the major museums in the world changed throughout the years? \n",
    "\n",
    "\n",
    "Our workflow:\n",
    "1. Interrogate WikiData:\n",
    "    - What are the biggest collections around the world?\n",
    "2. Find csv files for some of the major museums.\n",
    "3. Select some representative time slots (both internal and external factors).\n",
    "4. Analyse acquisitions during these time slots for every museum and compare:\n",
    "    a) Difference between different slots in the same museum;\n",
    "    b) Difference between different museums for the same time slot;\n",
    "\n",
    "Our questions:\n",
    "- What was the initial nucleus of each museum? \n",
    "- Internal survey: Is there a significant date or decade for the acquisitions? \n",
    "- External survey: What are the acquisition trends around the Xs/between the x and the y? / What are the acquisition trends within and across these museums? \n",
    "- During these years, who are the most represented makers? What is the most represented gender? What is the most represented movement? What is the most represented nationality? \n",
    "\n",
    "\n",
    "We analysed 5/4 of the (MET, MoMa, N+, Cleveland?, Tate) "
   ]
  },
  {
   "cell_type": "markdown",
   "id": "4368dc5d",
   "metadata": {},
   "source": [
    "Wikidata interrogation: failure.\n",
    "\n",
    "1. What are the largest art collections?\n",
    "\n",
    "SELECT ?museum (COUNT(?work) AS ?works) WHERE {\n",
    "  ?work wdt:P195 ?museum.\n",
    "  ?museum wdt:P31 wd:Q207694\n",
    "  }\n",
    "GROUP BY ?museum \n",
    "ORDER BY DESC(?works)\n",
    "\n",
    "2.  Which were the most visited museums in 2018?\n",
    "\n",
    "SELECT ?museumLabel ?visitors ?year\n",
    "WHERE {\n",
    "  ?museum wdt:P31 wd:Q207694;\n",
    "          wdt:P1705 ?museumLabel;\n",
    "          wdt:P1174 ?visitors;\n",
    "          p:P1174/pq:P585 ?year .\n",
    "FILTER(YEAR(?year) = 2018).\n",
    "}\n",
    "\n",
    "ORDER BY DESC(?visitors)"
   ]
  },
  {
   "cell_type": "markdown",
   "id": "e4267ffa",
   "metadata": {},
   "source": [
    "Since WikiData was not providing reliable results, we decided to go back to its sources (The Art Newspaper https://www.theartnewspaper.com/) and manually collect data about the most visited museums in the last four years(2018-2022).\n",
    "\n",
    "https://onedrive.live.com/view.aspx?resid=E34DDE1A3F2F2160!138&ithint=file%2cxlsx&authkey=!AN4u-K4bko37iOU\n",
    "    \n",
    "We verified the availability of open datasets for each of the top 20 most visited museums on this GitHub repository (https://github.com/Ambrosiani/museums-on-github), containing a list of museums with GitHub accounts.\n",
    "\n",
    "Our analysis led us to the decision to focus on four museums:\n",
    "- Tate Modern, London\n",
    "- MoMa, NY\n",
    "- Met, NY\n",
    "- National Gallery of Art, Washington DC\n",
    "\n",
    "**Info generale sui musei."
   ]
  },
  {
   "cell_type": "code",
   "execution_count": 145,
   "id": "cc975d5b",
   "metadata": {},
   "outputs": [],
   "source": [
    "import pandas as pd\n",
    "import csv\n",
    "import re"
   ]
  },
  {
   "cell_type": "markdown",
   "id": "70b791fb",
   "metadata": {},
   "source": [
    "#MoMa "
   ]
  },
  {
   "cell_type": "code",
   "execution_count": 146,
   "id": "2a310a72",
   "metadata": {},
   "outputs": [],
   "source": [
    "spreadsheet = pd.read_csv('https://media.githubusercontent.com/media/MuseumofModernArt/collection/master/Artworks.csv')\n",
    "pd.set_option('display.max_columns', None)\n",
    "artworks = spreadsheet[['Title', 'Artist', 'ConstituentID', 'Nationality', 'BeginDate', 'EndDate', 'Gender', 'Date', 'Medium', 'CreditLine', 'Classification', 'Department', 'DateAcquired', 'URL']]\n",
    "artists = pd.read_csv('https://media.githubusercontent.com/media/MuseumofModernArt/collection/master/Artists.csv')\n",
    "artists[\"ConstituentID\"] = artists[\"ConstituentID\"].astype(str)\n",
    "MoMa = pd.merge(artworks,artists[['ConstituentID', 'Wiki QID']],on='ConstituentID', how='left')\n",
    "MoMa.rename(columns = {'ConstituentID':'Id', 'BeginDate':'BirthDate', 'EndDate':'DeathDate'}, inplace = True)\n",
    "MoMa.Date = MoMa.Date.fillna('Not available')\n",
    "MoMa['Date'] = MoMa['Date'].astype(str)\n",
    "#MoMa.to_csv(\"MoMa.csv\")\n",
    "#MoMa.head(30)"
   ]
  },
  {
   "cell_type": "markdown",
   "id": "ca614fd4",
   "metadata": {},
   "source": [
    "#Tate"
   ]
  },
  {
   "cell_type": "code",
   "execution_count": 147,
   "id": "1dd54728",
   "metadata": {},
   "outputs": [
    {
     "ename": "ParserError",
     "evalue": "Error tokenizing data. C error: Calling read(nbytes) on source failed. Try engine='python'.",
     "output_type": "error",
     "traceback": [
      "\u001b[1;31m---------------------------------------------------------------------------\u001b[0m",
      "\u001b[1;31mParserError\u001b[0m                               Traceback (most recent call last)",
      "\u001b[1;32mC:\\Users\\FRANCE~1\\AppData\\Local\\Temp/ipykernel_16344/1251703465.py\u001b[0m in \u001b[0;36m<module>\u001b[1;34m\u001b[0m\n\u001b[1;32m----> 1\u001b[1;33m \u001b[0mspreadsheet\u001b[0m \u001b[1;33m=\u001b[0m \u001b[0mpd\u001b[0m\u001b[1;33m.\u001b[0m\u001b[0mread_csv\u001b[0m\u001b[1;33m(\u001b[0m\u001b[1;34m'https://raw.githubusercontent.com/tategallery/collection/master/artwork_data.csv'\u001b[0m\u001b[1;33m)\u001b[0m\u001b[1;33m\u001b[0m\u001b[1;33m\u001b[0m\u001b[0m\n\u001b[0m\u001b[0;32m      2\u001b[0m \u001b[0mpd\u001b[0m\u001b[1;33m.\u001b[0m\u001b[0mset_option\u001b[0m\u001b[1;33m(\u001b[0m\u001b[1;34m'display.max_columns'\u001b[0m\u001b[1;33m,\u001b[0m \u001b[1;32mNone\u001b[0m\u001b[1;33m)\u001b[0m\u001b[1;33m\u001b[0m\u001b[1;33m\u001b[0m\u001b[0m\n\u001b[0;32m      3\u001b[0m \u001b[0martworks\u001b[0m \u001b[1;33m=\u001b[0m \u001b[0mspreadsheet\u001b[0m\u001b[1;33m[\u001b[0m\u001b[1;33m[\u001b[0m\u001b[1;34m'artist'\u001b[0m\u001b[1;33m,\u001b[0m \u001b[1;34m'artistId'\u001b[0m\u001b[1;33m,\u001b[0m \u001b[1;34m'title'\u001b[0m\u001b[1;33m,\u001b[0m \u001b[1;34m'medium'\u001b[0m\u001b[1;33m,\u001b[0m \u001b[1;34m'creditLine'\u001b[0m\u001b[1;33m,\u001b[0m \u001b[1;34m'year'\u001b[0m\u001b[1;33m,\u001b[0m \u001b[1;34m'acquisitionYear'\u001b[0m\u001b[1;33m,\u001b[0m \u001b[1;34m'url'\u001b[0m\u001b[1;33m]\u001b[0m\u001b[1;33m]\u001b[0m\u001b[1;33m\u001b[0m\u001b[1;33m\u001b[0m\u001b[0m\n\u001b[0;32m      4\u001b[0m \u001b[0martworks\u001b[0m\u001b[1;33m.\u001b[0m\u001b[0mrename\u001b[0m\u001b[1;33m(\u001b[0m\u001b[0mcolumns\u001b[0m \u001b[1;33m=\u001b[0m \u001b[1;33m{\u001b[0m\u001b[1;34m'artistId'\u001b[0m\u001b[1;33m:\u001b[0m\u001b[1;34m'id'\u001b[0m\u001b[1;33m}\u001b[0m\u001b[1;33m,\u001b[0m \u001b[0minplace\u001b[0m \u001b[1;33m=\u001b[0m \u001b[1;32mTrue\u001b[0m\u001b[1;33m)\u001b[0m\u001b[1;33m\u001b[0m\u001b[1;33m\u001b[0m\u001b[0m\n\u001b[0;32m      5\u001b[0m \u001b[0martworks\u001b[0m\u001b[1;33m.\u001b[0m\u001b[0mid\u001b[0m \u001b[1;33m=\u001b[0m \u001b[0martworks\u001b[0m\u001b[1;33m.\u001b[0m\u001b[0mid\u001b[0m\u001b[1;33m.\u001b[0m\u001b[0mastype\u001b[0m\u001b[1;33m(\u001b[0m\u001b[0mstr\u001b[0m\u001b[1;33m)\u001b[0m\u001b[1;33m\u001b[0m\u001b[1;33m\u001b[0m\u001b[0m\n",
      "\u001b[1;32m~\\AppData\\Roaming\\Python\\Python39\\site-packages\\pandas\\io\\parsers.py\u001b[0m in \u001b[0;36mread_csv\u001b[1;34m(filepath_or_buffer, sep, delimiter, header, names, index_col, usecols, squeeze, prefix, mangle_dupe_cols, dtype, engine, converters, true_values, false_values, skipinitialspace, skiprows, skipfooter, nrows, na_values, keep_default_na, na_filter, verbose, skip_blank_lines, parse_dates, infer_datetime_format, keep_date_col, date_parser, dayfirst, cache_dates, iterator, chunksize, compression, thousands, decimal, lineterminator, quotechar, quoting, doublequote, escapechar, comment, encoding, dialect, error_bad_lines, warn_bad_lines, delim_whitespace, low_memory, memory_map, float_precision, storage_options)\u001b[0m\n\u001b[0;32m    603\u001b[0m     \u001b[0mkwds\u001b[0m\u001b[1;33m.\u001b[0m\u001b[0mupdate\u001b[0m\u001b[1;33m(\u001b[0m\u001b[0mkwds_defaults\u001b[0m\u001b[1;33m)\u001b[0m\u001b[1;33m\u001b[0m\u001b[1;33m\u001b[0m\u001b[0m\n\u001b[0;32m    604\u001b[0m \u001b[1;33m\u001b[0m\u001b[0m\n\u001b[1;32m--> 605\u001b[1;33m     \u001b[1;32mreturn\u001b[0m \u001b[0m_read\u001b[0m\u001b[1;33m(\u001b[0m\u001b[0mfilepath_or_buffer\u001b[0m\u001b[1;33m,\u001b[0m \u001b[0mkwds\u001b[0m\u001b[1;33m)\u001b[0m\u001b[1;33m\u001b[0m\u001b[1;33m\u001b[0m\u001b[0m\n\u001b[0m\u001b[0;32m    606\u001b[0m \u001b[1;33m\u001b[0m\u001b[0m\n\u001b[0;32m    607\u001b[0m \u001b[1;33m\u001b[0m\u001b[0m\n",
      "\u001b[1;32m~\\AppData\\Roaming\\Python\\Python39\\site-packages\\pandas\\io\\parsers.py\u001b[0m in \u001b[0;36m_read\u001b[1;34m(filepath_or_buffer, kwds)\u001b[0m\n\u001b[0;32m    461\u001b[0m \u001b[1;33m\u001b[0m\u001b[0m\n\u001b[0;32m    462\u001b[0m     \u001b[1;32mwith\u001b[0m \u001b[0mparser\u001b[0m\u001b[1;33m:\u001b[0m\u001b[1;33m\u001b[0m\u001b[1;33m\u001b[0m\u001b[0m\n\u001b[1;32m--> 463\u001b[1;33m         \u001b[1;32mreturn\u001b[0m \u001b[0mparser\u001b[0m\u001b[1;33m.\u001b[0m\u001b[0mread\u001b[0m\u001b[1;33m(\u001b[0m\u001b[0mnrows\u001b[0m\u001b[1;33m)\u001b[0m\u001b[1;33m\u001b[0m\u001b[1;33m\u001b[0m\u001b[0m\n\u001b[0m\u001b[0;32m    464\u001b[0m \u001b[1;33m\u001b[0m\u001b[0m\n\u001b[0;32m    465\u001b[0m \u001b[1;33m\u001b[0m\u001b[0m\n",
      "\u001b[1;32m~\\AppData\\Roaming\\Python\\Python39\\site-packages\\pandas\\io\\parsers.py\u001b[0m in \u001b[0;36mread\u001b[1;34m(self, nrows)\u001b[0m\n\u001b[0;32m   1050\u001b[0m     \u001b[1;32mdef\u001b[0m \u001b[0mread\u001b[0m\u001b[1;33m(\u001b[0m\u001b[0mself\u001b[0m\u001b[1;33m,\u001b[0m \u001b[0mnrows\u001b[0m\u001b[1;33m=\u001b[0m\u001b[1;32mNone\u001b[0m\u001b[1;33m)\u001b[0m\u001b[1;33m:\u001b[0m\u001b[1;33m\u001b[0m\u001b[1;33m\u001b[0m\u001b[0m\n\u001b[0;32m   1051\u001b[0m         \u001b[0mnrows\u001b[0m \u001b[1;33m=\u001b[0m \u001b[0mvalidate_integer\u001b[0m\u001b[1;33m(\u001b[0m\u001b[1;34m\"nrows\"\u001b[0m\u001b[1;33m,\u001b[0m \u001b[0mnrows\u001b[0m\u001b[1;33m)\u001b[0m\u001b[1;33m\u001b[0m\u001b[1;33m\u001b[0m\u001b[0m\n\u001b[1;32m-> 1052\u001b[1;33m         \u001b[0mindex\u001b[0m\u001b[1;33m,\u001b[0m \u001b[0mcolumns\u001b[0m\u001b[1;33m,\u001b[0m \u001b[0mcol_dict\u001b[0m \u001b[1;33m=\u001b[0m \u001b[0mself\u001b[0m\u001b[1;33m.\u001b[0m\u001b[0m_engine\u001b[0m\u001b[1;33m.\u001b[0m\u001b[0mread\u001b[0m\u001b[1;33m(\u001b[0m\u001b[0mnrows\u001b[0m\u001b[1;33m)\u001b[0m\u001b[1;33m\u001b[0m\u001b[1;33m\u001b[0m\u001b[0m\n\u001b[0m\u001b[0;32m   1053\u001b[0m \u001b[1;33m\u001b[0m\u001b[0m\n\u001b[0;32m   1054\u001b[0m         \u001b[1;32mif\u001b[0m \u001b[0mindex\u001b[0m \u001b[1;32mis\u001b[0m \u001b[1;32mNone\u001b[0m\u001b[1;33m:\u001b[0m\u001b[1;33m\u001b[0m\u001b[1;33m\u001b[0m\u001b[0m\n",
      "\u001b[1;32m~\\AppData\\Roaming\\Python\\Python39\\site-packages\\pandas\\io\\parsers.py\u001b[0m in \u001b[0;36mread\u001b[1;34m(self, nrows)\u001b[0m\n\u001b[0;32m   2054\u001b[0m     \u001b[1;32mdef\u001b[0m \u001b[0mread\u001b[0m\u001b[1;33m(\u001b[0m\u001b[0mself\u001b[0m\u001b[1;33m,\u001b[0m \u001b[0mnrows\u001b[0m\u001b[1;33m=\u001b[0m\u001b[1;32mNone\u001b[0m\u001b[1;33m)\u001b[0m\u001b[1;33m:\u001b[0m\u001b[1;33m\u001b[0m\u001b[1;33m\u001b[0m\u001b[0m\n\u001b[0;32m   2055\u001b[0m         \u001b[1;32mtry\u001b[0m\u001b[1;33m:\u001b[0m\u001b[1;33m\u001b[0m\u001b[1;33m\u001b[0m\u001b[0m\n\u001b[1;32m-> 2056\u001b[1;33m             \u001b[0mdata\u001b[0m \u001b[1;33m=\u001b[0m \u001b[0mself\u001b[0m\u001b[1;33m.\u001b[0m\u001b[0m_reader\u001b[0m\u001b[1;33m.\u001b[0m\u001b[0mread\u001b[0m\u001b[1;33m(\u001b[0m\u001b[0mnrows\u001b[0m\u001b[1;33m)\u001b[0m\u001b[1;33m\u001b[0m\u001b[1;33m\u001b[0m\u001b[0m\n\u001b[0m\u001b[0;32m   2057\u001b[0m         \u001b[1;32mexcept\u001b[0m \u001b[0mStopIteration\u001b[0m\u001b[1;33m:\u001b[0m\u001b[1;33m\u001b[0m\u001b[1;33m\u001b[0m\u001b[0m\n\u001b[0;32m   2058\u001b[0m             \u001b[1;32mif\u001b[0m \u001b[0mself\u001b[0m\u001b[1;33m.\u001b[0m\u001b[0m_first_chunk\u001b[0m\u001b[1;33m:\u001b[0m\u001b[1;33m\u001b[0m\u001b[1;33m\u001b[0m\u001b[0m\n",
      "\u001b[1;32mpandas\\_libs\\parsers.pyx\u001b[0m in \u001b[0;36mpandas._libs.parsers.TextReader.read\u001b[1;34m()\u001b[0m\n",
      "\u001b[1;32mpandas\\_libs\\parsers.pyx\u001b[0m in \u001b[0;36mpandas._libs.parsers.TextReader._read_low_memory\u001b[1;34m()\u001b[0m\n",
      "\u001b[1;32mpandas\\_libs\\parsers.pyx\u001b[0m in \u001b[0;36mpandas._libs.parsers.TextReader._read_rows\u001b[1;34m()\u001b[0m\n",
      "\u001b[1;32mpandas\\_libs\\parsers.pyx\u001b[0m in \u001b[0;36mpandas._libs.parsers.TextReader._tokenize_rows\u001b[1;34m()\u001b[0m\n",
      "\u001b[1;32mpandas\\_libs\\parsers.pyx\u001b[0m in \u001b[0;36mpandas._libs.parsers.raise_parser_error\u001b[1;34m()\u001b[0m\n",
      "\u001b[1;31mParserError\u001b[0m: Error tokenizing data. C error: Calling read(nbytes) on source failed. Try engine='python'."
     ]
    }
   ],
   "source": [
    "spreadsheet = pd.read_csv('https://raw.githubusercontent.com/tategallery/collection/master/artwork_data.csv')\n",
    "pd.set_option('display.max_columns', None)\n",
    "artworks = spreadsheet[['artist', 'artistId', 'title', 'medium', 'creditLine', 'year', 'acquisitionYear', 'url']]\n",
    "artworks.rename(columns = {'artistId':'id'}, inplace = True)\n",
    "artworks.id = artworks.id.astype(str)\n",
    "artists = pd.read_csv('https://raw.githubusercontent.com/tategallery/collection/master/artist_data.csv')\n",
    "artists[\"id\"] = artists[\"id\"].astype(str)\n",
    "Tate = pd.merge(artworks,artists[['id', 'gender', 'yearOfBirth', 'yearOfDeath']], on='id', how='left')\n",
    "Tate.rename(columns = {'artist':'Artist', 'id':'Id', 'title':'Title', 'yearOfBirth':'BirthDate', 'yearOfDeath':'DeathDate', 'medium':'Medium', 'creditLine':'CreditLine', 'year':'Date', 'acquisitionYear':'DateAcquired', 'url':'URL', 'gender':'Gender'}, inplace = True)\n",
    "Tate.to_csv(\"Tate.csv\")\n",
    "#Tate.head(3)"
   ]
  },
  {
   "cell_type": "code",
   "execution_count": null,
   "id": "07314ce2",
   "metadata": {},
   "outputs": [],
   "source": [
    "#Met"
   ]
  },
  {
   "cell_type": "code",
   "execution_count": null,
   "id": "a62bab09",
   "metadata": {},
   "outputs": [],
   "source": [
    "spreadsheet = pd.read_csv('https://media.githubusercontent.com/media/metmuseum/openaccess/master/MetObjects.csv')\n",
    "pd.set_option('display.max_columns', None)\n",
    "Met = spreadsheet[['AccessionYear', 'Title', 'Culture', 'Artist Display Name', 'Artist Nationality', 'Artist Begin Date', 'Artist End Date', 'Artist Gender', 'Artist Wikidata URL', 'Object End Date', 'Medium', 'Credit Line', 'Classification', 'Link Resource', 'Object Wikidata URL']]\n",
    "Met.rename(columns = {'Artist Display Name':'Artist', 'id':'Id', 'Artist Begin Date':'BirthDate', 'Artist End Date':'DeathDate', 'Credit Line':'CreditLine', 'Object End Date':'Date', 'AccessionYear':'DateAcquired', 'Artist Wikidata URL':'Wiki QID', 'Artist Gender':'Gender', 'Link Resource':'URL', 'Artist Nationality':'Nationality'}, inplace = True)\n",
    "Met.to_csv(\"Met.csv\")"
   ]
  },
  {
   "cell_type": "code",
   "execution_count": null,
   "id": "2f3f242e",
   "metadata": {},
   "outputs": [],
   "source": [
    "#Nga"
   ]
  },
  {
   "cell_type": "code",
   "execution_count": null,
   "id": "1f86f651",
   "metadata": {},
   "outputs": [],
   "source": [
    "spreadsheet = pd.read_csv('https://raw.githubusercontent.com/NationalGalleryOfArt/opendata/main/data/objects.csv')\n",
    "pd.set_option('display.max_columns', None)\n",
    "Nga = spreadsheet[['accessionnum', 'title', 'endyear', 'medium', 'attribution', 'creditline', 'classification']]\n",
    "Nga.rename(columns = {'attribution':'Artist', 'id':'Id', 'title':'Title', 'medium':'Medium', 'creditline':'CreditLine', 'endyear':'Date', 'accessionnum':'DateAcquired', 'classification':'Classification', 'Object End Date':'Date'}, inplace = True)\n",
    "Nga.to_csv(\"Nga.csv\")"
   ]
  },
  {
   "cell_type": "markdown",
   "id": "e97a7ff1",
   "metadata": {},
   "source": [
    "#Exploring our Museums\n",
    "<br>\n",
    "Next, we decided to explore the four collections.\n",
    "- How many items does each collection contain?\n",
    "- Which timespan do items cover overall?\n",
    "- First and last acquisition date for each museum. Tate's csv last update dates back to 2014.\n",
    "- Total artists' number.\n",
    "- Most represented artist, gender and nationality in general?\n",
    "- Which artworks typologies are represented in each museum and in which proportion?"
   ]
  },
  {
   "cell_type": "code",
   "execution_count": null,
   "id": "48e9b378",
   "metadata": {},
   "outputs": [],
   "source": [
    "museums=[MoMa, Met, Tate, Nga]\n",
    "names = ['Moma', 'Met', 'Tate', 'Nga']\n",
    "for museum in museums:\n",
    "    selected_rows = museum[~museum['Title'].isnull()]\n",
    "    name = names.pop(0)\n",
    "    print(\"Total items at\", name, \":\", len(selected_rows.index))"
   ]
  },
  {
   "cell_type": "code",
   "execution_count": null,
   "id": "bc32eb9d",
   "metadata": {},
   "outputs": [],
   "source": [
    "#ARTWORKS DATES"
   ]
  },
  {
   "cell_type": "markdown",
   "id": "fb0264bc",
   "metadata": {},
   "source": [
    "#Clean MoMa's artworks' creation dates "
   ]
  },
  {
   "cell_type": "code",
   "execution_count": null,
   "id": "c5af2176",
   "metadata": {},
   "outputs": [],
   "source": [
    "'''\n",
    "def cleanDates(date):\n",
    "    if '-' in date:\n",
    "        splitted = date.split('-')\n",
    "        year = splitted[0]\n",
    "        return year\n",
    "    if '/' in date:\n",
    "        splitted = date.split('/')\n",
    "        year = splitted[0]\n",
    "        return year\n",
    "    if ',' in date:\n",
    "        splitted = date.split(',')\n",
    "        year = splitted[0]\n",
    "        return year\n",
    "    if '.' in date:\n",
    "        splitted = date.split('.')\n",
    "        year = splitted[0]\n",
    "        return year\n",
    "    else:\n",
    "        return date\n",
    "        '''"
   ]
  },
  {
   "cell_type": "code",
   "execution_count": null,
   "id": "d7567c99",
   "metadata": {},
   "outputs": [],
   "source": [
    "'''\n",
    "def cleanDates(date):\n",
    "    date = re.sub('', '', date) \n",
    "\n",
    "    return date\n",
    "    '''"
   ]
  },
  {
   "cell_type": "code",
   "execution_count": 148,
   "id": "5fde7240",
   "metadata": {},
   "outputs": [],
   "source": [
    "def cleanDatesMoma(date):\n",
    "    if '-' in date:\n",
    "        splitted = date.split('-')\n",
    "        date = ' '.join(splitted) \n",
    "    if '/' in date:\n",
    "        splitted = date.split('/')\n",
    "        date = ' '.join(splitted) \n",
    "    if ',' in date:\n",
    "        splitted = date.split(',')\n",
    "        date = ' '.join(splitted) \n",
    "    if '.' in date:\n",
    "        splitted = date.split('.')\n",
    "        date = ' '.join(splitted) \n",
    "        \n",
    "    x = re.search(\"\\d{4}\", date)\n",
    "    if x:\n",
    "        date = x.group()\n",
    "    return date"
   ]
  },
  {
   "cell_type": "code",
   "execution_count": 149,
   "id": "d4c48dc3",
   "metadata": {
    "scrolled": false
   },
   "outputs": [],
   "source": [
    "MoMaNew = MoMa.copy(deep=True)\n",
    "MoMaNew[\"Date\"] = MoMaNew[\"Date\"].apply(cleanDatesMoma)\n",
    "MoMaNew.to_csv(\"MoMaNew.csv\")\n",
    "#MoMaNew.head(30)"
   ]
  },
  {
   "cell_type": "markdown",
   "id": "fdab457e",
   "metadata": {},
   "source": [
    "Artworks' timespan"
   ]
  },
  {
   "cell_type": "code",
   "execution_count": null,
   "id": "cb491153",
   "metadata": {},
   "outputs": [],
   "source": [
    "museums=['MoMaNew.csv','Met.csv', 'Nga.csv', 'Tate.csv']\n",
    "names = ['MoMa','Met', 'Nga', 'Tate']\n",
    "for museum in museums:\n",
    "    with open(museum, mode='r', encoding='utf-8') as csvfile:\n",
    "        reader = csv.DictReader(csvfile)\n",
    "        years=[]\n",
    "        for item in reader:\n",
    "            if item['Date'] != ''and item['Date'] != '(n d )'and item['Date'] != 'TBD'and item['Date'] != 'nd' and len(item['Date'])<=6 and item['Date'] != 'n d ' and '(' not in item['Date'] and item['Date'] != 'n d ' and item['Date'] != 'n d' and item['Date'] != 'n  d ' and item['Date'] != 'Unkown' and item['Date'] != 'TBC':\n",
    "                years.append(str(item['Date']))        \n",
    "        years.sort()\n",
    "        name = names.pop(0)\n",
    "    print(\"Most ancient artwork at\", name, \"dates back to\", years[0])\n",
    "    print(\"Most recent artwork at\", name, \"dates back to\", years[-1])"
   ]
  },
  {
   "cell_type": "markdown",
   "id": "1c96c54b",
   "metadata": {},
   "source": [
    "#Artworks acquisition"
   ]
  },
  {
   "cell_type": "markdown",
   "id": "9168a642",
   "metadata": {},
   "source": [
    "Clean MoMa's artworks' acquisition dates"
   ]
  },
  {
   "cell_type": "code",
   "execution_count": null,
   "id": "f062dd5b",
   "metadata": {},
   "outputs": [],
   "source": [
    "def cleanAcquisitionDatesMoma(date):\n",
    "    if '-' in date:\n",
    "        date = date.split('-')[0]\n",
    "    return date"
   ]
  },
  {
   "cell_type": "code",
   "execution_count": 150,
   "id": "2d434f6b",
   "metadata": {},
   "outputs": [
    {
     "data": {
      "text/html": [
       "<div>\n",
       "<style scoped>\n",
       "    .dataframe tbody tr th:only-of-type {\n",
       "        vertical-align: middle;\n",
       "    }\n",
       "\n",
       "    .dataframe tbody tr th {\n",
       "        vertical-align: top;\n",
       "    }\n",
       "\n",
       "    .dataframe thead th {\n",
       "        text-align: right;\n",
       "    }\n",
       "</style>\n",
       "<table border=\"1\" class=\"dataframe\">\n",
       "  <thead>\n",
       "    <tr style=\"text-align: right;\">\n",
       "      <th></th>\n",
       "      <th>Title</th>\n",
       "      <th>Artist</th>\n",
       "      <th>Id</th>\n",
       "      <th>Nationality</th>\n",
       "      <th>BirthDate</th>\n",
       "      <th>DeathDate</th>\n",
       "      <th>Gender</th>\n",
       "      <th>Date</th>\n",
       "      <th>Medium</th>\n",
       "      <th>CreditLine</th>\n",
       "      <th>Classification</th>\n",
       "      <th>Department</th>\n",
       "      <th>DateAcquired</th>\n",
       "      <th>URL</th>\n",
       "      <th>Wiki QID</th>\n",
       "    </tr>\n",
       "  </thead>\n",
       "  <tbody>\n",
       "    <tr>\n",
       "      <th>0</th>\n",
       "      <td>Ferdinandsbrücke Project, Vienna, Austria (Ele...</td>\n",
       "      <td>Otto Wagner</td>\n",
       "      <td>6210</td>\n",
       "      <td>(Austrian)</td>\n",
       "      <td>(1841)</td>\n",
       "      <td>(1918)</td>\n",
       "      <td>(Male)</td>\n",
       "      <td>1896</td>\n",
       "      <td>Ink and cut-and-pasted painted pages on paper</td>\n",
       "      <td>Fractional and promised gift of Jo Carole and ...</td>\n",
       "      <td>Architecture</td>\n",
       "      <td>Architecture &amp; Design</td>\n",
       "      <td>1996</td>\n",
       "      <td>http://www.moma.org/collection/works/2</td>\n",
       "      <td>Q84287</td>\n",
       "    </tr>\n",
       "    <tr>\n",
       "      <th>1</th>\n",
       "      <td>City of Music, National Superior Conservatory ...</td>\n",
       "      <td>Christian de Portzamparc</td>\n",
       "      <td>7470</td>\n",
       "      <td>(French)</td>\n",
       "      <td>(1944)</td>\n",
       "      <td>(0)</td>\n",
       "      <td>(Male)</td>\n",
       "      <td>1987</td>\n",
       "      <td>Paint and colored pencil on print</td>\n",
       "      <td>Gift of the architect in honor of Lily Auchinc...</td>\n",
       "      <td>Architecture</td>\n",
       "      <td>Architecture &amp; Design</td>\n",
       "      <td>1995</td>\n",
       "      <td>http://www.moma.org/collection/works/3</td>\n",
       "      <td>Q312838</td>\n",
       "    </tr>\n",
       "    <tr>\n",
       "      <th>2</th>\n",
       "      <td>Villa near Vienna Project, Outside Vienna, Aus...</td>\n",
       "      <td>Emil Hoppe</td>\n",
       "      <td>7605</td>\n",
       "      <td>(Austrian)</td>\n",
       "      <td>(1876)</td>\n",
       "      <td>(1957)</td>\n",
       "      <td>(Male)</td>\n",
       "      <td>1903</td>\n",
       "      <td>Graphite, pen, color pencil, ink, and gouache ...</td>\n",
       "      <td>Gift of Jo Carole and Ronald S. Lauder</td>\n",
       "      <td>Architecture</td>\n",
       "      <td>Architecture &amp; Design</td>\n",
       "      <td>1997</td>\n",
       "      <td>http://www.moma.org/collection/works/4</td>\n",
       "      <td>Q1336246</td>\n",
       "    </tr>\n",
       "    <tr>\n",
       "      <th>3</th>\n",
       "      <td>The Manhattan Transcripts Project, New York, N...</td>\n",
       "      <td>Bernard Tschumi</td>\n",
       "      <td>7056</td>\n",
       "      <td>()</td>\n",
       "      <td>(1944)</td>\n",
       "      <td>(0)</td>\n",
       "      <td>(Male)</td>\n",
       "      <td>1980</td>\n",
       "      <td>Photographic reproduction with colored synthet...</td>\n",
       "      <td>Purchase and partial gift of the architect in ...</td>\n",
       "      <td>Architecture</td>\n",
       "      <td>Architecture &amp; Design</td>\n",
       "      <td>1995</td>\n",
       "      <td>http://www.moma.org/collection/works/5</td>\n",
       "      <td>Q123966</td>\n",
       "    </tr>\n",
       "    <tr>\n",
       "      <th>4</th>\n",
       "      <td>Villa, project, outside Vienna, Austria, Exter...</td>\n",
       "      <td>Emil Hoppe</td>\n",
       "      <td>7605</td>\n",
       "      <td>(Austrian)</td>\n",
       "      <td>(1876)</td>\n",
       "      <td>(1957)</td>\n",
       "      <td>(Male)</td>\n",
       "      <td>1903</td>\n",
       "      <td>Graphite, color pencil, ink, and gouache on tr...</td>\n",
       "      <td>Gift of Jo Carole and Ronald S. Lauder</td>\n",
       "      <td>Architecture</td>\n",
       "      <td>Architecture &amp; Design</td>\n",
       "      <td>1997</td>\n",
       "      <td>http://www.moma.org/collection/works/6</td>\n",
       "      <td>Q1336246</td>\n",
       "    </tr>\n",
       "    <tr>\n",
       "      <th>...</th>\n",
       "      <td>...</td>\n",
       "      <td>...</td>\n",
       "      <td>...</td>\n",
       "      <td>...</td>\n",
       "      <td>...</td>\n",
       "      <td>...</td>\n",
       "      <td>...</td>\n",
       "      <td>...</td>\n",
       "      <td>...</td>\n",
       "      <td>...</td>\n",
       "      <td>...</td>\n",
       "      <td>...</td>\n",
       "      <td>...</td>\n",
       "      <td>...</td>\n",
       "      <td>...</td>\n",
       "    </tr>\n",
       "    <tr>\n",
       "      <th>195</th>\n",
       "      <td>Ibirapuera Park project, São Paulo, Brazil (Si...</td>\n",
       "      <td>Roberto Burle Marx, Oscar Niemeyer</td>\n",
       "      <td>6934, 8103</td>\n",
       "      <td>(Brazilian) (Brazilian)</td>\n",
       "      <td>(1909) (1907)</td>\n",
       "      <td>(1994) (2012)</td>\n",
       "      <td>(Male) (Male)</td>\n",
       "      <td>1953</td>\n",
       "      <td>Gouache and graphite on board</td>\n",
       "      <td>Gift of Roblee McCarthy, Jr. Fund and Lily Auc...</td>\n",
       "      <td>Architecture</td>\n",
       "      <td>Architecture &amp; Design</td>\n",
       "      <td>1991</td>\n",
       "      <td>http://www.moma.org/collection/works/252</td>\n",
       "      <td>NaN</td>\n",
       "    </tr>\n",
       "    <tr>\n",
       "      <th>196</th>\n",
       "      <td>Ibirapuera Park Project, São Paulo, Brazil (Pe...</td>\n",
       "      <td>Roberto Burle Marx, Oscar Niemeyer</td>\n",
       "      <td>6934, 8103</td>\n",
       "      <td>(Brazilian) (Brazilian)</td>\n",
       "      <td>(1909) (1907)</td>\n",
       "      <td>(1994) (2012)</td>\n",
       "      <td>(Male) (Male)</td>\n",
       "      <td>1953</td>\n",
       "      <td>Gouache on board</td>\n",
       "      <td>Gift of Roblee McCarthy, Jr. Fund and Lily Auc...</td>\n",
       "      <td>Architecture</td>\n",
       "      <td>Architecture &amp; Design</td>\n",
       "      <td>1991</td>\n",
       "      <td>http://www.moma.org/collection/works/253</td>\n",
       "      <td>NaN</td>\n",
       "    </tr>\n",
       "    <tr>\n",
       "      <th>197</th>\n",
       "      <td>Prototype Architecture School No. 5, project, ...</td>\n",
       "      <td>Neil M. Denari</td>\n",
       "      <td>7933</td>\n",
       "      <td>(American)</td>\n",
       "      <td>(1957)</td>\n",
       "      <td>(0)</td>\n",
       "      <td>(Male)</td>\n",
       "      <td>1992</td>\n",
       "      <td>Ink, airbrush, and cut-and-pasted printed self...</td>\n",
       "      <td>Ralph Fehlbaum Purchase Fund</td>\n",
       "      <td>Architecture</td>\n",
       "      <td>Architecture &amp; Design</td>\n",
       "      <td>1998</td>\n",
       "      <td>http://www.moma.org/collection/works/255</td>\n",
       "      <td>Q6135237</td>\n",
       "    </tr>\n",
       "    <tr>\n",
       "      <th>198</th>\n",
       "      <td>Bismarck Monument, project, Bingen, Germany, P...</td>\n",
       "      <td>Ludwig Mies van der Rohe</td>\n",
       "      <td>7166</td>\n",
       "      <td>(American)</td>\n",
       "      <td>(1886)</td>\n",
       "      <td>(1969)</td>\n",
       "      <td>(Male)</td>\n",
       "      <td>1910</td>\n",
       "      <td>Gouache on linen</td>\n",
       "      <td>Rob Beyer Purchase Fund, Edward Larrabee Barne...</td>\n",
       "      <td>Architecture</td>\n",
       "      <td>Architecture &amp; Design</td>\n",
       "      <td>1998</td>\n",
       "      <td>http://www.moma.org/collection/works/256</td>\n",
       "      <td>Q41508</td>\n",
       "    </tr>\n",
       "    <tr>\n",
       "      <th>199</th>\n",
       "      <td>Simulated Dwelling for a Family of Five Project</td>\n",
       "      <td>David Jacob</td>\n",
       "      <td>2864</td>\n",
       "      <td>(American)</td>\n",
       "      <td>(1928)</td>\n",
       "      <td>(0)</td>\n",
       "      <td>(Male)</td>\n",
       "      <td>1970</td>\n",
       "      <td>Fiberglass, polyester resin, metal, paper, pla...</td>\n",
       "      <td>Estée and Joseph Lauder Design Fund</td>\n",
       "      <td>Architecture</td>\n",
       "      <td>Architecture &amp; Design</td>\n",
       "      <td>1973</td>\n",
       "      <td>http://www.moma.org/collection/works/257</td>\n",
       "      <td>NaN</td>\n",
       "    </tr>\n",
       "  </tbody>\n",
       "</table>\n",
       "<p>200 rows × 15 columns</p>\n",
       "</div>"
      ],
      "text/plain": [
       "                                                 Title  \\\n",
       "0    Ferdinandsbrücke Project, Vienna, Austria (Ele...   \n",
       "1    City of Music, National Superior Conservatory ...   \n",
       "2    Villa near Vienna Project, Outside Vienna, Aus...   \n",
       "3    The Manhattan Transcripts Project, New York, N...   \n",
       "4    Villa, project, outside Vienna, Austria, Exter...   \n",
       "..                                                 ...   \n",
       "195  Ibirapuera Park project, São Paulo, Brazil (Si...   \n",
       "196  Ibirapuera Park Project, São Paulo, Brazil (Pe...   \n",
       "197  Prototype Architecture School No. 5, project, ...   \n",
       "198  Bismarck Monument, project, Bingen, Germany, P...   \n",
       "199    Simulated Dwelling for a Family of Five Project   \n",
       "\n",
       "                                 Artist          Id              Nationality  \\\n",
       "0                           Otto Wagner        6210               (Austrian)   \n",
       "1              Christian de Portzamparc        7470                 (French)   \n",
       "2                            Emil Hoppe        7605               (Austrian)   \n",
       "3                       Bernard Tschumi        7056                       ()   \n",
       "4                            Emil Hoppe        7605               (Austrian)   \n",
       "..                                  ...         ...                      ...   \n",
       "195  Roberto Burle Marx, Oscar Niemeyer  6934, 8103  (Brazilian) (Brazilian)   \n",
       "196  Roberto Burle Marx, Oscar Niemeyer  6934, 8103  (Brazilian) (Brazilian)   \n",
       "197                      Neil M. Denari        7933               (American)   \n",
       "198            Ludwig Mies van der Rohe        7166               (American)   \n",
       "199                         David Jacob        2864               (American)   \n",
       "\n",
       "         BirthDate      DeathDate         Gender  Date  \\\n",
       "0           (1841)         (1918)         (Male)  1896   \n",
       "1           (1944)            (0)         (Male)  1987   \n",
       "2           (1876)         (1957)         (Male)  1903   \n",
       "3           (1944)            (0)         (Male)  1980   \n",
       "4           (1876)         (1957)         (Male)  1903   \n",
       "..             ...            ...            ...   ...   \n",
       "195  (1909) (1907)  (1994) (2012)  (Male) (Male)  1953   \n",
       "196  (1909) (1907)  (1994) (2012)  (Male) (Male)  1953   \n",
       "197         (1957)            (0)         (Male)  1992   \n",
       "198         (1886)         (1969)         (Male)  1910   \n",
       "199         (1928)            (0)         (Male)  1970   \n",
       "\n",
       "                                                Medium  \\\n",
       "0        Ink and cut-and-pasted painted pages on paper   \n",
       "1                    Paint and colored pencil on print   \n",
       "2    Graphite, pen, color pencil, ink, and gouache ...   \n",
       "3    Photographic reproduction with colored synthet...   \n",
       "4    Graphite, color pencil, ink, and gouache on tr...   \n",
       "..                                                 ...   \n",
       "195                      Gouache and graphite on board   \n",
       "196                                   Gouache on board   \n",
       "197  Ink, airbrush, and cut-and-pasted printed self...   \n",
       "198                                   Gouache on linen   \n",
       "199  Fiberglass, polyester resin, metal, paper, pla...   \n",
       "\n",
       "                                            CreditLine Classification  \\\n",
       "0    Fractional and promised gift of Jo Carole and ...   Architecture   \n",
       "1    Gift of the architect in honor of Lily Auchinc...   Architecture   \n",
       "2               Gift of Jo Carole and Ronald S. Lauder   Architecture   \n",
       "3    Purchase and partial gift of the architect in ...   Architecture   \n",
       "4               Gift of Jo Carole and Ronald S. Lauder   Architecture   \n",
       "..                                                 ...            ...   \n",
       "195  Gift of Roblee McCarthy, Jr. Fund and Lily Auc...   Architecture   \n",
       "196  Gift of Roblee McCarthy, Jr. Fund and Lily Auc...   Architecture   \n",
       "197                       Ralph Fehlbaum Purchase Fund   Architecture   \n",
       "198  Rob Beyer Purchase Fund, Edward Larrabee Barne...   Architecture   \n",
       "199                Estée and Joseph Lauder Design Fund   Architecture   \n",
       "\n",
       "                Department DateAcquired  \\\n",
       "0    Architecture & Design         1996   \n",
       "1    Architecture & Design         1995   \n",
       "2    Architecture & Design         1997   \n",
       "3    Architecture & Design         1995   \n",
       "4    Architecture & Design         1997   \n",
       "..                     ...          ...   \n",
       "195  Architecture & Design         1991   \n",
       "196  Architecture & Design         1991   \n",
       "197  Architecture & Design         1998   \n",
       "198  Architecture & Design         1998   \n",
       "199  Architecture & Design         1973   \n",
       "\n",
       "                                          URL  Wiki QID  \n",
       "0      http://www.moma.org/collection/works/2    Q84287  \n",
       "1      http://www.moma.org/collection/works/3   Q312838  \n",
       "2      http://www.moma.org/collection/works/4  Q1336246  \n",
       "3      http://www.moma.org/collection/works/5   Q123966  \n",
       "4      http://www.moma.org/collection/works/6  Q1336246  \n",
       "..                                        ...       ...  \n",
       "195  http://www.moma.org/collection/works/252       NaN  \n",
       "196  http://www.moma.org/collection/works/253       NaN  \n",
       "197  http://www.moma.org/collection/works/255  Q6135237  \n",
       "198  http://www.moma.org/collection/works/256    Q41508  \n",
       "199  http://www.moma.org/collection/works/257       NaN  \n",
       "\n",
       "[200 rows x 15 columns]"
      ]
     },
     "execution_count": 150,
     "metadata": {},
     "output_type": "execute_result"
    }
   ],
   "source": [
    "MoMaNext = MoMaNew.copy(deep=True)\n",
    "MoMaNext = MoMaNext[MoMaNext['DateAcquired'].notna()]\n",
    "MoMaNext[\"DateAcquired\"] = MoMaNext[\"DateAcquired\"].apply(cleanDatesMoma)\n",
    "MoMaNext.to_csv(\"MoMaNew.csv\")\n",
    "MoMaNext.head(200)"
   ]
  },
  {
   "cell_type": "markdown",
   "id": "6301f54b",
   "metadata": {},
   "source": [
    "Acquisition' timespan"
   ]
  },
  {
   "cell_type": "code",
   "execution_count": null,
   "id": "59e54cf1",
   "metadata": {},
   "outputs": [],
   "source": [
    "museums=['MoMaNew.csv','Met.csv', 'Nga.csv', 'Tate.csv']\n",
    "names = ['MoMa','Met', 'Nga', 'Tate']\n",
    "for museum in museums:\n",
    "    with open(museum, mode='r', encoding='utf-8') as csvfile:\n",
    "        reader = csv.DictReader(csvfile)\n",
    "        acquisitionyears=[]\n",
    "        for item in reader:\n",
    "            if '.' in item['DateAcquired']:\n",
    "                    item['DateAcquired']= item['DateAcquired'].split('.')[0]\n",
    "            if item['DateAcquired'] != '' and item['DateAcquired'] != 'Object Number':\n",
    "                acquisitionyears.append(item['DateAcquired'])\n",
    "        acquisitionyears.sort()\n",
    "        name = names.pop(0)\n",
    "    print(\"Most ancient artwork at\", name, \"dates back to\", acquisitionyears[0])\n",
    "    print(\"Most recent artwork at\", name, \"dates back to\", acquisitionyears[-1])"
   ]
  },
  {
   "cell_type": "markdown",
   "id": "98f6550b",
   "metadata": {},
   "source": [
    "Total artists' number."
   ]
  },
  {
   "cell_type": "code",
   "execution_count": 207,
   "id": "034cedf2",
   "metadata": {},
   "outputs": [
    {
     "name": "stdout",
     "output_type": "stream",
     "text": [
      "Number of artists at MoMa is 14590\n"
     ]
    }
   ],
   "source": [
    "museums=['MoMaNew.csv']\n",
    "names = ['MoMa']\n",
    "for museum in museums:\n",
    "    with open(museum, mode='r', encoding='utf-8') as csvfile:\n",
    "        reader = csv.DictReader(csvfile)\n",
    "        artists = set() \n",
    "        for item in reader:\n",
    "            if item['Artist']!= '' and 'Unidentified'not in item['Artist'] and 'Various' not in item['Artist']:\n",
    "                if ',' in item['Artist']:\n",
    "                    item['Artist'] = item['Artist'].split(',')\n",
    "                    for n in range(len(item['Artist'])):\n",
    "                        artist= item['Artist'][n]\n",
    "                        artists.add(artist)\n",
    "                else:\n",
    "                    artists.add(item['Artist'])\n",
    "    name = names.pop(0)\n",
    "    print(\"Number of artists at\", name, \"is\", len(artists) )"
   ]
  },
  {
   "cell_type": "markdown",
   "id": "c6401960",
   "metadata": {},
   "source": [
    "Most represented gender in general?"
   ]
  },
  {
   "cell_type": "code",
   "execution_count": 204,
   "id": "2a5a8663",
   "metadata": {},
   "outputs": [],
   "source": [
    "MoMaGender = MoMa.drop_duplicates(subset='Artist', keep=\"first\")\n",
    "MoMaGender.to_csv('MoMaGender.csv')"
   ]
  },
  {
   "cell_type": "code",
   "execution_count": 206,
   "id": "f4b4d0a7",
   "metadata": {},
   "outputs": [
    {
     "name": "stdout",
     "output_type": "stream",
     "text": [
      "{'Male': 10474, 'Female': 2809}\n"
     ]
    }
   ],
   "source": [
    "museums=['MoMaGender.csv']\n",
    "names = ['MoMa']\n",
    "for museum in museums:\n",
    "    with open(museum, mode='r', encoding='utf-8') as csvfile:\n",
    "        reader = csv.DictReader(csvfile)\n",
    "        Gender = {'Male':0, 'Female':0}\n",
    "        for item in reader:\n",
    "                if 'Male' in item['Gender']:\n",
    "                    Gender['Male'] += 1\n",
    "                if 'Female' in item['Gender']:\n",
    "                    Gender['Female'] += 1\n",
    "    print(Gender)"
   ]
  },
  {
   "cell_type": "markdown",
   "id": "2998d930",
   "metadata": {},
   "source": [
    "Most represented gender and nationality in general?"
   ]
  },
  {
   "cell_type": "code",
   "execution_count": 272,
   "id": "7aa41e95",
   "metadata": {},
   "outputs": [
    {
     "name": "stdout",
     "output_type": "stream",
     "text": [
      "{'', '(Indian)', '(Palestinian)', '(Senegalese)', '(Beninese)', '(Cambodian)', '(Chinese)', '(Cameroonian)', '(Swiss)', '(Czechoslovakian)', '(Bahamian)', '(Ghanaian)', '(Korean)', '(Iraqi)', '(Canadian)', '(Colombian)', '(Singaporean)', '(Ukrainian)', '(Turkish)', '(Luxembourger)', '(Polish)', '(Thai)', '(Nigerian)', '(Kuwaiti)', '(Lithuanian)', '(Australian)', '(Irish)', '(Chilean)', '(New', '(Austrian)', '(Albanian)', '(Ethiopian)', '(Nicaraguan)', '(Ugandan)', '(Malaysian)', '(Iranian)', '(Haitian)', '(Hungarian)', '(Azerbaijani)', '(Macedonian)', '(Zimbabwean)', '(Taiwanese)', '(Sahrawi)', '(South', '(Lebanese)', '(Afghan)', '(Filipino)', '(Latvian)', '(Ivorian)', 'Rican)', '(Estonian)', '(Serbian)', '(Namibian)', '(Kyrgyz)', '(Catalan)', '(Paraguayan)', '(Ecuadorian)', '(Moroccan)', '(Coptic)', '(Kenyan)', '(Canadian', '(Tunisian)', '(Portuguese)', '(Greek)', '(French)', 'African)', '(Venezuelan)', 'Leonean)', '(Mexican)', '(Malian)', '(Dutch)', '(Egyptian)', '(Bosnian)', '(Danish)', '(Native', '(Costa', '(Russian)', 'American)', '(Georgian)', '(Icelandic)', 'unknown)', '(Swedish)', '(Israeli)', '(Sierra', '(Emirati)', '(Croatian)', '(Welsh)', '(Brazilian)', 'Zealander)', 'Inuit)', '(Yugoslav)', '(Cypriot)', '(Vietnamese)', '(Salvadoran)', '(Slovenian)', '(Puerto', '(Guatemalan)', '(Bulgarian)', '(Burkinabé)', '(Italian)', '(Tanzanian)', '(Cuban)', '(Spanish)', '(Algerian)', '(Mozambican)', '(Pakistani)', '(Belgian)', '(Finnish)', '(Czech)', '(Norwegian)', '(Bolivian)', '(Nationality', '(Uruguayan)', '(Slovak)', '(Japanese)', '(Scottish)', '(German)', '()', '(British)', '(Panamanian)', '(Romanian)', '(Argentine)', '(Bangladeshi)', '(American)', '(Sudanese)', '(Congolese)', '(Peruvian)'}\n"
     ]
    }
   ],
   "source": [
    "museums=['MoMaGender.csv']\n",
    "names = ['MoMa']\n",
    "for museum in museums:\n",
    "    with open(museum, mode='r', encoding='utf-8') as csvfile:\n",
    "        reader = csv.DictReader(csvfile)\n",
    "        nationalities = set() \n",
    "        for item in reader:\n",
    "            if ' ' in item['Nationality']:\n",
    "                    item['Nationality'] = item['Nationality'].split(' ')\n",
    "                    for n in range(len(item['Nationality'])):\n",
    "                        nationality= item['Nationality'][n]\n",
    "                        nationalities.add(nationality)\n",
    "            else:\n",
    "                    nationalities.add(item['Nationality'])\n",
    "\n",
    "print(nationalities)"
   ]
  },
  {
   "cell_type": "code",
   "execution_count": 253,
   "id": "b2f6c509",
   "metadata": {},
   "outputs": [
    {
     "name": "stdout",
     "output_type": "stream",
     "text": [
      "{'': 13698, '(Croatian': 47, '(Indian)': 39, 'Croatian)': 47, 'Chilean)': 68, '(Palestinian)': 3, '(Lebanese': 10, 'Indian)': 39, '(Senegalese)': 2, 'Bosnian)': 9, '(Beninese)': 1, '(Chinese)': 106, 'Italian)': 517, '(Cameroonian)': 2, '(Swiss)': 421, '(Hungarian': 86, '(Czechoslovakian)': 3, 'Slovenian)': 19, 'Swedish)': 123, '(Chinese': 106, '(Palestinian': 3, 'Chilean': 68, '(Bahamian)': 1, '(Thai': 7, '(Finnish': 52, 'Lithuanian)': 5, 'Catalan': 1, '(Cambodian': 1, '(Ghanaian)': 4, '(German': 1163, '(Latvian': 13, '(Icelandic': 21, 'Romanian': 27, 'Australian': 59, '(Korean)': 35, 'Slovak)': 9, '(Norwegian': 35, '(Welsh': 4, '(Iraqi)': 2, '(Portuguese': 16, 'Polish)': 148, '(Canadian)': 202, '(Uruguayan': 24, '(Egyptian': 14, '(Colombian)': 57, 'Egyptian': 14, '(Singaporean)': 2, 'Spanish)': 185, 'Scottish)': 22, '(Czech': 98, '(British': 962, '(Venezuelan': 68, '(Ukrainian)': 40, 'Israeli': 77, '(Turkish)': 20, '(Macedonian)': 5, '(Haitian': 16, '(Luxembourger)': 3, '(Austrian': 277, '(Polish)': 148, '(Thai)': 7, '(Georgian': 22, 'Croatian': 47, '(Nigerian)': 6, '(Kuwaiti)': 1, '(Lithuanian)': 5, '(Australian)': 59, '(Israeli': 77, 'Finnish': 52, '(Irish)': 24, 'Welsh': 4, '(Chilean)': 68, 'Peruvian': 37, '(Austrian)': 277, '(Albanian)': 4, '(Ethiopian)': 2, '(Nicaraguan)': 2, 'Brazilian': 185, 'Romanian)': 27, '(Ugandan)': 1, '(Malaysian)': 2, 'Vietnamese': 3, 'Nationality unknown)': 207, '(Canadian Inuit)': 3, '(Dutch': 288, '(Iranian)': 11, 'Canadian': 205, '(Hungarian)': 86, 'Latvian': 13, 'Czech)': 95, '(Native American)': 10, '(Haitian)': 16, '(Argentine': 150, '(Zimbabwean)': 5, '(Taiwanese)': 4, '(Ukrainian': 40, 'Peruvian)': 37, 'Ukrainian': 40, '(Lebanese)': 10, '(Afghan)': 1, '(Australian': 59, 'Danish': 125, 'Latvian)': 13, '(Filipino)': 3, '(Latvian)': 13, 'Irish)': 24, '(Ivorian)': 2, 'Cuban': 71, 'Finnish)': 52, 'Moroccan': 8, '(Estonian)': 2, 'Salvadoran)': 2, '(Serbian)': 17, 'Portuguese': 16, '(Namibian)': 2, '(Swiss': 421, '(Paraguayan)': 3, 'Thai)': 7, '(Ecuadorian)': 4, '(American': 5574, '(Moroccan)': 8, 'British': 962, '(Japanese': 545, '(Coptic)': 1, 'Russian': 374, 'Scottish': 22, 'New Zealander)': 10, '(Canadian': 205, 'German': 1163, '(Kenyan)': 2, '(Tunisian)': 2, '(Portuguese)': 16, '(Colombian': 57, '(Ivorian': 2, '(Greek)': 13, 'Kenyan': 2, 'Serbian)': 17, '(French)': 1041, 'Colombian)': 57, '(': 13697, 'Belgian': 125, '(Macedonian': 5, 'Icelandic)': 21, 'Palestinian)': 3, 'Brazilian)': 185, 'Norwegian)': 35, 'Thai': 7, 'Venezuelan': 68, '(Venezuelan)': 68, 'Kyrgyz)': 1, '(Mexican)': 159, '(Malian)': 3, '(Slovenian': 19, '(Dutch)': 288, '(Egyptian)': 14, 'Slovenian': 19, 'Korean': 35, 'Colombian': 57, 'Russian)': 374, 'Taiwanese)': 4, 'Dutch': 288, '(Bosnian)': 9, 'Iranian': 11, 'Norwegian': 35, '(Chilean': 68, '(Danish)': 125, 'New Zealander': 10, 'American': 5584, '(Costa Rican)': 2, '(Cuban': 71, '(Serbian': 17, 'Filipino)': 3, '(Moroccan': 8, 'Macedonian)': 5, '(South African': 68, '(Peruvian': 37, '(French': 1041, '(New Zealander)': 10, 'American)': 5584, '(Russian)': 374, 'French': 1041, '(Georgian)': 22, 'Austrian)': 277, 'Swedish': 123, '(Icelandic)': 21, 'Spanish': 185, 'Israeli)': 77, '(New Zealander': 10, 'Canadian)': 202, 'Swiss': 421, '(Scottish': 22, 'Sahrawi)': 1, 'Irish': 24, '(Kyrgyz': 1, 'Indian': 39, '(Swedish)': 123, 'Australian)': 59, '(Russian': 374, '(Israeli)': 77, 'Greek': 13, 'Czech': 98, 'Albanian': 4, 'Uruguayan)': 24, 'Mexican)': 159, '(Mexican': 159, 'South African)': 68, '(Emirati)': 1, '(Nationality unknown': 207, 'South African': 68, 'Argentine)': 150, '(Polish': 148, 'Serbian': 17, 'Dutch)': 288, 'Korean)': 35, '(Croatian)': 47, '(Puerto Rican)': 6, 'German)': 1163, 'Belgian)': 125, '(Italian': 517, '(Welsh)': 4, 'Mexican': 159, '(Lithuanian': 5, '(Nationality unknown)': 207, 'Italian': 517, '(Swedish': 123, '(Brazilian)': 185, 'Uruguayan': 24, 'Georgian': 22, '(Irish': 24, '(Yugoslav)': 1, '(Sierra Leonean)': 1, '(Azerbaijani)': 2, 'Polish': 148, 'Chinese)': 106, '(Vietnamese)': 3, '(Salvadoran)': 2, '(Slovenian)': 19, '(Mozambican)': 1, '(Bulgarian)': 5, '(Burkinabé)': 1, '(Italian)': 517, 'Georgian)': 22, 'Swiss)': 421, '(Spanish)': 185, '(Cuban)': 71, '(Algerian)': 4, 'Chinese': 106, '(Tanzanian)': 1, '(Albanian': 4, '(Pakistani)': 4, '(Indian': 39, '(Korean': 35, '(Belgian)': 125, 'Albanian)': 4, 'Icelandic': 21, '(South African)': 68, 'Venezuelan)': 68, '(Finnish)': 52, 'Hungarian': 86, 'Portuguese)': 16, 'Japanese': 545, 'Danish)': 125, '(Czech)': 95, 'Lebanese': 10, ')': 13697, '(Norwegian)': 35, '(Bolivian)': 3, 'Hungarian)': 86, '(Uruguayan)': 24, 'Ghanaian': 4, 'Algerian': 4, 'Paraguayan': 3, 'Japanese)': 545, '(Japanese)': 545, 'Ukrainian)': 40, 'British)': 962, '(Scottish)': 22, 'Nationality unknown': 207, '(Slovak)': 9, 'Algerian)': 4, '(Peruvian)': 37, '(German)': 1163, '()': 1723, 'Cypriot)': 1, '(British)': 962, '(Panamanian)': 2, '(Spanish': 185, 'Cuban)': 71, '(Romanian)': 27, '(Argentine)': 150, '(Bangladeshi)': 1, 'Argentine': 150, '(American)': 5574, 'French)': 1041, 'Austrian': 277, '(Danish': 125, '(Sudanese)': 2, '(Belgian': 125, '(Congolese)': 6, '(Brazilian': 185, '(Guatemalan)': 7}\n"
     ]
    }
   ],
   "source": [
    "museums=['MoMaGender.csv']\n",
    "names = ['MoMa']\n",
    "for museum in museums:\n",
    "    with open(museum, mode='r', encoding='utf-8') as csvfile:\n",
    "        reader = csv.DictReader(csvfile)\n",
    "        Nationalities ={}\n",
    "        for nationality in nationalities:  \n",
    "            Nationalities[nationality]= 0\n",
    "        for item in reader:\n",
    "            for naz in nationalities:\n",
    "                    if naz in item['Nationality']:\n",
    "                        Nationalities[naz] += 1 \n",
    "    print(Nationalities)"
   ]
  },
  {
   "cell_type": "code",
   "execution_count": null,
   "id": "206ae73b",
   "metadata": {},
   "outputs": [],
   "source": []
  },
  {
   "cell_type": "code",
   "execution_count": 209,
   "id": "1399d6ba",
   "metadata": {},
   "outputs": [],
   "source": [
    "counts = MoMa['Nationality'].value_counts()\n",
    "counts.to_csv('nationalities.csv')"
   ]
  },
  {
   "cell_type": "markdown",
   "id": "0bb30d28",
   "metadata": {},
   "source": [
    "#Our analysis.\n",
    "<br>\n",
    "1. What are the most acquired artists in museums (in general)?\n",
    "    - Is there a gender gap in the selection of artists?\n",
    "    - What are the most represented nationalities (in general)?\n",
    "    - What are the most represented movements or genres (in general)?\n",
    "2. How have acquisition criteria changed (over time) in museums?\n",
    "    - In which years are artists' works mostly acquired?\n",
    "    - When does the gender gap decreases (if it does)?\n",
    "    - In which years artists' nationalities more influent on the selection?\n",
    "    - In which years artists' movements/genres more influent on the selection?\n",
    "3. If we compare criteria of all museums, in general and over time, do we see any similarity or significant difference?\n",
    "    - Do certain museums acquire more works based on artists/artists' gender/nationality/movement than others?"
   ]
  },
  {
   "cell_type": "markdown",
   "id": "f72e670d",
   "metadata": {},
   "source": [
    "Acquisition criteria.\n",
    "1.  In which years are artists' works mostly acquired?<br>\n",
    "To answer, we need to count how many times each year shows up in the DateAcquired column."
   ]
  },
  {
   "cell_type": "code",
   "execution_count": null,
   "id": "b500263f",
   "metadata": {},
   "outputs": [],
   "source": [
    "MoMa['year'] = pd.DatetimeIndex(MoMa['DateAcquired']).year\n",
    "MoMaNew['DateAcquired'] = MoMa['year']\n",
    "MoMaNew = MoMaNew[MoMaNew['DateAcquired'].notna()]\n",
    "MoMaNew.to_csv(\"MoMaNew.csv\")"
   ]
  },
  {
   "cell_type": "code",
   "execution_count": null,
   "id": "3f16c4d0",
   "metadata": {},
   "outputs": [],
   "source": [
    "with open('MoMaNew.csv', mode='r', encoding='utf-8') as csvfile:\n",
    "    reader = csv.DictReader(csvfile)\n",
    "    years={}\n",
    "    for item in reader:\n",
    "        if item['DateAcquired']not in years:\n",
    "            years[item['DateAcquired']]= 1\n",
    "        else:\n",
    "            years[item['DateAcquired']]+= 1\n",
    "\n",
    "    print(years)\n",
    "    #all_years=list(years.keys())\n",
    "    #print(sorted(all_years))\n",
    "    "
   ]
  },
  {
   "cell_type": "markdown",
   "id": "66ae1086",
   "metadata": {},
   "source": [
    "Trova modo di ordinare per value o usa la libreria che sa Laura\n",
    "Visualizzazione :)"
   ]
  },
  {
   "cell_type": "code",
   "execution_count": null,
   "id": "531b72a0",
   "metadata": {},
   "outputs": [],
   "source": [
    "new_dict={}\n",
    "for key in years:\n",
    "    key_int=key.split('.')[0]\n",
    "    key_int=int(key_int)\n",
    "    if key_int in range(1928,1941):\n",
    "        if '1930s' not in new_dict.keys():\n",
    "               new_dict['1930s']= years[key]\n",
    "        else:\n",
    "            new_dict['1930s'] += years[key]\n",
    "    if key_int in range(1940,1951):\n",
    "        if '1940s' not in new_dict.keys():\n",
    "               new_dict['1940s']= years[key]\n",
    "        else:\n",
    "            new_dict['1940s'] += years[key]\n",
    "    \n",
    "    if key_int in range(1950,1961):\n",
    "        if '1950s' not in new_dict.keys():\n",
    "               new_dict['1950s']= years[key]\n",
    "        else:\n",
    "            new_dict['1950s'] += years[key]\n",
    "    \n",
    "    if key_int in range(1960,1971):\n",
    "        if '1960s' not in new_dict.keys():\n",
    "               new_dict['1960s']= years[key]\n",
    "        else:\n",
    "            new_dict['1960s'] += years[key]\n",
    "    \n",
    "    if key_int in range(1970,1981):\n",
    "        if '1970s' not in new_dict.keys():\n",
    "               new_dict['1970s']= years[key]\n",
    "        else:\n",
    "            new_dict['1970s'] += years[key]\n",
    "    if key_int in range(1980,1991):\n",
    "        if '1980s' not in new_dict.keys():\n",
    "               new_dict['1980s']= years[key]\n",
    "        else:\n",
    "            new_dict['1980s'] += years[key]\n",
    "    \n",
    "    if key_int in range(1990,2001):\n",
    "        if '1990s' not in new_dict.keys():\n",
    "               new_dict['1990s']= years[key]\n",
    "        else:\n",
    "            new_dict['1990s'] += years[key]\n",
    "        \n",
    "    \n",
    "print(new_dict)\n",
    "    "
   ]
  },
  {
   "cell_type": "markdown",
   "id": "17d03edf",
   "metadata": {},
   "source": [
    "When does the gender gap decreases (if it does)? <br>\n",
    "Per ogni 10 anni, percentuale di uomini e donne acquisiti e differenza."
   ]
  },
  {
   "cell_type": "code",
   "execution_count": null,
   "id": "7ed35196",
   "metadata": {},
   "outputs": [],
   "source": [
    "with open('MoMaNew.csv', mode='r', encoding='utf-8') as csvfile:\n",
    "    reader = csv.DictReader(csvfile)\n",
    "    years={}\n",
    "    for item in reader:\n",
    "        if item['DateAcquired']not in years:\n",
    "            years[item['DateAcquired']]= 1\n",
    "        else:\n",
    "            years[item['DateAcquired']]+= 1\n",
    "\n",
    "    print(years)"
   ]
  },
  {
   "cell_type": "markdown",
   "id": "6778dda1",
   "metadata": {},
   "source": [
    "When does the gender gap decreases (if it does)?\n",
    "Per ogni 10 anni, percentuale di uomini e donne acquisiti e differenza.\n",
    "\n",
    "In which years artists' nationalities more influent on the selection?\n",
    "Per ogni 10 anni, percentuale di nazionalità acquisite e differenza.\n",
    "\n",
    "In which years artists'movements/genres more influent on the selection?\n",
    "Per ogni 10 anni, percentuale di nazionalità acquisite e differenza."
   ]
  },
  {
   "cell_type": "markdown",
   "id": "f39a380e",
   "metadata": {},
   "source": [
    "Nga non ha Gender\n",
    "Met molti Gender sono NaN\n"
   ]
  }
 ],
 "metadata": {
  "kernelspec": {
   "display_name": "Python 3 (ipykernel)",
   "language": "python",
   "name": "python3"
  },
  "language_info": {
   "codemirror_mode": {
    "name": "ipython",
    "version": 3
   },
   "file_extension": ".py",
   "mimetype": "text/x-python",
   "name": "python",
   "nbconvert_exporter": "python",
   "pygments_lexer": "ipython3",
   "version": "3.9.0"
  }
 },
 "nbformat": 4,
 "nbformat_minor": 5
}
