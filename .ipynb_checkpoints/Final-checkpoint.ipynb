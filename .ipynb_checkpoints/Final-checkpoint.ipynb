{
 "cells": [
  {
   "cell_type": "markdown",
   "id": "53a29a49",
   "metadata": {},
   "source": [
    "# ART CUT\n",
    "This notebook was created by [Francesca Borriello](https://github.com/Fran-cesca), [Lorenza Pierucci](https://github.com/LorenzaPierucci) and [Laura Travaglini](https://github.com/lauratravaglini) as part of their final project for the [Digital Pubishing and Electronic Storytelling](https://www.unibo.it/it/didattica/insegnamenti/insegnamento/2021/443749) course at the University of Bologna (academic year 2021/2022).\n",
    "\n",
    "# About \n",
    "Starting from the datasets made publicly available by the Museum of Modern Art of New York (**MoMA**) and by the **Tate galleries**, *Art cut* analyses artworks acquisitions throughout the years with the aim of understanding which criteria brought together the museums' collections in a historical and social perspective.\n",
    "\n",
    "Art and history of art are no sealed compartments: they are heavily inter-dependent with social, political, economic factors, which in turn influence our very perception of what art is. \n",
    "Cultural institutions – museums in particular – play a fundamental role in this intertwined dynamics: through their selection, they have the potential to shape the public understanding of arts and its modifications throughout time.\n",
    "\n",
    "In some way, what makes into museums makes into history of art and viceversa.\n",
    "\n",
    "From these considerations stems our analysis: how do external (social, political, economic) factors influence the perception of art and its history? \n",
    "A way to investigate it is by looking at some representative and influential museums around the world, and at their acquisition policies and campaigns in particular. "
   ]
  },
  {
   "cell_type": "markdown",
   "id": "14791dfb",
   "metadata": {},
   "source": [
    "# 1. Creating dataframes.\n",
    "After importing all the necessary libraries, we can read our museums' online CSV files containing information about artworks and artists as `Pandas Dataframes` in order to better manipulate and analyse them."
   ]
  },
  {
   "cell_type": "markdown",
   "id": "60ce4e6d",
   "metadata": {},
   "source": [
    "## Import"
   ]
  },
  {
   "cell_type": "code",
   "execution_count": 164,
   "id": "3260a852",
   "metadata": {},
   "outputs": [],
   "source": [
    "import pandas as pd\n",
    "import csv\n",
    "import re\n",
    "from collections import defaultdict\n",
    "from rdflib import Namespace , Literal , URIRef\n",
    "from rdflib.namespace import RDF , RDFS\n",
    "import ssl\n",
    "from json import JSONDecodeError\n",
    "from qwikidata.sparql import return_sparql_query_results "
   ]
  },
  {
   "cell_type": "markdown",
   "id": "0791cf9e",
   "metadata": {},
   "source": [
    "For both Museums, we gather data directly from the remote files available on their Github pages ([MoMA](https://github.com/MuseumofModernArt/collection), [Tate](https://github.com/tategallery/collection)). \n",
    "In particular, we work on two separate datasets: one carries information about **artworks** (their title, date, acquisition year atc.), the other provides data on the **artists** (their name, nationality, gender etc.).\n",
    "In addition, we merge these two dataframes on some selected columns to create a new one for analysing **acquisition**-related issues."
   ]
  },
  {
   "cell_type": "markdown",
   "id": "52c20f9f",
   "metadata": {},
   "source": [
    "# MoMA"
   ]
  },
  {
   "cell_type": "code",
   "execution_count": null,
   "id": "54f227cf",
   "metadata": {},
   "outputs": [],
   "source": [
    "spreadsheet = pd.read_csv('https://media.githubusercontent.com/media/MuseumofModernArt/collection/master/Artworks.csv')\n",
    "MoMA_artworks = spreadsheet[['ConstituentID','Title','Date', 'DateAcquired']]\n",
    "MoMA_artworks = MoMA_artworks.rename(columns = {'ConstituentID':'Id'})\n",
    "MoMA_artists = pd.read_csv('https://media.githubusercontent.com/media/MuseumofModernArt/collection/master/Artists.csv')\n",
    "MoMA_artists = MoMA_artists[['ConstituentID', 'DisplayName', 'Nationality', 'Gender']]\n",
    "MoMA_artists['ConstituentID'] = MoMA_artists['ConstituentID'].astype(str)\n",
    "MoMA_artists = MoMA_artists.rename(columns = {'ConstituentID':'Id', 'DisplayName':'Name'})"
   ]
  },
  {
   "cell_type": "code",
   "execution_count": null,
   "id": "6dff865a",
   "metadata": {},
   "outputs": [],
   "source": [
    "MoMA_acquisitions = pd.merge(MoMA_artists, MoMA_artworks[['Id', 'DateAcquired']], on='Id', how='left')"
   ]
  },
  {
   "cell_type": "code",
   "execution_count": null,
   "id": "e21ee1d6",
   "metadata": {},
   "outputs": [],
   "source": [
    "display(MoMA_artworks)"
   ]
  },
  {
   "cell_type": "code",
   "execution_count": null,
   "id": "045bbd90",
   "metadata": {},
   "outputs": [],
   "source": [
    "display(MoMA_artists)"
   ]
  },
  {
   "cell_type": "code",
   "execution_count": null,
   "id": "ffa20991",
   "metadata": {},
   "outputs": [],
   "source": [
    "display(MoMA_acquisitions)"
   ]
  },
  {
   "cell_type": "markdown",
   "id": "fee4916c",
   "metadata": {},
   "source": [
    "# Tate"
   ]
  },
  {
   "cell_type": "code",
   "execution_count": null,
   "id": "12df2891",
   "metadata": {},
   "outputs": [],
   "source": [
    "spreadsheet = pd.read_csv('https://raw.githubusercontent.com/tategallery/collection/master/artwork_data.csv')\n",
    "Tate_artworks = spreadsheet[['artistId','title', 'year', 'acquisitionYear']]\n",
    "Tate_artworks = Tate_artworks.rename(columns = {'artistId':'Id', 'acquisitionYear':'DateAcquired', 'year':'Date', 'title':'Title'})\n",
    "Tate_artworks['Id'] = Tate_artworks['Id'].astype(str)\n",
    "Tate_artists = pd.read_csv('https://raw.githubusercontent.com/tategallery/collection/master/artist_data.csv')\n",
    "Tate_artists = Tate_artists[['id', 'name','placeOfBirth', 'gender']]\n",
    "Tate_artists = Tate_artists.rename(columns = {'id':'Id', 'name':'Name', 'gender':'Gender'})\n",
    "Tate_artists[\"Id\"] = Tate_artists[\"Id\"].astype(str)"
   ]
  },
  {
   "cell_type": "code",
   "execution_count": null,
   "id": "24c7a362",
   "metadata": {},
   "outputs": [],
   "source": [
    "display(Tate_artworks)"
   ]
  },
  {
   "cell_type": "code",
   "execution_count": null,
   "id": "e84ff778",
   "metadata": {},
   "outputs": [],
   "source": [
    "display(Tate_artists)"
   ]
  },
  {
   "cell_type": "markdown",
   "id": "96aa7146",
   "metadata": {},
   "source": [
    "# 2. Cleaning data"
   ]
  },
  {
   "cell_type": "markdown",
   "id": "ea349147",
   "metadata": {},
   "source": [
    "Identifying and fixing incoherent, corrupt or defective data is an essential process for ensuring a satisfactory threshold of reliability to any further analysis. Let us delve into it."
   ]
  },
  {
   "cell_type": "markdown",
   "id": "b39a1a22",
   "metadata": {},
   "source": [
    "## MoMA"
   ]
  },
  {
   "cell_type": "markdown",
   "id": "c3e3299f",
   "metadata": {},
   "source": [
    "### Missing values\n",
    "First of all, let us deal with missing values, substituting them with zeros to better handle them."
   ]
  },
  {
   "cell_type": "code",
   "execution_count": null,
   "id": "cd22d5d9",
   "metadata": {},
   "outputs": [],
   "source": [
    "MoMA_artists.fillna(value='0', inplace=True)\n",
    "MoMA_artworks.fillna(value='0', inplace=True)\n",
    "MoMA_acquisitions.fillna(value='0', inplace=True)"
   ]
  },
  {
   "cell_type": "markdown",
   "id": "c65de8a6",
   "metadata": {},
   "source": [
    "### Dates\n",
    "#### Acquisition dates\n",
    "Artworks acquisition dates are in the form `YYYY-MM-DD`.<br>\n",
    "For the sake of our analysis, we extract only the year."
   ]
  },
  {
   "cell_type": "code",
   "execution_count": null,
   "id": "f2268d25",
   "metadata": {},
   "outputs": [],
   "source": [
    "def cleanAcquisitionDatesMoMA(date):\n",
    "    if '-' in date:\n",
    "        date = date.split('-')[0]\n",
    "        return date\n",
    "    else:\n",
    "        return date"
   ]
  },
  {
   "cell_type": "code",
   "execution_count": null,
   "id": "8833b363",
   "metadata": {},
   "outputs": [],
   "source": [
    "MoMA_artworks[\"DateAcquired\"] = MoMA_artworks[\"DateAcquired\"].apply(cleanAcquisitionDatesMoMA)\n",
    "MoMA_acquisitions[\"DateAcquired\"] = MoMA_acquisitions[\"DateAcquired\"].apply(cleanAcquisitionDatesMoMA)"
   ]
  },
  {
   "cell_type": "markdown",
   "id": "548c1884",
   "metadata": {},
   "source": [
    "#### Artworks' creation dates\n",
    "In MoMA database, artworks' creation dates are mostly already represented by just one year.<br>\n",
    "Nevertheless, there are some exceptions: years separated by a slash or a dash and strings of any kind, such as '(1950).  (Prints executed 1948', '(1883, published 1897)' or '(1911, dated 1912, published c. 1917)'.\n",
    "\n",
    "We wrote a code to extract the year through a regex only matching the first sequence of four digits for each value."
   ]
  },
  {
   "cell_type": "code",
   "execution_count": null,
   "id": "82f5c645",
   "metadata": {},
   "outputs": [],
   "source": [
    "def cleanDatesMoMA(date):\n",
    "    if '-' in date:\n",
    "        splitted = date.split('-')\n",
    "        date = ' '.join(splitted) \n",
    "    if '/' in date:\n",
    "        splitted = date.split('/')\n",
    "        date = ' '.join(splitted) \n",
    "    if ',' in date:\n",
    "        splitted = date.split(',')\n",
    "        date = ' '.join(splitted) \n",
    "    if '.' in date:\n",
    "        splitted = date.split('.')\n",
    "        date = ' '.join(splitted) \n",
    "        \n",
    "    x = re.search(\"\\d{4}\", date)\n",
    "    if x:\n",
    "        date = x.group()\n",
    "    else:\n",
    "        date = '0'\n",
    "    return date"
   ]
  },
  {
   "cell_type": "code",
   "execution_count": null,
   "id": "c86f36e2",
   "metadata": {},
   "outputs": [],
   "source": [
    "MoMA_artworks[\"Date\"] = MoMA_artworks[\"Date\"].astype(str)\n",
    "MoMA_artworks[\"Date\"] = MoMA_artworks[\"Date\"].apply(cleanDatesMoMA)"
   ]
  },
  {
   "cell_type": "code",
   "execution_count": null,
   "id": "7340f682",
   "metadata": {},
   "outputs": [],
   "source": [
    "display(MoMA_artworks)"
   ]
  },
  {
   "cell_type": "markdown",
   "id": "4d2cd651",
   "metadata": {},
   "source": [
    "## Tate"
   ]
  },
  {
   "cell_type": "markdown",
   "id": "583d9d02",
   "metadata": {},
   "source": [
    "### Missing values\n",
    "Again, let us replace missing values and strings indicating lack of information with zeros, thus obtaining a dataframe filled with coherent data."
   ]
  },
  {
   "cell_type": "code",
   "execution_count": null,
   "id": "bc9b14f0",
   "metadata": {},
   "outputs": [],
   "source": [
    "Tate_artists.fillna(value='0', inplace=True)\n",
    "Tate_artworks.fillna(value='0', inplace=True)\n",
    "Tate_artworks['Date'].replace(to_replace=['no date','c'], value='0', inplace= True)"
   ]
  },
  {
   "cell_type": "markdown",
   "id": "cd4d3f8d",
   "metadata": {},
   "source": [
    "### Dates\n",
    "Artworks acquisition dates and artworks creation dates are represented as floats (e.g. 1997.0). We convert them to the YYYY format."
   ]
  },
  {
   "cell_type": "code",
   "execution_count": null,
   "id": "d36274ca",
   "metadata": {},
   "outputs": [],
   "source": [
    "def cleanDatesTate(date):\n",
    "    if '.' in date:\n",
    "        date = date.split('.')[0] \n",
    "    return date"
   ]
  },
  {
   "cell_type": "code",
   "execution_count": null,
   "id": "695370e5",
   "metadata": {},
   "outputs": [],
   "source": [
    "Tate_artworks[\"Date\"] = Tate_artworks[\"Date\"].astype(str)\n",
    "Tate_artworks[\"Date\"] = Tate_artworks[\"Date\"].apply(cleanDatesTate)\n",
    "Tate_artworks[\"DateAcquired\"] = Tate_artworks[\"DateAcquired\"].astype(str)\n",
    "Tate_artworks[\"DateAcquired\"] = Tate_artworks[\"DateAcquired\"].apply(cleanDatesTate)"
   ]
  },
  {
   "cell_type": "markdown",
   "id": "e3848129",
   "metadata": {},
   "source": [
    "### Artists' names\n",
    "In both Tate dataframes artists' names are in the form `Surname, Name`. For clarity purposes, we decided to normalise them as `Name Surname`, and wrote a code to do so. "
   ]
  },
  {
   "cell_type": "code",
   "execution_count": null,
   "id": "e5c26f28",
   "metadata": {},
   "outputs": [],
   "source": [
    "def cleanArtistsNames(name):\n",
    "    if ',' in name:\n",
    "        name= name.split(',')\n",
    "        name[0], name[1] = name[1], name[0]\n",
    "        name = ' '.join(name)\n",
    "    return name.strip()"
   ]
  },
  {
   "cell_type": "code",
   "execution_count": null,
   "id": "a325f329",
   "metadata": {},
   "outputs": [],
   "source": [
    "Tate_artists[\"Name\"] = Tate_artists[\"Name\"].apply(cleanArtistsNames)"
   ]
  },
  {
   "cell_type": "markdown",
   "id": "bdaf8457",
   "metadata": {},
   "source": [
    "### Nationalities\n",
    "In Tate's dataframe about artists, nationalities are often in the form `city, country`(e.g. 'Philadelphia, United States') and sometimes just indicate a city (e.g. 'Wimbledon'). <br>\n",
    "Finally, all countries' names are in their original form (e.g. 'Nihon' for 'Japan'). <br>\n",
    "We normalised it indicating, for each artist, its country of origin, in English. <br>\n",
    "We looked for all diverging values and replaced them one by one through a script."
   ]
  },
  {
   "cell_type": "code",
   "execution_count": null,
   "id": "fb1374e5",
   "metadata": {},
   "outputs": [],
   "source": [
    "def cleanNationalitiesTate(naz): \n",
    "    if ',' in naz: \n",
    "        naz = naz.split(',')[1] \n",
    "    if naz == 'Blackheath': \n",
    "        naz= naz.replace('Blackheath', 'United Kingdom') \n",
    "    if naz == 'London': \n",
    "        naz= naz.replace('London', 'United Kingdom') \n",
    "    if naz == 'Kensington': \n",
    "        naz= naz.replace('Kensington', 'United Kingdom') \n",
    "    if naz == 'Chung-hua Min-kuo': \n",
    "        naz= naz.replace('Chung-hua Min-kuo', 'Taiwan') \n",
    "    if naz == 'Solothurn': \n",
    "        naz= naz.replace('Solothurn', 'Schweiz') \n",
    "    if naz == 'Melmerby': \n",
    "        naz= naz.replace('Melmerby', 'United Kingdom') \n",
    "    if naz == 'Montserrat': \n",
    "        naz= naz.replace('Montserrat', 'España') \n",
    "    if naz == 'Canterbury': \n",
    "        naz= naz.replace('Canterbury', 'United Kingdom') \n",
    "    if naz == 'Staten Island': \n",
    "        naz= naz.replace('Staten Island', 'United States') \n",
    "    if naz == 'Epsom': \n",
    "        naz= naz.replace('Epsom', 'United Kingdom') \n",
    "    if naz == 'Plymouth': \n",
    "        naz= naz.replace('Plymouth', 'United Kingdom') \n",
    "    if naz == 'Wimbledon': \n",
    "        naz= naz.replace('Wimbledon', 'United Kingdom') \n",
    "    if naz == 'Edinburgh': \n",
    "        naz= naz.replace('Edinburgh', 'United Kingdom') \n",
    "    if naz == 'Beckington': \n",
    "        naz= naz.replace('Beckington', 'United Kingdom') \n",
    "    if naz == 'Hertfordshire': \n",
    "        naz= naz.replace('Hertfordshire', 'United Kingdom') \n",
    "    if naz == 'Isle of Man': \n",
    "        naz= naz.replace('Isle of Man', 'United Kingdom') \n",
    "    if naz == 'Bristol': \n",
    "        naz= naz.replace('Bristol', 'United Kingdom') \n",
    "    if naz == 'Liverpool': \n",
    "        naz= naz.replace('Liverpool', 'United Kingdom') \n",
    "    if naz == 'Braintree': \n",
    "        naz= naz.replace('Braintree', 'United Kingdom') \n",
    "    if naz == 'Stoke on Trent': \n",
    "        naz= naz.replace('Stoke on Trent', 'United Kingdom') \n",
    "    if naz == 'Rochdale': \n",
    "        naz= naz.replace('Rochdale', 'United Kingdom') \n",
    "    if 'D.C.' in naz: \n",
    "        naz= naz.replace('D.C.', 'Colombia') \n",
    "    if 'Otok' in naz: \n",
    "        naz= naz.replace('Otok', 'Hrvatska') \n",
    "    if 'Département de la' in naz: \n",
    "        naz= naz.replace('Département de la', 'France') \n",
    "    if naz == 'Niederschlesien': \n",
    "        naz= naz.replace('Niederschlesien', 'Polska') \n",
    "    if naz == 'Perth': \n",
    "        naz= naz.replace('Perth', 'Australia') \n",
    "    if naz == 'Bermondsey': \n",
    "        naz= naz.replace('Bermondsey', 'United Kingdom') \n",
    "    if naz == 'Egremont': \n",
    "        naz= naz.replace('Egremont', 'United Kingdom') \n",
    "    if naz == 'Charlotte Amalie': \n",
    "        naz= naz.replace('Charlotte Amalie', 'United States') \n",
    "    if naz == 'Charlieu': \n",
    "        naz= naz.replace('Charlieu', 'France') \n",
    "    if naz == 'Stockholm': \n",
    "        naz= naz.replace('Stockholm', 'Sverige') \n",
    "    if naz == 'Auteuil': \n",
    "        naz= naz.replace('Auteuil', 'France') \n",
    " \n",
    "    if 'Polska' in naz: \n",
    "        naz = naz.replace('Polska', 'Poland') \n",
    "    if \"Yisra'el\" in naz: \n",
    "        naz = naz.replace(\"Yisra'el\", 'Israel') \n",
    "    if 'Deutschland' in naz: \n",
    "        naz = naz.replace('Deutschland', 'Germany') \n",
    "    if 'Schweiz' in naz: \n",
    "        naz = naz.replace('Schweiz', 'Switzerland') \n",
    "    if 'Suomi' in naz: \n",
    "        naz = naz.replace('Suomi', 'Finland') \n",
    "    if 'Zhonghua' in naz: \n",
    "        naz = naz.replace('Zhonghua', 'China') \n",
    "    if 'Türkiye' in naz: \n",
    "        naz = naz.replace('Türkiye', 'Turkey') \n",
    "    if 'Al-‘Iraq' in naz: \n",
    "        naz = naz.replace('Al-‘Iraq', 'Iraq') \n",
    "    if 'België' in naz: \n",
    "        naz = naz.replace('België', 'Belgium') \n",
    "    if 'Rossiya' in naz: \n",
    "        naz = naz.replace('Rossiya', 'Russia') \n",
    "    if 'Nihon' in naz: \n",
    "        naz = naz.replace('Nihon', 'Japan') \n",
    "    if 'Éire' in naz: \n",
    "        naz = naz.replace('Éire', 'Ireland') \n",
    "    if 'Österreich' in naz: \n",
    "        naz = naz.replace('Österreich', 'Austria') \n",
    "    if 'Saint Hélier' in naz: \n",
    "        naz = naz.replace('Saint Hélier', 'United Kingdom') \n",
    "    if 'Ceská Republik' in naz: \n",
    "        naz = naz.replace('Ceská Republik', 'Czech Republic') \n",
    "    if 'Ukrayina' in naz: \n",
    "        naz = naz.replace('Ukrayina', 'Ukraine') \n",
    "    if 'Ellás' in naz: \n",
    "        naz = naz.replace('Ellás', 'Greece') \n",
    "    if 'Latvija ' in naz: \n",
    "        naz = naz.replace('Latvija ', 'Latvia') \n",
    "    if 'Douglas' in naz: \n",
    "        naz = naz.replace('Douglas', 'United Kingdom') \n",
    "    if 'România' in naz: \n",
    "        naz = naz.replace('România', 'Romania') \n",
    "    if 'Sverige' in naz: \n",
    "        naz = naz.replace('Sverige', 'Sweden') \n",
    "    if 'Bharat' in naz: \n",
    "        naz = naz.replace('Bharat', 'India')     \n",
    "    if 'España' in naz: \n",
    "        naz = naz.replace('España', 'Spain')   \n",
    "    if 'Magyarország' in naz: \n",
    "        naz = naz.replace('Magyarország', 'Hungery')  \n",
    "    if 'Slovenská Republika' in naz: \n",
    "        naz = naz.replace('Slovenská Republika', 'Slovenia')  \n",
    "        \n",
    "    return naz.strip()"
   ]
  },
  {
   "cell_type": "code",
   "execution_count": null,
   "id": "f40615c6",
   "metadata": {},
   "outputs": [],
   "source": [
    "Tate_artists[\"placeOfBirth\"] = Tate_artists[\"placeOfBirth\"].apply(cleanNationalitiesTate)"
   ]
  },
  {
   "cell_type": "code",
   "execution_count": null,
   "id": "02d719ab",
   "metadata": {},
   "outputs": [],
   "source": [
    "display(Tate_artists)"
   ]
  },
  {
   "cell_type": "markdown",
   "id": "fbd842f9",
   "metadata": {},
   "source": [
    "# Integration"
   ]
  },
  {
   "cell_type": "markdown",
   "id": "bcae5a66",
   "metadata": {},
   "source": [
    "## Tate"
   ]
  },
  {
   "cell_type": "markdown",
   "id": "ddd016bd",
   "metadata": {},
   "source": [
    "Some information is missing. In particular, missing information relates to **gender**, We proceed to integrate it via **Wikidata** (when possible) and manually."
   ]
  },
  {
   "cell_type": "markdown",
   "id": "b8ffd3e7",
   "metadata": {},
   "source": [
    "1. We create a subset of the dataframe containing all and only the the rows in which the gender information is missing."
   ]
  },
  {
   "cell_type": "code",
   "execution_count": null,
   "id": "dc762bde",
   "metadata": {},
   "outputs": [],
   "source": [
    "Tate_to_integrate = Tate_artists[Tate_artists['Gender']== '0']\n",
    "display(Tate_to_integrate)"
   ]
  },
  {
   "cell_type": "markdown",
   "id": "2e3d9fa2",
   "metadata": {},
   "source": [
    "2. We exclude some entities to which a gender cannot be attributed (e.g., collective or anonymous artists)."
   ]
  },
  {
   "cell_type": "code",
   "execution_count": null,
   "id": "cbe69a4e",
   "metadata": {},
   "outputs": [],
   "source": [
    "Tate_to_integrate = Tate_to_integrate[Tate_to_integrate['Name'] != 'Anonymous']\n",
    "Tate_to_integrate = Tate_to_integrate[Tate_to_integrate['Name'] != 'born 1945; Mel Ramsden Art & Language (Michael Baldwin  born 1944)']\n",
    "Tate_to_integrate = Tate_to_integrate[Tate_to_integrate['Name'] != 'born 1939; David Bainbridge Art & Language (Terry Atkinson  born 1941; Michael Baldwin  born 1945; Harold Hurrell  born']\n",
    "Tate_to_integrate = Tate_to_integrate[Tate_to_integrate['Name'] != 'born 1939; Michael Baldwin Art & Language (Terry Atkinson  born 1945)']\n",
    "Tate_to_integrate = Tate_to_integrate[Tate_to_integrate['Name'] != '1939-1993; Mel Ramsden Art & Language (Ian Burn  born 1944)']\n",
    "Tate_to_integrate = Tate_to_integrate[Tate_to_integrate['Name'] != 'Atlas Group']\n",
    "Tate_to_integrate = Tate_to_integrate[Tate_to_integrate['Name'] != 'Black Audio Film Collective (John Akomfrah; Reece Auguis; Edward George; Lina Gopaul; Avril Johnson; David Lawson; Trevo']\n",
    "Tate_to_integrate = Tate_to_integrate[Tate_to_integrate['Name'] != 'Fionnuala and Leslie Boyd and Evans']\n",
    "Tate_to_integrate = Tate_to_integrate[Tate_to_integrate['Name'] != 'British (?) School']\n",
    "Tate_to_integrate = Tate_to_integrate[Tate_to_integrate['Name'] != 'British (?) School 19th century']\n",
    "Tate_to_integrate = Tate_to_integrate[Tate_to_integrate['Name'] != 'British School 17th century']\n",
    "Tate_to_integrate = Tate_to_integrate[Tate_to_integrate['Name'] != 'British School 16th century']\n",
    "Tate_to_integrate = Tate_to_integrate[Tate_to_integrate['Name'] != 'British School 17th or 18th century']\n",
    "Tate_to_integrate = Tate_to_integrate[Tate_to_integrate['Name'] != 'British School 18th century']\n",
    "Tate_to_integrate = Tate_to_integrate[Tate_to_integrate['Name'] != 'British School 19th century']\n",
    "Tate_to_integrate = Tate_to_integrate[Tate_to_integrate['Name'] != 'British School 20th century']\n",
    "Tate_to_integrate = Tate_to_integrate[Tate_to_integrate['Name'] != 'Chinese School 18th century']\n",
    "Tate_to_integrate = Tate_to_integrate[Tate_to_integrate['Name'] != 'French School 18th century']\n",
    "Tate_to_integrate = Tate_to_integrate[Tate_to_integrate['Name'] != 'French School 19th century']\n",
    "Tate_to_integrate = Tate_to_integrate[Tate_to_integrate['Name'] != 'International Local (Sarah Charlesworth; Joseph Kosuth; Anthony McCall)']\n",
    "Tate_to_integrate = Tate_to_integrate[Tate_to_integrate['Name'] != 'Italian or German (?) School 17th century']\n",
    "Tate_to_integrate = Tate_to_integrate[Tate_to_integrate['Name'] != 'Langlands and Bell, Ben and Nikki']\n",
    "Tate_to_integrate = Tate_to_integrate[Tate_to_integrate['Name'] != 'Italian or German (?) School 17th century']\n",
    "Tate_to_integrate = Tate_to_integrate[Tate_to_integrate['Name'] != 'Ben and Nikki Langlands and Bell']\n",
    "Tate_to_integrate = Tate_to_integrate[Tate_to_integrate['Name'] != 'Lucy and Eegyudluk']\n",
    "Tate_to_integrate = Tate_to_integrate[Tate_to_integrate['Name'] != 'France) M/M (Paris']\n",
    "Tate_to_integrate = Tate_to_integrate[Tate_to_integrate['Name'] != 'T R Uthco (Doug Hall born 1944, Diane Andrews Hall born 1945, Jody Procter 1944-1998)']\n",
    "Tate_to_integrate = Tate_to_integrate[Tate_to_integrate['Name'] != 'Art & Language (Ian Burn, 1939-1993; Mel Ramsden, born 1944)']\n",
    "Tate_to_integrate = Tate_to_integrate[Tate_to_integrate['Name'] != 'Unknown']\n",
    "Tate_to_integrate = Tate_to_integrate[Tate_to_integrate['Name'] != 'Marc Voge) Young-Hae Chang Heavy Industries (Young-Hae Chang']\n",
    "Tate_to_integrate = Tate_to_integrate[Tate_to_integrate['Name'] != 'K.O.S.']\n",
    "Tate_to_integrate = Tate_to_integrate[Tate_to_integrate['Name'] != 'Diane Andrews Hall born 1945 T R Uthco (Doug Hall born 1944  Jody Procter 1944-1998)']\n",
    "Tate_to_integrate = Tate_to_integrate[Tate_to_integrate['Name'] != 'Mel Ramsden Art & Language (Ian Burn  born 1944)']"
   ]
  },
  {
   "cell_type": "markdown",
   "id": "8ca42d53",
   "metadata": {},
   "source": [
    "3. We proceed to search the artists' **Wikidata entities**: this will then allow us to look up for their gender.\n",
    "The SPARQL query you can read below searches for human individuals with a specific artistic occupation (photograpers, artists, graphic artists, painters, video artists, sculptors and visual artists). The `{}` placeholder will be replaced by the artist's name from the dataframe via python `format()` method.\n",
    "We directly apply the query to our dataframe through a function taking advantage of `qwikidata` (a Python package allowing to interact with Wikidata) and we insert the result in a new colum named `Artist Entity` and created on the fly.<br>\n",
    "Since Wikidata SPARQL endpoint does not support heavy queries, we search for one occupation at a time and create a CSV file for all the artists for which the corresponding wikidata entity was found (e.g., all photographers).<br>\n",
    "We then continue the research thoughout the rest of the dataframe, from which we progressively remove the rows for which we obtain the wikidata entity. We work on copies to avoid compromising the original file.<br>\n",
    "Finally, we integrate all profession-specific CSV files into one dataframe, which contains all the rows lacking gender information with the corresponding Wikidata entity."
   ]
  },
  {
   "cell_type": "code",
   "execution_count": 293,
   "id": "12cc29eb",
   "metadata": {},
   "outputs": [],
   "source": [
    "#Define the SPARQL query.\n",
    "artists_ids = \"\"\"\n",
    "PREFIX rdfs: <http://www.w3.org/2000/01/rdf-schema#>\n",
    "SELECT DISTINCT ?artist\n",
    "WHERE {{\n",
    "    ?artist wdt:P31 wd:Q5 .\n",
    "    ?artist wdt:P106 ?occupation\n",
    "                  FILTER (?occupation IN (wd:Q1281618) ) \n",
    "    ?artist rdfs:label ?o\n",
    "    FILTER regex(?o, \\\"^{}$\\\" )\n",
    "            FILTER (langMatches(lang(?o), \"EN\")).\n",
    "}}\n",
    "\n",
    "\"\"\""
   ]
  },
  {
   "cell_type": "code",
   "execution_count": 294,
   "id": "44930cb8",
   "metadata": {},
   "outputs": [],
   "source": [
    "# Define the function for applying the query to the dataframe and returning the wanted results.\n",
    "def find_artists_ids(name):\n",
    "    query = artists_ids.format(name.strip())\n",
    "    res = return_sparql_query_results(query_string=query)\n",
    "   \n",
    "    try:\n",
    "        wdt_uri = res['results']['bindings'][0]['artist']['value']\n",
    "    except (IndexError, KeyError):\n",
    "        return \"\"\n",
    "    return wdt_uri.split(\"/\")[-1]"
   ]
  },
  {
   "cell_type": "code",
   "execution_count": 77,
   "id": "2060c319",
   "metadata": {},
   "outputs": [],
   "source": [
    "# Apply the query,\n",
    "Tate_to_integrate[\"Artist Entity\"] = Tate_to_integrate[\"name\"].apply(find_artists_ids)"
   ]
  },
  {
   "cell_type": "code",
   "execution_count": 80,
   "id": "023e6d87",
   "metadata": {},
   "outputs": [],
   "source": [
    "# Create a CSV file for profession, e.g., photographers, visual artists etc. \n",
    "copy = Tate_to_integrate.copy(deep=True) \n",
    "sculptors =  copy[copy['Artist Entity']!= ''] \n",
    "sculptors.to_csv('Sculptors.csv')"
   ]
  },
  {
   "cell_type": "code",
   "execution_count": null,
   "id": "bcc1fbdd",
   "metadata": {},
   "outputs": [],
   "source": [
    "# Apply the query iteratively, changing the occupation\n",
    "to_integrate =  copy[copy['Artist Entity']== ''] \n",
    "to_integrate[\"Artist Entity\"] = to_integrate[\"name\"].apply(find_artists_genders_from_ids)"
   ]
  },
  {
   "cell_type": "code",
   "execution_count": null,
   "id": "c12a985f",
   "metadata": {},
   "outputs": [],
   "source": [
    "# Integrate all CSV files in one dataframe\n",
    "Tate_artists_integrated = pd.concat(map(pd.read_csv, ['Artists.csv', 'Photographers.csv', 'Videoartists.csv', 'Graphicartists.csv', 'Painters.csv', 'Integratedmanually.csv']), ignore_index=True)"
   ]
  },
  {
   "cell_type": "markdown",
   "id": "7056b4a5",
   "metadata": {},
   "source": [
    "4. Once we have all possible Wikidata entities, we interrogate Wikidata to retrieve artists' gender.<br>\n",
    "We apply the following SPARQL query to our new dataframe and add the retrieved gender information in a new `gender` column, created on the fly (the information which could not be found on Wikidata was integrated manually)."
   ]
  },
  {
   "cell_type": "code",
   "execution_count": 297,
   "id": "8e47681d",
   "metadata": {},
   "outputs": [],
   "source": [
    "#Define the SPARQL query.\n",
    "artists_genders = \"\"\" \n",
    "PREFIX rdfs: <http://www.w3.org/2000/01/rdf-schema#> \n",
    "PREFIX wd: <http://www.wikidata.org/entity/> \n",
    "SELECT DISTINCT (SAMPLE(?genderLabel) AS ?genderL)\n",
    "WHERE {{ \n",
    "     wd:{}  wdt:P21 ?gender . \n",
    "     ?gender rdfs:label ?genderLabel\n",
    "    FILTER (langMatches(lang(?genderLabel), \"EN\"))\n",
    "}} \n",
    "\"\"\""
   ]
  },
  {
   "cell_type": "code",
   "execution_count": null,
   "id": "c71151be",
   "metadata": {},
   "outputs": [],
   "source": [
    "# Define the function for applying the query to the dataframe and returning the wanted results.\n",
    "def find_artists_genders(wikiId): \n",
    "    query = artists_genders.format(wikiId.strip()) \n",
    "    res = return_sparql_query_results(query_string=query) \n",
    "    print(query) \n",
    "    try: \n",
    "        gender= res['results']['bindings'][0]['genderL']['value'] \n",
    "    except (IndexError, KeyError, JSONDecodeError, ChunkedEncodingError): \n",
    "        return \"\" \n",
    "    return gender"
   ]
  },
  {
   "cell_type": "code",
   "execution_count": null,
   "id": "ebd5251b",
   "metadata": {},
   "outputs": [],
   "source": [
    "# Apply the query.\n",
    "Tate_artists_integrated['gender'] = ArtistIntegrated['Artist Entity'].apply(find_artists_genders)"
   ]
  },
  {
   "cell_type": "code",
   "execution_count": 133,
   "id": "e44b26dc",
   "metadata": {},
   "outputs": [],
   "source": [
    "# Manually integrate on a CSV file the missing information.\n",
    "Tate_artists_with_gender = pd.read_csv('ArtistIntegratedManually.csv')\n",
    "Tate_artists_with_gender[\"Id\"] = Tate_artists_with_gender['Id'].astype(str)\n",
    "Tate_artists_with_gender = Tate_artists_with_gender[['Id', 'Name', 'placeOfBirth', 'Gender' ]]"
   ]
  },
  {
   "cell_type": "markdown",
   "id": "8570d5f5",
   "metadata": {},
   "source": [
    "5. Finally, we can add the dataframe with integrated information to the the dataframe already containing gender data (excluding collective and anonym artists). We will add the acquisition year from each artists by merging it to the arworks dataframe: this will allow us for further analyses."
   ]
  },
  {
   "cell_type": "code",
   "execution_count": 134,
   "id": "39389660",
   "metadata": {},
   "outputs": [],
   "source": [
    "Tate_gender = Tate_artists[Tate_artists['Gender'] != '0']"
   ]
  },
  {
   "cell_type": "code",
   "execution_count": 135,
   "id": "01f9b3ab",
   "metadata": {},
   "outputs": [],
   "source": [
    "Tate_final = Tate_gender.append(Tate_artists_with_gender)\n",
    "# Wikidata results are lowercase, let us capitalize them and count occurrences for each gender.\n",
    "Tate_final['Gender'].replace(to_replace=['male'], value='Male', inplace= True)\n",
    "Tate_final['Gender'].replace(to_replace=['female'], value='Female', inplace= True)"
   ]
  },
  {
   "cell_type": "code",
   "execution_count": 136,
   "id": "c74f3cc5",
   "metadata": {},
   "outputs": [],
   "source": [
    "Tate_acquisitions = pd.merge(Tate_final, Tate_artworks[['Id', 'DateAcquired']], on='Id', how='left')\n",
    "Tate_acquisitions.fillna(value='0', inplace= True)"
   ]
  },
  {
   "cell_type": "code",
   "execution_count": 137,
   "id": "000bf3c7",
   "metadata": {},
   "outputs": [
    {
     "data": {
      "text/html": [
       "<div>\n",
       "<style scoped>\n",
       "    .dataframe tbody tr th:only-of-type {\n",
       "        vertical-align: middle;\n",
       "    }\n",
       "\n",
       "    .dataframe tbody tr th {\n",
       "        vertical-align: top;\n",
       "    }\n",
       "\n",
       "    .dataframe thead th {\n",
       "        text-align: right;\n",
       "    }\n",
       "</style>\n",
       "<table border=\"1\" class=\"dataframe\">\n",
       "  <thead>\n",
       "    <tr style=\"text-align: right;\">\n",
       "      <th></th>\n",
       "      <th>Id</th>\n",
       "      <th>Name</th>\n",
       "      <th>placeOfBirth</th>\n",
       "      <th>Gender</th>\n",
       "      <th>DateAcquired</th>\n",
       "    </tr>\n",
       "  </thead>\n",
       "  <tbody>\n",
       "    <tr>\n",
       "      <th>0</th>\n",
       "      <td>10093</td>\n",
       "      <td>Magdalena Abakanowicz</td>\n",
       "      <td>Poland</td>\n",
       "      <td>Female</td>\n",
       "      <td>2009</td>\n",
       "    </tr>\n",
       "    <tr>\n",
       "      <th>1</th>\n",
       "      <td>10093</td>\n",
       "      <td>Magdalena Abakanowicz</td>\n",
       "      <td>Poland</td>\n",
       "      <td>Female</td>\n",
       "      <td>2009</td>\n",
       "    </tr>\n",
       "    <tr>\n",
       "      <th>2</th>\n",
       "      <td>10093</td>\n",
       "      <td>Magdalena Abakanowicz</td>\n",
       "      <td>Poland</td>\n",
       "      <td>Female</td>\n",
       "      <td>2009</td>\n",
       "    </tr>\n",
       "    <tr>\n",
       "      <th>3</th>\n",
       "      <td>10093</td>\n",
       "      <td>Magdalena Abakanowicz</td>\n",
       "      <td>Poland</td>\n",
       "      <td>Female</td>\n",
       "      <td>2009</td>\n",
       "    </tr>\n",
       "    <tr>\n",
       "      <th>4</th>\n",
       "      <td>0</td>\n",
       "      <td>Edwin Austin Abbey</td>\n",
       "      <td>United States</td>\n",
       "      <td>Male</td>\n",
       "      <td>1924</td>\n",
       "    </tr>\n",
       "    <tr>\n",
       "      <th>...</th>\n",
       "      <td>...</td>\n",
       "      <td>...</td>\n",
       "      <td>...</td>\n",
       "      <td>...</td>\n",
       "      <td>...</td>\n",
       "    </tr>\n",
       "    <tr>\n",
       "      <th>68768</th>\n",
       "      <td>17129</td>\n",
       "      <td>Vara</td>\n",
       "      <td>0</td>\n",
       "      <td>0</td>\n",
       "      <td>0</td>\n",
       "    </tr>\n",
       "    <tr>\n",
       "      <th>68769</th>\n",
       "      <td>2107</td>\n",
       "      <td>Dee Villers</td>\n",
       "      <td>0</td>\n",
       "      <td>0</td>\n",
       "      <td>1975</td>\n",
       "    </tr>\n",
       "    <tr>\n",
       "      <th>68770</th>\n",
       "      <td>17732</td>\n",
       "      <td>Francis Vivares</td>\n",
       "      <td>0</td>\n",
       "      <td>Male</td>\n",
       "      <td>0</td>\n",
       "    </tr>\n",
       "    <tr>\n",
       "      <th>68771</th>\n",
       "      <td>11825</td>\n",
       "      <td>Imke Wagener</td>\n",
       "      <td>0</td>\n",
       "      <td>Female</td>\n",
       "      <td>0</td>\n",
       "    </tr>\n",
       "    <tr>\n",
       "      <th>68772</th>\n",
       "      <td>13099</td>\n",
       "      <td>Jakub Julian Ziolkowski</td>\n",
       "      <td>0</td>\n",
       "      <td>Male</td>\n",
       "      <td>0</td>\n",
       "    </tr>\n",
       "  </tbody>\n",
       "</table>\n",
       "<p>68773 rows × 5 columns</p>\n",
       "</div>"
      ],
      "text/plain": [
       "          Id                     Name   placeOfBirth  Gender DateAcquired\n",
       "0      10093    Magdalena Abakanowicz         Poland  Female         2009\n",
       "1      10093    Magdalena Abakanowicz         Poland  Female         2009\n",
       "2      10093    Magdalena Abakanowicz         Poland  Female         2009\n",
       "3      10093    Magdalena Abakanowicz         Poland  Female         2009\n",
       "4          0       Edwin Austin Abbey  United States    Male         1924\n",
       "...      ...                      ...            ...     ...          ...\n",
       "68768  17129                     Vara              0       0            0\n",
       "68769   2107              Dee Villers              0       0         1975\n",
       "68770  17732          Francis Vivares              0    Male            0\n",
       "68771  11825             Imke Wagener              0  Female            0\n",
       "68772  13099  Jakub Julian Ziolkowski              0    Male            0\n",
       "\n",
       "[68773 rows x 5 columns]"
      ]
     },
     "metadata": {},
     "output_type": "display_data"
    }
   ],
   "source": [
    "display(Tate_acquisitions)"
   ]
  },
  {
   "cell_type": "markdown",
   "id": "424e4796",
   "metadata": {},
   "source": [
    "# Exploration\n",
    "We can now start exploring our Museums, to get to know them better through available data."
   ]
  },
  {
   "cell_type": "markdown",
   "id": "95cfe32c",
   "metadata": {},
   "source": [
    "## How many artworks?"
   ]
  },
  {
   "cell_type": "code",
   "execution_count": 138,
   "id": "1e765f0e",
   "metadata": {},
   "outputs": [
    {
     "name": "stdout",
     "output_type": "stream",
     "text": [
      "Total artworks at MoMA : 140848\n",
      "Total artworks at Tate : 69201\n"
     ]
    }
   ],
   "source": [
    "museums=[MoMA_artworks, Tate_artworks]\n",
    "names = ['MoMA','Tate']\n",
    "for museum in museums:\n",
    "    selected_rows = museum[~museum['Title'].isnull()]\n",
    "    name = names.pop(0)\n",
    "    print(\"Total artworks at\", name, \":\", len(selected_rows.index))"
   ]
  },
  {
   "cell_type": "markdown",
   "id": "4b41fb02",
   "metadata": {},
   "source": [
    "## When do artworks date back?"
   ]
  },
  {
   "cell_type": "code",
   "execution_count": 142,
   "id": "d9ec499b",
   "metadata": {},
   "outputs": [
    {
     "name": "stdout",
     "output_type": "stream",
     "text": [
      "Most ancient artwork at MoMA dates back to 1768\n",
      "Most recent artwork at MoMA dates back to 2022\n",
      "Most ancient artwork at Tate dates back to 1545\n",
      "Most recent artwork at Tate dates back to 2012\n"
     ]
    }
   ],
   "source": [
    "museums=[MoMA_artworks, Tate_artworks]\n",
    "names = ['MoMA','Tate']\n",
    "for museum in museums:\n",
    "    museum[\"Date\"] = museum[\"Date\"].astype(int)\n",
    "    museum.sort_values(by=['Date'], inplace=True)\n",
    "    museumWithoutZeros = museum[museum['Date'] != 0]\n",
    "    firstDate = museumWithoutZeros['Date'].iat[0]\n",
    "    lastDate = museumWithoutZeros['Date'].iat[-1]\n",
    "    name = names.pop(0)\n",
    "    print(\"Most ancient artwork at\", name, \"dates back to\",firstDate )\n",
    "    print(\"Most recent artwork at\", name, \"dates back to\",lastDate )    "
   ]
  },
  {
   "cell_type": "markdown",
   "id": "8c86fe4f",
   "metadata": {},
   "source": [
    "## When were artworks acquired?"
   ]
  },
  {
   "cell_type": "code",
   "execution_count": 143,
   "id": "222263bb",
   "metadata": {},
   "outputs": [
    {
     "name": "stdout",
     "output_type": "stream",
     "text": [
      "Most ancient acquisition at MoMA dates back to 1929\n",
      "Most recent acquisition at MoMA dates back to 2022\n",
      "Most ancient acquisition at Tate dates back to 1823\n",
      "Most recent acquisition at Tate dates back to 2013\n"
     ]
    }
   ],
   "source": [
    "museums=[MoMA_artworks, Tate_artworks]\n",
    "names = ['MoMA','Tate']\n",
    "for museum in museums:\n",
    "    museum[\"DateAcquired\"] = museum[\"DateAcquired\"].astype(int)\n",
    "    museum.sort_values(by=['DateAcquired'], inplace=True)\n",
    "    museumWithoutZeros = museum[museum['DateAcquired'] != 0]\n",
    "    firstDate = museumWithoutZeros['DateAcquired'].iat[0]\n",
    "    lastDate = museumWithoutZeros['DateAcquired'].iat[-1]\n",
    "    name = names.pop(0)\n",
    "    print(\"Most ancient acquisition at\", name, \"dates back to\",firstDate )\n",
    "    print(\"Most recent acquisition at\", name, \"dates back to\",lastDate )    "
   ]
  },
  {
   "cell_type": "markdown",
   "id": "37a0e216",
   "metadata": {},
   "source": [
    "## Which periods are represented at the Museums? In which proportion?"
   ]
  },
  {
   "cell_type": "markdown",
   "id": "24297033",
   "metadata": {},
   "source": [
    "### MoMA"
   ]
  },
  {
   "cell_type": "code",
   "execution_count": 144,
   "id": "500cb56e",
   "metadata": {},
   "outputs": [
    {
     "name": "stdout",
     "output_type": "stream",
     "text": [
      "{'18th': 87, '19th': 6902, '20th': 116283, '21th': 12440}\n"
     ]
    }
   ],
   "source": [
    "MoMA_artworks.to_csv('MoMA_artworks.csv') \n",
    "with open('MoMA_artworks.csv', mode='r', encoding='utf-8') as csvfile: \n",
    "    reader = csv.DictReader(csvfile) \n",
    "    centuries_MoMa = {'18th': 0, '19th': 0, '20th': 0, '21th': 0}\n",
    "    for item in reader: \n",
    "        if int(item['Date']) in range (1700,1800): \n",
    "            centuries_MoMa['18th'] += 1   \n",
    "        if int(item['Date']) in range (1800,1900): \n",
    "            centuries_MoMa['19th'] += 1\n",
    "        if int(item['Date']) in range (1900,2000): \n",
    "            centuries_MoMa['20th'] += 1  \n",
    "        if int(item['Date']) in range (2000,2014): \n",
    "            centuries_MoMa['21th'] += 1    \n",
    " \n",
    "print(centuries_MoMa)"
   ]
  },
  {
   "cell_type": "code",
   "execution_count": 145,
   "id": "00702099",
   "metadata": {},
   "outputs": [
    {
     "name": "stdout",
     "output_type": "stream",
     "text": [
      "18th 0.06410634284366894 %\n",
      "19th 5.085769865597737 %\n",
      "20th 85.68365361942938 %\n",
      "21th 9.166470172129216 %\n"
     ]
    }
   ],
   "source": [
    "tot_centuries_MoMa = centuries_MoMa['18th'] + centuries_MoMa['19th'] + centuries_MoMa['20th'] + centuries_MoMa['21th'] \n",
    "for el in centuries_MoMa:\n",
    "    percentage = (centuries_MoMa[el]/tot_centuries_MoMa)*100 \n",
    "    print (el, percentage,'%')"
   ]
  },
  {
   "cell_type": "markdown",
   "id": "66075f58",
   "metadata": {},
   "source": [
    "### Tate"
   ]
  },
  {
   "cell_type": "code",
   "execution_count": 146,
   "id": "cd9e20a7",
   "metadata": {},
   "outputs": [
    {
     "name": "stdout",
     "output_type": "stream",
     "text": [
      "{'16th': 15, '17th': 87, '18th': 4364, '19th': 39509, '20th': 18111, '21th': 1718}\n"
     ]
    }
   ],
   "source": [
    "Tate_artworks.to_csv('Tate_artworks.csv') \n",
    "with open('Tate_artworks.csv', mode='r', encoding='utf-8') as csvfile: \n",
    "    reader = csv.DictReader(csvfile) \n",
    "    centuries_Tate = {'16th':0, '17th':0, '18th': 0, '19th': 0, '20th': 0, '21th': 0}\n",
    "    for item in reader: \n",
    "        if int(item['Date']) in range (1500,1600): \n",
    "            centuries_Tate['16th'] += 1 \n",
    "        if int(item['Date']) in range (1600,1700): \n",
    "            centuries_Tate['17th'] += 1 \n",
    "        if int(item['Date']) in range (1700,1800): \n",
    "            centuries_Tate['18th'] += 1   \n",
    "        if int(item['Date']) in range (1800,1900): \n",
    "            centuries_Tate['19th'] += 1\n",
    "        if int(item['Date']) in range (1900,2000): \n",
    "            centuries_Tate['20th'] += 1  \n",
    "        if int(item['Date']) in range (2000,2014): \n",
    "            centuries_Tate['21th'] += 1    \n",
    " \n",
    "print(centuries_Tate)"
   ]
  },
  {
   "cell_type": "code",
   "execution_count": 147,
   "id": "1667000b",
   "metadata": {},
   "outputs": [
    {
     "name": "stdout",
     "output_type": "stream",
     "text": [
      "16th 0.0235094978371262 %\n",
      "17th 0.13635508745533195 %\n",
      "18th 6.839696570747915 %\n",
      "19th 61.9224500031346 %\n",
      "20th 28.38536768854617 %\n",
      "21th 2.692621152278854 %\n"
     ]
    }
   ],
   "source": [
    "tot_centuries_Tate = centuries_Tate['16th']+ centuries_Tate['17th'] + centuries_Tate['18th'] + centuries_Tate['19th'] + centuries_Tate['20th'] + centuries_Tate['21th'] \n",
    "for el in centuries_Tate:\n",
    "    percentage = (centuries_Tate[el]/tot_centuries_Tate)*100 \n",
    "    print (el, percentage,'%')"
   ]
  },
  {
   "cell_type": "markdown",
   "id": "ed72b5fd",
   "metadata": {},
   "source": [
    "## Artists"
   ]
  },
  {
   "cell_type": "markdown",
   "id": "b31d20e0",
   "metadata": {},
   "source": [
    "For examining artist-related issues, we rely on the two CSV files from the Museums containing information about them, which we already transformed into dataframes (Tate_artists and MoMA_artists). <br> \n",
    "In doing so, we avoid duplicates (the same artists may have more than one artwork in the same museum)."
   ]
  },
  {
   "cell_type": "markdown",
   "id": "e343eee8",
   "metadata": {},
   "source": [
    "### How many artists?"
   ]
  },
  {
   "cell_type": "code",
   "execution_count": 148,
   "id": "a5df735a",
   "metadata": {},
   "outputs": [
    {
     "name": "stdout",
     "output_type": "stream",
     "text": [
      "Total number of artists at MoMA 15243\n"
     ]
    }
   ],
   "source": [
    "print('Total number of artists at MoMA', len(MoMA_artists))"
   ]
  },
  {
   "cell_type": "code",
   "execution_count": 149,
   "id": "4d8d0ff4",
   "metadata": {},
   "outputs": [
    {
     "name": "stdout",
     "output_type": "stream",
     "text": [
      "Total number of artists at Tate 3532\n"
     ]
    }
   ],
   "source": [
    "print('Total number of artists at Tate', len(Tate_artists))"
   ]
  },
  {
   "cell_type": "markdown",
   "id": "dfe6535c",
   "metadata": {},
   "source": [
    "### Artists' gender: which is the most represented overall?"
   ]
  },
  {
   "cell_type": "code",
   "execution_count": 150,
   "id": "737201a2",
   "metadata": {},
   "outputs": [
    {
     "data": {
      "text/plain": [
       "Male      2943\n",
       "Female     534\n",
       "0           10\n",
       "Name: Gender, dtype: int64"
      ]
     },
     "execution_count": 150,
     "metadata": {},
     "output_type": "execute_result"
    }
   ],
   "source": [
    "Tate_acquisitions_dropped = Tate_acquisitions.drop_duplicates(subset='Name', keep=\"first\")\n",
    "Tate_acquisitions_dropped['Gender'].value_counts()"
   ]
  },
  {
   "cell_type": "code",
   "execution_count": 151,
   "id": "992af91a",
   "metadata": {},
   "outputs": [
    {
     "name": "stdout",
     "output_type": "stream",
     "text": [
      "Male artists' percentage is: 85 %; Female artists' percentage is: 15 %\n"
     ]
    }
   ],
   "source": [
    "genderCount = {'Male': 2954, 'Female': 534}\n",
    "tot = len(Tate_acquisitions_dropped)\n",
    "print (\"Male artists' percentage is:\", round((genderCount['Male']/tot)*100),'%;', \"Female artists' percentage is:\", round((genderCount['Female']/tot)*100),'%')"
   ]
  },
  {
   "cell_type": "markdown",
   "id": "10536977",
   "metadata": {},
   "source": [
    "### MoMA"
   ]
  },
  {
   "cell_type": "markdown",
   "id": "6433bcc5",
   "metadata": {},
   "source": [
    "As for Tate, let us analyse the frequency of male and female artists in the collection."
   ]
  },
  {
   "cell_type": "code",
   "execution_count": 58,
   "id": "f96c489f",
   "metadata": {},
   "outputs": [],
   "source": [
    "MoMA_artists['Gender'].replace(to_replace=['male'], value='Male', inplace= True)\n",
    "MoMA_artists['Gender'].replace(to_replace=['female'], value='Female', inplace= True)"
   ]
  },
  {
   "cell_type": "code",
   "execution_count": 59,
   "id": "11a9867d",
   "metadata": {
    "scrolled": true
   },
   "outputs": [
    {
     "data": {
      "text/plain": [
       "Male          9732\n",
       "0             3165\n",
       "Female        2343\n",
       "Non-Binary       2\n",
       "Non-binary       1\n",
       "Name: Gender, dtype: int64"
      ]
     },
     "execution_count": 59,
     "metadata": {},
     "output_type": "execute_result"
    }
   ],
   "source": [
    "MoMA_artists['Gender'].value_counts()"
   ]
  },
  {
   "cell_type": "code",
   "execution_count": 60,
   "id": "e72c6567",
   "metadata": {},
   "outputs": [
    {
     "name": "stdout",
     "output_type": "stream",
     "text": [
      "Male artists' percentage is: 64 %; Female artists' percentage is: 15 %\n"
     ]
    }
   ],
   "source": [
    "genderCount = {'Male': 9732, 'Female': 2343}\n",
    "tot = len(MoMA_artists)\n",
    "print (\"Male artists' percentage is:\", round((genderCount['Male']/tot)*100),'%;', \"Female artists' percentage is:\", round((genderCount['Female']/tot)*100),'%')"
   ]
  },
  {
   "cell_type": "markdown",
   "id": "059444fd",
   "metadata": {},
   "source": [
    "### Nationalities: which are the most represented nationalities overall?\n",
    "As for genres, we examine the distribution of artists' nationalities in out datasets."
   ]
  },
  {
   "cell_type": "markdown",
   "id": "a435e232",
   "metadata": {},
   "source": [
    "### MoMa"
   ]
  },
  {
   "cell_type": "code",
   "execution_count": 63,
   "id": "16e83f64",
   "metadata": {},
   "outputs": [
    {
     "data": {
      "text/plain": [
       "American          5181\n",
       "0                 2472\n",
       "German             965\n",
       "British            860\n",
       "French             847\n",
       "                  ... \n",
       "Bangladeshi          1\n",
       "Cypriot              1\n",
       "Sierra Leonean       1\n",
       "Kuwaiti              1\n",
       "Catalan              1\n",
       "Name: Nationality, Length: 120, dtype: int64"
      ]
     },
     "execution_count": 63,
     "metadata": {},
     "output_type": "execute_result"
    }
   ],
   "source": [
    "MoMA_artists['Nationality'].value_counts()"
   ]
  },
  {
   "cell_type": "markdown",
   "id": "5551facb",
   "metadata": {},
   "source": [
    "### Tate"
   ]
  },
  {
   "cell_type": "code",
   "execution_count": 64,
   "id": "81d26eef",
   "metadata": {},
   "outputs": [
    {
     "data": {
      "text/plain": [
       "United Kingdom    1522\n",
       "0                  492\n",
       "United States      341\n",
       "France             160\n",
       "Germany            142\n",
       "                  ... \n",
       "Bénin                1\n",
       "Zambia               1\n",
       "Tunis                1\n",
       "Kenya                1\n",
       "Cameroun             1\n",
       "Name: placeOfBirth, Length: 99, dtype: int64"
      ]
     },
     "execution_count": 64,
     "metadata": {},
     "output_type": "execute_result"
    }
   ],
   "source": [
    "Tate_artists['placeOfBirth'].value_counts()"
   ]
  },
  {
   "cell_type": "markdown",
   "id": "5625d37b",
   "metadata": {},
   "source": [
    "# Acquisition criteria."
   ]
  },
  {
   "cell_type": "markdown",
   "id": "c20702e1",
   "metadata": {},
   "source": [
    "## 1.  In which years are artists' works mostly acquired?"
   ]
  },
  {
   "cell_type": "markdown",
   "id": "a3abe7b0",
   "metadata": {},
   "source": [
    "### Year by year"
   ]
  },
  {
   "cell_type": "code",
   "execution_count": 65,
   "id": "d626f9a3",
   "metadata": {},
   "outputs": [
    {
     "data": {
      "text/plain": [
       "1964    12828\n",
       "2008     7204\n",
       "1968     6894\n",
       "0        6682\n",
       "2001     4170\n",
       "        ...  \n",
       "1933       93\n",
       "1932       18\n",
       "1929        9\n",
       "1930        7\n",
       "1931        3\n",
       "Name: DateAcquired, Length: 95, dtype: int64"
      ]
     },
     "execution_count": 65,
     "metadata": {},
     "output_type": "execute_result"
    }
   ],
   "source": [
    "MoMA_artworks['DateAcquired'].value_counts()"
   ]
  },
  {
   "cell_type": "code",
   "execution_count": 93,
   "id": "ca58cfbb",
   "metadata": {},
   "outputs": [
    {
     "data": {
      "text/plain": [
       "1856    37893\n",
       "1997     3706\n",
       "1975     3046\n",
       "2009     1364\n",
       "1979     1166\n",
       "        ...  \n",
       "1823        1\n",
       "1863        1\n",
       "1827        1\n",
       "1844        1\n",
       "1842        1\n",
       "Name: DateAcquired, Length: 179, dtype: int64"
      ]
     },
     "execution_count": 93,
     "metadata": {},
     "output_type": "execute_result"
    }
   ],
   "source": [
    "Tate_artworks['DateAcquired'].astype(str).astype(int)\n",
    "Tate_artworks['DateAcquired'].value_counts()"
   ]
  },
  {
   "cell_type": "markdown",
   "id": "62c9d0cd",
   "metadata": {},
   "source": [
    "### Every ten years"
   ]
  },
  {
   "cell_type": "markdown",
   "id": "96d7abcc",
   "metadata": {},
   "source": [
    "Let us focus on the 20th century and analyse acquisitions from a larger perspective: not year by year, but for every ten years."
   ]
  },
  {
   "cell_type": "markdown",
   "id": "bbe6680e",
   "metadata": {},
   "source": [
    "### MoMA"
   ]
  },
  {
   "cell_type": "code",
   "execution_count": 43,
   "id": "3dcf4c53",
   "metadata": {},
   "outputs": [
    {
     "name": "stdout",
     "output_type": "stream",
     "text": [
      "MoMA: defaultdict(<class 'dict'>, {'1930s': 1794, '1940s': 7821, '1950s': 6396, '1960s': 30716, '1970s': 13196, '1980s': 10229, '1990s': 11446, '2000s': 34820})\n"
     ]
    }
   ],
   "source": [
    "MoMA_artworks.to_csv('MoMA_artworks.csv') \n",
    "with open('MoMA_artworks.csv', mode='r', encoding='utf-8') as csvfile: \n",
    "    reader = csv.DictReader(csvfile) \n",
    "    years= defaultdict(dict) \n",
    "    for item in reader: \n",
    "        if int(item['DateAcquired']) in range(1928,1940): \n",
    "            if '1930s' not in years: \n",
    "                years['1930s'] = 1\n",
    "            else: \n",
    "                years['1930s'] += 1\n",
    "            \n",
    "        if int(item['DateAcquired']) in range(1940,1950): \n",
    "            if '1940s' not  in years: \n",
    "                years['1940s'] = 1\n",
    "            else: \n",
    "                years['1940s'] += 1\n",
    "     \n",
    "        if int(item['DateAcquired']) in range(1950,1960): \n",
    "            if '1950s' not in years: \n",
    "                    years['1950s'] = 1\n",
    "            else: \n",
    "                    years['1950s'] += 1\n",
    "\n",
    "        if int(item['DateAcquired']) in range(1960,1970): \n",
    "            if '1960s' not in years: \n",
    "                    years['1960s'] = 1\n",
    "            else: \n",
    "                    years['1960s'] += 1\n",
    "     \n",
    "        if int(item['DateAcquired']) in range(1970,1980): \n",
    "            if '1970s' not in years: \n",
    "                years['1970s'] = 1\n",
    "            else: \n",
    "                years['1970s'] += 1 \n",
    "        \n",
    "        if int(item['DateAcquired']) in range(1980,1990): \n",
    "            if '1980s' not in years: \n",
    "                years['1980s'] = 1\n",
    "            else: \n",
    "                years['1980s'] += 1 \n",
    "    \n",
    "        if int(item['DateAcquired']) in range(1990,2000): \n",
    "            if '1990s' not in years: \n",
    "                years['1990s'] = 1\n",
    "            else: \n",
    "                years['1990s'] += 1\n",
    "\n",
    "        if int(item['DateAcquired']) in range(2000,2014): \n",
    "            if '2000s' not in years: \n",
    "                   years['2000s'] = 1\n",
    "            else: \n",
    "                years['2000s'] += 1\n",
    "\n",
    "         \n",
    "     \n",
    "print('MoMA:', years)"
   ]
  },
  {
   "cell_type": "code",
   "execution_count": 47,
   "id": "694e0fb6",
   "metadata": {},
   "outputs": [
    {
     "name": "stdout",
     "output_type": "stream",
     "text": [
      "Tate: defaultdict(<class 'dict'>, {'1930s': 581, '1940s': 736, '1950s': 552, '1960s': 874, '1970s': 6357, '1980s': 5284, '1990s': 6449, '2000s': 6637})\n"
     ]
    }
   ],
   "source": [
    "Tate_artworks.to_csv('Tate_artworks.csv') \n",
    "with open('Tate_artworks.csv', mode='r', encoding='utf-8') as csvfile: \n",
    "    reader = csv.DictReader(csvfile) \n",
    "    years= defaultdict(dict) \n",
    "    for item in reader: \n",
    "        if int(item['DateAcquired']) in range(1928,1940): \n",
    "            if '1930s' not in years: \n",
    "                years['1930s'] = 1\n",
    "            else: \n",
    "                years['1930s'] += 1\n",
    "            \n",
    "        if int(item['DateAcquired']) in range(1940,1950): \n",
    "            if '1940s' not  in years: \n",
    "                years['1940s'] = 1\n",
    "            else: \n",
    "                years['1940s'] += 1\n",
    "     \n",
    "        if int(item['DateAcquired']) in range(1950,1960): \n",
    "            if '1950s' not in years: \n",
    "                    years['1950s'] = 1\n",
    "            else: \n",
    "                    years['1950s'] += 1\n",
    "\n",
    "        if int(item['DateAcquired']) in range(1960,1970): \n",
    "            if '1960s' not in years: \n",
    "                    years['1960s'] = 1\n",
    "            else: \n",
    "                    years['1960s'] += 1\n",
    "     \n",
    "        if int(item['DateAcquired']) in range(1970,1980): \n",
    "            if '1970s' not in years: \n",
    "                years['1970s'] = 1\n",
    "            else: \n",
    "                years['1970s'] += 1 \n",
    "        \n",
    "        if int(item['DateAcquired']) in range(1980,1990): \n",
    "            if '1980s' not in years: \n",
    "                years['1980s'] = 1\n",
    "            else: \n",
    "                years['1980s'] += 1 \n",
    "    \n",
    "        if int(item['DateAcquired']) in range(1990,2000): \n",
    "            if '1990s' not in years: \n",
    "                years['1990s'] = 1\n",
    "            else: \n",
    "                years['1990s'] += 1\n",
    "\n",
    "        if int(item['DateAcquired']) in range(2000,2014): \n",
    "            if '2000s' not in years: \n",
    "                   years['2000s'] = 1\n",
    "            else: \n",
    "                years['2000s'] += 1\n",
    "\n",
    "         \n",
    "     \n",
    "print('Tate:', years)"
   ]
  },
  {
   "cell_type": "markdown",
   "id": "21012a99",
   "metadata": {},
   "source": [
    "## Gender Gap \n",
    "We have already analysed the total number of male and female artists. Let us now anlysed the gender of acquired artists in time. In this way, we will try to investigate the gender gap in our museum's collections and try to understand how it changes (if it does) throughout the years. "
   ]
  },
  {
   "cell_type": "markdown",
   "id": "ffd77772",
   "metadata": {},
   "source": [
    "### MoMa"
   ]
  },
  {
   "cell_type": "markdown",
   "id": "9ba11b60",
   "metadata": {},
   "source": [
    "Number of female and male artists acquired every ten years."
   ]
  },
  {
   "cell_type": "code",
   "execution_count": 152,
   "id": "265cfeb1",
   "metadata": {},
   "outputs": [
    {
     "name": "stdout",
     "output_type": "stream",
     "text": [
      "{'1930s': {'Male': 184, 'Female': 16}, '1940s': {'Male': 697, 'Female': 98}, '1950s': {'Male': 858, 'Female': 93}, '1960s': {'Male': 1463, 'Female': 145}, '1970s': {'Male': 889, 'Female': 158}, '1980s': {'Male': 1142, 'Female': 211}, '1990s': {'Male': 926, 'Female': 280}, '2000s': {'Male': 2090, 'Female': 612}}\n"
     ]
    }
   ],
   "source": [
    "MoMA_acquisitions_dropped = MoMA_acquisitions.drop_duplicates(subset='Name', keep=\"first\")\n",
    "MoMA_acquisitions_dropped.to_csv('MoMA_acquisitions_dropped.csv')\n",
    "with open('MoMA_acquisitions_dropped.csv', mode='r', encoding='utf-8') as csvfile: \n",
    "    reader = csv.DictReader(csvfile) \n",
    "    gender={'1930s': {'Male': 0, 'Female': 0}, '1940s': {'Male': 0, 'Female': 0}, '1950s': {'Male': 0, 'Female': 0}, '1960s': {'Male': 0, 'Female': 0}, '1970s': {'Male': 0, 'Female': 0}, '1980s': {'Male': 0, 'Female': 0}, '1990s': {'Male': 0, 'Female': 0}, '2000s': {'Male': 0, 'Female': 0}} \n",
    "    for item in reader: \n",
    "        if int(item['DateAcquired']) in range (1928,1940): \n",
    "            if (item['Gender'] == 'Female'):  \n",
    "                gender['1930s']['Female'] += 1 \n",
    "            else: \n",
    "                gender['1930s']['Male'] += 1 \n",
    "        if int(item['DateAcquired']) in range (1940,1950): \n",
    "            if (item['Gender'] == 'Female'):  \n",
    "                gender['1940s']['Female'] += 1 \n",
    "            else: \n",
    "                gender['1940s']['Male'] += 1 \n",
    "        if int(item['DateAcquired']) in range (1950,1960): \n",
    "            if (item['Gender'] == 'Female'):  \n",
    "                gender['1950s']['Female'] += 1 \n",
    "            else: \n",
    "                gender['1950s']['Male'] += 1 \n",
    "        if int(item['DateAcquired']) in range (1960,1970): \n",
    "            if (item['Gender'] == 'Female'):  \n",
    "                gender['1960s']['Female'] += 1 \n",
    "            else: \n",
    "                gender['1960s']['Male'] += 1 \n",
    "        if int(item['DateAcquired']) in range (1970,1980): \n",
    "            if (item['Gender'] == 'Female'):  \n",
    "                gender['1970s']['Female'] += 1 \n",
    "            else: \n",
    "                gender['1970s']['Male'] += 1 \n",
    "        if int(item['DateAcquired']) in range (1980,1990): \n",
    "            if (item['Gender'] == 'Female'):  \n",
    "                gender['1980s']['Female'] += 1 \n",
    "            else: \n",
    "                gender['1980s']['Male'] += 1 \n",
    "        if int(item['DateAcquired']) in range (1990,2000): \n",
    "            if (item['Gender'] == 'Female'):  \n",
    "                gender['1990s']['Female'] += 1 \n",
    "            else: \n",
    "                gender['1990s']['Male'] += 1 \n",
    "        if int(item['DateAcquired']) in range (2000,2014): \n",
    "            if (item['Gender'] == 'Female'):  \n",
    "                gender['2000s']['Female'] += 1 \n",
    "            else: \n",
    "                gender['2000s']['Male'] += 1 \n",
    "    print(gender)"
   ]
  },
  {
   "cell_type": "markdown",
   "id": "705c4f23",
   "metadata": {},
   "source": [
    "Percentage of female-male artists every ten years"
   ]
  },
  {
   "cell_type": "code",
   "execution_count": 153,
   "id": "a3219a6f",
   "metadata": {},
   "outputs": [
    {
     "name": "stdout",
     "output_type": "stream",
     "text": [
      "1930s Male 92 % Female 8 %\n",
      "1940s Male 88 % Female 12 %\n",
      "1950s Male 90 % Female 10 %\n",
      "1960s Male 91 % Female 9 %\n",
      "1970s Male 85 % Female 15 %\n",
      "1980s Male 84 % Female 16 %\n",
      "1990s Male 77 % Female 23 %\n",
      "2000s Male 77 % Female 23 %\n"
     ]
    }
   ],
   "source": [
    "for el in gender: \n",
    "    tot = gender[el]['Male'] + gender[el]['Female'] \n",
    "    percentage = (gender[el]['Male']/tot)*100 \n",
    "    print (el, 'Male', round(percentage),'%', 'Female', round(100-percentage),'%')"
   ]
  },
  {
   "cell_type": "markdown",
   "id": "3c2186da",
   "metadata": {},
   "source": [
    "## Tate"
   ]
  },
  {
   "cell_type": "markdown",
   "id": "3be0f8e8",
   "metadata": {},
   "source": [
    "Number of female and male artists acquired every ten years."
   ]
  },
  {
   "cell_type": "code",
   "execution_count": 154,
   "id": "99e652fc",
   "metadata": {},
   "outputs": [
    {
     "name": "stdout",
     "output_type": "stream",
     "text": [
      "{'1930s': {'Male': 148, 'Female': 34}, '1940s': {'Male': 100, 'Female': 13}, '1950s': {'Male': 136, 'Female': 12}, '1960s': {'Male': 214, 'Female': 17}, '1970s': {'Male': 481, 'Female': 67}, '1980s': {'Male': 285, 'Female': 44}, '1990s': {'Male': 318, 'Female': 72}, '2000s': {'Male': 523, 'Female': 208}}\n"
     ]
    }
   ],
   "source": [
    "Tate_acquisitions_dropped.to_csv('Tate_acquisitions_dropped.csv')\n",
    "with open('Tate_acquisitions_dropped.csv', mode='r', encoding='utf-8') as csvfile: \n",
    "    reader = csv.DictReader(csvfile) \n",
    "    gender={'1930s': {'Male': 0, 'Female': 0}, '1940s': {'Male': 0, 'Female': 0}, '1950s': {'Male': 0, 'Female': 0}, '1960s': {'Male': 0, 'Female': 0}, '1970s': {'Male': 0, 'Female': 0}, '1980s': {'Male': 0, 'Female': 0}, '1990s': {'Male': 0, 'Female': 0}, '2000s': {'Male': 0, 'Female': 0}} \n",
    "    for item in reader: \n",
    "        if int(item['DateAcquired']) in range (1928,1940): \n",
    "            if (item['Gender'] == 'Female'):  \n",
    "                gender['1930s']['Female'] += 1 \n",
    "            else: \n",
    "                gender['1930s']['Male'] += 1 \n",
    "        if int(item['DateAcquired']) in range (1940,1950): \n",
    "            if (item['Gender'] == 'Female'):  \n",
    "                gender['1940s']['Female'] += 1 \n",
    "            else: \n",
    "                gender['1940s']['Male'] += 1 \n",
    "        if int(item['DateAcquired']) in range (1950,1960): \n",
    "            if (item['Gender'] == 'Female'):  \n",
    "                gender['1950s']['Female'] += 1 \n",
    "            else: \n",
    "                gender['1950s']['Male'] += 1 \n",
    "        if int(item['DateAcquired']) in range (1960,1970): \n",
    "            if (item['Gender'] == 'Female'):  \n",
    "                gender['1960s']['Female'] += 1 \n",
    "            else: \n",
    "                gender['1960s']['Male'] += 1 \n",
    "        if int(item['DateAcquired']) in range (1970,1980): \n",
    "            if (item['Gender'] == 'Female'):  \n",
    "                gender['1970s']['Female'] += 1 \n",
    "            else: \n",
    "                gender['1970s']['Male'] += 1 \n",
    "        if int(item['DateAcquired']) in range (1980,1990): \n",
    "            if (item['Gender'] == 'Female'):  \n",
    "                gender['1980s']['Female'] += 1 \n",
    "            else: \n",
    "                gender['1980s']['Male'] += 1 \n",
    "        if int(item['DateAcquired']) in range (1990,2000): \n",
    "            if (item['Gender'] == 'Female'):  \n",
    "                gender['1990s']['Female'] += 1 \n",
    "            else: \n",
    "                gender['1990s']['Male'] += 1 \n",
    "        if int(item['DateAcquired']) in range (2000,2014): \n",
    "            if (item['Gender'] == 'Female'):  \n",
    "                gender['2000s']['Female'] += 1 \n",
    "            else: \n",
    "                gender['2000s']['Male'] += 1 \n",
    "    print(gender)"
   ]
  },
  {
   "cell_type": "markdown",
   "id": "c3d6e590",
   "metadata": {},
   "source": [
    "Percentage of female-male artists acquired every ten years"
   ]
  },
  {
   "cell_type": "code",
   "execution_count": 155,
   "id": "5074bad4",
   "metadata": {},
   "outputs": [
    {
     "name": "stdout",
     "output_type": "stream",
     "text": [
      "1930s Male 81 % Female 19 %\n",
      "1940s Male 88 % Female 12 %\n",
      "1950s Male 92 % Female 8 %\n",
      "1960s Male 93 % Female 7 %\n",
      "1970s Male 88 % Female 12 %\n",
      "1980s Male 87 % Female 13 %\n",
      "1990s Male 82 % Female 18 %\n",
      "2000s Male 72 % Female 28 %\n"
     ]
    }
   ],
   "source": [
    "for el in gender: \n",
    "    tot = gender[el]['Male'] + gender[el]['Female'] \n",
    "    percentage = (gender[el]['Male']/tot)*100 \n",
    "    print (el, 'Male', round(percentage),'%', 'Female', round(100-percentage),'%')"
   ]
  },
  {
   "cell_type": "markdown",
   "id": "2c90459e",
   "metadata": {},
   "source": [
    "## Focus: most represented women throughout the years"
   ]
  },
  {
   "cell_type": "markdown",
   "id": "fa4435c4",
   "metadata": {},
   "source": [
    "Who are the women in the collections? Let us find out their names."
   ]
  },
  {
   "cell_type": "code",
   "execution_count": 163,
   "id": "b6a8459c",
   "metadata": {},
   "outputs": [
    {
     "ename": "ValueError",
     "evalue": "invalid literal for int() with base 10: '1952.0'",
     "output_type": "error",
     "traceback": [
      "\u001b[1;31m---------------------------------------------------------------------------\u001b[0m",
      "\u001b[1;31mValueError\u001b[0m                                Traceback (most recent call last)",
      "\u001b[1;32mC:\\Users\\FRANCE~1\\AppData\\Local\\Temp/ipykernel_16236/3734936839.py\u001b[0m in \u001b[0;36m<module>\u001b[1;34m\u001b[0m\n\u001b[0;32m      5\u001b[0m     \u001b[1;32mfor\u001b[0m \u001b[0mitem\u001b[0m \u001b[1;32min\u001b[0m \u001b[0mreader\u001b[0m\u001b[1;33m:\u001b[0m\u001b[1;33m\u001b[0m\u001b[1;33m\u001b[0m\u001b[0m\n\u001b[0;32m      6\u001b[0m         \u001b[1;32mif\u001b[0m \u001b[0mitem\u001b[0m\u001b[1;33m[\u001b[0m\u001b[1;34m'Gender'\u001b[0m\u001b[1;33m]\u001b[0m \u001b[1;33m==\u001b[0m \u001b[1;34m'Female'\u001b[0m\u001b[1;33m:\u001b[0m\u001b[1;33m\u001b[0m\u001b[1;33m\u001b[0m\u001b[0m\n\u001b[1;32m----> 7\u001b[1;33m             \u001b[1;32mif\u001b[0m \u001b[0mint\u001b[0m\u001b[1;33m(\u001b[0m\u001b[0mitem\u001b[0m\u001b[1;33m[\u001b[0m\u001b[1;34m'DateAcquired'\u001b[0m\u001b[1;33m]\u001b[0m\u001b[1;33m)\u001b[0m \u001b[1;32min\u001b[0m \u001b[0mrange\u001b[0m \u001b[1;33m(\u001b[0m\u001b[1;36m1928\u001b[0m\u001b[1;33m,\u001b[0m\u001b[1;36m1941\u001b[0m\u001b[1;33m)\u001b[0m\u001b[1;33m:\u001b[0m\u001b[1;33m\u001b[0m\u001b[1;33m\u001b[0m\u001b[0m\n\u001b[0m\u001b[0;32m      8\u001b[0m                 \u001b[1;32mif\u001b[0m \u001b[0mitem\u001b[0m\u001b[1;33m[\u001b[0m\u001b[1;34m'Name'\u001b[0m\u001b[1;33m]\u001b[0m \u001b[1;32mnot\u001b[0m \u001b[1;32min\u001b[0m \u001b[0mwomen\u001b[0m\u001b[1;33m[\u001b[0m\u001b[1;34m'1930s'\u001b[0m\u001b[1;33m]\u001b[0m\u001b[1;33m:\u001b[0m\u001b[1;33m\u001b[0m\u001b[1;33m\u001b[0m\u001b[0m\n\u001b[0;32m      9\u001b[0m                     \u001b[0mwomen\u001b[0m\u001b[1;33m[\u001b[0m\u001b[1;34m'1930s'\u001b[0m\u001b[1;33m]\u001b[0m\u001b[1;33m[\u001b[0m\u001b[0mitem\u001b[0m\u001b[1;33m[\u001b[0m\u001b[1;34m'Name'\u001b[0m\u001b[1;33m]\u001b[0m\u001b[1;33m]\u001b[0m \u001b[1;33m=\u001b[0m \u001b[1;36m1\u001b[0m\u001b[1;33m\u001b[0m\u001b[1;33m\u001b[0m\u001b[0m\n",
      "\u001b[1;31mValueError\u001b[0m: invalid literal for int() with base 10: '1952.0'"
     ]
    }
   ],
   "source": [
    "MoMA_acquisitions.to_csv('MoMA_acquisitions.csv')\n",
    "with open('MoMA_acquisitions.csv', mode='r', encoding='utf-8') as csvfile: \n",
    "    reader = csv.DictReader(csvfile) \n",
    "    women_MoMA = defaultdict(dict) \n",
    "    for item in reader: \n",
    "        if item['Gender'] == 'Female':\n",
    "            if int(item['DateAcquired']) in range (1928,1941): \n",
    "                if item['Name'] not in women['1930s']: \n",
    "                    women['1930s'][item['Name']] = 1 \n",
    "                else: \n",
    "                    women['1930s'][item['Name']] += 1 \n",
    "\n",
    "            if int(item['DateAcquired']) in range (1940,1950): \n",
    "                if item['Name'] not in women['1940s']: \n",
    "                    women['1940s'][item['Name']] = 1 \n",
    "                else: \n",
    "                    women['1940s'][item['Name']] += 1 \n",
    "\n",
    "            if int(item['DateAcquired']) in range (1950,1960): \n",
    "                if item['Name'] not in women['1950s']: \n",
    "                    women['1950s'][item['Name']] = 1 \n",
    "                else: \n",
    "                    women['1950s'][item['Name']] += 1 \n",
    "\n",
    "            if int(item['DateAcquired']) in range (1960,1970): \n",
    "                if item['Name'] not in women['1960s']: \n",
    "                    women['1960s'][item['Name']] = 1 \n",
    "                else: \n",
    "                    women['1960s'][item['Name']] += 1 \n",
    "                    \n",
    "            if int(item['DateAcquired']) in range (1970,1980): \n",
    "                if item['Name'] not in women['1970s']: \n",
    "                    women['1970s'][item['Name']] = 1 \n",
    "                else: \n",
    "                    women['1970s'][item['Name']] += 1 \n",
    "                \n",
    "            if int(item['DateAcquired']) in range (1980,1990): \n",
    "                if item['Name'] not in women['1980s']: \n",
    "                    women['1980s'][item['Name']] = 1 \n",
    "                else: \n",
    "                    women['1980s'][item['Name']] += 1 \n",
    "                \n",
    "            if int(item['DateAcquired']) in range (1990,2000): \n",
    "                if item['Name'] not in women['1990s']: \n",
    "                    women['1990s'][item['Name']] = 1 \n",
    "                else: \n",
    "                    women['1990s'][item['Name']] += 1 \n",
    "                \n",
    "            if int(item['DateAcquired']) in range (2000,2014): \n",
    "                if item['Name'] not in women['2000s']: \n",
    "                    women['2000s'][item['Name']] = 1 \n",
    "                else: \n",
    "                    women['2000s'][item['Name']] += 1 \n",
    "\n",
    "         \n",
    "                 \n",
    " \n",
    "print(women_MoMA)"
   ]
  },
  {
   "cell_type": "code",
   "execution_count": 161,
   "id": "ada83818",
   "metadata": {},
   "outputs": [
    {
     "name": "stdout",
     "output_type": "stream",
     "text": [
      "defaultdict(<class 'dict'>, {})\n"
     ]
    }
   ],
   "source": [
    "Tate_acquisitions.to_csv('Tate_acquisitions.csv')\n",
    "with open('Tate_acquisitions.csv', mode='r', encoding='utf-8') as csvfile: \n",
    "    reader = csv.DictReader(csvfile) \n",
    "    women_Tate = defaultdict(dict) \n",
    "    for item in reader: \n",
    "        if item['Gender'] == 'Female':\n",
    "            if int(item['DateAcquired']) in range (1928,1941): \n",
    "                if item['Name'] not in women['1930s']: \n",
    "                    women['1930s'][item['Name']] = 1 \n",
    "                else: \n",
    "                    women['1930s'][item['Name']] += 1 \n",
    "\n",
    "            if int(item['DateAcquired']) in range (1940,1950): \n",
    "                if item['Name'] not in women['1940s']: \n",
    "                    women['1940s'][item['Name']] = 1 \n",
    "                else: \n",
    "                    women['1940s'][item['Name']] += 1 \n",
    "\n",
    "            if int(item['DateAcquired']) in range (1950,1960): \n",
    "                if item['Name'] not in women['1950s']: \n",
    "                    women['1950s'][item['Name']] = 1 \n",
    "                else: \n",
    "                    women['1950s'][item['Name']] += 1 \n",
    "\n",
    "            if int(item['DateAcquired']) in range (1960,1970): \n",
    "                if item['Name'] not in women['1960s']: \n",
    "                    women['1960s'][item['Name']] = 1 \n",
    "                else: \n",
    "                    women['1960s'][item['Name']] += 1 \n",
    "                    \n",
    "            if int(item['DateAcquired']) in range (1970,1980): \n",
    "                if item['Name'] not in women['1970s']: \n",
    "                    women['1970s'][item['Name']] = 1 \n",
    "                else: \n",
    "                    women['1970s'][item['Name']] += 1 \n",
    "                \n",
    "            if int(item['DateAcquired']) in range (1980,1990): \n",
    "                if item['Name'] not in women['1980s']: \n",
    "                    women['1980s'][item['Name']] = 1 \n",
    "                else: \n",
    "                    women['1980s'][item['Name']] += 1 \n",
    "                \n",
    "            if int(item['DateAcquired']) in range (1990,2000): \n",
    "                if item['Name'] not in women['1990s']: \n",
    "                    women['1990s'][item['Name']] = 1 \n",
    "                else: \n",
    "                    women['1990s'][item['Name']] += 1 \n",
    "                \n",
    "            if int(item['DateAcquired']) in range (2000,2014): \n",
    "                if item['Name'] not in women['2000s']: \n",
    "                    women['2000s'][item['Name']] = 1 \n",
    "                else: \n",
    "                    women['2000s'][item['Name']] += 1 \n",
    "\n",
    "         \n",
    "                 \n",
    " \n",
    "print(women_Tate)"
   ]
  },
  {
   "cell_type": "markdown",
   "id": "952ad657",
   "metadata": {},
   "source": [
    "## Nationalities "
   ]
  },
  {
   "cell_type": "markdown",
   "id": "c0d85013",
   "metadata": {},
   "source": [
    "Does nationality affect the artists' selection? Does acquisition campaigns show different tendencies and patterns throughout the years, when it comes to the artists' nationality?"
   ]
  },
  {
   "cell_type": "markdown",
   "id": "3d33d24c",
   "metadata": {},
   "source": [
    "### MoMA\n",
    "For every ten years, we count the nationalities' frequency."
   ]
  },
  {
   "cell_type": "code",
   "execution_count": 73,
   "id": "ec41ea09",
   "metadata": {},
   "outputs": [
    {
     "name": "stdout",
     "output_type": "stream",
     "text": [
      "defaultdict(<class 'dict'>, {'1980s': {'American': 715, 'Danish': 14, 'Estonian': 2, 'Swedish': 11, 'Finnish': 8, 'British': 100, 'Romanian': 2, 'French': 100, 'Belgian': 12, 'Dutch': 34, 'Norwegian': 4, 'Czech': 14, 'Austrian': 24, 'Italian': 37, 'Japanese': 72, 'German': 112, 'Russian': 18, 'Swiss': 54, 'Canadian': 33, 'Congolese': 1, 'Brazilian': 2, 'Hungarian': 9, 'Polish': 17, 'Icelandic': 1, 'Australian': 6, 'Croatian': 3, 'Spanish': 13, 'Slovak': 1, 'Cuban': 4, 'Mexican': 10, 'Greek': 1, 'Chinese': 1, 'Native American': 2, 'Chilean': 3, 'Nationality unknown': 5, 'Israeli': 7, 'Argentine': 1, 'Colombian': 2, 'Luxembourger': 1, 'Venezuelan': 1, 'Portuguese': 1, 'Peruvian': 3, 'Indian': 1, 'Haitian': 1, 'Moroccan': 1, '0': 14, 'Latvian': 2, 'Georgian': 1, 'Irish': 1, 'Ukrainian': 1, 'Puerto Rican': 1}, '1960s': {'Spanish': 21, '0': 15, 'American': 645, 'Italian': 95, 'French': 174, 'Japanese': 68, 'British': 71, 'Guatemalan': 2, 'Finnish': 4, 'Argentine': 37, 'Kuwaiti': 1, 'German': 146, 'Nationality unknown': 36, 'Chilean': 20, 'Swiss': 31, 'Danish': 12, 'Brazilian': 22, 'Austrian': 20, 'Canadian': 48, 'Swedish': 26, 'Israeli': 12, 'Portuguese': 1, 'Indian': 7, 'Romanian': 3, 'Dutch': 18, 'Uruguayan': 4, 'Polish': 29, 'Australian': 4, 'Belgian': 16, 'Peruvian': 11, 'Cuban': 6, 'Mexican': 15, 'Russian': 26, 'Czech': 8, 'Venezuelan': 7, 'Bolivian': 1, 'Slovenian': 5, 'Greek': 4, 'Panamanian': 2, 'Croatian': 4, 'Turkish': 2, 'Icelandic': 2, 'Ecuadorian': 2, 'Colombian': 5, 'Iranian': 4, 'Hungarian': 4, 'Serbian': 2, 'Canadian Inuit': 3, 'Costa Rican': 1, 'Paraguayan': 1, 'Haitian': 1, 'Zimbabwean': 3, 'South African': 1, 'Moroccan': 2, 'Norwegian': 1, 'Tanzanian': 1, 'Irish': 2, 'Sudanese': 1, 'Taiwanese': 1, 'Ethiopian': 1, 'Korean': 1, 'Chinese': 2}, '1970s': {'American': 590, 'British': 83, 'Polish': 7, 'Italian': 33, 'Romanian': 3, 'Russian': 17, 'Israeli': 13, 'Japanese': 62, 'Mexican': 15, 'Dutch': 22, 'Danish': 7, 'Chilean': 7, 'Finnish': 2, 'Australian': 12, 'French': 52, 'Swiss': 16, 'Ukrainian': 2, 'German': 56, 'Brazilian': 6, 'Argentine': 3, 'Slovenian': 5, 'Spanish': 13, 'Nationality unknown': 21, 'Colombian': 13, 'Irish': 2, 'Cuban': 4, 'Peruvian': 1, 'Canadian': 7, 'Belgian': 9, 'Turkish': 2, 'Greek': 2, 'Austrian': 9, 'Swedish': 2, 'Venezuelan': 14, 'South African': 1, 'Hungarian': 2, 'Norwegian': 1, 'Korean': 3, 'Czech': 8, '0': 3, 'Tunisian': 1, 'Uruguayan': 2, 'Serbian': 1, 'Panamanian': 1, 'Paraguayan': 1}, '1950s': {'American': 323, 'French': 163, 'Swedish': 16, 'Israeli': 4, 'Japanese': 96, 'Finnish': 9, 'German': 90, 'British': 48, '0': 16, 'Italian': 42, 'Swiss': 39, 'Hungarian': 3, 'Canadian': 9, 'Cuban': 3, 'Dutch': 25, 'Nationality unknown': 55, 'Spanish': 5, 'Brazilian': 13, 'Chilean': 3, 'Polish': 7, 'Belgian': 10, 'Mexican': 5, 'Haitian': 1, 'Algerian': 1, 'Argentine': 4, 'Venezuelan': 1, 'Guatemalan': 2, 'Austrian': 7, 'Danish': 14, 'Canadian Inuit': 2, 'Russian': 2, 'Serbian': 2, 'Korean': 2, 'Czech': 4, 'Nicaraguan': 1, 'Norwegian': 6, 'Turkish': 1, 'Slovenian': 1, 'Australian': 2, 'Colombian': 2, 'Tanzanian': 1, 'Irish': 1, 'Peruvian': 1, 'Icelandic': 1}, '1940s': {'Mexican': 32, 'American': 435, 'Palestinian': 1, 'Colombian': 3, 'Polish': 6, 'British': 57, '0': 22, 'Costa Rican': 1, 'Spanish': 6, 'Argentine': 15, 'Italian': 31, 'French': 55, 'German': 37, 'Haitian': 10, 'Brazilian': 9, 'Bolivian': 1, 'Swedish': 10, 'Cuban': 10, 'Peruvian': 2, 'Nationality unknown': 19, 'Swiss': 16, 'Dutch': 6, 'Greek': 2, 'Chilean': 2, 'Chinese': 3, 'Australian': 3, 'Belgian': 7, 'Czech': 3, 'Uruguayan': 3, 'Ecuadorian': 2, 'Austrian': 7, 'Japanese': 3, 'Romanian': 1, 'Finnish': 3, 'Danish': 3, 'Nicaraguan': 1, 'Guatemalan': 1, 'Russian': 13, 'Hungarian': 3, 'Canadian': 1, 'Native American': 1, 'Yugoslav': 1, 'Scottish': 1}, '1930s': {'Spanish': 19, 'American': 179, 'Palestinian': 1, 'British': 56, 'Chilean': 1, 'German': 18, 'French': 18, 'Nationality unknown': 5, 'Swiss': 6, '0': 5, 'Japanese': 2, 'Norwegian': 1, 'Russian': 3, 'Italian': 2, 'Mexican': 1, 'Hungarian': 1, 'Dutch': 3, 'Swedish': 1, 'Bolivian': 1, 'Czechoslovakian': 1}, '1990s': {'Swedish': 5, 'French': 70, 'Finnish': 7, 'American': 631, 'Italian': 53, 'Argentine': 7, 'Dutch': 37, 'Japanese': 68, 'Spanish': 29, 'German': 86, 'Swiss': 41, 'Austrian': 20, 'Colombian': 3, 'British': 85, 'Polish': 19, 'Icelandic': 2, 'Danish': 17, 'Greek': 1, 'Russian': 25, 'Mexican': 10, 'Portuguese': 2, 'Cuban': 6, 'Czech': 10, 'Israeli': 4, 'Belgian': 4, 'Norwegian': 4, 'Brazilian': 15, 'Azerbaijani': 1, '0': 15, 'Chilean': 8, 'Canadian': 12, 'Senegalese': 1, 'Indian': 2, 'Nationality unknown': 8, 'Thai': 1, 'Australian': 5, 'South African': 4, 'Iranian': 2, 'Peruvian': 1, 'Scottish': 1, 'Romanian': 2, 'Chinese': 6, 'Ukrainian': 2, 'Pakistani': 1, 'Korean': 1, 'Bahamian': 1, 'Malian': 1, 'Latvian': 1, 'Taiwanese': 1, 'Hungarian': 1, 'Uruguayan': 1, 'Czechoslovakian': 1}, '2000s': {'Finnish': 11, 'American': 701, 'Italian': 55, 'Ukrainian': 4, 'Czech': 16, 'British': 113, 'Russian': 68, 'German': 186, 'Austrian': 76, 'Japanese': 54, 'Spanish': 15, 'French': 80, 'Dutch': 45, 'Danish': 29, 'Nationality unknown': 22, 'Swedish': 13, 'Belgian': 18, 'Thai': 1, 'South African': 49, 'Lithuanian': 2, 'Australian': 6, 'Swiss': 44, 'Brazilian': 25, 'Pakistani': 3, 'Korean': 12, 'Polish': 18, 'Argentine': 15, 'Bahamian': 1, 'Cuban': 12, 'Iranian': 2, 'Canadian': 30, 'Bulgarian': 3, '0': 366, 'Bosnian': 4, 'Georgian': 2, 'Turkish': 10, 'Scottish': 13, 'Indian': 5, 'Croatian': 5, 'Chinese': 32, 'Hungarian': 10, 'Israeli': 17, 'Congolese': 1, 'Venezuelan': 4, 'Icelandic': 2, 'Peruvian': 5, 'Uruguayan': 1, 'Malian': 1, 'Colombian': 7, 'Irish': 3, 'Mexican': 11, 'Egyptian': 3, 'Luxembourger': 1, 'Kenyan': 1, 'Nigerian': 1, 'Taiwanese': 2, 'Norwegian': 6, 'Slovenian': 4, 'Albanian': 2, 'Slovak': 6, 'Romanian': 3, 'Azerbaijani': 1, 'Ivorian': 1, 'Malaysian': 2, 'Serbian': 1, 'Singaporean': 1, 'Namibian': 2, 'Ghanaian': 2, 'Afghan': 1, 'Lebanese': 1, 'Ugandan': 1, 'Zimbabwean': 1, 'Cameroonian': 1, 'New Zealander': 1, 'Welsh': 1}})\n"
     ]
    }
   ],
   "source": [
    "from collections import defaultdict  \n",
    " \n",
    "with open('MoMA_acquisitions_dropped.csv', mode='r', encoding='utf-8') as csvfile: \n",
    "    reader = csv.DictReader(csvfile) \n",
    "    nationalities = defaultdict(dict) \n",
    "    for item in reader: \n",
    "        if int(item['DateAcquired']) in range (1928,1941): \n",
    "            if item['Nationality'] not in nationalities['1930s']: \n",
    "                nationalities['1930s'][item['Nationality']] = 1 \n",
    "            else: \n",
    "                nationalities['1930s'][item['Nationality']] += 1 \n",
    "        if int(item['DateAcquired']) in range (1940,1951): \n",
    "            if item['Nationality'] not in nationalities['1940s']: \n",
    "                nationalities['1940s'][item['Nationality']] = 1 \n",
    "            else: \n",
    "                nationalities['1940s'][item['Nationality']] += 1 \n",
    "        if int(item['DateAcquired']) in range (1950,1961): \n",
    "            if item['Nationality'] not in nationalities['1950s']: \n",
    "                nationalities['1950s'][item['Nationality']] = 1 \n",
    "            else: \n",
    "                nationalities['1950s'][item['Nationality']] += 1 \n",
    "        if int(item['DateAcquired']) in range (1960,1971): \n",
    "            if item['Nationality'] not in nationalities['1960s']: \n",
    "                nationalities['1960s'][item['Nationality']] = 1 \n",
    "            else: \n",
    "                nationalities['1960s'][item['Nationality']] += 1 \n",
    "        if int(item['DateAcquired']) in range (1970,1981): \n",
    "            if item['Nationality'] not in nationalities['1970s']: \n",
    "                nationalities['1970s'][item['Nationality']] = 1 \n",
    "            else: \n",
    "                nationalities['1970s'][item['Nationality']] += 1 \n",
    "        if int(item['DateAcquired']) in range (1980,1991): \n",
    "            if item['Nationality'] not in nationalities['1980s']: \n",
    "                nationalities['1980s'][item['Nationality']] = 1 \n",
    "            else: \n",
    "                nationalities['1980s'][item['Nationality']] += 1 \n",
    "        if int(item['DateAcquired']) in range (1990,2001): \n",
    "            if item['Nationality'] not in nationalities['1990s']: \n",
    "                nationalities['1990s'][item['Nationality']] = 1 \n",
    "            else: \n",
    "                nationalities['1990s'][item['Nationality']] += 1 \n",
    "        if int(item['DateAcquired']) in range (2000,2011): \n",
    "            if item['Nationality'] not in nationalities['2000s']: \n",
    "                nationalities['2000s'][item['Nationality']] = 1 \n",
    "            else: \n",
    "                nationalities['2000s'][item['Nationality']] += 1 \n",
    "         \n",
    "                 \n",
    " \n",
    "print(nationalities)"
   ]
  },
  {
   "cell_type": "code",
   "execution_count": 74,
   "id": "1254ba42",
   "metadata": {},
   "outputs": [
    {
     "name": "stdout",
     "output_type": "stream",
     "text": [
      "defaultdict(<class 'dict'>, {'2000s': {'Poland': 9, 'United States': 99, 'Germany': 39, 'Finland': 1, 'China': 10, 'Iraq': 1, 'Russia': 2, 'United Kingdom': 150, 'Belgium': 5, 'México': 7, 'Perú': 3, 'Ukraine': 3, 'Îran': 5, 'Italia': 12, 'Venezuela': 4, 'Turkey': 2, 'France': 14, 'Israel': 5, 'Brasil': 17, 'Jugoslavija': 2, 'Uganda': 1, 'Norge': 1, 'Nederland': 4, 'South Africa': 6, '0': 26, 'Romania': 2, 'Argentina': 8, 'Cuba': 4, 'Canada': 9, 'Ireland': 4, 'Greece': 2, 'Colombia': 5, 'Latvija': 1, 'Sweden': 1, 'Chile': 2, 'Czech Republica': 4, 'Danmark': 5, 'Spain': 5, 'Austria': 4, 'Switzerland': 6, 'Pakistan': 1, 'Mehoz': 2, 'India': 3, 'Japan': 10, 'Bahamas': 1, 'Hungery': 3, 'Bangladesh': 1, 'Hrvatska': 2, 'Slovenia': 2, \"Taehan Min'guk\": 1, 'Zimbabwe': 1, 'Sri Lanka': 1, 'New Zealand': 4, 'Luxembourg': 1, 'Ísland': 1, 'Pilipinas': 1, 'Lietuva': 2, 'Australia': 2, 'Al-Lubnan': 3, 'Kenya': 1, \"Al-Jaza'ir\": 1, 'Lao': 1, 'Malta': 1, 'Panamá': 1, 'Misr': 1, 'Portugal': 3, 'Shqipëria': 1, 'Nicaragua': 1, 'Mauritius': 1, 'Bulgaria': 1, 'Indonesia': 1, 'Zambia': 1}, '1970s': {'United Kingdom': 243, 'Switzerland': 4, 'Germany': 22, 'United States': 70, 'Belgium': 11, 'Italia': 11, 'Spain': 5, 'Nederland': 7, 'Canada': 16, 'France': 11, '0': 85, 'Austria': 6, 'South Africa': 4, 'New Zealand': 3, 'Australia': 9, 'Ireland': 5, 'India': 3, 'Venezuela': 1, 'Ukraine': 3, 'Hungery': 5, 'Greece': 1, 'Eesti': 1, 'Russia': 4, 'Romania': 3, 'Slovenia': 1, 'Belarus': 2, 'Armenia': 1, 'Poland': 6, 'Colombia': 2, 'Norge': 1, 'Czech Republica': 3, 'Myanmar': 1, 'Israel': 1, 'Brasil': 1, 'China': 4, 'Singapore': 1, 'Taiwan': 1, 'Chile': 1, 'Japan': 2, 'Sweden': 3, 'Sri Lanka': 1, 'México': 1, 'Misr': 2, 'Viet Nam': 1, 'Samoa': 1}, '1990s': {'Israel': 6, 'United Kingdom': 185, '0': 120, 'France': 16, 'Pakistan': 2, 'Poland': 5, 'United States': 22, 'Germany': 26, 'Italia': 8, 'Barbados': 1, 'Ireland': 7, 'Hungery': 1, 'Sweden': 2, 'Nederland': 3, 'Belgium': 4, 'South Africa': 1, 'Mehoz': 1, 'Al-Lubnan': 1, 'Tanzania': 1, 'Îran': 1, 'Austria': 2, 'Danmark': 1, 'Switzerland': 1, 'India': 1, \"Taehan Min'guk\": 1, 'Ísland': 1, 'Canada': 3, 'Japan': 4, 'Australia': 2, 'Jamaica': 1, 'Spain': 2, 'Brasil': 1, 'China': 1, 'Greece': 1, 'Guyana': 1}, '1980s': {'United States': 46, 'United Kingdom': 126, '0': 44, 'Romania': 3, 'France': 20, 'Italia': 14, 'Germany': 23, 'Bosna i Hercegovina': 2, 'Slovenija': 6, 'Pakistan': 1, 'India': 3, 'Guyana': 1, 'Ireland': 6, 'Austria': 5, 'Switzerland': 8, 'Bulgaria': 1, 'Ukraine': 3, 'Nederland': 4, 'Jamaica': 1, 'Poland': 7, 'Canada': 2, 'Indonesia': 1, 'Belgium': 1, 'Danmark': 1, 'Czech Republica': 2, 'Russia': 2, 'Argentina': 1, 'Sweden': 2, 'Hungery': 2, 'Hrvatska': 2, 'Spain': 2, 'Jugoslavija': 1, 'China': 1, 'Misr': 1, 'Nagoya, Nihon': 1}, '1960s': {'United Kingdom': 84, 'Argentina': 1, 'Italia': 12, 'Malaysia': 1, 'Switzerland': 1, 'France': 17, 'Russia': 6, 'Ukraine': 4, 'Poland': 5, '0': 16, 'Germany': 14, 'Sweden': 2, 'Ireland': 3, 'United States': 33, 'South Africa': 4, 'Czech Republica': 3, 'Belgium': 7, 'Brasil': 1, 'Spain': 10, 'India': 3, 'Canada': 2, 'Pakistan': 2, 'Makedonija': 1, 'Romania': 3, 'Nederland': 3, 'Austria': 2, 'Tunis': 1, 'Australia': 1, 'New Zealand': 1, 'Hungery': 1, 'Hrvatska': 1, 'Venezuela': 1, 'Greece': 2, 'Japan': 1}, '1930s': {'United Kingdom': 151, 'Viet Nam': 1, 'Nederland': 4, 'France': 24, 'Russia': 7, 'United States': 4, 'Italia': 4, 'Australia': 2, 'Poland': 3, 'Ireland': 1, 'Spain': 2, 'Belgium': 2, 'Austria': 2, 'India': 4, 'Hrvatska': 2, 'New Zealand': 1, 'Romania': 1, '0': 7, 'Canada': 1, 'Germany': 2, 'Norge': 1, 'Misr': 1, 'Schlesien': 1, 'South Africa': 1}, '1950s': {'Poland': 5, 'Italia': 15, 'Switzerland': 4, 'United Kingdom': 60, 'Ukraine': 4, 'Germany': 9, \"Al-Jaza'ir\": 1, 'Ireland': 5, 'France': 15, '0': 11, 'Russia': 7, 'Schlesien': 1, 'Romania': 2, 'United States': 8, 'Greece': 3, 'Spain': 2, 'Australia': 2, 'Belgium': 3, 'Pakistan': 1, 'Argentina': 1, 'Austria': 3, 'Czech Republica': 1, 'Cuba': 1, 'Moldova': 1, 'Lietuva': 2, 'Sweden': 1, 'Canada': 1, 'México': 1, 'Latvija': 1, 'Belarus': 1, 'Portugal': 1, 'China': 1}, '1940s': {'United Kingdom': 76, 'Viet Nam': 1, 'Ireland': 3, 'France': 8, 'South Africa': 1, 'Nederland': 2, 'Portugal': 1, 'Belarus': 1, 'Austria': 3, 'India': 2, 'Germany': 3, 'Italia': 6, 'Spain': 2, '0': 3, 'China': 1, 'New Zealand': 1, 'United States': 3, 'Switzerland': 1, 'Latvija': 1, 'Poland': 1}})\n"
     ]
    }
   ],
   "source": [
    "from collections import defaultdict \n",
    "\n",
    "with open('Tate_acquisitions_dropped.csv', mode='r', encoding='utf-8') as csvfile:\n",
    "    reader = csv.DictReader(csvfile)\n",
    "    nationalities = defaultdict(dict)\n",
    "    for item in reader:\n",
    "        if int(item['DateAcquired']) in range (1928,1941):\n",
    "            if item['placeOfBirth'] not in nationalities['1930s']:\n",
    "                nationalities['1930s'][item['placeOfBirth']] = 1\n",
    "            else:\n",
    "                nationalities['1930s'][item['placeOfBirth']] += 1\n",
    "        if int(item['DateAcquired']) in range (1940,1951):\n",
    "            if item['placeOfBirth'] not in nationalities['1940s']:\n",
    "                nationalities['1940s'][item['placeOfBirth']] = 1\n",
    "            else:\n",
    "                nationalities['1940s'][item['placeOfBirth']] += 1\n",
    "        if int(item['DateAcquired']) in range (1950,1961):\n",
    "            if item['placeOfBirth'] not in nationalities['1950s']:\n",
    "                nationalities['1950s'][item['placeOfBirth']] = 1\n",
    "            else:\n",
    "                nationalities['1950s'][item['placeOfBirth']] += 1\n",
    "        if int(item['DateAcquired']) in range (1960,1971):\n",
    "            if item['placeOfBirth'] not in nationalities['1960s']:\n",
    "                nationalities['1960s'][item['placeOfBirth']] = 1\n",
    "            else:\n",
    "                nationalities['1960s'][item['placeOfBirth']] += 1\n",
    "        if int(item['DateAcquired']) in range (1970,1981):\n",
    "            if item['placeOfBirth'] not in nationalities['1970s']:\n",
    "                nationalities['1970s'][item['placeOfBirth']] = 1\n",
    "            else:\n",
    "                nationalities['1970s'][item['placeOfBirth']] += 1\n",
    "        if int(item['DateAcquired']) in range (1980,1991):\n",
    "            if item['placeOfBirth'] not in nationalities['1980s']:\n",
    "                nationalities['1980s'][item['placeOfBirth']] = 1\n",
    "            else:\n",
    "                nationalities['1980s'][item['placeOfBirth']] += 1\n",
    "        if int(item['DateAcquired']) in range (1990,2001):\n",
    "            if item['placeOfBirth'] not in nationalities['1990s']:\n",
    "                nationalities['1990s'][item['placeOfBirth']] = 1\n",
    "            else:\n",
    "                nationalities['1990s'][item['placeOfBirth']] += 1\n",
    "        if int(item['DateAcquired']) in range (2000,2011): \n",
    "            if item['placeOfBirth'] not in nationalities['2000s']: \n",
    "                nationalities['2000s'][item['placeOfBirth']] = 1 \n",
    "            else: \n",
    "                nationalities['2000s'][item['placeOfBirth']] += 1 \n",
    "        \n",
    "                \n",
    "\n",
    "print(nationalities)"
   ]
  },
  {
   "cell_type": "markdown",
   "id": "40a3d165",
   "metadata": {},
   "source": [
    "## Centuries"
   ]
  },
  {
   "cell_type": "markdown",
   "id": "5afc6047",
   "metadata": {},
   "source": [
    "### Moma"
   ]
  },
  {
   "cell_type": "code",
   "execution_count": 75,
   "id": "78a13673",
   "metadata": {},
   "outputs": [
    {
     "name": "stdout",
     "output_type": "stream",
     "text": [
      "defaultdict(<class 'dict'>, {'1940s': {'20th': 7375, '19th': 1283, '18th': 1}, '1950s': {'20th': 6211, '19th': 691, '18th': 5}, '1960s': {'20th': 29127, '19th': 3062, '18th': 81}, '1970s': {'20th': 12986, '19th': 781}, '1980s': {'20th': 10088, '19th': 1368, '18th': 1}, '1990s': {'20th': 12848, '19th': 345}, '2000s': {'20th': 19262, '19th': 368, '21th': 6817}})\n"
     ]
    }
   ],
   "source": [
    "with open('MoMA_artworks.csv', mode='r', encoding='utf-8') as csvfile:\n",
    "    reader = csv.DictReader(csvfile)\n",
    "    MoMA_centuries_acquired = defaultdict(dict)\n",
    "    for item in reader:\n",
    "        if int(item['DateAcquired']) in range (1900,1911):\n",
    "            if int(item['Date']) in range(1500,1601):\n",
    "                if '16th' not in MoMA_centuries_acquired['1910s']:\n",
    "                    MoMA_centuries_acquired['1910s']['16th'] = 1\n",
    "                else:\n",
    "                    MoMA_centuries_acquired['1910s']['16th'] += 1\n",
    "            if int(item['Date']) in range(1600,1701):\n",
    "                if '17th' not in MoMA_centuries_acquired['1910s']:\n",
    "                    MoMA_centuries_acquired['1910s']['17th'] = 1\n",
    "                else:\n",
    "                    MoMA_centuries_acquired['1910s']['17th'] += 1\n",
    "            if int(item['Date']) in range(1700,1801):\n",
    "                if '18th' not in MoMA_centuries_acquired['1910s']:\n",
    "                    MoMA_centuries_acquired['1910s']['18th'] = 1\n",
    "                else:\n",
    "                    MoMA_centuries_acquired['1910s']['18th'] += 1\n",
    "            if int(item['Date']) in range(1800,1901):\n",
    "                if '19th' not in MoMA_centuries_acquired['1910s']:\n",
    "                    MoMA_centuries_acquired['1910s']['19th'] = 1\n",
    "                else:\n",
    "                    MoMA_centuries_acquired['1910s']['19th'] += 1\n",
    "            if int(item['Date']) in range(1900,1911):\n",
    "                if '20th' not in MoMA_centuries_acquired['1910s']:\n",
    "                    MoMA_centuries_acquired['1910s']['20th'] = 1\n",
    "                else:\n",
    "                    MoMA_centuries_acquired['1910s']['20th'] += 1\n",
    "            \n",
    "            \n",
    "        \n",
    "        if int(item['DateAcquired']) in range (1910,1921):\n",
    "            if int(item['Date']) in range(1500,1601):\n",
    "                if '16th' not in MoMA_centuries_acquired['1920s']:\n",
    "                    MoMA_centuries_acquired['1920s']['16th'] = 1\n",
    "                else:\n",
    "                    MoMA_centuries_acquired['1920s']['16th'] += 1\n",
    "            if int(item['Date']) in range(1600,1701):\n",
    "                if '17th' not in MoMA_centuries_acquired['1920s']:\n",
    "                    MoMA_centuries_acquired['1920s']['17th'] = 1\n",
    "                else:\n",
    "                    MoMA_centuries_acquired['1920s']['17th'] += 1\n",
    "            if int(item['Date']) in range(1700,1801):\n",
    "                if '18th' not in MoMA_centuries_acquired['1920s']:\n",
    "                    MoMA_centuries_acquired['1920s']['18th'] = 1\n",
    "                else:\n",
    "                    MoMA_centuries_acquired['1920s']['18th'] += 1\n",
    "            if int(item['Date']) in range(1800,1901):\n",
    "                if '19th' not in MoMA_centuries_acquired['1920s']:\n",
    "                    MoMA_centuries_acquired['1920s']['19th'] = 1\n",
    "                else:\n",
    "                    MoMA_centuries_acquired['1920s']['19th'] += 1 \n",
    "            if int(item['Date']) in range(1900,2001):\n",
    "                if '20th' not in MoMA_centuries_acquired['1920s']:\n",
    "                    MoMA_centuries_acquired['1920s']['20th'] = 1\n",
    "                else:\n",
    "                    MoMA_centuries_acquired['1920s']['20th'] += 1\n",
    "   \n",
    "        \n",
    "        if int(item['DateAcquired']) in range (1940,1951):\n",
    "            if int(item['Date']) in range(1500,1601):\n",
    "                if '16th' not in MoMA_centuries_acquired['1940s']:\n",
    "                    MoMA_centuries_acquired['1940s']['16th'] = 1\n",
    "                else:\n",
    "                    MoMA_centuries_acquired['1940s']['16th'] += 1\n",
    "            if int(item['Date']) in range(1600,1701):\n",
    "                if '17th' not in MoMA_centuries_acquired['1940s']:\n",
    "                    MoMA_centuries_acquired['1940s']['17th'] = 1\n",
    "                else:\n",
    "                    MoMA_centuries_acquired['1940s']['17th'] += 1\n",
    "            if int(item['Date']) in range(1700,1801):\n",
    "                if '18th' not in MoMA_centuries_acquired['1940s']:\n",
    "                    MoMA_centuries_acquired['1940s']['18th'] = 1\n",
    "                else:\n",
    "                    MoMA_centuries_acquired['1940s']['18th'] += 1\n",
    "            if int(item['Date']) in range(1800,1901):\n",
    "                if '19th' not in MoMA_centuries_acquired['1940s']:\n",
    "                    MoMA_centuries_acquired['1940s']['19th'] = 1\n",
    "                else:\n",
    "                    MoMA_centuries_acquired['1940s']['19th'] += 1 \n",
    "            if int(item['Date']) in range(1900,2001):\n",
    "                if '20th' not in MoMA_centuries_acquired['1940s']:\n",
    "                    MoMA_centuries_acquired['1940s']['20th'] = 1\n",
    "                else:\n",
    "                    MoMA_centuries_acquired['1940s']['20th'] += 1\n",
    "\n",
    "        \n",
    "        if int(item['DateAcquired']) in range (1950,1961):\n",
    "            if int(item['Date']) in range(1500,1601):\n",
    "                if '16th' not in MoMA_centuries_acquired['1950s']:\n",
    "                    MoMA_centuries_acquired['1950s']['16th'] = 1\n",
    "                else:\n",
    "                    MoMA_centuries_acquired['1950s']['16th'] += 1\n",
    "            if int(item['Date']) in range(1600,1701):\n",
    "                if '17th' not in MoMA_centuries_acquired['1950s']:\n",
    "                    MoMA_centuries_acquired['1950s']['17th'] = 1\n",
    "                else:\n",
    "                    MoMA_centuries_acquired['1950s']['17th'] += 1\n",
    "            if int(item['Date']) in range(1700,1801):\n",
    "                if '18th' not in MoMA_centuries_acquired['1950s']:\n",
    "                    MoMA_centuries_acquired['1950s']['18th'] = 1\n",
    "                else:\n",
    "                    MoMA_centuries_acquired['1950s']['18th'] += 1\n",
    "            if int(item['Date']) in range(1800,1901):\n",
    "                if '19th' not in MoMA_centuries_acquired['1950s']:\n",
    "                    MoMA_centuries_acquired['1950s']['19th'] = 1\n",
    "                else:\n",
    "                    MoMA_centuries_acquired['1950s']['19th'] += 1 \n",
    "            if int(item['Date']) in range(1900,2001):\n",
    "                if '20th' not in MoMA_centuries_acquired['1950s']:\n",
    "                    MoMA_centuries_acquired['1950s']['20th'] = 1\n",
    "                else:\n",
    "                    MoMA_centuries_acquired['1950s']['20th'] += 1\n",
    "\n",
    "                    \n",
    "        if int(item['DateAcquired']) in range (1960,1971):\n",
    "            if int(item['Date']) in range(1500,1601):\n",
    "                if '16th' not in MoMA_centuries_acquired['1960s']:\n",
    "                    MoMA_centuries_acquired['1960s']['16th'] = 1\n",
    "                else:\n",
    "                    MoMA_centuries_acquired['1960s']['16th'] += 1\n",
    "            if int(item['Date']) in range(1600,1701):\n",
    "                if '17th' not in MoMA_centuries_acquired['1960s']:\n",
    "                    MoMA_centuries_acquired['1960s']['17th'] = 1\n",
    "                else:\n",
    "                    MoMA_centuries_acquired['1960s']['17th'] += 1\n",
    "            if int(item['Date']) in range(1700,1801):\n",
    "                if '18th' not in MoMA_centuries_acquired['1960s']:\n",
    "                    MoMA_centuries_acquired['1960s']['18th'] = 1\n",
    "                else:\n",
    "                    MoMA_centuries_acquired['1960s']['18th'] += 1\n",
    "            if int(item['Date']) in range(1800,1901):\n",
    "                if '19th' not in MoMA_centuries_acquired['1960s']:\n",
    "                    MoMA_centuries_acquired['1960s']['19th'] = 1\n",
    "                else:\n",
    "                    MoMA_centuries_acquired['1960s']['19th'] += 1 \n",
    "            if int(item['Date']) in range(1900,2001):\n",
    "                if '20th' not in MoMA_centuries_acquired['1960s']:\n",
    "                    MoMA_centuries_acquired['1960s']['20th'] = 1\n",
    "                else:\n",
    "                    MoMA_centuries_acquired['1960s']['20th'] += 1\n",
    "\n",
    "        \n",
    "        if int(item['DateAcquired']) in range (1970,1981):\n",
    "            if int(item['Date']) in range(1500,1601):\n",
    "                if '16th' not in MoMA_centuries_acquired['1970s']:\n",
    "                    MoMA_centuries_acquired['1970s']['16th'] = 1\n",
    "                else:\n",
    "                    MoMA_centuries_acquired['1970s']['16th'] += 1\n",
    "            if int(item['Date']) in range(1600,1701):\n",
    "                if '17th' not in MoMA_centuries_acquired['1970s']:\n",
    "                    MoMA_centuries_acquired['1970s']['17th'] = 1\n",
    "                else:\n",
    "                    MoMA_centuries_acquired['1970s']['17th'] += 1\n",
    "            if int(item['Date']) in range(1700,1801):\n",
    "                if '18th' not in MoMA_centuries_acquired['1970s']:\n",
    "                    MoMA_centuries_acquired['1970s']['18th'] = 1\n",
    "                else:\n",
    "                    MoMA_centuries_acquired['1970s']['18th'] += 1\n",
    "            if int(item['Date']) in range(1800,1901):\n",
    "                if '19th' not in MoMA_centuries_acquired['1970s']:\n",
    "                    MoMA_centuries_acquired['1970s']['19th'] = 1\n",
    "                else:\n",
    "                    MoMA_centuries_acquired['1970s']['19th'] += 1 \n",
    "            if int(item['Date']) in range(1900,2001):\n",
    "                if '20th' not in MoMA_centuries_acquired['1970s']:\n",
    "                    MoMA_centuries_acquired['1970s']['20th'] = 1\n",
    "                else:\n",
    "                    MoMA_centuries_acquired['1970s']['20th'] += 1\n",
    "\n",
    "        \n",
    "        if int(item['DateAcquired']) in range (1980,1991):\n",
    "            if int(item['Date']) in range(1500,1601):\n",
    "                if '16th' not in MoMA_centuries_acquired['1980s']:\n",
    "                    MoMA_centuries_acquired['1980s']['16th'] = 1\n",
    "                else:\n",
    "                    MoMA_centuries_acquired['1980s']['16th'] += 1\n",
    "            if int(item['Date']) in range(1600,1701):\n",
    "                if '17th' not in MoMA_centuries_acquired['1980s']:\n",
    "                    MoMA_centuries_acquired['1980s']['17th'] = 1\n",
    "                else:\n",
    "                    MoMA_centuries_acquired['1980s']['17th'] += 1\n",
    "            if int(item['Date']) in range(1700,1801):\n",
    "                if '18th' not in MoMA_centuries_acquired['1980s']:\n",
    "                    MoMA_centuries_acquired['1980s']['18th'] = 1\n",
    "                else:\n",
    "                    MoMA_centuries_acquired['1980s']['18th'] += 1\n",
    "            if int(item['Date']) in range(1800,1901):\n",
    "                if '19th' not in MoMA_centuries_acquired['1980s']:\n",
    "                    MoMA_centuries_acquired['1980s']['19th'] = 1\n",
    "                else:\n",
    "                    MoMA_centuries_acquired['1980s']['19th'] += 1 \n",
    "            if int(item['Date']) in range(1900,2001):\n",
    "                if '20th' not in MoMA_centuries_acquired['1980s']:\n",
    "                    MoMA_centuries_acquired['1980s']['20th'] = 1\n",
    "                else:\n",
    "                    MoMA_centuries_acquired['1980s']['20th'] += 1\n",
    "\n",
    "        \n",
    "        if int(item['DateAcquired']) in range (1990,2001):\n",
    "            if int(item['Date']) in range(1500,1601):\n",
    "                if '16th' not in MoMA_centuries_acquired['1990s']:\n",
    "                    MoMA_centuries_acquired['1990s']['16th'] = 1\n",
    "                else:\n",
    "                    MoMA_centuries_acquired['1990s']['16th'] += 1\n",
    "            if int(item['Date']) in range(1600,1701):\n",
    "                if '17th' not in MoMA_centuries_acquired['1990s']:\n",
    "                    MoMA_centuries_acquired['1990s']['17th'] = 1\n",
    "                else:\n",
    "                    MoMA_centuries_acquired['1990s']['17th'] += 1\n",
    "            if int(item['Date']) in range(1700,1801):\n",
    "                if '18th' not in MoMA_centuries_acquired['1990s']:\n",
    "                    MoMA_centuries_acquired['1990s']['18th'] = 1\n",
    "                else:\n",
    "                    MoMA_centuries_acquired['1990s']['18th'] += 1\n",
    "            if int(item['Date']) in range(1800,1901):\n",
    "                if '19th' not in MoMA_centuries_acquired['1990s']:\n",
    "                    MoMA_centuries_acquired['1990s']['19th'] = 1\n",
    "                else:\n",
    "                    MoMA_centuries_acquired['1990s']['19th'] += 1 \n",
    "            if int(item['Date']) in range(1900,2001):\n",
    "                if '20th' not in MoMA_centuries_acquired['1990s']:\n",
    "                    MoMA_centuries_acquired['1990s']['20th'] = 1\n",
    "                else:\n",
    "                    MoMA_centuries_acquired['1990s']['20th'] += 1\n",
    "\n",
    "        \n",
    "        \n",
    "        if int(item['DateAcquired']) in range (2000,2011):\n",
    "            if int(item['Date']) in range(1500,1601):\n",
    "                if '16th' not in MoMA_centuries_acquired['2000s']:\n",
    "                    MoMA_centuries_acquired['2000s']['16th'] = 1\n",
    "                else:\n",
    "                    MoMA_centuries_acquired['2000s']['16th'] += 1\n",
    "            if int(item['Date']) in range(1600,1701):\n",
    "                if '17th' not in MoMA_centuries_acquired['2000s']:\n",
    "                    MoMA_centuries_acquired['2000s']['17th'] = 1\n",
    "                else:\n",
    "                    MoMA_centuries_acquired['2000s']['17th'] += 1\n",
    "            if int(item['Date']) in range(1700,1801):\n",
    "                if '18th' not in MoMA_centuries_acquired['2000s']:\n",
    "                    MoMA_centuries_acquired['2000s']['18th'] = 1\n",
    "                else:\n",
    "                    MoMA_centuries_acquired['2000s']['18th'] += 1\n",
    "            if int(item['Date']) in range(1800,1901):\n",
    "                if '19th' not in MoMA_centuries_acquired['2000s']:\n",
    "                    MoMA_centuries_acquired['2000s']['19th'] = 1\n",
    "                else:\n",
    "                    MoMA_centuries_acquired['2000s']['19th'] += 1 \n",
    "            if int(item['Date']) in range(1900,2001):\n",
    "                if '20th' not in MoMA_centuries_acquired['2000s']:\n",
    "                    MoMA_centuries_acquired['2000s']['20th'] = 1\n",
    "                else:\n",
    "                    MoMA_centuries_acquired['2000s']['20th'] += 1\n",
    "            if int(item['Date']) in range(2000,2011):\n",
    "                if '21th' not in MoMA_centuries_acquired['2000s']:\n",
    "                    MoMA_centuries_acquired['2000s']['21th'] = 1\n",
    "                else:\n",
    "                    MoMA_centuries_acquired['2000s']['21th'] += 1\n",
    "        \n",
    "        \n",
    "print(MoMA_centuries_acquired)"
   ]
  },
  {
   "cell_type": "markdown",
   "id": "57aef463",
   "metadata": {},
   "source": [
    "## Tate"
   ]
  },
  {
   "cell_type": "code",
   "execution_count": 76,
   "id": "6b78875a",
   "metadata": {},
   "outputs": [
    {
     "name": "stdout",
     "output_type": "stream",
     "text": [
      "defaultdict(<class 'dict'>, {'1910s': {'19th': 297, '20th': 61, '18th': 33, '17th': 1}, '1920s': {'19th': 290, '18th': 34, '20th': 224, '17th': 5}, '1940s': {'19th': 173, '20th': 506, '18th': 58, '17th': 3}, '1950s': {'20th': 514, '19th': 67, '17th': 12, '18th': 27, '16th': 3}, '1960s': {'20th': 854, '19th': 84, '18th': 73, '17th': 13, '16th': 3}, '1970s': {'20th': 5929, '18th': 118, '19th': 759, '16th': 3, '17th': 8}, '1980s': {'20th': 3249, '18th': 168, '19th': 1836, '16th': 3, '17th': 17}, '1990s': {'20th': 2689, '19th': 729, '17th': 20, '18th': 340, '16th': 2}, '2000s': {'20th': 4059, '21th': 1307, '18th': 38, '19th': 24, '16th': 1, '17th': 5}})\n"
     ]
    }
   ],
   "source": [
    "with open('Tate_artworks.csv', mode='r', encoding='utf-8') as csvfile:\n",
    "    reader = csv.DictReader(csvfile)\n",
    "    Tate_centuries_acquired = defaultdict(dict)\n",
    "    for item in reader:\n",
    "        if int(item['DateAcquired']) in range (1900,1911):\n",
    "            if int(item['Date']) in range(1500,1601):\n",
    "                if '16th' not in Tate_centuries_acquired['1910s']:\n",
    "                    Tate_centuries_acquired['1910s']['16th'] = 1\n",
    "                else:\n",
    "                    Tate_centuries_acquired['1910s']['16th'] += 1\n",
    "            if int(item['Date']) in range(1600,1701):\n",
    "                if '17th' not in Tate_centuries_acquired['1910s']:\n",
    "                    Tate_centuries_acquired['1910s']['17th'] = 1\n",
    "                else:\n",
    "                    Tate_centuries_acquired['1910s']['17th'] += 1\n",
    "            if int(item['Date']) in range(1700,1801):\n",
    "                if '18th' not in Tate_centuries_acquired['1910s']:\n",
    "                    Tate_centuries_acquired['1910s']['18th'] = 1\n",
    "                else:\n",
    "                    Tate_centuries_acquired['1910s']['18th'] += 1\n",
    "            if int(item['Date']) in range(1800,1901):\n",
    "                if '19th' not in Tate_centuries_acquired['1910s']:\n",
    "                    Tate_centuries_acquired['1910s']['19th'] = 1\n",
    "                else:\n",
    "                    Tate_centuries_acquired['1910s']['19th'] += 1\n",
    "            if int(item['Date']) in range(1900,1911):\n",
    "                if '20th' not in Tate_centuries_acquired['1910s']:\n",
    "                    Tate_centuries_acquired['1910s']['20th'] = 1\n",
    "                else:\n",
    "                    Tate_centuries_acquired['1910s']['20th'] += 1\n",
    "            \n",
    "            \n",
    "        \n",
    "        if int(item['DateAcquired']) in range (1910,1921):\n",
    "            if int(item['Date']) in range(1500,1601):\n",
    "                if '16th' not in Tate_centuries_acquired['1920s']:\n",
    "                    Tate_centuries_acquired['1920s']['16th'] = 1\n",
    "                else:\n",
    "                    Tate_centuries_acquired['1920s']['16th'] += 1\n",
    "            if int(item['Date']) in range(1600,1701):\n",
    "                if '17th' not in Tate_centuries_acquired['1920s']:\n",
    "                    Tate_centuries_acquired['1920s']['17th'] = 1\n",
    "                else:\n",
    "                    Tate_centuries_acquired['1920s']['17th'] += 1\n",
    "            if int(item['Date']) in range(1700,1801):\n",
    "                if '18th' not in Tate_centuries_acquired['1920s']:\n",
    "                    Tate_centuries_acquired['1920s']['18th'] = 1\n",
    "                else:\n",
    "                    Tate_centuries_acquired['1920s']['18th'] += 1\n",
    "            if int(item['Date']) in range(1800,1901):\n",
    "                if '19th' not in Tate_centuries_acquired['1920s']:\n",
    "                    Tate_centuries_acquired['1920s']['19th'] = 1\n",
    "                else:\n",
    "                    Tate_centuries_acquired['1920s']['19th'] += 1 \n",
    "            if int(item['Date']) in range(1900,2001):\n",
    "                if '20th' not in Tate_centuries_acquired['1920s']:\n",
    "                    Tate_centuries_acquired['1920s']['20th'] = 1\n",
    "                else:\n",
    "                    Tate_centuries_acquired['1920s']['20th'] += 1\n",
    "   \n",
    "        \n",
    "        if int(item['DateAcquired']) in range (1940,1951):\n",
    "            if int(item['Date']) in range(1500,1601):\n",
    "                if '16th' not in Tate_centuries_acquired['1940s']:\n",
    "                    Tate_centuries_acquired['1940s']['16th'] = 1\n",
    "                else:\n",
    "                    Tate_centuries_acquired['1940s']['16th'] += 1\n",
    "            if int(item['Date']) in range(1600,1701):\n",
    "                if '17th' not in Tate_centuries_acquired['1940s']:\n",
    "                    Tate_centuries_acquired['1940s']['17th'] = 1\n",
    "                else:\n",
    "                    Tate_centuries_acquired['1940s']['17th'] += 1\n",
    "            if int(item['Date']) in range(1700,1801):\n",
    "                if '18th' not in Tate_centuries_acquired['1940s']:\n",
    "                    Tate_centuries_acquired['1940s']['18th'] = 1\n",
    "                else:\n",
    "                    Tate_centuries_acquired['1940s']['18th'] += 1\n",
    "            if int(item['Date']) in range(1800,1901):\n",
    "                if '19th' not in Tate_centuries_acquired['1940s']:\n",
    "                    Tate_centuries_acquired['1940s']['19th'] = 1\n",
    "                else:\n",
    "                    Tate_centuries_acquired['1940s']['19th'] += 1 \n",
    "            if int(item['Date']) in range(1900,2001):\n",
    "                if '20th' not in Tate_centuries_acquired['1940s']:\n",
    "                    Tate_centuries_acquired['1940s']['20th'] = 1\n",
    "                else:\n",
    "                    Tate_centuries_acquired['1940s']['20th'] += 1\n",
    "\n",
    "        \n",
    "        if int(item['DateAcquired']) in range (1950,1961):\n",
    "            if int(item['Date']) in range(1500,1601):\n",
    "                if '16th' not in Tate_centuries_acquired['1950s']:\n",
    "                    Tate_centuries_acquired['1950s']['16th'] = 1\n",
    "                else:\n",
    "                    Tate_centuries_acquired['1950s']['16th'] += 1\n",
    "            if int(item['Date']) in range(1600,1701):\n",
    "                if '17th' not in Tate_centuries_acquired['1950s']:\n",
    "                    Tate_centuries_acquired['1950s']['17th'] = 1\n",
    "                else:\n",
    "                    Tate_centuries_acquired['1950s']['17th'] += 1\n",
    "            if int(item['Date']) in range(1700,1801):\n",
    "                if '18th' not in Tate_centuries_acquired['1950s']:\n",
    "                    Tate_centuries_acquired['1950s']['18th'] = 1\n",
    "                else:\n",
    "                    Tate_centuries_acquired['1950s']['18th'] += 1\n",
    "            if int(item['Date']) in range(1800,1901):\n",
    "                if '19th' not in Tate_centuries_acquired['1950s']:\n",
    "                    Tate_centuries_acquired['1950s']['19th'] = 1\n",
    "                else:\n",
    "                    Tate_centuries_acquired['1950s']['19th'] += 1 \n",
    "            if int(item['Date']) in range(1900,2001):\n",
    "                if '20th' not in Tate_centuries_acquired['1950s']:\n",
    "                    Tate_centuries_acquired['1950s']['20th'] = 1\n",
    "                else:\n",
    "                    Tate_centuries_acquired['1950s']['20th'] += 1\n",
    "\n",
    "                    \n",
    "        if int(item['DateAcquired']) in range (1960,1971):\n",
    "            if int(item['Date']) in range(1500,1601):\n",
    "                if '16th' not in Tate_centuries_acquired['1960s']:\n",
    "                    Tate_centuries_acquired['1960s']['16th'] = 1\n",
    "                else:\n",
    "                    Tate_centuries_acquired['1960s']['16th'] += 1\n",
    "            if int(item['Date']) in range(1600,1701):\n",
    "                if '17th' not in Tate_centuries_acquired['1960s']:\n",
    "                    Tate_centuries_acquired['1960s']['17th'] = 1\n",
    "                else:\n",
    "                    Tate_centuries_acquired['1960s']['17th'] += 1\n",
    "            if int(item['Date']) in range(1700,1801):\n",
    "                if '18th' not in Tate_centuries_acquired['1960s']:\n",
    "                    Tate_centuries_acquired['1960s']['18th'] = 1\n",
    "                else:\n",
    "                    Tate_centuries_acquired['1960s']['18th'] += 1\n",
    "            if int(item['Date']) in range(1800,1901):\n",
    "                if '19th' not in Tate_centuries_acquired['1960s']:\n",
    "                    Tate_centuries_acquired['1960s']['19th'] = 1\n",
    "                else:\n",
    "                    Tate_centuries_acquired['1960s']['19th'] += 1 \n",
    "            if int(item['Date']) in range(1900,2001):\n",
    "                if '20th' not in Tate_centuries_acquired['1960s']:\n",
    "                    Tate_centuries_acquired['1960s']['20th'] = 1\n",
    "                else:\n",
    "                    Tate_centuries_acquired['1960s']['20th'] += 1\n",
    "\n",
    "        \n",
    "        if int(item['DateAcquired']) in range (1970,1981):\n",
    "            if int(item['Date']) in range(1500,1601):\n",
    "                if '16th' not in Tate_centuries_acquired['1970s']:\n",
    "                    Tate_centuries_acquired['1970s']['16th'] = 1\n",
    "                else:\n",
    "                    Tate_centuries_acquired['1970s']['16th'] += 1\n",
    "            if int(item['Date']) in range(1600,1701):\n",
    "                if '17th' not in Tate_centuries_acquired['1970s']:\n",
    "                    Tate_centuries_acquired['1970s']['17th'] = 1\n",
    "                else:\n",
    "                    Tate_centuries_acquired['1970s']['17th'] += 1\n",
    "            if int(item['Date']) in range(1700,1801):\n",
    "                if '18th' not in Tate_centuries_acquired['1970s']:\n",
    "                    Tate_centuries_acquired['1970s']['18th'] = 1\n",
    "                else:\n",
    "                    Tate_centuries_acquired['1970s']['18th'] += 1\n",
    "            if int(item['Date']) in range(1800,1901):\n",
    "                if '19th' not in Tate_centuries_acquired['1970s']:\n",
    "                    Tate_centuries_acquired['1970s']['19th'] = 1\n",
    "                else:\n",
    "                    Tate_centuries_acquired['1970s']['19th'] += 1 \n",
    "            if int(item['Date']) in range(1900,2001):\n",
    "                if '20th' not in Tate_centuries_acquired['1970s']:\n",
    "                    Tate_centuries_acquired['1970s']['20th'] = 1\n",
    "                else:\n",
    "                    Tate_centuries_acquired['1970s']['20th'] += 1\n",
    "\n",
    "        \n",
    "        if int(item['DateAcquired']) in range (1980,1991):\n",
    "            if int(item['Date']) in range(1500,1601):\n",
    "                if '16th' not in Tate_centuries_acquired['1980s']:\n",
    "                    Tate_centuries_acquired['1980s']['16th'] = 1\n",
    "                else:\n",
    "                    Tate_centuries_acquired['1980s']['16th'] += 1\n",
    "            if int(item['Date']) in range(1600,1701):\n",
    "                if '17th' not in Tate_centuries_acquired['1980s']:\n",
    "                    Tate_centuries_acquired['1980s']['17th'] = 1\n",
    "                else:\n",
    "                    Tate_centuries_acquired['1980s']['17th'] += 1\n",
    "            if int(item['Date']) in range(1700,1801):\n",
    "                if '18th' not in Tate_centuries_acquired['1980s']:\n",
    "                    Tate_centuries_acquired['1980s']['18th'] = 1\n",
    "                else:\n",
    "                    Tate_centuries_acquired['1980s']['18th'] += 1\n",
    "            if int(item['Date']) in range(1800,1901):\n",
    "                if '19th' not in Tate_centuries_acquired['1980s']:\n",
    "                    Tate_centuries_acquired['1980s']['19th'] = 1\n",
    "                else:\n",
    "                    Tate_centuries_acquired['1980s']['19th'] += 1 \n",
    "            if int(item['Date']) in range(1900,2001):\n",
    "                if '20th' not in Tate_centuries_acquired['1980s']:\n",
    "                    Tate_centuries_acquired['1980s']['20th'] = 1\n",
    "                else:\n",
    "                    Tate_centuries_acquired['1980s']['20th'] += 1\n",
    "\n",
    "        \n",
    "        if int(item['DateAcquired']) in range (1990,2001):\n",
    "            if int(item['Date']) in range(1500,1601):\n",
    "                if '16th' not in Tate_centuries_acquired['1990s']:\n",
    "                    Tate_centuries_acquired['1990s']['16th'] = 1\n",
    "                else:\n",
    "                    Tate_centuries_acquired['1990s']['16th'] += 1\n",
    "            if int(item['Date']) in range(1600,1701):\n",
    "                if '17th' not in Tate_centuries_acquired['1990s']:\n",
    "                    Tate_centuries_acquired['1990s']['17th'] = 1\n",
    "                else:\n",
    "                    Tate_centuries_acquired['1990s']['17th'] += 1\n",
    "            if int(item['Date']) in range(1700,1801):\n",
    "                if '18th' not in Tate_centuries_acquired['1990s']:\n",
    "                    Tate_centuries_acquired['1990s']['18th'] = 1\n",
    "                else:\n",
    "                    Tate_centuries_acquired['1990s']['18th'] += 1\n",
    "            if int(item['Date']) in range(1800,1901):\n",
    "                if '19th' not in Tate_centuries_acquired['1990s']:\n",
    "                    Tate_centuries_acquired['1990s']['19th'] = 1\n",
    "                else:\n",
    "                    Tate_centuries_acquired['1990s']['19th'] += 1 \n",
    "            if int(item['Date']) in range(1900,2001):\n",
    "                if '20th' not in Tate_centuries_acquired['1990s']:\n",
    "                    Tate_centuries_acquired['1990s']['20th'] = 1\n",
    "                else:\n",
    "                    Tate_centuries_acquired['1990s']['20th'] += 1\n",
    "\n",
    "        \n",
    "        \n",
    "        if int(item['DateAcquired']) in range (2000,2011):\n",
    "            if int(item['Date']) in range(1500,1601):\n",
    "                if '16th' not in Tate_centuries_acquired['2000s']:\n",
    "                    Tate_centuries_acquired['2000s']['16th'] = 1\n",
    "                else:\n",
    "                    Tate_centuries_acquired['2000s']['16th'] += 1\n",
    "            if int(item['Date']) in range(1600,1701):\n",
    "                if '17th' not in Tate_centuries_acquired['2000s']:\n",
    "                    Tate_centuries_acquired['2000s']['17th'] = 1\n",
    "                else:\n",
    "                    Tate_centuries_acquired['2000s']['17th'] += 1\n",
    "            if int(item['Date']) in range(1700,1801):\n",
    "                if '18th' not in Tate_centuries_acquired['2000s']:\n",
    "                    Tate_centuries_acquired['2000s']['18th'] = 1\n",
    "                else:\n",
    "                    Tate_centuries_acquired['2000s']['18th'] += 1\n",
    "            if int(item['Date']) in range(1800,1901):\n",
    "                if '19th' not in Tate_centuries_acquired['2000s']:\n",
    "                    Tate_centuries_acquired['2000s']['19th'] = 1\n",
    "                else:\n",
    "                    Tate_centuries_acquired['2000s']['19th'] += 1 \n",
    "            if int(item['Date']) in range(1900,2001):\n",
    "                if '20th' not in Tate_centuries_acquired['2000s']:\n",
    "                    Tate_centuries_acquired['2000s']['20th'] = 1\n",
    "                else:\n",
    "                    Tate_centuries_acquired['2000s']['20th'] += 1\n",
    "            if int(item['Date']) in range(2000,2011):\n",
    "                if '21th' not in Tate_centuries_acquired['2000s']:\n",
    "                    Tate_centuries_acquired['2000s']['21th'] = 1\n",
    "                else:\n",
    "                    Tate_centuries_acquired['2000s']['21th'] += 1\n",
    "        \n",
    "        \n",
    "print(Tate_centuries_acquired)"
   ]
  }
 ],
 "metadata": {
  "kernelspec": {
   "display_name": "Python 3 (ipykernel)",
   "language": "python",
   "name": "python3"
  },
  "language_info": {
   "codemirror_mode": {
    "name": "ipython",
    "version": 3
   },
   "file_extension": ".py",
   "mimetype": "text/x-python",
   "name": "python",
   "nbconvert_exporter": "python",
   "pygments_lexer": "ipython3",
   "version": "3.9.0"
  }
 },
 "nbformat": 4,
 "nbformat_minor": 5
}
