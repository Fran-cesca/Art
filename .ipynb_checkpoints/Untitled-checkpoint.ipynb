{
 "cells": [
  {
   "cell_type": "code",
   "execution_count": 1,
   "id": "e56599bf",
   "metadata": {},
   "outputs": [],
   "source": [
    "import pandas as pd\n",
    "import csv\n",
    "import re"
   ]
  },
  {
   "cell_type": "markdown",
   "id": "e62849f7",
   "metadata": {},
   "source": [
    "# MoMa"
   ]
  },
  {
   "cell_type": "code",
   "execution_count": 2,
   "id": "8ffccf4e",
   "metadata": {},
   "outputs": [],
   "source": [
    "spreadsheet = pd.read_csv('https://media.githubusercontent.com/media/MuseumofModernArt/collection/master/Artworks.csv')\n",
    "pd.set_option('display.max_columns', None)\n",
    "MoMaArtworks = spreadsheet[['Title', 'Artist', 'ConstituentID', 'Nationality', 'BeginDate', 'EndDate', 'Gender', 'Date', 'Medium', 'CreditLine', 'Classification', 'Department', 'DateAcquired', 'URL']]\n",
    "MoMaArtists = pd.read_csv('https://media.githubusercontent.com/media/MuseumofModernArt/collection/master/Artists.csv')\n",
    "MoMaArtists[\"ConstituentID\"] = MoMaArtists[\"ConstituentID\"].astype(str)\n",
    "MoMa = pd.merge(MoMaArtworks,MoMaArtists[['ConstituentID', 'Wiki QID']],on='ConstituentID', how='left')\n",
    "MoMa.rename(columns = {'ConstituentID':'Id', 'BeginDate':'BirthDate', 'EndDate':'DeathDate'}, inplace = True)"
   ]
  },
  {
   "cell_type": "code",
   "execution_count": 3,
   "id": "1113d1c2",
   "metadata": {},
   "outputs": [],
   "source": [
    "def cleanWikiIDs(id):\n",
    "    id = 'wd:'+id\n",
    "    return id"
   ]
  },
  {
   "cell_type": "code",
   "execution_count": 4,
   "id": "77f61b45",
   "metadata": {},
   "outputs": [
    {
     "data": {
      "text/plain": [
       "'MoMa = MoMa.drop_duplicates(subset=\\'Artist\\', keep=\"first\")\\nMoMa[\"Wiki QID\"] = MoMa[\"Wiki QID\"].apply(cleanWikiIDs)'"
      ]
     },
     "execution_count": 4,
     "metadata": {},
     "output_type": "execute_result"
    }
   ],
   "source": [
    "'''MoMa = MoMa.drop_duplicates(subset='Artist', keep=\"first\")\n",
    "MoMa[\"Wiki QID\"] = MoMa[\"Wiki QID\"].apply(cleanWikiIDs)'''"
   ]
  },
  {
   "cell_type": "markdown",
   "id": "ad3eb34e",
   "metadata": {},
   "source": [
    "# Tate"
   ]
  },
  {
   "cell_type": "code",
   "execution_count": 183,
   "id": "230e2005",
   "metadata": {},
   "outputs": [
    {
     "name": "stderr",
     "output_type": "stream",
     "text": [
      "C:\\Users\\Francesca\\AppData\\Roaming\\Python\\Python39\\site-packages\\IPython\\core\\interactiveshell.py:3172: DtypeWarning: Columns (9,13) have mixed types.Specify dtype option on import or set low_memory=False.\n",
      "  has_raised = await self.run_ast_nodes(code_ast.body, cell_name,\n",
      "C:\\Users\\Francesca\\AppData\\Roaming\\Python\\Python39\\site-packages\\pandas\\core\\frame.py:4438: SettingWithCopyWarning: \n",
      "A value is trying to be set on a copy of a slice from a DataFrame\n",
      "\n",
      "See the caveats in the documentation: https://pandas.pydata.org/pandas-docs/stable/user_guide/indexing.html#returning-a-view-versus-a-copy\n",
      "  return super().rename(\n",
      "C:\\Users\\Francesca\\AppData\\Roaming\\Python\\Python39\\site-packages\\pandas\\core\\generic.py:5489: SettingWithCopyWarning: \n",
      "A value is trying to be set on a copy of a slice from a DataFrame.\n",
      "Try using .loc[row_indexer,col_indexer] = value instead\n",
      "\n",
      "See the caveats in the documentation: https://pandas.pydata.org/pandas-docs/stable/user_guide/indexing.html#returning-a-view-versus-a-copy\n",
      "  self[name] = value\n"
     ]
    }
   ],
   "source": [
    "spreadsheet = pd.read_csv('https://raw.githubusercontent.com/tategallery/collection/master/artwork_data.csv')\n",
    "pd.set_option('display.max_columns', None)\n",
    "TateArtworks = spreadsheet[['artist', 'artistId', 'title', 'medium', 'creditLine', 'year', 'acquisitionYear', 'url']]\n",
    "TateArtworks.rename(columns = {'artistId':'id'}, inplace = True)\n",
    "TateArtworks.id = TateArtworks.id.astype(str)\n",
    "TateArtists = pd.read_csv('https://raw.githubusercontent.com/tategallery/collection/master/artist_data.csv')\n",
    "TateArtists[\"id\"] = TateArtists[\"id\"].astype(str)\n",
    "Tate = pd.merge(TateArtworks,TateArtists[['id', 'gender', 'yearOfBirth', 'yearOfDeath']], on='id', how='left')\n",
    "Tate.rename(columns = {'artist':'Artist', 'id':'Id', 'title':'Title', 'yearOfBirth':'BirthDate', 'yearOfDeath':'DeathDate', 'medium':'Medium', 'creditLine':'CreditLine', 'year':'Date', 'acquisitionYear':'DateAcquired', 'url':'URL', 'gender':'Gender'}, inplace = True)"
   ]
  },
  {
   "cell_type": "markdown",
   "id": "4cbe6cdc",
   "metadata": {},
   "source": [
    "# Cleaning up"
   ]
  },
  {
   "cell_type": "markdown",
   "id": "685674f7",
   "metadata": {},
   "source": [
    "## MoMa"
   ]
  },
  {
   "cell_type": "markdown",
   "id": "312320f0",
   "metadata": {},
   "source": [
    "Let's get rid of nan values:"
   ]
  },
  {
   "cell_type": "code",
   "execution_count": 184,
   "id": "77df53c2",
   "metadata": {},
   "outputs": [],
   "source": [
    "MoMa.fillna(value='0', inplace=True)"
   ]
  },
  {
   "cell_type": "markdown",
   "id": "0ee439d9",
   "metadata": {},
   "source": [
    "Clean MoMa Acquisition Dates: they are on the form YYYY-MM-DD. We just want the YYYY as an int."
   ]
  },
  {
   "cell_type": "code",
   "execution_count": 7,
   "id": "ff21ea5e",
   "metadata": {},
   "outputs": [],
   "source": [
    "def cleanAcquisitionDatesMoMa(date):\n",
    "    if '-' in date:\n",
    "        date = date.split('-')[0]\n",
    "    return date"
   ]
  },
  {
   "cell_type": "code",
   "execution_count": 8,
   "id": "8bd34e79",
   "metadata": {},
   "outputs": [],
   "source": [
    "MoMa[\"DateAcquired\"] = MoMa[\"DateAcquired\"].apply(cleanAcquisitionDatesMoMa)"
   ]
  },
  {
   "cell_type": "markdown",
   "id": "6ddc69ef",
   "metadata": {},
   "source": [
    "Clean MoMa Artworks' Dates. <br>\n",
    "Indeed, they are in some unclear forms, such as:<br>\n",
    "(1950).  (Prints executed 1948<br>\n",
    "(1883, published 1897)<br>\n",
    "(1911, dated 1912, published c. 1917)<br>\n",
    "(April 9 and August 31, 1971)<br>\n",
    "(April 23) 1968<br>\n",
    "(journals published October 2003 through June 2004)<br>\n",
    "\n",
    "We just need the year."
   ]
  },
  {
   "cell_type": "code",
   "execution_count": 9,
   "id": "1f37e6b6",
   "metadata": {},
   "outputs": [],
   "source": [
    "def cleanDatesMoMa(date):\n",
    "    if '-' in date:\n",
    "        splitted = date.split('-')\n",
    "        date = ' '.join(splitted) \n",
    "    if '/' in date:\n",
    "        splitted = date.split('/')\n",
    "        date = ' '.join(splitted) \n",
    "    if ',' in date:\n",
    "        splitted = date.split(',')\n",
    "        date = ' '.join(splitted) \n",
    "    if '.' in date:\n",
    "        splitted = date.split('.')\n",
    "        date = ' '.join(splitted) \n",
    "        \n",
    "    x = re.search(\"\\d{4}\", date)\n",
    "    if x:\n",
    "        date = x.group()\n",
    "    else:\n",
    "        date = '0'\n",
    "    return date"
   ]
  },
  {
   "cell_type": "code",
   "execution_count": 10,
   "id": "55f3fb59",
   "metadata": {},
   "outputs": [],
   "source": [
    "MoMa[\"Date\"] = MoMa[\"Date\"].astype(str)\n",
    "MoMa[\"Date\"] = MoMa[\"Date\"].apply(cleanDatesMoMa)"
   ]
  },
  {
   "cell_type": "markdown",
   "id": "8d1529e9",
   "metadata": {},
   "source": [
    "## Tate"
   ]
  },
  {
   "cell_type": "markdown",
   "id": "f95b0188",
   "metadata": {},
   "source": [
    "Let's get rid of nan values and strings:"
   ]
  },
  {
   "cell_type": "code",
   "execution_count": 16,
   "id": "9be04376",
   "metadata": {},
   "outputs": [],
   "source": [
    "Tate.fillna(value='0', inplace=True)\n",
    "Tate['Date'].replace(to_replace='no date', value='0', inplace= True)\n",
    "Tate['Date'].replace(to_replace='c', value='0', inplace= True)"
   ]
  },
  {
   "cell_type": "markdown",
   "id": "3689e848",
   "metadata": {},
   "source": [
    "Clean Tate Acquisition and Artworks' Dates: they are on the form YYYY.0. We want an integer."
   ]
  },
  {
   "cell_type": "code",
   "execution_count": 17,
   "id": "2fd94497",
   "metadata": {},
   "outputs": [],
   "source": [
    "def cleanDatesTate(date):\n",
    "    if '.' in date:\n",
    "        date = date.split('.')[0] \n",
    "    return date"
   ]
  },
  {
   "cell_type": "code",
   "execution_count": 18,
   "id": "c851a9b4",
   "metadata": {},
   "outputs": [],
   "source": [
    "Tate[\"Date\"] = Tate[\"Date\"].astype(str)\n",
    "Tate[\"Date\"] = Tate[\"Date\"].apply(cleanDatesTate)\n",
    "\n",
    "Tate[\"DateAcquired\"] = Tate[\"DateAcquired\"].astype(str)\n",
    "Tate[\"DateAcquired\"] = Tate[\"DateAcquired\"].apply(cleanDatesTate)\n"
   ]
  },
  {
   "cell_type": "markdown",
   "id": "8443940f",
   "metadata": {},
   "source": [
    "# Exploration"
   ]
  },
  {
   "cell_type": "markdown",
   "id": "7aba335c",
   "metadata": {},
   "source": [
    "## How many artworks?"
   ]
  },
  {
   "cell_type": "code",
   "execution_count": 19,
   "id": "6c40b58b",
   "metadata": {},
   "outputs": [
    {
     "name": "stdout",
     "output_type": "stream",
     "text": [
      "Total artworks at Moma : 140848\n",
      "Total artworks at Tate : 69201\n"
     ]
    }
   ],
   "source": [
    "museums=[MoMa, Tate]\n",
    "names = ['Moma','Tate']\n",
    "for museum in museums:\n",
    "    selected_rows = museum[~museum['Title'].isnull()]\n",
    "    name = names.pop(0)\n",
    "    print(\"Total artworks at\", name, \":\", len(selected_rows.index))"
   ]
  },
  {
   "cell_type": "markdown",
   "id": "1573723f",
   "metadata": {},
   "source": [
    "## When do artworks date back?"
   ]
  },
  {
   "cell_type": "code",
   "execution_count": 20,
   "id": "5a78244a",
   "metadata": {},
   "outputs": [
    {
     "name": "stdout",
     "output_type": "stream",
     "text": [
      "Most ancient artwork at Moma dates back to 1768\n",
      "Most receny artwork at Moma dates back to 2022\n",
      "Most ancient artwork at Tate dates back to 1545\n",
      "Most receny artwork at Tate dates back to 2012\n"
     ]
    }
   ],
   "source": [
    "museums=[MoMa, Tate]\n",
    "names = ['Moma','Tate']\n",
    "for museum in museums:\n",
    "    museum[\"Date\"] = museum[\"Date\"].astype(int)\n",
    "    museum.sort_values(by=['Date'], inplace=True)\n",
    "    museumWithoutZeros = museum[museum['Date'] != 0]\n",
    "    firstDate = museumWithoutZeros['Date'].iat[0]\n",
    "    lastDate = museumWithoutZeros['Date'].iat[-1]\n",
    "    name = names.pop(0)\n",
    "    print(\"Most ancient artwork at\", name, \"dates back to\",firstDate )\n",
    "    print(\"Most receny artwork at\", name, \"dates back to\",lastDate )    "
   ]
  },
  {
   "cell_type": "markdown",
   "id": "a0cc424a",
   "metadata": {},
   "source": [
    "## When were artworks acquired?"
   ]
  },
  {
   "cell_type": "code",
   "execution_count": 21,
   "id": "e0bd93f1",
   "metadata": {},
   "outputs": [
    {
     "name": "stdout",
     "output_type": "stream",
     "text": [
      "Most ancient artwork at Moma dates back to 1929\n",
      "Most receny artwork at Moma dates back to 2022\n",
      "Most ancient artwork at Tate dates back to 1823\n",
      "Most receny artwork at Tate dates back to 2012\n"
     ]
    }
   ],
   "source": [
    "museums=[MoMa, Tate]\n",
    "names = ['Moma','Tate']\n",
    "for museum in museums:\n",
    "    museum[\"DateAcquired\"] = museum[\"DateAcquired\"].astype(int)\n",
    "    museum.sort_values(by=['DateAcquired'], inplace=True)\n",
    "    museumWithoutZeros = museum[museum['DateAcquired'] != 0]\n",
    "    firstDate = museumWithoutZeros['DateAcquired'].iat[0]\n",
    "    lastDate = museumWithoutZeros['Date'].iat[-1]\n",
    "    name = names.pop(0)\n",
    "    print(\"Most ancient artwork at\", name, \"dates back to\",firstDate )\n",
    "    print(\"Most receny artwork at\", name, \"dates back to\",lastDate )    "
   ]
  },
  {
   "cell_type": "markdown",
   "id": "b13405e8",
   "metadata": {},
   "source": [
    "## Artists"
   ]
  },
  {
   "cell_type": "markdown",
   "id": "b65736d4",
   "metadata": {},
   "source": [
    "For examining artist-related issues, we will rely on the specific csvs from the museums, whoch we already transformed into dataframes."
   ]
  },
  {
   "cell_type": "markdown",
   "id": "b137c7b0",
   "metadata": {},
   "source": [
    "### How many artists?"
   ]
  },
  {
   "cell_type": "markdown",
   "id": "f54a29d9",
   "metadata": {},
   "source": [
    "print('Total number of artists at MoMa', len(MoMaArtists))"
   ]
  },
  {
   "cell_type": "code",
   "execution_count": 22,
   "id": "f9331981",
   "metadata": {},
   "outputs": [
    {
     "name": "stdout",
     "output_type": "stream",
     "text": [
      "Total number of artists at Tate 3532\n"
     ]
    }
   ],
   "source": [
    "print('Total number of artists at Tate', len(TateArtists))"
   ]
  },
  {
   "cell_type": "markdown",
   "id": "13cba1c1",
   "metadata": {},
   "source": [
    "### What is the most represented gender?"
   ]
  },
  {
   "cell_type": "code",
   "execution_count": 23,
   "id": "75a127ae",
   "metadata": {},
   "outputs": [
    {
     "data": {
      "text/plain": [
       "Male      2895\n",
       "Female     521\n",
       "Name: gender, dtype: int64"
      ]
     },
     "execution_count": 23,
     "metadata": {},
     "output_type": "execute_result"
    }
   ],
   "source": [
    "TateArtists['gender'].value_counts()"
   ]
  },
  {
   "cell_type": "code",
   "execution_count": 24,
   "id": "a6baffe0",
   "metadata": {},
   "outputs": [
    {
     "data": {
      "text/plain": [
       "Male          9715\n",
       "Female        2342\n",
       "male            17\n",
       "Non-Binary       2\n",
       "female           1\n",
       "Non-binary       1\n",
       "Name: Gender, dtype: int64"
      ]
     },
     "execution_count": 24,
     "metadata": {},
     "output_type": "execute_result"
    }
   ],
   "source": [
    "MoMaArtists['Gender'].value_counts()"
   ]
  },
  {
   "cell_type": "markdown",
   "id": "fa1248eb",
   "metadata": {},
   "source": [
    "### What are the most represented nationalities?"
   ]
  },
  {
   "cell_type": "markdown",
   "id": "6c14ec01",
   "metadata": {},
   "source": [
    "Since artists' names are in the form 'Surname, Name', we use a function to normalise that as 'Name Surname'."
   ]
  },
  {
   "cell_type": "code",
   "execution_count": 33,
   "id": "7096addc",
   "metadata": {},
   "outputs": [],
   "source": [
    "import pandas as pd\n",
    "import numpy as np\n",
    "import re\n",
    "from datetime import datetime\n",
    "from collections import defaultdict\n",
    "from json import JSONDecodeError\n",
    "from qwikidata.sparql import return_sparql_query_results # python library for working with sparql and linked data from WikiData\n",
    "import time\n",
    "from requests.exceptions import ChunkedEncodingError\n",
    "import math\n",
    "#from SPARQLWrapper import SPARQLWrapper, JSON # sparql query library\n",
    "import ssl"
   ]
  },
  {
   "cell_type": "code",
   "execution_count": 34,
   "id": "9e992465",
   "metadata": {},
   "outputs": [],
   "source": [
    "def cleanArtistsNames(name):\n",
    "    if ',' in name:\n",
    "        name= name.split(',')\n",
    "        name[0], name[1] = name[1], name[0]\n",
    "        name = ' '.join(name)\n",
    "    return name"
   ]
  },
  {
   "cell_type": "code",
   "execution_count": 185,
   "id": "80805d46",
   "metadata": {
    "scrolled": true
   },
   "outputs": [
    {
     "data": {
      "text/html": [
       "<div>\n",
       "<style scoped>\n",
       "    .dataframe tbody tr th:only-of-type {\n",
       "        vertical-align: middle;\n",
       "    }\n",
       "\n",
       "    .dataframe tbody tr th {\n",
       "        vertical-align: top;\n",
       "    }\n",
       "\n",
       "    .dataframe thead th {\n",
       "        text-align: right;\n",
       "    }\n",
       "</style>\n",
       "<table border=\"1\" class=\"dataframe\">\n",
       "  <thead>\n",
       "    <tr style=\"text-align: right;\">\n",
       "      <th></th>\n",
       "      <th>id</th>\n",
       "      <th>name</th>\n",
       "      <th>gender</th>\n",
       "      <th>dates</th>\n",
       "      <th>yearOfBirth</th>\n",
       "      <th>yearOfDeath</th>\n",
       "      <th>placeOfBirth</th>\n",
       "      <th>placeOfDeath</th>\n",
       "      <th>url</th>\n",
       "    </tr>\n",
       "  </thead>\n",
       "  <tbody>\n",
       "    <tr>\n",
       "      <th>0</th>\n",
       "      <td>10093</td>\n",
       "      <td>Magdalena Abakanowicz</td>\n",
       "      <td>Female</td>\n",
       "      <td>born 1930</td>\n",
       "      <td>1930.0</td>\n",
       "      <td>NaN</td>\n",
       "      <td>Polska</td>\n",
       "      <td>NaN</td>\n",
       "      <td>http://www.tate.org.uk/art/artists/magdalena-abakanowicz-10093</td>\n",
       "    </tr>\n",
       "    <tr>\n",
       "      <th>1</th>\n",
       "      <td>0</td>\n",
       "      <td>Edwin Austin Abbey</td>\n",
       "      <td>Male</td>\n",
       "      <td>1852–1911</td>\n",
       "      <td>1852.0</td>\n",
       "      <td>1911.0</td>\n",
       "      <td>Philadelphia, United States</td>\n",
       "      <td>London, United Kingdom</td>\n",
       "      <td>http://www.tate.org.uk/art/artists/edwin-austin-abbey-0</td>\n",
       "    </tr>\n",
       "    <tr>\n",
       "      <th>2</th>\n",
       "      <td>2756</td>\n",
       "      <td>Berenice Abbott</td>\n",
       "      <td>Female</td>\n",
       "      <td>1898–1991</td>\n",
       "      <td>1898.0</td>\n",
       "      <td>1991.0</td>\n",
       "      <td>Springfield, United States</td>\n",
       "      <td>Monson, United States</td>\n",
       "      <td>http://www.tate.org.uk/art/artists/berenice-abbott-2756</td>\n",
       "    </tr>\n",
       "    <tr>\n",
       "      <th>3</th>\n",
       "      <td>1</td>\n",
       "      <td>Lemuel Francis Abbott</td>\n",
       "      <td>Male</td>\n",
       "      <td>1760–1803</td>\n",
       "      <td>1760.0</td>\n",
       "      <td>1803.0</td>\n",
       "      <td>Leicestershire, United Kingdom</td>\n",
       "      <td>London, United Kingdom</td>\n",
       "      <td>http://www.tate.org.uk/art/artists/lemuel-francis-abbott-1</td>\n",
       "    </tr>\n",
       "  </tbody>\n",
       "</table>\n",
       "</div>"
      ],
      "text/plain": [
       "      id                    name  gender      dates  yearOfBirth  yearOfDeath  \\\n",
       "0  10093   Magdalena Abakanowicz  Female  born 1930       1930.0          NaN   \n",
       "1      0      Edwin Austin Abbey    Male  1852–1911       1852.0       1911.0   \n",
       "2   2756         Berenice Abbott  Female  1898–1991       1898.0       1991.0   \n",
       "3      1   Lemuel Francis Abbott    Male  1760–1803       1760.0       1803.0   \n",
       "\n",
       "                     placeOfBirth            placeOfDeath  \\\n",
       "0                          Polska                     NaN   \n",
       "1     Philadelphia, United States  London, United Kingdom   \n",
       "2      Springfield, United States   Monson, United States   \n",
       "3  Leicestershire, United Kingdom  London, United Kingdom   \n",
       "\n",
       "                                                              url  \n",
       "0  http://www.tate.org.uk/art/artists/magdalena-abakanowicz-10093  \n",
       "1         http://www.tate.org.uk/art/artists/edwin-austin-abbey-0  \n",
       "2         http://www.tate.org.uk/art/artists/berenice-abbott-2756  \n",
       "3      http://www.tate.org.uk/art/artists/lemuel-francis-abbott-1  "
      ]
     },
     "metadata": {},
     "output_type": "display_data"
    }
   ],
   "source": [
    "TateArtists[\"name\"] = TateArtists[\"name\"].apply(cleanArtistsNames)\n",
    "TateArtists= TateArtists.iloc[:4]\n",
    "display(TateArtists)"
   ]
  },
  {
   "cell_type": "code",
   "execution_count": 198,
   "id": "39cf1579",
   "metadata": {},
   "outputs": [],
   "source": [
    "artists_genders_from_ids = \"\"\"\n",
    "SELECT DISTINCT ?artist\n",
    "\n",
    "WHERE {{\n",
    "    ?artist wdt:P31 wd:Q5 ;\n",
    "            wdt:P106 ?occupation\n",
    "                  FILTER (?occupation IN (wd:Q1281618, wd:Q1028181) )    \n",
    "    ?artist rdfs:label ?o\n",
    "                  FILTER ( str(?o) = \"{}\" ).\n",
    "}}\n",
    "\n",
    "\"\"\""
   ]
  },
  {
   "cell_type": "code",
   "execution_count": 199,
   "id": "b2eac00f",
   "metadata": {},
   "outputs": [],
   "source": [
    "def find_artists_genders_from_ids(name):\n",
    "    query = artists_genders_from_ids.format(name.strip())\n",
    "    print(query)\n",
    "    res = return_sparql_query_results(query_string=query)\n",
    "    try:\n",
    "        wdt_uri = res['results']['bindings'][0]['artist']['value']\n",
    "    except (IndexError, KeyError):\n",
    "        return \"\"\n",
    "    return wdt_uri.split(\"/\")[-1]"
   ]
  },
  {
   "cell_type": "code",
   "execution_count": 200,
   "id": "e9feeee9",
   "metadata": {
    "scrolled": true
   },
   "outputs": [
    {
     "name": "stdout",
     "output_type": "stream",
     "text": [
      "\n",
      "SELECT DISTINCT ?artist\n",
      "\n",
      "WHERE {\n",
      "    ?artist wdt:P31 wd:Q5 ;\n",
      "            wdt:P106 ?occupation\n",
      "                  FILTER (?occupation IN (wd:Q1281618, wd:Q1028181) )    \n",
      "    ?artist rdfs:label ?o\n",
      "                  FILTER ( str(?o) = \"Magdalena Abakanowicz\" ).\n",
      "}\n",
      "\n",
      "\n",
      "\n",
      "SELECT DISTINCT ?artist\n",
      "\n",
      "WHERE {\n",
      "    ?artist wdt:P31 wd:Q5 ;\n",
      "            wdt:P106 ?occupation\n",
      "                  FILTER (?occupation IN (wd:Q1281618, wd:Q1028181) )    \n",
      "    ?artist rdfs:label ?o\n",
      "                  FILTER ( str(?o) = \"Edwin Austin Abbey\" ).\n",
      "}\n",
      "\n",
      "\n",
      "\n",
      "SELECT DISTINCT ?artist\n",
      "\n",
      "WHERE {\n",
      "    ?artist wdt:P31 wd:Q5 ;\n",
      "            wdt:P106 ?occupation\n",
      "                  FILTER (?occupation IN (wd:Q1281618, wd:Q1028181) )    \n",
      "    ?artist rdfs:label ?o\n",
      "                  FILTER ( str(?o) = \"Berenice Abbott\" ).\n",
      "}\n",
      "\n",
      "\n",
      "\n",
      "SELECT DISTINCT ?artist\n",
      "\n",
      "WHERE {\n",
      "    ?artist wdt:P31 wd:Q5 ;\n",
      "            wdt:P106 ?occupation\n",
      "                  FILTER (?occupation IN (wd:Q1281618, wd:Q1028181) )    \n",
      "    ?artist rdfs:label ?o\n",
      "                  FILTER ( str(?o) = \"Lemuel Francis Abbott\" ).\n",
      "}\n",
      "\n",
      "\n"
     ]
    },
    {
     "data": {
      "text/html": [
       "<div>\n",
       "<style scoped>\n",
       "    .dataframe tbody tr th:only-of-type {\n",
       "        vertical-align: middle;\n",
       "    }\n",
       "\n",
       "    .dataframe tbody tr th {\n",
       "        vertical-align: top;\n",
       "    }\n",
       "\n",
       "    .dataframe thead th {\n",
       "        text-align: right;\n",
       "    }\n",
       "</style>\n",
       "<table border=\"1\" class=\"dataframe\">\n",
       "  <thead>\n",
       "    <tr style=\"text-align: right;\">\n",
       "      <th></th>\n",
       "      <th>id</th>\n",
       "      <th>name</th>\n",
       "      <th>gender</th>\n",
       "      <th>dates</th>\n",
       "      <th>yearOfBirth</th>\n",
       "      <th>yearOfDeath</th>\n",
       "      <th>placeOfBirth</th>\n",
       "      <th>placeOfDeath</th>\n",
       "      <th>url</th>\n",
       "      <th>Artist Entity</th>\n",
       "    </tr>\n",
       "  </thead>\n",
       "  <tbody>\n",
       "    <tr>\n",
       "      <th>0</th>\n",
       "      <td>10093</td>\n",
       "      <td>Magdalena Abakanowicz</td>\n",
       "      <td>Female</td>\n",
       "      <td>born 1930</td>\n",
       "      <td>1930.0</td>\n",
       "      <td>NaN</td>\n",
       "      <td>Polska</td>\n",
       "      <td>NaN</td>\n",
       "      <td>http://www.tate.org.uk/art/artists/magdalena-abakanowicz-10093</td>\n",
       "      <td>Q158080</td>\n",
       "    </tr>\n",
       "    <tr>\n",
       "      <th>1</th>\n",
       "      <td>0</td>\n",
       "      <td>Edwin Austin Abbey</td>\n",
       "      <td>Male</td>\n",
       "      <td>1852–1911</td>\n",
       "      <td>1852.0</td>\n",
       "      <td>1911.0</td>\n",
       "      <td>Philadelphia, United States</td>\n",
       "      <td>London, United Kingdom</td>\n",
       "      <td>http://www.tate.org.uk/art/artists/edwin-austin-abbey-0</td>\n",
       "      <td>Q259538</td>\n",
       "    </tr>\n",
       "    <tr>\n",
       "      <th>2</th>\n",
       "      <td>2756</td>\n",
       "      <td>Berenice Abbott</td>\n",
       "      <td>Female</td>\n",
       "      <td>1898–1991</td>\n",
       "      <td>1898.0</td>\n",
       "      <td>1991.0</td>\n",
       "      <td>Springfield, United States</td>\n",
       "      <td>Monson, United States</td>\n",
       "      <td>http://www.tate.org.uk/art/artists/berenice-abbott-2756</td>\n",
       "      <td></td>\n",
       "    </tr>\n",
       "    <tr>\n",
       "      <th>3</th>\n",
       "      <td>1</td>\n",
       "      <td>Lemuel Francis Abbott</td>\n",
       "      <td>Male</td>\n",
       "      <td>1760–1803</td>\n",
       "      <td>1760.0</td>\n",
       "      <td>1803.0</td>\n",
       "      <td>Leicestershire, United Kingdom</td>\n",
       "      <td>London, United Kingdom</td>\n",
       "      <td>http://www.tate.org.uk/art/artists/lemuel-francis-abbott-1</td>\n",
       "      <td>Q725410</td>\n",
       "    </tr>\n",
       "  </tbody>\n",
       "</table>\n",
       "</div>"
      ],
      "text/plain": [
       "      id                    name  gender      dates  yearOfBirth  yearOfDeath  \\\n",
       "0  10093   Magdalena Abakanowicz  Female  born 1930       1930.0          NaN   \n",
       "1      0      Edwin Austin Abbey    Male  1852–1911       1852.0       1911.0   \n",
       "2   2756         Berenice Abbott  Female  1898–1991       1898.0       1991.0   \n",
       "3      1   Lemuel Francis Abbott    Male  1760–1803       1760.0       1803.0   \n",
       "\n",
       "                     placeOfBirth            placeOfDeath  \\\n",
       "0                          Polska                     NaN   \n",
       "1     Philadelphia, United States  London, United Kingdom   \n",
       "2      Springfield, United States   Monson, United States   \n",
       "3  Leicestershire, United Kingdom  London, United Kingdom   \n",
       "\n",
       "                                                              url  \\\n",
       "0  http://www.tate.org.uk/art/artists/magdalena-abakanowicz-10093   \n",
       "1         http://www.tate.org.uk/art/artists/edwin-austin-abbey-0   \n",
       "2         http://www.tate.org.uk/art/artists/berenice-abbott-2756   \n",
       "3      http://www.tate.org.uk/art/artists/lemuel-francis-abbott-1   \n",
       "\n",
       "  Artist Entity  \n",
       "0       Q158080  \n",
       "1       Q259538  \n",
       "2                \n",
       "3       Q725410  "
      ]
     },
     "metadata": {},
     "output_type": "display_data"
    }
   ],
   "source": [
    "TateArtists[\"Artist Entity\"] = TateArtists[\"name\"].apply(find_artists_genders_from_ids)\n",
    "pd.set_option('display.max_colwidth', None)\n",
    "display(TateArtists)"
   ]
  },
  {
   "cell_type": "code",
   "execution_count": 136,
   "id": "e8ed3ac9",
   "metadata": {},
   "outputs": [
    {
     "name": "stdout",
     "output_type": "stream",
     "text": [
      "{'head': {'vars': ['artist']}, 'results': {'bindings': [{'artist': {'type': 'uri', 'value': 'http://www.wikidata.org/entity/Q158080'}}]}}\n",
      "http://www.wikidata.org/entity/Q158080\n"
     ]
    }
   ],
   "source": [
    "from rdflib import Namespace , Literal , URIRef\n",
    "from rdflib.namespace import RDF , RDFS\n",
    "from SPARQLWrapper import SPARQLWrapper, JSON\n",
    "import ssl\n",
    "import rdflib\n",
    "\n",
    "ssl._create_default_https_context = ssl._create_unverified_context\n",
    "\n",
    "# get the endpoint API\n",
    "wikidata_endpoint = \"https://query.wikidata.org/bigdata/namespace/wdq/sparql\"\n",
    "\n",
    "artistsIds = TateArtists[\"name\"].values\n",
    "artistsSlot = artistsIds[:5]\n",
    "artists = \"leonardo\" #' '.join(artistsSlot) ['roberto giovanni luca']\n",
    "\n",
    "miao = \"Robert Blake\"\n",
    "artists_genders_from_ids = \"\"\"\n",
    "SELECT DISTINCT ?artist\n",
    "\n",
    "WHERE {{\n",
    "    ?artist wdt:P31 wd:Q5 ;\n",
    "            wdt:P106 ?occupation\n",
    "                  FILTER (?occupation IN (wd:Q1281618) )   \n",
    "    ?artist rdfs:label ?o\n",
    "                  FILTER ( str(?o) = \"Magdalena Abakanowicz\").\n",
    "}}\n",
    "\n",
    "\"\"\"\n",
    "\n",
    "# set the endpoint \n",
    "sparql_wd = SPARQLWrapper(wikidata_endpoint)\n",
    "# set the query\n",
    "sparql_wd.setQuery(artists_genders_from_ids)\n",
    "# set the returned format\n",
    "sparql_wd.setReturnFormat(JSON)\n",
    "# get the results\n",
    "results = sparql_wd.query().convert()\n",
    "print(results)\n",
    "\n",
    "# manipulate the result\n",
    "for result in results[\"results\"][\"bindings\"]:\n",
    "    artists_id =  result[\"artist\"][\"value\"]\n",
    "    print(artists_id)"
   ]
  },
  {
   "cell_type": "code",
   "execution_count": null,
   "id": "4431fb24",
   "metadata": {},
   "outputs": [],
   "source": [
    "searchWiki(0, TateArtists)"
   ]
  },
  {
   "cell_type": "code",
   "execution_count": null,
   "id": "2db65da0",
   "metadata": {},
   "outputs": [],
   "source": []
  }
 ],
 "metadata": {
  "kernelspec": {
   "display_name": "Python 3 (ipykernel)",
   "language": "python",
   "name": "python3"
  },
  "language_info": {
   "codemirror_mode": {
    "name": "ipython",
    "version": 3
   },
   "file_extension": ".py",
   "mimetype": "text/x-python",
   "name": "python",
   "nbconvert_exporter": "python",
   "pygments_lexer": "ipython3",
   "version": "3.9.0"
  }
 },
 "nbformat": 4,
 "nbformat_minor": 5
}
