{
 "cells": [
  {
   "cell_type": "code",
   "execution_count": 137,
   "id": "e56599bf",
   "metadata": {},
   "outputs": [],
   "source": [
    "import pandas as pd\n",
    "import csv\n",
    "import re"
   ]
  },
  {
   "cell_type": "markdown",
   "id": "e62849f7",
   "metadata": {},
   "source": [
    "# MoMa"
   ]
  },
  {
   "cell_type": "code",
   "execution_count": 138,
   "id": "8ffccf4e",
   "metadata": {},
   "outputs": [],
   "source": [
    "spreadsheet = pd.read_csv('https://media.githubusercontent.com/media/MuseumofModernArt/collection/master/Artworks.csv')\n",
    "pd.set_option('display.max_columns', None)\n",
    "artworks = spreadsheet[['Title', 'Artist', 'ConstituentID', 'Nationality', 'BeginDate', 'EndDate', 'Gender', 'Date', 'Medium', 'CreditLine', 'Classification', 'Department', 'DateAcquired', 'URL']]\n",
    "artists = pd.read_csv('https://media.githubusercontent.com/media/MuseumofModernArt/collection/master/Artists.csv')\n",
    "artists[\"ConstituentID\"] = artists[\"ConstituentID\"].astype(str)\n",
    "MoMa = pd.merge(artworks,artists[['ConstituentID', 'Wiki QID']],on='ConstituentID', how='left')\n",
    "MoMa.rename(columns = {'ConstituentID':'Id', 'BeginDate':'BirthDate', 'EndDate':'DeathDate'}, inplace = True)"
   ]
  },
  {
   "cell_type": "code",
   "execution_count": 139,
   "id": "1113d1c2",
   "metadata": {},
   "outputs": [],
   "source": [
    "def cleanWikiIDs(id):\n",
    "    id = 'wd:'+id\n",
    "    return id"
   ]
  },
  {
   "cell_type": "code",
   "execution_count": 140,
   "id": "77f61b45",
   "metadata": {},
   "outputs": [
    {
     "ename": "TypeError",
     "evalue": "can only concatenate str (not \"float\") to str",
     "output_type": "error",
     "traceback": [
      "\u001b[1;31m---------------------------------------------------------------------------\u001b[0m",
      "\u001b[1;31mTypeError\u001b[0m                                 Traceback (most recent call last)",
      "\u001b[1;32mC:\\Users\\FRANCE~1\\AppData\\Local\\Temp/ipykernel_14392/3056317905.py\u001b[0m in \u001b[0;36m<module>\u001b[1;34m\u001b[0m\n\u001b[0;32m      1\u001b[0m \u001b[0mMoMa\u001b[0m \u001b[1;33m=\u001b[0m \u001b[0mMoMa\u001b[0m\u001b[1;33m.\u001b[0m\u001b[0mdrop_duplicates\u001b[0m\u001b[1;33m(\u001b[0m\u001b[0msubset\u001b[0m\u001b[1;33m=\u001b[0m\u001b[1;34m'Artist'\u001b[0m\u001b[1;33m,\u001b[0m \u001b[0mkeep\u001b[0m\u001b[1;33m=\u001b[0m\u001b[1;34m\"first\"\u001b[0m\u001b[1;33m)\u001b[0m\u001b[1;33m\u001b[0m\u001b[1;33m\u001b[0m\u001b[0m\n\u001b[1;32m----> 2\u001b[1;33m \u001b[0mMoMa\u001b[0m\u001b[1;33m[\u001b[0m\u001b[1;34m\"Wiki QID\"\u001b[0m\u001b[1;33m]\u001b[0m \u001b[1;33m=\u001b[0m \u001b[0mMoMa\u001b[0m\u001b[1;33m[\u001b[0m\u001b[1;34m\"Wiki QID\"\u001b[0m\u001b[1;33m]\u001b[0m\u001b[1;33m.\u001b[0m\u001b[0mapply\u001b[0m\u001b[1;33m(\u001b[0m\u001b[0mcleanWikiIDs\u001b[0m\u001b[1;33m)\u001b[0m\u001b[1;33m\u001b[0m\u001b[1;33m\u001b[0m\u001b[0m\n\u001b[0m",
      "\u001b[1;32m~\\AppData\\Roaming\\Python\\Python39\\site-packages\\pandas\\core\\series.py\u001b[0m in \u001b[0;36mapply\u001b[1;34m(self, func, convert_dtype, args, **kwds)\u001b[0m\n\u001b[0;32m   4106\u001b[0m             \u001b[1;32melse\u001b[0m\u001b[1;33m:\u001b[0m\u001b[1;33m\u001b[0m\u001b[1;33m\u001b[0m\u001b[0m\n\u001b[0;32m   4107\u001b[0m                 \u001b[0mvalues\u001b[0m \u001b[1;33m=\u001b[0m \u001b[0mself\u001b[0m\u001b[1;33m.\u001b[0m\u001b[0mastype\u001b[0m\u001b[1;33m(\u001b[0m\u001b[0mobject\u001b[0m\u001b[1;33m)\u001b[0m\u001b[1;33m.\u001b[0m\u001b[0m_values\u001b[0m\u001b[1;33m\u001b[0m\u001b[1;33m\u001b[0m\u001b[0m\n\u001b[1;32m-> 4108\u001b[1;33m                 \u001b[0mmapped\u001b[0m \u001b[1;33m=\u001b[0m \u001b[0mlib\u001b[0m\u001b[1;33m.\u001b[0m\u001b[0mmap_infer\u001b[0m\u001b[1;33m(\u001b[0m\u001b[0mvalues\u001b[0m\u001b[1;33m,\u001b[0m \u001b[0mf\u001b[0m\u001b[1;33m,\u001b[0m \u001b[0mconvert\u001b[0m\u001b[1;33m=\u001b[0m\u001b[0mconvert_dtype\u001b[0m\u001b[1;33m)\u001b[0m\u001b[1;33m\u001b[0m\u001b[1;33m\u001b[0m\u001b[0m\n\u001b[0m\u001b[0;32m   4109\u001b[0m \u001b[1;33m\u001b[0m\u001b[0m\n\u001b[0;32m   4110\u001b[0m         \u001b[1;32mif\u001b[0m \u001b[0mlen\u001b[0m\u001b[1;33m(\u001b[0m\u001b[0mmapped\u001b[0m\u001b[1;33m)\u001b[0m \u001b[1;32mand\u001b[0m \u001b[0misinstance\u001b[0m\u001b[1;33m(\u001b[0m\u001b[0mmapped\u001b[0m\u001b[1;33m[\u001b[0m\u001b[1;36m0\u001b[0m\u001b[1;33m]\u001b[0m\u001b[1;33m,\u001b[0m \u001b[0mSeries\u001b[0m\u001b[1;33m)\u001b[0m\u001b[1;33m:\u001b[0m\u001b[1;33m\u001b[0m\u001b[1;33m\u001b[0m\u001b[0m\n",
      "\u001b[1;32mpandas\\_libs\\lib.pyx\u001b[0m in \u001b[0;36mpandas._libs.lib.map_infer\u001b[1;34m()\u001b[0m\n",
      "\u001b[1;32mC:\\Users\\FRANCE~1\\AppData\\Local\\Temp/ipykernel_14392/761529349.py\u001b[0m in \u001b[0;36mcleanWikiIDs\u001b[1;34m(id)\u001b[0m\n\u001b[0;32m      1\u001b[0m \u001b[1;32mdef\u001b[0m \u001b[0mcleanWikiIDs\u001b[0m\u001b[1;33m(\u001b[0m\u001b[0mid\u001b[0m\u001b[1;33m)\u001b[0m\u001b[1;33m:\u001b[0m\u001b[1;33m\u001b[0m\u001b[1;33m\u001b[0m\u001b[0m\n\u001b[1;32m----> 2\u001b[1;33m     \u001b[0mid\u001b[0m \u001b[1;33m=\u001b[0m \u001b[1;34m'wd:'\u001b[0m\u001b[1;33m+\u001b[0m\u001b[0mid\u001b[0m\u001b[1;33m\u001b[0m\u001b[1;33m\u001b[0m\u001b[0m\n\u001b[0m\u001b[0;32m      3\u001b[0m     \u001b[1;32mreturn\u001b[0m \u001b[0mid\u001b[0m\u001b[1;33m\u001b[0m\u001b[1;33m\u001b[0m\u001b[0m\n",
      "\u001b[1;31mTypeError\u001b[0m: can only concatenate str (not \"float\") to str"
     ]
    }
   ],
   "source": [
    "'''MoMa = MoMa.drop_duplicates(subset='Artist', keep=\"first\")\n",
    "MoMa[\"Wiki QID\"] = MoMa[\"Wiki QID\"].apply(cleanWikiIDs)'''"
   ]
  },
  {
   "cell_type": "markdown",
   "id": "ad3eb34e",
   "metadata": {},
   "source": [
    "# Tate"
   ]
  },
  {
   "cell_type": "code",
   "execution_count": 141,
   "id": "230e2005",
   "metadata": {},
   "outputs": [
    {
     "name": "stderr",
     "output_type": "stream",
     "text": [
      "C:\\Users\\Francesca\\AppData\\Roaming\\Python\\Python39\\site-packages\\IPython\\core\\interactiveshell.py:3172: DtypeWarning: Columns (9,13) have mixed types.Specify dtype option on import or set low_memory=False.\n",
      "  has_raised = await self.run_ast_nodes(code_ast.body, cell_name,\n",
      "C:\\Users\\Francesca\\AppData\\Roaming\\Python\\Python39\\site-packages\\pandas\\core\\frame.py:4438: SettingWithCopyWarning: \n",
      "A value is trying to be set on a copy of a slice from a DataFrame\n",
      "\n",
      "See the caveats in the documentation: https://pandas.pydata.org/pandas-docs/stable/user_guide/indexing.html#returning-a-view-versus-a-copy\n",
      "  return super().rename(\n",
      "C:\\Users\\Francesca\\AppData\\Roaming\\Python\\Python39\\site-packages\\pandas\\core\\generic.py:5489: SettingWithCopyWarning: \n",
      "A value is trying to be set on a copy of a slice from a DataFrame.\n",
      "Try using .loc[row_indexer,col_indexer] = value instead\n",
      "\n",
      "See the caveats in the documentation: https://pandas.pydata.org/pandas-docs/stable/user_guide/indexing.html#returning-a-view-versus-a-copy\n",
      "  self[name] = value\n"
     ]
    }
   ],
   "source": [
    "spreadsheet = pd.read_csv('https://raw.githubusercontent.com/tategallery/collection/master/artwork_data.csv')\n",
    "pd.set_option('display.max_columns', None)\n",
    "artworks = spreadsheet[['artist', 'artistId', 'title', 'medium', 'creditLine', 'year', 'acquisitionYear', 'url']]\n",
    "artworks.rename(columns = {'artistId':'id'}, inplace = True)\n",
    "artworks.id = artworks.id.astype(str)\n",
    "artists = pd.read_csv('https://raw.githubusercontent.com/tategallery/collection/master/artist_data.csv')\n",
    "artists[\"id\"] = artists[\"id\"].astype(str)\n",
    "Tate = pd.merge(artworks,artists[['id', 'gender', 'yearOfBirth', 'yearOfDeath']], on='id', how='left')\n",
    "Tate.rename(columns = {'artist':'Artist', 'id':'Id', 'title':'Title', 'yearOfBirth':'BirthDate', 'yearOfDeath':'DeathDate', 'medium':'Medium', 'creditLine':'CreditLine', 'year':'Date', 'acquisitionYear':'DateAcquired', 'url':'URL', 'gender':'Gender'}, inplace = True)"
   ]
  },
  {
   "cell_type": "markdown",
   "id": "4cbe6cdc",
   "metadata": {},
   "source": [
    "# Cleaning up"
   ]
  },
  {
   "cell_type": "markdown",
   "id": "685674f7",
   "metadata": {},
   "source": [
    "## MoMa"
   ]
  },
  {
   "cell_type": "markdown",
   "id": "312320f0",
   "metadata": {},
   "source": [
    "Let's get rid of nan values:"
   ]
  },
  {
   "cell_type": "code",
   "execution_count": 142,
   "id": "77df53c2",
   "metadata": {},
   "outputs": [],
   "source": [
    "MoMa.fillna(value='0', inplace=True)"
   ]
  },
  {
   "cell_type": "markdown",
   "id": "0ee439d9",
   "metadata": {},
   "source": [
    "Clean MoMa Acquisition Dates: they are on the form YYYY-MM-DD. We just want the YYYY as an int."
   ]
  },
  {
   "cell_type": "code",
   "execution_count": 143,
   "id": "ff21ea5e",
   "metadata": {},
   "outputs": [],
   "source": [
    "def cleanAcquisitionDatesMoMa(date):\n",
    "    if '-' in date:\n",
    "        date = date.split('-')[0]\n",
    "    return date"
   ]
  },
  {
   "cell_type": "code",
   "execution_count": 144,
   "id": "8bd34e79",
   "metadata": {},
   "outputs": [],
   "source": [
    "MoMa[\"DateAcquired\"] = MoMa[\"DateAcquired\"].apply(cleanDatesMoMa)"
   ]
  },
  {
   "cell_type": "markdown",
   "id": "6ddc69ef",
   "metadata": {},
   "source": [
    "Clean MoMa Artworks' Dates. <br>\n",
    "Indeed, they are in some unclear forms, such as:<br>\n",
    "(1950).  (Prints executed 1948<br>\n",
    "(1883, published 1897)<br>\n",
    "(1911, dated 1912, published c. 1917)<br>\n",
    "(April 9 and August 31, 1971)<br>\n",
    "(April 23) 1968<br>\n",
    "(journals published October 2003 through June 2004)<br>\n",
    "\n",
    "We just need the year."
   ]
  },
  {
   "cell_type": "code",
   "execution_count": 145,
   "id": "1f37e6b6",
   "metadata": {},
   "outputs": [],
   "source": [
    "def cleanDatesMoMa(date):\n",
    "    if '-' in date:\n",
    "        splitted = date.split('-')\n",
    "        date = ' '.join(splitted) \n",
    "    if '/' in date:\n",
    "        splitted = date.split('/')\n",
    "        date = ' '.join(splitted) \n",
    "    if ',' in date:\n",
    "        splitted = date.split(',')\n",
    "        date = ' '.join(splitted) \n",
    "    if '.' in date:\n",
    "        splitted = date.split('.')\n",
    "        date = ' '.join(splitted) \n",
    "        \n",
    "    x = re.search(\"\\d{4}\", date)\n",
    "    if x:\n",
    "        date = x.group()\n",
    "    else:\n",
    "        date = '0'\n",
    "    return date"
   ]
  },
  {
   "cell_type": "code",
   "execution_count": 146,
   "id": "55f3fb59",
   "metadata": {},
   "outputs": [],
   "source": [
    "MoMa[\"Date\"] = MoMa[\"Date\"].astype(str)\n",
    "MoMa[\"Date\"] = MoMa[\"Date\"].apply(cleanDatesMoMa)"
   ]
  },
  {
   "cell_type": "markdown",
   "id": "8d1529e9",
   "metadata": {},
   "source": [
    "## Tate"
   ]
  },
  {
   "cell_type": "markdown",
   "id": "f95b0188",
   "metadata": {},
   "source": [
    "Let's get rid of nan values and strings:"
   ]
  },
  {
   "cell_type": "code",
   "execution_count": 164,
   "id": "9be04376",
   "metadata": {},
   "outputs": [],
   "source": [
    "Tate.fillna(value='0', inplace=True)\n",
    "Tate['Date'].replace(to_replace=['no date', 'c'], value='0', inplace= True)"
   ]
  },
  {
   "cell_type": "markdown",
   "id": "3689e848",
   "metadata": {},
   "source": [
    "Clean Tate Acquisition and Artworks' Dates: they are on the form YYYY.0. We want an integer."
   ]
  },
  {
   "cell_type": "code",
   "execution_count": 148,
   "id": "2fd94497",
   "metadata": {},
   "outputs": [],
   "source": [
    "def cleanDatesTate(date):\n",
    "    if '.' in date:\n",
    "        date = date.split('.')[0]\n",
    "    return date"
   ]
  },
  {
   "cell_type": "code",
   "execution_count": 149,
   "id": "c851a9b4",
   "metadata": {},
   "outputs": [],
   "source": [
    "Tate[\"Date\"] = Tate[\"Date\"].astype(str)\n",
    "Tate[\"Date\"] = Tate[\"Date\"].apply(cleanDatesTate)\n",
    "\n",
    "Tate[\"DateAcquired\"] = Tate[\"DateAcquired\"].astype(str)\n",
    "Tate[\"DateAcquired\"] = Tate[\"DateAcquired\"].apply(cleanDatesTate)\n"
   ]
  },
  {
   "cell_type": "markdown",
   "id": "8443940f",
   "metadata": {},
   "source": [
    "# Exploration"
   ]
  },
  {
   "cell_type": "markdown",
   "id": "7aba335c",
   "metadata": {},
   "source": [
    "## How many artworks?"
   ]
  },
  {
   "cell_type": "code",
   "execution_count": 150,
   "id": "6c40b58b",
   "metadata": {},
   "outputs": [
    {
     "name": "stdout",
     "output_type": "stream",
     "text": [
      "Total artworks at Moma : 13697\n",
      "Total artworks at Tate : 69201\n"
     ]
    }
   ],
   "source": [
    "museums=[MoMa, Tate]\n",
    "names = ['Moma','Tate']\n",
    "for museum in museums:\n",
    "    selected_rows = museum[~museum['Title'].isnull()]\n",
    "    name = names.pop(0)\n",
    "    print(\"Total artworks at\", name, \":\", len(selected_rows.index))"
   ]
  },
  {
   "cell_type": "markdown",
   "id": "1573723f",
   "metadata": {},
   "source": [
    "## When do artworks date back?"
   ]
  },
  {
   "cell_type": "code",
   "execution_count": 165,
   "id": "5a78244a",
   "metadata": {},
   "outputs": [
    {
     "name": "stdout",
     "output_type": "stream",
     "text": [
      "Most ancient artwork at Moma dates back to 1768\n",
      "Most receny artwork at Moma dates back to 2022\n",
      "Most ancient artwork at Tate dates back to 1545\n",
      "Most receny artwork at Tate dates back to 2012\n"
     ]
    }
   ],
   "source": [
    "museums=[MoMa, Tate]\n",
    "names = ['Moma','Tate']\n",
    "for museum in museums:\n",
    "    museum[\"Date\"] = museum[\"Date\"].astype(int)\n",
    "    museum.sort_values(by=['Date'], inplace=True)\n",
    "    museumWithoutZeros = museum[museum['Date'] != 0]\n",
    "    firstDate = museumWithoutZeros['Date'].iat[0]\n",
    "    lastDate = museumWithoutZeros['Date'].iat[-1]\n",
    "    name = names.pop(0)\n",
    "    print(\"Most ancient artwork at\", name, \"dates back to\",firstDate )\n",
    "    print(\"Most receny artwork at\", name, \"dates back to\",lastDate )    "
   ]
  },
  {
   "cell_type": "markdown",
   "id": "a0cc424a",
   "metadata": {},
   "source": [
    "## When were artworks acquired?"
   ]
  },
  {
   "cell_type": "code",
   "execution_count": 166,
   "id": "e0bd93f1",
   "metadata": {},
   "outputs": [
    {
     "name": "stdout",
     "output_type": "stream",
     "text": [
      "Most ancient artwork at Moma dates back to 1929\n",
      "Most receny artwork at Moma dates back to 2022\n",
      "Most ancient artwork at Tate dates back to 1823\n",
      "Most receny artwork at Tate dates back to 2012\n"
     ]
    }
   ],
   "source": [
    "museums=[MoMa, Tate]\n",
    "names = ['Moma','Tate']\n",
    "for museum in museums:\n",
    "    museum[\"DateAcquired\"] = museum[\"DateAcquired\"].astype(int)\n",
    "    museum.sort_values(by=['DateAcquired'], inplace=True)\n",
    "    museumWithoutZeros = museum[museum['DateAcquired'] != 0]\n",
    "    firstDate = museumWithoutZeros['DateAcquired'].iat[0]\n",
    "    lastDate = museumWithoutZeros['Date'].iat[-1]\n",
    "    name = names.pop(0)\n",
    "    print(\"Most ancient artwork at\", name, \"dates back to\",firstDate )\n",
    "    print(\"Most receny artwork at\", name, \"dates back to\",lastDate )    "
   ]
  },
  {
   "cell_type": "code",
   "execution_count": null,
   "id": "e9e717b8",
   "metadata": {},
   "outputs": [],
   "source": []
  }
 ],
 "metadata": {
  "kernelspec": {
   "display_name": "Python 3 (ipykernel)",
   "language": "python",
   "name": "python3"
  },
  "language_info": {
   "codemirror_mode": {
    "name": "ipython",
    "version": 3
   },
   "file_extension": ".py",
   "mimetype": "text/x-python",
   "name": "python",
   "nbconvert_exporter": "python",
   "pygments_lexer": "ipython3",
   "version": "3.9.0"
  }
 },
 "nbformat": 4,
 "nbformat_minor": 5
}
