{
 "cells": [
  {
   "cell_type": "markdown",
   "id": "53a29a49",
   "metadata": {},
   "source": [
    "# TITOLO<br>\n",
    "This notebook was created for the exam of **Digital Pubishing and Electronic Storytelling**, taught by **Professor Marilena Daquino** at the **University of Bologna** during academic year **2021/2022**.\n",
    "<br>\n",
    "It presents the project NOME developed by [Francesca Borriello](https://github.com/Fran-cesca), [Lorenza Pierucci](https://github.com/LorenzaPierucci), [Laura Travaglini](https://github.com/lauratravaglini)."
   ]
  },
  {
   "cell_type": "markdown",
   "id": "14791dfb",
   "metadata": {},
   "source": [
    "# 1. Creating our dataframes.<br>\n",
    "Museums: evolving creatures feeding up on the artworks that will ultimately define what they look like, what they are. <br>\n",
    "Collage: an assemblage of different forms creating a new whole, a mixture of heterogeneous elements, forms only apparently unrelated, no casual aggregation. A heap of broken images.<br>\n",
    "\n",
    "MoMA and Tate: with 1,160,686 and 1,156,037 visitors per year in 2021 (despite dramatic attendance drops due to the pandemic) are universally known and recognised as two of the most influential museums worldwide.<br>\n",
    "\n",
    "The first, founded in NY in 1929, is often identified as one of the largest and most influential museums of modern art in the world. It plays a major role in developing and collecting modern art. It includes works of architecture and design, drawing, painting, sculpture, photography, prints, illustrated books and artist's books, film, and electronic media\n",
    "<br>\n",
    "\n",
    "The second,  La Tate Modern è il museo d'arte moderna più visitato al mondo e si stima che ogni anno attiri oltre 5 milioni e mezzo di visitatori. (?)<br> \n",
    "\n",
    "Both \n",
    "that is only apparently casual\n",
    "We worked with two museums (MoMa and Tate) making available datasets (csv format) containing informstion about their artworks, artists, acquisitions throughout time.<br>\n",
    "After importing all the necessary libraries, we gather existing data from the into a `Pandas Dataframe` for easier data manipulation and table operations. <br>\n",
    "In particular, data are \n",
    "\n"
   ]
  },
  {
   "cell_type": "markdown",
   "id": "60ce4e6d",
   "metadata": {},
   "source": [
    "# Import"
   ]
  },
  {
   "cell_type": "code",
   "execution_count": 38,
   "id": "3260a852",
   "metadata": {},
   "outputs": [],
   "source": [
    "import pandas as pd\n",
    "import csv\n",
    "import re\n",
    "from collections import defaultdict\n",
    "from rdflib import Namespace , Literal , URIRef\n",
    "from rdflib.namespace import RDF , RDFS\n",
    "import ssl\n",
    "from json import JSONDecodeError\n",
    "from qwikidata.sparql import return_sparql_query_results # python library for working with sparql and linked data from WikiData"
   ]
  },
  {
   "cell_type": "markdown",
   "id": "52c20f9f",
   "metadata": {},
   "source": [
    "# MoMa"
   ]
  },
  {
   "cell_type": "code",
   "execution_count": 39,
   "id": "54f227cf",
   "metadata": {},
   "outputs": [],
   "source": [
    "spreadsheet = pd.read_csv('https://media.githubusercontent.com/media/MuseumofModernArt/collection/master/Artworks.csv')\n",
    "pd.set_option('display.max_columns', None)\n",
    "MoMaArtworks = spreadsheet[['Title', 'Artist', 'ConstituentID', 'Nationality', 'BeginDate', 'EndDate','Date', 'Department', 'DateAcquired']]\n",
    "MoMaArtists = pd.read_csv('https://media.githubusercontent.com/media/MuseumofModernArt/collection/master/Artists.csv')\n",
    "MoMaArtists[\"ConstituentID\"] = MoMaArtists[\"ConstituentID\"].astype(str)\n",
    "MoMa = pd.merge(MoMaArtworks,MoMaArtists[['ConstituentID', 'Wiki QID', 'Gender']],on='ConstituentID', how='left')\n",
    "MoMa.rename(columns = {'ConstituentID':'Id', 'BeginDate':'BirthDate', 'EndDate':'DeathDate'}, inplace = True)"
   ]
  },
  {
   "cell_type": "markdown",
   "id": "fee4916c",
   "metadata": {},
   "source": [
    "# Tate"
   ]
  },
  {
   "cell_type": "code",
   "execution_count": 40,
   "id": "12df2891",
   "metadata": {},
   "outputs": [
    {
     "name": "stderr",
     "output_type": "stream",
     "text": [
      "C:\\Users\\Lorenza\\AppData\\Roaming\\Python\\Python39\\site-packages\\IPython\\core\\interactiveshell.py:3172: DtypeWarning: Columns (9,13) have mixed types.Specify dtype option on import or set low_memory=False.\n",
      "  has_raised = await self.run_ast_nodes(code_ast.body, cell_name,\n",
      "C:\\Program Files\\Python39\\lib\\site-packages\\pandas\\core\\frame.py:4438: SettingWithCopyWarning: \n",
      "A value is trying to be set on a copy of a slice from a DataFrame\n",
      "\n",
      "See the caveats in the documentation: https://pandas.pydata.org/pandas-docs/stable/user_guide/indexing.html#returning-a-view-versus-a-copy\n",
      "  return super().rename(\n",
      "C:\\Program Files\\Python39\\lib\\site-packages\\pandas\\core\\generic.py:5489: SettingWithCopyWarning: \n",
      "A value is trying to be set on a copy of a slice from a DataFrame.\n",
      "Try using .loc[row_indexer,col_indexer] = value instead\n",
      "\n",
      "See the caveats in the documentation: https://pandas.pydata.org/pandas-docs/stable/user_guide/indexing.html#returning-a-view-versus-a-copy\n",
      "  self[name] = value\n"
     ]
    }
   ],
   "source": [
    "spreadsheet = pd.read_csv('https://raw.githubusercontent.com/tategallery/collection/master/artwork_data.csv')\n",
    "pd.set_option('display.max_columns', None)\n",
    "TateArtworks = spreadsheet[['artist', 'artistId', 'title', 'medium', 'creditLine', 'year', 'acquisitionYear', 'url']]\n",
    "TateArtworks.rename(columns = {'artistId':'id'}, inplace = True)\n",
    "TateArtworks.id = TateArtworks.id.astype(str)\n",
    "TateArtists = pd.read_csv('https://raw.githubusercontent.com/tategallery/collection/master/artist_data.csv')\n",
    "TateArtists[\"id\"] = TateArtists[\"id\"].astype(str)\n",
    "Tate = pd.merge(TateArtworks,TateArtists[['id', 'gender', 'yearOfBirth', 'yearOfDeath']], on='id', how='left')\n",
    "Tate.rename(columns = {'artist':'Artist', 'id':'Id', 'title':'Title', 'yearOfBirth':'BirthDate', 'yearOfDeath':'DeathDate', 'medium':'Medium', 'creditLine':'CreditLine', 'year':'Date', 'acquisitionYear':'DateAcquired', 'url':'URL', 'gender':'Gender'}, inplace = True)"
   ]
  },
  {
   "cell_type": "markdown",
   "id": "96aa7146",
   "metadata": {},
   "source": [
    "# Data Cleaning"
   ]
  },
  {
   "cell_type": "markdown",
   "id": "b39a1a22",
   "metadata": {},
   "source": [
    "## MoMa"
   ]
  },
  {
   "cell_type": "markdown",
   "id": "c3e3299f",
   "metadata": {},
   "source": [
    "Substitute NaN values with zeros"
   ]
  },
  {
   "cell_type": "code",
   "execution_count": 41,
   "id": "cd22d5d9",
   "metadata": {},
   "outputs": [],
   "source": [
    "MoMa.fillna(value='0', inplace=True)"
   ]
  },
  {
   "cell_type": "markdown",
   "id": "c65de8a6",
   "metadata": {},
   "source": [
    "Clean MoMa Acquisition Dates: they are on the form YYYY-MM-DD. We just want the YYYY as an int."
   ]
  },
  {
   "cell_type": "code",
   "execution_count": 42,
   "id": "f2268d25",
   "metadata": {},
   "outputs": [],
   "source": [
    "def cleanAcquisitionDatesMoMa(date):\n",
    "    if '-' in date:\n",
    "        date = date.split('-')[0]\n",
    "    return date"
   ]
  },
  {
   "cell_type": "code",
   "execution_count": 43,
   "id": "8833b363",
   "metadata": {},
   "outputs": [],
   "source": [
    "MoMa[\"DateAcquired\"] = MoMa[\"DateAcquired\"].apply(cleanAcquisitionDatesMoMa)"
   ]
  },
  {
   "cell_type": "markdown",
   "id": "548c1884",
   "metadata": {},
   "source": [
    "Clean MoMa artworks' Dates. <br> \n",
    "Indeed, they are in some unclear forms, such as:<br> \n",
    "- (1950).  (Prints executed 1948<br> \n",
    "- (1883, published 1897)<br> \n",
    "- (1911, dated 1912, published c. 1917)<br> \n",
    " \n",
    "We just need the year."
   ]
  },
  {
   "cell_type": "code",
   "execution_count": 44,
   "id": "82f5c645",
   "metadata": {},
   "outputs": [],
   "source": [
    "def cleanDatesMoMa(date):\n",
    "    if '-' in date:\n",
    "        splitted = date.split('-')\n",
    "        date = ' '.join(splitted) \n",
    "    if '/' in date:\n",
    "        splitted = date.split('/')\n",
    "        date = ' '.join(splitted) \n",
    "    if ',' in date:\n",
    "        splitted = date.split(',')\n",
    "        date = ' '.join(splitted) \n",
    "    if '.' in date:\n",
    "        splitted = date.split('.')\n",
    "        date = ' '.join(splitted) \n",
    "        \n",
    "    x = re.search(\"\\d{4}\", date)\n",
    "    if x:\n",
    "        date = x.group()\n",
    "    else:\n",
    "        date = '0'\n",
    "    return date"
   ]
  },
  {
   "cell_type": "code",
   "execution_count": 46,
   "id": "c86f36e2",
   "metadata": {},
   "outputs": [],
   "source": [
    "MoMa[\"Date\"] = MoMa[\"Date\"].astype(str)\n",
    "MoMa[\"Date\"] = MoMa[\"Date\"].apply(cleanDatesMoMa)"
   ]
  },
  {
   "cell_type": "markdown",
   "id": "4d2cd651",
   "metadata": {},
   "source": [
    "## Tate"
   ]
  },
  {
   "cell_type": "markdown",
   "id": "583d9d02",
   "metadata": {},
   "source": [
    "Substitute NaN values and strings with zeros"
   ]
  },
  {
   "cell_type": "code",
   "execution_count": 47,
   "id": "bc9b14f0",
   "metadata": {},
   "outputs": [],
   "source": [
    "Tate.fillna(value='0', inplace=True)\n",
    "Tate['Date'].replace(to_replace='no date', value='0', inplace= True)"
   ]
  },
  {
   "cell_type": "code",
   "execution_count": 48,
   "id": "c776b1b6",
   "metadata": {},
   "outputs": [],
   "source": [
    "Tate['Date'].replace(to_replace='c', value='0', inplace= True)"
   ]
  },
  {
   "cell_type": "markdown",
   "id": "cd4d3f8d",
   "metadata": {},
   "source": [
    "Clean Tate Acquisition and Artworks' Dates: they are on the form YYYY.0. We want an integer."
   ]
  },
  {
   "cell_type": "code",
   "execution_count": 49,
   "id": "d36274ca",
   "metadata": {},
   "outputs": [],
   "source": [
    "def cleanDatesTate(date):\n",
    "    if '.' in date:\n",
    "        date = date.split('.')[0] \n",
    "    return date"
   ]
  },
  {
   "cell_type": "code",
   "execution_count": 50,
   "id": "695370e5",
   "metadata": {},
   "outputs": [],
   "source": [
    "Tate[\"Date\"] = Tate[\"Date\"].astype(str)\n",
    "Tate[\"Date\"] = Tate[\"Date\"].apply(cleanDatesTate)\n",
    "\n",
    "Tate[\"DateAcquired\"] = Tate[\"DateAcquired\"].astype(str)\n",
    "Tate[\"DateAcquired\"] = Tate[\"DateAcquired\"].apply(cleanDatesTate)"
   ]
  },
  {
   "cell_type": "markdown",
   "id": "424e4796",
   "metadata": {},
   "source": [
    "# Exploration"
   ]
  },
  {
   "cell_type": "markdown",
   "id": "95cfe32c",
   "metadata": {},
   "source": [
    "## How many artworks?"
   ]
  },
  {
   "cell_type": "code",
   "execution_count": 51,
   "id": "1e765f0e",
   "metadata": {},
   "outputs": [
    {
     "name": "stdout",
     "output_type": "stream",
     "text": [
      "Total artworks at Moma : 140848\n",
      "Total artworks at Tate : 69201\n"
     ]
    }
   ],
   "source": [
    "museums=[MoMa, Tate]\n",
    "names = ['Moma','Tate']\n",
    "for museum in museums:\n",
    "    selected_rows = museum[~museum['Title'].isnull()]\n",
    "    name = names.pop(0)\n",
    "    print(\"Total artworks at\", name, \":\", len(selected_rows.index))"
   ]
  },
  {
   "cell_type": "markdown",
   "id": "2d459902",
   "metadata": {},
   "source": [
    "## Which kind of artworks?"
   ]
  },
  {
   "cell_type": "code",
   "execution_count": 52,
   "id": "74256c95",
   "metadata": {},
   "outputs": [
    {
     "name": "stdout",
     "output_type": "stream",
     "text": [
      "defaultdict(<class 'dict'>, {'Architecture & Design': 20237, 'Drawings & Prints': 77791, 'Painting & Sculpture': 3981, 'Photography': 32991, 'Media and Performance': 3006, 'Film': 874, 'Architecture & Design - Image Archive': 30, 'Fluxus Collection': 1938})\n"
     ]
    }
   ],
   "source": [
    "MoMa.to_csv('MoMa.csv')\n",
    "from collections import defaultdict \n",
    "\n",
    "with open('MoMa.csv', mode='r', encoding='utf-8') as csvfile:\n",
    "    reader = csv.DictReader(csvfile)\n",
    "    artworksType = defaultdict(dict)\n",
    "    for item in reader:\n",
    "        if item['Department'] not in artworksType:\n",
    "            artworksType[item['Department']] = 1\n",
    "        else:\n",
    "            artworksType[item['Department']] += 1\n",
    "    print(artworksType)"
   ]
  },
  {
   "cell_type": "markdown",
   "id": "4b41fb02",
   "metadata": {},
   "source": [
    "## When do artworks date back?"
   ]
  },
  {
   "cell_type": "code",
   "execution_count": 53,
   "id": "d9ec499b",
   "metadata": {},
   "outputs": [
    {
     "name": "stdout",
     "output_type": "stream",
     "text": [
      "Most ancient artwork at Moma dates back to 1768\n",
      "Most recent artwork at Moma dates back to 2022\n"
     ]
    },
    {
     "ename": "ValueError",
     "evalue": "invalid literal for int() with base 10: 'c'",
     "output_type": "error",
     "traceback": [
      "\u001b[1;31m---------------------------------------------------------------------------\u001b[0m",
      "\u001b[1;31mValueError\u001b[0m                                Traceback (most recent call last)",
      "\u001b[1;32m~\\AppData\\Local\\Temp/ipykernel_17456/2266915561.py\u001b[0m in \u001b[0;36m<module>\u001b[1;34m\u001b[0m\n\u001b[0;32m      2\u001b[0m \u001b[0mnames\u001b[0m \u001b[1;33m=\u001b[0m \u001b[1;33m[\u001b[0m\u001b[1;34m'Moma'\u001b[0m\u001b[1;33m,\u001b[0m\u001b[1;34m'Tate'\u001b[0m\u001b[1;33m]\u001b[0m\u001b[1;33m\u001b[0m\u001b[1;33m\u001b[0m\u001b[0m\n\u001b[0;32m      3\u001b[0m \u001b[1;32mfor\u001b[0m \u001b[0mmuseum\u001b[0m \u001b[1;32min\u001b[0m \u001b[0mmuseums\u001b[0m\u001b[1;33m:\u001b[0m\u001b[1;33m\u001b[0m\u001b[1;33m\u001b[0m\u001b[0m\n\u001b[1;32m----> 4\u001b[1;33m     \u001b[0mmuseum\u001b[0m\u001b[1;33m[\u001b[0m\u001b[1;34m\"Date\"\u001b[0m\u001b[1;33m]\u001b[0m \u001b[1;33m=\u001b[0m \u001b[0mmuseum\u001b[0m\u001b[1;33m[\u001b[0m\u001b[1;34m\"Date\"\u001b[0m\u001b[1;33m]\u001b[0m\u001b[1;33m.\u001b[0m\u001b[0mastype\u001b[0m\u001b[1;33m(\u001b[0m\u001b[0mint\u001b[0m\u001b[1;33m)\u001b[0m\u001b[1;33m\u001b[0m\u001b[1;33m\u001b[0m\u001b[0m\n\u001b[0m\u001b[0;32m      5\u001b[0m     \u001b[0mmuseum\u001b[0m\u001b[1;33m.\u001b[0m\u001b[0msort_values\u001b[0m\u001b[1;33m(\u001b[0m\u001b[0mby\u001b[0m\u001b[1;33m=\u001b[0m\u001b[1;33m[\u001b[0m\u001b[1;34m'Date'\u001b[0m\u001b[1;33m]\u001b[0m\u001b[1;33m,\u001b[0m \u001b[0minplace\u001b[0m\u001b[1;33m=\u001b[0m\u001b[1;32mTrue\u001b[0m\u001b[1;33m)\u001b[0m\u001b[1;33m\u001b[0m\u001b[1;33m\u001b[0m\u001b[0m\n\u001b[0;32m      6\u001b[0m     \u001b[0mmuseumWithoutZeros\u001b[0m \u001b[1;33m=\u001b[0m \u001b[0mmuseum\u001b[0m\u001b[1;33m[\u001b[0m\u001b[0mmuseum\u001b[0m\u001b[1;33m[\u001b[0m\u001b[1;34m'Date'\u001b[0m\u001b[1;33m]\u001b[0m \u001b[1;33m!=\u001b[0m \u001b[1;36m0\u001b[0m\u001b[1;33m]\u001b[0m\u001b[1;33m\u001b[0m\u001b[1;33m\u001b[0m\u001b[0m\n",
      "\u001b[1;32mC:\\Program Files\\Python39\\lib\\site-packages\\pandas\\core\\generic.py\u001b[0m in \u001b[0;36mastype\u001b[1;34m(self, dtype, copy, errors)\u001b[0m\n\u001b[0;32m   5870\u001b[0m         \u001b[1;32melse\u001b[0m\u001b[1;33m:\u001b[0m\u001b[1;33m\u001b[0m\u001b[1;33m\u001b[0m\u001b[0m\n\u001b[0;32m   5871\u001b[0m             \u001b[1;31m# else, only a single dtype is given\u001b[0m\u001b[1;33m\u001b[0m\u001b[1;33m\u001b[0m\u001b[1;33m\u001b[0m\u001b[0m\n\u001b[1;32m-> 5872\u001b[1;33m             \u001b[0mnew_data\u001b[0m \u001b[1;33m=\u001b[0m \u001b[0mself\u001b[0m\u001b[1;33m.\u001b[0m\u001b[0m_mgr\u001b[0m\u001b[1;33m.\u001b[0m\u001b[0mastype\u001b[0m\u001b[1;33m(\u001b[0m\u001b[0mdtype\u001b[0m\u001b[1;33m=\u001b[0m\u001b[0mdtype\u001b[0m\u001b[1;33m,\u001b[0m \u001b[0mcopy\u001b[0m\u001b[1;33m=\u001b[0m\u001b[0mcopy\u001b[0m\u001b[1;33m,\u001b[0m \u001b[0merrors\u001b[0m\u001b[1;33m=\u001b[0m\u001b[0merrors\u001b[0m\u001b[1;33m)\u001b[0m\u001b[1;33m\u001b[0m\u001b[1;33m\u001b[0m\u001b[0m\n\u001b[0m\u001b[0;32m   5873\u001b[0m             \u001b[1;32mreturn\u001b[0m \u001b[0mself\u001b[0m\u001b[1;33m.\u001b[0m\u001b[0m_constructor\u001b[0m\u001b[1;33m(\u001b[0m\u001b[0mnew_data\u001b[0m\u001b[1;33m)\u001b[0m\u001b[1;33m.\u001b[0m\u001b[0m__finalize__\u001b[0m\u001b[1;33m(\u001b[0m\u001b[0mself\u001b[0m\u001b[1;33m,\u001b[0m \u001b[0mmethod\u001b[0m\u001b[1;33m=\u001b[0m\u001b[1;34m\"astype\"\u001b[0m\u001b[1;33m)\u001b[0m\u001b[1;33m\u001b[0m\u001b[1;33m\u001b[0m\u001b[0m\n\u001b[0;32m   5874\u001b[0m \u001b[1;33m\u001b[0m\u001b[0m\n",
      "\u001b[1;32mC:\\Program Files\\Python39\\lib\\site-packages\\pandas\\core\\internals\\managers.py\u001b[0m in \u001b[0;36mastype\u001b[1;34m(self, dtype, copy, errors)\u001b[0m\n\u001b[0;32m    629\u001b[0m         \u001b[0mself\u001b[0m\u001b[1;33m,\u001b[0m \u001b[0mdtype\u001b[0m\u001b[1;33m,\u001b[0m \u001b[0mcopy\u001b[0m\u001b[1;33m:\u001b[0m \u001b[0mbool\u001b[0m \u001b[1;33m=\u001b[0m \u001b[1;32mFalse\u001b[0m\u001b[1;33m,\u001b[0m \u001b[0merrors\u001b[0m\u001b[1;33m:\u001b[0m \u001b[0mstr\u001b[0m \u001b[1;33m=\u001b[0m \u001b[1;34m\"raise\"\u001b[0m\u001b[1;33m\u001b[0m\u001b[1;33m\u001b[0m\u001b[0m\n\u001b[0;32m    630\u001b[0m     ) -> \"BlockManager\":\n\u001b[1;32m--> 631\u001b[1;33m         \u001b[1;32mreturn\u001b[0m \u001b[0mself\u001b[0m\u001b[1;33m.\u001b[0m\u001b[0mapply\u001b[0m\u001b[1;33m(\u001b[0m\u001b[1;34m\"astype\"\u001b[0m\u001b[1;33m,\u001b[0m \u001b[0mdtype\u001b[0m\u001b[1;33m=\u001b[0m\u001b[0mdtype\u001b[0m\u001b[1;33m,\u001b[0m \u001b[0mcopy\u001b[0m\u001b[1;33m=\u001b[0m\u001b[0mcopy\u001b[0m\u001b[1;33m,\u001b[0m \u001b[0merrors\u001b[0m\u001b[1;33m=\u001b[0m\u001b[0merrors\u001b[0m\u001b[1;33m)\u001b[0m\u001b[1;33m\u001b[0m\u001b[1;33m\u001b[0m\u001b[0m\n\u001b[0m\u001b[0;32m    632\u001b[0m \u001b[1;33m\u001b[0m\u001b[0m\n\u001b[0;32m    633\u001b[0m     def convert(\n",
      "\u001b[1;32mC:\\Program Files\\Python39\\lib\\site-packages\\pandas\\core\\internals\\managers.py\u001b[0m in \u001b[0;36mapply\u001b[1;34m(self, f, align_keys, ignore_failures, **kwargs)\u001b[0m\n\u001b[0;32m    425\u001b[0m                     \u001b[0mapplied\u001b[0m \u001b[1;33m=\u001b[0m \u001b[0mb\u001b[0m\u001b[1;33m.\u001b[0m\u001b[0mapply\u001b[0m\u001b[1;33m(\u001b[0m\u001b[0mf\u001b[0m\u001b[1;33m,\u001b[0m \u001b[1;33m**\u001b[0m\u001b[0mkwargs\u001b[0m\u001b[1;33m)\u001b[0m\u001b[1;33m\u001b[0m\u001b[1;33m\u001b[0m\u001b[0m\n\u001b[0;32m    426\u001b[0m                 \u001b[1;32melse\u001b[0m\u001b[1;33m:\u001b[0m\u001b[1;33m\u001b[0m\u001b[1;33m\u001b[0m\u001b[0m\n\u001b[1;32m--> 427\u001b[1;33m                     \u001b[0mapplied\u001b[0m \u001b[1;33m=\u001b[0m \u001b[0mgetattr\u001b[0m\u001b[1;33m(\u001b[0m\u001b[0mb\u001b[0m\u001b[1;33m,\u001b[0m \u001b[0mf\u001b[0m\u001b[1;33m)\u001b[0m\u001b[1;33m(\u001b[0m\u001b[1;33m**\u001b[0m\u001b[0mkwargs\u001b[0m\u001b[1;33m)\u001b[0m\u001b[1;33m\u001b[0m\u001b[1;33m\u001b[0m\u001b[0m\n\u001b[0m\u001b[0;32m    428\u001b[0m             \u001b[1;32mexcept\u001b[0m \u001b[1;33m(\u001b[0m\u001b[0mTypeError\u001b[0m\u001b[1;33m,\u001b[0m \u001b[0mNotImplementedError\u001b[0m\u001b[1;33m)\u001b[0m\u001b[1;33m:\u001b[0m\u001b[1;33m\u001b[0m\u001b[1;33m\u001b[0m\u001b[0m\n\u001b[0;32m    429\u001b[0m                 \u001b[1;32mif\u001b[0m \u001b[1;32mnot\u001b[0m \u001b[0mignore_failures\u001b[0m\u001b[1;33m:\u001b[0m\u001b[1;33m\u001b[0m\u001b[1;33m\u001b[0m\u001b[0m\n",
      "\u001b[1;32mC:\\Program Files\\Python39\\lib\\site-packages\\pandas\\core\\internals\\blocks.py\u001b[0m in \u001b[0;36mastype\u001b[1;34m(self, dtype, copy, errors)\u001b[0m\n\u001b[0;32m    671\u001b[0m             \u001b[0mvals1d\u001b[0m \u001b[1;33m=\u001b[0m \u001b[0mvalues\u001b[0m\u001b[1;33m.\u001b[0m\u001b[0mravel\u001b[0m\u001b[1;33m(\u001b[0m\u001b[1;33m)\u001b[0m\u001b[1;33m\u001b[0m\u001b[1;33m\u001b[0m\u001b[0m\n\u001b[0;32m    672\u001b[0m             \u001b[1;32mtry\u001b[0m\u001b[1;33m:\u001b[0m\u001b[1;33m\u001b[0m\u001b[1;33m\u001b[0m\u001b[0m\n\u001b[1;32m--> 673\u001b[1;33m                 \u001b[0mvalues\u001b[0m \u001b[1;33m=\u001b[0m \u001b[0mastype_nansafe\u001b[0m\u001b[1;33m(\u001b[0m\u001b[0mvals1d\u001b[0m\u001b[1;33m,\u001b[0m \u001b[0mdtype\u001b[0m\u001b[1;33m,\u001b[0m \u001b[0mcopy\u001b[0m\u001b[1;33m=\u001b[0m\u001b[1;32mTrue\u001b[0m\u001b[1;33m)\u001b[0m\u001b[1;33m\u001b[0m\u001b[1;33m\u001b[0m\u001b[0m\n\u001b[0m\u001b[0;32m    674\u001b[0m             \u001b[1;32mexcept\u001b[0m \u001b[1;33m(\u001b[0m\u001b[0mValueError\u001b[0m\u001b[1;33m,\u001b[0m \u001b[0mTypeError\u001b[0m\u001b[1;33m)\u001b[0m\u001b[1;33m:\u001b[0m\u001b[1;33m\u001b[0m\u001b[1;33m\u001b[0m\u001b[0m\n\u001b[0;32m    675\u001b[0m                 \u001b[1;31m# e.g. astype_nansafe can fail on object-dtype of strings\u001b[0m\u001b[1;33m\u001b[0m\u001b[1;33m\u001b[0m\u001b[1;33m\u001b[0m\u001b[0m\n",
      "\u001b[1;32mC:\\Program Files\\Python39\\lib\\site-packages\\pandas\\core\\dtypes\\cast.py\u001b[0m in \u001b[0;36mastype_nansafe\u001b[1;34m(arr, dtype, copy, skipna)\u001b[0m\n\u001b[0;32m   1072\u001b[0m         \u001b[1;31m# work around NumPy brokenness, #1987\u001b[0m\u001b[1;33m\u001b[0m\u001b[1;33m\u001b[0m\u001b[1;33m\u001b[0m\u001b[0m\n\u001b[0;32m   1073\u001b[0m         \u001b[1;32mif\u001b[0m \u001b[0mnp\u001b[0m\u001b[1;33m.\u001b[0m\u001b[0missubdtype\u001b[0m\u001b[1;33m(\u001b[0m\u001b[0mdtype\u001b[0m\u001b[1;33m.\u001b[0m\u001b[0mtype\u001b[0m\u001b[1;33m,\u001b[0m \u001b[0mnp\u001b[0m\u001b[1;33m.\u001b[0m\u001b[0minteger\u001b[0m\u001b[1;33m)\u001b[0m\u001b[1;33m:\u001b[0m\u001b[1;33m\u001b[0m\u001b[1;33m\u001b[0m\u001b[0m\n\u001b[1;32m-> 1074\u001b[1;33m             \u001b[1;32mreturn\u001b[0m \u001b[0mlib\u001b[0m\u001b[1;33m.\u001b[0m\u001b[0mastype_intsafe\u001b[0m\u001b[1;33m(\u001b[0m\u001b[0marr\u001b[0m\u001b[1;33m.\u001b[0m\u001b[0mravel\u001b[0m\u001b[1;33m(\u001b[0m\u001b[1;33m)\u001b[0m\u001b[1;33m,\u001b[0m \u001b[0mdtype\u001b[0m\u001b[1;33m)\u001b[0m\u001b[1;33m.\u001b[0m\u001b[0mreshape\u001b[0m\u001b[1;33m(\u001b[0m\u001b[0marr\u001b[0m\u001b[1;33m.\u001b[0m\u001b[0mshape\u001b[0m\u001b[1;33m)\u001b[0m\u001b[1;33m\u001b[0m\u001b[1;33m\u001b[0m\u001b[0m\n\u001b[0m\u001b[0;32m   1075\u001b[0m \u001b[1;33m\u001b[0m\u001b[0m\n\u001b[0;32m   1076\u001b[0m         \u001b[1;31m# if we have a datetime/timedelta array of objects\u001b[0m\u001b[1;33m\u001b[0m\u001b[1;33m\u001b[0m\u001b[1;33m\u001b[0m\u001b[0m\n",
      "\u001b[1;32mpandas\\_libs\\lib.pyx\u001b[0m in \u001b[0;36mpandas._libs.lib.astype_intsafe\u001b[1;34m()\u001b[0m\n",
      "\u001b[1;31mValueError\u001b[0m: invalid literal for int() with base 10: 'c'"
     ]
    }
   ],
   "source": [
    "museums=[MoMa, Tate]\n",
    "names = ['Moma','Tate']\n",
    "for museum in museums:\n",
    "    museum[\"Date\"] = museum[\"Date\"].astype(int)\n",
    "    museum.sort_values(by=['Date'], inplace=True)\n",
    "    museumWithoutZeros = museum[museum['Date'] != 0]\n",
    "    firstDate = museumWithoutZeros['Date'].iat[0]\n",
    "    lastDate = museumWithoutZeros['Date'].iat[-1]\n",
    "    name = names.pop(0)\n",
    "    print(\"Most ancient artwork at\", name, \"dates back to\",firstDate )\n",
    "    print(\"Most recent artwork at\", name, \"dates back to\",lastDate )    "
   ]
  },
  {
   "cell_type": "markdown",
   "id": "ed72b5fd",
   "metadata": {},
   "source": [
    "## Artists"
   ]
  },
  {
   "cell_type": "code",
   "execution_count": 54,
   "id": "572ffb06",
   "metadata": {},
   "outputs": [
    {
     "ename": "SyntaxError",
     "evalue": "invalid syntax (Temp/ipykernel_17456/11774037.py, line 1)",
     "output_type": "error",
     "traceback": [
      "\u001b[1;36m  File \u001b[1;32m\"C:\\Users\\Lorenza\\AppData\\Local\\Temp/ipykernel_17456/11774037.py\"\u001b[1;36m, line \u001b[1;32m1\u001b[0m\n\u001b[1;33m    For examining artist-related issues, we will rely on the specific CSV files from the museums, which we already transformed into dataframes.\u001b[0m\n\u001b[1;37m        ^\u001b[0m\n\u001b[1;31mSyntaxError\u001b[0m\u001b[1;31m:\u001b[0m invalid syntax\n"
     ]
    }
   ],
   "source": [
    "For examining artist-related issues, we will rely on the specific CSV files from the museums, which we already transformed into dataframes."
   ]
  },
  {
   "cell_type": "markdown",
   "id": "e343eee8",
   "metadata": {},
   "source": [
    "### How many artists?"
   ]
  },
  {
   "cell_type": "code",
   "execution_count": 55,
   "id": "a5df735a",
   "metadata": {},
   "outputs": [
    {
     "name": "stdout",
     "output_type": "stream",
     "text": [
      "Total number of artists at MoMa 15243\n"
     ]
    }
   ],
   "source": [
    "print('Total number of artists at MoMa', len(MoMaArtists))"
   ]
  },
  {
   "cell_type": "code",
   "execution_count": 56,
   "id": "4d8d0ff4",
   "metadata": {},
   "outputs": [
    {
     "name": "stdout",
     "output_type": "stream",
     "text": [
      "Total number of artists at Tate 3532\n"
     ]
    }
   ],
   "source": [
    "print('Total number of artists at Tate', len(TateArtists))"
   ]
  },
  {
   "cell_type": "markdown",
   "id": "dfe6535c",
   "metadata": {},
   "source": [
    "### What is the most represented gender?"
   ]
  },
  {
   "cell_type": "markdown",
   "id": "e0b4194f",
   "metadata": {},
   "source": [
    "## Tate"
   ]
  },
  {
   "cell_type": "markdown",
   "id": "ddd016bd",
   "metadata": {},
   "source": [
    "Since Tate data lacks some gender information, we took advantage of wikidata in order to integrate it through remote SPARQL queries."
   ]
  },
  {
   "cell_type": "markdown",
   "id": "badfbf16",
   "metadata": {},
   "source": [
    "First of all we selected all the rows in our dataframe in which the gender information is missing."
   ]
  },
  {
   "cell_type": "code",
   "execution_count": 57,
   "id": "2e73531a",
   "metadata": {},
   "outputs": [],
   "source": [
    "TateIntegration = TateArtists[TateArtists['gender'].isna()]"
   ]
  },
  {
   "cell_type": "markdown",
   "id": "91ecc675",
   "metadata": {},
   "source": [
    "Artists' names are in the form 'Surname, Name', so we wrote a function to normalise them in the form 'Name Surname'."
   ]
  },
  {
   "cell_type": "code",
   "execution_count": null,
   "id": "2100be20",
   "metadata": {},
   "outputs": [],
   "source": [
    "def cleanArtistsNames(name):\n",
    "    if ',' in name:\n",
    "        name= name.split(',')\n",
    "        name[0], name[1] = name[1], name[0]\n",
    "        name = ' '.join(name)\n",
    "    return name.strip()"
   ]
  },
  {
   "cell_type": "code",
   "execution_count": null,
   "id": "08e83d62",
   "metadata": {},
   "outputs": [],
   "source": [
    "TateIntegration[\"name\"] = TateIntegration[\"name\"].apply(cleanArtistsNames)"
   ]
  },
  {
   "cell_type": "markdown",
   "id": "f3d80b12",
   "metadata": {},
   "source": [
    "We excluded from the research some entities to which is was impossible to attribute a gender (mainly collectives or anonymous artists)."
   ]
  },
  {
   "cell_type": "code",
   "execution_count": null,
   "id": "57feb271",
   "metadata": {},
   "outputs": [],
   "source": [
    "TateIntegration = TateIntegration[TateIntegration['name'] != 'Anonymous']\n",
    "TateIntegration = TateIntegration[TateIntegration['name'] != 'Art & Language (Michael Baldwin, born 1945; Mel Ramsden, born 1944)']\n",
    "TateIntegration = TateIntegration[TateIntegration['name'] != 'Art & Language (Terry Atkinson, born 1939; David Bainbridge, born 1941; Michael Baldwin, born 1945; Harold Hurrell, born']\n",
    "TateIntegration = TateIntegration[TateIntegration['name'] != 'Art & Language (Terry Atkinson, born 1939; Michael Baldwin, born 1945)']\n",
    "TateIntegration = TateIntegration[TateIntegration['name'] != 'Atlas Group']\n",
    "TateIntegration = TateIntegration[TateIntegration['name'] != 'Black Audio Film Collective (John Akomfrah; Reece Auguis; Edward George; Lina Gopaul; Avril Johnson; David Lawson; Trevo']\n",
    "TateIntegration = TateIntegration[TateIntegration['name'] != 'Boyd and Evans, Fionnuala and Leslie']\n",
    "TateIntegration = TateIntegration[TateIntegration['name'] != 'British (?) School']\n",
    "TateIntegration = TateIntegration[TateIntegration['name'] != 'British (?) School 19th century']\n",
    "TateIntegration = TateIntegration[TateIntegration['name'] != 'British School 17th century']\n",
    "TateIntegration = TateIntegration[TateIntegration['name'] != 'British School 16th century']\n",
    "TateIntegration = TateIntegration[TateIntegration['name'] != 'British School 17th or 18th century']\n",
    "TateIntegration = TateIntegration[TateIntegration['name'] != 'British School 18th century']\n",
    "TateIntegration = TateIntegration[TateIntegration['name'] != 'British School 19th century']\n",
    "TateIntegration = TateIntegration[TateIntegration['name'] != 'British School 20th century']\n",
    "TateIntegration = TateIntegration[TateIntegration['name'] != 'Chinese School 18th century']\n",
    "TateIntegration = TateIntegration[TateIntegration['name'] != 'French School 18th century']\n",
    "TateIntegration = TateIntegration[TateIntegration['name'] != 'French School 19th century']\n",
    "TateIntegration = TateIntegration[TateIntegration['name'] != 'International Local (Sarah Charlesworth; Joseph Kosuth; Anthony McCall)']\n",
    "TateIntegration = TateIntegration[TateIntegration['name'] != 'Italian or German (?) School 17th century']\n",
    "TateIntegration = TateIntegration[TateIntegration['name'] != 'Langlands and Bell, Ben and Nikki']\n",
    "TateIntegration = TateIntegration[TateIntegration['name'] != 'Italian or German (?) School 17th century']\n",
    "TateIntegration = TateIntegration[TateIntegration['name'] != 'Langlands and Bell, Ben and Nikki']\n",
    "TateIntegration = TateIntegration[TateIntegration['name'] != 'Lucy and Eegyudluk']\n",
    "TateIntegration = TateIntegration[TateIntegration['name'] != 'M/M (Paris, France)']\n",
    "TateIntegration = TateIntegration[TateIntegration['name'] != 'T R Uthco (Doug Hall born 1944, Diane Andrews Hall born 1945, Jody Procter 1944-1998)']\n",
    "TateIntegration = TateIntegration[TateIntegration['name'] != 'Art & Language (Ian Burn, 1939-1993; Mel Ramsden, born 1944)']\n",
    "TateIntegration = TateIntegration[TateIntegration['name'] != 'Unknown']\n",
    "TateIntegration = TateIntegration[TateIntegration['name'] != 'Young-Hae Chang Heavy Industries (Young-Hae Chang, Marc Voge)']"
   ]
  },
  {
   "cell_type": "markdown",
   "id": "2a282939",
   "metadata": {},
   "source": [
    "Once the artists' names were fixed, we proceeded with the search of the artists' entities on Wikidata. The SPARQL query search for human individuals that work as: art historian, historian, university teacher, archaeologist, artist, art critic, philosopher, antiquarian, or photographer. The {} will be reserved to the historian's label in the database to match its Wikidata entity.\n",
    "\n",
    "The find_historian_entity_from_name function matches the value finding out the wd entity of each historian in the database."
   ]
  },
  {
   "cell_type": "code",
   "execution_count": null,
   "id": "a1c4e23c",
   "metadata": {},
   "outputs": [],
   "source": [
    "artists_genders_from_ids = \"\"\"\n",
    "PREFIX rdfs: <http://www.w3.org/2000/01/rdf-schema#>\n",
    "SELECT DISTINCT ?artist\n",
    "WHERE {{\n",
    "    ?artist wdt:P31 wd:Q5 . \n",
    "    ?artist wdt:P106 ?occupation\n",
    "                  FILTER (?occupation IN (wd:Q33231) ) \n",
    "    ?artist rdfs:label ?o\n",
    "    FILTER regex(?o, \\\"^{}$\\\" )\n",
    "            FILTER (langMatches(lang(?o), \"EN\")).\n",
    "}}\n",
    "\n",
    "\"\"\""
   ]
  },
  {
   "cell_type": "code",
   "execution_count": null,
   "id": "37c46f93",
   "metadata": {},
   "outputs": [],
   "source": [
    "def find_artists_genders_from_ids(name):\n",
    "    query = artists_genders_from_ids.format(name.strip())\n",
    "    res = return_sparql_query_results(query_string=query)\n",
    "   \n",
    "    try:\n",
    "        wdt_uri = res['results']['bindings'][0]['artist']['value']\n",
    "    except (IndexError, KeyError):\n",
    "        return \"\"\n",
    "    return wdt_uri.split(\"/\")[-1]"
   ]
  },
  {
   "cell_type": "code",
   "execution_count": null,
   "id": "67df94c6",
   "metadata": {},
   "outputs": [],
   "source": [
    "TateIntegration[\"Artist Entity\"] = TateIntegration[\"name\"].apply(find_artists_genders_from_ids)"
   ]
  },
  {
   "cell_type": "code",
   "execution_count": null,
   "id": "003485e1",
   "metadata": {},
   "outputs": [],
   "source": [
    "copy = TateIntegration.copy(deep=True) \n",
    "photographers =  copy[copy['Artist Entity']!= ''] \n",
    "photographers.to_csv('Photographers.csv')"
   ]
  },
  {
   "cell_type": "code",
   "execution_count": null,
   "id": "66b58eab",
   "metadata": {},
   "outputs": [],
   "source": [
    "toIntegrate =  copy[copy['Artist Entity']== ''] \n",
    "toIntegrate[\"Artist Entity\"] = toIntegrate[\"name\"].apply(find_artists_genders_from_ids)"
   ]
  },
  {
   "cell_type": "code",
   "execution_count": 11,
   "id": "d6475581",
   "metadata": {},
   "outputs": [
    {
     "ename": "PermissionError",
     "evalue": "[Errno 13] Permission denied: 'ArtistIntegrated.csv'",
     "output_type": "error",
     "traceback": [
      "\u001b[1;31m---------------------------------------------------------------------------\u001b[0m",
      "\u001b[1;31mPermissionError\u001b[0m                           Traceback (most recent call last)",
      "\u001b[1;32m~\\AppData\\Local\\Temp/ipykernel_17456/4115658695.py\u001b[0m in \u001b[0;36m<module>\u001b[1;34m\u001b[0m\n\u001b[0;32m      1\u001b[0m ArtistIntegrated = pd.concat(\n\u001b[0;32m      2\u001b[0m     map(pd.read_csv, ['Handmade.csv', 'Artists.csv', 'Photographers.csv', 'Videoartists.csv', 'graphicartists.csv', 'Painters.csv']), ignore_index=True)\n\u001b[1;32m----> 3\u001b[1;33m \u001b[0mArtistIntegrated\u001b[0m\u001b[1;33m.\u001b[0m\u001b[0mto_csv\u001b[0m\u001b[1;33m(\u001b[0m\u001b[1;34m'ArtistIntegrated.csv'\u001b[0m\u001b[1;33m)\u001b[0m\u001b[1;33m\u001b[0m\u001b[1;33m\u001b[0m\u001b[0m\n\u001b[0m\u001b[0;32m      4\u001b[0m \u001b[0mdisplay\u001b[0m\u001b[1;33m(\u001b[0m\u001b[0mArtistIntegrated\u001b[0m\u001b[1;33m)\u001b[0m\u001b[1;33m\u001b[0m\u001b[1;33m\u001b[0m\u001b[0m\n",
      "\u001b[1;32mC:\\Program Files\\Python39\\lib\\site-packages\\pandas\\core\\generic.py\u001b[0m in \u001b[0;36mto_csv\u001b[1;34m(self, path_or_buf, sep, na_rep, float_format, columns, header, index, index_label, mode, encoding, compression, quoting, quotechar, line_terminator, chunksize, date_format, doublequote, escapechar, decimal, errors, storage_options)\u001b[0m\n\u001b[0;32m   3382\u001b[0m         )\n\u001b[0;32m   3383\u001b[0m \u001b[1;33m\u001b[0m\u001b[0m\n\u001b[1;32m-> 3384\u001b[1;33m         return DataFrameRenderer(formatter).to_csv(\n\u001b[0m\u001b[0;32m   3385\u001b[0m             \u001b[0mpath_or_buf\u001b[0m\u001b[1;33m,\u001b[0m\u001b[1;33m\u001b[0m\u001b[1;33m\u001b[0m\u001b[0m\n\u001b[0;32m   3386\u001b[0m             \u001b[0mline_terminator\u001b[0m\u001b[1;33m=\u001b[0m\u001b[0mline_terminator\u001b[0m\u001b[1;33m,\u001b[0m\u001b[1;33m\u001b[0m\u001b[1;33m\u001b[0m\u001b[0m\n",
      "\u001b[1;32mC:\\Program Files\\Python39\\lib\\site-packages\\pandas\\io\\formats\\format.py\u001b[0m in \u001b[0;36mto_csv\u001b[1;34m(self, path_or_buf, encoding, sep, columns, index_label, mode, compression, quoting, quotechar, line_terminator, chunksize, date_format, doublequote, escapechar, errors, storage_options)\u001b[0m\n\u001b[0;32m   1081\u001b[0m             \u001b[0mformatter\u001b[0m\u001b[1;33m=\u001b[0m\u001b[0mself\u001b[0m\u001b[1;33m.\u001b[0m\u001b[0mfmt\u001b[0m\u001b[1;33m,\u001b[0m\u001b[1;33m\u001b[0m\u001b[1;33m\u001b[0m\u001b[0m\n\u001b[0;32m   1082\u001b[0m         )\n\u001b[1;32m-> 1083\u001b[1;33m         \u001b[0mcsv_formatter\u001b[0m\u001b[1;33m.\u001b[0m\u001b[0msave\u001b[0m\u001b[1;33m(\u001b[0m\u001b[1;33m)\u001b[0m\u001b[1;33m\u001b[0m\u001b[1;33m\u001b[0m\u001b[0m\n\u001b[0m\u001b[0;32m   1084\u001b[0m \u001b[1;33m\u001b[0m\u001b[0m\n\u001b[0;32m   1085\u001b[0m         \u001b[1;32mif\u001b[0m \u001b[0mcreated_buffer\u001b[0m\u001b[1;33m:\u001b[0m\u001b[1;33m\u001b[0m\u001b[1;33m\u001b[0m\u001b[0m\n",
      "\u001b[1;32mC:\\Program Files\\Python39\\lib\\site-packages\\pandas\\io\\formats\\csvs.py\u001b[0m in \u001b[0;36msave\u001b[1;34m(self)\u001b[0m\n\u001b[0;32m    226\u001b[0m         \"\"\"\n\u001b[0;32m    227\u001b[0m         \u001b[1;31m# apply compression and byte/text conversion\u001b[0m\u001b[1;33m\u001b[0m\u001b[1;33m\u001b[0m\u001b[1;33m\u001b[0m\u001b[0m\n\u001b[1;32m--> 228\u001b[1;33m         with get_handle(\n\u001b[0m\u001b[0;32m    229\u001b[0m             \u001b[0mself\u001b[0m\u001b[1;33m.\u001b[0m\u001b[0mfilepath_or_buffer\u001b[0m\u001b[1;33m,\u001b[0m\u001b[1;33m\u001b[0m\u001b[1;33m\u001b[0m\u001b[0m\n\u001b[0;32m    230\u001b[0m             \u001b[0mself\u001b[0m\u001b[1;33m.\u001b[0m\u001b[0mmode\u001b[0m\u001b[1;33m,\u001b[0m\u001b[1;33m\u001b[0m\u001b[1;33m\u001b[0m\u001b[0m\n",
      "\u001b[1;32mC:\\Program Files\\Python39\\lib\\site-packages\\pandas\\io\\common.py\u001b[0m in \u001b[0;36mget_handle\u001b[1;34m(path_or_buf, mode, encoding, compression, memory_map, is_text, errors, storage_options)\u001b[0m\n\u001b[0;32m    637\u001b[0m         \u001b[1;32mif\u001b[0m \u001b[0mioargs\u001b[0m\u001b[1;33m.\u001b[0m\u001b[0mencoding\u001b[0m \u001b[1;32mand\u001b[0m \u001b[1;34m\"b\"\u001b[0m \u001b[1;32mnot\u001b[0m \u001b[1;32min\u001b[0m \u001b[0mioargs\u001b[0m\u001b[1;33m.\u001b[0m\u001b[0mmode\u001b[0m\u001b[1;33m:\u001b[0m\u001b[1;33m\u001b[0m\u001b[1;33m\u001b[0m\u001b[0m\n\u001b[0;32m    638\u001b[0m             \u001b[1;31m# Encoding\u001b[0m\u001b[1;33m\u001b[0m\u001b[1;33m\u001b[0m\u001b[1;33m\u001b[0m\u001b[0m\n\u001b[1;32m--> 639\u001b[1;33m             handle = open(\n\u001b[0m\u001b[0;32m    640\u001b[0m                 \u001b[0mhandle\u001b[0m\u001b[1;33m,\u001b[0m\u001b[1;33m\u001b[0m\u001b[1;33m\u001b[0m\u001b[0m\n\u001b[0;32m    641\u001b[0m                 \u001b[0mioargs\u001b[0m\u001b[1;33m.\u001b[0m\u001b[0mmode\u001b[0m\u001b[1;33m,\u001b[0m\u001b[1;33m\u001b[0m\u001b[1;33m\u001b[0m\u001b[0m\n",
      "\u001b[1;31mPermissionError\u001b[0m: [Errno 13] Permission denied: 'ArtistIntegrated.csv'"
     ]
    }
   ],
   "source": [
    "ArtistIntegrated = pd.concat(\n",
    "    map(pd.read_csv, ['Handmade.csv', 'Artists.csv', 'Photographers.csv', 'Videoartists.csv', 'graphicartists.csv', 'Painters.csv']), ignore_index=True)\n",
    "ArtistIntegrated.to_csv('ArtistIntegrated.csv')\n",
    "\n"
   ]
  },
  {
   "cell_type": "code",
   "execution_count": 12,
   "id": "84ff1afe",
   "metadata": {},
   "outputs": [],
   "source": [
    "artists_genders = \"\"\" \n",
    "PREFIX rdfs: <http://www.w3.org/2000/01/rdf-schema#> \n",
    "PREFIX wd: <http://www.wikidata.org/entity/> \n",
    "SELECT DISTINCT (SAMPLE(?genderLabel) AS ?genderL)\n",
    "WHERE {{ \n",
    "     wd:{}  wdt:P21 ?gender . \n",
    "     ?gender rdfs:label ?genderLabel\n",
    "    FILTER (langMatches(lang(?genderLabel), \"EN\"))\n",
    "}} \n",
    "\"\"\""
   ]
  },
  {
   "cell_type": "code",
   "execution_count": null,
   "id": "56cc223a",
   "metadata": {},
   "outputs": [],
   "source": [
    "def find_artists_genders(wikiId): \n",
    "    query = artists_genders.format(wikiId.strip()) \n",
    "    res = return_sparql_query_results(query_string=query) \n",
    "    print(query) \n",
    "    try: \n",
    "        gender= res['results']['bindings'][0]['genderL']['value'] \n",
    "    except (IndexError, KeyError, JSONDecodeError, ChunkedEncodingError): \n",
    "        return \"\" \n",
    "    return gender"
   ]
  },
  {
   "cell_type": "code",
   "execution_count": null,
   "id": "cf7b0be8",
   "metadata": {},
   "outputs": [],
   "source": [
    "ArtistIntegrated[\"gender\"] = ArtistIntegrated[\"Artist Entity\"].apply(find_artists_genders)"
   ]
  },
  {
   "cell_type": "code",
   "execution_count": 20,
   "id": "c917aa3c",
   "metadata": {},
   "outputs": [
    {
     "data": {
      "text/html": [
       "<div>\n",
       "<style scoped>\n",
       "    .dataframe tbody tr th:only-of-type {\n",
       "        vertical-align: middle;\n",
       "    }\n",
       "\n",
       "    .dataframe tbody tr th {\n",
       "        vertical-align: top;\n",
       "    }\n",
       "\n",
       "    .dataframe thead th {\n",
       "        text-align: right;\n",
       "    }\n",
       "</style>\n",
       "<table border=\"1\" class=\"dataframe\">\n",
       "  <thead>\n",
       "    <tr style=\"text-align: right;\">\n",
       "      <th></th>\n",
       "      <th>id</th>\n",
       "      <th>name</th>\n",
       "      <th>gender</th>\n",
       "      <th>dates</th>\n",
       "      <th>yearOfBirth</th>\n",
       "      <th>yearOfDeath</th>\n",
       "      <th>placeOfBirth</th>\n",
       "      <th>placeOfDeath</th>\n",
       "      <th>url</th>\n",
       "      <th>Artist Entity</th>\n",
       "    </tr>\n",
       "  </thead>\n",
       "  <tbody>\n",
       "    <tr>\n",
       "      <th>0</th>\n",
       "      <td>12918</td>\n",
       "      <td>Ruth Baehnisch</td>\n",
       "      <td>male</td>\n",
       "      <td>1910–1997</td>\n",
       "      <td>191000.0</td>\n",
       "      <td>199700.0</td>\n",
       "      <td>NaN</td>\n",
       "      <td>NaN</td>\n",
       "      <td>http://www.tate.org.uk/art/artists/ruth-baehni...</td>\n",
       "      <td>Q94774202</td>\n",
       "    </tr>\n",
       "    <tr>\n",
       "      <th>1</th>\n",
       "      <td>18264</td>\n",
       "      <td>Nikolaj Bendix Skyum Larsen</td>\n",
       "      <td>male</td>\n",
       "      <td>born 1971</td>\n",
       "      <td>197100.0</td>\n",
       "      <td>NaN</td>\n",
       "      <td>NaN</td>\n",
       "      <td>NaN</td>\n",
       "      <td>http://www.tate.org.uk/art/artists/nikolaj-ben...</td>\n",
       "      <td>Q38054711</td>\n",
       "    </tr>\n",
       "    <tr>\n",
       "      <th>2</th>\n",
       "      <td>18242</td>\n",
       "      <td>Caroline Bergvall</td>\n",
       "      <td>female</td>\n",
       "      <td>born 1962</td>\n",
       "      <td>196200.0</td>\n",
       "      <td>NaN</td>\n",
       "      <td>NaN</td>\n",
       "      <td>NaN</td>\n",
       "      <td>http://www.tate.org.uk/art/artists/caroline-be...</td>\n",
       "      <td>Q5044980</td>\n",
       "    </tr>\n",
       "    <tr>\n",
       "      <th>3</th>\n",
       "      <td>3807</td>\n",
       "      <td>Samuel Cooper</td>\n",
       "      <td>male</td>\n",
       "      <td>1609–1672</td>\n",
       "      <td>160900.0</td>\n",
       "      <td>167200.0</td>\n",
       "      <td>NaN</td>\n",
       "      <td>NaN</td>\n",
       "      <td>http://www.tate.org.uk/art/artists/samuel-coop...</td>\n",
       "      <td>Q1382316</td>\n",
       "    </tr>\n",
       "    <tr>\n",
       "      <th>4</th>\n",
       "      <td>12074</td>\n",
       "      <td>Gaspard Dughet</td>\n",
       "      <td>male</td>\n",
       "      <td>1615–1675</td>\n",
       "      <td>161500.0</td>\n",
       "      <td>167500.0</td>\n",
       "      <td>NaN</td>\n",
       "      <td>NaN</td>\n",
       "      <td>http://www.tate.org.uk/art/artists/gaspard-dug...</td>\n",
       "      <td>Q741375</td>\n",
       "    </tr>\n",
       "    <tr>\n",
       "      <th>5</th>\n",
       "      <td>14308</td>\n",
       "      <td>Eugenio Espinoza</td>\n",
       "      <td>male</td>\n",
       "      <td>born 1950</td>\n",
       "      <td>195000.0</td>\n",
       "      <td>NaN</td>\n",
       "      <td>NaN</td>\n",
       "      <td>NaN</td>\n",
       "      <td>http://www.tate.org.uk/art/artists/eugenio-esp...</td>\n",
       "      <td>Q77349603</td>\n",
       "    </tr>\n",
       "    <tr>\n",
       "      <th>6</th>\n",
       "      <td>18244</td>\n",
       "      <td>Lawrence Abu Hamdan</td>\n",
       "      <td>male</td>\n",
       "      <td>born 1985</td>\n",
       "      <td>198500.0</td>\n",
       "      <td>NaN</td>\n",
       "      <td>NaN</td>\n",
       "      <td>NaN</td>\n",
       "      <td>http://www.tate.org.uk/art/artists/lawrence-ab...</td>\n",
       "      <td>Q28124166</td>\n",
       "    </tr>\n",
       "    <tr>\n",
       "      <th>7</th>\n",
       "      <td>3819</td>\n",
       "      <td>Stephen Herwijck</td>\n",
       "      <td>male</td>\n",
       "      <td>c.1530–1567</td>\n",
       "      <td>153000.0</td>\n",
       "      <td>156700.0</td>\n",
       "      <td>NaN</td>\n",
       "      <td>NaN</td>\n",
       "      <td>http://www.tate.org.uk/art/artists/stephen-van...</td>\n",
       "      <td>Q7615415</td>\n",
       "    </tr>\n",
       "    <tr>\n",
       "      <th>8</th>\n",
       "      <td>13334</td>\n",
       "      <td>Enrique Huerta</td>\n",
       "      <td>male</td>\n",
       "      <td>NaN</td>\n",
       "      <td>NaN</td>\n",
       "      <td>NaN</td>\n",
       "      <td>NaN</td>\n",
       "      <td>NaN</td>\n",
       "      <td>http://www.tate.org.uk/art/artists/enrique-hue...</td>\n",
       "      <td>Q29419664</td>\n",
       "    </tr>\n",
       "    <tr>\n",
       "      <th>9</th>\n",
       "      <td>17121</td>\n",
       "      <td>Nikolai Kochergin</td>\n",
       "      <td>male</td>\n",
       "      <td>1897 – 1974</td>\n",
       "      <td>189700.0</td>\n",
       "      <td>197400.0</td>\n",
       "      <td>NaN</td>\n",
       "      <td>NaN</td>\n",
       "      <td>http://www.tate.org.uk/art/artists/nikolai-koc...</td>\n",
       "      <td>Q43906005</td>\n",
       "    </tr>\n",
       "    <tr>\n",
       "      <th>10</th>\n",
       "      <td>5645</td>\n",
       "      <td>Nikolai Kogout</td>\n",
       "      <td>male</td>\n",
       "      <td>1891–1959</td>\n",
       "      <td>189100.0</td>\n",
       "      <td>195900.0</td>\n",
       "      <td>NaN</td>\n",
       "      <td>NaN</td>\n",
       "      <td>http://www.tate.org.uk/art/artists/nikolai-kog...</td>\n",
       "      <td>Q15068972</td>\n",
       "    </tr>\n",
       "    <tr>\n",
       "      <th>11</th>\n",
       "      <td>2633</td>\n",
       "      <td>Lairesse</td>\n",
       "      <td>male</td>\n",
       "      <td>NaN</td>\n",
       "      <td>NaN</td>\n",
       "      <td>NaN</td>\n",
       "      <td>NaN</td>\n",
       "      <td>NaN</td>\n",
       "      <td>http://www.tate.org.uk/art/artists/lairesse-2633</td>\n",
       "      <td>Q533958</td>\n",
       "    </tr>\n",
       "    <tr>\n",
       "      <th>12</th>\n",
       "      <td>17197</td>\n",
       "      <td>Hubert Le Sueur</td>\n",
       "      <td>male</td>\n",
       "      <td>c.1590 – after 1658</td>\n",
       "      <td>159000.0</td>\n",
       "      <td>165800.0</td>\n",
       "      <td>NaN</td>\n",
       "      <td>NaN</td>\n",
       "      <td>http://www.tate.org.uk/art/artists/hubert-le-s...</td>\n",
       "      <td>Q3142050</td>\n",
       "    </tr>\n",
       "    <tr>\n",
       "      <th>13</th>\n",
       "      <td>5813</td>\n",
       "      <td>Alexander Lebedev</td>\n",
       "      <td>male</td>\n",
       "      <td>NaN</td>\n",
       "      <td>NaN</td>\n",
       "      <td>NaN</td>\n",
       "      <td>NaN</td>\n",
       "      <td>NaN</td>\n",
       "      <td>http://www.tate.org.uk/art/artists/alexander-l...</td>\n",
       "      <td>Q16670267</td>\n",
       "    </tr>\n",
       "    <tr>\n",
       "      <th>14</th>\n",
       "      <td>5648</td>\n",
       "      <td>Dmitrii Moor</td>\n",
       "      <td>male</td>\n",
       "      <td>1883–1946</td>\n",
       "      <td>188300.0</td>\n",
       "      <td>194600.0</td>\n",
       "      <td>NaN</td>\n",
       "      <td>NaN</td>\n",
       "      <td>http://www.tate.org.uk/art/artists/dmitrii-moo...</td>\n",
       "      <td>Q504262</td>\n",
       "    </tr>\n",
       "    <tr>\n",
       "      <th>15</th>\n",
       "      <td>17008</td>\n",
       "      <td>James Orrock</td>\n",
       "      <td>male</td>\n",
       "      <td>1829–1913</td>\n",
       "      <td>182900.0</td>\n",
       "      <td>191300.0</td>\n",
       "      <td>NaN</td>\n",
       "      <td>NaN</td>\n",
       "      <td>http://www.tate.org.uk/art/artists/james-orroc...</td>\n",
       "      <td>Q6140661</td>\n",
       "    </tr>\n",
       "    <tr>\n",
       "      <th>16</th>\n",
       "      <td>18372</td>\n",
       "      <td>Sylvia Pankhurst</td>\n",
       "      <td>female</td>\n",
       "      <td>1882 – 1960</td>\n",
       "      <td>188200.0</td>\n",
       "      <td>196000.0</td>\n",
       "      <td>NaN</td>\n",
       "      <td>NaN</td>\n",
       "      <td>http://www.tate.org.uk/art/artists/sylvia-pank...</td>\n",
       "      <td>Q298213</td>\n",
       "    </tr>\n",
       "    <tr>\n",
       "      <th>17</th>\n",
       "      <td>11741</td>\n",
       "      <td>Paulo Pires</td>\n",
       "      <td>male</td>\n",
       "      <td>born 1928</td>\n",
       "      <td>192800.0</td>\n",
       "      <td>NaN</td>\n",
       "      <td>NaN</td>\n",
       "      <td>NaN</td>\n",
       "      <td>http://www.tate.org.uk/art/artists/paulo-pires...</td>\n",
       "      <td>Q77288304</td>\n",
       "    </tr>\n",
       "    <tr>\n",
       "      <th>18</th>\n",
       "      <td>15967</td>\n",
       "      <td>R. H. Quaytman</td>\n",
       "      <td>female</td>\n",
       "      <td>born 1961</td>\n",
       "      <td>196100.0</td>\n",
       "      <td>NaN</td>\n",
       "      <td>Boston, United States</td>\n",
       "      <td>NaN</td>\n",
       "      <td>http://www.tate.org.uk/art/artists/r-h-quaytma...</td>\n",
       "      <td>Q13560749</td>\n",
       "    </tr>\n",
       "    <tr>\n",
       "      <th>19</th>\n",
       "      <td>13098</td>\n",
       "      <td>Monika Sosnowska</td>\n",
       "      <td>female</td>\n",
       "      <td>born 1972</td>\n",
       "      <td>197200.0</td>\n",
       "      <td>NaN</td>\n",
       "      <td>NaN</td>\n",
       "      <td>NaN</td>\n",
       "      <td>http://www.tate.org.uk/art/artists/monika-sosn...</td>\n",
       "      <td>Q520491</td>\n",
       "    </tr>\n",
       "    <tr>\n",
       "      <th>20</th>\n",
       "      <td>17224</td>\n",
       "      <td>William Staite-Murray</td>\n",
       "      <td>male</td>\n",
       "      <td>NaN</td>\n",
       "      <td>NaN</td>\n",
       "      <td>NaN</td>\n",
       "      <td>NaN</td>\n",
       "      <td>NaN</td>\n",
       "      <td>http://www.tate.org.uk/art/artists/william-sta...</td>\n",
       "      <td>Q8018707</td>\n",
       "    </tr>\n",
       "    <tr>\n",
       "      <th>21</th>\n",
       "      <td>5739</td>\n",
       "      <td>Adolf Strakhov-Braslavsky</td>\n",
       "      <td>male</td>\n",
       "      <td>1896–1979</td>\n",
       "      <td>189600.0</td>\n",
       "      <td>197900.0</td>\n",
       "      <td>NaN</td>\n",
       "      <td>NaN</td>\n",
       "      <td>http://www.tate.org.uk/art/artists/adolf-strak...</td>\n",
       "      <td>Q4443469</td>\n",
       "    </tr>\n",
       "    <tr>\n",
       "      <th>22</th>\n",
       "      <td>17036</td>\n",
       "      <td>Adolphe Valette</td>\n",
       "      <td>male</td>\n",
       "      <td>1876 – 1942</td>\n",
       "      <td>187600.0</td>\n",
       "      <td>194200.0</td>\n",
       "      <td>NaN</td>\n",
       "      <td>NaN</td>\n",
       "      <td>http://www.tate.org.uk/art/artists/adolphe-val...</td>\n",
       "      <td>Q3237916</td>\n",
       "    </tr>\n",
       "    <tr>\n",
       "      <th>23</th>\n",
       "      <td>17732</td>\n",
       "      <td>Francis Vivares</td>\n",
       "      <td>male</td>\n",
       "      <td>NaN</td>\n",
       "      <td>NaN</td>\n",
       "      <td>NaN</td>\n",
       "      <td>NaN</td>\n",
       "      <td>NaN</td>\n",
       "      <td>http://www.tate.org.uk/art/artists/francis-viv...</td>\n",
       "      <td>Q5493438</td>\n",
       "    </tr>\n",
       "    <tr>\n",
       "      <th>24</th>\n",
       "      <td>18071</td>\n",
       "      <td>Richard Westmacott</td>\n",
       "      <td>male</td>\n",
       "      <td>1775–1856</td>\n",
       "      <td>177500.0</td>\n",
       "      <td>185600.0</td>\n",
       "      <td>NaN</td>\n",
       "      <td>NaN</td>\n",
       "      <td>http://www.tate.org.uk/art/artists/richard-wes...</td>\n",
       "      <td>Q6238282</td>\n",
       "    </tr>\n",
       "    <tr>\n",
       "      <th>25</th>\n",
       "      <td>13099</td>\n",
       "      <td>Jakub Julian Ziolkowski</td>\n",
       "      <td>male</td>\n",
       "      <td>born 1980</td>\n",
       "      <td>198000.0</td>\n",
       "      <td>NaN</td>\n",
       "      <td>NaN</td>\n",
       "      <td>NaN</td>\n",
       "      <td>http://www.tate.org.uk/art/artists/jakub-julia...</td>\n",
       "      <td>Q1267768</td>\n",
       "    </tr>\n",
       "    <tr>\n",
       "      <th>26</th>\n",
       "      <td>657</td>\n",
       "      <td>Shusaku Arakawa</td>\n",
       "      <td>male</td>\n",
       "      <td>1936–2010</td>\n",
       "      <td>19360.0</td>\n",
       "      <td>20100.0</td>\n",
       "      <td>Nagoya, Nihon</td>\n",
       "      <td>New York, United States</td>\n",
       "      <td>http://www.tate.org.uk/art/artists/shusaku-ara...</td>\n",
       "      <td>Q478264</td>\n",
       "    </tr>\n",
       "    <tr>\n",
       "      <th>27</th>\n",
       "      <td>14424</td>\n",
       "      <td>Kiyohiko Komura</td>\n",
       "      <td>male</td>\n",
       "      <td>1899–1969</td>\n",
       "      <td>18990.0</td>\n",
       "      <td>19690.0</td>\n",
       "      <td>NaN</td>\n",
       "      <td>NaN</td>\n",
       "      <td>http://www.tate.org.uk/art/artists/kiyohiko-ko...</td>\n",
       "      <td>Q64826662</td>\n",
       "    </tr>\n",
       "    <tr>\n",
       "      <th>28</th>\n",
       "      <td>16926</td>\n",
       "      <td>Len Lye</td>\n",
       "      <td>male</td>\n",
       "      <td>NaN</td>\n",
       "      <td>NaN</td>\n",
       "      <td>NaN</td>\n",
       "      <td>NaN</td>\n",
       "      <td>NaN</td>\n",
       "      <td>http://www.tate.org.uk/art/artists/len-lye-16926</td>\n",
       "      <td>Q1288566</td>\n",
       "    </tr>\n",
       "    <tr>\n",
       "      <th>29</th>\n",
       "      <td>5672</td>\n",
       "      <td>Vladimir Mayakovsky</td>\n",
       "      <td>male</td>\n",
       "      <td>1893–1930</td>\n",
       "      <td>18930.0</td>\n",
       "      <td>19300.0</td>\n",
       "      <td>NaN</td>\n",
       "      <td>NaN</td>\n",
       "      <td>http://www.tate.org.uk/art/artists/vladimir-ma...</td>\n",
       "      <td>Q132964</td>\n",
       "    </tr>\n",
       "    <tr>\n",
       "      <th>30</th>\n",
       "      <td>18266</td>\n",
       "      <td>Mithu Sen</td>\n",
       "      <td>female</td>\n",
       "      <td>born 1971</td>\n",
       "      <td>19710.0</td>\n",
       "      <td>NaN</td>\n",
       "      <td>NaN</td>\n",
       "      <td>NaN</td>\n",
       "      <td>http://www.tate.org.uk/art/artists/mithu-sen-1...</td>\n",
       "      <td>Q43136922</td>\n",
       "    </tr>\n",
       "    <tr>\n",
       "      <th>31</th>\n",
       "      <td>10428</td>\n",
       "      <td>Christina Broom</td>\n",
       "      <td>female</td>\n",
       "      <td>1863–1939</td>\n",
       "      <td>18630.0</td>\n",
       "      <td>19390.0</td>\n",
       "      <td>NaN</td>\n",
       "      <td>NaN</td>\n",
       "      <td>http://www.tate.org.uk/art/artists/christina-b...</td>\n",
       "      <td>Q5110756</td>\n",
       "    </tr>\n",
       "    <tr>\n",
       "      <th>32</th>\n",
       "      <td>13086</td>\n",
       "      <td>Juan Downey</td>\n",
       "      <td>male</td>\n",
       "      <td>1940–1993</td>\n",
       "      <td>19400.0</td>\n",
       "      <td>19930.0</td>\n",
       "      <td>NaN</td>\n",
       "      <td>NaN</td>\n",
       "      <td>http://www.tate.org.uk/art/artists/juan-downey...</td>\n",
       "      <td>Q3817219</td>\n",
       "    </tr>\n",
       "    <tr>\n",
       "      <th>33</th>\n",
       "      <td>13568</td>\n",
       "      <td>Jack Goldstein</td>\n",
       "      <td>male</td>\n",
       "      <td>1945–2003</td>\n",
       "      <td>19450.0</td>\n",
       "      <td>20030.0</td>\n",
       "      <td>NaN</td>\n",
       "      <td>NaN</td>\n",
       "      <td>http://www.tate.org.uk/art/artists/jack-goldst...</td>\n",
       "      <td>Q1677042</td>\n",
       "    </tr>\n",
       "    <tr>\n",
       "      <th>34</th>\n",
       "      <td>13736</td>\n",
       "      <td>Suzanne Lacy</td>\n",
       "      <td>female</td>\n",
       "      <td>born 1945</td>\n",
       "      <td>19450.0</td>\n",
       "      <td>NaN</td>\n",
       "      <td>NaN</td>\n",
       "      <td>NaN</td>\n",
       "      <td>http://www.tate.org.uk/art/artists/suzanne-lac...</td>\n",
       "      <td>Q7650894</td>\n",
       "    </tr>\n",
       "    <tr>\n",
       "      <th>35</th>\n",
       "      <td>2634</td>\n",
       "      <td>Morin</td>\n",
       "      <td>male</td>\n",
       "      <td>NaN</td>\n",
       "      <td>NaN</td>\n",
       "      <td>NaN</td>\n",
       "      <td>NaN</td>\n",
       "      <td>NaN</td>\n",
       "      <td>http://www.tate.org.uk/art/artists/morin-2634</td>\n",
       "      <td>Q104382715</td>\n",
       "    </tr>\n",
       "    <tr>\n",
       "      <th>36</th>\n",
       "      <td>11737</td>\n",
       "      <td>Eduardo Salvatore</td>\n",
       "      <td>male</td>\n",
       "      <td>1914–2006</td>\n",
       "      <td>19140.0</td>\n",
       "      <td>20060.0</td>\n",
       "      <td>NaN</td>\n",
       "      <td>NaN</td>\n",
       "      <td>http://www.tate.org.uk/art/artists/eduardo-sal...</td>\n",
       "      <td>Q10270768</td>\n",
       "    </tr>\n",
       "    <tr>\n",
       "      <th>37</th>\n",
       "      <td>12947</td>\n",
       "      <td>Gunther Sander</td>\n",
       "      <td>male</td>\n",
       "      <td>1907– 1986</td>\n",
       "      <td>19070.0</td>\n",
       "      <td>19860.0</td>\n",
       "      <td>NaN</td>\n",
       "      <td>NaN</td>\n",
       "      <td>http://www.tate.org.uk/art/artists/gunther-san...</td>\n",
       "      <td>Q61817490</td>\n",
       "    </tr>\n",
       "    <tr>\n",
       "      <th>38</th>\n",
       "      <td>2735</td>\n",
       "      <td>Stephanie Smith</td>\n",
       "      <td>female</td>\n",
       "      <td>born 1968, born 1961</td>\n",
       "      <td>19610.0</td>\n",
       "      <td>NaN</td>\n",
       "      <td>NaN</td>\n",
       "      <td>NaN</td>\n",
       "      <td>http://www.tate.org.uk/art/artists/stephanie-s...</td>\n",
       "      <td>Q100391910</td>\n",
       "    </tr>\n",
       "    <tr>\n",
       "      <th>39</th>\n",
       "      <td>5227</td>\n",
       "      <td>Haim Steinbach</td>\n",
       "      <td>male</td>\n",
       "      <td>born 1944</td>\n",
       "      <td>19440.0</td>\n",
       "      <td>NaN</td>\n",
       "      <td>NaN</td>\n",
       "      <td>NaN</td>\n",
       "      <td>http://www.tate.org.uk/art/artists/haim-steinb...</td>\n",
       "      <td>Q5639315</td>\n",
       "    </tr>\n",
       "    <tr>\n",
       "      <th>40</th>\n",
       "      <td>11740</td>\n",
       "      <td>José Yalenti</td>\n",
       "      <td>male</td>\n",
       "      <td>1895–1967</td>\n",
       "      <td>18950.0</td>\n",
       "      <td>19670.0</td>\n",
       "      <td>NaN</td>\n",
       "      <td>NaN</td>\n",
       "      <td>http://www.tate.org.uk/art/artists/jose-yalent...</td>\n",
       "      <td>Q20018089</td>\n",
       "    </tr>\n",
       "    <tr>\n",
       "      <th>41</th>\n",
       "      <td>18243</td>\n",
       "      <td>Amar Kanwar</td>\n",
       "      <td>male</td>\n",
       "      <td>born 1964</td>\n",
       "      <td>19640.0</td>\n",
       "      <td>NaN</td>\n",
       "      <td>NaN</td>\n",
       "      <td>NaN</td>\n",
       "      <td>http://www.tate.org.uk/art/artists/amar-kanwar...</td>\n",
       "      <td>Q454717</td>\n",
       "    </tr>\n",
       "    <tr>\n",
       "      <th>42</th>\n",
       "      <td>10282</td>\n",
       "      <td>Melik Ohanian</td>\n",
       "      <td>male</td>\n",
       "      <td>born 1969</td>\n",
       "      <td>19690.0</td>\n",
       "      <td>NaN</td>\n",
       "      <td>NaN</td>\n",
       "      <td>NaN</td>\n",
       "      <td>http://www.tate.org.uk/art/artists/melik-ohani...</td>\n",
       "      <td>Q3305059</td>\n",
       "    </tr>\n",
       "    <tr>\n",
       "      <th>43</th>\n",
       "      <td>5669</td>\n",
       "      <td>Viktor Deni</td>\n",
       "      <td>male</td>\n",
       "      <td>1893–1946</td>\n",
       "      <td>18930.0</td>\n",
       "      <td>19460.0</td>\n",
       "      <td>NaN</td>\n",
       "      <td>NaN</td>\n",
       "      <td>http://www.tate.org.uk/art/artists/viktor-deni...</td>\n",
       "      <td>Q503993</td>\n",
       "    </tr>\n",
       "    <tr>\n",
       "      <th>44</th>\n",
       "      <td>14825</td>\n",
       "      <td>Shelagh Wakely</td>\n",
       "      <td>female</td>\n",
       "      <td>1932–2011</td>\n",
       "      <td>19320.0</td>\n",
       "      <td>20110.0</td>\n",
       "      <td>NaN</td>\n",
       "      <td>NaN</td>\n",
       "      <td>http://www.tate.org.uk/art/artists/shelagh-wak...</td>\n",
       "      <td>Q26457496</td>\n",
       "    </tr>\n",
       "  </tbody>\n",
       "</table>\n",
       "</div>"
      ],
      "text/plain": [
       "       id                         name  gender                 dates  \\\n",
       "0   12918               Ruth Baehnisch    male             1910–1997   \n",
       "1   18264  Nikolaj Bendix Skyum Larsen    male             born 1971   \n",
       "2   18242            Caroline Bergvall  female             born 1962   \n",
       "3    3807                Samuel Cooper    male             1609–1672   \n",
       "4   12074               Gaspard Dughet    male             1615–1675   \n",
       "5   14308             Eugenio Espinoza    male             born 1950   \n",
       "6   18244          Lawrence Abu Hamdan    male             born 1985   \n",
       "7    3819             Stephen Herwijck    male           c.1530–1567   \n",
       "8   13334               Enrique Huerta    male                   NaN   \n",
       "9   17121            Nikolai Kochergin    male           1897 – 1974   \n",
       "10   5645               Nikolai Kogout    male             1891–1959   \n",
       "11   2633                     Lairesse    male                   NaN   \n",
       "12  17197              Hubert Le Sueur    male   c.1590 – after 1658   \n",
       "13   5813            Alexander Lebedev    male                   NaN   \n",
       "14   5648                 Dmitrii Moor    male             1883–1946   \n",
       "15  17008                 James Orrock    male             1829–1913   \n",
       "16  18372             Sylvia Pankhurst  female           1882 – 1960   \n",
       "17  11741                  Paulo Pires    male             born 1928   \n",
       "18  15967               R. H. Quaytman  female             born 1961   \n",
       "19  13098             Monika Sosnowska  female             born 1972   \n",
       "20  17224        William Staite-Murray    male                   NaN   \n",
       "21   5739    Adolf Strakhov-Braslavsky    male             1896–1979   \n",
       "22  17036              Adolphe Valette    male           1876 – 1942   \n",
       "23  17732              Francis Vivares    male                   NaN   \n",
       "24  18071           Richard Westmacott    male             1775–1856   \n",
       "25  13099      Jakub Julian Ziolkowski    male             born 1980   \n",
       "26    657              Shusaku Arakawa    male             1936–2010   \n",
       "27  14424              Kiyohiko Komura    male             1899–1969   \n",
       "28  16926                      Len Lye    male                   NaN   \n",
       "29   5672          Vladimir Mayakovsky    male             1893–1930   \n",
       "30  18266                    Mithu Sen  female             born 1971   \n",
       "31  10428              Christina Broom  female             1863–1939   \n",
       "32  13086                  Juan Downey    male             1940–1993   \n",
       "33  13568               Jack Goldstein    male             1945–2003   \n",
       "34  13736                 Suzanne Lacy  female             born 1945   \n",
       "35   2634                        Morin    male                   NaN   \n",
       "36  11737            Eduardo Salvatore    male             1914–2006   \n",
       "37  12947               Gunther Sander    male            1907– 1986   \n",
       "38   2735              Stephanie Smith  female  born 1968, born 1961   \n",
       "39   5227               Haim Steinbach    male             born 1944   \n",
       "40  11740                 José Yalenti    male             1895–1967   \n",
       "41  18243                  Amar Kanwar    male             born 1964   \n",
       "42  10282                Melik Ohanian    male             born 1969   \n",
       "43   5669                  Viktor Deni    male             1893–1946   \n",
       "44  14825               Shelagh Wakely  female             1932–2011   \n",
       "\n",
       "    yearOfBirth  yearOfDeath           placeOfBirth             placeOfDeath  \\\n",
       "0      191000.0     199700.0                    NaN                      NaN   \n",
       "1      197100.0          NaN                    NaN                      NaN   \n",
       "2      196200.0          NaN                    NaN                      NaN   \n",
       "3      160900.0     167200.0                    NaN                      NaN   \n",
       "4      161500.0     167500.0                    NaN                      NaN   \n",
       "5      195000.0          NaN                    NaN                      NaN   \n",
       "6      198500.0          NaN                    NaN                      NaN   \n",
       "7      153000.0     156700.0                    NaN                      NaN   \n",
       "8           NaN          NaN                    NaN                      NaN   \n",
       "9      189700.0     197400.0                    NaN                      NaN   \n",
       "10     189100.0     195900.0                    NaN                      NaN   \n",
       "11          NaN          NaN                    NaN                      NaN   \n",
       "12     159000.0     165800.0                    NaN                      NaN   \n",
       "13          NaN          NaN                    NaN                      NaN   \n",
       "14     188300.0     194600.0                    NaN                      NaN   \n",
       "15     182900.0     191300.0                    NaN                      NaN   \n",
       "16     188200.0     196000.0                    NaN                      NaN   \n",
       "17     192800.0          NaN                    NaN                      NaN   \n",
       "18     196100.0          NaN  Boston, United States                      NaN   \n",
       "19     197200.0          NaN                    NaN                      NaN   \n",
       "20          NaN          NaN                    NaN                      NaN   \n",
       "21     189600.0     197900.0                    NaN                      NaN   \n",
       "22     187600.0     194200.0                    NaN                      NaN   \n",
       "23          NaN          NaN                    NaN                      NaN   \n",
       "24     177500.0     185600.0                    NaN                      NaN   \n",
       "25     198000.0          NaN                    NaN                      NaN   \n",
       "26      19360.0      20100.0          Nagoya, Nihon  New York, United States   \n",
       "27      18990.0      19690.0                    NaN                      NaN   \n",
       "28          NaN          NaN                    NaN                      NaN   \n",
       "29      18930.0      19300.0                    NaN                      NaN   \n",
       "30      19710.0          NaN                    NaN                      NaN   \n",
       "31      18630.0      19390.0                    NaN                      NaN   \n",
       "32      19400.0      19930.0                    NaN                      NaN   \n",
       "33      19450.0      20030.0                    NaN                      NaN   \n",
       "34      19450.0          NaN                    NaN                      NaN   \n",
       "35          NaN          NaN                    NaN                      NaN   \n",
       "36      19140.0      20060.0                    NaN                      NaN   \n",
       "37      19070.0      19860.0                    NaN                      NaN   \n",
       "38      19610.0          NaN                    NaN                      NaN   \n",
       "39      19440.0          NaN                    NaN                      NaN   \n",
       "40      18950.0      19670.0                    NaN                      NaN   \n",
       "41      19640.0          NaN                    NaN                      NaN   \n",
       "42      19690.0          NaN                    NaN                      NaN   \n",
       "43      18930.0      19460.0                    NaN                      NaN   \n",
       "44      19320.0      20110.0                    NaN                      NaN   \n",
       "\n",
       "                                                  url Artist Entity  \n",
       "0   http://www.tate.org.uk/art/artists/ruth-baehni...     Q94774202  \n",
       "1   http://www.tate.org.uk/art/artists/nikolaj-ben...     Q38054711  \n",
       "2   http://www.tate.org.uk/art/artists/caroline-be...      Q5044980  \n",
       "3   http://www.tate.org.uk/art/artists/samuel-coop...      Q1382316  \n",
       "4   http://www.tate.org.uk/art/artists/gaspard-dug...       Q741375  \n",
       "5   http://www.tate.org.uk/art/artists/eugenio-esp...     Q77349603  \n",
       "6   http://www.tate.org.uk/art/artists/lawrence-ab...     Q28124166  \n",
       "7   http://www.tate.org.uk/art/artists/stephen-van...      Q7615415  \n",
       "8   http://www.tate.org.uk/art/artists/enrique-hue...     Q29419664  \n",
       "9   http://www.tate.org.uk/art/artists/nikolai-koc...     Q43906005  \n",
       "10  http://www.tate.org.uk/art/artists/nikolai-kog...     Q15068972  \n",
       "11   http://www.tate.org.uk/art/artists/lairesse-2633       Q533958  \n",
       "12  http://www.tate.org.uk/art/artists/hubert-le-s...      Q3142050  \n",
       "13  http://www.tate.org.uk/art/artists/alexander-l...     Q16670267  \n",
       "14  http://www.tate.org.uk/art/artists/dmitrii-moo...       Q504262  \n",
       "15  http://www.tate.org.uk/art/artists/james-orroc...      Q6140661  \n",
       "16  http://www.tate.org.uk/art/artists/sylvia-pank...       Q298213  \n",
       "17  http://www.tate.org.uk/art/artists/paulo-pires...     Q77288304  \n",
       "18  http://www.tate.org.uk/art/artists/r-h-quaytma...     Q13560749  \n",
       "19  http://www.tate.org.uk/art/artists/monika-sosn...       Q520491  \n",
       "20  http://www.tate.org.uk/art/artists/william-sta...      Q8018707  \n",
       "21  http://www.tate.org.uk/art/artists/adolf-strak...      Q4443469  \n",
       "22  http://www.tate.org.uk/art/artists/adolphe-val...      Q3237916  \n",
       "23  http://www.tate.org.uk/art/artists/francis-viv...      Q5493438  \n",
       "24  http://www.tate.org.uk/art/artists/richard-wes...      Q6238282  \n",
       "25  http://www.tate.org.uk/art/artists/jakub-julia...      Q1267768  \n",
       "26  http://www.tate.org.uk/art/artists/shusaku-ara...       Q478264  \n",
       "27  http://www.tate.org.uk/art/artists/kiyohiko-ko...     Q64826662  \n",
       "28   http://www.tate.org.uk/art/artists/len-lye-16926      Q1288566  \n",
       "29  http://www.tate.org.uk/art/artists/vladimir-ma...       Q132964  \n",
       "30  http://www.tate.org.uk/art/artists/mithu-sen-1...     Q43136922  \n",
       "31  http://www.tate.org.uk/art/artists/christina-b...      Q5110756  \n",
       "32  http://www.tate.org.uk/art/artists/juan-downey...      Q3817219  \n",
       "33  http://www.tate.org.uk/art/artists/jack-goldst...      Q1677042  \n",
       "34  http://www.tate.org.uk/art/artists/suzanne-lac...      Q7650894  \n",
       "35      http://www.tate.org.uk/art/artists/morin-2634    Q104382715  \n",
       "36  http://www.tate.org.uk/art/artists/eduardo-sal...     Q10270768  \n",
       "37  http://www.tate.org.uk/art/artists/gunther-san...     Q61817490  \n",
       "38  http://www.tate.org.uk/art/artists/stephanie-s...    Q100391910  \n",
       "39  http://www.tate.org.uk/art/artists/haim-steinb...      Q5639315  \n",
       "40  http://www.tate.org.uk/art/artists/jose-yalent...     Q20018089  \n",
       "41  http://www.tate.org.uk/art/artists/amar-kanwar...       Q454717  \n",
       "42  http://www.tate.org.uk/art/artists/melik-ohani...      Q3305059  \n",
       "43  http://www.tate.org.uk/art/artists/viktor-deni...       Q503993  \n",
       "44  http://www.tate.org.uk/art/artists/shelagh-wak...     Q26457496  "
      ]
     },
     "metadata": {},
     "output_type": "display_data"
    }
   ],
   "source": [
    "Artistswithgender = pd.read_csv('ArtistIntegratedFinal.csv')\n",
    "Artistswithgender[\"id\"] = Artistswithgender[\"id\"].astype(str)\n",
    "display(Artistswithgender)\n"
   ]
  },
  {
   "cell_type": "code",
   "execution_count": 24,
   "id": "737201a2",
   "metadata": {},
   "outputs": [
    {
     "data": {
      "text/plain": [
       "Male      2895\n",
       "Female     521\n",
       "Name: gender, dtype: int64"
      ]
     },
     "execution_count": 24,
     "metadata": {},
     "output_type": "execute_result"
    }
   ],
   "source": [
    "TateArtists['gender'].value_counts()"
   ]
  },
  {
   "cell_type": "code",
   "execution_count": 22,
   "id": "11a9867d",
   "metadata": {},
   "outputs": [
    {
     "data": {
      "text/plain": [
       "Male          9715\n",
       "Female        2342\n",
       "male            17\n",
       "Non-Binary       2\n",
       "female           1\n",
       "Non-binary       1\n",
       "Name: Gender, dtype: int64"
      ]
     },
     "execution_count": 22,
     "metadata": {},
     "output_type": "execute_result"
    }
   ],
   "source": [
    "MoMaArtists['Gender'].value_counts()"
   ]
  },
  {
   "cell_type": "markdown",
   "id": "059444fd",
   "metadata": {},
   "source": [
    "### What are the most represented nationalities?"
   ]
  },
  {
   "cell_type": "markdown",
   "id": "a435e232",
   "metadata": {},
   "source": [
    "### MoMa"
   ]
  },
  {
   "cell_type": "code",
   "execution_count": 58,
   "id": "16e83f64",
   "metadata": {},
   "outputs": [
    {
     "data": {
      "text/plain": [
       "American          5181\n",
       "German             965\n",
       "British            860\n",
       "French             847\n",
       "Italian            536\n",
       "                  ... \n",
       "Bahamian             1\n",
       "Bangladeshi          1\n",
       "Coptic               1\n",
       "Sierra Leonean       1\n",
       "Ugandan              1\n",
       "Name: Nationality, Length: 119, dtype: int64"
      ]
     },
     "execution_count": 58,
     "metadata": {},
     "output_type": "execute_result"
    }
   ],
   "source": [
    "MoMaArtists['Nationality'].value_counts()"
   ]
  },
  {
   "cell_type": "markdown",
   "id": "5551facb",
   "metadata": {},
   "source": [
    "### Tate"
   ]
  },
  {
   "cell_type": "code",
   "execution_count": 59,
   "id": "9a320187",
   "metadata": {},
   "outputs": [],
   "source": [
    "def cleanNationalitiesTate(naz): \n",
    "    if ',' in naz: \n",
    "        naz = naz.split(',')[1] \n",
    "    if naz == 'Blackheath': \n",
    "        naz= naz.replace('Blackheath', 'United Kingdom') \n",
    "    if naz == 'London': \n",
    "        naz= naz.replace('London', 'United Kingdom') \n",
    "    if naz == 'Kensington': \n",
    "        naz= naz.replace('Kensington', 'United Kingdom') \n",
    "    if naz == 'Chung-hua Min-kuo': \n",
    "        naz= naz.replace('Chung-hua Min-kuo', 'Taiwan') \n",
    "    if naz == 'Solothurn': \n",
    "        naz= naz.replace('Solothurn', 'Schweiz') \n",
    "    if naz == 'Melmerby': \n",
    "        naz= naz.replace('Melmerby', 'United Kingdom') \n",
    "    if naz == 'Montserrat': \n",
    "        naz= naz.replace('Montserrat', 'España') \n",
    "    if naz == 'Canterbury': \n",
    "        naz= naz.replace('Canterbury', 'United Kingdom') \n",
    "    if naz == 'Staten Island': \n",
    "        naz= naz.replace('Staten Island', 'United States') \n",
    "    if naz == 'Epsom': \n",
    "        naz= naz.replace('Epsom', 'United Kingdom') \n",
    "    if naz == 'Plymouth': \n",
    "        naz= naz.replace('Plymouth', 'United Kingdom') \n",
    "    if naz == 'Wimbledon': \n",
    "        naz= naz.replace('Wimbledon', 'United Kingdom') \n",
    "    if naz == 'Edinburgh': \n",
    "        naz= naz.replace('Edinburgh', 'United Kingdom') \n",
    "    if naz == 'Beckington': \n",
    "        naz= naz.replace('Beckington', 'United Kingdom') \n",
    "    if naz == 'Hertfordshire': \n",
    "        naz= naz.replace('Hertfordshire', 'United Kingdom') \n",
    "    if naz == 'Isle of Man': \n",
    "        naz= naz.replace('Isle of Man', 'United Kingdom') \n",
    "    if naz == 'Bristol': \n",
    "        naz= naz.replace('Bristol', 'United Kingdom') \n",
    "    if naz == 'Liverpool': \n",
    "        naz= naz.replace('Liverpool', 'United Kingdom') \n",
    "    if naz == 'Braintree': \n",
    "        naz= naz.replace('Braintree', 'United Kingdom') \n",
    "    if naz == 'Stoke on Trent': \n",
    "        naz= naz.replace('Stoke on Trent', 'United Kingdom') \n",
    "    if naz == 'Rochdale': \n",
    "        naz= naz.replace('Rochdale', 'United Kingdom') \n",
    "    if 'D.C.' in naz: \n",
    "        naz= naz.replace('D.C.', 'Colombia') \n",
    "    if 'Otok' in naz: \n",
    "        naz= naz.replace('Otok', 'Hrvatska') \n",
    "    if 'Département de la' in naz: \n",
    "        naz= naz.replace('Département de la', 'France') \n",
    "    if naz == 'Niederschlesien': \n",
    "        naz= naz.replace('Niederschlesien', 'Polska') \n",
    "    if naz == 'Perth': \n",
    "        naz= naz.replace('Perth', 'Australia') \n",
    "    if naz == 'Bermondsey': \n",
    "        naz= naz.replace('Bermondsey', 'United Kingdom') \n",
    "    if naz == 'Egremont': \n",
    "        naz= naz.replace('Egremont', 'United Kingdom') \n",
    "    if naz == 'Charlotte Amalie': \n",
    "        naz= naz.replace('Charlotte Amalie', 'United States') \n",
    "    if naz == 'Charlieu': \n",
    "        naz= naz.replace('Charlieu', 'France') \n",
    "    if naz == 'Stockholm': \n",
    "        naz= naz.replace('Stockholm', 'Sverige') \n",
    "    if naz == 'Auteuil': \n",
    "        naz= naz.replace('Auteuil', 'France') \n",
    " \n",
    "    if 'Polska' in naz: \n",
    "        naz = naz.replace('Polska', 'Poland') \n",
    "    if \"Yisra'el\" in naz: \n",
    "        naz = naz.replace(\"Yisra'el\", 'Israel') \n",
    "    if 'Deutschland' in naz: \n",
    "        naz = naz.replace('Deutschland', 'Germany') \n",
    "    if 'Schweiz' in naz: \n",
    "        naz = naz.replace('Schweiz', 'Switzerland') \n",
    "    if 'Suomi' in naz: \n",
    "        naz = naz.replace('Suomi', 'Finland') \n",
    "    if 'Zhonghua' in naz: \n",
    "        naz = naz.replace('Zhonghua', 'China') \n",
    "    if 'Türkiye' in naz: \n",
    "        naz = naz.replace('Türkiye', 'Turkey') \n",
    "    if 'Al-‘Iraq' in naz: \n",
    "        naz = naz.replace('Al-‘Iraq', 'Iraq') \n",
    "    if 'België' in naz: \n",
    "        naz = naz.replace('België', 'Belgium') \n",
    "    if 'Rossiya' in naz: \n",
    "        naz = naz.replace('Rossiya', 'Russia') \n",
    "    if 'Nihon' in naz: \n",
    "        naz = naz.replace('Nihon', 'Japan') \n",
    "    if 'Éire' in naz: \n",
    "        naz = naz.replace('Éire', 'Ireland') \n",
    "    if 'Österreich' in naz: \n",
    "        naz = naz.replace('Österreich', 'Austria') \n",
    "    if 'Saint Hélier' in naz: \n",
    "        naz = naz.replace('Saint Hélier', 'United Kingdom') \n",
    "    if 'Ceská Republik' in naz: \n",
    "        naz = naz.replace('Ceská Republik', 'Czech Republic') \n",
    "    if 'Ukrayina' in naz: \n",
    "        naz = naz.replace('Ukrayina', 'Ukraine') \n",
    "    if 'Ellás' in naz: \n",
    "        naz = naz.replace('Ellás', 'Greece') \n",
    "    if 'Latvija ' in naz: \n",
    "        naz = naz.replace('Latvija ', 'Latvia') \n",
    "    if 'Douglas' in naz: \n",
    "        naz = naz.replace('Douglas', 'United Kingdom') \n",
    "    if 'România' in naz: \n",
    "        naz = naz.replace('România', 'Romania') \n",
    "    if 'Sverige' in naz: \n",
    "        naz = naz.replace('Sverige', 'Sweden') \n",
    "    if 'Bharat' in naz: \n",
    "        naz = naz.replace('Bharat', 'India')     \n",
    "    if 'España' in naz: \n",
    "        naz = naz.replace('España', 'Spain')   \n",
    "    if 'Magyarország' in naz: \n",
    "        naz = naz.replace('Magyarország', 'Hungery')  \n",
    "    if 'Slovenská Republika' in naz: \n",
    "        naz = naz.replace('Slovenská Republika', 'Slovenia')  \n",
    "        \n",
    "    return naz.strip()"
   ]
  },
  {
   "cell_type": "code",
   "execution_count": 60,
   "id": "d1e3f240",
   "metadata": {},
   "outputs": [],
   "source": [
    "TateArtists = TateArtists[TateArtists['placeOfBirth'].notna()] \n",
    "TateArtists[\"placeOfBirth\"] = TateArtists[\"placeOfBirth\"].apply(cleanNationalitiesTate)"
   ]
  },
  {
   "cell_type": "code",
   "execution_count": 61,
   "id": "81d26eef",
   "metadata": {},
   "outputs": [
    {
     "data": {
      "text/plain": [
       "United Kingdom    1522\n",
       "United States      341\n",
       "France             160\n",
       "Germany            142\n",
       "Italia              80\n",
       "                  ... \n",
       "Barbados             1\n",
       "Nicaragua            1\n",
       "Iraq                 1\n",
       "Luxembourg           1\n",
       "Prathet Thai         1\n",
       "Name: placeOfBirth, Length: 98, dtype: int64"
      ]
     },
     "execution_count": 61,
     "metadata": {},
     "output_type": "execute_result"
    }
   ],
   "source": [
    "TateArtists['placeOfBirth'].value_counts()"
   ]
  },
  {
   "cell_type": "markdown",
   "id": "5625d37b",
   "metadata": {},
   "source": [
    "# Acquisition criteria."
   ]
  },
  {
   "cell_type": "markdown",
   "id": "c20702e1",
   "metadata": {},
   "source": [
    "1.  In which years are artists' works mostly acquired?"
   ]
  },
  {
   "cell_type": "markdown",
   "id": "a3abe7b0",
   "metadata": {},
   "source": [
    "## Year by year"
   ]
  },
  {
   "cell_type": "code",
   "execution_count": 62,
   "id": "d626f9a3",
   "metadata": {},
   "outputs": [
    {
     "data": {
      "text/plain": [
       "1964    12828\n",
       "2008     7204\n",
       "1968     6894\n",
       "0        6682\n",
       "2001     4170\n",
       "        ...  \n",
       "1933       93\n",
       "1932       18\n",
       "1929        9\n",
       "1930        7\n",
       "1931        3\n",
       "Name: DateAcquired, Length: 95, dtype: int64"
      ]
     },
     "execution_count": 62,
     "metadata": {},
     "output_type": "execute_result"
    }
   ],
   "source": [
    "MoMa['DateAcquired'].value_counts()"
   ]
  },
  {
   "cell_type": "code",
   "execution_count": 63,
   "id": "639a2c4f",
   "metadata": {},
   "outputs": [
    {
     "data": {
      "text/plain": [
       "<bound method IndexOpsMixin.value_counts of 0        1922\n",
       "1        1922\n",
       "2        1922\n",
       "3        1922\n",
       "4        1919\n",
       "         ... \n",
       "69196    2013\n",
       "69197    2013\n",
       "69198    2013\n",
       "69199    2013\n",
       "69200    2013\n",
       "Name: DateAcquired, Length: 69201, dtype: object>"
      ]
     },
     "execution_count": 63,
     "metadata": {},
     "output_type": "execute_result"
    }
   ],
   "source": [
    "Tate['DateAcquired'].value_counts"
   ]
  },
  {
   "cell_type": "markdown",
   "id": "96d7abcc",
   "metadata": {},
   "source": [
    "Let us analyse acquisitions from a larger perspective: not year by year, but for every ten years."
   ]
  },
  {
   "cell_type": "code",
   "execution_count": 64,
   "id": "3dcf4c53",
   "metadata": {},
   "outputs": [
    {
     "name": "stdout",
     "output_type": "stream",
     "text": [
      "Moma: {'1930s': 3318, '1970s': 13868, '1940s': 8274, '1960s': 31950, '1990s': 13332, '1980s': 11497, '1950s': 6846}\n"
     ]
    }
   ],
   "source": [
    "MoMa.to_csv('MoMa.csv') \n",
    "with open('MoMa.csv', mode='r', encoding='utf-8') as csvfile: \n",
    "    reader = csv.DictReader(csvfile) \n",
    "    years={} \n",
    "    for item in reader: \n",
    "        if item['DateAcquired']not in years: \n",
    "            years[item['DateAcquired']]= 1 \n",
    "        else: \n",
    "            years[item['DateAcquired']]+= 1 \n",
    "new_dict={} \n",
    "for key in years: \n",
    "    key_int=int(key) \n",
    "    if key_int in range(1928,1941): \n",
    "        if '1930s' not in new_dict.keys(): \n",
    "               new_dict['1930s']= years[key] \n",
    "        else: \n",
    "            new_dict['1930s'] += years[key] \n",
    "    if key_int in range(1940,1951): \n",
    "        if '1940s' not in new_dict.keys(): \n",
    "               new_dict['1940s']= years[key] \n",
    "        else: \n",
    "            new_dict['1940s'] += years[key] \n",
    "     \n",
    "    if key_int in range(1950,1961): \n",
    "        if '1950s' not in new_dict.keys(): \n",
    "               new_dict['1950s']= years[key] \n",
    "        else: \n",
    "            new_dict['1950s'] += years[key] \n",
    "     \n",
    "    if key_int in range(1960,1971): \n",
    "        if '1960s' not in new_dict.keys(): \n",
    "               new_dict['1960s']= years[key] \n",
    "        else: \n",
    "            new_dict['1960s'] += years[key] \n",
    "     \n",
    "    if key_int in range(1970,1981): \n",
    "        if '1970s' not in new_dict.keys(): \n",
    "               new_dict['1970s']= years[key] \n",
    "        else: \n",
    "            new_dict['1970s'] += years[key] \n",
    "    if key_int in range(1980,1991): \n",
    "        if '1980s' not in new_dict.keys(): \n",
    "               new_dict['1980s']= years[key] \n",
    "        else: \n",
    "            new_dict['1980s'] += years[key] \n",
    "     \n",
    "    if key_int in range(1990,2001): \n",
    "        if '1990s' not in new_dict.keys(): \n",
    "               new_dict['1990s']= years[key] \n",
    "        else: \n",
    "            new_dict['1990s'] += years[key] \n",
    "         \n",
    "     \n",
    "print('Moma:', new_dict)"
   ]
  },
  {
   "cell_type": "code",
   "execution_count": 65,
   "id": "694e0fb6",
   "metadata": {},
   "outputs": [
    {
     "name": "stdout",
     "output_type": "stream",
     "text": [
      "Tate: {'1930s': 788, '1940s': 776, '1960s': 1048, '1950s': 633, '1970s': 6853, '1980s': 5538, '1990s': 6693}\n"
     ]
    }
   ],
   "source": [
    "Tate.to_csv('Tate.csv') \n",
    "with open('Tate.csv', mode='r', encoding='utf-8') as csvfile: \n",
    "    reader = csv.DictReader(csvfile) \n",
    "    years={} \n",
    "    for item in reader: \n",
    "        if item['DateAcquired']not in years: \n",
    "            years[item['DateAcquired']]= 1 \n",
    "        else: \n",
    "            years[item['DateAcquired']]+= 1 \n",
    "new_dict={} \n",
    "for key in years: \n",
    "    key_int=int(key) \n",
    "    if key_int in range(1928,1941): \n",
    "        if '1930s' not in new_dict.keys(): \n",
    "               new_dict['1930s']= years[key] \n",
    "        else: \n",
    "            new_dict['1930s'] += years[key] \n",
    "    if key_int in range(1940,1951): \n",
    "        if '1940s' not in new_dict.keys(): \n",
    "               new_dict['1940s']= years[key] \n",
    "        else: \n",
    "            new_dict['1940s'] += years[key] \n",
    "     \n",
    "    if key_int in range(1950,1961): \n",
    "        if '1950s' not in new_dict.keys(): \n",
    "               new_dict['1950s']= years[key] \n",
    "        else: \n",
    "            new_dict['1950s'] += years[key] \n",
    "     \n",
    "    if key_int in range(1960,1971): \n",
    "        if '1960s' not in new_dict.keys(): \n",
    "               new_dict['1960s']= years[key] \n",
    "        else: \n",
    "            new_dict['1960s'] += years[key] \n",
    "     \n",
    "    if key_int in range(1970,1981): \n",
    "        if '1970s' not in new_dict.keys(): \n",
    "               new_dict['1970s']= years[key] \n",
    "        else: \n",
    "            new_dict['1970s'] += years[key] \n",
    "    if key_int in range(1980,1991): \n",
    "        if '1980s' not in new_dict.keys(): \n",
    "               new_dict['1980s']= years[key] \n",
    "        else: \n",
    "            new_dict['1980s'] += years[key] \n",
    "     \n",
    "    if key_int in range(1990,2001): \n",
    "        if '1990s' not in new_dict.keys(): \n",
    "               new_dict['1990s']= years[key] \n",
    "        else: \n",
    "            new_dict['1990s'] += years[key] \n",
    "         \n",
    "     \n",
    "print('Tate:', new_dict)"
   ]
  },
  {
   "cell_type": "markdown",
   "id": "21012a99",
   "metadata": {},
   "source": [
    "## Gender Gap <br> \n",
    "Does it decrease? \n",
    "When?"
   ]
  },
  {
   "cell_type": "markdown",
   "id": "ffd77772",
   "metadata": {},
   "source": [
    "### MoMa"
   ]
  },
  {
   "cell_type": "markdown",
   "id": "9ba11b60",
   "metadata": {},
   "source": [
    "Number of female and male artists acquired every ten years."
   ]
  },
  {
   "cell_type": "code",
   "execution_count": 66,
   "id": "265cfeb1",
   "metadata": {},
   "outputs": [
    {
     "name": "stdout",
     "output_type": "stream",
     "text": [
      "{'1930s': {'Male': 3082, 'Female': 236}, '1940s': {'Male': 7707, 'Female': 567}, '1950s': {'Male': 6476, 'Female': 370}, '1960s': {'Male': 30701, 'Female': 1249}, '1970s': {'Male': 12245, 'Female': 1623}, '1980s': {'Male': 10230, 'Female': 1267}, '1990s': {'Male': 10522, 'Female': 2810}, '2000s': {'Male': 21850, 'Female': 5011}}\n"
     ]
    }
   ],
   "source": [
    "with open('MoMa.csv', mode='r', encoding='utf-8') as csvfile: \n",
    "    reader = csv.DictReader(csvfile) \n",
    "    gender={'1930s': {'Male': 0, 'Female': 0}, '1940s': {'Male': 0, 'Female': 0}, '1950s': {'Male': 0, 'Female': 0}, '1960s': {'Male': 0, 'Female': 0}, '1970s': {'Male': 0, 'Female': 0}, '1980s': {'Male': 0, 'Female': 0}, '1990s': {'Male': 0, 'Female': 0}, '2000s': {'Male': 0, 'Female': 0}} \n",
    "    for item in reader: \n",
    "        if int(item['DateAcquired']) in range (1928,1941): \n",
    "            if (item['Gender'] == 'Female'):  \n",
    "                gender['1930s']['Female'] += 1 \n",
    "            else: \n",
    "                gender['1930s']['Male'] += 1 \n",
    "        if int(item['DateAcquired']) in range (1940,1951): \n",
    "            if (item['Gender'] == 'Female'):  \n",
    "                gender['1940s']['Female'] += 1 \n",
    "            else: \n",
    "                gender['1940s']['Male'] += 1 \n",
    "        if int(item['DateAcquired']) in range (1950,1961): \n",
    "            if (item['Gender'] == 'Female'):  \n",
    "                gender['1950s']['Female'] += 1 \n",
    "            else: \n",
    "                gender['1950s']['Male'] += 1 \n",
    "        if int(item['DateAcquired']) in range (1960,1971): \n",
    "            if (item['Gender'] == 'Female'):  \n",
    "                gender['1960s']['Female'] += 1 \n",
    "            else: \n",
    "                gender['1960s']['Male'] += 1 \n",
    "        if int(item['DateAcquired']) in range (1970,1981): \n",
    "            if (item['Gender'] == 'Female'):  \n",
    "                gender['1970s']['Female'] += 1 \n",
    "            else: \n",
    "                gender['1970s']['Male'] += 1 \n",
    "        if int(item['DateAcquired']) in range (1980,1991): \n",
    "            if (item['Gender'] == 'Female'):  \n",
    "                gender['1980s']['Female'] += 1 \n",
    "            else: \n",
    "                gender['1980s']['Male'] += 1 \n",
    "        if int(item['DateAcquired']) in range (1990,2001): \n",
    "            if (item['Gender'] == 'Female'):  \n",
    "                gender['1990s']['Female'] += 1 \n",
    "            else: \n",
    "                gender['1990s']['Male'] += 1 \n",
    "        if int(item['DateAcquired']) in range (2000,2011): \n",
    "            if (item['Gender'] == 'Female'):  \n",
    "                gender['2000s']['Female'] += 1 \n",
    "            else: \n",
    "                gender['2000s']['Male'] += 1 \n",
    "    print(gender)"
   ]
  },
  {
   "cell_type": "markdown",
   "id": "705c4f23",
   "metadata": {},
   "source": [
    "Percentage of female-male artists every ten years"
   ]
  },
  {
   "cell_type": "code",
   "execution_count": 67,
   "id": "a3219a6f",
   "metadata": {},
   "outputs": [
    {
     "name": "stdout",
     "output_type": "stream",
     "text": [
      "1930s Male 93 % Female 7 %\n",
      "1940s Male 93 % Female 7 %\n",
      "1950s Male 95 % Female 5 %\n",
      "1960s Male 96 % Female 4 %\n",
      "1970s Male 88 % Female 12 %\n",
      "1980s Male 89 % Female 11 %\n",
      "1990s Male 79 % Female 21 %\n",
      "2000s Male 81 % Female 19 %\n"
     ]
    }
   ],
   "source": [
    "for el in gender: \n",
    "    tot = gender[el]['Male'] + gender[el]['Female'] \n",
    "    percentage = (gender[el]['Male']/tot)*100 \n",
    "    print (el, 'Male', round(percentage),'%', 'Female', round(100-percentage),'%')"
   ]
  },
  {
   "cell_type": "markdown",
   "id": "3c2186da",
   "metadata": {},
   "source": [
    "## Tate"
   ]
  },
  {
   "cell_type": "markdown",
   "id": "3be0f8e8",
   "metadata": {},
   "source": [
    "Number of female and male artists acquired every ten years."
   ]
  },
  {
   "cell_type": "code",
   "execution_count": 68,
   "id": "99e652fc",
   "metadata": {},
   "outputs": [
    {
     "name": "stdout",
     "output_type": "stream",
     "text": [
      "{'1930s': {'Male': 722, 'Female': 66}, '1940s': {'Male': 700, 'Female': 76}, '1950s': {'Male': 598, 'Female': 35}, '1960s': {'Male': 967, 'Female': 81}, '1970s': {'Male': 6398, 'Female': 455}, '1980s': {'Male': 5202, 'Female': 336}, '1990s': {'Male': 6025, 'Female': 668}}\n"
     ]
    }
   ],
   "source": [
    "with open('Tate.csv', mode='r', encoding='utf-8') as csvfile: \n",
    "    reader = csv.DictReader(csvfile) \n",
    "    gender={'1930s': {'Male': 0, 'Female': 0}, '1940s': {'Male': 0, 'Female': 0}, '1950s': {'Male': 0, 'Female': 0}, '1960s': {'Male': 0, 'Female': 0}, '1970s': {'Male': 0, 'Female': 0}, '1980s': {'Male': 0, 'Female': 0}, '1990s': {'Male': 0, 'Female': 0}} \n",
    "    for item in reader: \n",
    "        if int(item['DateAcquired']) in range (1928,1941): \n",
    "            if (item['Gender'] == 'Female'):  \n",
    "                gender['1930s']['Female'] += 1 \n",
    "            else: \n",
    "                gender['1930s']['Male'] += 1 \n",
    "        if int(item['DateAcquired']) in range (1940,1951): \n",
    "            if (item['Gender'] == 'Female'):  \n",
    "                gender['1940s']['Female'] += 1 \n",
    "            else: \n",
    "                gender['1940s']['Male'] += 1 \n",
    "        if int(item['DateAcquired']) in range (1950,1961): \n",
    "            if (item['Gender'] == 'Female'):  \n",
    "                gender['1950s']['Female'] += 1 \n",
    "            else: \n",
    "                gender['1950s']['Male'] += 1 \n",
    "        if int(item['DateAcquired']) in range (1960,1971): \n",
    "            if (item['Gender'] == 'Female'):  \n",
    "                gender['1960s']['Female'] += 1 \n",
    "            else: \n",
    "                gender['1960s']['Male'] += 1 \n",
    "        if int(item['DateAcquired']) in range (1970,1981): \n",
    "            if (item['Gender'] == 'Female'):  \n",
    "                gender['1970s']['Female'] += 1 \n",
    "            else: \n",
    "                gender['1970s']['Male'] += 1 \n",
    "        if int(item['DateAcquired']) in range (1980,1991): \n",
    "            if (item['Gender'] == 'Female'):  \n",
    "                gender['1980s']['Female'] += 1 \n",
    "            else: \n",
    "                gender['1980s']['Male'] += 1 \n",
    "        if int(item['DateAcquired']) in range (1990,2001): \n",
    "            if (item['Gender'] == 'Female'):  \n",
    "                gender['1990s']['Female'] += 1 \n",
    "            else: \n",
    "                gender['1990s']['Male'] += 1 \n",
    "    print(gender)"
   ]
  },
  {
   "cell_type": "markdown",
   "id": "c3d6e590",
   "metadata": {},
   "source": [
    "Percentage of female-male artists every ten years"
   ]
  },
  {
   "cell_type": "code",
   "execution_count": 69,
   "id": "5074bad4",
   "metadata": {},
   "outputs": [
    {
     "name": "stdout",
     "output_type": "stream",
     "text": [
      "1930s Male 92 % Female 8 %\n",
      "1940s Male 90 % Female 10 %\n",
      "1950s Male 94 % Female 6 %\n",
      "1960s Male 92 % Female 8 %\n",
      "1970s Male 93 % Female 7 %\n",
      "1980s Male 94 % Female 6 %\n",
      "1990s Male 90 % Female 10 %\n"
     ]
    }
   ],
   "source": [
    "for el in gender: \n",
    "    tot = gender[el]['Male'] + gender[el]['Female'] \n",
    "    percentage = (gender[el]['Male']/tot)*100 \n",
    "    print (el, 'Male', round(percentage),'%', 'Female', round(100-percentage),'%')"
   ]
  },
  {
   "cell_type": "markdown",
   "id": "952ad657",
   "metadata": {},
   "source": [
    "## Nationalities "
   ]
  },
  {
   "cell_type": "markdown",
   "id": "c0d85013",
   "metadata": {},
   "source": [
    "In which years artists' nationalities more influent on the selection?"
   ]
  },
  {
   "cell_type": "markdown",
   "id": "3d33d24c",
   "metadata": {},
   "source": [
    "## MoMA"
   ]
  },
  {
   "cell_type": "markdown",
   "id": "bfb3f385",
   "metadata": {},
   "source": [
    "For every ten years, we count the nationalities' frequency."
   ]
  },
  {
   "cell_type": "code",
   "execution_count": 70,
   "id": "cf26279e",
   "metadata": {},
   "outputs": [],
   "source": [
    "MoMaArtists.rename(columns = {'ConstituentID':'Id'}, inplace = True)"
   ]
  },
  {
   "cell_type": "code",
   "execution_count": 71,
   "id": "b62d6c29",
   "metadata": {},
   "outputs": [],
   "source": [
    "def cleanDates(date): \n",
    "    if '.' in date: \n",
    "        date = date.split('.')[0] \n",
    "    return date"
   ]
  },
  {
   "cell_type": "code",
   "execution_count": 72,
   "id": "a31d7e3b",
   "metadata": {},
   "outputs": [],
   "source": [
    "MoMaNationalities = pd.merge(MoMaArtists,MoMa[['Id', 'DateAcquired']],on='Id', how='left') \n",
    "MoMaNationalities.fillna(value='0', inplace=True) \n",
    "MoMaNationalities[\"DateAcquired\"] = MoMaNationalities[\"DateAcquired\"].astype(str) \n",
    "MoMaNationalities[\"DateAcquired\"] = MoMaNationalities[\"DateAcquired\"].apply(cleanDates) \n",
    "MoMaNationalities = MoMaNationalities.drop_duplicates(subset='DisplayName', keep=\"first\") \n",
    "MoMaNationalities.to_csv('MoMaNationalities.csv')"
   ]
  },
  {
   "cell_type": "code",
   "execution_count": 73,
   "id": "ec41ea09",
   "metadata": {},
   "outputs": [
    {
     "name": "stdout",
     "output_type": "stream",
     "text": [
      "defaultdict(<class 'dict'>, {'1980s': {'American': 634, 'Danish': 10, 'Estonian': 2, 'Swedish': 12, 'French': 91, 'Finnish': 8, 'Romanian': 2, 'Israeli': 8, 'Dutch': 31, 'Norwegian': 4, 'British': 90, 'Austrian': 24, 'Japanese': 60, 'German': 95, 'Russian': 23, 'Swiss': 44, 'Spanish': 12, 'Italian': 32, 'Congolese': 1, 'Brazilian': 2, 'Hungarian': 7, 'Polish': 17, 'Canadian': 33, 'Icelandic': 1, 'Australian': 6, 'Croatian': 3, 'Slovak': 1, 'Cuban': 4, 'Mexican': 9, 'Greek': 2, 'Chinese': 1, 'Belgian': 8, 'Czech': 10, 'Nationality unknown': 5, 'Venezuelan': 1, 'Portuguese': 1, 'Peruvian': 3, 'Indian': 1, 'Moroccan': 1, '0': 14, 'Latvian': 2, 'Irish': 1, 'Native American': 1, 'Chilean': 1, 'Colombian': 1, 'Puerto Rican': 1}, '1960s': {'Spanish': 21, '0': 14, 'American': 619, 'French': 142, 'Japanese': 63, 'British': 77, 'Finnish': 4, 'Argentine': 38, 'Kuwaiti': 1, 'German': 143, 'Italian': 91, 'Nationality unknown': 36, 'Chilean': 20, 'Swiss': 28, 'Czech': 7, 'Danish': 12, 'Brazilian': 20, 'Canadian': 48, 'Swedish': 23, 'Austrian': 20, 'Israeli': 11, 'Slovenian': 4, 'Portuguese': 1, 'Romanian': 4, 'Colombian': 7, 'Mexican': 16, 'Uruguayan': 4, 'Polish': 25, 'Ukrainian': 1, 'Australian': 6, 'Belgian': 14, 'Peruvian': 11, 'Cuban': 3, 'Dutch': 15, 'Russian': 26, 'Bolivian': 1, 'Greek': 4, 'Panamanian': 2, 'Croatian': 3, 'Turkish': 2, 'Icelandic': 3, 'Indian': 6, 'Ecuadorian': 2, 'Venezuelan': 8, 'Iranian': 4, 'Hungarian': 4, 'Serbian': 3, 'Canadian Inuit': 3, 'Costa Rican': 1, 'Paraguayan': 1, 'Haitian': 1, 'Zimbabwean': 3, 'South African': 1, 'Moroccan': 2, 'Guatemalan': 1, 'Tanzanian': 1, 'Irish': 2, 'Sudanese': 1, 'Taiwanese': 1, 'Ethiopian': 1, 'Korean': 1, 'Chinese': 2}, '1970s': {'American': 558, 'Danish': 8, 'British': 76, 'Polish': 8, 'Italian': 33, 'Romanian': 2, 'Russian': 18, 'Japanese': 52, 'Belgian': 8, 'Dutch': 19, 'Finnish': 2, 'Czech': 7, 'Australian': 10, 'French': 46, 'Ukrainian': 2, 'German': 45, 'Israeli': 11, 'Canadian': 7, 'Brazilian': 4, 'Nationality unknown': 20, 'Irish': 2, 'Chilean': 2, 'Spanish': 13, 'Mexican': 12, 'Colombian': 12, 'Cuban': 2, 'Turkish': 2, 'Greek': 2, 'Austrian': 10, 'Swedish': 2, 'Swiss': 14, 'South African': 1, 'Hungarian': 2, 'Norwegian': 2, 'Korean': 3, 'Slovenian': 3, '0': 3, 'Venezuelan': 9, 'Tunisian': 1, 'Uruguayan': 2, 'Paraguayan': 1}, '1950s': {'American': 364, 'French': 161, 'Swedish': 20, 'Israeli': 4, 'Japanese': 104, 'Guatemalan': 3, 'Italian': 47, 'Finnish': 8, 'German': 92, 'British': 52, '0': 17, 'Austrian': 8, 'Swiss': 39, 'Hungarian': 3, 'Canadian': 11, 'Cuban': 4, 'Dutch': 24, 'Nationality unknown': 55, 'Spanish': 10, 'Brazilian': 14, 'Chilean': 4, 'Polish': 4, 'Belgian': 12, 'Mexican': 6, 'Uruguayan': 1, 'Slovenian': 2, 'Haitian': 1, 'Algerian': 1, 'Venezuelan': 2, 'Danish': 17, 'Canadian Inuit': 2, 'Russian': 3, 'Serbian': 2, 'Korean': 2, 'Czech': 4, 'Nicaraguan': 1, 'Turkish': 1, 'Australian': 2, 'Colombian': 2, 'Norwegian': 5, 'Tanzanian': 1, 'Argentine': 3, 'Irish': 1, 'Peruvian': 1, 'Icelandic': 1}, '1940s': {'Mexican': 31, 'American': 466, 'Palestinian': 1, 'Colombian': 3, 'French': 72, 'Polish': 6, 'British': 58, '0': 22, 'Costa Rican': 1, 'Spanish': 3, 'Chilean': 4, 'Argentine': 17, 'German': 53, 'Italian': 27, 'Swiss': 18, 'Haitian': 10, 'Brazilian': 8, 'Bolivian': 1, 'Swedish': 10, 'Cuban': 10, 'Peruvian': 2, 'Nationality unknown': 19, 'Greek': 2, 'Chinese': 3, 'Australian': 3, 'Dutch': 7, 'Belgian': 7, 'Czech': 4, 'Uruguayan': 2, 'Japanese': 4, 'Ecuadorian': 2, 'Austrian': 7, 'Romanian': 1, 'Finnish': 3, 'Danish': 4, 'Nicaraguan': 1, 'Russian': 9, 'Hungarian': 3, 'Israeli': 1, 'Canadian': 1, 'Native American': 1, 'Yugoslav': 1, 'Scottish': 1}, '1930s': {'Spanish': 19, 'American': 203, 'Palestinian': 1, 'British': 57, 'Chilean': 1, 'German': 19, 'French': 30, 'Dutch': 3, 'Italian': 5, 'Nationality unknown': 5, 'Swiss': 7, '0': 4, 'Japanese': 2, 'Israeli': 1, 'Norwegian': 1, 'Cuban': 1, 'Mexican': 3, 'Brazilian': 1, 'Russian': 4, 'Hungarian': 1, 'Belgian': 1, 'Swedish': 1, 'Bolivian': 1, 'Czechoslovakian': 1}, '1990s': {'Swedish': 4, 'Finnish': 8, 'American': 465, 'Mexican': 7, 'Dutch': 31, 'German': 76, 'Swiss': 34, 'French': 65, 'Spanish': 21, 'Italian': 45, 'British': 64, 'Austrian': 13, 'Russian': 23, 'Japanese': 59, 'Danish': 12, 'Luxembourger': 1, 'Brazilian': 11, 'Polish': 14, 'Portuguese': 2, 'Cuban': 6, 'Israeli': 4, 'Czech': 8, 'Norwegian': 4, 'Azerbaijani': 1, '0': 14, 'Chilean': 7, 'Argentine': 5, 'Canadian': 9, 'Senegalese': 1, 'Indian': 2, 'Nationality unknown': 8, 'Australian': 4, 'Iranian': 2, 'South African': 1, 'Peruvian': 1, 'Romanian': 2, 'Chinese': 6, 'Pakistani': 1, 'Korean': 1, 'Bahamian': 1, 'Belgian': 1, 'Latvian': 1, 'Taiwanese': 1, 'Hungarian': 1, 'Ukrainian': 1, 'Uruguayan': 1, 'Czechoslovakian': 1}})\n"
     ]
    }
   ],
   "source": [
    "from collections import defaultdict  \n",
    " \n",
    "with open('MoMaNationalities.csv', mode='r', encoding='utf-8') as csvfile: \n",
    "    reader = csv.DictReader(csvfile) \n",
    "    nationalities = defaultdict(dict) \n",
    "    for item in reader: \n",
    "        if int(item['DateAcquired']) in range (1928,1941): \n",
    "            if item['Nationality'] not in nationalities['1930s']: \n",
    "                nationalities['1930s'][item['Nationality']] = 1 \n",
    "            else: \n",
    "                nationalities['1930s'][item['Nationality']] += 1 \n",
    "        if int(item['DateAcquired']) in range (1940,1951): \n",
    "            if item['Nationality'] not in nationalities['1940s']: \n",
    "                nationalities['1940s'][item['Nationality']] = 1 \n",
    "            else: \n",
    "                nationalities['1940s'][item['Nationality']] += 1 \n",
    "        if int(item['DateAcquired']) in range (1950,1961): \n",
    "            if item['Nationality'] not in nationalities['1950s']: \n",
    "                nationalities['1950s'][item['Nationality']] = 1 \n",
    "            else: \n",
    "                nationalities['1950s'][item['Nationality']] += 1 \n",
    "        if int(item['DateAcquired']) in range (1960,1971): \n",
    "            if item['Nationality'] not in nationalities['1960s']: \n",
    "                nationalities['1960s'][item['Nationality']] = 1 \n",
    "            else: \n",
    "                nationalities['1960s'][item['Nationality']] += 1 \n",
    "        if int(item['DateAcquired']) in range (1970,1981): \n",
    "            if item['Nationality'] not in nationalities['1970s']: \n",
    "                nationalities['1970s'][item['Nationality']] = 1 \n",
    "            else: \n",
    "                nationalities['1970s'][item['Nationality']] += 1 \n",
    "        if int(item['DateAcquired']) in range (1980,1991): \n",
    "            if item['Nationality'] not in nationalities['1980s']: \n",
    "                nationalities['1980s'][item['Nationality']] = 1 \n",
    "            else: \n",
    "                nationalities['1980s'][item['Nationality']] += 1 \n",
    "        if int(item['DateAcquired']) in range (1990,2001): \n",
    "            if item['Nationality'] not in nationalities['1990s']: \n",
    "                nationalities['1990s'][item['Nationality']] = 1 \n",
    "            else: \n",
    "                nationalities['1990s'][item['Nationality']] += 1 \n",
    "         \n",
    "                 \n",
    " \n",
    "print(nationalities)"
   ]
  },
  {
   "cell_type": "code",
   "execution_count": 74,
   "id": "559ee264",
   "metadata": {},
   "outputs": [
    {
     "ename": "TypeError",
     "evalue": "list indices must be integers or slices, not str",
     "output_type": "error",
     "traceback": [
      "\u001b[1;31m---------------------------------------------------------------------------\u001b[0m",
      "\u001b[1;31mTypeError\u001b[0m                                 Traceback (most recent call last)",
      "\u001b[1;32m~\\AppData\\Local\\Temp/ipykernel_17456/2685086645.py\u001b[0m in \u001b[0;36m<module>\u001b[1;34m\u001b[0m\n\u001b[0;32m     39\u001b[0m                 \u001b[0mnationalities\u001b[0m\u001b[1;33m[\u001b[0m\u001b[1;34m'1970s'\u001b[0m\u001b[1;33m]\u001b[0m\u001b[1;33m[\u001b[0m\u001b[0mitem\u001b[0m\u001b[1;33m[\u001b[0m\u001b[1;34m'Nationality'\u001b[0m\u001b[1;33m]\u001b[0m\u001b[1;33m]\u001b[0m \u001b[1;33m+=\u001b[0m \u001b[1;36m1\u001b[0m\u001b[1;33m\u001b[0m\u001b[1;33m\u001b[0m\u001b[0m\n\u001b[0;32m     40\u001b[0m         \u001b[1;32mif\u001b[0m \u001b[0mint\u001b[0m\u001b[1;33m(\u001b[0m\u001b[0mitem\u001b[0m\u001b[1;33m[\u001b[0m\u001b[1;34m'DateAcquired'\u001b[0m\u001b[1;33m]\u001b[0m\u001b[1;33m)\u001b[0m \u001b[1;32min\u001b[0m \u001b[0mrange\u001b[0m \u001b[1;33m(\u001b[0m\u001b[1;36m1980\u001b[0m\u001b[1;33m,\u001b[0m\u001b[1;36m1991\u001b[0m\u001b[1;33m)\u001b[0m\u001b[1;33m:\u001b[0m\u001b[1;33m\u001b[0m\u001b[1;33m\u001b[0m\u001b[0m\n\u001b[1;32m---> 41\u001b[1;33m             \u001b[1;32mif\u001b[0m \u001b[0mitem\u001b[0m\u001b[1;33m[\u001b[0m\u001b[1;34m'Nationality'\u001b[0m\u001b[1;33m]\u001b[0m \u001b[1;32mnot\u001b[0m \u001b[1;32min\u001b[0m \u001b[0mnationalities\u001b[0m\u001b[1;33m[\u001b[0m\u001b[1;34m'1980s'\u001b[0m\u001b[1;33m]\u001b[0m\u001b[1;33m:\u001b[0m\u001b[1;33m\u001b[0m\u001b[1;33m\u001b[0m\u001b[0m\n\u001b[0m\u001b[0;32m     42\u001b[0m                 \u001b[0mnationalities\u001b[0m\u001b[1;33m[\u001b[0m\u001b[1;34m'1980s'\u001b[0m\u001b[1;33m]\u001b[0m\u001b[1;33m[\u001b[0m\u001b[0mitem\u001b[0m\u001b[1;33m[\u001b[0m\u001b[1;34m'Nationality'\u001b[0m\u001b[1;33m]\u001b[0m\u001b[1;33m]\u001b[0m \u001b[1;33m=\u001b[0m \u001b[1;36m1\u001b[0m\u001b[1;33m\u001b[0m\u001b[1;33m\u001b[0m\u001b[0m\n\u001b[0;32m     43\u001b[0m             \u001b[1;32melse\u001b[0m\u001b[1;33m:\u001b[0m\u001b[1;33m\u001b[0m\u001b[1;33m\u001b[0m\u001b[0m\n",
      "\u001b[1;31mTypeError\u001b[0m: list indices must be integers or slices, not str"
     ]
    }
   ],
   "source": [
    "from collections import defaultdict  \n",
    " \n",
    "with open('MoMaNationalities.csv', mode='r', encoding='utf-8') as csvfile: \n",
    "    reader = csv.DictReader(csvfile) \n",
    "    thirties = defaultdict(dict) \n",
    "    fourties = defaultdict(dict) \n",
    "    fifthies = defaultdict(dict) \n",
    "    sixties = defaultdict(dict) \n",
    "    seventies = defaultdict(dict) \n",
    "    eighties = defaultdict(dict) \n",
    "    nineties = defaultdict(dict) \n",
    "    twothousands = defaultdict(dict) \n",
    "    nationalities = [thirties, fourties, fifthies] \n",
    "    for item in reader: \n",
    "        if int(item['DateAcquired']) in range (1928,1941): \n",
    "            if item['Nationality'] not in nationalities['1930s']: \n",
    "                thirties['1930s'][item['Nationality']] = 1 \n",
    "            else: \n",
    "                thirties['1930s'][item['Nationality']] += 1 \n",
    "        if int(item['DateAcquired']) in range (1940,1951): \n",
    "            if item['Nationality'] not in nationalities['1940s']: \n",
    "                nationalities['1940s'][item['Nationality']] = 1 \n",
    "            else: \n",
    "                nationalities['1940s'][item['Nationality']] += 1 \n",
    "        if int(item['DateAcquired']) in range (1950,1961): \n",
    "            if item['Nationality'] not in nationalities['1950s']: \n",
    "                nationalities['1950s'][item['Nationality']] = 1 \n",
    "            else: \n",
    "                nationalities['1950s'][item['Nationality']] += 1 \n",
    "        if int(item['DateAcquired']) in range (1960,1971): \n",
    "            if item['Nationality'] not in nationalities['1960s']: \n",
    "                nationalities['1960s'][item['Nationality']] = 1 \n",
    "            else: \n",
    "                nationalities['1960s'][item['Nationality']] += 1 \n",
    "        if int(item['DateAcquired']) in range (1970,1981): \n",
    "            if item['Nationality'] not in nationalities['1970s']: \n",
    "                nationalities['1970s'][item['Nationality']] = 1 \n",
    "            else: \n",
    "                nationalities['1970s'][item['Nationality']] += 1 \n",
    "        if int(item['DateAcquired']) in range (1980,1991): \n",
    "            if item['Nationality'] not in nationalities['1980s']: \n",
    "                nationalities['1980s'][item['Nationality']] = 1 \n",
    "            else: \n",
    "                nationalities['1980s'][item['Nationality']] += 1 \n",
    "        if int(item['DateAcquired']) in range (1990,2001): \n",
    "            if item['Nationality'] not in nationalities['1990s']: \n",
    "                nationalities['1990s'][item['Nationality']] = 1 \n",
    "            else: \n",
    "                nationalities['1990s'][item['Nationality']] += 1 \n",
    "         \n",
    "                 \n",
    " \n",
    "print(nationalities)"
   ]
  },
  {
   "cell_type": "code",
   "execution_count": 75,
   "id": "1254ba42",
   "metadata": {},
   "outputs": [
    {
     "ename": "TypeError",
     "evalue": "list indices must be integers or slices, not str",
     "output_type": "error",
     "traceback": [
      "\u001b[1;31m---------------------------------------------------------------------------\u001b[0m",
      "\u001b[1;31mTypeError\u001b[0m                                 Traceback (most recent call last)",
      "\u001b[1;32m~\\AppData\\Local\\Temp/ipykernel_17456/3084946230.py\u001b[0m in \u001b[0;36m<module>\u001b[1;34m\u001b[0m\n\u001b[1;32m----> 1\u001b[1;33m \u001b[0mprint\u001b[0m\u001b[1;33m(\u001b[0m\u001b[0mnationalities\u001b[0m\u001b[1;33m[\u001b[0m\u001b[1;34m'1930s'\u001b[0m\u001b[1;33m]\u001b[0m\u001b[1;33m)\u001b[0m\u001b[1;33m\u001b[0m\u001b[1;33m\u001b[0m\u001b[0m\n\u001b[0m",
      "\u001b[1;31mTypeError\u001b[0m: list indices must be integers or slices, not str"
     ]
    }
   ],
   "source": [
    "print(nationalities['1930s'])"
   ]
  },
  {
   "cell_type": "code",
   "execution_count": null,
   "id": "ac1ca74f",
   "metadata": {},
   "outputs": [],
   "source": []
  },
  {
   "cell_type": "code",
   "execution_count": null,
   "id": "e6a2921a",
   "metadata": {},
   "outputs": [],
   "source": []
  }
 ],
 "metadata": {
  "kernelspec": {
   "display_name": "Python 3 (ipykernel)",
   "language": "python",
   "name": "python3"
  },
  "language_info": {
   "codemirror_mode": {
    "name": "ipython",
    "version": 3
   },
   "file_extension": ".py",
   "mimetype": "text/x-python",
   "name": "python",
   "nbconvert_exporter": "python",
   "pygments_lexer": "ipython3",
   "version": "3.9.0"
  }
 },
 "nbformat": 4,
 "nbformat_minor": 5
}
