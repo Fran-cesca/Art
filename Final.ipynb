{
 "cells": [
  {
   "cell_type": "markdown",
   "id": "53a29a49",
   "metadata": {},
   "source": [
    "# Collage, the shapes of arte\n",
    "This notebook was created by [Francesca Borriello](https://github.com/Fran-cesca), [Lorenza Pierucci](https://github.com/LorenzaPierucci) and [Laura Travaglini](https://github.com/lauratravaglini) as part of their final project for the [Digital Pubishing and Electronic Storytelling](https://www.unibo.it/it/didattica/insegnamenti/insegnamento/2021/443749) course at the University of Bologna (academic year 221/2022).\n",
    "\n",
    "# About the project\n",
    "Starting from the datasets made publicly available by the NY Museum of Modern Art (**MoMA**) and by the **Tate galleries**, *Collage, the shapes of art* analyses artworks acquisitions throughout the years, with the aim of understanding which criteria brought together them Museums' collection in a historical and social perspective. \n",
    "Art and history of art are no sealed compartments: they are heavily inter-dependent with social, political, economic factors, which in turn influence our very perception of what art is. \n",
    "Cultural institutions – museums in particular – play a fundamental role in this intertwined dynamics: through their selection, they have the potential to shape the public understanding of arts and its modifications throughout time.  \n",
    "In some way, what makes into museums makes into history of art and viceversa. \n",
    "From these considerations stems our analysis: how do external (social, political, economic) factors influence the perception of art and its history? \n",
    "A way to investigate it is by looking at the greatest and most representative museums around the world, and at their acquisition policies and campaigns in particular. \n",
    "\n",
    "## Our key questions: \n",
    "1.<br>\n",
    "2.<br>\n",
    "3.<br>\n",
    "\n"
   ]
  },
  {
   "cell_type": "markdown",
   "id": "14791dfb",
   "metadata": {},
   "source": [
    "# 1. Creating dataframes.\n",
    "After importing all the necessary libraries, we can read our Museums' online CSV files containing information about artworks and artists as `Pandas Dataframes` in order to better manipulate and analyse them."
   ]
  },
  {
   "cell_type": "markdown",
   "id": "60ce4e6d",
   "metadata": {},
   "source": [
    "## Import"
   ]
  },
  {
   "cell_type": "code",
   "execution_count": 1,
   "id": "3260a852",
   "metadata": {},
   "outputs": [],
   "source": [
    "import pandas as pd\n",
    "import csv\n",
    "import re\n",
    "from collections import defaultdict\n",
    "from rdflib import Namespace , Literal , URIRef\n",
    "from rdflib.namespace import RDF , RDFS\n",
    "import ssl\n",
    "from json import JSONDecodeError\n",
    "from qwikidata.sparql import return_sparql_query_results "
   ]
  },
  {
   "cell_type": "markdown",
   "id": "0791cf9e",
   "metadata": {},
   "source": [
    "For both Museums, we gather data directly from the remote files available on their Github pages ([MoMA](https://github.com/MuseumofModernArt/collection), [Tate](https://github.com/tategallery/collection)). \n",
    "In particular, we work on two separate datasets: one carries information about **artworks** (their title, date, acquisition year atc.), the other provides data on the **artists** (their name, nationality, gender etc.).\n",
    "We select the columns we are interested in and merge the two files into one dataframe."
   ]
  },
  {
   "cell_type": "markdown",
   "id": "52c20f9f",
   "metadata": {},
   "source": [
    "# MoMA"
   ]
  },
  {
   "cell_type": "code",
   "execution_count": 31,
   "id": "54f227cf",
   "metadata": {},
   "outputs": [],
   "source": [
    "spreadsheet = pd.read_csv('https://media.githubusercontent.com/media/MuseumofModernArt/collection/master/Artworks.csv')\n",
    "MoMA_artworks = spreadsheet[['Title', 'Artist', 'ConstituentID', 'Nationality', 'BeginDate', 'EndDate','Date', 'Department', 'DateAcquired']]\n",
    "MoMA_artists = pd.read_csv('https://media.githubusercontent.com/media/MuseumofModernArt/collection/master/Artists.csv')\n",
    "MoMA_artists['ConstituentID'] = MoMA_artists['ConstituentID'].astype(str)\n",
    "MoMA = pd.merge(MoMA_artworks, MoMA_artists[['ConstituentID', 'Wiki QID', 'Gender']],on = 'ConstituentID', how = 'left')\n",
    "MoMA = MoMA.rename(columns = {'ConstituentID':'Id', 'BeginDate':'BirthDate', 'EndDate':'DeathDate'})"
   ]
  },
  {
   "cell_type": "markdown",
   "id": "fee4916c",
   "metadata": {},
   "source": [
    "# Tate"
   ]
  },
  {
   "cell_type": "code",
   "execution_count": 32,
   "id": "12df2891",
   "metadata": {},
   "outputs": [
    {
     "name": "stderr",
     "output_type": "stream",
     "text": [
      "C:\\Users\\Francesca\\AppData\\Roaming\\Python\\Python39\\site-packages\\IPython\\core\\interactiveshell.py:3172: DtypeWarning: Columns (9,13) have mixed types.Specify dtype option on import or set low_memory=False.\n",
      "  has_raised = await self.run_ast_nodes(code_ast.body, cell_name,\n"
     ]
    }
   ],
   "source": [
    "spreadsheet = pd.read_csv('https://raw.githubusercontent.com/tategallery/collection/master/artwork_data.csv')\n",
    "Tate_artworks = spreadsheet[['artist', 'artistId', 'title', 'year', 'acquisitionYear']]\n",
    "Tate_artworks = Tate_artworks.rename(columns = {'artistId':'Id'})\n",
    "Tate_artworks['Id'] = Tate_artworks['Id'].astype(str)\n",
    "Tate_artists = pd.read_csv('https://raw.githubusercontent.com/tategallery/collection/master/artist_data.csv')\n",
    "Tate_artists = Tate_artists[['id', 'name', 'gender', 'placeOfBirth']]\n",
    "Tate_artists = Tate_artists.rename(columns = {'id':'Id'})\n",
    "Tate_artists[\"Id\"] = Tate_artists[\"Id\"].astype(str)\n",
    "Tate = pd.merge(Tate_artworks,Tate_artists[['Id', 'gender']], on = 'Id', how = 'left')\n",
    "Tate = Tate.rename(columns = {'artist':'Artist', 'title':'Title','year':'Date', 'acquisitionYear':'DateAcquired', 'gender':'Gender'})"
   ]
  },
  {
   "cell_type": "code",
   "execution_count": 50,
   "id": "f3ff6fbc",
   "metadata": {},
   "outputs": [
    {
     "data": {
      "text/html": [
       "<div>\n",
       "<style scoped>\n",
       "    .dataframe tbody tr th:only-of-type {\n",
       "        vertical-align: middle;\n",
       "    }\n",
       "\n",
       "    .dataframe tbody tr th {\n",
       "        vertical-align: top;\n",
       "    }\n",
       "\n",
       "    .dataframe thead th {\n",
       "        text-align: right;\n",
       "    }\n",
       "</style>\n",
       "<table border=\"1\" class=\"dataframe\">\n",
       "  <thead>\n",
       "    <tr style=\"text-align: right;\">\n",
       "      <th></th>\n",
       "      <th>Id</th>\n",
       "      <th>name</th>\n",
       "      <th>gender</th>\n",
       "      <th>placeOfBirth</th>\n",
       "    </tr>\n",
       "  </thead>\n",
       "  <tbody>\n",
       "    <tr>\n",
       "      <th>0</th>\n",
       "      <td>10093</td>\n",
       "      <td>Magdalena Abakanowicz</td>\n",
       "      <td>Female</td>\n",
       "      <td>Poland</td>\n",
       "    </tr>\n",
       "    <tr>\n",
       "      <th>1</th>\n",
       "      <td>0</td>\n",
       "      <td>Edwin Austin Abbey</td>\n",
       "      <td>Male</td>\n",
       "      <td>United States</td>\n",
       "    </tr>\n",
       "    <tr>\n",
       "      <th>2</th>\n",
       "      <td>2756</td>\n",
       "      <td>Berenice Abbott</td>\n",
       "      <td>Female</td>\n",
       "      <td>United States</td>\n",
       "    </tr>\n",
       "    <tr>\n",
       "      <th>3</th>\n",
       "      <td>1</td>\n",
       "      <td>Lemuel Francis Abbott</td>\n",
       "      <td>Male</td>\n",
       "      <td>United Kingdom</td>\n",
       "    </tr>\n",
       "    <tr>\n",
       "      <th>4</th>\n",
       "      <td>622</td>\n",
       "      <td>Ivor Abrahams</td>\n",
       "      <td>Male</td>\n",
       "      <td>United Kingdom</td>\n",
       "    </tr>\n",
       "    <tr>\n",
       "      <th>...</th>\n",
       "      <td>...</td>\n",
       "      <td>...</td>\n",
       "      <td>...</td>\n",
       "      <td>...</td>\n",
       "    </tr>\n",
       "    <tr>\n",
       "      <th>3527</th>\n",
       "      <td>12542</td>\n",
       "      <td>Gilberto Zorio</td>\n",
       "      <td>Male</td>\n",
       "      <td>Italia</td>\n",
       "    </tr>\n",
       "    <tr>\n",
       "      <th>3528</th>\n",
       "      <td>2186</td>\n",
       "      <td>Larry Zox</td>\n",
       "      <td>Male</td>\n",
       "      <td>United States</td>\n",
       "    </tr>\n",
       "    <tr>\n",
       "      <th>3529</th>\n",
       "      <td>621</td>\n",
       "      <td>Francesco Zuccarelli</td>\n",
       "      <td>Male</td>\n",
       "      <td>Italia</td>\n",
       "    </tr>\n",
       "    <tr>\n",
       "      <th>3530</th>\n",
       "      <td>2187</td>\n",
       "      <td>Ignacio Zuloaga</td>\n",
       "      <td>Male</td>\n",
       "      <td>Spain</td>\n",
       "    </tr>\n",
       "    <tr>\n",
       "      <th>3531</th>\n",
       "      <td>2188</td>\n",
       "      <td>Aleksander Zyw</td>\n",
       "      <td>Male</td>\n",
       "      <td>Poland</td>\n",
       "    </tr>\n",
       "  </tbody>\n",
       "</table>\n",
       "<p>3532 rows × 4 columns</p>\n",
       "</div>"
      ],
      "text/plain": [
       "         Id                   name  gender    placeOfBirth\n",
       "0     10093  Magdalena Abakanowicz  Female          Poland\n",
       "1         0     Edwin Austin Abbey    Male   United States\n",
       "2      2756        Berenice Abbott  Female   United States\n",
       "3         1  Lemuel Francis Abbott    Male  United Kingdom\n",
       "4       622          Ivor Abrahams    Male  United Kingdom\n",
       "...     ...                    ...     ...             ...\n",
       "3527  12542         Gilberto Zorio    Male          Italia\n",
       "3528   2186              Larry Zox    Male   United States\n",
       "3529    621   Francesco Zuccarelli    Male          Italia\n",
       "3530   2187        Ignacio Zuloaga    Male           Spain\n",
       "3531   2188         Aleksander Zyw    Male          Poland\n",
       "\n",
       "[3532 rows x 4 columns]"
      ]
     },
     "metadata": {},
     "output_type": "display_data"
    }
   ],
   "source": [
    "display(Tate_artists)"
   ]
  },
  {
   "cell_type": "markdown",
   "id": "96aa7146",
   "metadata": {},
   "source": [
    "# 2. Cleaning data"
   ]
  },
  {
   "cell_type": "markdown",
   "id": "ea349147",
   "metadata": {},
   "source": [
    "Identifying and fixing incoherent, corrupt or defective data is an essential process for ensuring a satisfactory threshold of reliability to any further analysis. Let us delve into it."
   ]
  },
  {
   "cell_type": "markdown",
   "id": "b39a1a22",
   "metadata": {},
   "source": [
    "## MoMA"
   ]
  },
  {
   "cell_type": "markdown",
   "id": "c3e3299f",
   "metadata": {},
   "source": [
    "### Missing values\n",
    "First of all, let us deal with missing values, substituting them with zeros to better handle them."
   ]
  },
  {
   "cell_type": "code",
   "execution_count": 33,
   "id": "cd22d5d9",
   "metadata": {},
   "outputs": [],
   "source": [
    "MoMA.fillna(value='0', inplace=True)"
   ]
  },
  {
   "cell_type": "markdown",
   "id": "c65de8a6",
   "metadata": {},
   "source": [
    "### Dates\n",
    "Artworks acquisition dates are in the form `YYYY-MM-DD`.<br>\n",
    "For the sake of our analysis, we extract the year and transform it into an integer."
   ]
  },
  {
   "cell_type": "code",
   "execution_count": 34,
   "id": "f2268d25",
   "metadata": {},
   "outputs": [],
   "source": [
    "def cleanAcquisitionDatesMoMA(date):\n",
    "    if '-' in date:\n",
    "        date = date.split('-')[0]\n",
    "    return date"
   ]
  },
  {
   "cell_type": "code",
   "execution_count": 35,
   "id": "8833b363",
   "metadata": {},
   "outputs": [],
   "source": [
    "MoMA[\"DateAcquired\"] = MoMA[\"DateAcquired\"].apply(cleanAcquisitionDatesMoMA)"
   ]
  },
  {
   "cell_type": "markdown",
   "id": "548c1884",
   "metadata": {},
   "source": [
    "In MoMA database, artworks' creation dates are mostly already represented by just one year.<br>\n",
    "Nevertheless, there are some exceptions: years separated by a slash or a dash and strings of any kind, such as '(1950).  (Prints executed 1948', '(1883, published 1897)' or '(1911, dated 1912, published c. 1917)'.\n",
    "\n",
    "We wrote a code to extract the year through a regex only matching the first sequence of four digits for each value."
   ]
  },
  {
   "cell_type": "code",
   "execution_count": 36,
   "id": "82f5c645",
   "metadata": {},
   "outputs": [],
   "source": [
    "def cleanDatesMoMA(date):\n",
    "    if '-' in date:\n",
    "        splitted = date.split('-')\n",
    "        date = ' '.join(splitted) \n",
    "    if '/' in date:\n",
    "        splitted = date.split('/')\n",
    "        date = ' '.join(splitted) \n",
    "    if ',' in date:\n",
    "        splitted = date.split(',')\n",
    "        date = ' '.join(splitted) \n",
    "    if '.' in date:\n",
    "        splitted = date.split('.')\n",
    "        date = ' '.join(splitted) \n",
    "        \n",
    "    x = re.search(\"\\d{4}\", date)\n",
    "    if x:\n",
    "        date = x.group()\n",
    "    else:\n",
    "        date = '0'\n",
    "    return date"
   ]
  },
  {
   "cell_type": "code",
   "execution_count": 37,
   "id": "c86f36e2",
   "metadata": {},
   "outputs": [],
   "source": [
    "MoMA[\"Date\"] = MoMA[\"Date\"].astype(str)\n",
    "MoMA[\"Date\"] = MoMA[\"Date\"].apply(cleanDatesMoMA)"
   ]
  },
  {
   "cell_type": "markdown",
   "id": "4d2cd651",
   "metadata": {},
   "source": [
    "## Tate"
   ]
  },
  {
   "cell_type": "markdown",
   "id": "583d9d02",
   "metadata": {},
   "source": [
    "### Missing values\n",
    "Again, let us replace missing values and strings indicating lack of information with zeros, thus obtaining a dataframe filled with coherent data."
   ]
  },
  {
   "cell_type": "code",
   "execution_count": 38,
   "id": "bc9b14f0",
   "metadata": {},
   "outputs": [],
   "source": [
    "Tate.fillna(value='0', inplace=True)\n",
    "Tate['Date'].replace(to_replace=['no date','c'], value='0', inplace= True)"
   ]
  },
  {
   "cell_type": "code",
   "execution_count": 39,
   "id": "48ec9fbe",
   "metadata": {},
   "outputs": [],
   "source": [
    "Tate_artists.fillna(value='0', inplace=True)"
   ]
  },
  {
   "cell_type": "markdown",
   "id": "cd4d3f8d",
   "metadata": {},
   "source": [
    "### Dates\n",
    "Artworks acquisition dates and artworks creation dates are represented as floats (e.g. 1997.0). We convert them to integers."
   ]
  },
  {
   "cell_type": "code",
   "execution_count": 40,
   "id": "d36274ca",
   "metadata": {},
   "outputs": [],
   "source": [
    "def cleanDatesTate(date):\n",
    "    if '.' in date:\n",
    "        date = date.split('.')[0] \n",
    "    return date"
   ]
  },
  {
   "cell_type": "code",
   "execution_count": 41,
   "id": "695370e5",
   "metadata": {},
   "outputs": [],
   "source": [
    "Tate[\"Date\"] = Tate[\"Date\"].astype(str)\n",
    "Tate[\"Date\"] = Tate[\"Date\"].apply(cleanDatesTate)\n",
    "Tate[\"DateAcquired\"] = Tate[\"DateAcquired\"].astype(str)\n",
    "Tate[\"DateAcquired\"] = Tate[\"DateAcquired\"].apply(cleanDatesTate)"
   ]
  },
  {
   "cell_type": "markdown",
   "id": "e91e1104",
   "metadata": {},
   "source": [
    "### Artists' names\n",
    "In both Tate dataframes artists' names are in the form `Surname, Name`. For clarity purposes, we decided to normalise them as `Name Surname`, and wrote a code to do so. "
   ]
  },
  {
   "cell_type": "code",
   "execution_count": 42,
   "id": "e5c26f28",
   "metadata": {},
   "outputs": [],
   "source": [
    "def cleanArtistsNames(name):\n",
    "    if ',' in name:\n",
    "        name= name.split(',')\n",
    "        name[0], name[1] = name[1], name[0]\n",
    "        name = ' '.join(name)\n",
    "    return name.strip()"
   ]
  },
  {
   "cell_type": "code",
   "execution_count": 43,
   "id": "3ce66c63",
   "metadata": {},
   "outputs": [],
   "source": [
    "Tate[\"Artist\"] = Tate[\"Artist\"].apply(cleanArtistsNames)"
   ]
  },
  {
   "cell_type": "code",
   "execution_count": 44,
   "id": "a325f329",
   "metadata": {},
   "outputs": [],
   "source": [
    "Tate_artists[\"name\"] = Tate_artists[\"name\"].apply(cleanArtistsNames)"
   ]
  },
  {
   "cell_type": "markdown",
   "id": "bdaf8457",
   "metadata": {},
   "source": [
    "### Nationalities\n",
    "In Tate's dataframe about artists, nationalities are often in the form `city, country`(e.g. 'Philadelphia, United States') and sometimes just indicate a city (e.g. 'Wimbledon'). <br>\n",
    "Finally, all countries' names are in their original form (e.g. 'Nihon' for 'Japan'). <br>\n",
    "We normalised it indicating, for each artist, its country of origin, in English. <br>\n",
    "We looked for all diverging values and replaced them one by one through a script."
   ]
  },
  {
   "cell_type": "code",
   "execution_count": 45,
   "id": "fb1374e5",
   "metadata": {},
   "outputs": [],
   "source": [
    "def cleanNationalitiesTate(naz): \n",
    "    if ',' in naz: \n",
    "        naz = naz.split(',')[1] \n",
    "    if naz == 'Blackheath': \n",
    "        naz= naz.replace('Blackheath', 'United Kingdom') \n",
    "    if naz == 'London': \n",
    "        naz= naz.replace('London', 'United Kingdom') \n",
    "    if naz == 'Kensington': \n",
    "        naz= naz.replace('Kensington', 'United Kingdom') \n",
    "    if naz == 'Chung-hua Min-kuo': \n",
    "        naz= naz.replace('Chung-hua Min-kuo', 'Taiwan') \n",
    "    if naz == 'Solothurn': \n",
    "        naz= naz.replace('Solothurn', 'Schweiz') \n",
    "    if naz == 'Melmerby': \n",
    "        naz= naz.replace('Melmerby', 'United Kingdom') \n",
    "    if naz == 'Montserrat': \n",
    "        naz= naz.replace('Montserrat', 'España') \n",
    "    if naz == 'Canterbury': \n",
    "        naz= naz.replace('Canterbury', 'United Kingdom') \n",
    "    if naz == 'Staten Island': \n",
    "        naz= naz.replace('Staten Island', 'United States') \n",
    "    if naz == 'Epsom': \n",
    "        naz= naz.replace('Epsom', 'United Kingdom') \n",
    "    if naz == 'Plymouth': \n",
    "        naz= naz.replace('Plymouth', 'United Kingdom') \n",
    "    if naz == 'Wimbledon': \n",
    "        naz= naz.replace('Wimbledon', 'United Kingdom') \n",
    "    if naz == 'Edinburgh': \n",
    "        naz= naz.replace('Edinburgh', 'United Kingdom') \n",
    "    if naz == 'Beckington': \n",
    "        naz= naz.replace('Beckington', 'United Kingdom') \n",
    "    if naz == 'Hertfordshire': \n",
    "        naz= naz.replace('Hertfordshire', 'United Kingdom') \n",
    "    if naz == 'Isle of Man': \n",
    "        naz= naz.replace('Isle of Man', 'United Kingdom') \n",
    "    if naz == 'Bristol': \n",
    "        naz= naz.replace('Bristol', 'United Kingdom') \n",
    "    if naz == 'Liverpool': \n",
    "        naz= naz.replace('Liverpool', 'United Kingdom') \n",
    "    if naz == 'Braintree': \n",
    "        naz= naz.replace('Braintree', 'United Kingdom') \n",
    "    if naz == 'Stoke on Trent': \n",
    "        naz= naz.replace('Stoke on Trent', 'United Kingdom') \n",
    "    if naz == 'Rochdale': \n",
    "        naz= naz.replace('Rochdale', 'United Kingdom') \n",
    "    if 'D.C.' in naz: \n",
    "        naz= naz.replace('D.C.', 'Colombia') \n",
    "    if 'Otok' in naz: \n",
    "        naz= naz.replace('Otok', 'Hrvatska') \n",
    "    if 'Département de la' in naz: \n",
    "        naz= naz.replace('Département de la', 'France') \n",
    "    if naz == 'Niederschlesien': \n",
    "        naz= naz.replace('Niederschlesien', 'Polska') \n",
    "    if naz == 'Perth': \n",
    "        naz= naz.replace('Perth', 'Australia') \n",
    "    if naz == 'Bermondsey': \n",
    "        naz= naz.replace('Bermondsey', 'United Kingdom') \n",
    "    if naz == 'Egremont': \n",
    "        naz= naz.replace('Egremont', 'United Kingdom') \n",
    "    if naz == 'Charlotte Amalie': \n",
    "        naz= naz.replace('Charlotte Amalie', 'United States') \n",
    "    if naz == 'Charlieu': \n",
    "        naz= naz.replace('Charlieu', 'France') \n",
    "    if naz == 'Stockholm': \n",
    "        naz= naz.replace('Stockholm', 'Sverige') \n",
    "    if naz == 'Auteuil': \n",
    "        naz= naz.replace('Auteuil', 'France') \n",
    " \n",
    "    if 'Polska' in naz: \n",
    "        naz = naz.replace('Polska', 'Poland') \n",
    "    if \"Yisra'el\" in naz: \n",
    "        naz = naz.replace(\"Yisra'el\", 'Israel') \n",
    "    if 'Deutschland' in naz: \n",
    "        naz = naz.replace('Deutschland', 'Germany') \n",
    "    if 'Schweiz' in naz: \n",
    "        naz = naz.replace('Schweiz', 'Switzerland') \n",
    "    if 'Suomi' in naz: \n",
    "        naz = naz.replace('Suomi', 'Finland') \n",
    "    if 'Zhonghua' in naz: \n",
    "        naz = naz.replace('Zhonghua', 'China') \n",
    "    if 'Türkiye' in naz: \n",
    "        naz = naz.replace('Türkiye', 'Turkey') \n",
    "    if 'Al-‘Iraq' in naz: \n",
    "        naz = naz.replace('Al-‘Iraq', 'Iraq') \n",
    "    if 'België' in naz: \n",
    "        naz = naz.replace('België', 'Belgium') \n",
    "    if 'Rossiya' in naz: \n",
    "        naz = naz.replace('Rossiya', 'Russia') \n",
    "    if 'Nihon' in naz: \n",
    "        naz = naz.replace('Nihon', 'Japan') \n",
    "    if 'Éire' in naz: \n",
    "        naz = naz.replace('Éire', 'Ireland') \n",
    "    if 'Österreich' in naz: \n",
    "        naz = naz.replace('Österreich', 'Austria') \n",
    "    if 'Saint Hélier' in naz: \n",
    "        naz = naz.replace('Saint Hélier', 'United Kingdom') \n",
    "    if 'Ceská Republik' in naz: \n",
    "        naz = naz.replace('Ceská Republik', 'Czech Republic') \n",
    "    if 'Ukrayina' in naz: \n",
    "        naz = naz.replace('Ukrayina', 'Ukraine') \n",
    "    if 'Ellás' in naz: \n",
    "        naz = naz.replace('Ellás', 'Greece') \n",
    "    if 'Latvija ' in naz: \n",
    "        naz = naz.replace('Latvija ', 'Latvia') \n",
    "    if 'Douglas' in naz: \n",
    "        naz = naz.replace('Douglas', 'United Kingdom') \n",
    "    if 'România' in naz: \n",
    "        naz = naz.replace('România', 'Romania') \n",
    "    if 'Sverige' in naz: \n",
    "        naz = naz.replace('Sverige', 'Sweden') \n",
    "    if 'Bharat' in naz: \n",
    "        naz = naz.replace('Bharat', 'India')     \n",
    "    if 'España' in naz: \n",
    "        naz = naz.replace('España', 'Spain')   \n",
    "    if 'Magyarország' in naz: \n",
    "        naz = naz.replace('Magyarország', 'Hungery')  \n",
    "    if 'Slovenská Republika' in naz: \n",
    "        naz = naz.replace('Slovenská Republika', 'Slovenia')  \n",
    "        \n",
    "    return naz.strip()"
   ]
  },
  {
   "cell_type": "code",
   "execution_count": 46,
   "id": "f40615c6",
   "metadata": {},
   "outputs": [],
   "source": [
    "Tate_artists[\"placeOfBirth\"] = Tate_artists[\"placeOfBirth\"].apply(cleanNationalitiesTate)"
   ]
  },
  {
   "cell_type": "markdown",
   "id": "424e4796",
   "metadata": {},
   "source": [
    "# Exploration\n",
    "We can now start exploring our Museums, to get to know them better through available data."
   ]
  },
  {
   "cell_type": "markdown",
   "id": "95cfe32c",
   "metadata": {},
   "source": [
    "## How many artworks?"
   ]
  },
  {
   "cell_type": "code",
   "execution_count": 39,
   "id": "1e765f0e",
   "metadata": {},
   "outputs": [
    {
     "name": "stdout",
     "output_type": "stream",
     "text": [
      "Total artworks at MoMA : 140848\n",
      "Total artworks at Tate : 69201\n"
     ]
    }
   ],
   "source": [
    "museums=[MoMA, Tate]\n",
    "names = ['MoMA','Tate']\n",
    "for museum in museums:\n",
    "    selected_rows = museum[~museum['Title'].isnull()]\n",
    "    name = names.pop(0)\n",
    "    print(\"Total artworks at\", name, \":\", len(selected_rows.index))"
   ]
  },
  {
   "cell_type": "markdown",
   "id": "4b41fb02",
   "metadata": {},
   "source": [
    "## When do artworks date back?"
   ]
  },
  {
   "cell_type": "code",
   "execution_count": 42,
   "id": "d9ec499b",
   "metadata": {},
   "outputs": [
    {
     "name": "stdout",
     "output_type": "stream",
     "text": [
      "Most ancient artwork at MoMA dates back to 1768\n",
      "Most recent artwork at MoMA dates back to 2022\n",
      "Most ancient artwork at Tate dates back to 1545\n",
      "Most recent artwork at Tate dates back to 2012\n"
     ]
    }
   ],
   "source": [
    "museums=[MoMA, Tate]\n",
    "names = ['MoMA','Tate']\n",
    "for museum in museums:\n",
    "    museum[\"Date\"] = museum[\"Date\"].astype(int)\n",
    "    museum.sort_values(by=['Date'], inplace=True)\n",
    "    museumWithoutZeros = museum[museum['Date'] != 0]\n",
    "    firstDate = museumWithoutZeros['Date'].iat[0]\n",
    "    lastDate = museumWithoutZeros['Date'].iat[-1]\n",
    "    name = names.pop(0)\n",
    "    print(\"Most ancient artwork at\", name, \"dates back to\",firstDate )\n",
    "    print(\"Most recent artwork at\", name, \"dates back to\",lastDate )    "
   ]
  },
  {
   "cell_type": "markdown",
   "id": "ed72b5fd",
   "metadata": {},
   "source": [
    "## Artists"
   ]
  },
  {
   "cell_type": "markdown",
   "id": "b31d20e0",
   "metadata": {},
   "source": [
    "For examining artist-related issues, we rely on the two CSV files from the Museums containing information about them, which we already transformed into dataframes (Tate_artists and MoMA_artists). <br> \n",
    "In doing so, we avoid duplicates (the same artists may have more than one artwork in the same museum)."
   ]
  },
  {
   "cell_type": "markdown",
   "id": "e343eee8",
   "metadata": {},
   "source": [
    "### How many artists?"
   ]
  },
  {
   "cell_type": "code",
   "execution_count": 45,
   "id": "a5df735a",
   "metadata": {},
   "outputs": [
    {
     "name": "stdout",
     "output_type": "stream",
     "text": [
      "Total number of artists at MoMA 15243\n"
     ]
    }
   ],
   "source": [
    "print('Total number of artists at MoMA', len(MoMA_artists))"
   ]
  },
  {
   "cell_type": "code",
   "execution_count": 46,
   "id": "4d8d0ff4",
   "metadata": {},
   "outputs": [
    {
     "name": "stdout",
     "output_type": "stream",
     "text": [
      "Total number of artists at Tate 3532\n"
     ]
    }
   ],
   "source": [
    "print('Total number of artists at Tate', len(Tate_artists))"
   ]
  },
  {
   "cell_type": "markdown",
   "id": "dfe6535c",
   "metadata": {},
   "source": [
    "### Artists' gender: which is the most represented?"
   ]
  },
  {
   "cell_type": "markdown",
   "id": "e0b4194f",
   "metadata": {},
   "source": [
    "## Tate"
   ]
  },
  {
   "cell_type": "markdown",
   "id": "0523db72",
   "metadata": {},
   "source": [
    "### Wikidata integration"
   ]
  },
  {
   "cell_type": "markdown",
   "id": "ddd016bd",
   "metadata": {},
   "source": [
    "Since Tate dataset lacks of some gender information, we took advantage of Wikidata in order to integrate it through some remote SPARQL queries."
   ]
  },
  {
   "cell_type": "markdown",
   "id": "badfbf16",
   "metadata": {},
   "source": [
    "1. We create a subset of the dataframe containing all and only the the rows in which the gender information is missing."
   ]
  },
  {
   "cell_type": "code",
   "execution_count": 62,
   "id": "2e73531a",
   "metadata": {},
   "outputs": [],
   "source": [
    "Tate_to_integrate = Tate_artists[Tate_artists['gender']== '0']"
   ]
  },
  {
   "cell_type": "markdown",
   "id": "f3d80b12",
   "metadata": {},
   "source": [
    "2. We exclude some entities to which a gender cannot be attributed (e.g., collective or anonymous artists)."
   ]
  },
  {
   "cell_type": "code",
   "execution_count": 67,
   "id": "57feb271",
   "metadata": {},
   "outputs": [],
   "source": [
    "Tate_to_integrate = Tate_to_integrate[Tate_to_integrate['name'] != 'Anonymous']\n",
    "Tate_to_integrate = Tate_to_integrate[Tate_to_integrate['name'] != 'born 1945; Mel Ramsden Art & Language (Michael Baldwin  born 1944)']\n",
    "Tate_to_integrate = Tate_to_integrate[Tate_to_integrate['name'] != 'born 1939; David Bainbridge Art & Language (Terry Atkinson  born 1941; Michael Baldwin  born 1945; Harold Hurrell  born']\n",
    "Tate_to_integrate = Tate_to_integrate[Tate_to_integrate['name'] != 'born 1939; Michael Baldwin Art & Language (Terry Atkinson  born 1945)']\n",
    "Tate_to_integrate = Tate_to_integrate[Tate_to_integrate['name'] != '1939-1993; Mel Ramsden Art & Language (Ian Burn  born 1944)']\n",
    "Tate_to_integrate = Tate_to_integrate[Tate_to_integrate['name'] != 'Atlas Group']\n",
    "Tate_to_integrate = Tate_to_integrate[Tate_to_integrate['name'] != 'Black Audio Film Collective (John Akomfrah; Reece Auguis; Edward George; Lina Gopaul; Avril Johnson; David Lawson; Trevo']\n",
    "Tate_to_integrate = Tate_to_integrate[Tate_to_integrate['name'] != 'Fionnuala and Leslie Boyd and Evans']\n",
    "Tate_to_integrate = Tate_to_integrate[Tate_to_integrate['name'] != 'British (?) School']\n",
    "Tate_to_integrate = Tate_to_integrate[Tate_to_integrate['name'] != 'British (?) School 19th century']\n",
    "Tate_to_integrate = Tate_to_integrate[Tate_to_integrate['name'] != 'British School 17th century']\n",
    "Tate_to_integrate = Tate_to_integrate[Tate_to_integrate['name'] != 'British School 16th century']\n",
    "Tate_to_integrate = Tate_to_integrate[Tate_to_integrate['name'] != 'British School 17th or 18th century']\n",
    "Tate_to_integrate = Tate_to_integrate[Tate_to_integrate['name'] != 'British School 18th century']\n",
    "Tate_to_integrate = Tate_to_integrate[Tate_to_integrate['name'] != 'British School 19th century']\n",
    "Tate_to_integrate = Tate_to_integrate[Tate_to_integrate['name'] != 'British School 20th century']\n",
    "Tate_to_integrate = Tate_to_integrate[Tate_to_integrate['name'] != 'Chinese School 18th century']\n",
    "Tate_to_integrate = Tate_to_integrate[Tate_to_integrate['name'] != 'French School 18th century']\n",
    "Tate_to_integrate = Tate_to_integrate[Tate_to_integrate['name'] != 'French School 19th century']\n",
    "Tate_to_integrate = Tate_to_integrate[Tate_to_integrate['name'] != 'International Local (Sarah Charlesworth; Joseph Kosuth; Anthony McCall)']\n",
    "Tate_to_integrate = Tate_to_integrate[Tate_to_integrate['name'] != 'Italian or German (?) School 17th century']\n",
    "Tate_to_integrate = Tate_to_integrate[Tate_to_integrate['name'] != 'Langlands and Bell, Ben and Nikki']\n",
    "Tate_to_integrate = Tate_to_integrate[Tate_to_integrate['name'] != 'Italian or German (?) School 17th century']\n",
    "Tate_to_integrate = Tate_to_integrate[Tate_to_integrate['name'] != 'Ben and Nikki Langlands and Bell']\n",
    "Tate_to_integrate = Tate_to_integrate[Tate_to_integrate['name'] != 'Lucy and Eegyudluk']\n",
    "Tate_to_integrate = Tate_to_integrate[Tate_to_integrate['name'] != 'France) M/M (Paris']\n",
    "Tate_to_integrate = Tate_to_integrate[Tate_to_integrate['name'] != 'T R Uthco (Doug Hall born 1944, Diane Andrews Hall born 1945, Jody Procter 1944-1998)']\n",
    "Tate_to_integrate = Tate_to_integrate[Tate_to_integrate['name'] != 'Art & Language (Ian Burn, 1939-1993; Mel Ramsden, born 1944)']\n",
    "Tate_to_integrate = Tate_to_integrate[Tate_to_integrate['name'] != 'Unknown']\n",
    "Tate_to_integrate = Tate_to_integrate[Tate_to_integrate['name'] != 'Marc Voge) Young-Hae Chang Heavy Industries (Young-Hae Chang']\n",
    "Tate_to_integrate = Tate_to_integrate[Tate_to_integrate['name'] != 'K.O.S.']\n",
    "Tate_to_integrate = Tate_to_integrate[Tate_to_integrate['name'] != 'Diane Andrews Hall born 1945 T R Uthco (Doug Hall born 1944  Jody Procter 1944-1998)']\n",
    "Tate_to_integrate = Tate_to_integrate[Tate_to_integrate['name'] != 'Mel Ramsden Art & Language (Ian Burn  born 1944)']"
   ]
  },
  {
   "cell_type": "markdown",
   "id": "2a282939",
   "metadata": {},
   "source": [
    "3. We proceed to search the artists' entities on Wikidata: this will then allow us to look up for their gender.<br>\n",
    "The SPARQL query you can read below searches for human individuals that work as photograpers, artists, graphic artists, painters, video artists, sculptor and visual artist. The `{}` placeholder will be replaced by the artist's name from the dataframe via python `format()` method.<br>\n",
    "We directly apply the query to our dataframe through a function taking advantage of `qwikidata` is a Python package allowing to interact with Wikidata.<br>\n",
    "Finally, we insert the result in a new colum created on the fly, named `Artist Entity`."
   ]
  },
  {
   "cell_type": "code",
   "execution_count": null,
   "id": "a1c4e23c",
   "metadata": {},
   "outputs": [],
   "source": [
    "artists_genders_from_ids = \"\"\"\n",
    "PREFIX rdfs: <http://www.w3.org/2000/01/rdf-schema#>\n",
    "SELECT DISTINCT ?artist\n",
    "WHERE {{\n",
    "    ?artist wdt:P31 wd:Q5 . \n",
    "    ?artist wdt:P106 ?occupation\n",
    "                  FILTER (?occupation IN (wd:Q33231) ) \n",
    "    ?artist rdfs:label ?o\n",
    "    FILTER regex(?o, \\\"^{}$\\\" )\n",
    "            FILTER (langMatches(lang(?o), \"EN\")).\n",
    "}}\n",
    "\n",
    "\"\"\""
   ]
  },
  {
   "cell_type": "code",
   "execution_count": null,
   "id": "37c46f93",
   "metadata": {},
   "outputs": [],
   "source": [
    "def find_artists_genders_from_ids(name):\n",
    "    query = artists_genders_from_ids.format(name.strip())\n",
    "    res = return_sparql_query_results(query_string=query)\n",
    "   \n",
    "    try:\n",
    "        wdt_uri = res['results']['bindings'][0]['artist']['value']\n",
    "    except (IndexError, KeyError):\n",
    "        return \"\"\n",
    "    return wdt_uri.split(\"/\")[-1]"
   ]
  },
  {
   "cell_type": "code",
   "execution_count": null,
   "id": "67df94c6",
   "metadata": {},
   "outputs": [],
   "source": [
    "Tate_to_integrate[\"Artist Entity\"] = Tate_to_integrate[\"name\"].apply(find_artists_genders_from_ids)"
   ]
  },
  {
   "cell_type": "markdown",
   "id": "153e3c99",
   "metadata": {},
   "source": [
    "Since Wikidata SPARQL endpoint does not support heavy queries, we search for one occupation at a time and create a CSV file for all the artists for which the corresponding wikidata entity was found (e.g., all photographers).<br>\n",
    "We then continue the research on the rest of the dataframe, from which we remove the rows corresponding to the artists for which we already found the wikidata entity.<br>\n",
    "We work on copies to avoid compromising the original dataframe."
   ]
  },
  {
   "cell_type": "code",
   "execution_count": null,
   "id": "003485e1",
   "metadata": {},
   "outputs": [],
   "source": [
    "copy = Tate_to_integrate.copy(deep=True) \n",
    "photographers =  copy[copy['Artist Entity']!= ''] \n",
    "photographers.to_csv('Photographers.csv')"
   ]
  },
  {
   "cell_type": "code",
   "execution_count": null,
   "id": "66b58eab",
   "metadata": {},
   "outputs": [],
   "source": [
    "to_integrate =  copy[copy['Artist Entity']== ''] \n",
    "to_integrate[\"Artist Entity\"] = to_integrate[\"name\"].apply(find_artists_genders_from_ids)"
   ]
  },
  {
   "cell_type": "markdown",
   "id": "a6a8ace6",
   "metadata": {},
   "source": [
    "4. Finally, when we have obtained one CSV file for each profession, we can move to integrating all of them into one."
   ]
  },
  {
   "cell_type": "code",
   "execution_count": 26,
   "id": "d6475581",
   "metadata": {},
   "outputs": [
    {
     "data": {
      "text/html": [
       "<div>\n",
       "<style scoped>\n",
       "    .dataframe tbody tr th:only-of-type {\n",
       "        vertical-align: middle;\n",
       "    }\n",
       "\n",
       "    .dataframe tbody tr th {\n",
       "        vertical-align: top;\n",
       "    }\n",
       "\n",
       "    .dataframe thead th {\n",
       "        text-align: right;\n",
       "    }\n",
       "</style>\n",
       "<table border=\"1\" class=\"dataframe\">\n",
       "  <thead>\n",
       "    <tr style=\"text-align: right;\">\n",
       "      <th></th>\n",
       "      <th>Column1</th>\n",
       "      <th>id</th>\n",
       "      <th>name</th>\n",
       "      <th>gender</th>\n",
       "      <th>dates</th>\n",
       "      <th>yearOfBirth</th>\n",
       "      <th>yearOfDeath</th>\n",
       "      <th>placeOfBirth</th>\n",
       "      <th>placeOfDeath</th>\n",
       "      <th>url</th>\n",
       "      <th>Artist Entity</th>\n",
       "      <th>Unnamed: 0</th>\n",
       "    </tr>\n",
       "  </thead>\n",
       "  <tbody>\n",
       "    <tr>\n",
       "      <th>0</th>\n",
       "      <td>142.0</td>\n",
       "      <td>18070</td>\n",
       "      <td>John Bacon</td>\n",
       "      <td>NaN</td>\n",
       "      <td>1740–1799</td>\n",
       "      <td>17400.0</td>\n",
       "      <td>17990.0</td>\n",
       "      <td>NaN</td>\n",
       "      <td>NaN</td>\n",
       "      <td>http://www.tate.org.uk/art/artists/john-bacon-...</td>\n",
       "      <td>NaN</td>\n",
       "      <td>NaN</td>\n",
       "    </tr>\n",
       "    <tr>\n",
       "      <th>1</th>\n",
       "      <td>145.0</td>\n",
       "      <td>12918</td>\n",
       "      <td>Ruth Baehnisch</td>\n",
       "      <td>NaN</td>\n",
       "      <td>1910–1997</td>\n",
       "      <td>19100.0</td>\n",
       "      <td>19970.0</td>\n",
       "      <td>NaN</td>\n",
       "      <td>NaN</td>\n",
       "      <td>http://www.tate.org.uk/art/artists/ruth-baehni...</td>\n",
       "      <td>Q94774202</td>\n",
       "      <td>NaN</td>\n",
       "    </tr>\n",
       "    <tr>\n",
       "      <th>2</th>\n",
       "      <td>242.0</td>\n",
       "      <td>2618</td>\n",
       "      <td>A. Belloguet</td>\n",
       "      <td>NaN</td>\n",
       "      <td>19th century</td>\n",
       "      <td>18000.0</td>\n",
       "      <td>18990.0</td>\n",
       "      <td>NaN</td>\n",
       "      <td>NaN</td>\n",
       "      <td>http://www.tate.org.uk/art/artists/a-belloguet...</td>\n",
       "      <td>NaN</td>\n",
       "      <td>NaN</td>\n",
       "    </tr>\n",
       "    <tr>\n",
       "      <th>3</th>\n",
       "      <td>244.0</td>\n",
       "      <td>18264</td>\n",
       "      <td>Nikolaj Bendix Skyum Larsen</td>\n",
       "      <td>NaN</td>\n",
       "      <td>born 1971</td>\n",
       "      <td>19710.0</td>\n",
       "      <td>NaN</td>\n",
       "      <td>NaN</td>\n",
       "      <td>NaN</td>\n",
       "      <td>http://www.tate.org.uk/art/artists/nikolaj-ben...</td>\n",
       "      <td>Q38054711</td>\n",
       "      <td>NaN</td>\n",
       "    </tr>\n",
       "    <tr>\n",
       "      <th>4</th>\n",
       "      <td>255.0</td>\n",
       "      <td>18242</td>\n",
       "      <td>Caroline Bergvall</td>\n",
       "      <td>NaN</td>\n",
       "      <td>born 1962</td>\n",
       "      <td>19620.0</td>\n",
       "      <td>NaN</td>\n",
       "      <td>NaN</td>\n",
       "      <td>NaN</td>\n",
       "      <td>http://www.tate.org.uk/art/artists/caroline-be...</td>\n",
       "      <td>Q5044980</td>\n",
       "      <td>NaN</td>\n",
       "    </tr>\n",
       "    <tr>\n",
       "      <th>...</th>\n",
       "      <td>...</td>\n",
       "      <td>...</td>\n",
       "      <td>...</td>\n",
       "      <td>...</td>\n",
       "      <td>...</td>\n",
       "      <td>...</td>\n",
       "      <td>...</td>\n",
       "      <td>...</td>\n",
       "      <td>...</td>\n",
       "      <td>...</td>\n",
       "      <td>...</td>\n",
       "      <td>...</td>\n",
       "    </tr>\n",
       "    <tr>\n",
       "      <th>83</th>\n",
       "      <td>NaN</td>\n",
       "      <td>5645</td>\n",
       "      <td>Nikolai Kogout</td>\n",
       "      <td>NaN</td>\n",
       "      <td>1891–1959</td>\n",
       "      <td>1891.0</td>\n",
       "      <td>1959.0</td>\n",
       "      <td>NaN</td>\n",
       "      <td>NaN</td>\n",
       "      <td>http://www.tate.org.uk/art/artists/nikolai-kog...</td>\n",
       "      <td>Q15068972</td>\n",
       "      <td>1762.0</td>\n",
       "    </tr>\n",
       "    <tr>\n",
       "      <th>84</th>\n",
       "      <td>NaN</td>\n",
       "      <td>17127</td>\n",
       "      <td>Vladimir Kozlinsky</td>\n",
       "      <td>NaN</td>\n",
       "      <td>1891 – 1967</td>\n",
       "      <td>1891.0</td>\n",
       "      <td>1967.0</td>\n",
       "      <td>NaN</td>\n",
       "      <td>NaN</td>\n",
       "      <td>http://www.tate.org.uk/art/artists/vladimir-ko...</td>\n",
       "      <td>Q24351555</td>\n",
       "      <td>1785.0</td>\n",
       "    </tr>\n",
       "    <tr>\n",
       "      <th>85</th>\n",
       "      <td>NaN</td>\n",
       "      <td>17008</td>\n",
       "      <td>James Orrock</td>\n",
       "      <td>NaN</td>\n",
       "      <td>1829–1913</td>\n",
       "      <td>1829.0</td>\n",
       "      <td>1913.0</td>\n",
       "      <td>NaN</td>\n",
       "      <td>NaN</td>\n",
       "      <td>http://www.tate.org.uk/art/artists/james-orroc...</td>\n",
       "      <td>Q6140661</td>\n",
       "      <td>2413.0</td>\n",
       "    </tr>\n",
       "    <tr>\n",
       "      <th>86</th>\n",
       "      <td>NaN</td>\n",
       "      <td>13098</td>\n",
       "      <td>Monika Sosnowska</td>\n",
       "      <td>NaN</td>\n",
       "      <td>born 1972</td>\n",
       "      <td>1972.0</td>\n",
       "      <td>NaN</td>\n",
       "      <td>NaN</td>\n",
       "      <td>NaN</td>\n",
       "      <td>http://www.tate.org.uk/art/artists/monika-sosn...</td>\n",
       "      <td>Q520491</td>\n",
       "      <td>2995.0</td>\n",
       "    </tr>\n",
       "    <tr>\n",
       "      <th>87</th>\n",
       "      <td>NaN</td>\n",
       "      <td>18071</td>\n",
       "      <td>Richard Westmacott</td>\n",
       "      <td>NaN</td>\n",
       "      <td>1775–1856</td>\n",
       "      <td>1775.0</td>\n",
       "      <td>1856.0</td>\n",
       "      <td>NaN</td>\n",
       "      <td>NaN</td>\n",
       "      <td>http://www.tate.org.uk/art/artists/richard-wes...</td>\n",
       "      <td>Q6238282</td>\n",
       "      <td>3386.0</td>\n",
       "    </tr>\n",
       "  </tbody>\n",
       "</table>\n",
       "<p>88 rows × 12 columns</p>\n",
       "</div>"
      ],
      "text/plain": [
       "    Column1     id                         name  gender         dates  \\\n",
       "0     142.0  18070                   John Bacon     NaN     1740–1799   \n",
       "1     145.0  12918               Ruth Baehnisch     NaN     1910–1997   \n",
       "2     242.0   2618                 A. Belloguet     NaN  19th century   \n",
       "3     244.0  18264  Nikolaj Bendix Skyum Larsen     NaN     born 1971   \n",
       "4     255.0  18242            Caroline Bergvall     NaN     born 1962   \n",
       "..      ...    ...                          ...     ...           ...   \n",
       "83      NaN   5645               Nikolai Kogout     NaN     1891–1959   \n",
       "84      NaN  17127           Vladimir Kozlinsky     NaN   1891 – 1967   \n",
       "85      NaN  17008                 James Orrock     NaN     1829–1913   \n",
       "86      NaN  13098             Monika Sosnowska     NaN     born 1972   \n",
       "87      NaN  18071           Richard Westmacott     NaN     1775–1856   \n",
       "\n",
       "    yearOfBirth  yearOfDeath placeOfBirth placeOfDeath  \\\n",
       "0       17400.0      17990.0          NaN          NaN   \n",
       "1       19100.0      19970.0          NaN          NaN   \n",
       "2       18000.0      18990.0          NaN          NaN   \n",
       "3       19710.0          NaN          NaN          NaN   \n",
       "4       19620.0          NaN          NaN          NaN   \n",
       "..          ...          ...          ...          ...   \n",
       "83       1891.0       1959.0          NaN          NaN   \n",
       "84       1891.0       1967.0          NaN          NaN   \n",
       "85       1829.0       1913.0          NaN          NaN   \n",
       "86       1972.0          NaN          NaN          NaN   \n",
       "87       1775.0       1856.0          NaN          NaN   \n",
       "\n",
       "                                                  url Artist Entity  \\\n",
       "0   http://www.tate.org.uk/art/artists/john-bacon-...           NaN   \n",
       "1   http://www.tate.org.uk/art/artists/ruth-baehni...     Q94774202   \n",
       "2   http://www.tate.org.uk/art/artists/a-belloguet...           NaN   \n",
       "3   http://www.tate.org.uk/art/artists/nikolaj-ben...     Q38054711   \n",
       "4   http://www.tate.org.uk/art/artists/caroline-be...      Q5044980   \n",
       "..                                                ...           ...   \n",
       "83  http://www.tate.org.uk/art/artists/nikolai-kog...     Q15068972   \n",
       "84  http://www.tate.org.uk/art/artists/vladimir-ko...     Q24351555   \n",
       "85  http://www.tate.org.uk/art/artists/james-orroc...      Q6140661   \n",
       "86  http://www.tate.org.uk/art/artists/monika-sosn...       Q520491   \n",
       "87  http://www.tate.org.uk/art/artists/richard-wes...      Q6238282   \n",
       "\n",
       "    Unnamed: 0  \n",
       "0          NaN  \n",
       "1          NaN  \n",
       "2          NaN  \n",
       "3          NaN  \n",
       "4          NaN  \n",
       "..         ...  \n",
       "83      1762.0  \n",
       "84      1785.0  \n",
       "85      2413.0  \n",
       "86      2995.0  \n",
       "87      3386.0  \n",
       "\n",
       "[88 rows x 12 columns]"
      ]
     },
     "metadata": {},
     "output_type": "display_data"
    }
   ],
   "source": [
    "Tate_artists_integrated = pd.concat(map(pd.read_csv, ['Handmade.csv', 'Artists.csv', 'Photographers.csv', 'Videoartists.csv', 'graphicartists.csv', 'Painters.csv']), ignore_index=True)\n",
    "#Tate_artists_integrated.to_csv('ArtistIntegrated.csv')\n",
    "display(Tate_artists_integrated )"
   ]
  },
  {
   "cell_type": "code",
   "execution_count": 12,
   "id": "84ff1afe",
   "metadata": {},
   "outputs": [],
   "source": [
    "artists_genders = \"\"\" \n",
    "PREFIX rdfs: <http://www.w3.org/2000/01/rdf-schema#> \n",
    "PREFIX wd: <http://www.wikidata.org/entity/> \n",
    "SELECT DISTINCT (SAMPLE(?genderLabel) AS ?genderL)\n",
    "WHERE {{ \n",
    "     wd:{}  wdt:P21 ?gender . \n",
    "     ?gender rdfs:label ?genderLabel\n",
    "    FILTER (langMatches(lang(?genderLabel), \"EN\"))\n",
    "}} \n",
    "\"\"\""
   ]
  },
  {
   "cell_type": "code",
   "execution_count": null,
   "id": "56cc223a",
   "metadata": {},
   "outputs": [],
   "source": [
    "def find_artists_genders(wikiId): \n",
    "    query = artists_genders.format(wikiId.strip()) \n",
    "    res = return_sparql_query_results(query_string=query) \n",
    "    print(query) \n",
    "    try: \n",
    "        gender= res['results']['bindings'][0]['genderL']['value'] \n",
    "    except (IndexError, KeyError, JSONDecodeError, ChunkedEncodingError): \n",
    "        return \"\" \n",
    "    return gender"
   ]
  },
  {
   "cell_type": "code",
   "execution_count": null,
   "id": "cf7b0be8",
   "metadata": {},
   "outputs": [],
   "source": [
    "ArtistIntegrated[\"gender\"] = ArtistIntegrated[\"Artist Entity\"].apply(find_artists_genders)"
   ]
  },
  {
   "cell_type": "code",
   "execution_count": 61,
   "id": "c917aa3c",
   "metadata": {},
   "outputs": [],
   "source": [
    "Artistswithgender = pd.read_csv('ArtistIntegratedFinal.csv')\n",
    "Artistswithgender.rename(columns = {'id':'Id'}, inplace = True)\n",
    "Artistswithgender[\"Id\"] = Artistswithgender[\"Id\"].astype(str)"
   ]
  },
  {
   "cell_type": "code",
   "execution_count": 63,
   "id": "7809bde1",
   "metadata": {},
   "outputs": [],
   "source": [
    "Tate = pd.merge(Tate, Artistswithgender[['Id', 'name', 'gender', 'dates', 'yearOfBirth', 'yearOfDeath', 'placeOfBirth', 'placeOfDeath', 'url']],on = 'Id', how = 'left')"
   ]
  },
  {
   "cell_type": "code",
   "execution_count": 64,
   "id": "f12fad5a",
   "metadata": {},
   "outputs": [
    {
     "data": {
      "text/html": [
       "<div>\n",
       "<style scoped>\n",
       "    .dataframe tbody tr th:only-of-type {\n",
       "        vertical-align: middle;\n",
       "    }\n",
       "\n",
       "    .dataframe tbody tr th {\n",
       "        vertical-align: top;\n",
       "    }\n",
       "\n",
       "    .dataframe thead th {\n",
       "        text-align: right;\n",
       "    }\n",
       "</style>\n",
       "<table border=\"1\" class=\"dataframe\">\n",
       "  <thead>\n",
       "    <tr style=\"text-align: right;\">\n",
       "      <th></th>\n",
       "      <th>Artist</th>\n",
       "      <th>Id</th>\n",
       "      <th>Title</th>\n",
       "      <th>Medium</th>\n",
       "      <th>CreditLine</th>\n",
       "      <th>Date</th>\n",
       "      <th>DateAcquired</th>\n",
       "      <th>URL</th>\n",
       "      <th>Gender</th>\n",
       "      <th>BirthDate</th>\n",
       "      <th>DeathDate</th>\n",
       "      <th>name</th>\n",
       "      <th>gender</th>\n",
       "      <th>dates</th>\n",
       "      <th>yearOfBirth</th>\n",
       "      <th>yearOfDeath</th>\n",
       "      <th>placeOfBirth</th>\n",
       "      <th>placeOfDeath</th>\n",
       "      <th>url</th>\n",
       "    </tr>\n",
       "  </thead>\n",
       "  <tbody>\n",
       "    <tr>\n",
       "      <th>0</th>\n",
       "      <td>Blake, Robert</td>\n",
       "      <td>38</td>\n",
       "      <td>A Figure Bowing before a Seated Old Man with h...</td>\n",
       "      <td>Watercolour, ink, chalk and graphite on paper....</td>\n",
       "      <td>Presented by Mrs John Richmond 1922</td>\n",
       "      <td>0</td>\n",
       "      <td>1922</td>\n",
       "      <td>http://www.tate.org.uk/art/artworks/blake-a-fi...</td>\n",
       "      <td>Male</td>\n",
       "      <td>1762.0</td>\n",
       "      <td>1787.0</td>\n",
       "      <td>NaN</td>\n",
       "      <td>NaN</td>\n",
       "      <td>NaN</td>\n",
       "      <td>NaN</td>\n",
       "      <td>NaN</td>\n",
       "      <td>NaN</td>\n",
       "      <td>NaN</td>\n",
       "      <td>NaN</td>\n",
       "    </tr>\n",
       "    <tr>\n",
       "      <th>1</th>\n",
       "      <td>Cozens, Alexander</td>\n",
       "      <td>118</td>\n",
       "      <td>A Landscape with a Waterfall</td>\n",
       "      <td>Graphite, ink and watercolour on paper</td>\n",
       "      <td>Purchased as part of the Oppé Collection with ...</td>\n",
       "      <td>0</td>\n",
       "      <td>1997</td>\n",
       "      <td>http://www.tate.org.uk/art/artworks/cozens-a-l...</td>\n",
       "      <td>Male</td>\n",
       "      <td>1717.0</td>\n",
       "      <td>1786.0</td>\n",
       "      <td>NaN</td>\n",
       "      <td>NaN</td>\n",
       "      <td>NaN</td>\n",
       "      <td>NaN</td>\n",
       "      <td>NaN</td>\n",
       "      <td>NaN</td>\n",
       "      <td>NaN</td>\n",
       "      <td>NaN</td>\n",
       "    </tr>\n",
       "    <tr>\n",
       "      <th>2</th>\n",
       "      <td>Cozens, Alexander</td>\n",
       "      <td>118</td>\n",
       "      <td>A Hilly Coast Line</td>\n",
       "      <td>Ink on paper</td>\n",
       "      <td>Purchased as part of the Oppé Collection with ...</td>\n",
       "      <td>0</td>\n",
       "      <td>1997</td>\n",
       "      <td>http://www.tate.org.uk/art/artworks/cozens-a-h...</td>\n",
       "      <td>Male</td>\n",
       "      <td>1717.0</td>\n",
       "      <td>1786.0</td>\n",
       "      <td>NaN</td>\n",
       "      <td>NaN</td>\n",
       "      <td>NaN</td>\n",
       "      <td>NaN</td>\n",
       "      <td>NaN</td>\n",
       "      <td>NaN</td>\n",
       "      <td>NaN</td>\n",
       "      <td>NaN</td>\n",
       "    </tr>\n",
       "    <tr>\n",
       "      <th>3</th>\n",
       "      <td>Cozens, Alexander</td>\n",
       "      <td>118</td>\n",
       "      <td>Trees under a Cliff</td>\n",
       "      <td>Ink on paper</td>\n",
       "      <td>Purchased as part of the Oppé Collection with ...</td>\n",
       "      <td>0</td>\n",
       "      <td>1997</td>\n",
       "      <td>http://www.tate.org.uk/art/artworks/cozens-tre...</td>\n",
       "      <td>Male</td>\n",
       "      <td>1717.0</td>\n",
       "      <td>1786.0</td>\n",
       "      <td>NaN</td>\n",
       "      <td>NaN</td>\n",
       "      <td>NaN</td>\n",
       "      <td>NaN</td>\n",
       "      <td>NaN</td>\n",
       "      <td>NaN</td>\n",
       "      <td>NaN</td>\n",
       "      <td>NaN</td>\n",
       "    </tr>\n",
       "    <tr>\n",
       "      <th>4</th>\n",
       "      <td>Cozens, Alexander</td>\n",
       "      <td>118</td>\n",
       "      <td>A Rocky Coast, to Right, a Felucca to Left</td>\n",
       "      <td>Watercolour and ink on paper</td>\n",
       "      <td>Purchased as part of the Oppé Collection with ...</td>\n",
       "      <td>0</td>\n",
       "      <td>1997</td>\n",
       "      <td>http://www.tate.org.uk/art/artworks/cozens-a-r...</td>\n",
       "      <td>Male</td>\n",
       "      <td>1717.0</td>\n",
       "      <td>1786.0</td>\n",
       "      <td>NaN</td>\n",
       "      <td>NaN</td>\n",
       "      <td>NaN</td>\n",
       "      <td>NaN</td>\n",
       "      <td>NaN</td>\n",
       "      <td>NaN</td>\n",
       "      <td>NaN</td>\n",
       "      <td>NaN</td>\n",
       "    </tr>\n",
       "    <tr>\n",
       "      <th>...</th>\n",
       "      <td>...</td>\n",
       "      <td>...</td>\n",
       "      <td>...</td>\n",
       "      <td>...</td>\n",
       "      <td>...</td>\n",
       "      <td>...</td>\n",
       "      <td>...</td>\n",
       "      <td>...</td>\n",
       "      <td>...</td>\n",
       "      <td>...</td>\n",
       "      <td>...</td>\n",
       "      <td>...</td>\n",
       "      <td>...</td>\n",
       "      <td>...</td>\n",
       "      <td>...</td>\n",
       "      <td>...</td>\n",
       "      <td>...</td>\n",
       "      <td>...</td>\n",
       "      <td>...</td>\n",
       "    </tr>\n",
       "    <tr>\n",
       "      <th>69196</th>\n",
       "      <td>Moriyama, Daido</td>\n",
       "      <td>11595</td>\n",
       "      <td>Memory</td>\n",
       "      <td>Photograph, gelatin silver print on paper</td>\n",
       "      <td>Presented by the artist 2013</td>\n",
       "      <td>2012</td>\n",
       "      <td>2013</td>\n",
       "      <td>http://www.tate.org.uk/art/artworks/moriyama-m...</td>\n",
       "      <td>Male</td>\n",
       "      <td>1938.0</td>\n",
       "      <td>0</td>\n",
       "      <td>NaN</td>\n",
       "      <td>NaN</td>\n",
       "      <td>NaN</td>\n",
       "      <td>NaN</td>\n",
       "      <td>NaN</td>\n",
       "      <td>NaN</td>\n",
       "      <td>NaN</td>\n",
       "      <td>NaN</td>\n",
       "    </tr>\n",
       "    <tr>\n",
       "      <th>69197</th>\n",
       "      <td>Moriyama, Daido</td>\n",
       "      <td>11595</td>\n",
       "      <td>Memory</td>\n",
       "      <td>Photograph, gelatin silver print on paper</td>\n",
       "      <td>Presented by the artist 2013</td>\n",
       "      <td>2012</td>\n",
       "      <td>2013</td>\n",
       "      <td>http://www.tate.org.uk/art/artworks/moriyama-m...</td>\n",
       "      <td>Male</td>\n",
       "      <td>1938.0</td>\n",
       "      <td>0</td>\n",
       "      <td>NaN</td>\n",
       "      <td>NaN</td>\n",
       "      <td>NaN</td>\n",
       "      <td>NaN</td>\n",
       "      <td>NaN</td>\n",
       "      <td>NaN</td>\n",
       "      <td>NaN</td>\n",
       "      <td>NaN</td>\n",
       "    </tr>\n",
       "    <tr>\n",
       "      <th>69198</th>\n",
       "      <td>Moriyama, Daido</td>\n",
       "      <td>11595</td>\n",
       "      <td>Memory</td>\n",
       "      <td>Photograph, gelatin silver print on paper</td>\n",
       "      <td>Presented by the artist 2013</td>\n",
       "      <td>2012</td>\n",
       "      <td>2013</td>\n",
       "      <td>http://www.tate.org.uk/art/artworks/moriyama-m...</td>\n",
       "      <td>Male</td>\n",
       "      <td>1938.0</td>\n",
       "      <td>0</td>\n",
       "      <td>NaN</td>\n",
       "      <td>NaN</td>\n",
       "      <td>NaN</td>\n",
       "      <td>NaN</td>\n",
       "      <td>NaN</td>\n",
       "      <td>NaN</td>\n",
       "      <td>NaN</td>\n",
       "      <td>NaN</td>\n",
       "    </tr>\n",
       "    <tr>\n",
       "      <th>69199</th>\n",
       "      <td>Moriyama, Daido</td>\n",
       "      <td>11595</td>\n",
       "      <td>Memory</td>\n",
       "      <td>Photograph, gelatin silver print on paper</td>\n",
       "      <td>Presented by the artist 2013</td>\n",
       "      <td>2012</td>\n",
       "      <td>2013</td>\n",
       "      <td>http://www.tate.org.uk/art/artworks/moriyama-m...</td>\n",
       "      <td>Male</td>\n",
       "      <td>1938.0</td>\n",
       "      <td>0</td>\n",
       "      <td>NaN</td>\n",
       "      <td>NaN</td>\n",
       "      <td>NaN</td>\n",
       "      <td>NaN</td>\n",
       "      <td>NaN</td>\n",
       "      <td>NaN</td>\n",
       "      <td>NaN</td>\n",
       "      <td>NaN</td>\n",
       "    </tr>\n",
       "    <tr>\n",
       "      <th>69200</th>\n",
       "      <td>Moriyama, Daido</td>\n",
       "      <td>11595</td>\n",
       "      <td>Memory</td>\n",
       "      <td>Photograph, gelatin silver print on paper</td>\n",
       "      <td>Presented by the artist 2013</td>\n",
       "      <td>2012</td>\n",
       "      <td>2013</td>\n",
       "      <td>http://www.tate.org.uk/art/artworks/moriyama-m...</td>\n",
       "      <td>Male</td>\n",
       "      <td>1938.0</td>\n",
       "      <td>0</td>\n",
       "      <td>NaN</td>\n",
       "      <td>NaN</td>\n",
       "      <td>NaN</td>\n",
       "      <td>NaN</td>\n",
       "      <td>NaN</td>\n",
       "      <td>NaN</td>\n",
       "      <td>NaN</td>\n",
       "      <td>NaN</td>\n",
       "    </tr>\n",
       "  </tbody>\n",
       "</table>\n",
       "<p>69201 rows × 19 columns</p>\n",
       "</div>"
      ],
      "text/plain": [
       "                  Artist     Id  \\\n",
       "0          Blake, Robert     38   \n",
       "1      Cozens, Alexander    118   \n",
       "2      Cozens, Alexander    118   \n",
       "3      Cozens, Alexander    118   \n",
       "4      Cozens, Alexander    118   \n",
       "...                  ...    ...   \n",
       "69196    Moriyama, Daido  11595   \n",
       "69197    Moriyama, Daido  11595   \n",
       "69198    Moriyama, Daido  11595   \n",
       "69199    Moriyama, Daido  11595   \n",
       "69200    Moriyama, Daido  11595   \n",
       "\n",
       "                                                   Title  \\\n",
       "0      A Figure Bowing before a Seated Old Man with h...   \n",
       "1                           A Landscape with a Waterfall   \n",
       "2                                     A Hilly Coast Line   \n",
       "3                                    Trees under a Cliff   \n",
       "4             A Rocky Coast, to Right, a Felucca to Left   \n",
       "...                                                  ...   \n",
       "69196                                             Memory   \n",
       "69197                                             Memory   \n",
       "69198                                             Memory   \n",
       "69199                                             Memory   \n",
       "69200                                             Memory   \n",
       "\n",
       "                                                  Medium  \\\n",
       "0      Watercolour, ink, chalk and graphite on paper....   \n",
       "1                 Graphite, ink and watercolour on paper   \n",
       "2                                           Ink on paper   \n",
       "3                                           Ink on paper   \n",
       "4                           Watercolour and ink on paper   \n",
       "...                                                  ...   \n",
       "69196          Photograph, gelatin silver print on paper   \n",
       "69197          Photograph, gelatin silver print on paper   \n",
       "69198          Photograph, gelatin silver print on paper   \n",
       "69199          Photograph, gelatin silver print on paper   \n",
       "69200          Photograph, gelatin silver print on paper   \n",
       "\n",
       "                                              CreditLine  Date DateAcquired  \\\n",
       "0                    Presented by Mrs John Richmond 1922     0         1922   \n",
       "1      Purchased as part of the Oppé Collection with ...     0         1997   \n",
       "2      Purchased as part of the Oppé Collection with ...     0         1997   \n",
       "3      Purchased as part of the Oppé Collection with ...     0         1997   \n",
       "4      Purchased as part of the Oppé Collection with ...     0         1997   \n",
       "...                                                  ...   ...          ...   \n",
       "69196                       Presented by the artist 2013  2012         2013   \n",
       "69197                       Presented by the artist 2013  2012         2013   \n",
       "69198                       Presented by the artist 2013  2012         2013   \n",
       "69199                       Presented by the artist 2013  2012         2013   \n",
       "69200                       Presented by the artist 2013  2012         2013   \n",
       "\n",
       "                                                     URL Gender BirthDate  \\\n",
       "0      http://www.tate.org.uk/art/artworks/blake-a-fi...   Male    1762.0   \n",
       "1      http://www.tate.org.uk/art/artworks/cozens-a-l...   Male    1717.0   \n",
       "2      http://www.tate.org.uk/art/artworks/cozens-a-h...   Male    1717.0   \n",
       "3      http://www.tate.org.uk/art/artworks/cozens-tre...   Male    1717.0   \n",
       "4      http://www.tate.org.uk/art/artworks/cozens-a-r...   Male    1717.0   \n",
       "...                                                  ...    ...       ...   \n",
       "69196  http://www.tate.org.uk/art/artworks/moriyama-m...   Male    1938.0   \n",
       "69197  http://www.tate.org.uk/art/artworks/moriyama-m...   Male    1938.0   \n",
       "69198  http://www.tate.org.uk/art/artworks/moriyama-m...   Male    1938.0   \n",
       "69199  http://www.tate.org.uk/art/artworks/moriyama-m...   Male    1938.0   \n",
       "69200  http://www.tate.org.uk/art/artworks/moriyama-m...   Male    1938.0   \n",
       "\n",
       "      DeathDate name gender dates  yearOfBirth  yearOfDeath placeOfBirth  \\\n",
       "0        1787.0  NaN    NaN   NaN          NaN          NaN          NaN   \n",
       "1        1786.0  NaN    NaN   NaN          NaN          NaN          NaN   \n",
       "2        1786.0  NaN    NaN   NaN          NaN          NaN          NaN   \n",
       "3        1786.0  NaN    NaN   NaN          NaN          NaN          NaN   \n",
       "4        1786.0  NaN    NaN   NaN          NaN          NaN          NaN   \n",
       "...         ...  ...    ...   ...          ...          ...          ...   \n",
       "69196         0  NaN    NaN   NaN          NaN          NaN          NaN   \n",
       "69197         0  NaN    NaN   NaN          NaN          NaN          NaN   \n",
       "69198         0  NaN    NaN   NaN          NaN          NaN          NaN   \n",
       "69199         0  NaN    NaN   NaN          NaN          NaN          NaN   \n",
       "69200         0  NaN    NaN   NaN          NaN          NaN          NaN   \n",
       "\n",
       "      placeOfDeath  url  \n",
       "0              NaN  NaN  \n",
       "1              NaN  NaN  \n",
       "2              NaN  NaN  \n",
       "3              NaN  NaN  \n",
       "4              NaN  NaN  \n",
       "...            ...  ...  \n",
       "69196          NaN  NaN  \n",
       "69197          NaN  NaN  \n",
       "69198          NaN  NaN  \n",
       "69199          NaN  NaN  \n",
       "69200          NaN  NaN  \n",
       "\n",
       "[69201 rows x 19 columns]"
      ]
     },
     "metadata": {},
     "output_type": "display_data"
    }
   ],
   "source": [
    "pd.set\n",
    "display(Tate)"
   ]
  },
  {
   "cell_type": "code",
   "execution_count": 24,
   "id": "737201a2",
   "metadata": {},
   "outputs": [
    {
     "data": {
      "text/plain": [
       "Male      2895\n",
       "Female     521\n",
       "Name: gender, dtype: int64"
      ]
     },
     "execution_count": 24,
     "metadata": {},
     "output_type": "execute_result"
    }
   ],
   "source": [
    "TateArtists['gender'].value_counts()"
   ]
  },
  {
   "cell_type": "code",
   "execution_count": 22,
   "id": "11a9867d",
   "metadata": {},
   "outputs": [
    {
     "data": {
      "text/plain": [
       "Male          9715\n",
       "Female        2342\n",
       "male            17\n",
       "Non-Binary       2\n",
       "female           1\n",
       "Non-binary       1\n",
       "Name: Gender, dtype: int64"
      ]
     },
     "execution_count": 22,
     "metadata": {},
     "output_type": "execute_result"
    }
   ],
   "source": [
    "MoMaArtists['Gender'].value_counts()"
   ]
  },
  {
   "cell_type": "markdown",
   "id": "059444fd",
   "metadata": {},
   "source": [
    "### What are the most represented nationalities?"
   ]
  },
  {
   "cell_type": "markdown",
   "id": "a435e232",
   "metadata": {},
   "source": [
    "### MoMa"
   ]
  },
  {
   "cell_type": "code",
   "execution_count": 58,
   "id": "16e83f64",
   "metadata": {},
   "outputs": [
    {
     "data": {
      "text/plain": [
       "American          5181\n",
       "German             965\n",
       "British            860\n",
       "French             847\n",
       "Italian            536\n",
       "                  ... \n",
       "Bahamian             1\n",
       "Bangladeshi          1\n",
       "Coptic               1\n",
       "Sierra Leonean       1\n",
       "Ugandan              1\n",
       "Name: Nationality, Length: 119, dtype: int64"
      ]
     },
     "execution_count": 58,
     "metadata": {},
     "output_type": "execute_result"
    }
   ],
   "source": [
    "MoMaArtists['Nationality'].value_counts()"
   ]
  },
  {
   "cell_type": "markdown",
   "id": "5551facb",
   "metadata": {},
   "source": [
    "### Tate"
   ]
  },
  {
   "cell_type": "code",
   "execution_count": 59,
   "id": "9a320187",
   "metadata": {},
   "outputs": [],
   "source": [
    "def cleanNationalitiesTate(naz): \n",
    "    if ',' in naz: \n",
    "        naz = naz.split(',')[1] \n",
    "    if naz == 'Blackheath': \n",
    "        naz= naz.replace('Blackheath', 'United Kingdom') \n",
    "    if naz == 'London': \n",
    "        naz= naz.replace('London', 'United Kingdom') \n",
    "    if naz == 'Kensington': \n",
    "        naz= naz.replace('Kensington', 'United Kingdom') \n",
    "    if naz == 'Chung-hua Min-kuo': \n",
    "        naz= naz.replace('Chung-hua Min-kuo', 'Taiwan') \n",
    "    if naz == 'Solothurn': \n",
    "        naz= naz.replace('Solothurn', 'Schweiz') \n",
    "    if naz == 'Melmerby': \n",
    "        naz= naz.replace('Melmerby', 'United Kingdom') \n",
    "    if naz == 'Montserrat': \n",
    "        naz= naz.replace('Montserrat', 'España') \n",
    "    if naz == 'Canterbury': \n",
    "        naz= naz.replace('Canterbury', 'United Kingdom') \n",
    "    if naz == 'Staten Island': \n",
    "        naz= naz.replace('Staten Island', 'United States') \n",
    "    if naz == 'Epsom': \n",
    "        naz= naz.replace('Epsom', 'United Kingdom') \n",
    "    if naz == 'Plymouth': \n",
    "        naz= naz.replace('Plymouth', 'United Kingdom') \n",
    "    if naz == 'Wimbledon': \n",
    "        naz= naz.replace('Wimbledon', 'United Kingdom') \n",
    "    if naz == 'Edinburgh': \n",
    "        naz= naz.replace('Edinburgh', 'United Kingdom') \n",
    "    if naz == 'Beckington': \n",
    "        naz= naz.replace('Beckington', 'United Kingdom') \n",
    "    if naz == 'Hertfordshire': \n",
    "        naz= naz.replace('Hertfordshire', 'United Kingdom') \n",
    "    if naz == 'Isle of Man': \n",
    "        naz= naz.replace('Isle of Man', 'United Kingdom') \n",
    "    if naz == 'Bristol': \n",
    "        naz= naz.replace('Bristol', 'United Kingdom') \n",
    "    if naz == 'Liverpool': \n",
    "        naz= naz.replace('Liverpool', 'United Kingdom') \n",
    "    if naz == 'Braintree': \n",
    "        naz= naz.replace('Braintree', 'United Kingdom') \n",
    "    if naz == 'Stoke on Trent': \n",
    "        naz= naz.replace('Stoke on Trent', 'United Kingdom') \n",
    "    if naz == 'Rochdale': \n",
    "        naz= naz.replace('Rochdale', 'United Kingdom') \n",
    "    if 'D.C.' in naz: \n",
    "        naz= naz.replace('D.C.', 'Colombia') \n",
    "    if 'Otok' in naz: \n",
    "        naz= naz.replace('Otok', 'Hrvatska') \n",
    "    if 'Département de la' in naz: \n",
    "        naz= naz.replace('Département de la', 'France') \n",
    "    if naz == 'Niederschlesien': \n",
    "        naz= naz.replace('Niederschlesien', 'Polska') \n",
    "    if naz == 'Perth': \n",
    "        naz= naz.replace('Perth', 'Australia') \n",
    "    if naz == 'Bermondsey': \n",
    "        naz= naz.replace('Bermondsey', 'United Kingdom') \n",
    "    if naz == 'Egremont': \n",
    "        naz= naz.replace('Egremont', 'United Kingdom') \n",
    "    if naz == 'Charlotte Amalie': \n",
    "        naz= naz.replace('Charlotte Amalie', 'United States') \n",
    "    if naz == 'Charlieu': \n",
    "        naz= naz.replace('Charlieu', 'France') \n",
    "    if naz == 'Stockholm': \n",
    "        naz= naz.replace('Stockholm', 'Sverige') \n",
    "    if naz == 'Auteuil': \n",
    "        naz= naz.replace('Auteuil', 'France') \n",
    " \n",
    "    if 'Polska' in naz: \n",
    "        naz = naz.replace('Polska', 'Poland') \n",
    "    if \"Yisra'el\" in naz: \n",
    "        naz = naz.replace(\"Yisra'el\", 'Israel') \n",
    "    if 'Deutschland' in naz: \n",
    "        naz = naz.replace('Deutschland', 'Germany') \n",
    "    if 'Schweiz' in naz: \n",
    "        naz = naz.replace('Schweiz', 'Switzerland') \n",
    "    if 'Suomi' in naz: \n",
    "        naz = naz.replace('Suomi', 'Finland') \n",
    "    if 'Zhonghua' in naz: \n",
    "        naz = naz.replace('Zhonghua', 'China') \n",
    "    if 'Türkiye' in naz: \n",
    "        naz = naz.replace('Türkiye', 'Turkey') \n",
    "    if 'Al-‘Iraq' in naz: \n",
    "        naz = naz.replace('Al-‘Iraq', 'Iraq') \n",
    "    if 'België' in naz: \n",
    "        naz = naz.replace('België', 'Belgium') \n",
    "    if 'Rossiya' in naz: \n",
    "        naz = naz.replace('Rossiya', 'Russia') \n",
    "    if 'Nihon' in naz: \n",
    "        naz = naz.replace('Nihon', 'Japan') \n",
    "    if 'Éire' in naz: \n",
    "        naz = naz.replace('Éire', 'Ireland') \n",
    "    if 'Österreich' in naz: \n",
    "        naz = naz.replace('Österreich', 'Austria') \n",
    "    if 'Saint Hélier' in naz: \n",
    "        naz = naz.replace('Saint Hélier', 'United Kingdom') \n",
    "    if 'Ceská Republik' in naz: \n",
    "        naz = naz.replace('Ceská Republik', 'Czech Republic') \n",
    "    if 'Ukrayina' in naz: \n",
    "        naz = naz.replace('Ukrayina', 'Ukraine') \n",
    "    if 'Ellás' in naz: \n",
    "        naz = naz.replace('Ellás', 'Greece') \n",
    "    if 'Latvija ' in naz: \n",
    "        naz = naz.replace('Latvija ', 'Latvia') \n",
    "    if 'Douglas' in naz: \n",
    "        naz = naz.replace('Douglas', 'United Kingdom') \n",
    "    if 'România' in naz: \n",
    "        naz = naz.replace('România', 'Romania') \n",
    "    if 'Sverige' in naz: \n",
    "        naz = naz.replace('Sverige', 'Sweden') \n",
    "    if 'Bharat' in naz: \n",
    "        naz = naz.replace('Bharat', 'India')     \n",
    "    if 'España' in naz: \n",
    "        naz = naz.replace('España', 'Spain')   \n",
    "    if 'Magyarország' in naz: \n",
    "        naz = naz.replace('Magyarország', 'Hungery')  \n",
    "    if 'Slovenská Republika' in naz: \n",
    "        naz = naz.replace('Slovenská Republika', 'Slovenia')  \n",
    "        \n",
    "    return naz.strip()"
   ]
  },
  {
   "cell_type": "code",
   "execution_count": 60,
   "id": "d1e3f240",
   "metadata": {},
   "outputs": [],
   "source": [
    "TateArtists = TateArtists[TateArtists['placeOfBirth'].notna()] \n",
    "TateArtists[\"placeOfBirth\"] = TateArtists[\"placeOfBirth\"].apply(cleanNationalitiesTate)"
   ]
  },
  {
   "cell_type": "code",
   "execution_count": 61,
   "id": "81d26eef",
   "metadata": {},
   "outputs": [
    {
     "data": {
      "text/plain": [
       "United Kingdom    1522\n",
       "United States      341\n",
       "France             160\n",
       "Germany            142\n",
       "Italia              80\n",
       "                  ... \n",
       "Barbados             1\n",
       "Nicaragua            1\n",
       "Iraq                 1\n",
       "Luxembourg           1\n",
       "Prathet Thai         1\n",
       "Name: placeOfBirth, Length: 98, dtype: int64"
      ]
     },
     "execution_count": 61,
     "metadata": {},
     "output_type": "execute_result"
    }
   ],
   "source": [
    "TateArtists['placeOfBirth'].value_counts()"
   ]
  },
  {
   "cell_type": "markdown",
   "id": "5625d37b",
   "metadata": {},
   "source": [
    "# Acquisition criteria."
   ]
  },
  {
   "cell_type": "markdown",
   "id": "c20702e1",
   "metadata": {},
   "source": [
    "1.  In which years are artists' works mostly acquired?"
   ]
  },
  {
   "cell_type": "markdown",
   "id": "a3abe7b0",
   "metadata": {},
   "source": [
    "## Year by year"
   ]
  },
  {
   "cell_type": "code",
   "execution_count": 62,
   "id": "d626f9a3",
   "metadata": {},
   "outputs": [
    {
     "data": {
      "text/plain": [
       "1964    12828\n",
       "2008     7204\n",
       "1968     6894\n",
       "0        6682\n",
       "2001     4170\n",
       "        ...  \n",
       "1933       93\n",
       "1932       18\n",
       "1929        9\n",
       "1930        7\n",
       "1931        3\n",
       "Name: DateAcquired, Length: 95, dtype: int64"
      ]
     },
     "execution_count": 62,
     "metadata": {},
     "output_type": "execute_result"
    }
   ],
   "source": [
    "MoMa['DateAcquired'].value_counts()"
   ]
  },
  {
   "cell_type": "code",
   "execution_count": 63,
   "id": "639a2c4f",
   "metadata": {},
   "outputs": [
    {
     "data": {
      "text/plain": [
       "<bound method IndexOpsMixin.value_counts of 0        1922\n",
       "1        1922\n",
       "2        1922\n",
       "3        1922\n",
       "4        1919\n",
       "         ... \n",
       "69196    2013\n",
       "69197    2013\n",
       "69198    2013\n",
       "69199    2013\n",
       "69200    2013\n",
       "Name: DateAcquired, Length: 69201, dtype: object>"
      ]
     },
     "execution_count": 63,
     "metadata": {},
     "output_type": "execute_result"
    }
   ],
   "source": [
    "Tate['DateAcquired'].value_counts"
   ]
  },
  {
   "cell_type": "markdown",
   "id": "96d7abcc",
   "metadata": {},
   "source": [
    "Let us analyse acquisitions from a larger perspective: not year by year, but for every ten years."
   ]
  },
  {
   "cell_type": "code",
   "execution_count": 64,
   "id": "3dcf4c53",
   "metadata": {},
   "outputs": [
    {
     "name": "stdout",
     "output_type": "stream",
     "text": [
      "Moma: {'1930s': 3318, '1970s': 13868, '1940s': 8274, '1960s': 31950, '1990s': 13332, '1980s': 11497, '1950s': 6846}\n"
     ]
    }
   ],
   "source": [
    "MoMa.to_csv('MoMa.csv') \n",
    "with open('MoMa.csv', mode='r', encoding='utf-8') as csvfile: \n",
    "    reader = csv.DictReader(csvfile) \n",
    "    years={} \n",
    "    for item in reader: \n",
    "        if item['DateAcquired']not in years: \n",
    "            years[item['DateAcquired']]= 1 \n",
    "        else: \n",
    "            years[item['DateAcquired']]+= 1 \n",
    "new_dict={} \n",
    "for key in years: \n",
    "    key_int=int(key) \n",
    "    if key_int in range(1928,1941): \n",
    "        if '1930s' not in new_dict.keys(): \n",
    "               new_dict['1930s']= years[key] \n",
    "        else: \n",
    "            new_dict['1930s'] += years[key] \n",
    "    if key_int in range(1940,1951): \n",
    "        if '1940s' not in new_dict.keys(): \n",
    "               new_dict['1940s']= years[key] \n",
    "        else: \n",
    "            new_dict['1940s'] += years[key] \n",
    "     \n",
    "    if key_int in range(1950,1961): \n",
    "        if '1950s' not in new_dict.keys(): \n",
    "               new_dict['1950s']= years[key] \n",
    "        else: \n",
    "            new_dict['1950s'] += years[key] \n",
    "     \n",
    "    if key_int in range(1960,1971): \n",
    "        if '1960s' not in new_dict.keys(): \n",
    "               new_dict['1960s']= years[key] \n",
    "        else: \n",
    "            new_dict['1960s'] += years[key] \n",
    "     \n",
    "    if key_int in range(1970,1981): \n",
    "        if '1970s' not in new_dict.keys(): \n",
    "               new_dict['1970s']= years[key] \n",
    "        else: \n",
    "            new_dict['1970s'] += years[key] \n",
    "    if key_int in range(1980,1991): \n",
    "        if '1980s' not in new_dict.keys(): \n",
    "               new_dict['1980s']= years[key] \n",
    "        else: \n",
    "            new_dict['1980s'] += years[key] \n",
    "     \n",
    "    if key_int in range(1990,2001): \n",
    "        if '1990s' not in new_dict.keys(): \n",
    "               new_dict['1990s']= years[key] \n",
    "        else: \n",
    "            new_dict['1990s'] += years[key] \n",
    "    \n",
    "    if key_int in range(2000,2011): \n",
    "        if '2000s' not in new_dict.keys(): \n",
    "               new_dict['2000s']= years[key] \n",
    "        else: \n",
    "            new_dict['2000s'] += years[key] \n",
    "         \n",
    "     \n",
    "print('Moma:', new_dict)"
   ]
  },
  {
   "cell_type": "code",
   "execution_count": 17,
   "id": "694e0fb6",
   "metadata": {},
   "outputs": [
    {
     "name": "stdout",
     "output_type": "stream",
     "text": [
      "Tate: {'1930s': 788, '1940s': 776, '1960s': 1048, '1950s': 633, '1970s': 6853, '2000s': 5345, '1980s': 5538, '1990s': 6693}\n"
     ]
    }
   ],
   "source": [
    "Tate.to_csv('Tate.csv') \n",
    "with open('Tate.csv', mode='r', encoding='utf-8') as csvfile: \n",
    "    reader = csv.DictReader(csvfile) \n",
    "    years={} \n",
    "    for item in reader: \n",
    "        if item['DateAcquired']not in years: \n",
    "            years[item['DateAcquired']]= 1 \n",
    "        else: \n",
    "            years[item['DateAcquired']]+= 1 \n",
    "new_dict={} \n",
    "for key in years: \n",
    "    key_int=int(key) \n",
    "    if key_int in range(1928,1941): \n",
    "        if '1930s' not in new_dict.keys(): \n",
    "               new_dict['1930s']= years[key] \n",
    "        else: \n",
    "            new_dict['1930s'] += years[key] \n",
    "    if key_int in range(1940,1951): \n",
    "        if '1940s' not in new_dict.keys(): \n",
    "               new_dict['1940s']= years[key] \n",
    "        else: \n",
    "            new_dict['1940s'] += years[key] \n",
    "     \n",
    "    if key_int in range(1950,1961): \n",
    "        if '1950s' not in new_dict.keys(): \n",
    "               new_dict['1950s']= years[key] \n",
    "        else: \n",
    "            new_dict['1950s'] += years[key] \n",
    "     \n",
    "    if key_int in range(1960,1971): \n",
    "        if '1960s' not in new_dict.keys(): \n",
    "               new_dict['1960s']= years[key] \n",
    "        else: \n",
    "            new_dict['1960s'] += years[key] \n",
    "     \n",
    "    if key_int in range(1970,1981): \n",
    "        if '1970s' not in new_dict.keys(): \n",
    "               new_dict['1970s']= years[key] \n",
    "        else: \n",
    "            new_dict['1970s'] += years[key] \n",
    "    if key_int in range(1980,1991): \n",
    "        if '1980s' not in new_dict.keys(): \n",
    "               new_dict['1980s']= years[key] \n",
    "        else: \n",
    "            new_dict['1980s'] += years[key] \n",
    "     \n",
    "    if key_int in range(1990,2001): \n",
    "        if '1990s' not in new_dict.keys(): \n",
    "               new_dict['1990s']= years[key] \n",
    "        else: \n",
    "            new_dict['1990s'] += years[key] \n",
    "    \n",
    "    if key_int in range(2000,2011): \n",
    "        if '2000s' not in new_dict.keys(): \n",
    "               new_dict['2000s']= years[key] \n",
    "        else: \n",
    "            new_dict['2000s'] += years[key] \n",
    "         \n",
    "     \n",
    "print('Tate:', new_dict)"
   ]
  },
  {
   "cell_type": "markdown",
   "id": "21012a99",
   "metadata": {},
   "source": [
    "## Gender Gap <br> \n",
    "Does it decrease? \n",
    "When?"
   ]
  },
  {
   "cell_type": "markdown",
   "id": "ffd77772",
   "metadata": {},
   "source": [
    "### MoMa"
   ]
  },
  {
   "cell_type": "markdown",
   "id": "9ba11b60",
   "metadata": {},
   "source": [
    "Number of female and male artists acquired every ten years."
   ]
  },
  {
   "cell_type": "code",
   "execution_count": 66,
   "id": "265cfeb1",
   "metadata": {},
   "outputs": [
    {
     "name": "stdout",
     "output_type": "stream",
     "text": [
      "{'1930s': {'Male': 3082, 'Female': 236}, '1940s': {'Male': 7707, 'Female': 567}, '1950s': {'Male': 6476, 'Female': 370}, '1960s': {'Male': 30701, 'Female': 1249}, '1970s': {'Male': 12245, 'Female': 1623}, '1980s': {'Male': 10230, 'Female': 1267}, '1990s': {'Male': 10522, 'Female': 2810}, '2000s': {'Male': 21850, 'Female': 5011}}\n"
     ]
    }
   ],
   "source": [
    "with open('MoMa.csv', mode='r', encoding='utf-8') as csvfile: \n",
    "    reader = csv.DictReader(csvfile) \n",
    "    gender={'1930s': {'Male': 0, 'Female': 0}, '1940s': {'Male': 0, 'Female': 0}, '1950s': {'Male': 0, 'Female': 0}, '1960s': {'Male': 0, 'Female': 0}, '1970s': {'Male': 0, 'Female': 0}, '1980s': {'Male': 0, 'Female': 0}, '1990s': {'Male': 0, 'Female': 0}, '2000s': {'Male': 0, 'Female': 0}} \n",
    "    for item in reader: \n",
    "        if int(item['DateAcquired']) in range (1928,1941): \n",
    "            if (item['Gender'] == 'Female'):  \n",
    "                gender['1930s']['Female'] += 1 \n",
    "            else: \n",
    "                gender['1930s']['Male'] += 1 \n",
    "        if int(item['DateAcquired']) in range (1940,1951): \n",
    "            if (item['Gender'] == 'Female'):  \n",
    "                gender['1940s']['Female'] += 1 \n",
    "            else: \n",
    "                gender['1940s']['Male'] += 1 \n",
    "        if int(item['DateAcquired']) in range (1950,1961): \n",
    "            if (item['Gender'] == 'Female'):  \n",
    "                gender['1950s']['Female'] += 1 \n",
    "            else: \n",
    "                gender['1950s']['Male'] += 1 \n",
    "        if int(item['DateAcquired']) in range (1960,1971): \n",
    "            if (item['Gender'] == 'Female'):  \n",
    "                gender['1960s']['Female'] += 1 \n",
    "            else: \n",
    "                gender['1960s']['Male'] += 1 \n",
    "        if int(item['DateAcquired']) in range (1970,1981): \n",
    "            if (item['Gender'] == 'Female'):  \n",
    "                gender['1970s']['Female'] += 1 \n",
    "            else: \n",
    "                gender['1970s']['Male'] += 1 \n",
    "        if int(item['DateAcquired']) in range (1980,1991): \n",
    "            if (item['Gender'] == 'Female'):  \n",
    "                gender['1980s']['Female'] += 1 \n",
    "            else: \n",
    "                gender['1980s']['Male'] += 1 \n",
    "        if int(item['DateAcquired']) in range (1990,2001): \n",
    "            if (item['Gender'] == 'Female'):  \n",
    "                gender['1990s']['Female'] += 1 \n",
    "            else: \n",
    "                gender['1990s']['Male'] += 1 \n",
    "        if int(item['DateAcquired']) in range (2000,2011): \n",
    "            if (item['Gender'] == 'Female'):  \n",
    "                gender['2000s']['Female'] += 1 \n",
    "            else: \n",
    "                gender['2000s']['Male'] += 1 \n",
    "    print(gender)"
   ]
  },
  {
   "cell_type": "markdown",
   "id": "705c4f23",
   "metadata": {},
   "source": [
    "Percentage of female-male artists every ten years"
   ]
  },
  {
   "cell_type": "code",
   "execution_count": 67,
   "id": "a3219a6f",
   "metadata": {},
   "outputs": [
    {
     "name": "stdout",
     "output_type": "stream",
     "text": [
      "1930s Male 93 % Female 7 %\n",
      "1940s Male 93 % Female 7 %\n",
      "1950s Male 95 % Female 5 %\n",
      "1960s Male 96 % Female 4 %\n",
      "1970s Male 88 % Female 12 %\n",
      "1980s Male 89 % Female 11 %\n",
      "1990s Male 79 % Female 21 %\n",
      "2000s Male 81 % Female 19 %\n"
     ]
    }
   ],
   "source": [
    "for el in gender: \n",
    "    tot = gender[el]['Male'] + gender[el]['Female'] \n",
    "    percentage = (gender[el]['Male']/tot)*100 \n",
    "    print (el, 'Male', round(percentage),'%', 'Female', round(100-percentage),'%')"
   ]
  },
  {
   "cell_type": "markdown",
   "id": "3c2186da",
   "metadata": {},
   "source": [
    "## Tate"
   ]
  },
  {
   "cell_type": "markdown",
   "id": "3be0f8e8",
   "metadata": {},
   "source": [
    "Number of female and male artists acquired every ten years."
   ]
  },
  {
   "cell_type": "code",
   "execution_count": 68,
   "id": "99e652fc",
   "metadata": {},
   "outputs": [
    {
     "name": "stdout",
     "output_type": "stream",
     "text": [
      "{'1930s': {'Male': 722, 'Female': 66}, '1940s': {'Male': 700, 'Female': 76}, '1950s': {'Male': 598, 'Female': 35}, '1960s': {'Male': 967, 'Female': 81}, '1970s': {'Male': 6398, 'Female': 455}, '1980s': {'Male': 5202, 'Female': 336}, '1990s': {'Male': 6025, 'Female': 668}}\n"
     ]
    }
   ],
   "source": [
    "with open('Tate.csv', mode='r', encoding='utf-8') as csvfile: \n",
    "    reader = csv.DictReader(csvfile) \n",
    "    gender={'1930s': {'Male': 0, 'Female': 0}, '1940s': {'Male': 0, 'Female': 0}, '1950s': {'Male': 0, 'Female': 0}, '1960s': {'Male': 0, 'Female': 0}, '1970s': {'Male': 0, 'Female': 0}, '1980s': {'Male': 0, 'Female': 0}, '1990s': {'Male': 0, 'Female': 0}} \n",
    "    for item in reader: \n",
    "        if int(item['DateAcquired']) in range (1928,1941): \n",
    "            if (item['Gender'] == 'Female'):  \n",
    "                gender['1930s']['Female'] += 1 \n",
    "            else: \n",
    "                gender['1930s']['Male'] += 1 \n",
    "        if int(item['DateAcquired']) in range (1940,1951): \n",
    "            if (item['Gender'] == 'Female'):  \n",
    "                gender['1940s']['Female'] += 1 \n",
    "            else: \n",
    "                gender['1940s']['Male'] += 1 \n",
    "        if int(item['DateAcquired']) in range (1950,1961): \n",
    "            if (item['Gender'] == 'Female'):  \n",
    "                gender['1950s']['Female'] += 1 \n",
    "            else: \n",
    "                gender['1950s']['Male'] += 1 \n",
    "        if int(item['DateAcquired']) in range (1960,1971): \n",
    "            if (item['Gender'] == 'Female'):  \n",
    "                gender['1960s']['Female'] += 1 \n",
    "            else: \n",
    "                gender['1960s']['Male'] += 1 \n",
    "        if int(item['DateAcquired']) in range (1970,1981): \n",
    "            if (item['Gender'] == 'Female'):  \n",
    "                gender['1970s']['Female'] += 1 \n",
    "            else: \n",
    "                gender['1970s']['Male'] += 1 \n",
    "        if int(item['DateAcquired']) in range (1980,1991): \n",
    "            if (item['Gender'] == 'Female'):  \n",
    "                gender['1980s']['Female'] += 1 \n",
    "            else: \n",
    "                gender['1980s']['Male'] += 1 \n",
    "        if int(item['DateAcquired']) in range (1990,2001): \n",
    "            if (item['Gender'] == 'Female'):  \n",
    "                gender['1990s']['Female'] += 1 \n",
    "            else: \n",
    "                gender['1990s']['Male'] += 1 \n",
    "        if int(item['DateAcquired']) in range (2000,2011): \n",
    "            if (item['Gender'] == 'Female'):  \n",
    "                gender['2000s']['Female'] += 1 \n",
    "            else: \n",
    "                gender['2000s']['Male'] += 1 \n",
    "    print(gender)"
   ]
  },
  {
   "cell_type": "markdown",
   "id": "c3d6e590",
   "metadata": {},
   "source": [
    "Percentage of female-male artists every ten years"
   ]
  },
  {
   "cell_type": "code",
   "execution_count": 69,
   "id": "5074bad4",
   "metadata": {},
   "outputs": [
    {
     "name": "stdout",
     "output_type": "stream",
     "text": [
      "1930s Male 92 % Female 8 %\n",
      "1940s Male 90 % Female 10 %\n",
      "1950s Male 94 % Female 6 %\n",
      "1960s Male 92 % Female 8 %\n",
      "1970s Male 93 % Female 7 %\n",
      "1980s Male 94 % Female 6 %\n",
      "1990s Male 90 % Female 10 %\n"
     ]
    }
   ],
   "source": [
    "for el in gender: \n",
    "    tot = gender[el]['Male'] + gender[el]['Female'] \n",
    "    percentage = (gender[el]['Male']/tot)*100 \n",
    "    print (el, 'Male', round(percentage),'%', 'Female', round(100-percentage),'%')"
   ]
  },
  {
   "cell_type": "markdown",
   "id": "952ad657",
   "metadata": {},
   "source": [
    "## Nationalities "
   ]
  },
  {
   "cell_type": "markdown",
   "id": "c0d85013",
   "metadata": {},
   "source": [
    "In which years artists' nationalities more influent on the selection?"
   ]
  },
  {
   "cell_type": "markdown",
   "id": "3d33d24c",
   "metadata": {},
   "source": [
    "## MoMA"
   ]
  },
  {
   "cell_type": "markdown",
   "id": "bfb3f385",
   "metadata": {},
   "source": [
    "For every ten years, we count the nationalities' frequency."
   ]
  },
  {
   "cell_type": "code",
   "execution_count": 70,
   "id": "cf26279e",
   "metadata": {},
   "outputs": [],
   "source": [
    "MoMaArtists.rename(columns = {'ConstituentID':'Id'}, inplace = True)"
   ]
  },
  {
   "cell_type": "code",
   "execution_count": 71,
   "id": "b62d6c29",
   "metadata": {},
   "outputs": [],
   "source": [
    "def cleanDates(date): \n",
    "    if '.' in date: \n",
    "        date = date.split('.')[0] \n",
    "    return date"
   ]
  },
  {
   "cell_type": "code",
   "execution_count": 72,
   "id": "a31d7e3b",
   "metadata": {},
   "outputs": [],
   "source": [
    "MoMaNationalities = pd.merge(MoMaArtists,MoMa[['Id', 'DateAcquired']],on='Id', how='left') \n",
    "MoMaNationalities.fillna(value='0', inplace=True) \n",
    "MoMaNationalities[\"DateAcquired\"] = MoMaNationalities[\"DateAcquired\"].astype(str) \n",
    "MoMaNationalities[\"DateAcquired\"] = MoMaNationalities[\"DateAcquired\"].apply(cleanDates) \n",
    "MoMaNationalities = MoMaNationalities.drop_duplicates(subset='DisplayName', keep=\"first\") \n",
    "MoMaNationalities.to_csv('MoMaNationalities.csv')"
   ]
  },
  {
   "cell_type": "code",
   "execution_count": 73,
   "id": "ec41ea09",
   "metadata": {},
   "outputs": [
    {
     "name": "stdout",
     "output_type": "stream",
     "text": [
      "defaultdict(<class 'dict'>, {'1980s': {'American': 634, 'Danish': 10, 'Estonian': 2, 'Swedish': 12, 'French': 91, 'Finnish': 8, 'Romanian': 2, 'Israeli': 8, 'Dutch': 31, 'Norwegian': 4, 'British': 90, 'Austrian': 24, 'Japanese': 60, 'German': 95, 'Russian': 23, 'Swiss': 44, 'Spanish': 12, 'Italian': 32, 'Congolese': 1, 'Brazilian': 2, 'Hungarian': 7, 'Polish': 17, 'Canadian': 33, 'Icelandic': 1, 'Australian': 6, 'Croatian': 3, 'Slovak': 1, 'Cuban': 4, 'Mexican': 9, 'Greek': 2, 'Chinese': 1, 'Belgian': 8, 'Czech': 10, 'Nationality unknown': 5, 'Venezuelan': 1, 'Portuguese': 1, 'Peruvian': 3, 'Indian': 1, 'Moroccan': 1, '0': 14, 'Latvian': 2, 'Irish': 1, 'Native American': 1, 'Chilean': 1, 'Colombian': 1, 'Puerto Rican': 1}, '1960s': {'Spanish': 21, '0': 14, 'American': 619, 'French': 142, 'Japanese': 63, 'British': 77, 'Finnish': 4, 'Argentine': 38, 'Kuwaiti': 1, 'German': 143, 'Italian': 91, 'Nationality unknown': 36, 'Chilean': 20, 'Swiss': 28, 'Czech': 7, 'Danish': 12, 'Brazilian': 20, 'Canadian': 48, 'Swedish': 23, 'Austrian': 20, 'Israeli': 11, 'Slovenian': 4, 'Portuguese': 1, 'Romanian': 4, 'Colombian': 7, 'Mexican': 16, 'Uruguayan': 4, 'Polish': 25, 'Ukrainian': 1, 'Australian': 6, 'Belgian': 14, 'Peruvian': 11, 'Cuban': 3, 'Dutch': 15, 'Russian': 26, 'Bolivian': 1, 'Greek': 4, 'Panamanian': 2, 'Croatian': 3, 'Turkish': 2, 'Icelandic': 3, 'Indian': 6, 'Ecuadorian': 2, 'Venezuelan': 8, 'Iranian': 4, 'Hungarian': 4, 'Serbian': 3, 'Canadian Inuit': 3, 'Costa Rican': 1, 'Paraguayan': 1, 'Haitian': 1, 'Zimbabwean': 3, 'South African': 1, 'Moroccan': 2, 'Guatemalan': 1, 'Tanzanian': 1, 'Irish': 2, 'Sudanese': 1, 'Taiwanese': 1, 'Ethiopian': 1, 'Korean': 1, 'Chinese': 2}, '1970s': {'American': 558, 'Danish': 8, 'British': 76, 'Polish': 8, 'Italian': 33, 'Romanian': 2, 'Russian': 18, 'Japanese': 52, 'Belgian': 8, 'Dutch': 19, 'Finnish': 2, 'Czech': 7, 'Australian': 10, 'French': 46, 'Ukrainian': 2, 'German': 45, 'Israeli': 11, 'Canadian': 7, 'Brazilian': 4, 'Nationality unknown': 20, 'Irish': 2, 'Chilean': 2, 'Spanish': 13, 'Mexican': 12, 'Colombian': 12, 'Cuban': 2, 'Turkish': 2, 'Greek': 2, 'Austrian': 10, 'Swedish': 2, 'Swiss': 14, 'South African': 1, 'Hungarian': 2, 'Norwegian': 2, 'Korean': 3, 'Slovenian': 3, '0': 3, 'Venezuelan': 9, 'Tunisian': 1, 'Uruguayan': 2, 'Paraguayan': 1}, '1950s': {'American': 364, 'French': 161, 'Swedish': 20, 'Israeli': 4, 'Japanese': 104, 'Guatemalan': 3, 'Italian': 47, 'Finnish': 8, 'German': 92, 'British': 52, '0': 17, 'Austrian': 8, 'Swiss': 39, 'Hungarian': 3, 'Canadian': 11, 'Cuban': 4, 'Dutch': 24, 'Nationality unknown': 55, 'Spanish': 10, 'Brazilian': 14, 'Chilean': 4, 'Polish': 4, 'Belgian': 12, 'Mexican': 6, 'Uruguayan': 1, 'Slovenian': 2, 'Haitian': 1, 'Algerian': 1, 'Venezuelan': 2, 'Danish': 17, 'Canadian Inuit': 2, 'Russian': 3, 'Serbian': 2, 'Korean': 2, 'Czech': 4, 'Nicaraguan': 1, 'Turkish': 1, 'Australian': 2, 'Colombian': 2, 'Norwegian': 5, 'Tanzanian': 1, 'Argentine': 3, 'Irish': 1, 'Peruvian': 1, 'Icelandic': 1}, '1940s': {'Mexican': 31, 'American': 466, 'Palestinian': 1, 'Colombian': 3, 'French': 72, 'Polish': 6, 'British': 58, '0': 22, 'Costa Rican': 1, 'Spanish': 3, 'Chilean': 4, 'Argentine': 17, 'German': 53, 'Italian': 27, 'Swiss': 18, 'Haitian': 10, 'Brazilian': 8, 'Bolivian': 1, 'Swedish': 10, 'Cuban': 10, 'Peruvian': 2, 'Nationality unknown': 19, 'Greek': 2, 'Chinese': 3, 'Australian': 3, 'Dutch': 7, 'Belgian': 7, 'Czech': 4, 'Uruguayan': 2, 'Japanese': 4, 'Ecuadorian': 2, 'Austrian': 7, 'Romanian': 1, 'Finnish': 3, 'Danish': 4, 'Nicaraguan': 1, 'Russian': 9, 'Hungarian': 3, 'Israeli': 1, 'Canadian': 1, 'Native American': 1, 'Yugoslav': 1, 'Scottish': 1}, '1930s': {'Spanish': 19, 'American': 203, 'Palestinian': 1, 'British': 57, 'Chilean': 1, 'German': 19, 'French': 30, 'Dutch': 3, 'Italian': 5, 'Nationality unknown': 5, 'Swiss': 7, '0': 4, 'Japanese': 2, 'Israeli': 1, 'Norwegian': 1, 'Cuban': 1, 'Mexican': 3, 'Brazilian': 1, 'Russian': 4, 'Hungarian': 1, 'Belgian': 1, 'Swedish': 1, 'Bolivian': 1, 'Czechoslovakian': 1}, '1990s': {'Swedish': 4, 'Finnish': 8, 'American': 465, 'Mexican': 7, 'Dutch': 31, 'German': 76, 'Swiss': 34, 'French': 65, 'Spanish': 21, 'Italian': 45, 'British': 64, 'Austrian': 13, 'Russian': 23, 'Japanese': 59, 'Danish': 12, 'Luxembourger': 1, 'Brazilian': 11, 'Polish': 14, 'Portuguese': 2, 'Cuban': 6, 'Israeli': 4, 'Czech': 8, 'Norwegian': 4, 'Azerbaijani': 1, '0': 14, 'Chilean': 7, 'Argentine': 5, 'Canadian': 9, 'Senegalese': 1, 'Indian': 2, 'Nationality unknown': 8, 'Australian': 4, 'Iranian': 2, 'South African': 1, 'Peruvian': 1, 'Romanian': 2, 'Chinese': 6, 'Pakistani': 1, 'Korean': 1, 'Bahamian': 1, 'Belgian': 1, 'Latvian': 1, 'Taiwanese': 1, 'Hungarian': 1, 'Ukrainian': 1, 'Uruguayan': 1, 'Czechoslovakian': 1}})\n"
     ]
    }
   ],
   "source": [
    "from collections import defaultdict  \n",
    " \n",
    "with open('MoMaNationalities.csv', mode='r', encoding='utf-8') as csvfile: \n",
    "    reader = csv.DictReader(csvfile) \n",
    "    nationalities = defaultdict(dict) \n",
    "    for item in reader: \n",
    "        if int(item['DateAcquired']) in range (1928,1941): \n",
    "            if item['Nationality'] not in nationalities['1930s']: \n",
    "                nationalities['1930s'][item['Nationality']] = 1 \n",
    "            else: \n",
    "                nationalities['1930s'][item['Nationality']] += 1 \n",
    "        if int(item['DateAcquired']) in range (1940,1951): \n",
    "            if item['Nationality'] not in nationalities['1940s']: \n",
    "                nationalities['1940s'][item['Nationality']] = 1 \n",
    "            else: \n",
    "                nationalities['1940s'][item['Nationality']] += 1 \n",
    "        if int(item['DateAcquired']) in range (1950,1961): \n",
    "            if item['Nationality'] not in nationalities['1950s']: \n",
    "                nationalities['1950s'][item['Nationality']] = 1 \n",
    "            else: \n",
    "                nationalities['1950s'][item['Nationality']] += 1 \n",
    "        if int(item['DateAcquired']) in range (1960,1971): \n",
    "            if item['Nationality'] not in nationalities['1960s']: \n",
    "                nationalities['1960s'][item['Nationality']] = 1 \n",
    "            else: \n",
    "                nationalities['1960s'][item['Nationality']] += 1 \n",
    "        if int(item['DateAcquired']) in range (1970,1981): \n",
    "            if item['Nationality'] not in nationalities['1970s']: \n",
    "                nationalities['1970s'][item['Nationality']] = 1 \n",
    "            else: \n",
    "                nationalities['1970s'][item['Nationality']] += 1 \n",
    "        if int(item['DateAcquired']) in range (1980,1991): \n",
    "            if item['Nationality'] not in nationalities['1980s']: \n",
    "                nationalities['1980s'][item['Nationality']] = 1 \n",
    "            else: \n",
    "                nationalities['1980s'][item['Nationality']] += 1 \n",
    "        if int(item['DateAcquired']) in range (1990,2001): \n",
    "            if item['Nationality'] not in nationalities['1990s']: \n",
    "                nationalities['1990s'][item['Nationality']] = 1 \n",
    "            else: \n",
    "                nationalities['1990s'][item['Nationality']] += 1 \n",
    "        if int(item['DateAcquired']) in range (2000,2011): \n",
    "            if item['Nationality'] not in nationalities['2000s']: \n",
    "                nationalities['2000s'][item['Nationality']] = 1 \n",
    "            else: \n",
    "                nationalities['2000s'][item['Nationality']] += 1 \n",
    "         \n",
    "                 \n",
    " \n",
    "print(nationalities)"
   ]
  },
  {
   "cell_type": "code",
   "execution_count": 27,
   "id": "7f6bdc9d",
   "metadata": {},
   "outputs": [
    {
     "data": {
      "text/html": [
       "<div>\n",
       "<style scoped>\n",
       "    .dataframe tbody tr th:only-of-type {\n",
       "        vertical-align: middle;\n",
       "    }\n",
       "\n",
       "    .dataframe tbody tr th {\n",
       "        vertical-align: top;\n",
       "    }\n",
       "\n",
       "    .dataframe thead th {\n",
       "        text-align: right;\n",
       "    }\n",
       "</style>\n",
       "<table border=\"1\" class=\"dataframe\">\n",
       "  <thead>\n",
       "    <tr style=\"text-align: right;\">\n",
       "      <th></th>\n",
       "      <th>Id</th>\n",
       "      <th>name</th>\n",
       "      <th>gender</th>\n",
       "      <th>placeOfBirth</th>\n",
       "    </tr>\n",
       "  </thead>\n",
       "  <tbody>\n",
       "    <tr>\n",
       "      <th>0</th>\n",
       "      <td>10093</td>\n",
       "      <td>Abakanowicz, Magdalena</td>\n",
       "      <td>Female</td>\n",
       "      <td>Polska</td>\n",
       "    </tr>\n",
       "    <tr>\n",
       "      <th>1</th>\n",
       "      <td>0</td>\n",
       "      <td>Abbey, Edwin Austin</td>\n",
       "      <td>Male</td>\n",
       "      <td>Philadelphia, United States</td>\n",
       "    </tr>\n",
       "    <tr>\n",
       "      <th>2</th>\n",
       "      <td>2756</td>\n",
       "      <td>Abbott, Berenice</td>\n",
       "      <td>Female</td>\n",
       "      <td>Springfield, United States</td>\n",
       "    </tr>\n",
       "    <tr>\n",
       "      <th>3</th>\n",
       "      <td>1</td>\n",
       "      <td>Abbott, Lemuel Francis</td>\n",
       "      <td>Male</td>\n",
       "      <td>Leicestershire, United Kingdom</td>\n",
       "    </tr>\n",
       "    <tr>\n",
       "      <th>4</th>\n",
       "      <td>622</td>\n",
       "      <td>Abrahams, Ivor</td>\n",
       "      <td>Male</td>\n",
       "      <td>Wigan, United Kingdom</td>\n",
       "    </tr>\n",
       "    <tr>\n",
       "      <th>...</th>\n",
       "      <td>...</td>\n",
       "      <td>...</td>\n",
       "      <td>...</td>\n",
       "      <td>...</td>\n",
       "    </tr>\n",
       "    <tr>\n",
       "      <th>3527</th>\n",
       "      <td>12542</td>\n",
       "      <td>Zorio, Gilberto</td>\n",
       "      <td>Male</td>\n",
       "      <td>Andorno Micca, Italia</td>\n",
       "    </tr>\n",
       "    <tr>\n",
       "      <th>3528</th>\n",
       "      <td>2186</td>\n",
       "      <td>Zox, Larry</td>\n",
       "      <td>Male</td>\n",
       "      <td>Des Moines, United States</td>\n",
       "    </tr>\n",
       "    <tr>\n",
       "      <th>3529</th>\n",
       "      <td>621</td>\n",
       "      <td>Zuccarelli, Francesco</td>\n",
       "      <td>Male</td>\n",
       "      <td>Italia</td>\n",
       "    </tr>\n",
       "    <tr>\n",
       "      <th>3530</th>\n",
       "      <td>2187</td>\n",
       "      <td>Zuloaga, Ignacio</td>\n",
       "      <td>Male</td>\n",
       "      <td>España</td>\n",
       "    </tr>\n",
       "    <tr>\n",
       "      <th>3531</th>\n",
       "      <td>2188</td>\n",
       "      <td>Zyw, Aleksander</td>\n",
       "      <td>Male</td>\n",
       "      <td>Polska</td>\n",
       "    </tr>\n",
       "  </tbody>\n",
       "</table>\n",
       "<p>3532 rows × 4 columns</p>\n",
       "</div>"
      ],
      "text/plain": [
       "         Id                    name  gender                    placeOfBirth\n",
       "0     10093  Abakanowicz, Magdalena  Female                          Polska\n",
       "1         0     Abbey, Edwin Austin    Male     Philadelphia, United States\n",
       "2      2756        Abbott, Berenice  Female      Springfield, United States\n",
       "3         1  Abbott, Lemuel Francis    Male  Leicestershire, United Kingdom\n",
       "4       622          Abrahams, Ivor    Male           Wigan, United Kingdom\n",
       "...     ...                     ...     ...                             ...\n",
       "3527  12542         Zorio, Gilberto    Male           Andorno Micca, Italia\n",
       "3528   2186              Zox, Larry    Male       Des Moines, United States\n",
       "3529    621   Zuccarelli, Francesco    Male                          Italia\n",
       "3530   2187        Zuloaga, Ignacio    Male                          España\n",
       "3531   2188         Zyw, Aleksander    Male                          Polska\n",
       "\n",
       "[3532 rows x 4 columns]"
      ]
     },
     "metadata": {},
     "output_type": "display_data"
    }
   ],
   "source": [
    "display(Tate_artists)"
   ]
  },
  {
   "cell_type": "code",
   "execution_count": 22,
   "id": "559ee264",
   "metadata": {},
   "outputs": [],
   "source": [
    "TateNationalities = pd.merge(Tate_artists,Tate[['Id', 'DateAcquired']], on = 'Id', how = 'left')\n",
    "#TateNationalities = TateNationalities[TateNationalities['placeOfBirth'].notna()]\n",
    "TateNationalities = TateNationalities.drop_duplicates(subset='name', keep = \"first\")\n",
    "#TateNationalities[\"placeOfBirth\"] = TateNationalities[\"placeOfBirth\"].apply(cleanNationalitiesTate)\n",
    "TateNationalities.fillna(value='0', inplace=True)\n",
    "TateNationalities[\"DateAcquired\"] = TateNationalities[\"DateAcquired\"].astype(str)\n",
    "#TateNationalities[\"DateAcquired\"] = TateNationalities[\"DateAcquired\"].apply(cleanDates)\n",
    "TateNationalities.rename(columns = {'placeOfBirth':'Nationality'}, inplace = True)\n",
    "TateNationalities.to_csv(\"TateNationalities.csv\")"
   ]
  },
  {
   "cell_type": "code",
   "execution_count": 23,
   "id": "1254ba42",
   "metadata": {},
   "outputs": [
    {
     "name": "stdout",
     "output_type": "stream",
     "text": [
      "defaultdict(<class 'dict'>, {'2000s': {'Poland': 9, 'United States': 99, 'Germany': 39, 'Finland': 1, 'China': 10, 'Iraq': 1, 'Russia': 2, 'United Kingdom': 150, 'Belgium': 5, 'México': 7, 'Perú': 3, 'Ukraine': 3, 'Îran': 5, 'Italia': 12, 'Venezuela': 4, 'Turkey': 2, '0': 29, 'France': 14, 'Israel': 5, 'Brasil': 17, 'Jugoslavija': 2, 'Uganda': 1, 'Norge': 1, 'Nederland': 4, 'South Africa': 6, 'Romania': 2, 'Argentina': 8, 'Cuba': 4, 'Canada': 9, 'Ireland': 4, 'Greece': 2, 'Colombia': 5, 'Latvija': 1, 'Sweden': 1, 'Chile': 2, 'Czech Republica': 4, 'Danmark': 5, 'Spain': 5, 'Austria': 4, 'Switzerland': 6, 'Pakistan': 1, 'Mehoz': 2, 'India': 3, 'Japan': 10, 'Bahamas': 1, 'Hungery': 3, 'Bangladesh': 1, 'Hrvatska': 2, 'Slovenia': 2, \"Taehan Min'guk\": 1, 'Zimbabwe': 1, 'Sri Lanka': 1, 'New Zealand': 4, 'Luxembourg': 1, 'Ísland': 1, 'Pilipinas': 1, 'Lietuva': 2, 'Australia': 2, 'Al-Lubnan': 3, 'Kenya': 1, \"Al-Jaza'ir\": 1, 'Lao': 1, 'Malta': 1, 'Panamá': 1, 'Misr': 1, 'Portugal': 3, 'Shqipëria': 1, 'Nicaragua': 1, 'Mauritius': 1, 'Bulgaria': 1, 'Indonesia': 1, 'Zambia': 1}, '1970s': {'United Kingdom': 243, 'Switzerland': 4, 'Germany': 22, 'United States': 70, 'Belgium': 11, 'Italia': 11, 'Spain': 5, 'Nederland': 7, '0': 90, 'Canada': 16, 'France': 11, 'Austria': 6, 'South Africa': 4, 'New Zealand': 3, 'Australia': 9, 'Ireland': 5, 'India': 3, 'Venezuela': 1, 'Ukraine': 3, 'Hungery': 5, 'Greece': 1, 'Eesti': 1, 'Russia': 4, 'Romania': 3, 'Slovenia': 1, 'Belarus': 2, 'Armenia': 1, 'Poland': 6, 'Colombia': 2, 'Norge': 1, 'Czech Republica': 3, 'Myanmar': 1, 'Israel': 1, 'Brasil': 1, 'China': 4, 'Singapore': 1, 'Taiwan': 1, 'Chile': 1, 'Japan': 2, 'Sweden': 3, 'Sri Lanka': 1, 'México': 1, 'Misr': 2, 'Viet Nam': 1, 'Samoa': 1}, '1990s': {'Israel': 6, 'United Kingdom': 185, '0': 128, 'France': 16, 'Pakistan': 2, 'Poland': 5, 'United States': 22, 'Germany': 26, 'Italia': 8, 'Barbados': 1, 'Ireland': 7, 'Hungery': 1, 'Sweden': 2, 'Nederland': 3, 'Belgium': 4, 'South Africa': 1, 'Mehoz': 1, 'Al-Lubnan': 1, 'Tanzania': 1, 'Îran': 1, 'Austria': 2, 'Danmark': 1, 'Switzerland': 1, 'India': 1, \"Taehan Min'guk\": 1, 'Ísland': 1, 'Canada': 3, 'Japan': 4, 'Australia': 2, 'Jamaica': 1, 'Spain': 2, 'Brasil': 1, 'China': 1, 'Greece': 1, 'Guyana': 1}, '1980s': {'United States': 46, 'United Kingdom': 126, '0': 46, 'Japan': 1, 'Romania': 3, 'France': 20, 'Italia': 14, 'Germany': 23, 'Bosna i Hercegovina': 2, 'Slovenija': 6, 'Pakistan': 1, 'India': 3, 'Guyana': 1, 'Ireland': 6, 'Austria': 5, 'Switzerland': 8, 'Bulgaria': 1, 'Ukraine': 3, 'Nederland': 4, 'Jamaica': 1, 'Poland': 7, 'Canada': 2, 'Indonesia': 1, 'Belgium': 1, 'Danmark': 1, 'Czech Republica': 2, 'Russia': 2, 'Argentina': 1, 'Sweden': 2, 'Hungery': 2, 'Hrvatska': 2, 'Spain': 2, 'Jugoslavija': 1, 'China': 1, 'Misr': 1}, '1960s': {'United Kingdom': 84, 'Argentina': 1, 'Italia': 12, 'Malaysia': 1, 'Switzerland': 1, 'France': 17, 'Russia': 6, 'Ukraine': 4, 'Poland': 5, '0': 17, 'Germany': 14, 'Sweden': 2, 'Ireland': 3, 'United States': 33, 'South Africa': 4, 'Czech Republica': 3, 'Belgium': 7, 'Brasil': 1, 'Spain': 10, 'India': 3, 'Canada': 2, 'Pakistan': 2, 'Makedonija': 1, 'Romania': 3, 'Nederland': 3, 'Austria': 2, 'Tunis': 1, 'Australia': 1, 'New Zealand': 1, 'Hungery': 1, 'Hrvatska': 1, 'Venezuela': 1, 'Greece': 2, 'Japan': 1}, '1930s': {'United Kingdom': 151, 'Viet Nam': 1, 'Nederland': 4, 'France': 24, 'Russia': 7, '0': 8, 'United States': 4, 'Italia': 4, 'Australia': 2, 'Poland': 3, 'Ireland': 1, 'Spain': 2, 'Belgium': 2, 'Austria': 2, 'India': 4, 'Hrvatska': 2, 'New Zealand': 1, 'Romania': 1, 'Canada': 1, 'Germany': 2, 'Norge': 1, 'Misr': 1, 'Schlesien': 1, 'South Africa': 1}, '1950s': {'Poland': 5, 'Italia': 15, 'Switzerland': 4, 'United Kingdom': 60, 'Ukraine': 4, 'Germany': 9, \"Al-Jaza'ir\": 1, 'Ireland': 5, 'France': 15, '0': 11, 'Russia': 7, 'Schlesien': 1, 'Romania': 2, 'United States': 8, 'Greece': 3, 'Spain': 2, 'Australia': 2, 'Belgium': 3, 'Pakistan': 1, 'Argentina': 1, 'Austria': 3, 'Czech Republica': 1, 'Cuba': 1, 'Moldova': 1, 'Lietuva': 2, 'Sweden': 1, 'Canada': 1, 'México': 1, 'Latvija': 1, 'Belarus': 1, 'Portugal': 1, 'China': 1}, '1940s': {'United Kingdom': 76, 'Viet Nam': 1, 'Ireland': 3, 'France': 8, 'South Africa': 1, 'Nederland': 2, 'Portugal': 1, 'Belarus': 1, 'Austria': 3, 'India': 2, 'Germany': 3, 'Italia': 6, 'Spain': 2, '0': 4, 'China': 1, 'New Zealand': 1, 'United States': 3, 'Switzerland': 1, 'Latvija': 1, 'Poland': 1}})\n"
     ]
    }
   ],
   "source": [
    "from collections import defaultdict \n",
    "\n",
    "with open('TateNationalities.csv', mode='r', encoding='utf-8') as csvfile:\n",
    "    reader = csv.DictReader(csvfile)\n",
    "    nationalities = defaultdict(dict)\n",
    "    for item in reader:\n",
    "        if int(item['DateAcquired']) in range (1928,1941):\n",
    "            if item['Nationality'] not in nationalities['1930s']:\n",
    "                nationalities['1930s'][item['Nationality']] = 1\n",
    "            else:\n",
    "                nationalities['1930s'][item['Nationality']] += 1\n",
    "        if int(item['DateAcquired']) in range (1940,1951):\n",
    "            if item['Nationality'] not in nationalities['1940s']:\n",
    "                nationalities['1940s'][item['Nationality']] = 1\n",
    "            else:\n",
    "                nationalities['1940s'][item['Nationality']] += 1\n",
    "        if int(item['DateAcquired']) in range (1950,1961):\n",
    "            if item['Nationality'] not in nationalities['1950s']:\n",
    "                nationalities['1950s'][item['Nationality']] = 1\n",
    "            else:\n",
    "                nationalities['1950s'][item['Nationality']] += 1\n",
    "        if int(item['DateAcquired']) in range (1960,1971):\n",
    "            if item['Nationality'] not in nationalities['1960s']:\n",
    "                nationalities['1960s'][item['Nationality']] = 1\n",
    "            else:\n",
    "                nationalities['1960s'][item['Nationality']] += 1\n",
    "        if int(item['DateAcquired']) in range (1970,1981):\n",
    "            if item['Nationality'] not in nationalities['1970s']:\n",
    "                nationalities['1970s'][item['Nationality']] = 1\n",
    "            else:\n",
    "                nationalities['1970s'][item['Nationality']] += 1\n",
    "        if int(item['DateAcquired']) in range (1980,1991):\n",
    "            if item['Nationality'] not in nationalities['1980s']:\n",
    "                nationalities['1980s'][item['Nationality']] = 1\n",
    "            else:\n",
    "                nationalities['1980s'][item['Nationality']] += 1\n",
    "        if int(item['DateAcquired']) in range (1990,2001):\n",
    "            if item['Nationality'] not in nationalities['1990s']:\n",
    "                nationalities['1990s'][item['Nationality']] = 1\n",
    "            else:\n",
    "                nationalities['1990s'][item['Nationality']] += 1\n",
    "        if int(item['DateAcquired']) in range (2000,2011): \n",
    "            if item['Nationality'] not in nationalities['2000s']: \n",
    "                nationalities['2000s'][item['Nationality']] = 1 \n",
    "            else: \n",
    "                nationalities['2000s'][item['Nationality']] += 1 \n",
    "        \n",
    "                \n",
    "\n",
    "print(nationalities)"
   ]
  },
  {
   "cell_type": "code",
   "execution_count": null,
   "id": "ac1ca74f",
   "metadata": {},
   "outputs": [],
   "source": []
  },
  {
   "cell_type": "code",
   "execution_count": null,
   "id": "e6a2921a",
   "metadata": {},
   "outputs": [],
   "source": []
  }
 ],
 "metadata": {
  "kernelspec": {
   "display_name": "Python 3 (ipykernel)",
   "language": "python",
   "name": "python3"
  },
  "language_info": {
   "codemirror_mode": {
    "name": "ipython",
    "version": 3
   },
   "file_extension": ".py",
   "mimetype": "text/x-python",
   "name": "python",
   "nbconvert_exporter": "python",
   "pygments_lexer": "ipython3",
   "version": "3.9.0"
  }
 },
 "nbformat": 4,
 "nbformat_minor": 5
}
