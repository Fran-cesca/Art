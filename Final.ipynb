{
 "cells": [
  {
   "cell_type": "markdown",
   "id": "53a29a49",
   "metadata": {},
   "source": [
    "# TITOLO<br>\n",
    "This notebook was created for the exam of **Digital Pubishing and Electronic Storytelling**, taught by **Professor Marilena Daquino** at the **University of Bologna** during academic year **2021/2022**.\n",
    "<br>\n",
    "It presents the project NOME developed by [Francesca Borriello](https://github.com/Fran-cesca), [Lorenza Pierucci](https://github.com/LorenzaPierucci), [Laura Travaglini](https://github.com/lauratravaglini)."
   ]
  },
  {
   "cell_type": "markdown",
   "id": "14791dfb",
   "metadata": {},
   "source": [
    "# 1. Creating our dataframes.<br>\n",
    "Museums: evolving creatures feeding up on the artworks that will ultimately define what they look like, what they are. <br>\n",
    "Collage: an assemblage of different forms creating a new whole, a mixture of heterogeneous elements, forms only apparently unrelated, no casual aggregation. A heap of broken images.<br>\n",
    "\n",
    "MoMA and Tate: with 1,160,686 and 1,156,037 visitors per year in 2021 (despite dramatic attendance drops due to the pandemic) are universally known and recognised as two of the most influential museums worldwide.<br>\n",
    "\n",
    "The first, founded in NY in 1929, is often identified as one of the largest and most influential museums of modern art in the world. It plays a major role in developing and collecting modern art. It includes works of architecture and design, drawing, painting, sculpture, photography, prints, illustrated books and artist's books, film, and electronic media\n",
    "<br>\n",
    "\n",
    "The second,  La Tate Modern è il museo d'arte moderna più visitato al mondo e si stima che ogni anno attiri oltre 5 milioni e mezzo di visitatori. (?)<br> \n",
    "\n",
    "Both \n",
    "that is only apparently casual\n",
    "We worked with two museums (MoMa and Tate) making available datasets (csv format) containing informstion about their artworks, artists, acquisitions throughout time.<br>\n",
    "After importing all the necessary libraries, we gather existing data from the into a `Pandas Dataframe` for easier data manipulation and table operations. <br>\n",
    "In particular, data are \n",
    "\n"
   ]
  },
  {
   "cell_type": "markdown",
   "id": "60ce4e6d",
   "metadata": {},
   "source": [
    "# Import"
   ]
  },
  {
   "cell_type": "code",
   "execution_count": 1,
   "id": "3260a852",
   "metadata": {},
   "outputs": [],
   "source": [
    "import pandas as pd\n",
    "import csv\n",
    "import re\n",
    "from collections import defaultdict\n",
    "from rdflib import Namespace , Literal , URIRef\n",
    "from rdflib.namespace import RDF , RDFS\n",
    "import ssl\n",
    "from qwikidata.sparql import return_sparql_query_results # python library for working with sparql and linked data from WikiData"
   ]
  },
  {
   "cell_type": "markdown",
   "id": "52c20f9f",
   "metadata": {},
   "source": [
    "# MoMa"
   ]
  },
  {
   "cell_type": "code",
   "execution_count": 2,
   "id": "54f227cf",
   "metadata": {},
   "outputs": [],
   "source": [
    "spreadsheet = pd.read_csv('https://media.githubusercontent.com/media/MuseumofModernArt/collection/master/Artworks.csv')\n",
    "pd.set_option('display.max_columns', None)\n",
    "MoMaArtworks = spreadsheet[['Title', 'Artist', 'ConstituentID', 'Nationality', 'BeginDate', 'EndDate','Date', 'Department', 'DateAcquired']]\n",
    "MoMaArtists = pd.read_csv('https://media.githubusercontent.com/media/MuseumofModernArt/collection/master/Artists.csv')\n",
    "MoMaArtists[\"ConstituentID\"] = MoMaArtists[\"ConstituentID\"].astype(str)\n",
    "MoMa = pd.merge(MoMaArtworks,MoMaArtists[['ConstituentID', 'Wiki QID']],on='ConstituentID', how='left')\n",
    "MoMa.rename(columns = {'ConstituentID':'Id', 'BeginDate':'BirthDate', 'EndDate':'DeathDate'}, inplace = True)"
   ]
  },
  {
   "cell_type": "markdown",
   "id": "fee4916c",
   "metadata": {},
   "source": [
    "# Tate"
   ]
  },
  {
   "cell_type": "code",
   "execution_count": 3,
   "id": "12df2891",
   "metadata": {},
   "outputs": [
    {
     "name": "stderr",
     "output_type": "stream",
     "text": [
      "C:\\Users\\Francesca\\AppData\\Roaming\\Python\\Python39\\site-packages\\IPython\\core\\interactiveshell.py:3172: DtypeWarning: Columns (9,13) have mixed types.Specify dtype option on import or set low_memory=False.\n",
      "  has_raised = await self.run_ast_nodes(code_ast.body, cell_name,\n",
      "C:\\Users\\Francesca\\AppData\\Roaming\\Python\\Python39\\site-packages\\pandas\\core\\frame.py:4438: SettingWithCopyWarning: \n",
      "A value is trying to be set on a copy of a slice from a DataFrame\n",
      "\n",
      "See the caveats in the documentation: https://pandas.pydata.org/pandas-docs/stable/user_guide/indexing.html#returning-a-view-versus-a-copy\n",
      "  return super().rename(\n",
      "C:\\Users\\Francesca\\AppData\\Roaming\\Python\\Python39\\site-packages\\pandas\\core\\generic.py:5489: SettingWithCopyWarning: \n",
      "A value is trying to be set on a copy of a slice from a DataFrame.\n",
      "Try using .loc[row_indexer,col_indexer] = value instead\n",
      "\n",
      "See the caveats in the documentation: https://pandas.pydata.org/pandas-docs/stable/user_guide/indexing.html#returning-a-view-versus-a-copy\n",
      "  self[name] = value\n"
     ]
    }
   ],
   "source": [
    "spreadsheet = pd.read_csv('https://raw.githubusercontent.com/tategallery/collection/master/artwork_data.csv')\n",
    "pd.set_option('display.max_columns', None)\n",
    "TateArtworks = spreadsheet[['artist', 'artistId', 'title', 'medium', 'creditLine', 'year', 'acquisitionYear', 'url']]\n",
    "TateArtworks.rename(columns = {'artistId':'id'}, inplace = True)\n",
    "TateArtworks.id = TateArtworks.id.astype(str)\n",
    "TateArtists = pd.read_csv('https://raw.githubusercontent.com/tategallery/collection/master/artist_data.csv')\n",
    "TateArtists[\"id\"] = TateArtists[\"id\"].astype(str)\n",
    "Tate = pd.merge(TateArtworks,TateArtists[['id', 'gender', 'yearOfBirth', 'yearOfDeath']], on='id', how='left')\n",
    "Tate.rename(columns = {'artist':'Artist', 'id':'Id', 'title':'Title', 'yearOfBirth':'BirthDate', 'yearOfDeath':'DeathDate', 'medium':'Medium', 'creditLine':'CreditLine', 'year':'Date', 'acquisitionYear':'DateAcquired', 'url':'URL', 'gender':'Gender'}, inplace = True)"
   ]
  },
  {
   "cell_type": "markdown",
   "id": "96aa7146",
   "metadata": {},
   "source": [
    "# Data Cleaning"
   ]
  },
  {
   "cell_type": "markdown",
   "id": "b39a1a22",
   "metadata": {},
   "source": [
    "## MoMa"
   ]
  },
  {
   "cell_type": "markdown",
   "id": "c3e3299f",
   "metadata": {},
   "source": [
    "Substitute NaN values with zeros"
   ]
  },
  {
   "cell_type": "code",
   "execution_count": 4,
   "id": "cd22d5d9",
   "metadata": {},
   "outputs": [],
   "source": [
    "MoMa.fillna(value='0', inplace=True)"
   ]
  },
  {
   "cell_type": "markdown",
   "id": "c65de8a6",
   "metadata": {},
   "source": [
    "Clean MoMa Acquisition Dates: they are on the form YYYY-MM-DD. We just want the YYYY as an int."
   ]
  },
  {
   "cell_type": "code",
   "execution_count": 5,
   "id": "f2268d25",
   "metadata": {},
   "outputs": [],
   "source": [
    "def cleanAcquisitionDatesMoMa(date):\n",
    "    if '-' in date:\n",
    "        date = date.split('-')[0]\n",
    "    return date"
   ]
  },
  {
   "cell_type": "code",
   "execution_count": 6,
   "id": "8833b363",
   "metadata": {},
   "outputs": [],
   "source": [
    "MoMa[\"DateAcquired\"] = MoMa[\"DateAcquired\"].apply(cleanAcquisitionDatesMoMa)"
   ]
  },
  {
   "cell_type": "markdown",
   "id": "548c1884",
   "metadata": {},
   "source": [
    "Clean MoMa Artworks' Dates. <br>\n",
    "Indeed, they are in some unclear forms, such as:<br>\n",
    "(1950).  (Prints executed 1948<br>\n",
    "(1883, published 1897)<br>\n",
    "(1911, dated 1912, published c. 1917)<br>\n",
    "(April 9 and August 31, 1971)<br>\n",
    "(April 23) 1968<br>\n",
    "(journals published October 2003 through June 2004)<br>\n",
    "\n",
    "We just need the year."
   ]
  },
  {
   "cell_type": "code",
   "execution_count": 7,
   "id": "82f5c645",
   "metadata": {},
   "outputs": [],
   "source": [
    "def cleanDatesMoMa(date):\n",
    "    if '-' in date:\n",
    "        splitted = date.split('-')\n",
    "        date = ' '.join(splitted) \n",
    "    if '/' in date:\n",
    "        splitted = date.split('/')\n",
    "        date = ' '.join(splitted) \n",
    "    if ',' in date:\n",
    "        splitted = date.split(',')\n",
    "        date = ' '.join(splitted) \n",
    "    if '.' in date:\n",
    "        splitted = date.split('.')\n",
    "        date = ' '.join(splitted) \n",
    "        \n",
    "    x = re.search(\"\\d{4}\", date)\n",
    "    if x:\n",
    "        date = x.group()\n",
    "    else:\n",
    "        date = '0'\n",
    "    return date"
   ]
  },
  {
   "cell_type": "code",
   "execution_count": 8,
   "id": "c86f36e2",
   "metadata": {},
   "outputs": [],
   "source": [
    "MoMa[\"Date\"] = MoMa[\"Date\"].astype(str)\n",
    "MoMa[\"Date\"] = MoMa[\"Date\"].apply(cleanDatesMoMa)"
   ]
  },
  {
   "cell_type": "markdown",
   "id": "4d2cd651",
   "metadata": {},
   "source": [
    "## Tate"
   ]
  },
  {
   "cell_type": "markdown",
   "id": "583d9d02",
   "metadata": {},
   "source": [
    "Substitute NaN values and strings with zeros"
   ]
  },
  {
   "cell_type": "code",
   "execution_count": 15,
   "id": "bc9b14f0",
   "metadata": {},
   "outputs": [],
   "source": [
    "Tate.fillna(value='0', inplace=True)\n",
    "Tate['Date'].replace(to_replace='no date', value='0', inplace= True)"
   ]
  },
  {
   "cell_type": "code",
   "execution_count": 16,
   "id": "c776b1b6",
   "metadata": {},
   "outputs": [],
   "source": [
    "Tate['Date'].replace(to_replace='c', value='0', inplace= True)"
   ]
  },
  {
   "cell_type": "markdown",
   "id": "cd4d3f8d",
   "metadata": {},
   "source": [
    "Clean Tate Acquisition and Artworks' Dates: they are on the form YYYY.0. We want an integer."
   ]
  },
  {
   "cell_type": "code",
   "execution_count": 17,
   "id": "d36274ca",
   "metadata": {},
   "outputs": [],
   "source": [
    "def cleanDatesTate(date):\n",
    "    if '.' in date:\n",
    "        date = date.split('.')[0] \n",
    "    return date"
   ]
  },
  {
   "cell_type": "code",
   "execution_count": 18,
   "id": "695370e5",
   "metadata": {},
   "outputs": [],
   "source": [
    "Tate[\"Date\"] = Tate[\"Date\"].astype(str)\n",
    "Tate[\"Date\"] = Tate[\"Date\"].apply(cleanDatesTate)\n",
    "\n",
    "Tate[\"DateAcquired\"] = Tate[\"DateAcquired\"].astype(str)\n",
    "Tate[\"DateAcquired\"] = Tate[\"DateAcquired\"].apply(cleanDatesTate)"
   ]
  },
  {
   "cell_type": "markdown",
   "id": "424e4796",
   "metadata": {},
   "source": [
    "# Exploration"
   ]
  },
  {
   "cell_type": "markdown",
   "id": "95cfe32c",
   "metadata": {},
   "source": [
    "## How many artworks?"
   ]
  },
  {
   "cell_type": "code",
   "execution_count": 19,
   "id": "1e765f0e",
   "metadata": {},
   "outputs": [
    {
     "name": "stdout",
     "output_type": "stream",
     "text": [
      "Total artworks at Moma : 140848\n",
      "Total artworks at Tate : 69201\n"
     ]
    }
   ],
   "source": [
    "museums=[MoMa, Tate]\n",
    "names = ['Moma','Tate']\n",
    "for museum in museums:\n",
    "    selected_rows = museum[~museum['Title'].isnull()]\n",
    "    name = names.pop(0)\n",
    "    print(\"Total artworks at\", name, \":\", len(selected_rows.index))"
   ]
  },
  {
   "cell_type": "markdown",
   "id": "2d459902",
   "metadata": {},
   "source": [
    "## Which kind of artworks?"
   ]
  },
  {
   "cell_type": "code",
   "execution_count": 20,
   "id": "74256c95",
   "metadata": {},
   "outputs": [
    {
     "name": "stdout",
     "output_type": "stream",
     "text": [
      "defaultdict(<class 'dict'>, {'Fluxus Collection': 1938, 'Drawings & Prints': 77791, 'Painting & Sculpture': 3981, 'Architecture & Design': 20237, 'Photography': 32991, 'Film': 874, 'Media and Performance': 3006, 'Architecture & Design - Image Archive': 30})\n"
     ]
    }
   ],
   "source": [
    "MoMa.to_csv('MoMa.csv')\n",
    "from collections import defaultdict \n",
    "\n",
    "with open('MoMa.csv', mode='r', encoding='utf-8') as csvfile:\n",
    "    reader = csv.DictReader(csvfile)\n",
    "    artworksType = defaultdict(dict)\n",
    "    for item in reader:\n",
    "        if item['Department'] not in artworksType:\n",
    "            artworksType[item['Department']] = 1\n",
    "        else:\n",
    "            artworksType[item['Department']] += 1\n",
    "    print(artworksType)"
   ]
  },
  {
   "cell_type": "markdown",
   "id": "4b41fb02",
   "metadata": {},
   "source": [
    "## When do artworks date back?"
   ]
  },
  {
   "cell_type": "code",
   "execution_count": 14,
   "id": "6d9d6823",
   "metadata": {},
   "outputs": [
    {
     "name": "stdout",
     "output_type": "stream",
     "text": [
      "Most ancient artwork at Moma dates back to 1768\n",
      "Most recent artwork at Moma dates back to 2022\n"
     ]
    },
    {
     "ename": "ValueError",
     "evalue": "invalid literal for int() with base 10: 'c'",
     "output_type": "error",
     "traceback": [
      "\u001b[1;31m---------------------------------------------------------------------------\u001b[0m",
      "\u001b[1;31mValueError\u001b[0m                                Traceback (most recent call last)",
      "\u001b[1;32mC:\\Users\\FRANCE~1\\AppData\\Local\\Temp/ipykernel_2380/2266915561.py\u001b[0m in \u001b[0;36m<module>\u001b[1;34m\u001b[0m\n\u001b[0;32m      2\u001b[0m \u001b[0mnames\u001b[0m \u001b[1;33m=\u001b[0m \u001b[1;33m[\u001b[0m\u001b[1;34m'Moma'\u001b[0m\u001b[1;33m,\u001b[0m\u001b[1;34m'Tate'\u001b[0m\u001b[1;33m]\u001b[0m\u001b[1;33m\u001b[0m\u001b[1;33m\u001b[0m\u001b[0m\n\u001b[0;32m      3\u001b[0m \u001b[1;32mfor\u001b[0m \u001b[0mmuseum\u001b[0m \u001b[1;32min\u001b[0m \u001b[0mmuseums\u001b[0m\u001b[1;33m:\u001b[0m\u001b[1;33m\u001b[0m\u001b[1;33m\u001b[0m\u001b[0m\n\u001b[1;32m----> 4\u001b[1;33m     \u001b[0mmuseum\u001b[0m\u001b[1;33m[\u001b[0m\u001b[1;34m\"Date\"\u001b[0m\u001b[1;33m]\u001b[0m \u001b[1;33m=\u001b[0m \u001b[0mmuseum\u001b[0m\u001b[1;33m[\u001b[0m\u001b[1;34m\"Date\"\u001b[0m\u001b[1;33m]\u001b[0m\u001b[1;33m.\u001b[0m\u001b[0mastype\u001b[0m\u001b[1;33m(\u001b[0m\u001b[0mint\u001b[0m\u001b[1;33m)\u001b[0m\u001b[1;33m\u001b[0m\u001b[1;33m\u001b[0m\u001b[0m\n\u001b[0m\u001b[0;32m      5\u001b[0m     \u001b[0mmuseum\u001b[0m\u001b[1;33m.\u001b[0m\u001b[0msort_values\u001b[0m\u001b[1;33m(\u001b[0m\u001b[0mby\u001b[0m\u001b[1;33m=\u001b[0m\u001b[1;33m[\u001b[0m\u001b[1;34m'Date'\u001b[0m\u001b[1;33m]\u001b[0m\u001b[1;33m,\u001b[0m \u001b[0minplace\u001b[0m\u001b[1;33m=\u001b[0m\u001b[1;32mTrue\u001b[0m\u001b[1;33m)\u001b[0m\u001b[1;33m\u001b[0m\u001b[1;33m\u001b[0m\u001b[0m\n\u001b[0;32m      6\u001b[0m     \u001b[0mmuseumWithoutZeros\u001b[0m \u001b[1;33m=\u001b[0m \u001b[0mmuseum\u001b[0m\u001b[1;33m[\u001b[0m\u001b[0mmuseum\u001b[0m\u001b[1;33m[\u001b[0m\u001b[1;34m'Date'\u001b[0m\u001b[1;33m]\u001b[0m \u001b[1;33m!=\u001b[0m \u001b[1;36m0\u001b[0m\u001b[1;33m]\u001b[0m\u001b[1;33m\u001b[0m\u001b[1;33m\u001b[0m\u001b[0m\n",
      "\u001b[1;32m~\\AppData\\Roaming\\Python\\Python39\\site-packages\\pandas\\core\\generic.py\u001b[0m in \u001b[0;36mastype\u001b[1;34m(self, dtype, copy, errors)\u001b[0m\n\u001b[0;32m   5870\u001b[0m         \u001b[1;32melse\u001b[0m\u001b[1;33m:\u001b[0m\u001b[1;33m\u001b[0m\u001b[1;33m\u001b[0m\u001b[0m\n\u001b[0;32m   5871\u001b[0m             \u001b[1;31m# else, only a single dtype is given\u001b[0m\u001b[1;33m\u001b[0m\u001b[1;33m\u001b[0m\u001b[1;33m\u001b[0m\u001b[0m\n\u001b[1;32m-> 5872\u001b[1;33m             \u001b[0mnew_data\u001b[0m \u001b[1;33m=\u001b[0m \u001b[0mself\u001b[0m\u001b[1;33m.\u001b[0m\u001b[0m_mgr\u001b[0m\u001b[1;33m.\u001b[0m\u001b[0mastype\u001b[0m\u001b[1;33m(\u001b[0m\u001b[0mdtype\u001b[0m\u001b[1;33m=\u001b[0m\u001b[0mdtype\u001b[0m\u001b[1;33m,\u001b[0m \u001b[0mcopy\u001b[0m\u001b[1;33m=\u001b[0m\u001b[0mcopy\u001b[0m\u001b[1;33m,\u001b[0m \u001b[0merrors\u001b[0m\u001b[1;33m=\u001b[0m\u001b[0merrors\u001b[0m\u001b[1;33m)\u001b[0m\u001b[1;33m\u001b[0m\u001b[1;33m\u001b[0m\u001b[0m\n\u001b[0m\u001b[0;32m   5873\u001b[0m             \u001b[1;32mreturn\u001b[0m \u001b[0mself\u001b[0m\u001b[1;33m.\u001b[0m\u001b[0m_constructor\u001b[0m\u001b[1;33m(\u001b[0m\u001b[0mnew_data\u001b[0m\u001b[1;33m)\u001b[0m\u001b[1;33m.\u001b[0m\u001b[0m__finalize__\u001b[0m\u001b[1;33m(\u001b[0m\u001b[0mself\u001b[0m\u001b[1;33m,\u001b[0m \u001b[0mmethod\u001b[0m\u001b[1;33m=\u001b[0m\u001b[1;34m\"astype\"\u001b[0m\u001b[1;33m)\u001b[0m\u001b[1;33m\u001b[0m\u001b[1;33m\u001b[0m\u001b[0m\n\u001b[0;32m   5874\u001b[0m \u001b[1;33m\u001b[0m\u001b[0m\n",
      "\u001b[1;32m~\\AppData\\Roaming\\Python\\Python39\\site-packages\\pandas\\core\\internals\\managers.py\u001b[0m in \u001b[0;36mastype\u001b[1;34m(self, dtype, copy, errors)\u001b[0m\n\u001b[0;32m    629\u001b[0m         \u001b[0mself\u001b[0m\u001b[1;33m,\u001b[0m \u001b[0mdtype\u001b[0m\u001b[1;33m,\u001b[0m \u001b[0mcopy\u001b[0m\u001b[1;33m:\u001b[0m \u001b[0mbool\u001b[0m \u001b[1;33m=\u001b[0m \u001b[1;32mFalse\u001b[0m\u001b[1;33m,\u001b[0m \u001b[0merrors\u001b[0m\u001b[1;33m:\u001b[0m \u001b[0mstr\u001b[0m \u001b[1;33m=\u001b[0m \u001b[1;34m\"raise\"\u001b[0m\u001b[1;33m\u001b[0m\u001b[1;33m\u001b[0m\u001b[0m\n\u001b[0;32m    630\u001b[0m     ) -> \"BlockManager\":\n\u001b[1;32m--> 631\u001b[1;33m         \u001b[1;32mreturn\u001b[0m \u001b[0mself\u001b[0m\u001b[1;33m.\u001b[0m\u001b[0mapply\u001b[0m\u001b[1;33m(\u001b[0m\u001b[1;34m\"astype\"\u001b[0m\u001b[1;33m,\u001b[0m \u001b[0mdtype\u001b[0m\u001b[1;33m=\u001b[0m\u001b[0mdtype\u001b[0m\u001b[1;33m,\u001b[0m \u001b[0mcopy\u001b[0m\u001b[1;33m=\u001b[0m\u001b[0mcopy\u001b[0m\u001b[1;33m,\u001b[0m \u001b[0merrors\u001b[0m\u001b[1;33m=\u001b[0m\u001b[0merrors\u001b[0m\u001b[1;33m)\u001b[0m\u001b[1;33m\u001b[0m\u001b[1;33m\u001b[0m\u001b[0m\n\u001b[0m\u001b[0;32m    632\u001b[0m \u001b[1;33m\u001b[0m\u001b[0m\n\u001b[0;32m    633\u001b[0m     def convert(\n",
      "\u001b[1;32m~\\AppData\\Roaming\\Python\\Python39\\site-packages\\pandas\\core\\internals\\managers.py\u001b[0m in \u001b[0;36mapply\u001b[1;34m(self, f, align_keys, ignore_failures, **kwargs)\u001b[0m\n\u001b[0;32m    425\u001b[0m                     \u001b[0mapplied\u001b[0m \u001b[1;33m=\u001b[0m \u001b[0mb\u001b[0m\u001b[1;33m.\u001b[0m\u001b[0mapply\u001b[0m\u001b[1;33m(\u001b[0m\u001b[0mf\u001b[0m\u001b[1;33m,\u001b[0m \u001b[1;33m**\u001b[0m\u001b[0mkwargs\u001b[0m\u001b[1;33m)\u001b[0m\u001b[1;33m\u001b[0m\u001b[1;33m\u001b[0m\u001b[0m\n\u001b[0;32m    426\u001b[0m                 \u001b[1;32melse\u001b[0m\u001b[1;33m:\u001b[0m\u001b[1;33m\u001b[0m\u001b[1;33m\u001b[0m\u001b[0m\n\u001b[1;32m--> 427\u001b[1;33m                     \u001b[0mapplied\u001b[0m \u001b[1;33m=\u001b[0m \u001b[0mgetattr\u001b[0m\u001b[1;33m(\u001b[0m\u001b[0mb\u001b[0m\u001b[1;33m,\u001b[0m \u001b[0mf\u001b[0m\u001b[1;33m)\u001b[0m\u001b[1;33m(\u001b[0m\u001b[1;33m**\u001b[0m\u001b[0mkwargs\u001b[0m\u001b[1;33m)\u001b[0m\u001b[1;33m\u001b[0m\u001b[1;33m\u001b[0m\u001b[0m\n\u001b[0m\u001b[0;32m    428\u001b[0m             \u001b[1;32mexcept\u001b[0m \u001b[1;33m(\u001b[0m\u001b[0mTypeError\u001b[0m\u001b[1;33m,\u001b[0m \u001b[0mNotImplementedError\u001b[0m\u001b[1;33m)\u001b[0m\u001b[1;33m:\u001b[0m\u001b[1;33m\u001b[0m\u001b[1;33m\u001b[0m\u001b[0m\n\u001b[0;32m    429\u001b[0m                 \u001b[1;32mif\u001b[0m \u001b[1;32mnot\u001b[0m \u001b[0mignore_failures\u001b[0m\u001b[1;33m:\u001b[0m\u001b[1;33m\u001b[0m\u001b[1;33m\u001b[0m\u001b[0m\n",
      "\u001b[1;32m~\\AppData\\Roaming\\Python\\Python39\\site-packages\\pandas\\core\\internals\\blocks.py\u001b[0m in \u001b[0;36mastype\u001b[1;34m(self, dtype, copy, errors)\u001b[0m\n\u001b[0;32m    671\u001b[0m             \u001b[0mvals1d\u001b[0m \u001b[1;33m=\u001b[0m \u001b[0mvalues\u001b[0m\u001b[1;33m.\u001b[0m\u001b[0mravel\u001b[0m\u001b[1;33m(\u001b[0m\u001b[1;33m)\u001b[0m\u001b[1;33m\u001b[0m\u001b[1;33m\u001b[0m\u001b[0m\n\u001b[0;32m    672\u001b[0m             \u001b[1;32mtry\u001b[0m\u001b[1;33m:\u001b[0m\u001b[1;33m\u001b[0m\u001b[1;33m\u001b[0m\u001b[0m\n\u001b[1;32m--> 673\u001b[1;33m                 \u001b[0mvalues\u001b[0m \u001b[1;33m=\u001b[0m \u001b[0mastype_nansafe\u001b[0m\u001b[1;33m(\u001b[0m\u001b[0mvals1d\u001b[0m\u001b[1;33m,\u001b[0m \u001b[0mdtype\u001b[0m\u001b[1;33m,\u001b[0m \u001b[0mcopy\u001b[0m\u001b[1;33m=\u001b[0m\u001b[1;32mTrue\u001b[0m\u001b[1;33m)\u001b[0m\u001b[1;33m\u001b[0m\u001b[1;33m\u001b[0m\u001b[0m\n\u001b[0m\u001b[0;32m    674\u001b[0m             \u001b[1;32mexcept\u001b[0m \u001b[1;33m(\u001b[0m\u001b[0mValueError\u001b[0m\u001b[1;33m,\u001b[0m \u001b[0mTypeError\u001b[0m\u001b[1;33m)\u001b[0m\u001b[1;33m:\u001b[0m\u001b[1;33m\u001b[0m\u001b[1;33m\u001b[0m\u001b[0m\n\u001b[0;32m    675\u001b[0m                 \u001b[1;31m# e.g. astype_nansafe can fail on object-dtype of strings\u001b[0m\u001b[1;33m\u001b[0m\u001b[1;33m\u001b[0m\u001b[1;33m\u001b[0m\u001b[0m\n",
      "\u001b[1;32m~\\AppData\\Roaming\\Python\\Python39\\site-packages\\pandas\\core\\dtypes\\cast.py\u001b[0m in \u001b[0;36mastype_nansafe\u001b[1;34m(arr, dtype, copy, skipna)\u001b[0m\n\u001b[0;32m   1072\u001b[0m         \u001b[1;31m# work around NumPy brokenness, #1987\u001b[0m\u001b[1;33m\u001b[0m\u001b[1;33m\u001b[0m\u001b[1;33m\u001b[0m\u001b[0m\n\u001b[0;32m   1073\u001b[0m         \u001b[1;32mif\u001b[0m \u001b[0mnp\u001b[0m\u001b[1;33m.\u001b[0m\u001b[0missubdtype\u001b[0m\u001b[1;33m(\u001b[0m\u001b[0mdtype\u001b[0m\u001b[1;33m.\u001b[0m\u001b[0mtype\u001b[0m\u001b[1;33m,\u001b[0m \u001b[0mnp\u001b[0m\u001b[1;33m.\u001b[0m\u001b[0minteger\u001b[0m\u001b[1;33m)\u001b[0m\u001b[1;33m:\u001b[0m\u001b[1;33m\u001b[0m\u001b[1;33m\u001b[0m\u001b[0m\n\u001b[1;32m-> 1074\u001b[1;33m             \u001b[1;32mreturn\u001b[0m \u001b[0mlib\u001b[0m\u001b[1;33m.\u001b[0m\u001b[0mastype_intsafe\u001b[0m\u001b[1;33m(\u001b[0m\u001b[0marr\u001b[0m\u001b[1;33m.\u001b[0m\u001b[0mravel\u001b[0m\u001b[1;33m(\u001b[0m\u001b[1;33m)\u001b[0m\u001b[1;33m,\u001b[0m \u001b[0mdtype\u001b[0m\u001b[1;33m)\u001b[0m\u001b[1;33m.\u001b[0m\u001b[0mreshape\u001b[0m\u001b[1;33m(\u001b[0m\u001b[0marr\u001b[0m\u001b[1;33m.\u001b[0m\u001b[0mshape\u001b[0m\u001b[1;33m)\u001b[0m\u001b[1;33m\u001b[0m\u001b[1;33m\u001b[0m\u001b[0m\n\u001b[0m\u001b[0;32m   1075\u001b[0m \u001b[1;33m\u001b[0m\u001b[0m\n\u001b[0;32m   1076\u001b[0m         \u001b[1;31m# if we have a datetime/timedelta array of objects\u001b[0m\u001b[1;33m\u001b[0m\u001b[1;33m\u001b[0m\u001b[1;33m\u001b[0m\u001b[0m\n",
      "\u001b[1;32mpandas\\_libs\\lib.pyx\u001b[0m in \u001b[0;36mpandas._libs.lib.astype_intsafe\u001b[1;34m()\u001b[0m\n",
      "\u001b[1;31mValueError\u001b[0m: invalid literal for int() with base 10: 'c'"
     ]
    }
   ],
   "source": [
    "museums=[MoMa, Tate]\n",
    "names = ['Moma','Tate']\n",
    "for museum in museums:\n",
    "    museum[\"Date\"] = museum[\"Date\"].astype(int)\n",
    "    museum.sort_values(by=['Date'], inplace=True)\n",
    "    museumWithoutZeros = museum[museum['Date'] != 0]\n",
    "    firstDate = museumWithoutZeros['Date'].iat[0]\n",
    "    lastDate = museumWithoutZeros['Date'].iat[-1]\n",
    "    name = names.pop(0)\n",
    "    print(\"Most ancient artwork at\", name, \"dates back to\",firstDate )\n",
    "    print(\"Most recent artwork at\", name, \"dates back to\",lastDate )    "
   ]
  },
  {
   "cell_type": "markdown",
   "id": "515d3965",
   "metadata": {},
   "source": [
    "## When do artworks date back?"
   ]
  },
  {
   "cell_type": "code",
   "execution_count": null,
   "id": "d9ec499b",
   "metadata": {},
   "outputs": [],
   "source": [
    "museums=[MoMa, Tate]\n",
    "names = ['Moma','Tate']\n",
    "for museum in museums:\n",
    "    museum[\"Date\"] = museum[\"Date\"].astype(int)\n",
    "    museum.sort_values(by=['Date'], inplace=True)\n",
    "    museumWithoutZeros = museum[museum['Date'] != 0]\n",
    "    firstDate = museumWithoutZeros['Date'].iat[0]\n",
    "    lastDate = museumWithoutZeros['Date'].iat[-1]\n",
    "    name = names.pop(0)\n",
    "    print(\"Most ancient artwork at\", name, \"dates back to\",firstDate )\n",
    "    print(\"Most recent artwork at\", name, \"dates back to\",lastDate )    "
   ]
  },
  {
   "cell_type": "markdown",
   "id": "ed72b5fd",
   "metadata": {},
   "source": [
    "## Artists"
   ]
  },
  {
   "cell_type": "code",
   "execution_count": null,
   "id": "572ffb06",
   "metadata": {},
   "outputs": [],
   "source": [
    "For examining artist-related issues, we will rely on the specific csvs from the museums, whoch we already transformed into dataframes."
   ]
  },
  {
   "cell_type": "markdown",
   "id": "e343eee8",
   "metadata": {},
   "source": [
    "### How many artists?"
   ]
  },
  {
   "cell_type": "code",
   "execution_count": null,
   "id": "a5df735a",
   "metadata": {},
   "outputs": [],
   "source": [
    "print('Total number of artists at MoMa', len(MoMaArtists))"
   ]
  },
  {
   "cell_type": "code",
   "execution_count": null,
   "id": "4d8d0ff4",
   "metadata": {},
   "outputs": [],
   "source": [
    "print('Total number of artists at Tate', len(TateArtists))"
   ]
  },
  {
   "cell_type": "markdown",
   "id": "dfe6535c",
   "metadata": {},
   "source": [
    "### What is the most represented gender?"
   ]
  },
  {
   "cell_type": "code",
   "execution_count": null,
   "id": "737201a2",
   "metadata": {},
   "outputs": [],
   "source": [
    "TateArtists['gender'].value_counts()"
   ]
  },
  {
   "cell_type": "code",
   "execution_count": null,
   "id": "11a9867d",
   "metadata": {},
   "outputs": [],
   "source": [
    "MoMaArtists['Gender'].value_counts()"
   ]
  },
  {
   "cell_type": "markdown",
   "id": "059444fd",
   "metadata": {},
   "source": [
    "### What are the most represented nationalities?"
   ]
  },
  {
   "cell_type": "markdown",
   "id": "5551facb",
   "metadata": {},
   "source": [
    "### Tate"
   ]
  },
  {
   "cell_type": "markdown",
   "id": "1f61180e",
   "metadata": {},
   "source": [
    "Since artists' names are in the form 'Surname, Name', we use a function to normalise that as 'Name Surname'."
   ]
  },
  {
   "cell_type": "code",
   "execution_count": null,
   "id": "fafdc8f3",
   "metadata": {},
   "outputs": [],
   "source": [
    "TateIntegration = TateArtists[TateArtists['gender'].isna()]\n",
    "TateIntegration = TateIntegration[TateIntegration['name'] != 'Anonymous']\n",
    "TateIntegration = TateIntegration[TateIntegration['name'] != 'Art & Language (Michael Baldwin, born 1945; Mel Ramsden, born 1944)']\n",
    "TateIntegration = TateIntegration[TateIntegration['name'] != 'Art & Language (Terry Atkinson, born 1939; David Bainbridge, born 1941; Michael Baldwin, born 1945; Harold Hurrell, born']\n",
    "TateIntegration = TateIntegration[TateIntegration['name'] != 'Art & Language (Terry Atkinson, born 1939; Michael Baldwin, born 1945)']\n",
    "TateIntegration = TateIntegration[TateIntegration['name'] != 'Atlas Group']\n",
    "TateIntegration = TateIntegration[TateIntegration['name'] != 'Becher, Prof. Bernd']\n",
    "TateIntegration = TateIntegration[TateIntegration['name'] != 'Black Audio Film Collective (John Akomfrah; Reece Auguis; Edward George; Lina Gopaul; Avril Johnson; David Lawson; Trevo']\n",
    "TateIntegration = TateIntegration[TateIntegration['name'] != 'Booth, L']\n",
    "TateIntegration = TateIntegration[TateIntegration['name'] != 'Boyd and Evans, Fionnuala and Leslie']\n",
    "TateIntegration = TateIntegration[TateIntegration['name'] != 'British (?) School']\n",
    "TateIntegration = TateIntegration[TateIntegration['name'] != 'British (?) School 19th century']\n",
    "TateIntegration = TateIntegration[TateIntegration['name'] != 'British School 17th century']\n",
    "TateIntegration = TateIntegration[TateIntegration['name'] != 'British School 16th century']\n",
    "TateIntegration = TateIntegration[TateIntegration['name'] != 'British School 17th or 18th century']\n",
    "TateIntegration = TateIntegration[TateIntegration['name'] != 'British School 18th century']\n",
    "TateIntegration = TateIntegration[TateIntegration['name'] != 'British School 19th century']\n",
    "TateIntegration = TateIntegration[TateIntegration['name'] != 'British School 20th century']\n",
    "TateIntegration = TateIntegration[TateIntegration['name'] != 'Chinese School 18th century']\n",
    "TateIntegration = TateIntegration[TateIntegration['name'] != 'French School 18th century']\n",
    "TateIntegration = TateIntegration[TateIntegration['name'] != 'French School 19th century']\n",
    "TateIntegration = TateIntegration[TateIntegration['name'] != 'Gent, G.W.']\n",
    "TateIntegration = TateIntegration[TateIntegration['name'] != 'Glik, M.']\n",
    "TateIntegration = TateIntegration[TateIntegration['name'] != 'International Local (Sarah Charlesworth; Joseph Kosuth; Anthony McCall)']\n",
    "TateIntegration = TateIntegration[TateIntegration['name'] != 'Italian or German (?) School 17th century']\n",
    "TateIntegration = TateIntegration[TateIntegration['name'] != 'Langlands and Bell, Ben and Nikki']\n",
    "TateIntegration = TateIntegration[TateIntegration['name'] != 'Italian or German (?) School 17th century']\n",
    "TateIntegration = TateIntegration[TateIntegration['name'] != 'Langlands and Bell, Ben and Nikki']\n",
    "TateIntegration = TateIntegration[TateIntegration['name'] != 'Lucy and Eegyudluk']\n",
    "TateIntegration = TateIntegration[TateIntegration['name'] != 'M/M (Paris, France)']\n",
    "TateIntegration = TateIntegration[TateIntegration['name'] != 'Moore, T.']\n",
    "TateIntegration = TateIntegration[TateIntegration['name'] != 'Skeaf, D.']\n",
    "TateIntegration = TateIntegration[TateIntegration['name'] != 'T R Uthco (Doug Hall born 1944, Diane Andrews Hall born 1945, Jody Procter 1944-1998)']\n",
    "TateIntegration = TateIntegration[TateIntegration['name'] != 'Art & Language (Ian Burn, 1939-1993; Mel Ramsden, born 1944)']\n",
    "TateIntegration = TateIntegration[TateIntegration['name'] != 'Thomson, W.']\n",
    "TateIntegration = TateIntegration[TateIntegration['name'] != 'Turton, M.']\n",
    "TateIntegration = TateIntegration[TateIntegration['name'] != 'Unknown']\n",
    "TateIntegration = TateIntegration[TateIntegration['name'] != 'Young-Hae Chang Heavy Industries (Young-Hae Chang, Marc Voge)']"
   ]
  },
  {
   "cell_type": "code",
   "execution_count": null,
   "id": "91e03af4",
   "metadata": {},
   "outputs": [],
   "source": [
    "def cleanArtistsNames(name):\n",
    "    if ',' in name:\n",
    "        name= name.split(',')\n",
    "        name[0], name[1] = name[1], name[0]\n",
    "        name = ' '.join(name)\n",
    "    return name.strip()"
   ]
  },
  {
   "cell_type": "code",
   "execution_count": null,
   "id": "a9601557",
   "metadata": {},
   "outputs": [],
   "source": [
    "TateIntegration[\"name\"] = TateIntegration[\"name\"].apply(cleanArtistsNames)"
   ]
  },
  {
   "cell_type": "code",
   "execution_count": null,
   "id": "56b6c7f4",
   "metadata": {},
   "outputs": [],
   "source": [
    "artists_genders_from_ids = \"\"\"\n",
    "PREFIX rdfs: <http://www.w3.org/2000/01/rdf-schema#>\n",
    "SELECT DISTINCT ?artist\n",
    "WHERE {{\n",
    "    ?artist wdt:P31 wd:Q5 . \n",
    "    ?artist wdt:P106 ?occupation\n",
    "                  FILTER (?occupation IN (wd:Q10774753) ) \n",
    "    ?artist rdfs:label ?o\n",
    "    FILTER regex(?o, \\\"^{}$\\\" )\n",
    "            FILTER (langMatches(lang(?o), \"EN\")).\n",
    "}}\n",
    "\n",
    "\"\"\""
   ]
  },
  {
   "cell_type": "code",
   "execution_count": null,
   "id": "f3e8a6d4",
   "metadata": {},
   "outputs": [],
   "source": [
    "def find_artists_genders_from_ids(name):\n",
    "    query = artists_genders_from_ids.format(name.strip())\n",
    "    res = return_sparql_query_results(query_string=query)\n",
    "    print(query)\n",
    "    try:\n",
    "        wdt_uri = res['results']['bindings'][0]['artist']['value']\n",
    "    except (IndexError, KeyError):\n",
    "        return \"\"\n",
    "    return wdt_uri.split(\"/\")[-1]"
   ]
  },
  {
   "cell_type": "code",
   "execution_count": null,
   "id": "25205e39",
   "metadata": {},
   "outputs": [],
   "source": [
    "TateIntegration[\"Artist Entity\"] = TateIntegration[\"name\"].apply(find_artists_genders_from_ids)"
   ]
  },
  {
   "cell_type": "code",
   "execution_count": null,
   "id": "3f8a5176",
   "metadata": {},
   "outputs": [],
   "source": [
    "pd.set_option('display.max_rows', None)\n",
    "display(TateIntegration)"
   ]
  },
  {
   "cell_type": "code",
   "execution_count": null,
   "id": "f9e0f770",
   "metadata": {},
   "outputs": [],
   "source": [
    "new = TateIntegration.copy(deep=True)\n",
    "new['Artist Entity'].replace(to_replace='', value='0', inplace= True)\n",
    "\n",
    "newLo =  new[new['Artist Entity'].isna()]\n",
    "\n",
    "display(new)"
   ]
  }
 ],
 "metadata": {
  "kernelspec": {
   "display_name": "Python 3 (ipykernel)",
   "language": "python",
   "name": "python3"
  },
  "language_info": {
   "codemirror_mode": {
    "name": "ipython",
    "version": 3
   },
   "file_extension": ".py",
   "mimetype": "text/x-python",
   "name": "python",
   "nbconvert_exporter": "python",
   "pygments_lexer": "ipython3",
   "version": "3.9.0"
  }
 },
 "nbformat": 4,
 "nbformat_minor": 5
}
